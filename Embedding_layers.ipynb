{
  "nbformat": 4,
  "nbformat_minor": 0,
  "metadata": {
    "colab": {
      "name": "Embedding_layers.ipynb",
      "provenance": [],
      "authorship_tag": "ABX9TyNR7Mm2IF7dI4syoSZgY/3j",
      "include_colab_link": true
    },
    "kernelspec": {
      "name": "python3",
      "display_name": "Python 3"
    },
    "language_info": {
      "name": "python"
    }
  },
  "cells": [
    {
      "cell_type": "markdown",
      "metadata": {
        "id": "view-in-github",
        "colab_type": "text"
      },
      "source": [
        "<a href=\"https://colab.research.google.com/github/ginttone/multi_deeplearning/blob/master/Embedding_layers.ipynb\" target=\"_parent\"><img src=\"https://colab.research.google.com/assets/colab-badge.svg\" alt=\"Open In Colab\"/></a>"
      ]
    },
    {
      "cell_type": "markdown",
      "metadata": {
        "id": "_QvnRa4cu_DP"
      },
      "source": [
        "## DATASETS"
      ]
    },
    {
      "cell_type": "code",
      "metadata": {
        "id": "ztjuwG5Tu7ek"
      },
      "source": [
        "import numpy as np"
      ],
      "execution_count": 1,
      "outputs": []
    },
    {
      "cell_type": "markdown",
      "metadata": {
        "id": "Ma6KK59VvxAb"
      },
      "source": [
        "여자 : 4\n",
        "\n",
        "국왕 : 20"
      ]
    },
    {
      "cell_type": "code",
      "metadata": {
        "colab": {
          "base_uri": "https://localhost:8080/"
        },
        "id": "ZUhAECyDvFc2",
        "outputId": "3c437757-4938-451f-9dec-c4396317f029"
      },
      "source": [
        "x_data = np.array([[4],[20]])\n",
        "\n",
        "x_data , x_data.shape"
      ],
      "execution_count": 2,
      "outputs": [
        {
          "output_type": "execute_result",
          "data": {
            "text/plain": [
              "(array([[ 4],\n",
              "        [20]]), (2, 1))"
            ]
          },
          "metadata": {
            "tags": []
          },
          "execution_count": 2
        }
      ]
    },
    {
      "cell_type": "markdown",
      "metadata": {
        "id": "73vqYY8VtsWj"
      },
      "source": [
        "## Embedding \n",
        "\n",
        "```\n",
        "tf.keras.layers.Embedding(\n",
        "    input_dim, output_dim, embeddings_initializer='uniform',\n",
        "    embeddings_regularizer=None, activity_regularizer=None,\n",
        "    embeddings_constraint=None, mask_zero=False, input_length=None, **kwargs\n",
        ")\n",
        "```"
      ]
    },
    {
      "cell_type": "code",
      "metadata": {
        "id": "ucaUFOO8trGp"
      },
      "source": [
        "import tensorflow as tf"
      ],
      "execution_count": 3,
      "outputs": []
    },
    {
      "cell_type": "code",
      "metadata": {
        "id": "bQIoqNCguwu-"
      },
      "source": [
        "model = tf.keras.Sequential()"
      ],
      "execution_count": 4,
      "outputs": []
    },
    {
      "cell_type": "markdown",
      "metadata": {
        "id": "Deek6MBNwf6e"
      },
      "source": [
        "Input dim\n",
        "\n",
        "Embedding(50,2, input_legth=1)\n",
        "\n",
        "50,2 : 전체 차원 = 사전의 사이즈"
      ]
    },
    {
      "cell_type": "code",
      "metadata": {
        "id": "uzMlIu5-u0yR"
      },
      "source": [
        "model.add(tf.keras.layers.Embedding(50,2, input_length=1))"
      ],
      "execution_count": 6,
      "outputs": []
    },
    {
      "cell_type": "code",
      "metadata": {
        "id": "tLM7P8vpxe9w"
      },
      "source": [
        "model.compile(optimizer='adam', loss='mse')"
      ],
      "execution_count": 7,
      "outputs": []
    },
    {
      "cell_type": "markdown",
      "metadata": {
        "id": "CMQl1_N8yRDi"
      },
      "source": [
        "백터의 변화 모습 확인 가능 "
      ]
    },
    {
      "cell_type": "code",
      "metadata": {
        "colab": {
          "base_uri": "https://localhost:8080/"
        },
        "id": "27iwyKQuyDjr",
        "outputId": "26a0f53f-a13b-454d-c9c9-5802a7642275"
      },
      "source": [
        "model.predict(x_data)"
      ],
      "execution_count": 9,
      "outputs": [
        {
          "output_type": "execute_result",
          "data": {
            "text/plain": [
              "array([[[-0.01262603, -0.03543895]],\n",
              "\n",
              "       [[ 0.02092209, -0.00977042]]], dtype=float32)"
            ]
          },
          "metadata": {
            "tags": []
          },
          "execution_count": 9
        }
      ]
    },
    {
      "cell_type": "code",
      "metadata": {
        "id": "CehOIDgEyGow"
      },
      "source": [
        ""
      ],
      "execution_count": null,
      "outputs": []
    }
  ]
}