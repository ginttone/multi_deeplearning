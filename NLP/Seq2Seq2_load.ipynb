{
  "nbformat": 4,
  "nbformat_minor": 0,
  "metadata": {
    "colab": {
      "name": "Seq2Seq2_load.ipynb",
      "provenance": [],
      "collapsed_sections": [],
      "mount_file_id": "1K2W9YX_l9toquMs9qvfwDc66UGEmOZkj",
      "authorship_tag": "ABX9TyOisrQb9IYXEPkSfH5f6kOt",
      "include_colab_link": true
    },
    "kernelspec": {
      "name": "python3",
      "display_name": "Python 3"
    },
    "language_info": {
      "name": "python"
    }
  },
  "cells": [
    {
      "cell_type": "markdown",
      "metadata": {
        "id": "view-in-github",
        "colab_type": "text"
      },
      "source": [
        "<a href=\"https://colab.research.google.com/github/ginttone/multi_deeplearning/blob/master/NLP/Seq2Seq2_load.ipynb\" target=\"_parent\"><img src=\"https://colab.research.google.com/assets/colab-badge.svg\" alt=\"Open In Colab\"/></a>"
      ]
    },
    {
      "cell_type": "markdown",
      "metadata": {
        "id": "RavQ7zfMql6m"
      },
      "source": [
        "## load Datas"
      ]
    },
    {
      "cell_type": "code",
      "metadata": {
        "id": "eMQB5z4IXbqx"
      },
      "source": [
        "import numpy as np"
      ],
      "execution_count": 9,
      "outputs": []
    },
    {
      "cell_type": "code",
      "metadata": {
        "colab": {
          "base_uri": "https://localhost:8080/"
        },
        "id": "a8gwyha6Xjck",
        "outputId": "238d1eee-b34e-4eae-f8aa-68eb5d1fe686"
      },
      "source": [
        "index_inputs = np.load(open('./drive/MyDrive/Multi_test_deeplearning/train_inputs.npy','rb'))\n",
        "index_outputs = np.load(open('./drive/MyDrive/Multi_test_deeplearning/train_outputs.npy','rb'))\n",
        "index_targets = np.load(open('./drive/MyDrive/Multi_test_deeplearning/train_targets.npy','rb'))\n",
        "\n",
        "type(index_inputs),type(index_outputs),type(index_targets)"
      ],
      "execution_count": 14,
      "outputs": [
        {
          "output_type": "execute_result",
          "data": {
            "text/plain": [
              "(numpy.ndarray, numpy.ndarray, numpy.ndarray)"
            ]
          },
          "metadata": {},
          "execution_count": 14
        }
      ]
    },
    {
      "cell_type": "code",
      "metadata": {
        "colab": {
          "base_uri": "https://localhost:8080/"
        },
        "id": "3oq-k7akXwoR",
        "outputId": "f5c60849-a279-40a7-b542-1788f4c6a6e1"
      },
      "source": [
        "index_inputs[3:5]"
      ],
      "execution_count": 15,
      "outputs": [
        {
          "output_type": "execute_result",
          "data": {
            "text/plain": [
              "array([[ 20,  30, 107,   0,   0,   0,   0,   0,   0,   0,   0,   0,   0,\n",
              "          0,   0,   0,   0,   0,   0,   0,   0,   0,   0,   0,   0],\n",
              "       [ 93,   7,  79,   0,   0,   0,   0,   0,   0,   0,   0,   0,   0,\n",
              "          0,   0,   0,   0,   0,   0,   0,   0,   0,   0,   0,   0]])"
            ]
          },
          "metadata": {},
          "execution_count": 15
        }
      ]
    },
    {
      "cell_type": "code",
      "metadata": {
        "id": "vCUCp-iepqQ6"
      },
      "source": [
        "!python -m pip install konlpy"
      ],
      "execution_count": null,
      "outputs": []
    },
    {
      "cell_type": "markdown",
      "metadata": {
        "id": "YbrK32qcqVVp"
      },
      "source": [
        "preprocess.py 파일 로드"
      ]
    },
    {
      "cell_type": "code",
      "metadata": {
        "id": "dbjX7G9CYh-Y"
      },
      "source": [
        "import preprocess as pp"
      ],
      "execution_count": 20,
      "outputs": []
    },
    {
      "cell_type": "code",
      "metadata": {
        "id": "841MY0BhpoHC"
      },
      "source": [
        "prepro_configs = pp.json.load(open('./drive/MyDrive/Multi_test_deeplearning/data_configs.json','r'))"
      ],
      "execution_count": 21,
      "outputs": []
    },
    {
      "cell_type": "code",
      "metadata": {
        "colab": {
          "base_uri": "https://localhost:8080/"
        },
        "id": "7NiUmNNNqKxb",
        "outputId": "451715d7-908b-42eb-cda4-71965233a0f0"
      },
      "source": [
        "type(prepro_configs)"
      ],
      "execution_count": 22,
      "outputs": [
        {
          "output_type": "execute_result",
          "data": {
            "text/plain": [
              "dict"
            ]
          },
          "metadata": {},
          "execution_count": 22
        }
      ]
    },
    {
      "cell_type": "code",
      "metadata": {
        "colab": {
          "base_uri": "https://localhost:8080/"
        },
        "id": "_dHMbgO7qM5r",
        "outputId": "b1be1ebc-517f-4e4a-e597-93e6b7bfcacf"
      },
      "source": [
        "prepro_configs.keys()"
      ],
      "execution_count": 24,
      "outputs": [
        {
          "output_type": "execute_result",
          "data": {
            "text/plain": [
              "dict_keys(['char2idx', 'idx2char', 'vocab_size', 'pad_symbol', 'std_symbol', 'end_symbol', 'unk_symbol'])"
            ]
          },
          "metadata": {},
          "execution_count": 24
        }
      ]
    },
    {
      "cell_type": "markdown",
      "metadata": {
        "id": "U2JNVx_nqhhJ"
      },
      "source": [
        "## seq 2 seq - Model 만들기\n",
        "```\n",
        "Encoder -> context -> Decoder\n",
        "input                 input\n",
        "Embedding             Embedding\n",
        "LSTM                  LSTM\n",
        "```"
      ]
    },
    {
      "cell_type": "code",
      "metadata": {
        "id": "Z8cTfTnAqOTs"
      },
      "source": [
        "import tensorflow as tf"
      ],
      "execution_count": 25,
      "outputs": []
    },
    {
      "cell_type": "markdown",
      "metadata": {
        "id": "x2j4LpkvtxY0"
      },
      "source": [
        "### Encode model"
      ]
    },
    {
      "cell_type": "code",
      "metadata": {
        "id": "yny5Fm4xuL5G"
      },
      "source": [
        "vocab_size = prepro_configs['vocab_size']"
      ],
      "execution_count": 30,
      "outputs": []
    },
    {
      "cell_type": "code",
      "metadata": {
        "id": "mJqNc4i9uVbd"
      },
      "source": [
        "latent_dim = 60"
      ],
      "execution_count": 31,
      "outputs": []
    },
    {
      "cell_type": "code",
      "metadata": {
        "id": "LXiV1mUVqwlU"
      },
      "source": [
        "encode_input = tf.keras.Input(shape = (None,))"
      ],
      "execution_count": 32,
      "outputs": []
    },
    {
      "cell_type": "code",
      "metadata": {
        "id": "1al4VGDet9G7"
      },
      "source": [
        "encode_hidden = tf.keras.layers.Embedding(input_dim=vocab_size, output_dim=latent_dim)(encode_input)"
      ],
      "execution_count": 33,
      "outputs": []
    },
    {
      "cell_type": "markdown",
      "metadata": {
        "id": "TKlz1QqPvSGw"
      },
      "source": [
        "return_state=True 해주면 parameter(자기상태값)가 3개가 날라온다. \n"
      ]
    },
    {
      "cell_type": "code",
      "metadata": {
        "id": "MpqZaUmwuZZZ"
      },
      "source": [
        "encode_output, state_h, state_c = tf.keras.layers.LSTM(50, return_state=True)(encode_hidden)"
      ],
      "execution_count": 34,
      "outputs": []
    },
    {
      "cell_type": "code",
      "metadata": {
        "id": "i6ZZZ7eVvjGo"
      },
      "source": [
        "encode_states = [state_h , state_c]"
      ],
      "execution_count": 35,
      "outputs": []
    },
    {
      "cell_type": "markdown",
      "metadata": {
        "id": "ZMGafFcZv2XG"
      },
      "source": [
        "### Decode model\n"
      ]
    },
    {
      "cell_type": "code",
      "metadata": {
        "id": "wxFS4opkvvyX"
      },
      "source": [
        "decode_input = tf.keras.Input(shape=(None,))"
      ],
      "execution_count": 40,
      "outputs": []
    },
    {
      "cell_type": "code",
      "metadata": {
        "id": "37jDIfnMyTux"
      },
      "source": [
        "decode_hidden = tf.keras.layers.Embedding(input_dim = vocab_size ,output_dim = latent_dim)(decode_input)"
      ],
      "execution_count": 41,
      "outputs": []
    },
    {
      "cell_type": "code",
      "metadata": {
        "id": "19uijPy9yVQo"
      },
      "source": [
        "decode_LSTM, _,_ = tf.keras.layers.LSTM(50,return_state = True, return_sequences=True)(decode_hidden,initial_state = encode_states)"
      ],
      "execution_count": 42,
      "outputs": []
    },
    {
      "cell_type": "markdown",
      "metadata": {
        "id": "uNVBJ9DCykXz"
      },
      "source": [
        "입력과 출력이 모두 target vocab size만큼 나옴"
      ]
    },
    {
      "cell_type": "code",
      "metadata": {
        "id": "XylMKDGayWtv"
      },
      "source": [
        "decode_output = tf.keras.layers.Dense(vocab_size, activation='softmax')(decode_LSTM)"
      ],
      "execution_count": 44,
      "outputs": []
    },
    {
      "cell_type": "code",
      "metadata": {
        "id": "FWsKx4QTzOW3"
      },
      "source": [
        "model = tf.keras.models.Model(inputs=[encode_input,decode_input], outputs = decode_output)"
      ],
      "execution_count": 45,
      "outputs": []
    },
    {
      "cell_type": "code",
      "metadata": {
        "colab": {
          "base_uri": "https://localhost:8080/",
          "height": 466
        },
        "id": "jqlHjMEb0Yto",
        "outputId": "d0cf3ea6-7580-4730-cad9-d76c39413532"
      },
      "source": [
        "tf.keras.utils.plot_model(model)"
      ],
      "execution_count": 46,
      "outputs": [
        {
          "output_type": "execute_result",
          "data": {
            "image/png": "[encoded data removed]",
            "text/plain": [
              "<IPython.core.display.Image object>"
            ]
          },
          "metadata": {},
          "execution_count": 46
        }
      ]
    },
    {
      "cell_type": "code",
      "metadata": {
        "id": "YRGpXxVL0gQY"
      },
      "source": [
        ""
      ],
      "execution_count": null,
      "outputs": []
    }
  ]
}