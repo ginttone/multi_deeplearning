{
  "nbformat": 4,
  "nbformat_minor": 0,
  "metadata": {
    "colab": {
      "name": "countvectorizer.ipynb",
      "provenance": [],
      "collapsed_sections": [],
      "mount_file_id": "1e514zzhDbNi-Ip_34kiej1FsEVLKiAD2",
      "authorship_tag": "ABX9TyOZdG2Ek3s1pOhML/+TAuvb",
      "include_colab_link": true
    },
    "kernelspec": {
      "name": "python3",
      "display_name": "Python 3"
    },
    "language_info": {
      "name": "python"
    }
  },
  "cells": [
    {
      "cell_type": "markdown",
      "metadata": {
        "id": "view-in-github",
        "colab_type": "text"
      },
      "source": [
        "<a href=\"https://colab.research.google.com/github/ginttone/multi_deeplearning/blob/master/countvectorizer.ipynb\" target=\"_parent\"><img src=\"https://colab.research.google.com/assets/colab-badge.svg\" alt=\"Open In Colab\"/></a>"
      ]
    },
    {
      "cell_type": "markdown",
      "metadata": {
        "id": "K7izDVgyCxUb"
      },
      "source": [
        "## 데이터 가져오기"
      ]
    },
    {
      "cell_type": "code",
      "metadata": {
        "id": "x935a969BGrO"
      },
      "source": [
        "import pandas as pd"
      ],
      "execution_count": 1,
      "outputs": []
    },
    {
      "cell_type": "code",
      "metadata": {
        "colab": {
          "base_uri": "https://localhost:8080/",
          "height": 707
        },
        "id": "Hdbk_hK8BkFC",
        "outputId": "6acf8cbf-692c-4036-ebe7-398039c4e667"
      },
      "source": [
        "df = pd.read_csv('./drive/MyDrive/Multi_test_deeplearning/smtph_total.csv')\n",
        "df.head(5)"
      ],
      "execution_count": 2,
      "outputs": [
        {
          "output_type": "execute_result",
          "data": {
            "text/html": [
              "<div>\n",
              "<style scoped>\n",
              "    .dataframe tbody tr th:only-of-type {\n",
              "        vertical-align: middle;\n",
              "    }\n",
              "\n",
              "    .dataframe tbody tr th {\n",
              "        vertical-align: top;\n",
              "    }\n",
              "\n",
              "    .dataframe thead th {\n",
              "        text-align: right;\n",
              "    }\n",
              "</style>\n",
              "<table border=\"1\" class=\"dataframe\">\n",
              "  <thead>\n",
              "    <tr style=\"text-align: right;\">\n",
              "      <th></th>\n",
              "      <th>Title</th>\n",
              "      <th>Link</th>\n",
              "      <th>Description</th>\n",
              "      <th>Blogger Name</th>\n",
              "      <th>Blogger Link</th>\n",
              "      <th>Post Date</th>\n",
              "      <th>Post Contents</th>\n",
              "    </tr>\n",
              "  </thead>\n",
              "  <tbody>\n",
              "    <tr>\n",
              "      <th>0</th>\n",
              "      <td>갤럭시 Z 플립과 한 달, 접는 스마트폰의 가치만 남다</td>\n",
              "      <td>https://chitsol.com/entry/galaxy_z_flip_review/</td>\n",
              "      <td>반으로 접을 수 있는 갤럭시 Z 플립이 접지 않는 스마트폰과 얼마나 다른 경험인가를...</td>\n",
              "      <td>https://chitsol.com/</td>\n",
              "      <td>https://chitsol.com/</td>\n",
              "      <td>20210712</td>\n",
              "      <td>NaN</td>\n",
              "    </tr>\n",
              "    <tr>\n",
              "      <th>1</th>\n",
              "      <td>스마트폰 삼각대 추천 내돈내산 리뷰</td>\n",
              "      <td>https://blog.naver.com/kimhw1020?Redirect=Log&amp;...</td>\n",
              "      <td>그래서 스마트폰 삼각대 추천 하는 제품을 구매하게 된 것 같아요. 2018년 4월 ...</td>\n",
              "      <td>진돗개 솜이랑 언니랑</td>\n",
              "      <td>https://blog.naver.com/kimhw1020</td>\n",
              "      <td>20210720</td>\n",
              "      <td>\\n\\n\\n\\n\\n\\n\\n솜이언니 일상\\n\\n\\n\\n\\n스마트폰 삼각대 추천 내돈내...</td>\n",
              "    </tr>\n",
              "    <tr>\n",
              "      <th>2</th>\n",
              "      <td>귀여운 스마트폰 거치대 + 아이폰 케이스(다이소 비교)</td>\n",
              "      <td>https://blog.naver.com/logix200?Redirect=Log&amp;l...</td>\n",
              "      <td>스마트폰 거치대 홀더 &amp;quot;아이폰 케이스도 졸.귀.탱&amp;quot; 안녕하세요. ...</td>\n",
              "      <td>옥희돌이 칩시크족</td>\n",
              "      <td>https://blog.naver.com/logix200</td>\n",
              "      <td>20210802</td>\n",
              "      <td>\\n\\n\\n\\n\\n\\n\\n일반 수령기\\n\\n\\n\\n\\n귀여운 스마트폰 거치대 + 아...</td>\n",
              "    </tr>\n",
              "    <tr>\n",
              "      <th>3</th>\n",
              "      <td>베스틴 원패스 스마트폰 어플, 아이파크 공동 현관문 핸드폰 연동</td>\n",
              "      <td>https://blog.naver.com/july7th73?Redirect=Log&amp;...</td>\n",
              "      <td>요즘 신축 아파트들은 대부분 IoT 스마트 기기들을 이용한 출입시스템을 도입, 각종...</td>\n",
              "      <td>수연아빠의 야구장 출동 (개포맘모스)</td>\n",
              "      <td>https://blog.naver.com/july7th73</td>\n",
              "      <td>20210816</td>\n",
              "      <td>\\n\\n\\n\\n\\n\\n\\n파워리뷰즐기기\\n\\n\\n\\n\\n베스틴 원패스 스마트폰 어플...</td>\n",
              "    </tr>\n",
              "    <tr>\n",
              "      <th>4</th>\n",
              "      <td>대전스마트폰복구 삭제나 고장도 걱정없이</td>\n",
              "      <td>https://blog.naver.com/jcy0207?Redirect=Log&amp;lo...</td>\n",
              "      <td>바쁜 현대인들의 곁에서 어디서든 일상을 함께하는 스마트폰은 한순간도 뗄레야 뗄 수 ...</td>\n",
              "      <td>모아의 교육정보 모아모아</td>\n",
              "      <td>https://blog.naver.com/jcy0207</td>\n",
              "      <td>20210609</td>\n",
              "      <td>\\n\\n안녕하세요 모아입니다.바쁜 현대인들의 곁에서어디서든 일상을 함께하는 스마트폰...</td>\n",
              "    </tr>\n",
              "  </tbody>\n",
              "</table>\n",
              "</div>"
            ],
            "text/plain": [
              "                                 Title  ...                                      Post Contents\n",
              "0       갤럭시 Z 플립과 한 달, 접는 스마트폰의 가치만 남다  ...                                                NaN\n",
              "1                  스마트폰 삼각대 추천 내돈내산 리뷰  ...  \\n\\n\\n\\n\\n\\n\\n솜이언니 일상\\n\\n\\n\\n\\n스마트폰 삼각대 추천 내돈내...\n",
              "2       귀여운 스마트폰 거치대 + 아이폰 케이스(다이소 비교)  ...  \\n\\n\\n\\n\\n\\n\\n일반 수령기\\n\\n\\n\\n\\n귀여운 스마트폰 거치대 + 아...\n",
              "3  베스틴 원패스 스마트폰 어플, 아이파크 공동 현관문 핸드폰 연동  ...  \\n\\n\\n\\n\\n\\n\\n파워리뷰즐기기\\n\\n\\n\\n\\n베스틴 원패스 스마트폰 어플...\n",
              "4                대전스마트폰복구 삭제나 고장도 걱정없이  ...  \\n\\n안녕하세요 모아입니다.바쁜 현대인들의 곁에서어디서든 일상을 함께하는 스마트폰...\n",
              "\n",
              "[5 rows x 7 columns]"
            ]
          },
          "metadata": {},
          "execution_count": 2
        }
      ]
    },
    {
      "cell_type": "code",
      "metadata": {
        "colab": {
          "base_uri": "https://localhost:8080/"
        },
        "id": "iMaYAQRYCHVC",
        "outputId": "06db6cd6-1992-493a-d951-ea3e99b4ecb5"
      },
      "source": [
        "df.columns"
      ],
      "execution_count": 3,
      "outputs": [
        {
          "output_type": "execute_result",
          "data": {
            "text/plain": [
              "Index(['Title', 'Link', 'Description', 'Blogger Name', 'Blogger Link',\n",
              "       'Post Date', 'Post Contents'],\n",
              "      dtype='object')"
            ]
          },
          "metadata": {},
          "execution_count": 3
        }
      ]
    },
    {
      "cell_type": "code",
      "metadata": {
        "colab": {
          "base_uri": "https://localhost:8080/"
        },
        "id": "Stu5wgLXBxxj",
        "outputId": "a8fbfa30-8a38-41d9-b901-4a714002875f"
      },
      "source": [
        "posts = df['Title']+['Description']\n",
        "type(posts),posts"
      ],
      "execution_count": 4,
      "outputs": [
        {
          "output_type": "execute_result",
          "data": {
            "text/plain": [
              "(pandas.core.series.Series,\n",
              " 0              갤럭시 Z 플립과 한 달, 접는 스마트폰의 가치만 남다Description\n",
              " 1                         스마트폰 삼각대 추천 내돈내산 리뷰Description\n",
              " 2              귀여운 스마트폰 거치대 + 아이폰 케이스(다이소 비교)Description\n",
              " 3         베스틴 원패스 스마트폰 어플, 아이파크 공동 현관문 핸드폰 연동Description\n",
              " 4                       대전스마트폰복구 삭제나 고장도 걱정없이Description\n",
              "                              ...                        \n",
              " 995    스마트폰의 &quot;배터리 수명&quot;을 걱정하지 않아도 좋은 이유Descri...\n",
              " 996                  세상을 스마트폰 카메라로 검색하는 구글 렌즈Description\n",
              " 997              스마트폰과 연동되는 장난감 로봇, 샤오미 로봇청소기Description\n",
              " 998            KT 단독 보급형 스마트폰 갤럭시진 블랙 특징 사용후기Description\n",
              " 999          화웨이 트리플카메라 스마트폰 P20프로, 카메라 스펙 분석Description\n",
              " Name: Title, Length: 1000, dtype: object)"
            ]
          },
          "metadata": {},
          "execution_count": 4
        }
      ]
    },
    {
      "cell_type": "markdown",
      "metadata": {
        "id": "7GXLfc3RCpJz"
      },
      "source": [
        "## 단어로 쪼개기"
      ]
    },
    {
      "cell_type": "code",
      "metadata": {
        "colab": {
          "base_uri": "https://localhost:8080/"
        },
        "id": "APJhqSoTCO0-",
        "outputId": "4d38e368-d7b2-4bf4-9066-818c733dd136"
      },
      "source": [
        "!python3 -m pip install konlpy"
      ],
      "execution_count": 5,
      "outputs": [
        {
          "output_type": "stream",
          "text": [
            "Collecting konlpy\n",
            "  Downloading konlpy-0.5.2-py2.py3-none-any.whl (19.4 MB)\n",
            "\u001b[K     |████████████████████████████████| 19.4 MB 5.6 MB/s \n",
            "\u001b[?25hRequirement already satisfied: tweepy>=3.7.0 in /usr/local/lib/python3.7/dist-packages (from konlpy) (3.10.0)\n",
            "Requirement already satisfied: lxml>=4.1.0 in /usr/local/lib/python3.7/dist-packages (from konlpy) (4.2.6)\n",
            "Collecting beautifulsoup4==4.6.0\n",
            "  Downloading beautifulsoup4-4.6.0-py3-none-any.whl (86 kB)\n",
            "\u001b[K     |████████████████████████████████| 86 kB 5.0 MB/s \n",
            "\u001b[?25hRequirement already satisfied: numpy>=1.6 in /usr/local/lib/python3.7/dist-packages (from konlpy) (1.19.5)\n",
            "Collecting JPype1>=0.7.0\n",
            "  Downloading JPype1-1.3.0-cp37-cp37m-manylinux_2_5_x86_64.manylinux1_x86_64.whl (448 kB)\n",
            "\u001b[K     |████████████████████████████████| 448 kB 59.5 MB/s \n",
            "\u001b[?25hCollecting colorama\n",
            "  Downloading colorama-0.4.4-py2.py3-none-any.whl (16 kB)\n",
            "Requirement already satisfied: typing-extensions in /usr/local/lib/python3.7/dist-packages (from JPype1>=0.7.0->konlpy) (3.7.4.3)\n",
            "Requirement already satisfied: requests-oauthlib>=0.7.0 in /usr/local/lib/python3.7/dist-packages (from tweepy>=3.7.0->konlpy) (1.3.0)\n",
            "Requirement already satisfied: six>=1.10.0 in /usr/local/lib/python3.7/dist-packages (from tweepy>=3.7.0->konlpy) (1.15.0)\n",
            "Requirement already satisfied: requests[socks]>=2.11.1 in /usr/local/lib/python3.7/dist-packages (from tweepy>=3.7.0->konlpy) (2.23.0)\n",
            "Requirement already satisfied: oauthlib>=3.0.0 in /usr/local/lib/python3.7/dist-packages (from requests-oauthlib>=0.7.0->tweepy>=3.7.0->konlpy) (3.1.1)\n",
            "Requirement already satisfied: chardet<4,>=3.0.2 in /usr/local/lib/python3.7/dist-packages (from requests[socks]>=2.11.1->tweepy>=3.7.0->konlpy) (3.0.4)\n",
            "Requirement already satisfied: urllib3!=1.25.0,!=1.25.1,<1.26,>=1.21.1 in /usr/local/lib/python3.7/dist-packages (from requests[socks]>=2.11.1->tweepy>=3.7.0->konlpy) (1.24.3)\n",
            "Requirement already satisfied: certifi>=2017.4.17 in /usr/local/lib/python3.7/dist-packages (from requests[socks]>=2.11.1->tweepy>=3.7.0->konlpy) (2021.5.30)\n",
            "Requirement already satisfied: idna<3,>=2.5 in /usr/local/lib/python3.7/dist-packages (from requests[socks]>=2.11.1->tweepy>=3.7.0->konlpy) (2.10)\n",
            "Requirement already satisfied: PySocks!=1.5.7,>=1.5.6 in /usr/local/lib/python3.7/dist-packages (from requests[socks]>=2.11.1->tweepy>=3.7.0->konlpy) (1.7.1)\n",
            "Installing collected packages: JPype1, colorama, beautifulsoup4, konlpy\n",
            "  Attempting uninstall: beautifulsoup4\n",
            "    Found existing installation: beautifulsoup4 4.6.3\n",
            "    Uninstalling beautifulsoup4-4.6.3:\n",
            "      Successfully uninstalled beautifulsoup4-4.6.3\n",
            "Successfully installed JPype1-1.3.0 beautifulsoup4-4.6.0 colorama-0.4.4 konlpy-0.5.2\n"
          ],
          "name": "stdout"
        }
      ]
    },
    {
      "cell_type": "code",
      "metadata": {
        "id": "-V-7-AMZCjCR"
      },
      "source": [
        "from konlpy.tag import Okt"
      ],
      "execution_count": 6,
      "outputs": []
    },
    {
      "cell_type": "code",
      "metadata": {
        "id": "0oq_nQ4kDM8o"
      },
      "source": [
        "okt = Okt()"
      ],
      "execution_count": 7,
      "outputs": []
    },
    {
      "cell_type": "code",
      "metadata": {
        "id": "TVrAfOr6EQdz"
      },
      "source": [
        "stop_words = ['강,', '글,', '애', '미', '번', '은', '이', '것', '등', '더', '를', '좀', '즉', '인', '옹', '때', '만', '원', '이때', '개']"
      ],
      "execution_count": 8,
      "outputs": []
    },
    {
      "cell_type": "code",
      "metadata": {
        "colab": {
          "base_uri": "https://localhost:8080/"
        },
        "id": "0n6NBz9SDQYF",
        "outputId": "9cd11786-4a29-4643-9cdf-e6754536c82b"
      },
      "source": [
        "posts_noun = []\n",
        "for post in posts:\n",
        "  #print(okt.nouns(post))\n",
        "  for noun in okt.nouns(post):\n",
        "    posts_noun.append(noun)\n",
        "\n",
        "len(posts_noun)"
      ],
      "execution_count": 9,
      "outputs": [
        {
          "output_type": "execute_result",
          "data": {
            "text/plain": [
              "6083"
            ]
          },
          "metadata": {},
          "execution_count": 9
        }
      ]
    },
    {
      "cell_type": "code",
      "metadata": {
        "id": "vfkvejxsWP3v",
        "colab": {
          "base_uri": "https://localhost:8080/"
        },
        "outputId": "f33d960a-dffc-499d-c061-73a12ca1ac39"
      },
      "source": [
        "posts_noun"
      ],
      "execution_count": 10,
      "outputs": [
        {
          "output_type": "execute_result",
          "data": {
            "text/plain": [
              "['갤럭시',\n",
              " '플립',\n",
              " '달',\n",
              " '스마트폰',\n",
              " '가치',\n",
              " '스마트폰',\n",
              " '삼각대',\n",
              " '추천',\n",
              " '돈',\n",
              " '산',\n",
              " '리뷰',\n",
              " '스마트폰',\n",
              " '거치',\n",
              " '아이폰',\n",
              " '케이스',\n",
              " '다이소',\n",
              " '비교',\n",
              " '베스',\n",
              " '틴',\n",
              " '패스',\n",
              " '스마트폰',\n",
              " '어플',\n",
              " '아이파크',\n",
              " '공동',\n",
              " '현관문',\n",
              " '핸드폰',\n",
              " '연동',\n",
              " '대전',\n",
              " '스마트폰',\n",
              " '복구',\n",
              " '삭제',\n",
              " '고장',\n",
              " '걱정',\n",
              " '스마트폰',\n",
              " '삼성',\n",
              " '갤럭시',\n",
              " '플립',\n",
              " '언박싱',\n",
              " '후기',\n",
              " '스마트폰',\n",
              " '카메라',\n",
              " '삼각대',\n",
              " '앱코',\n",
              " '완전',\n",
              " '삼성',\n",
              " '갤럭시',\n",
              " '노트',\n",
              " '가격',\n",
              " '매력',\n",
              " '스마트폰',\n",
              " '스마트폰',\n",
              " '시네마',\n",
              " '동영상',\n",
              " '촬영',\n",
              " '법',\n",
              " '해상도',\n",
              " '설정',\n",
              " '법',\n",
              " '선택',\n",
              " '가이드',\n",
              " '휴대폰',\n",
              " '바이러스',\n",
              " '검사',\n",
              " '갤럭시',\n",
              " '스마트폰',\n",
              " '기본',\n",
              " '기능',\n",
              " '시간',\n",
              " '스마트폰',\n",
              " '사용',\n",
              " '공부',\n",
              " '방해',\n",
              " '이유',\n",
              " '카카오',\n",
              " '톡',\n",
              " '용량',\n",
              " '스마트폰',\n",
              " '저장',\n",
              " '공간',\n",
              " '관리',\n",
              " '스마트폰',\n",
              " '관련',\n",
              " '주',\n",
              " '정리',\n",
              " '포르쉐',\n",
              " '카레라',\n",
              " '스마트폰',\n",
              " '무선',\n",
              " '충전',\n",
              " '거치',\n",
              " '매립',\n",
              " '삼성',\n",
              " '갤럭시',\n",
              " '스마트폰',\n",
              " '배터리',\n",
              " '수명',\n",
              " '성능',\n",
              " '확인',\n",
              " '방법',\n",
              " '우리',\n",
              " '일상',\n",
              " '스마트폰',\n",
              " '스몸비',\n",
              " '현상',\n",
              " '무엇',\n",
              " '키',\n",
              " '프리',\n",
              " '카',\n",
              " '스마트폰',\n",
              " '격',\n",
              " '시동',\n",
              " '스마트폰',\n",
              " '언닌',\n",
              " '또',\n",
              " '곳',\n",
              " '휴대폰',\n",
              " '연결',\n",
              " '사용',\n",
              " '윈도우',\n",
              " '스마트폰',\n",
              " '연결',\n",
              " '손가락',\n",
              " '염좌',\n",
              " '증상',\n",
              " '스마트폰',\n",
              " '사용',\n",
              " '원인',\n",
              " '수',\n",
              " '스마트폰',\n",
              " '삼각대',\n",
              " '셀',\n",
              " '루미',\n",
              " '셀카',\n",
              " '봉',\n",
              " '브이',\n",
              " '로그',\n",
              " '완성',\n",
              " '유튜브',\n",
              " '촬영',\n",
              " '스마트폰',\n",
              " '핀',\n",
              " '마이크',\n",
              " '솜',\n",
              " '윈드',\n",
              " '쉴드',\n",
              " '집게',\n",
              " '베스트',\n",
              " '로딩',\n",
              " '여행',\n",
              " '용',\n",
              " '삼각대',\n",
              " '스마트폰',\n",
              " '카메라',\n",
              " '스마트폰',\n",
              " '삼각대',\n",
              " '추천',\n",
              " '걸',\n",
              " '정착',\n",
              " '함',\n",
              " '다기',\n",
              " '능',\n",
              " '스마트폰',\n",
              " '카메라',\n",
              " '셔터',\n",
              " '아이',\n",
              " '스마트폰',\n",
              " '자꾸',\n",
              " '다음',\n",
              " '스마트폰',\n",
              " '디자인',\n",
              " '폴',\n",
              " '더블',\n",
              " '끝',\n",
              " '다른',\n",
              " '디자인',\n",
              " '만화',\n",
              " '상회',\n",
              " '스마트폰',\n",
              " '시계',\n",
              " '초소',\n",
              " '인테리어',\n",
              " '완성',\n",
              " '어르신',\n",
              " '맞춤',\n",
              " '스마트폰',\n",
              " '스마트폰',\n",
              " '케이스',\n",
              " '아이폰',\n",
              " '휴대폰',\n",
              " '스마트폰',\n",
              " '클리',\n",
              " '너',\n",
              " '필터',\n",
              " '온',\n",
              " '일회용',\n",
              " '멀티',\n",
              " '클리',\n",
              " '너',\n",
              " '스마트폰',\n",
              " '중독',\n",
              " '우리',\n",
              " '몸',\n",
              " '영향',\n",
              " '스마트폰',\n",
              " '스마트폰',\n",
              " '사용',\n",
              " '시간',\n",
              " '법',\n",
              " '핸드폰',\n",
              " '유튜브',\n",
              " '중독',\n",
              " '역광',\n",
              " '촬영',\n",
              " '스마트폰',\n",
              " '비교',\n",
              " '스마트폰',\n",
              " '카메라',\n",
              " '삼각대',\n",
              " '하나로',\n",
              " '스마트폰',\n",
              " '사진',\n",
              " '사진',\n",
              " '보정',\n",
              " '꿀팁',\n",
              " '갤럭시',\n",
              " '울트라',\n",
              " '안정감',\n",
              " '스마트폰',\n",
              " '삼각대',\n",
              " '촬영',\n",
              " '완료',\n",
              " '포토',\n",
              " '부담',\n",
              " '여행',\n",
              " '용',\n",
              " '삼각대',\n",
              " '카메라',\n",
              " '스마트폰',\n",
              " '모두',\n",
              " '핸드폰',\n",
              " '톡',\n",
              " '스마트폰',\n",
              " '톡',\n",
              " '제로',\n",
              " '스킨',\n",
              " '스마트폰',\n",
              " '밤새',\n",
              " '충전',\n",
              " '수명',\n",
              " '창원',\n",
              " '스마트폰',\n",
              " '복구',\n",
              " '진해',\n",
              " '양산',\n",
              " '해결',\n",
              " '블루투스',\n",
              " '셀카',\n",
              " '봉',\n",
              " '스마트폰',\n",
              " '거치',\n",
              " '삼각대',\n",
              " '셔터',\n",
              " '단',\n",
              " '삼각대',\n",
              " '다이소',\n",
              " '스마트폰',\n",
              " '삼각대',\n",
              " '비슷',\n",
              " '갤럭시',\n",
              " '슬라이드',\n",
              " '삼성',\n",
              " '롤러',\n",
              " '블',\n",
              " '스마트폰',\n",
              " '스마트폰',\n",
              " '스탠드',\n",
              " '내장',\n",
              " '독',\n",
              " '번역',\n",
              " '격',\n",
              " '시동',\n",
              " '경보기',\n",
              " '설치',\n",
              " '스마트폰',\n",
              " '거세',\n",
              " '스마트폰',\n",
              " '강의',\n",
              " '시',\n",
              " '미러링',\n",
              " '삼성',\n",
              " '플로우',\n",
              " '구축',\n",
              " '스마트폰',\n",
              " '촬영',\n",
              " '사진',\n",
              " '재미',\n",
              " '엘란',\n",
              " '작가',\n",
              " '스마트폰',\n",
              " '사진',\n",
              " '법',\n",
              " '스마트폰',\n",
              " '화상',\n",
              " '카메라',\n",
              " '개봉',\n",
              " '용기',\n",
              " '좀비',\n",
              " '스마트폰',\n",
              " '사랑',\n",
              " '스마트폰',\n",
              " '과',\n",
              " '의존',\n",
              " '기보',\n",
              " '세상',\n",
              " '발명품',\n",
              " '스마트폰',\n",
              " '현미경',\n",
              " '스마트폰',\n",
              " '등장',\n",
              " '셀',\n",
              " '루미',\n",
              " '셀카',\n",
              " '봉',\n",
              " '브이',\n",
              " '로그',\n",
              " '스마트폰',\n",
              " '삼각대',\n",
              " '고릴라',\n",
              " '포드',\n",
              " '하나로',\n",
              " '짐벌',\n",
              " '카메라',\n",
              " '스마트폰',\n",
              " '브이',\n",
              " '로그',\n",
              " '삼각대',\n",
              " '추천',\n",
              " '애견',\n",
              " '산책',\n",
              " '동안',\n",
              " '스마트',\n",
              " '폰',\n",
              " '금지',\n",
              " '드론',\n",
              " '폰',\n",
              " '자체',\n",
              " '드론',\n",
              " '카메라',\n",
              " '탑재',\n",
              " '스마트폰',\n",
              " '컨셉',\n",
              " '판매',\n",
              " '파이크',\n",
              " '브롬',\n",
              " '톤',\n",
              " '심플',\n",
              " '마운트',\n",
              " '민',\n",
              " '스마트폰',\n",
              " '등',\n",
              " '스마트폰',\n",
              " '이면',\n",
              " '핸드폰',\n",
              " '사진',\n",
              " '강의',\n",
              " '온라인',\n",
              " '스마트폰',\n",
              " '강의',\n",
              " '시',\n",
              " '미러링',\n",
              " '팀뷰어',\n",
              " '업데이트',\n",
              " '스마트폰',\n",
              " '황금기',\n",
              " '차량',\n",
              " '용',\n",
              " '핸드폰',\n",
              " '거치',\n",
              " '컵홀더',\n",
              " '스마트폰',\n",
              " '고속',\n",
              " '충전기',\n",
              " '제노',\n",
              " '믹스',\n",
              " '핸드폰',\n",
              " '스마트폰',\n",
              " '사진',\n",
              " '법',\n",
              " '강의',\n",
              " '온라인',\n",
              " '발뮤',\n",
              " '다가',\n",
              " '스마트폰',\n",
              " '펜',\n",
              " '아시안',\n",
              " '에버그린',\n",
              " '시니어',\n",
              " '센터',\n",
              " '스마트폰',\n",
              " '컴퓨터',\n",
              " '워크샵',\n",
              " '스마트폰',\n",
              " '방수',\n",
              " '팩',\n",
              " '주파',\n",
              " '집',\n",
              " '아이폰',\n",
              " '방수',\n",
              " '케이스',\n",
              " '용기',\n",
              " '스마트폰',\n",
              " '해킹',\n",
              " '예방',\n",
              " '방법',\n",
              " '만화',\n",
              " '제작',\n",
              " '핸드폰',\n",
              " '크로스',\n",
              " '퀄',\n",
              " '스마트폰',\n",
              " '가방',\n",
              " '추천',\n",
              " '인터넷',\n",
              " '스마트폰',\n",
              " '과',\n",
              " '의존',\n",
              " '예방',\n",
              " '간담',\n",
              " '회',\n",
              " '개최',\n",
              " '코로나',\n",
              " '백신',\n",
              " '예약',\n",
              " '스마트폰',\n",
              " '스마트폰',\n",
              " '이제',\n",
              " '아이폰',\n",
              " '페이스타임',\n",
              " '안드로이드',\n",
              " '스마트폰',\n",
              " '사용',\n",
              " '방법',\n",
              " '스마트폰',\n",
              " '샤오미',\n",
              " '믹스',\n",
              " '내',\n",
              " '컴퓨터',\n",
              " '갤럭시',\n",
              " '스마트폰',\n",
              " '무선',\n",
              " '나',\n",
              " '바지오',\n",
              " '해변',\n",
              " '절경',\n",
              " '스마트폰',\n",
              " '돌발',\n",
              " '추락',\n",
              " '스마트폰',\n",
              " '구글',\n",
              " '픽셀',\n",
              " '국내',\n",
              " '스마트폰',\n",
              " '시장',\n",
              " '분석',\n",
              " '기사',\n",
              " '스마트폰',\n",
              " '카메라',\n",
              " '렌즈',\n",
              " '용',\n",
              " '코닝',\n",
              " '고릴라글래스',\n",
              " '화면',\n",
              " '스마트폰',\n",
              " '손',\n",
              " '크기',\n",
              " '퀄컴',\n",
              " '팬',\n",
              " '위해',\n",
              " '스마트폰',\n",
              " '유튜브',\n",
              " '스마트폰',\n",
              " '바로',\n",
              " '방법',\n",
              " '스마트폰',\n",
              " '액손',\n",
              " '스마트폰',\n",
              " '삼성',\n",
              " '갤럭시',\n",
              " '나초',\n",
              " '아이폰',\n",
              " '자급',\n",
              " '제',\n",
              " '스마트폰',\n",
              " '개봉',\n",
              " '기',\n",
              " '스마트폰',\n",
              " '삼성',\n",
              " '갤럭시',\n",
              " '이',\n",
              " '가격',\n",
              " '실화',\n",
              " '놀란',\n",
              " '다이소',\n",
              " '스마트폰',\n",
              " '삼각대',\n",
              " '전자',\n",
              " '적',\n",
              " '샤오미',\n",
              " '스마트폰',\n",
              " '점유',\n",
              " '율',\n",
              " '위',\n",
              " '오르다',\n",
              " '내',\n",
              " '손',\n",
              " '안',\n",
              " '스마트폰',\n",
              " '유튜브',\n",
              " '동영상',\n",
              " '제작',\n",
              " '강의',\n",
              " '진행',\n",
              " '내',\n",
              " '손',\n",
              " '안',\n",
              " '스마트폰',\n",
              " '유튜브',\n",
              " '동영상',\n",
              " '제작',\n",
              " '강의',\n",
              " '진행',\n",
              " '스마트폰',\n",
              " '노키아',\n",
              " '스마트폰',\n",
              " '오포',\n",
              " '리노',\n",
              " '스마트폰',\n",
              " '구글',\n",
              " '픽셀',\n",
              " '스마트폰',\n",
              " '삼성',\n",
              " '갤럭시',\n",
              " '차',\n",
              " '키',\n",
              " '스마트폰',\n",
              " '카버샵',\n",
              " '더컵',\n",
              " '실',\n",
              " '사용',\n",
              " '후기',\n",
              " '스마트폰',\n",
              " '카메라',\n",
              " '삼각대',\n",
              " '슬릭',\n",
              " '여행',\n",
              " '땐',\n",
              " '삼각대',\n",
              " '케이블',\n",
              " '스마트폰',\n",
              " '티비',\n",
              " '미러링',\n",
              " '방법',\n",
              " '자녀',\n",
              " '스마트폰',\n",
              " '관리',\n",
              " '앱',\n",
              " '인권',\n",
              " '침해',\n",
              " '논란',\n",
              " '스마트폰',\n",
              " '샤오미',\n",
              " '레드',\n",
              " '노트',\n",
              " '구형',\n",
              " '스마트폰',\n",
              " '활용',\n",
              " '자동차',\n",
              " '내비',\n",
              " '스마트폰',\n",
              " '중독',\n",
              " '의심',\n",
              " '마음',\n",
              " '자전거',\n",
              " '길',\n",
              " '의정부시',\n",
              " '안전',\n",
              " '귀가',\n",
              " '서비스',\n",
              " '신청',\n",
              " '스마트폰',\n",
              " '앱',\n",
              " '활용',\n",
              " '여름방학',\n",
              " '인터넷',\n",
              " '스마트폰',\n",
              " '과',\n",
              " '의존',\n",
              " '치유',\n",
              " '캠프',\n",
              " '린다',\n",
              " '스마트폰',\n",
              " '카카오',\n",
              " '맵',\n",
              " '민',\n",
              " '파일',\n",
              " '넣기',\n",
              " '자기',\n",
              " '전',\n",
              " '스마트폰',\n",
              " '위험성',\n",
              " '블루',\n",
              " '라이트',\n",
              " '시력',\n",
              " '영향',\n",
              " '갤럭시',\n",
              " '스마트폰',\n",
              " '갤럭시',\n",
              " '태블릿',\n",
              " '삼성',\n",
              " '보안',\n",
              " '와이파이',\n",
              " '휴대',\n",
              " '용',\n",
              " '노트북',\n",
              " '거치',\n",
              " '태블릿',\n",
              " '아이패드',\n",
              " '스마트폰',\n",
              " '거치',\n",
              " '다이소',\n",
              " '휴대폰',\n",
              " '스마트폰',\n",
              " '소형',\n",
              " '카메라',\n",
              " '삼각대',\n",
              " '바보',\n",
              " '상자',\n",
              " '스마트폰',\n",
              " '생각',\n",
              " '틈',\n",
              " '사람',\n",
              " '남한',\n",
              " '우주',\n",
              " '사과',\n",
              " '북한',\n",
              " '아리랑',\n",
              " '북한',\n",
              " '스마트폰',\n",
              " '스마트폰',\n",
              " '배터리',\n",
              " '무선',\n",
              " '충전',\n",
              " '스마트폰',\n",
              " '관련',\n",
              " '주',\n",
              " '인터',\n",
              " '플렉스',\n",
              " '폴',\n",
              " '더블',\n",
              " '폰',\n",
              " '주식',\n",
              " '주가',\n",
              " '스마트폰',\n",
              " '방수',\n",
              " '팩',\n",
              " '올해',\n",
              " '주파',\n",
              " '집',\n",
              " '준비',\n",
              " '완료',\n",
              " '택시',\n",
              " '영업',\n",
              " '중',\n",
              " '장거리',\n",
              " '운행',\n",
              " '중',\n",
              " '스마트폰',\n",
              " '발열',\n",
              " '과열',\n",
              " '스마트폰',\n",
              " '연동',\n",
              " '도어',\n",
              " '벨',\n",
              " '치후',\n",
              " '안심',\n",
              " '벨',\n",
              " '실',\n",
              " '사용',\n",
              " '후기',\n",
              " '스마트폰',\n",
              " '삼각대',\n",
              " '비소',\n",
              " '삼각대',\n",
              " '리뷰',\n",
              " '키',\n",
              " '프리',\n",
              " '카',\n",
              " '스마트폰',\n",
              " '격',\n",
              " '시동',\n",
              " '세종',\n",
              " '교육',\n",
              " '청소년',\n",
              " '인터넷',\n",
              " '스마트폰',\n",
              " '과',\n",
              " '의존',\n",
              " '예방',\n",
              " '치유',\n",
              " '스마트폰',\n",
              " '노키아',\n",
              " '스마트폰',\n",
              " '밴드',\n",
              " '슬림',\n",
              " '살짝',\n",
              " '런',\n",
              " '타이',\n",
              " '스마트폰',\n",
              " '갤럭시',\n",
              " '스폰지밥',\n",
              " '뚱',\n",
              " '갤럭시',\n",
              " '스마트폰',\n",
              " '케이스',\n",
              " '후기',\n",
              " '로',\n",
              " '프리뷰',\n",
              " '모니터',\n",
              " '수',\n",
              " '스마트폰',\n",
              " '스마트폰',\n",
              " '삼각대',\n",
              " '추천',\n",
              " '직삼',\n",
              " '각대',\n",
              " '여행',\n",
              " '필수',\n",
              " '템',\n",
              " '베스트',\n",
              " '로딩',\n",
              " '삼각대',\n",
              " '삼각',\n",
              " '스마트폰',\n",
              " '한번',\n",
              " '거치',\n",
              " '구글',\n",
              " '스마트폰',\n",
              " '빨',\n",
              " '스마트폰',\n",
              " '샤오미',\n",
              " '홍',\n",
              " '노트',\n",
              " '가성',\n",
              " '비',\n",
              " '스마트폰',\n",
              " '성능',\n",
              " '카메라',\n",
              " '후기',\n",
              " '스마트폰',\n",
              " '웹캠',\n",
              " '사용',\n",
              " '가장',\n",
              " '방법',\n",
              " '비브캠',\n",
              " '스마트폰',\n",
              " '삼각대',\n",
              " '셀카',\n",
              " '봉',\n",
              " '주파',\n",
              " '집',\n",
              " '블루투스',\n",
              " '셀카',\n",
              " '봉',\n",
              " '추천',\n",
              " '라이카',\n",
              " '스마트폰',\n",
              " '국내',\n",
              " '출시',\n",
              " '카메라',\n",
              " '명가',\n",
              " '라이카',\n",
              " '스마트폰',\n",
              " '스마트폰',\n",
              " '핸드폰',\n",
              " '방수',\n",
              " '팩',\n",
              " '케이스',\n",
              " '밴드',\n",
              " '다이스',\n",
              " '굿',\n",
              " '과',\n",
              " '스마트폰',\n",
              " '서로',\n",
              " '다이렉트',\n",
              " '파일',\n",
              " '국민',\n",
              " '삼각대',\n",
              " '스마트폰',\n",
              " '미러리스',\n",
              " '삼각대',\n",
              " '익산시',\n",
              " '아동',\n",
              " '청소년',\n",
              " '스마트폰',\n",
              " '중독',\n",
              " '예방',\n",
              " '강좌',\n",
              " '운영',\n",
              " '스마트폰',\n",
              " '카툭',\n",
              " '해결',\n",
              " '초',\n",
              " '박막',\n",
              " '렌즈',\n",
              " '개발',\n",
              " '스마트폰',\n",
              " '비보',\n",
              " '네오',\n",
              " '라이트',\n",
              " '가장',\n",
              " '갤럭시',\n",
              " '가성',\n",
              " '비',\n",
              " '스마트폰',\n",
              " '갤럭시',\n",
              " '점프',\n",
              " '분석',\n",
              " '손',\n",
              " '수',\n",
              " '스마트폰',\n",
              " '배터리',\n",
              " '방법',\n",
              " '국민카드',\n",
              " '분실',\n",
              " '신고',\n",
              " '재발',\n",
              " '신청',\n",
              " '스마트폰',\n",
              " '앱',\n",
              " '스마트폰',\n",
              " '한자',\n",
              " '변환',\n",
              " '키',\n",
              " '보드',\n",
              " '갤럭시',\n",
              " '부터',\n",
              " '갤럭시',\n",
              " '삼성',\n",
              " '스마트폰',\n",
              " '역사',\n",
              " '보기',\n",
              " '스마트폰',\n",
              " '부업',\n",
              " '앱',\n",
              " '하나',\n",
              " '남녀',\n",
              " '노소',\n",
              " '끝',\n",
              " '세계',\n",
              " '최초',\n",
              " '더',\n",
              " '디스플레이',\n",
              " '카메라',\n",
              " '스마트폰',\n",
              " '스마트폰',\n",
              " '키',\n",
              " '보드',\n",
              " '변경',\n",
              " '자판',\n",
              " '설정',\n",
              " '방법',\n",
              " '스마트폰',\n",
              " '파워포인트',\n",
              " '배경',\n",
              " '네온',\n",
              " '스마트폰',\n",
              " '방수',\n",
              " '팩',\n",
              " '수중',\n",
              " '카메라',\n",
              " '다이빙',\n",
              " '컴퓨터',\n",
              " '한번',\n",
              " '짐',\n",
              " '현상',\n",
              " '때',\n",
              " '스마트폰',\n",
              " '간단',\n",
              " '조치',\n",
              " '방법',\n",
              " '가성',\n",
              " '비',\n",
              " '스마트폰',\n",
              " '샤오미',\n",
              " '홍',\n",
              " '미노트',\n",
              " '프로',\n",
              " '스펙',\n",
              " '가격',\n",
              " '비교',\n",
              " '스마트폰',\n",
              " '영상',\n",
              " '편집',\n",
              " '블',\n",
              " '대청호',\n",
              " '리길',\n",
              " '스마트폰',\n",
              " '사진',\n",
              " '공모전',\n",
              " '초등학생',\n",
              " '스마트폰',\n",
              " '추천',\n",
              " '공짜',\n",
              " '가격',\n",
              " '구입',\n",
              " '서울시',\n",
              " '어르신',\n",
              " '위',\n",
              " '맞춤',\n",
              " '스마트폰',\n",
              " '내',\n",
              " '차',\n",
              " '차량',\n",
              " '용',\n",
              " '스마트폰',\n",
              " '거치',\n",
              " '방법',\n",
              " '조비',\n",
              " '고릴라',\n",
              " '포드',\n",
              " '스마트폰',\n",
              " '미니',\n",
              " '삼각대',\n",
              " '실용',\n",
              " '꿀템',\n",
              " '태블릿',\n",
              " '거치',\n",
              " '추천',\n",
              " '가성',\n",
              " '비',\n",
              " '스마트폰',\n",
              " '스탠드',\n",
              " '삼성',\n",
              " '갤럭시',\n",
              " '울트라',\n",
              " '스마트폰',\n",
              " '카메라',\n",
              " '촬영',\n",
              " '최근',\n",
              " '사진',\n",
              " '성남',\n",
              " '잠실',\n",
              " '송파구',\n",
              " '스마트폰',\n",
              " '강사',\n",
              " '지윤',\n",
              " '쌤',\n",
              " '스마트폰',\n",
              " '활용',\n",
              " '지도',\n",
              " '라이카',\n",
              " '첫',\n",
              " '스마트폰',\n",
              " '번역',\n",
              " '스마트폰',\n",
              " '리얼',\n",
              " '마스터',\n",
              " '삼성',\n",
              " '스마트',\n",
              " '모니터',\n",
              " '인치',\n",
              " '추천',\n",
              " '재택근무',\n",
              " '스마트폰',\n",
              " '연결',\n",
              " '애플',\n",
              " '삼성',\n",
              " '스마트폰',\n",
              " '좀',\n",
              " '주',\n",
              " '유튜브',\n",
              " '영상편집',\n",
              " '프로그램',\n",
              " '스마트폰',\n",
              " '가능',\n",
              " '안똑',\n",
              " '아이',\n",
              " '사랑',\n",
              " '안전',\n",
              " '스마트폰',\n",
              " '안전',\n",
              " '안드로이드',\n",
              " '스마트폰',\n",
              " '손전등',\n",
              " '플래시',\n",
              " '라이트',\n",
              " '인터넷',\n",
              " '스마트폰',\n",
              " '사용',\n",
              " '만',\n",
              " ...]"
            ]
          },
          "metadata": {},
          "execution_count": 10
        }
      ]
    },
    {
      "cell_type": "code",
      "metadata": {
        "id": "FmzXWEsQD9wX"
      },
      "source": [
        "from collections import Counter"
      ],
      "execution_count": 11,
      "outputs": []
    },
    {
      "cell_type": "markdown",
      "metadata": {
        "id": "PupbAFjIYW-E"
      },
      "source": [
        "type(noun_cnt) 딕셔너리로 출력 됨"
      ]
    },
    {
      "cell_type": "code",
      "metadata": {
        "colab": {
          "base_uri": "https://localhost:8080/"
        },
        "id": "885Bv5vJWPX2",
        "outputId": "2d4924ca-2bf5-4438-da05-ef9d8e585d3b"
      },
      "source": [
        "noun_cnt = Counter(posts_noun)\n",
        "type(noun_cnt)"
      ],
      "execution_count": 12,
      "outputs": [
        {
          "output_type": "execute_result",
          "data": {
            "text/plain": [
              "collections.Counter"
            ]
          },
          "metadata": {},
          "execution_count": 12
        }
      ]
    },
    {
      "cell_type": "code",
      "metadata": {
        "colab": {
          "base_uri": "https://localhost:8080/"
        },
        "id": "6wxKwmjgWgB2",
        "outputId": "b030597d-0e31-42ca-cf8b-f7b3046b267d"
      },
      "source": [
        "top_30_nouns = noun_cnt.most_common(30)\n",
        "type(top_30_nouns),top_30_nouns"
      ],
      "execution_count": 13,
      "outputs": [
        {
          "output_type": "execute_result",
          "data": {
            "text/plain": [
              "(list,\n",
              " [('스마트폰', 1021),\n",
              "  ('갤럭시', 104),\n",
              "  ('삼성', 80),\n",
              "  ('스펙', 73),\n",
              "  ('사용', 71),\n",
              "  ('강의', 71),\n",
              "  ('강', 70),\n",
              "  ('동영상', 67),\n",
              "  ('제작', 66),\n",
              "  ('카메라', 61),\n",
              "  ('방법', 60),\n",
              "  ('유튜브', 60),\n",
              "  ('위', 55),\n",
              "  ('출시', 46),\n",
              "  ('사진', 42),\n",
              "  ('가격', 38),\n",
              "  ('앱', 37),\n",
              "  ('삼각대', 35),\n",
              "  ('폰', 34),\n",
              "  ('안드로이드', 34),\n",
              "  ('보급', 34),\n",
              "  ('샤오미', 32),\n",
              "  ('거치', 31),\n",
              "  ('활용', 29),\n",
              "  ('후기', 27),\n",
              "  ('용', 26),\n",
              "  ('중독', 24),\n",
              "  ('법', 23),\n",
              "  ('촬영', 22),\n",
              "  ('게이', 22)])"
            ]
          },
          "metadata": {},
          "execution_count": 13
        }
      ]
    },
    {
      "cell_type": "code",
      "metadata": {
        "colab": {
          "base_uri": "https://localhost:8080/"
        },
        "id": "XiDj6D4QY9Ml",
        "outputId": "35be4c9e-7731-4d63-bc18-e30ed4b2db7f"
      },
      "source": [
        "top_nouns_dict = dict(top_30_nouns)\n",
        "type(top_nouns_dict)"
      ],
      "execution_count": 14,
      "outputs": [
        {
          "output_type": "execute_result",
          "data": {
            "text/plain": [
              "dict"
            ]
          },
          "metadata": {},
          "execution_count": 14
        }
      ]
    },
    {
      "cell_type": "markdown",
      "metadata": {
        "id": "Gcvc427UZJAM"
      },
      "source": [
        "## Word cloud\n"
      ]
    },
    {
      "cell_type": "code",
      "metadata": {
        "id": "DKTk6cSyZBJV"
      },
      "source": [
        "from wordcloud import WordCloud"
      ],
      "execution_count": 15,
      "outputs": []
    },
    {
      "cell_type": "code",
      "metadata": {
        "id": "05JBkyc5cIO2"
      },
      "source": [
        "path = ''"
      ],
      "execution_count": 16,
      "outputs": []
    },
    {
      "cell_type": "code",
      "metadata": {
        "id": "991uzYxbZQ6n"
      },
      "source": [
        "nouns_wordcloud = WordCloud()"
      ],
      "execution_count": 17,
      "outputs": []
    },
    {
      "cell_type": "code",
      "metadata": {
        "colab": {
          "base_uri": "https://localhost:8080/"
        },
        "id": "Tq83WVJiZan1",
        "outputId": "8eb1933f-098a-48e7-94e1-00faca7e28c0"
      },
      "source": [
        "nouns_wordcloud.generate_from_frequencies(top_nouns_dict)"
      ],
      "execution_count": 18,
      "outputs": [
        {
          "output_type": "execute_result",
          "data": {
            "text/plain": [
              "<wordcloud.wordcloud.WordCloud at 0x7fb5ceab7110>"
            ]
          },
          "metadata": {},
          "execution_count": 18
        }
      ]
    },
    {
      "cell_type": "markdown",
      "metadata": {
        "id": "pnAaoTM4Z_2d"
      },
      "source": [
        "## Display"
      ]
    },
    {
      "cell_type": "code",
      "metadata": {
        "id": "zgcPWY2zZwiG"
      },
      "source": [
        "import matplotlib.pyplot as plt"
      ],
      "execution_count": 19,
      "outputs": []
    },
    {
      "cell_type": "code",
      "metadata": {
        "colab": {
          "base_uri": "https://localhost:8080/",
          "height": 237
        },
        "id": "Xu0XyRcTZ500",
        "outputId": "31a31e62-a868-46e1-a38a-bb266f83e4fa"
      },
      "source": [
        "plt.imshow(nouns_wordcloud)"
      ],
      "execution_count": 20,
      "outputs": [
        {
          "output_type": "execute_result",
          "data": {
            "text/plain": [
              "<matplotlib.image.AxesImage at 0x7fb5ce0dc990>"
            ]
          },
          "metadata": {},
          "execution_count": 20
        },
        {
          "output_type": "display_data",
          "data": {
            "image/png": "[encoded data removed]",
            "text/plain": [
              "<Figure size 432x288 with 1 Axes>"
            ]
          },
          "metadata": {
            "needs_background": "light"
          }
        }
      ]
    },
    {
      "cell_type": "markdown",
      "metadata": {
        "id": "glYmo-OEcuuU"
      },
      "source": [
        "stopwords, fonts 사용 안한 것"
      ]
    },
    {
      "cell_type": "markdown",
      "metadata": {
        "id": "nMsUnNdocO0U"
      },
      "source": [
        "## CountVectorizer(빈도수 사용)"
      ]
    },
    {
      "cell_type": "code",
      "metadata": {
        "id": "9qwxE3mVaOLz"
      },
      "source": [
        "from sklearn.feature_extraction.text import CountVectorizer "
      ],
      "execution_count": 21,
      "outputs": []
    },
    {
      "cell_type": "code",
      "metadata": {
        "id": "UWy-7_vifafU"
      },
      "source": [
        "corpus = [\n",
        "    'you know I want your love',\n",
        "    'I like you',\n",
        "    'what should I do ',    \n",
        "]"
      ],
      "execution_count": 22,
      "outputs": []
    },
    {
      "cell_type": "code",
      "metadata": {
        "id": "FwHR0IB5fdXl"
      },
      "source": [
        "countvectorizer  = CountVectorizer()"
      ],
      "execution_count": 23,
      "outputs": []
    },
    {
      "cell_type": "code",
      "metadata": {
        "colab": {
          "base_uri": "https://localhost:8080/"
        },
        "id": "QR5a5OmPfp4D",
        "outputId": "8b681cd2-252c-4c2c-bb89-744e5947e2a8"
      },
      "source": [
        "countvectorizer.fit_transform(corpus).toarray()"
      ],
      "execution_count": 24,
      "outputs": [
        {
          "output_type": "execute_result",
          "data": {
            "text/plain": [
              "array([[0, 1, 0, 1, 0, 1, 0, 1, 1],\n",
              "       [0, 0, 1, 0, 0, 0, 0, 1, 0],\n",
              "       [1, 0, 0, 0, 1, 0, 1, 0, 0]])"
            ]
          },
          "metadata": {},
          "execution_count": 24
        }
      ]
    },
    {
      "cell_type": "markdown",
      "metadata": {
        "id": "1lJ2HgszgBGM"
      },
      "source": [
        "vocabulary_ 로 컬럼의 순서 확인"
      ]
    },
    {
      "cell_type": "code",
      "metadata": {
        "colab": {
          "base_uri": "https://localhost:8080/"
        },
        "id": "5xCLPghDf1tC",
        "outputId": "a6cd6f6d-c189-4c53-8d51-4805b1b54ac3"
      },
      "source": [
        "print(countvectorizer.vocabulary_)"
      ],
      "execution_count": 25,
      "outputs": [
        {
          "output_type": "stream",
          "text": [
            "{'you': 7, 'know': 1, 'want': 5, 'your': 8, 'love': 3, 'like': 2, 'what': 6, 'should': 4, 'do': 0}\n"
          ],
          "name": "stdout"
        }
      ]
    },
    {
      "cell_type": "markdown",
      "metadata": {
        "id": "Yj2Fgg1hV4tj"
      },
      "source": [
        "## Word2Vec"
      ]
    },
    {
      "cell_type": "code",
      "metadata": {
        "id": "86q_RiyVV7_z"
      },
      "source": [
        "from gensim.models import Word2Vec"
      ],
      "execution_count": 26,
      "outputs": []
    },
    {
      "cell_type": "code",
      "metadata": {
        "id": "1aepym8AWBxs"
      },
      "source": [
        "word2vec= Word2Vec(posts_noun,min_count=1)"
      ],
      "execution_count": 27,
      "outputs": []
    },
    {
      "cell_type": "code",
      "metadata": {
        "colab": {
          "base_uri": "https://localhost:8080/"
        },
        "id": "GuBLiWTwWTR2",
        "outputId": "be30b86c-a0fe-4e00-d591-8779a83da598"
      },
      "source": [
        "word2vec"
      ],
      "execution_count": 28,
      "outputs": [
        {
          "output_type": "execute_result",
          "data": {
            "text/plain": [
              "<gensim.models.word2vec.Word2Vec at 0x7fb5bbdb2750>"
            ]
          },
          "metadata": {},
          "execution_count": 28
        }
      ]
    },
    {
      "cell_type": "markdown",
      "metadata": {
        "id": "Ebu7m55mWXzI"
      },
      "source": [
        "궁금한 단어 넣으면 유사단어 가져옴"
      ]
    },
    {
      "cell_type": "code",
      "metadata": {
        "colab": {
          "base_uri": "https://localhost:8080/",
          "height": 316
        },
        "id": "ytKrObm9WWFv",
        "outputId": "e3371c88-ec51-41d5-89ca-3ce96a9bcfe6"
      },
      "source": [
        "word2vec.wv.most_similar('삼성')"
      ],
      "execution_count": 32,
      "outputs": [
        {
          "output_type": "error",
          "ename": "KeyError",
          "evalue": "ignored",
          "traceback": [
            "\u001b[0;31m---------------------------------------------------------------------------\u001b[0m",
            "\u001b[0;31mKeyError\u001b[0m                                  Traceback (most recent call last)",
            "\u001b[0;32m<ipython-input-32-5b686d7f9e0f>\u001b[0m in \u001b[0;36m<module>\u001b[0;34m()\u001b[0m\n\u001b[0;32m----> 1\u001b[0;31m \u001b[0mword2vec\u001b[0m\u001b[0;34m.\u001b[0m\u001b[0mwv\u001b[0m\u001b[0;34m.\u001b[0m\u001b[0mmost_similar\u001b[0m\u001b[0;34m(\u001b[0m\u001b[0;34m'삼성'\u001b[0m\u001b[0;34m)\u001b[0m\u001b[0;34m\u001b[0m\u001b[0;34m\u001b[0m\u001b[0m\n\u001b[0m",
            "\u001b[0;32m/usr/local/lib/python3.7/dist-packages/gensim/models/keyedvectors.py\u001b[0m in \u001b[0;36mmost_similar\u001b[0;34m(self, positive, negative, topn, restrict_vocab, indexer)\u001b[0m\n\u001b[1;32m    529\u001b[0m                 \u001b[0mmean\u001b[0m\u001b[0;34m.\u001b[0m\u001b[0mappend\u001b[0m\u001b[0;34m(\u001b[0m\u001b[0mweight\u001b[0m \u001b[0;34m*\u001b[0m \u001b[0mword\u001b[0m\u001b[0;34m)\u001b[0m\u001b[0;34m\u001b[0m\u001b[0;34m\u001b[0m\u001b[0m\n\u001b[1;32m    530\u001b[0m             \u001b[0;32melse\u001b[0m\u001b[0;34m:\u001b[0m\u001b[0;34m\u001b[0m\u001b[0;34m\u001b[0m\u001b[0m\n\u001b[0;32m--> 531\u001b[0;31m                 \u001b[0mmean\u001b[0m\u001b[0;34m.\u001b[0m\u001b[0mappend\u001b[0m\u001b[0;34m(\u001b[0m\u001b[0mweight\u001b[0m \u001b[0;34m*\u001b[0m \u001b[0mself\u001b[0m\u001b[0;34m.\u001b[0m\u001b[0mword_vec\u001b[0m\u001b[0;34m(\u001b[0m\u001b[0mword\u001b[0m\u001b[0;34m,\u001b[0m \u001b[0muse_norm\u001b[0m\u001b[0;34m=\u001b[0m\u001b[0;32mTrue\u001b[0m\u001b[0;34m)\u001b[0m\u001b[0;34m)\u001b[0m\u001b[0;34m\u001b[0m\u001b[0;34m\u001b[0m\u001b[0m\n\u001b[0m\u001b[1;32m    532\u001b[0m                 \u001b[0;32mif\u001b[0m \u001b[0mword\u001b[0m \u001b[0;32min\u001b[0m \u001b[0mself\u001b[0m\u001b[0;34m.\u001b[0m\u001b[0mvocab\u001b[0m\u001b[0;34m:\u001b[0m\u001b[0;34m\u001b[0m\u001b[0;34m\u001b[0m\u001b[0m\n\u001b[1;32m    533\u001b[0m                     \u001b[0mall_words\u001b[0m\u001b[0;34m.\u001b[0m\u001b[0madd\u001b[0m\u001b[0;34m(\u001b[0m\u001b[0mself\u001b[0m\u001b[0;34m.\u001b[0m\u001b[0mvocab\u001b[0m\u001b[0;34m[\u001b[0m\u001b[0mword\u001b[0m\u001b[0;34m]\u001b[0m\u001b[0;34m.\u001b[0m\u001b[0mindex\u001b[0m\u001b[0;34m)\u001b[0m\u001b[0;34m\u001b[0m\u001b[0;34m\u001b[0m\u001b[0m\n",
            "\u001b[0;32m/usr/local/lib/python3.7/dist-packages/gensim/models/keyedvectors.py\u001b[0m in \u001b[0;36mword_vec\u001b[0;34m(self, word, use_norm)\u001b[0m\n\u001b[1;32m    450\u001b[0m             \u001b[0;32mreturn\u001b[0m \u001b[0mresult\u001b[0m\u001b[0;34m\u001b[0m\u001b[0;34m\u001b[0m\u001b[0m\n\u001b[1;32m    451\u001b[0m         \u001b[0;32melse\u001b[0m\u001b[0;34m:\u001b[0m\u001b[0;34m\u001b[0m\u001b[0;34m\u001b[0m\u001b[0m\n\u001b[0;32m--> 452\u001b[0;31m             \u001b[0;32mraise\u001b[0m \u001b[0mKeyError\u001b[0m\u001b[0;34m(\u001b[0m\u001b[0;34m\"word '%s' not in vocabulary\"\u001b[0m \u001b[0;34m%\u001b[0m \u001b[0mword\u001b[0m\u001b[0;34m)\u001b[0m\u001b[0;34m\u001b[0m\u001b[0;34m\u001b[0m\u001b[0m\n\u001b[0m\u001b[1;32m    453\u001b[0m \u001b[0;34m\u001b[0m\u001b[0m\n\u001b[1;32m    454\u001b[0m     \u001b[0;32mdef\u001b[0m \u001b[0mget_vector\u001b[0m\u001b[0;34m(\u001b[0m\u001b[0mself\u001b[0m\u001b[0;34m,\u001b[0m \u001b[0mword\u001b[0m\u001b[0;34m)\u001b[0m\u001b[0;34m:\u001b[0m\u001b[0;34m\u001b[0m\u001b[0;34m\u001b[0m\u001b[0m\n",
            "\u001b[0;31mKeyError\u001b[0m: \"word '삼성' not in vocabulary\""
          ]
        }
      ]
    },
    {
      "cell_type": "code",
      "metadata": {
        "id": "e9WKeYCtWlAb"
      },
      "source": [
        ""
      ],
      "execution_count": null,
      "outputs": []
    }
  ]
}