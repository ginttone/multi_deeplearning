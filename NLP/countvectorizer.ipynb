{
  "nbformat": 4,
  "nbformat_minor": 0,
  "metadata": {
    "colab": {
      "name": "countvectorizer.ipynb",
      "provenance": [],
      "collapsed_sections": [],
      "mount_file_id": "1e514zzhDbNi-Ip_34kiej1FsEVLKiAD2",
      "authorship_tag": "ABX9TyOmQCWv8r7nk0UH6FtWfHSM",
      "include_colab_link": true
    },
    "kernelspec": {
      "name": "python3",
      "display_name": "Python 3"
    },
    "language_info": {
      "name": "python"
    }
  },
  "cells": [
    {
      "cell_type": "markdown",
      "metadata": {
        "id": "view-in-github",
        "colab_type": "text"
      },
      "source": [
        "<a href=\"https://colab.research.google.com/github/ginttone/multi_deeplearning/blob/master/NLP/countvectorizer.ipynb\" target=\"_parent\"><img src=\"https://colab.research.google.com/assets/colab-badge.svg\" alt=\"Open In Colab\"/></a>"
      ]
    },
    {
      "cell_type": "markdown",
      "metadata": {
        "id": "yOuZoRwusbo3"
      },
      "source": [
        "# 뉴스 관련단어 추천 서비스"
      ]
    },
    {
      "cell_type": "markdown",
      "metadata": {
        "id": "K7izDVgyCxUb"
      },
      "source": [
        "## 데이터 가져오기"
      ]
    },
    {
      "cell_type": "code",
      "metadata": {
        "id": "x935a969BGrO"
      },
      "source": [
        "import pandas as pd"
      ],
      "execution_count": 1,
      "outputs": []
    },
    {
      "cell_type": "code",
      "metadata": {
        "colab": {
          "base_uri": "https://localhost:8080/",
          "height": 1000
        },
        "id": "Hdbk_hK8BkFC",
        "outputId": "59c70c6e-68c0-49fc-96b8-45085350bdbc"
      },
      "source": [
        "df = pd.read_csv('./drive/MyDrive/Multi_test_deeplearning/smtph_total.csv')\n",
        "df.head(5)"
      ],
      "execution_count": 2,
      "outputs": [
        {
          "output_type": "execute_result",
          "data": {
            "text/html": [
              "<div>\n",
              "<style scoped>\n",
              "    .dataframe tbody tr th:only-of-type {\n",
              "        vertical-align: middle;\n",
              "    }\n",
              "\n",
              "    .dataframe tbody tr th {\n",
              "        vertical-align: top;\n",
              "    }\n",
              "\n",
              "    .dataframe thead th {\n",
              "        text-align: right;\n",
              "    }\n",
              "</style>\n",
              "<table border=\"1\" class=\"dataframe\">\n",
              "  <thead>\n",
              "    <tr style=\"text-align: right;\">\n",
              "      <th></th>\n",
              "      <th>Title</th>\n",
              "      <th>Link</th>\n",
              "      <th>Description</th>\n",
              "      <th>Blogger Name</th>\n",
              "      <th>Blogger Link</th>\n",
              "      <th>Post Date</th>\n",
              "      <th>Post Contents</th>\n",
              "    </tr>\n",
              "  </thead>\n",
              "  <tbody>\n",
              "    <tr>\n",
              "      <th>0</th>\n",
              "      <td>갤럭시 Z 플립과 한 달, 접는 스마트폰의 가치만 남다</td>\n",
              "      <td>https://chitsol.com/entry/galaxy_z_flip_review/</td>\n",
              "      <td>반으로 접을 수 있는 갤럭시 Z 플립이 접지 않는 스마트폰과 얼마나 다른 경험인가를...</td>\n",
              "      <td>https://chitsol.com/</td>\n",
              "      <td>https://chitsol.com/</td>\n",
              "      <td>20210712</td>\n",
              "      <td>NaN</td>\n",
              "    </tr>\n",
              "    <tr>\n",
              "      <th>1</th>\n",
              "      <td>스마트폰 삼각대 추천 내돈내산 리뷰</td>\n",
              "      <td>https://blog.naver.com/kimhw1020?Redirect=Log&amp;...</td>\n",
              "      <td>그래서 스마트폰 삼각대 추천 하는 제품을 구매하게 된 것 같아요. 2018년 4월 ...</td>\n",
              "      <td>진돗개 솜이랑 언니랑</td>\n",
              "      <td>https://blog.naver.com/kimhw1020</td>\n",
              "      <td>20210720</td>\n",
              "      <td>\\n\\n\\n\\n\\n\\n\\n솜이언니 일상\\n\\n\\n\\n\\n스마트폰 삼각대 추천 내돈내...</td>\n",
              "    </tr>\n",
              "    <tr>\n",
              "      <th>2</th>\n",
              "      <td>귀여운 스마트폰 거치대 + 아이폰 케이스(다이소 비교)</td>\n",
              "      <td>https://blog.naver.com/logix200?Redirect=Log&amp;l...</td>\n",
              "      <td>스마트폰 거치대 홀더 &amp;quot;아이폰 케이스도 졸.귀.탱&amp;quot; 안녕하세요. ...</td>\n",
              "      <td>옥희돌이 칩시크족</td>\n",
              "      <td>https://blog.naver.com/logix200</td>\n",
              "      <td>20210802</td>\n",
              "      <td>\\n\\n\\n\\n\\n\\n\\n일반 수령기\\n\\n\\n\\n\\n귀여운 스마트폰 거치대 + 아...</td>\n",
              "    </tr>\n",
              "    <tr>\n",
              "      <th>3</th>\n",
              "      <td>베스틴 원패스 스마트폰 어플, 아이파크 공동 현관문 핸드폰 연동</td>\n",
              "      <td>https://blog.naver.com/july7th73?Redirect=Log&amp;...</td>\n",
              "      <td>요즘 신축 아파트들은 대부분 IoT 스마트 기기들을 이용한 출입시스템을 도입, 각종...</td>\n",
              "      <td>수연아빠의 야구장 출동 (개포맘모스)</td>\n",
              "      <td>https://blog.naver.com/july7th73</td>\n",
              "      <td>20210816</td>\n",
              "      <td>\\n\\n\\n\\n\\n\\n\\n파워리뷰즐기기\\n\\n\\n\\n\\n베스틴 원패스 스마트폰 어플...</td>\n",
              "    </tr>\n",
              "    <tr>\n",
              "      <th>4</th>\n",
              "      <td>대전스마트폰복구 삭제나 고장도 걱정없이</td>\n",
              "      <td>https://blog.naver.com/jcy0207?Redirect=Log&amp;lo...</td>\n",
              "      <td>바쁜 현대인들의 곁에서 어디서든 일상을 함께하는 스마트폰은 한순간도 뗄레야 뗄 수 ...</td>\n",
              "      <td>모아의 교육정보 모아모아</td>\n",
              "      <td>https://blog.naver.com/jcy0207</td>\n",
              "      <td>20210609</td>\n",
              "      <td>\\n\\n안녕하세요 모아입니다.바쁜 현대인들의 곁에서어디서든 일상을 함께하는 스마트폰...</td>\n",
              "    </tr>\n",
              "  </tbody>\n",
              "</table>\n",
              "</div>"
            ],
            "text/plain": [
              "                                 Title  ...                                      Post Contents\n",
              "0       갤럭시 Z 플립과 한 달, 접는 스마트폰의 가치만 남다  ...                                                NaN\n",
              "1                  스마트폰 삼각대 추천 내돈내산 리뷰  ...  \\n\\n\\n\\n\\n\\n\\n솜이언니 일상\\n\\n\\n\\n\\n스마트폰 삼각대 추천 내돈내...\n",
              "2       귀여운 스마트폰 거치대 + 아이폰 케이스(다이소 비교)  ...  \\n\\n\\n\\n\\n\\n\\n일반 수령기\\n\\n\\n\\n\\n귀여운 스마트폰 거치대 + 아...\n",
              "3  베스틴 원패스 스마트폰 어플, 아이파크 공동 현관문 핸드폰 연동  ...  \\n\\n\\n\\n\\n\\n\\n파워리뷰즐기기\\n\\n\\n\\n\\n베스틴 원패스 스마트폰 어플...\n",
              "4                대전스마트폰복구 삭제나 고장도 걱정없이  ...  \\n\\n안녕하세요 모아입니다.바쁜 현대인들의 곁에서어디서든 일상을 함께하는 스마트폰...\n",
              "\n",
              "[5 rows x 7 columns]"
            ]
          },
          "metadata": {},
          "execution_count": 2
        }
      ]
    },
    {
      "cell_type": "code",
      "metadata": {
        "colab": {
          "base_uri": "https://localhost:8080/"
        },
        "id": "iMaYAQRYCHVC",
        "outputId": "766050d2-4200-4225-8a63-979a1e800b72"
      },
      "source": [
        "df.columns"
      ],
      "execution_count": 3,
      "outputs": [
        {
          "output_type": "execute_result",
          "data": {
            "text/plain": [
              "Index(['Title', 'Link', 'Description', 'Blogger Name', 'Blogger Link',\n",
              "       'Post Date', 'Post Contents'],\n",
              "      dtype='object')"
            ]
          },
          "metadata": {},
          "execution_count": 3
        }
      ]
    },
    {
      "cell_type": "code",
      "metadata": {
        "colab": {
          "base_uri": "https://localhost:8080/"
        },
        "id": "Stu5wgLXBxxj",
        "outputId": "b7e690b0-2818-4732-b096-6e6df766ef07"
      },
      "source": [
        "posts = df['Title']+['Description']\n",
        "type(posts),posts"
      ],
      "execution_count": 4,
      "outputs": [
        {
          "output_type": "execute_result",
          "data": {
            "text/plain": [
              "(pandas.core.series.Series,\n",
              " 0              갤럭시 Z 플립과 한 달, 접는 스마트폰의 가치만 남다Description\n",
              " 1                         스마트폰 삼각대 추천 내돈내산 리뷰Description\n",
              " 2              귀여운 스마트폰 거치대 + 아이폰 케이스(다이소 비교)Description\n",
              " 3         베스틴 원패스 스마트폰 어플, 아이파크 공동 현관문 핸드폰 연동Description\n",
              " 4                       대전스마트폰복구 삭제나 고장도 걱정없이Description\n",
              "                              ...                        \n",
              " 995    스마트폰의 &quot;배터리 수명&quot;을 걱정하지 않아도 좋은 이유Descri...\n",
              " 996                  세상을 스마트폰 카메라로 검색하는 구글 렌즈Description\n",
              " 997              스마트폰과 연동되는 장난감 로봇, 샤오미 로봇청소기Description\n",
              " 998            KT 단독 보급형 스마트폰 갤럭시진 블랙 특징 사용후기Description\n",
              " 999          화웨이 트리플카메라 스마트폰 P20프로, 카메라 스펙 분석Description\n",
              " Name: Title, Length: 1000, dtype: object)"
            ]
          },
          "metadata": {},
          "execution_count": 4
        }
      ]
    },
    {
      "cell_type": "markdown",
      "metadata": {
        "id": "7GXLfc3RCpJz"
      },
      "source": [
        "## 단어로 쪼개기"
      ]
    },
    {
      "cell_type": "code",
      "metadata": {
        "id": "APJhqSoTCO0-"
      },
      "source": [
        "!python3 -m pip install konlpy"
      ],
      "execution_count": null,
      "outputs": []
    },
    {
      "cell_type": "code",
      "metadata": {
        "id": "-V-7-AMZCjCR"
      },
      "source": [
        "from konlpy.tag import Okt"
      ],
      "execution_count": 6,
      "outputs": []
    },
    {
      "cell_type": "code",
      "metadata": {
        "id": "0oq_nQ4kDM8o"
      },
      "source": [
        "okt = Okt()"
      ],
      "execution_count": 7,
      "outputs": []
    },
    {
      "cell_type": "code",
      "metadata": {
        "id": "TVrAfOr6EQdz"
      },
      "source": [
        "stop_words = ['강,', '글,', '애', '미', '번', '은', '이', '것', '등', '더', '를', '좀', '즉', '인', '옹', '때', '만', '원', '이때', '개']"
      ],
      "execution_count": 8,
      "outputs": []
    },
    {
      "cell_type": "code",
      "metadata": {
        "colab": {
          "base_uri": "https://localhost:8080/"
        },
        "id": "0n6NBz9SDQYF",
        "outputId": "5ef85155-ea7c-4a3e-9dde-5efc6d06e5b5"
      },
      "source": [
        "posts_noun = []\n",
        "for post in posts:\n",
        "  #print(okt.nouns(post))\n",
        "  for noun in okt.nouns(post):\n",
        "    posts_noun.append(noun)\n",
        "\n",
        "len(posts_noun)"
      ],
      "execution_count": 9,
      "outputs": [
        {
          "output_type": "execute_result",
          "data": {
            "text/plain": [
              "6083"
            ]
          },
          "metadata": {},
          "execution_count": 9
        }
      ]
    },
    {
      "cell_type": "code",
      "metadata": {
        "id": "vfkvejxsWP3v"
      },
      "source": [
        "posts_noun"
      ],
      "execution_count": null,
      "outputs": []
    },
    {
      "cell_type": "code",
      "metadata": {
        "id": "FmzXWEsQD9wX"
      },
      "source": [
        "from collections import Counter"
      ],
      "execution_count": 11,
      "outputs": []
    },
    {
      "cell_type": "markdown",
      "metadata": {
        "id": "PupbAFjIYW-E"
      },
      "source": [
        "type(noun_cnt) 딕셔너리로 출력 됨"
      ]
    },
    {
      "cell_type": "code",
      "metadata": {
        "colab": {
          "base_uri": "https://localhost:8080/"
        },
        "id": "885Bv5vJWPX2",
        "outputId": "1d45604e-f329-464e-83cb-8650411276d1"
      },
      "source": [
        "noun_cnt = Counter(posts_noun)\n",
        "type(noun_cnt)"
      ],
      "execution_count": 12,
      "outputs": [
        {
          "output_type": "execute_result",
          "data": {
            "text/plain": [
              "collections.Counter"
            ]
          },
          "metadata": {},
          "execution_count": 12
        }
      ]
    },
    {
      "cell_type": "code",
      "metadata": {
        "id": "6wxKwmjgWgB2",
        "colab": {
          "base_uri": "https://localhost:8080/"
        },
        "outputId": "0e9c6ff9-5059-44d5-c415-a0054a145664"
      },
      "source": [
        "top_30_nouns = noun_cnt.most_common(30)\n",
        "type(top_30_nouns),top_30_nouns"
      ],
      "execution_count": 13,
      "outputs": [
        {
          "output_type": "execute_result",
          "data": {
            "text/plain": [
              "(list,\n",
              " [('스마트폰', 1021),\n",
              "  ('갤럭시', 104),\n",
              "  ('삼성', 80),\n",
              "  ('스펙', 73),\n",
              "  ('사용', 71),\n",
              "  ('강의', 71),\n",
              "  ('강', 70),\n",
              "  ('동영상', 67),\n",
              "  ('제작', 66),\n",
              "  ('카메라', 61),\n",
              "  ('방법', 60),\n",
              "  ('유튜브', 60),\n",
              "  ('위', 55),\n",
              "  ('출시', 46),\n",
              "  ('사진', 42),\n",
              "  ('가격', 38),\n",
              "  ('앱', 37),\n",
              "  ('삼각대', 35),\n",
              "  ('폰', 34),\n",
              "  ('안드로이드', 34),\n",
              "  ('보급', 34),\n",
              "  ('샤오미', 32),\n",
              "  ('거치', 31),\n",
              "  ('활용', 29),\n",
              "  ('후기', 27),\n",
              "  ('용', 26),\n",
              "  ('중독', 24),\n",
              "  ('법', 23),\n",
              "  ('촬영', 22),\n",
              "  ('게이', 22)])"
            ]
          },
          "metadata": {},
          "execution_count": 13
        }
      ]
    },
    {
      "cell_type": "code",
      "metadata": {
        "colab": {
          "base_uri": "https://localhost:8080/"
        },
        "id": "XiDj6D4QY9Ml",
        "outputId": "179b5f09-6ddd-41e6-83dd-4c90c4427ef1"
      },
      "source": [
        "top_nouns_dict = dict(top_30_nouns)\n",
        "type(top_nouns_dict)"
      ],
      "execution_count": 14,
      "outputs": [
        {
          "output_type": "execute_result",
          "data": {
            "text/plain": [
              "dict"
            ]
          },
          "metadata": {},
          "execution_count": 14
        }
      ]
    },
    {
      "cell_type": "markdown",
      "metadata": {
        "id": "Gcvc427UZJAM"
      },
      "source": [
        "## Word cloud\n"
      ]
    },
    {
      "cell_type": "code",
      "metadata": {
        "id": "DKTk6cSyZBJV"
      },
      "source": [
        "from wordcloud import WordCloud"
      ],
      "execution_count": 15,
      "outputs": []
    },
    {
      "cell_type": "code",
      "metadata": {
        "id": "05JBkyc5cIO2"
      },
      "source": [
        "path = ''"
      ],
      "execution_count": 16,
      "outputs": []
    },
    {
      "cell_type": "code",
      "metadata": {
        "id": "991uzYxbZQ6n"
      },
      "source": [
        "nouns_wordcloud = WordCloud()"
      ],
      "execution_count": 17,
      "outputs": []
    },
    {
      "cell_type": "code",
      "metadata": {
        "colab": {
          "base_uri": "https://localhost:8080/"
        },
        "id": "Tq83WVJiZan1",
        "outputId": "22653b85-b8e2-4916-e3d4-15ac95285bc1"
      },
      "source": [
        "nouns_wordcloud.generate_from_frequencies(top_nouns_dict)"
      ],
      "execution_count": 18,
      "outputs": [
        {
          "output_type": "execute_result",
          "data": {
            "text/plain": [
              "<wordcloud.wordcloud.WordCloud at 0x7f302bd791d0>"
            ]
          },
          "metadata": {},
          "execution_count": 18
        }
      ]
    },
    {
      "cell_type": "markdown",
      "metadata": {
        "id": "pnAaoTM4Z_2d"
      },
      "source": [
        "## Display"
      ]
    },
    {
      "cell_type": "code",
      "metadata": {
        "id": "zgcPWY2zZwiG"
      },
      "source": [
        "import matplotlib.pyplot as plt"
      ],
      "execution_count": 19,
      "outputs": []
    },
    {
      "cell_type": "code",
      "metadata": {
        "colab": {
          "base_uri": "https://localhost:8080/",
          "height": 237
        },
        "id": "Xu0XyRcTZ500",
        "outputId": "0dfb3bf9-756d-4dcc-e299-22257aff9be0"
      },
      "source": [
        "plt.imshow(nouns_wordcloud)"
      ],
      "execution_count": 20,
      "outputs": [
        {
          "output_type": "execute_result",
          "data": {
            "text/plain": [
              "<matplotlib.image.AxesImage at 0x7f304d9dc650>"
            ]
          },
          "metadata": {},
          "execution_count": 20
        },
        {
          "output_type": "display_data",
          "data": {
            "image/png": "[encoded data removed]",
            "text/plain": [
              "<Figure size 432x288 with 1 Axes>"
            ]
          },
          "metadata": {
            "needs_background": "light"
          }
        }
      ]
    },
    {
      "cell_type": "markdown",
      "metadata": {
        "id": "glYmo-OEcuuU"
      },
      "source": [
        "stopwords, fonts 사용 안한 것"
      ]
    },
    {
      "cell_type": "markdown",
      "metadata": {
        "id": "nMsUnNdocO0U"
      },
      "source": [
        "## CountVectorizer(빈도수 사용)"
      ]
    },
    {
      "cell_type": "code",
      "metadata": {
        "id": "9qwxE3mVaOLz"
      },
      "source": [
        "from sklearn.feature_extraction.text import CountVectorizer "
      ],
      "execution_count": 21,
      "outputs": []
    },
    {
      "cell_type": "code",
      "metadata": {
        "id": "UWy-7_vifafU"
      },
      "source": [
        "corpus = [\n",
        "    'you know I want your love',\n",
        "    'I like you',\n",
        "    'what should I do ',    \n",
        "]"
      ],
      "execution_count": 22,
      "outputs": []
    },
    {
      "cell_type": "code",
      "metadata": {
        "id": "FwHR0IB5fdXl"
      },
      "source": [
        "countvectorizer  = CountVectorizer()"
      ],
      "execution_count": 23,
      "outputs": []
    },
    {
      "cell_type": "code",
      "metadata": {
        "colab": {
          "base_uri": "https://localhost:8080/"
        },
        "id": "QR5a5OmPfp4D",
        "outputId": "7ff4e4b7-7d46-456a-e66b-1f1378ab43a4"
      },
      "source": [
        "countvectorizer.fit_transform(corpus).toarray()"
      ],
      "execution_count": 24,
      "outputs": [
        {
          "output_type": "execute_result",
          "data": {
            "text/plain": [
              "array([[0, 1, 0, 1, 0, 1, 0, 1, 1],\n",
              "       [0, 0, 1, 0, 0, 0, 0, 1, 0],\n",
              "       [1, 0, 0, 0, 1, 0, 1, 0, 0]])"
            ]
          },
          "metadata": {},
          "execution_count": 24
        }
      ]
    },
    {
      "cell_type": "markdown",
      "metadata": {
        "id": "1lJ2HgszgBGM"
      },
      "source": [
        "vocabulary_ 로 컬럼의 순서 확인"
      ]
    },
    {
      "cell_type": "code",
      "metadata": {
        "colab": {
          "base_uri": "https://localhost:8080/"
        },
        "id": "5xCLPghDf1tC",
        "outputId": "8ac02fa1-6779-4c04-b077-0ccc8ceac4f7"
      },
      "source": [
        "print(countvectorizer.vocabulary_)"
      ],
      "execution_count": 25,
      "outputs": [
        {
          "output_type": "stream",
          "text": [
            "{'you': 7, 'know': 1, 'want': 5, 'your': 8, 'love': 3, 'like': 2, 'what': 6, 'should': 4, 'do': 0}\n"
          ],
          "name": "stdout"
        }
      ]
    },
    {
      "cell_type": "markdown",
      "metadata": {
        "id": "Yj2Fgg1hV4tj"
      },
      "source": [
        "## Word2Vec\n",
        "리스트 라인의 단어를 백터화 시키는것"
      ]
    },
    {
      "cell_type": "code",
      "metadata": {
        "colab": {
          "base_uri": "https://localhost:8080/"
        },
        "id": "ls2TKGGh7dU-",
        "outputId": "a13397fc-68a6-45ab-a4f6-7f6b425844c4"
      },
      "source": [
        "posts_noun[0:10]"
      ],
      "execution_count": 31,
      "outputs": [
        {
          "output_type": "execute_result",
          "data": {
            "text/plain": [
              "['갤럭시', '플립', '달', '스마트폰', '가치', '스마트폰', '삼각대', '추천', '돈', '산']"
            ]
          },
          "metadata": {},
          "execution_count": 31
        }
      ]
    },
    {
      "cell_type": "code",
      "metadata": {
        "id": "86q_RiyVV7_z"
      },
      "source": [
        "from gensim.models import Word2Vec"
      ],
      "execution_count": 26,
      "outputs": []
    },
    {
      "cell_type": "code",
      "metadata": {
        "id": "1aepym8AWBxs"
      },
      "source": [
        "word2vec= Word2Vec([posts_noun],min_count=1)"
      ],
      "execution_count": 27,
      "outputs": []
    },
    {
      "cell_type": "code",
      "metadata": {
        "colab": {
          "base_uri": "https://localhost:8080/"
        },
        "id": "GuBLiWTwWTR2",
        "outputId": "0e8ab727-e260-43ed-8175-6687c7764606"
      },
      "source": [
        "word2vec"
      ],
      "execution_count": 28,
      "outputs": [
        {
          "output_type": "execute_result",
          "data": {
            "text/plain": [
              "<gensim.models.word2vec.Word2Vec at 0x7f30191b07d0>"
            ]
          },
          "metadata": {},
          "execution_count": 28
        }
      ]
    },
    {
      "cell_type": "markdown",
      "metadata": {
        "id": "Ebu7m55mWXzI"
      },
      "source": [
        "궁금한 단어 넣으면 유사단어 가져옴(코사인 기준)"
      ]
    },
    {
      "cell_type": "code",
      "metadata": {
        "colab": {
          "base_uri": "https://localhost:8080/"
        },
        "id": "ytKrObm9WWFv",
        "outputId": "6c7ac14d-9a04-4019-cc6a-f193c72cef09"
      },
      "source": [
        "word2vec.wv.most_similar('갤럭시')"
      ],
      "execution_count": 32,
      "outputs": [
        {
          "output_type": "execute_result",
          "data": {
            "text/plain": [
              "[('스마트폰', 0.9989941716194153),\n",
              " ('보급', 0.997992753982544),\n",
              " ('가격', 0.9979697465896606),\n",
              " ('앱', 0.9979686141014099),\n",
              " ('방법', 0.9979221820831299),\n",
              " ('스펙', 0.9978921413421631),\n",
              " ('삼성', 0.9977926015853882),\n",
              " ('폰', 0.9977062940597534),\n",
              " ('강의', 0.997644305229187),\n",
              " ('제작', 0.9976001977920532)]"
            ]
          },
          "metadata": {},
          "execution_count": 32
        }
      ]
    },
    {
      "cell_type": "code",
      "metadata": {
        "id": "e9WKeYCtWlAb",
        "colab": {
          "base_uri": "https://localhost:8080/"
        },
        "outputId": "0cbb7383-4155-414e-d0d7-3e3394842f4d"
      },
      "source": [
        "word2vec"
      ],
      "execution_count": 33,
      "outputs": [
        {
          "output_type": "execute_result",
          "data": {
            "text/plain": [
              "<gensim.models.word2vec.Word2Vec at 0x7f30191b07d0>"
            ]
          },
          "metadata": {},
          "execution_count": 33
        }
      ]
    },
    {
      "cell_type": "code",
      "metadata": {
        "id": "85KAolJM74Gc"
      },
      "source": [
        ""
      ],
      "execution_count": null,
      "outputs": []
    }
  ]
}