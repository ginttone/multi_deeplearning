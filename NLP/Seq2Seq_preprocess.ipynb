{
  "nbformat": 4,
  "nbformat_minor": 0,
  "metadata": {
    "colab": {
      "name": "Seq2Seq_preprocess.ipynb",
      "provenance": [],
      "collapsed_sections": [],
      "mount_file_id": "1qmy26eZf3D5OMsZFSIFy0zEcUtmcVf9R",
      "authorship_tag": "ABX9TyNtIKk8T36l9imlTePMwE8X",
      "include_colab_link": true
    },
    "kernelspec": {
      "name": "python3",
      "display_name": "Python 3"
    },
    "language_info": {
      "name": "python"
    }
  },
  "cells": [
    {
      "cell_type": "markdown",
      "metadata": {
        "id": "view-in-github",
        "colab_type": "text"
      },
      "source": [
        "<a href=\"https://colab.research.google.com/github/ginttone/multi_deeplearning/blob/master/NLP/Seq2Seq_preprocess.ipynb\" target=\"_parent\"><img src=\"https://colab.research.google.com/assets/colab-badge.svg\" alt=\"Open In Colab\"/></a>"
      ]
    },
    {
      "cell_type": "markdown",
      "metadata": {
        "id": "Zuj-4gq4I2AM"
      },
      "source": [
        "#  Chatboot , Translation"
      ]
    },
    {
      "cell_type": "markdown",
      "metadata": {
        "id": "ziZIGPs_Gprt"
      },
      "source": [
        "## Sequence-to-Sequence\n",
        "\n",
        "\n",
        "LSTM : 처음 나온 이유는 원래 번역을 위해서였다. 기존의 Dense Layers가 긴 문장을 처리하기 어려운 레이어였다. \n",
        "\n",
        "[RNN](https://wikidocs.net/22886)\n",
        "\n",
        "`↓`\n",
        "\n",
        "[LSTM , GRU](https://excelsior-cjh.tistory.com/185) \n",
        "\n",
        "\n",
        "`↓`\n",
        "\n",
        "[seq 2 seq](https://wikidocs.net/24996)\n",
        "\n",
        "`↓`\n",
        "\n",
        "[Self Attention](https://wikidocs.net/31379)\n",
        "\n",
        "`↓`\n",
        "\n",
        "[BERT](https://wikidocs.net/115055)\n",
        "GPT3\n",
        "\n",
        "인풋 스트링 넣고, 아웃풋 스트링 지정해주면 만들어 진다."
      ]
    },
    {
      "cell_type": "code",
      "metadata": {
        "id": "RlEi3Q5nEXir"
      },
      "source": [
        "!python -m pip install konlpy"
      ],
      "execution_count": null,
      "outputs": []
    },
    {
      "cell_type": "markdown",
      "metadata": {
        "id": "CcLueU6IMOe3"
      },
      "source": [
        "./drive/MyDrive/Multi_test_deeplearning/vocabulary.txt\n",
        "\n",
        "./drive/MyDrive/Multi_test_deeplearning/ChatBotData.csv_short\n",
        "\n",
        "./drive/MyDrive/Multi_test_deeplearning/preprocess.py"
      ]
    },
    {
      "cell_type": "code",
      "metadata": {
        "id": "-lFvjLdfLfBO"
      },
      "source": [
        "# from preprocess import *\n",
        "import preprocess as pp"
      ],
      "execution_count": 4,
      "outputs": []
    },
    {
      "cell_type": "code",
      "metadata": {
        "id": "Nq-6w_JWNT9y"
      },
      "source": [
        "path_csv = './drive/MyDrive/Multi_test_deeplearning/ChatBotData.csv_short'"
      ],
      "execution_count": 5,
      "outputs": []
    },
    {
      "cell_type": "code",
      "metadata": {
        "id": "imBxf7dOLL14"
      },
      "source": [
        "inputs, outputs= pp.load_data(path_csv)"
      ],
      "execution_count": 6,
      "outputs": []
    },
    {
      "cell_type": "code",
      "metadata": {
        "colab": {
          "base_uri": "https://localhost:8080/"
        },
        "id": "DOX4OqpiOFrO",
        "outputId": "a831d544-6679-4bfb-89af-6c7d2e735529"
      },
      "source": [
        "type(inputs), type(outputs)"
      ],
      "execution_count": 7,
      "outputs": [
        {
          "output_type": "execute_result",
          "data": {
            "text/plain": [
              "(list, list)"
            ]
          },
          "metadata": {},
          "execution_count": 7
        }
      ]
    },
    {
      "cell_type": "code",
      "metadata": {
        "colab": {
          "base_uri": "https://localhost:8080/"
        },
        "id": "pta17FcOOKL9",
        "outputId": "41c3d3b1-9b27-4321-843e-8b41776ab26e"
      },
      "source": [
        "inputs[7], outputs[7]"
      ],
      "execution_count": 8,
      "outputs": [
        {
          "output_type": "execute_result",
          "data": {
            "text/plain": [
              "('가스불 켜놓고 나온거 같아', '빨리 집에 돌아가서 끄고 나오세요.')"
            ]
          },
          "metadata": {},
          "execution_count": 8
        }
      ]
    },
    {
      "cell_type": "code",
      "metadata": {
        "colab": {
          "base_uri": "https://localhost:8080/"
        },
        "id": "9mYRIsSZOTlm",
        "outputId": "224e4675-c148-4300-f833-e20a51b97069"
      },
      "source": [
        "inputs[10], outputs[10]"
      ],
      "execution_count": 9,
      "outputs": [
        {
          "output_type": "execute_result",
          "data": {
            "text/plain": [
              "('남자친구 교회 데려가고 싶어', '마음을 열 때까지 설득해보세요.')"
            ]
          },
          "metadata": {},
          "execution_count": 9
        }
      ]
    },
    {
      "cell_type": "code",
      "metadata": {
        "colab": {
          "base_uri": "https://localhost:8080/"
        },
        "id": "bDcG5Tv-Ogi3",
        "outputId": "f6e8731d-8cf2-4e31-e60c-e1396d1244d7"
      },
      "source": [
        "len(inputs), len(outputs)"
      ],
      "execution_count": 10,
      "outputs": [
        {
          "output_type": "execute_result",
          "data": {
            "text/plain": [
              "(20, 20)"
            ]
          },
          "metadata": {},
          "execution_count": 10
        }
      ]
    },
    {
      "cell_type": "code",
      "metadata": {
        "id": "9dlu8MD0OpgF"
      },
      "source": [
        "path_vocab = './drive/MyDrive/Multi_test_deeplearning/vocabulary.txt'"
      ],
      "execution_count": 11,
      "outputs": []
    },
    {
      "cell_type": "code",
      "metadata": {
        "colab": {
          "base_uri": "https://localhost:8080/"
        },
        "id": "7cnuZ3W6O90V",
        "outputId": "0f4e37a6-db53-4f97-f091-1361c219c4dd"
      },
      "source": [
        "char2idx,idx2char,vocab_size = pp.load_vocabulary(path_csv, path_vocab, tokenize_as_morph=False)\n",
        "type(char2idx),type(idx2char),type(vocab_size)"
      ],
      "execution_count": 12,
      "outputs": [
        {
          "output_type": "execute_result",
          "data": {
            "text/plain": [
              "(dict, dict, int)"
            ]
          },
          "metadata": {},
          "execution_count": 12
        }
      ]
    },
    {
      "cell_type": "markdown",
      "metadata": {
        "id": "fOnDfumUPX02"
      },
      "source": [
        "(char2idx) 단어 숫자\n",
        "\n",
        "(idx2char) 숫자 단어\n",
        "\n",
        "(vocab_size) 단어 사이즈"
      ]
    },
    {
      "cell_type": "code",
      "metadata": {
        "colab": {
          "base_uri": "https://localhost:8080/"
        },
        "id": "oZ9sIeLZPt7T",
        "outputId": "c7927113-8354-4e49-e898-c4de8f6ebfce"
      },
      "source": [
        "print(char2idx)\n",
        "print(idx2char)\n",
        "print(vocab_size)"
      ],
      "execution_count": 13,
      "outputs": [
        {
          "output_type": "stream",
          "text": [
            "{'<PAD>': 0, '<SOS>': 1, '<END>': 2, '<UNK>': 3, '운동': 4, '가상화폐': 5, '나온거': 6, '있어도': 7, '적당히': 8, '오늘': 9, '것': 10, '좋을': 11, '돈은': 12, '운동만': 13, '걸리겠어': 14, '훈훈해': 15, '달에는': 16, '빨리': 17, '전생에': 18, '데려가고': 19, '가난한': 20, '혼자를': 21, '생일인데': 22, '너무': 23, '쫄딱': 24, '때까지': 25, '같아': 26, '뭐가': 27, '생각해보세요': 28, '켜놓고': 29, '자의': 30, '좀': 31, '거예요': 32, '잘생겼어': 33, '운동을': 34, '좋다': 35, '구하셨나요': 36, '그': 37, '사세요': 38, '빠를수록': 39, '선물로': 40, '가끔': 41, '필요했던': 42, '같아요': 43, '사람도': 44, '갔어': 45, '평소에': 46, '마세요': 47, '식혀주세요': 48, '새출발': 49, '해보세요': 50, '즐기세요': 51, '따라': 52, '끄고': 53, '좋을까': 54, '승진': 55, '결단은': 56, '어서': 57, '들어올': 58, '나갔어': 59, '바빠': 60, '열': 61, '망함': 62, '궁금해': 63, '거짓말': 64, '남자친구가': 65, '땀을': 66, '가스불': 67, '돌아가서': 68, '게': 69, '남자친구': 70, '비싼데': 71, '나오세요': 72, '따뜻하게': 73, '나': 74, '좋아요': 75, '많이': 76, '가스비': 77, '집착하지': 78, '땀난다': 79, '뭐하는지': 80, '다시': 81, '더': 82, '해': 83, '보인다': 84, '하세요': 85, '나라를': 86, '필요한': 87, '마음을': 88, '나왔다': 89, '잊고': 90, '안': 91, '믿어줘': 92, '가만': 93, '켜고': 94, '혼자인게': 95, '감기': 96, '집에': 97, '가끔은': 98, '절약해봐요': 99, '다음': 100, '설득해보세요': 101, '질린다': 102, '싶어': 103, '줄까': 104, '함께': 105, '또': 106, '설움': 107, '뭘': 108, '그럴': 109, '교회': 110}\n",
            "{0: '<PAD>', 1: '<SOS>', 2: '<END>', 3: '<UNK>', 4: '운동', 5: '가상화폐', 6: '나온거', 7: '있어도', 8: '적당히', 9: '오늘', 10: '것', 11: '좋을', 12: '돈은', 13: '운동만', 14: '걸리겠어', 15: '훈훈해', 16: '달에는', 17: '빨리', 18: '전생에', 19: '데려가고', 20: '가난한', 21: '혼자를', 22: '생일인데', 23: '너무', 24: '쫄딱', 25: '때까지', 26: '같아', 27: '뭐가', 28: '생각해보세요', 29: '켜놓고', 30: '자의', 31: '좀', 32: '거예요', 33: '잘생겼어', 34: '운동을', 35: '좋다', 36: '구하셨나요', 37: '그', 38: '사세요', 39: '빠를수록', 40: '선물로', 41: '가끔', 42: '필요했던', 43: '같아요', 44: '사람도', 45: '갔어', 46: '평소에', 47: '마세요', 48: '식혀주세요', 49: '새출발', 50: '해보세요', 51: '즐기세요', 52: '따라', 53: '끄고', 54: '좋을까', 55: '승진', 56: '결단은', 57: '어서', 58: '들어올', 59: '나갔어', 60: '바빠', 61: '열', 62: '망함', 63: '궁금해', 64: '거짓말', 65: '남자친구가', 66: '땀을', 67: '가스불', 68: '돌아가서', 69: '게', 70: '남자친구', 71: '비싼데', 72: '나오세요', 73: '따뜻하게', 74: '나', 75: '좋아요', 76: '많이', 77: '가스비', 78: '집착하지', 79: '땀난다', 80: '뭐하는지', 81: '다시', 82: '더', 83: '해', 84: '보인다', 85: '하세요', 86: '나라를', 87: '필요한', 88: '마음을', 89: '나왔다', 90: '잊고', 91: '안', 92: '믿어줘', 93: '가만', 94: '켜고', 95: '혼자인게', 96: '감기', 97: '집에', 98: '가끔은', 99: '절약해봐요', 100: '다음', 101: '설득해보세요', 102: '질린다', 103: '싶어', 104: '줄까', 105: '함께', 106: '또', 107: '설움', 108: '뭘', 109: '그럴', 110: '교회'}\n",
            "111\n"
          ],
          "name": "stdout"
        }
      ]
    },
    {
      "cell_type": "code",
      "metadata": {
        "colab": {
          "base_uri": "https://localhost:8080/"
        },
        "id": "ioZGhmdQPv0b",
        "outputId": "d2fa277f-95a4-42a8-b926-b6d00e525e1a"
      },
      "source": [
        "# inputs\n",
        "\n",
        "idx_inputs, input_seq_len = pp.enc_processing(inputs, char2idx)\n",
        "type(idx_inputs), len(input_seq_len) "
      ],
      "execution_count": 28,
      "outputs": [
        {
          "output_type": "execute_result",
          "data": {
            "text/plain": [
              "(numpy.ndarray, 20)"
            ]
          },
          "metadata": {},
          "execution_count": 28
        }
      ]
    },
    {
      "cell_type": "code",
      "metadata": {
        "colab": {
          "base_uri": "https://localhost:8080/"
        },
        "id": "Rc37luZuQ5Gr",
        "outputId": "a0356420-1b12-4924-8684-82e20eee4ec2"
      },
      "source": [
        "idx_inputs[3:5]"
      ],
      "execution_count": 29,
      "outputs": [
        {
          "output_type": "execute_result",
          "data": {
            "text/plain": [
              "array([[ 20,  30, 107,   0,   0,   0,   0,   0,   0,   0,   0,   0,   0,\n",
              "          0,   0,   0,   0,   0,   0,   0,   0,   0,   0,   0,   0],\n",
              "       [ 93,   7,  79,   0,   0,   0,   0,   0,   0,   0,   0,   0,   0,\n",
              "          0,   0,   0,   0,   0,   0,   0,   0,   0,   0,   0,   0]])"
            ]
          },
          "metadata": {},
          "execution_count": 29
        }
      ]
    },
    {
      "cell_type": "code",
      "metadata": {
        "colab": {
          "base_uri": "https://localhost:8080/"
        },
        "id": "e_YMfQEbRYA1",
        "outputId": "1e7f1e9d-25ac-42ca-fbe4-49c44e5f1cab"
      },
      "source": [
        "# outputs\n",
        "\n",
        "idx_outputs, outputs_seq_len = pp.dec_output_processing(outputs, char2idx)\n",
        "type(idx_outputs), outputs_seq_len"
      ],
      "execution_count": 30,
      "outputs": [
        {
          "output_type": "execute_result",
          "data": {
            "text/plain": [
              "(numpy.ndarray, [5, 5, 3, 5, 3, 5, 6, 6, 5, 3, 5, 4, 5, 7, 4, 4, 4, 4, 4, 4])"
            ]
          },
          "metadata": {},
          "execution_count": 30
        }
      ]
    },
    {
      "cell_type": "code",
      "metadata": {
        "colab": {
          "base_uri": "https://localhost:8080/"
        },
        "id": "HghF_0x1R30E",
        "outputId": "bdaa3dba-53dd-451f-ad72-6dfa16fc520b"
      },
      "source": [
        "idx_outputs[3:5]"
      ],
      "execution_count": 31,
      "outputs": [
        {
          "output_type": "execute_result",
          "data": {
            "text/plain": [
              "array([[ 1, 12, 81, 58, 32,  0,  0,  0,  0,  0,  0,  0,  0,  0,  0,  0,\n",
              "         0,  0,  0,  0,  0,  0,  0,  0,  0],\n",
              "       [ 1, 66, 48,  0,  0,  0,  0,  0,  0,  0,  0,  0,  0,  0,  0,  0,\n",
              "         0,  0,  0,  0,  0,  0,  0,  0,  0]])"
            ]
          },
          "metadata": {},
          "execution_count": 31
        }
      ]
    },
    {
      "cell_type": "code",
      "metadata": {
        "colab": {
          "base_uri": "https://localhost:8080/"
        },
        "id": "afiAClcNR-VS",
        "outputId": "106031e4-7e90-40ca-d9d0-a53612ab3a37"
      },
      "source": [
        "# target\n",
        "\n",
        "idx_targets = pp.dec_target_processing(outputs, char2idx)\n",
        "type(idx_targets), len(idx_targets)"
      ],
      "execution_count": 32,
      "outputs": [
        {
          "output_type": "execute_result",
          "data": {
            "text/plain": [
              "(numpy.ndarray, 20)"
            ]
          },
          "metadata": {},
          "execution_count": 32
        }
      ]
    },
    {
      "cell_type": "code",
      "metadata": {
        "colab": {
          "base_uri": "https://localhost:8080/"
        },
        "id": "zl1sM6H7SZ0U",
        "outputId": "b1100fcf-2f5b-4b2f-f1ce-71b84d9626f0"
      },
      "source": [
        "idx_targets[3:5]"
      ],
      "execution_count": 33,
      "outputs": [
        {
          "output_type": "execute_result",
          "data": {
            "text/plain": [
              "array([[12, 81, 58, 32,  2,  0,  0,  0,  0,  0,  0,  0,  0,  0,  0,  0,\n",
              "         0,  0,  0,  0,  0,  0,  0,  0,  0],\n",
              "       [66, 48,  2,  0,  0,  0,  0,  0,  0,  0,  0,  0,  0,  0,  0,  0,\n",
              "         0,  0,  0,  0,  0,  0,  0,  0,  0]])"
            ]
          },
          "metadata": {},
          "execution_count": 33
        }
      ]
    },
    {
      "cell_type": "markdown",
      "metadata": {
        "id": "4TMh4TbRS6Uu"
      },
      "source": [
        "## Numpy로 떨궈서 사용하기\n",
        "\n",
        "행열이 숫자일 경우 , pandas로 떨궈서 사용하는 것 보다 빠르게 사용이 가능하다. "
      ]
    },
    {
      "cell_type": "code",
      "metadata": {
        "id": "Rws6jMlxThjU"
      },
      "source": [
        "import numpy as np"
      ],
      "execution_count": 39,
      "outputs": []
    },
    {
      "cell_type": "code",
      "metadata": {
        "colab": {
          "base_uri": "https://localhost:8080/"
        },
        "id": "O7UyXstwUnGj",
        "outputId": "67630a1e-b3e6-4c17-8784-056e08ab0155"
      },
      "source": [
        "!ls ./drive/MyDrive/Multi_test_deeplearning/train_inputs.npy"
      ],
      "execution_count": 43,
      "outputs": [
        {
          "output_type": "stream",
          "text": [
            "./drive/MyDrive/Multi_test_deeplearning/train_inputs.npy\n"
          ],
          "name": "stdout"
        }
      ]
    },
    {
      "cell_type": "code",
      "metadata": {
        "id": "tQXR955fUDoV"
      },
      "source": [
        "# np.save(open('./drive/MyDrive/Multi_test_deeplearning/train_inputs.npy','wb'),idx_inputs)"
      ],
      "execution_count": 40,
      "outputs": []
    },
    {
      "cell_type": "code",
      "metadata": {
        "id": "oBXDYpDJUvAt"
      },
      "source": [
        "# np.save(open('./drive/MyDrive/Multi_test_deeplearning/train_outputs.npy','wb'),idx_outputs)"
      ],
      "execution_count": 45,
      "outputs": []
    },
    {
      "cell_type": "code",
      "metadata": {
        "id": "dXfWs7NBVJ6P"
      },
      "source": [
        "# np.save(open('./drive/MyDrive/Multi_test_deeplearning/train_targets.npy','wb'),idx_targets)"
      ],
      "execution_count": 46,
      "outputs": []
    },
    {
      "cell_type": "code",
      "metadata": {
        "id": "j71aNMjsTNQG"
      },
      "source": [
        "data_configs = dict()"
      ],
      "execution_count": 53,
      "outputs": []
    },
    {
      "cell_type": "code",
      "metadata": {
        "id": "-Rj35kSATfDm"
      },
      "source": [
        "data_configs['char2idx'] = char2idx\n",
        "data_configs['idx2char'] = idx2char\n",
        "data_configs['vocab_size'] = vocab_size"
      ],
      "execution_count": 54,
      "outputs": []
    },
    {
      "cell_type": "code",
      "metadata": {
        "id": "akZ3YFXFVe5a"
      },
      "source": [
        "data_configs['pad_symbol'] = '<PAD>'\n",
        "data_configs['std_symbol'] = '<STD>'\n",
        "data_configs['end_symbol'] = '<END>'\n",
        "data_configs['unk_symbol'] = '<UNK>'"
      ],
      "execution_count": 55,
      "outputs": []
    },
    {
      "cell_type": "code",
      "metadata": {
        "id": "l3heXnAKVvnA"
      },
      "source": [
        "# pp.json.dump(data_configs, open('./drive/MyDrive/Multi_test_deeplearning/data_configs.json','w'))"
      ],
      "execution_count": 56,
      "outputs": []
    },
    {
      "cell_type": "code",
      "metadata": {
        "id": "7jojCAIuWZNq"
      },
      "source": [
        ""
      ],
      "execution_count": null,
      "outputs": []
    }
  ]
}