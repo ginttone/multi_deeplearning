{
  "nbformat": 4,
  "nbformat_minor": 0,
  "metadata": {
    "colab": {
      "name": "iris_split_classification.ipynb",
      "provenance": [],
      "collapsed_sections": [],
      "authorship_tag": "ABX9TyPtnBmsie+8mG9xMRW+8sQf",
      "include_colab_link": true
    },
    "kernelspec": {
      "name": "python3",
      "display_name": "Python 3"
    },
    "language_info": {
      "name": "python"
    }
  },
  "cells": [
    {
      "cell_type": "markdown",
      "metadata": {
        "id": "view-in-github",
        "colab_type": "text"
      },
      "source": [
        "<a href=\"https://colab.research.google.com/github/ginttone/multi_deeplearning/blob/master/iris_split_classification.ipynb\" target=\"_parent\"><img src=\"https://colab.research.google.com/assets/colab-badge.svg\" alt=\"Open In Colab\"/></a>"
      ]
    },
    {
      "cell_type": "markdown",
      "metadata": {
        "id": "sRFzGaELBb0e"
      },
      "source": [
        "## 데이터 가져오기(sklearn -> iris)"
      ]
    },
    {
      "cell_type": "code",
      "metadata": {
        "id": "MxNVRTdU-8_6"
      },
      "source": [
        "from sklearn import datasets"
      ],
      "execution_count": 1,
      "outputs": []
    },
    {
      "cell_type": "markdown",
      "metadata": {
        "id": "QW7IHeBx_wLt"
      },
      "source": [
        "iris 데이터가 cm로 동일하기 때문에 스케일링 할 필요 없다\n",
        "\n",
        "\n",
        "iris.feaure_names  (각 컬럼 네임)\n",
        "```\n",
        "['sepal length (cm)',\n",
        " 'sepal width (cm)',\n",
        " 'petal length (cm)',\n",
        " 'petal width (cm)']\n",
        "```\n",
        "\n",
        "iris.data와 target을 쓸거다"
      ]
    },
    {
      "cell_type": "code",
      "metadata": {
        "id": "Ncacib3q_ZAz"
      },
      "source": [
        "iris = datasets.load_iris()"
      ],
      "execution_count": 2,
      "outputs": []
    },
    {
      "cell_type": "code",
      "metadata": {
        "id": "vzNQvkJm_2mV"
      },
      "source": [
        "import pandas as pd"
      ],
      "execution_count": 3,
      "outputs": []
    },
    {
      "cell_type": "code",
      "metadata": {
        "id": "1J5ld9H-AGsi"
      },
      "source": [
        "df_iris = pd.DataFrame(iris.data)"
      ],
      "execution_count": 4,
      "outputs": []
    },
    {
      "cell_type": "code",
      "metadata": {
        "colab": {
          "base_uri": "https://localhost:8080/"
        },
        "id": "hQQMeGYEANYe",
        "outputId": "a6c98fce-0bf1-44d3-de18-91df75a6bf70"
      },
      "source": [
        "df_iris.info()"
      ],
      "execution_count": 5,
      "outputs": [
        {
          "output_type": "stream",
          "text": [
            "<class 'pandas.core.frame.DataFrame'>\n",
            "RangeIndex: 150 entries, 0 to 149\n",
            "Data columns (total 4 columns):\n",
            " #   Column  Non-Null Count  Dtype  \n",
            "---  ------  --------------  -----  \n",
            " 0   0       150 non-null    float64\n",
            " 1   1       150 non-null    float64\n",
            " 2   2       150 non-null    float64\n",
            " 3   3       150 non-null    float64\n",
            "dtypes: float64(4)\n",
            "memory usage: 4.8 KB\n"
          ],
          "name": "stdout"
        }
      ]
    },
    {
      "cell_type": "markdown",
      "metadata": {
        "id": "nfC4ubHIBXoz"
      },
      "source": [
        "##  DB에 넣기"
      ]
    },
    {
      "cell_type": "code",
      "metadata": {
        "id": "2njLdTnzBAEQ"
      },
      "source": [
        "import sqlite3"
      ],
      "execution_count": 6,
      "outputs": []
    },
    {
      "cell_type": "code",
      "metadata": {
        "id": "IE2wF1wuBkX9"
      },
      "source": [
        "connect = sqlite3.connect('./db.sqlite3')"
      ],
      "execution_count": 7,
      "outputs": []
    },
    {
      "cell_type": "code",
      "metadata": {
        "id": "tblpxY3ABp2P"
      },
      "source": [
        "df_iris.to_sql('iris_resource', connect, if_exists='append' , index=False)"
      ],
      "execution_count": 8,
      "outputs": []
    },
    {
      "cell_type": "code",
      "metadata": {
        "colab": {
          "base_uri": "https://localhost:8080/",
          "height": 172
        },
        "id": "Fzdq0n88CaQF",
        "outputId": "38c12f04-e432-4a0d-b019-b6ca29765d83"
      },
      "source": [
        "df_load = pd.read_sql_query('select * from iris_resource', connect)\n",
        "\n",
        "df_load.head(4)"
      ],
      "execution_count": 9,
      "outputs": [
        {
          "output_type": "execute_result",
          "data": {
            "text/html": [
              "<div>\n",
              "<style scoped>\n",
              "    .dataframe tbody tr th:only-of-type {\n",
              "        vertical-align: middle;\n",
              "    }\n",
              "\n",
              "    .dataframe tbody tr th {\n",
              "        vertical-align: top;\n",
              "    }\n",
              "\n",
              "    .dataframe thead th {\n",
              "        text-align: right;\n",
              "    }\n",
              "</style>\n",
              "<table border=\"1\" class=\"dataframe\">\n",
              "  <thead>\n",
              "    <tr style=\"text-align: right;\">\n",
              "      <th></th>\n",
              "      <th>0</th>\n",
              "      <th>1</th>\n",
              "      <th>2</th>\n",
              "      <th>3</th>\n",
              "    </tr>\n",
              "  </thead>\n",
              "  <tbody>\n",
              "    <tr>\n",
              "      <th>0</th>\n",
              "      <td>5.1</td>\n",
              "      <td>3.5</td>\n",
              "      <td>1.4</td>\n",
              "      <td>0.2</td>\n",
              "    </tr>\n",
              "    <tr>\n",
              "      <th>1</th>\n",
              "      <td>4.9</td>\n",
              "      <td>3.0</td>\n",
              "      <td>1.4</td>\n",
              "      <td>0.2</td>\n",
              "    </tr>\n",
              "    <tr>\n",
              "      <th>2</th>\n",
              "      <td>4.7</td>\n",
              "      <td>3.2</td>\n",
              "      <td>1.3</td>\n",
              "      <td>0.2</td>\n",
              "    </tr>\n",
              "    <tr>\n",
              "      <th>3</th>\n",
              "      <td>4.6</td>\n",
              "      <td>3.1</td>\n",
              "      <td>1.5</td>\n",
              "      <td>0.2</td>\n",
              "    </tr>\n",
              "  </tbody>\n",
              "</table>\n",
              "</div>"
            ],
            "text/plain": [
              "     0    1    2    3\n",
              "0  5.1  3.5  1.4  0.2\n",
              "1  4.9  3.0  1.4  0.2\n",
              "2  4.7  3.2  1.3  0.2\n",
              "3  4.6  3.1  1.5  0.2"
            ]
          },
          "metadata": {
            "tags": []
          },
          "execution_count": 9
        }
      ]
    },
    {
      "cell_type": "code",
      "metadata": {
        "id": "lsNomclTDDiG"
      },
      "source": [
        "x_data = df_load.to_numpy()"
      ],
      "execution_count": 10,
      "outputs": []
    },
    {
      "cell_type": "code",
      "metadata": {
        "colab": {
          "base_uri": "https://localhost:8080/"
        },
        "id": "R7NhpgQFDhpR",
        "outputId": "3c5bda20-6034-49af-fbf1-3664ed4c2b88"
      },
      "source": [
        "x_data.shape"
      ],
      "execution_count": 11,
      "outputs": [
        {
          "output_type": "execute_result",
          "data": {
            "text/plain": [
              "(150, 4)"
            ]
          },
          "metadata": {
            "tags": []
          },
          "execution_count": 11
        }
      ]
    },
    {
      "cell_type": "code",
      "metadata": {
        "id": "h-K3bqXKDkTm"
      },
      "source": [
        "y_data = iris.target"
      ],
      "execution_count": 12,
      "outputs": []
    },
    {
      "cell_type": "code",
      "metadata": {
        "colab": {
          "base_uri": "https://localhost:8080/"
        },
        "id": "0NZGeN9TDzFH",
        "outputId": "56ec2ab3-3fab-4e18-cf6a-2a219ee9d683"
      },
      "source": [
        "y_data"
      ],
      "execution_count": 13,
      "outputs": [
        {
          "output_type": "execute_result",
          "data": {
            "text/plain": [
              "array([0, 0, 0, 0, 0, 0, 0, 0, 0, 0, 0, 0, 0, 0, 0, 0, 0, 0, 0, 0, 0, 0,\n",
              "       0, 0, 0, 0, 0, 0, 0, 0, 0, 0, 0, 0, 0, 0, 0, 0, 0, 0, 0, 0, 0, 0,\n",
              "       0, 0, 0, 0, 0, 0, 1, 1, 1, 1, 1, 1, 1, 1, 1, 1, 1, 1, 1, 1, 1, 1,\n",
              "       1, 1, 1, 1, 1, 1, 1, 1, 1, 1, 1, 1, 1, 1, 1, 1, 1, 1, 1, 1, 1, 1,\n",
              "       1, 1, 1, 1, 1, 1, 1, 1, 1, 1, 1, 1, 2, 2, 2, 2, 2, 2, 2, 2, 2, 2,\n",
              "       2, 2, 2, 2, 2, 2, 2, 2, 2, 2, 2, 2, 2, 2, 2, 2, 2, 2, 2, 2, 2, 2,\n",
              "       2, 2, 2, 2, 2, 2, 2, 2, 2, 2, 2, 2, 2, 2, 2, 2, 2, 2])"
            ]
          },
          "metadata": {
            "tags": []
          },
          "execution_count": 13
        }
      ]
    },
    {
      "cell_type": "markdown",
      "metadata": {
        "id": "v0aIt96VI6DQ"
      },
      "source": [
        "####`>>>`split 후"
      ]
    },
    {
      "cell_type": "code",
      "metadata": {
        "id": "X8j0DPFeJB-n"
      },
      "source": [
        "from sklearn.model_selection import train_test_split"
      ],
      "execution_count": 14,
      "outputs": []
    },
    {
      "cell_type": "code",
      "metadata": {
        "id": "dTjeqpe8Jc_I"
      },
      "source": [
        "x_train, x_val, y_train , y_val= train_test_split(x_data, y_data)"
      ],
      "execution_count": 15,
      "outputs": []
    },
    {
      "cell_type": "code",
      "metadata": {
        "colab": {
          "base_uri": "https://localhost:8080/"
        },
        "id": "vEPtZNERVucX",
        "outputId": "4bee4dba-3137-44b9-e933-7165b2ab659c"
      },
      "source": [
        "import numpy as np\n",
        "np.unique(y_data)"
      ],
      "execution_count": 16,
      "outputs": [
        {
          "output_type": "execute_result",
          "data": {
            "text/plain": [
              "array([0, 1, 2])"
            ]
          },
          "metadata": {
            "tags": []
          },
          "execution_count": 16
        }
      ]
    },
    {
      "cell_type": "markdown",
      "metadata": {
        "id": "t5v8h1Y9D9Jt"
      },
      "source": [
        "(스플릿 단계 생략)"
      ]
    },
    {
      "cell_type": "markdown",
      "metadata": {
        "id": "gxQzah0qD3c3"
      },
      "source": [
        "## 교육단계 \n",
        "\n",
        "데이터 통째로 딥러닝에 넣기"
      ]
    },
    {
      "cell_type": "markdown",
      "metadata": {
        "id": "O8Dpgsq6Ek1Q"
      },
      "source": [
        "### 모델만들기"
      ]
    },
    {
      "cell_type": "code",
      "metadata": {
        "id": "CYzekvWUDz_M"
      },
      "source": [
        "import tensorflow as tf"
      ],
      "execution_count": 17,
      "outputs": []
    },
    {
      "cell_type": "code",
      "metadata": {
        "id": "I-fqGYioEEiJ"
      },
      "source": [
        "model = tf.keras.Sequential()"
      ],
      "execution_count": 18,
      "outputs": []
    },
    {
      "cell_type": "code",
      "metadata": {
        "colab": {
          "base_uri": "https://localhost:8080/"
        },
        "id": "aVPrht-EEJJ9",
        "outputId": "a090df55-1976-4fb6-d465-a2b192be8165"
      },
      "source": [
        "model.add(tf.keras.Input(shape =(4,)))"
      ],
      "execution_count": 19,
      "outputs": [
        {
          "output_type": "stream",
          "text": [
            "WARNING:tensorflow:Please add `keras.layers.InputLayer` instead of `keras.Input` to Sequential model. `keras.Input` is intended to be used by Functional model.\n"
          ],
          "name": "stdout"
        }
      ]
    },
    {
      "cell_type": "code",
      "metadata": {
        "id": "EU0ceZvYEQkj"
      },
      "source": [
        "model.add(tf.keras.layers.Dense(64, activation='relu'))\n",
        "model.add(tf.keras.layers.Dense(24, activation='relu'))"
      ],
      "execution_count": 20,
      "outputs": []
    },
    {
      "cell_type": "code",
      "metadata": {
        "id": "sGx-JQW5EQUH"
      },
      "source": [
        "model.add(tf.keras.layers.Dense(3,activation='softmax'))"
      ],
      "execution_count": 21,
      "outputs": []
    },
    {
      "cell_type": "code",
      "metadata": {
        "id": "T-W8DjgHEVvD"
      },
      "source": [
        "model.compile(optimizer='adam', loss='sparse_categorical_crossentropy', metrics=['acc'])"
      ],
      "execution_count": 22,
      "outputs": []
    },
    {
      "cell_type": "code",
      "metadata": {
        "colab": {
          "base_uri": "https://localhost:8080/"
        },
        "id": "ssGh96aUYjdi",
        "outputId": "1ddeb32a-7b50-4fbc-d429-c660777664d1"
      },
      "source": [
        "model.summary()"
      ],
      "execution_count": 23,
      "outputs": [
        {
          "output_type": "stream",
          "text": [
            "Model: \"sequential\"\n",
            "_________________________________________________________________\n",
            "Layer (type)                 Output Shape              Param #   \n",
            "=================================================================\n",
            "dense (Dense)                (None, 64)                320       \n",
            "_________________________________________________________________\n",
            "dense_1 (Dense)              (None, 24)                1560      \n",
            "_________________________________________________________________\n",
            "dense_2 (Dense)              (None, 3)                 75        \n",
            "=================================================================\n",
            "Total params: 1,955\n",
            "Trainable params: 1,955\n",
            "Non-trainable params: 0\n",
            "_________________________________________________________________\n"
          ],
          "name": "stdout"
        }
      ]
    },
    {
      "cell_type": "markdown",
      "metadata": {
        "id": "uIQQH1xCEhPf"
      },
      "source": [
        "### 학습시키기\n",
        "\n",
        "validation_split 쏠림 현상이 있을 수 있으니 다른데이터랑 비교하는 것 "
      ]
    },
    {
      "cell_type": "markdown",
      "metadata": {
        "id": "E1gmSizsKBk6"
      },
      "source": [
        "#### `>>>`split 후"
      ]
    },
    {
      "cell_type": "code",
      "metadata": {
        "colab": {
          "base_uri": "https://localhost:8080/"
        },
        "id": "813a-j67Ea0N",
        "outputId": "401fc58f-87b0-46b3-cda2-df0f1e9f3e8a"
      },
      "source": [
        "# model.fit(x_data, y_data, epochs=50, validation_split=0.3)\n",
        "model.fit(x_train, y_train, epochs=50, validation_data=(x_val,y_val))"
      ],
      "execution_count": 24,
      "outputs": [
        {
          "output_type": "stream",
          "text": [
            "Epoch 1/50\n",
            "4/4 [==============================] - 1s 53ms/step - loss: 1.0248 - acc: 0.6429 - val_loss: 0.9743 - val_acc: 0.6316\n",
            "Epoch 2/50\n",
            "4/4 [==============================] - 0s 8ms/step - loss: 0.9506 - acc: 0.7411 - val_loss: 0.9177 - val_acc: 0.7368\n",
            "Epoch 3/50\n",
            "4/4 [==============================] - 0s 7ms/step - loss: 0.9042 - acc: 0.7768 - val_loss: 0.8805 - val_acc: 0.7895\n",
            "Epoch 4/50\n",
            "4/4 [==============================] - 0s 8ms/step - loss: 0.8683 - acc: 0.7946 - val_loss: 0.8518 - val_acc: 0.8158\n",
            "Epoch 5/50\n",
            "4/4 [==============================] - 0s 8ms/step - loss: 0.8373 - acc: 0.8393 - val_loss: 0.8276 - val_acc: 0.6842\n",
            "Epoch 6/50\n",
            "4/4 [==============================] - 0s 8ms/step - loss: 0.8091 - acc: 0.8393 - val_loss: 0.8012 - val_acc: 0.7632\n",
            "Epoch 7/50\n",
            "4/4 [==============================] - 0s 7ms/step - loss: 0.7777 - acc: 0.8482 - val_loss: 0.7726 - val_acc: 0.9474\n",
            "Epoch 8/50\n",
            "4/4 [==============================] - 0s 8ms/step - loss: 0.7515 - acc: 0.8036 - val_loss: 0.7491 - val_acc: 0.7632\n",
            "Epoch 9/50\n",
            "4/4 [==============================] - 0s 7ms/step - loss: 0.7239 - acc: 0.7768 - val_loss: 0.7254 - val_acc: 0.8947\n",
            "Epoch 10/50\n",
            "4/4 [==============================] - 0s 13ms/step - loss: 0.6952 - acc: 0.8571 - val_loss: 0.7009 - val_acc: 0.8947\n",
            "Epoch 11/50\n",
            "4/4 [==============================] - 0s 8ms/step - loss: 0.6686 - acc: 0.8661 - val_loss: 0.6768 - val_acc: 0.8947\n",
            "Epoch 12/50\n",
            "4/4 [==============================] - 0s 8ms/step - loss: 0.6455 - acc: 0.8214 - val_loss: 0.6499 - val_acc: 0.8947\n",
            "Epoch 13/50\n",
            "4/4 [==============================] - 0s 7ms/step - loss: 0.6121 - acc: 0.8750 - val_loss: 0.6297 - val_acc: 0.8684\n",
            "Epoch 14/50\n",
            "4/4 [==============================] - 0s 8ms/step - loss: 0.5919 - acc: 0.8929 - val_loss: 0.6116 - val_acc: 0.8158\n",
            "Epoch 15/50\n",
            "4/4 [==============================] - 0s 8ms/step - loss: 0.5667 - acc: 0.9107 - val_loss: 0.5868 - val_acc: 0.8947\n",
            "Epoch 16/50\n",
            "4/4 [==============================] - 0s 7ms/step - loss: 0.5440 - acc: 0.8304 - val_loss: 0.5698 - val_acc: 0.8684\n",
            "Epoch 17/50\n",
            "4/4 [==============================] - 0s 8ms/step - loss: 0.5272 - acc: 0.8214 - val_loss: 0.5525 - val_acc: 0.8947\n",
            "Epoch 18/50\n",
            "4/4 [==============================] - 0s 8ms/step - loss: 0.5090 - acc: 0.8839 - val_loss: 0.5371 - val_acc: 0.9474\n",
            "Epoch 19/50\n",
            "4/4 [==============================] - 0s 44ms/step - loss: 0.4884 - acc: 0.9286 - val_loss: 0.5218 - val_acc: 0.8947\n",
            "Epoch 20/50\n",
            "4/4 [==============================] - 0s 13ms/step - loss: 0.4733 - acc: 0.9018 - val_loss: 0.5075 - val_acc: 0.8947\n",
            "Epoch 21/50\n",
            "4/4 [==============================] - 0s 7ms/step - loss: 0.4599 - acc: 0.9018 - val_loss: 0.4948 - val_acc: 0.8947\n",
            "Epoch 22/50\n",
            "4/4 [==============================] - 0s 7ms/step - loss: 0.4447 - acc: 0.9375 - val_loss: 0.4837 - val_acc: 0.9474\n",
            "Epoch 23/50\n",
            "4/4 [==============================] - 0s 7ms/step - loss: 0.4319 - acc: 0.9732 - val_loss: 0.4726 - val_acc: 0.9737\n",
            "Epoch 24/50\n",
            "4/4 [==============================] - 0s 7ms/step - loss: 0.4192 - acc: 0.9643 - val_loss: 0.4576 - val_acc: 0.9474\n",
            "Epoch 25/50\n",
            "4/4 [==============================] - 0s 6ms/step - loss: 0.4065 - acc: 0.9554 - val_loss: 0.4449 - val_acc: 0.9474\n",
            "Epoch 26/50\n",
            "4/4 [==============================] - 0s 7ms/step - loss: 0.3954 - acc: 0.9464 - val_loss: 0.4326 - val_acc: 0.9474\n",
            "Epoch 27/50\n",
            "4/4 [==============================] - 0s 7ms/step - loss: 0.3829 - acc: 0.9732 - val_loss: 0.4265 - val_acc: 1.0000\n",
            "Epoch 28/50\n",
            "4/4 [==============================] - 0s 7ms/step - loss: 0.3742 - acc: 0.9554 - val_loss: 0.4152 - val_acc: 1.0000\n",
            "Epoch 29/50\n",
            "4/4 [==============================] - 0s 7ms/step - loss: 0.3622 - acc: 0.9643 - val_loss: 0.3989 - val_acc: 0.9474\n",
            "Epoch 30/50\n",
            "4/4 [==============================] - 0s 8ms/step - loss: 0.3550 - acc: 0.9375 - val_loss: 0.3892 - val_acc: 0.9474\n",
            "Epoch 31/50\n",
            "4/4 [==============================] - 0s 6ms/step - loss: 0.3450 - acc: 0.9464 - val_loss: 0.3828 - val_acc: 0.9474\n",
            "Epoch 32/50\n",
            "4/4 [==============================] - 0s 7ms/step - loss: 0.3403 - acc: 0.9464 - val_loss: 0.3830 - val_acc: 0.9737\n",
            "Epoch 33/50\n",
            "4/4 [==============================] - 0s 7ms/step - loss: 0.3284 - acc: 0.9732 - val_loss: 0.3637 - val_acc: 0.9474\n",
            "Epoch 34/50\n",
            "4/4 [==============================] - 0s 7ms/step - loss: 0.3198 - acc: 0.9643 - val_loss: 0.3546 - val_acc: 0.9474\n",
            "Epoch 35/50\n",
            "4/4 [==============================] - 0s 6ms/step - loss: 0.3167 - acc: 0.9286 - val_loss: 0.3465 - val_acc: 0.9474\n",
            "Epoch 36/50\n",
            "4/4 [==============================] - 0s 7ms/step - loss: 0.3063 - acc: 0.9643 - val_loss: 0.3499 - val_acc: 1.0000\n",
            "Epoch 37/50\n",
            "4/4 [==============================] - 0s 7ms/step - loss: 0.3044 - acc: 0.9464 - val_loss: 0.3463 - val_acc: 0.9211\n",
            "Epoch 38/50\n",
            "4/4 [==============================] - 0s 7ms/step - loss: 0.2925 - acc: 0.9554 - val_loss: 0.3282 - val_acc: 0.9737\n",
            "Epoch 39/50\n",
            "4/4 [==============================] - 0s 8ms/step - loss: 0.2827 - acc: 0.9732 - val_loss: 0.3161 - val_acc: 0.9474\n",
            "Epoch 40/50\n",
            "4/4 [==============================] - 0s 9ms/step - loss: 0.2780 - acc: 0.9732 - val_loss: 0.3091 - val_acc: 0.9474\n",
            "Epoch 41/50\n",
            "4/4 [==============================] - 0s 9ms/step - loss: 0.2710 - acc: 0.9732 - val_loss: 0.3045 - val_acc: 0.9737\n",
            "Epoch 42/50\n",
            "4/4 [==============================] - 0s 9ms/step - loss: 0.2631 - acc: 0.9732 - val_loss: 0.2996 - val_acc: 0.9737\n",
            "Epoch 43/50\n",
            "4/4 [==============================] - 0s 10ms/step - loss: 0.2570 - acc: 0.9732 - val_loss: 0.2936 - val_acc: 0.9737\n",
            "Epoch 44/50\n",
            "4/4 [==============================] - 0s 8ms/step - loss: 0.2510 - acc: 0.9732 - val_loss: 0.2855 - val_acc: 0.9737\n",
            "Epoch 45/50\n",
            "4/4 [==============================] - 0s 10ms/step - loss: 0.2464 - acc: 0.9821 - val_loss: 0.2823 - val_acc: 1.0000\n",
            "Epoch 46/50\n",
            "4/4 [==============================] - 0s 8ms/step - loss: 0.2405 - acc: 0.9821 - val_loss: 0.2692 - val_acc: 0.9737\n",
            "Epoch 47/50\n",
            "4/4 [==============================] - 0s 7ms/step - loss: 0.2340 - acc: 0.9732 - val_loss: 0.2669 - val_acc: 0.9737\n",
            "Epoch 48/50\n",
            "4/4 [==============================] - 0s 7ms/step - loss: 0.2273 - acc: 0.9732 - val_loss: 0.2589 - val_acc: 0.9737\n",
            "Epoch 49/50\n",
            "4/4 [==============================] - 0s 7ms/step - loss: 0.2224 - acc: 0.9732 - val_loss: 0.2528 - val_acc: 0.9737\n",
            "Epoch 50/50\n",
            "4/4 [==============================] - 0s 7ms/step - loss: 0.2159 - acc: 0.9821 - val_loss: 0.2519 - val_acc: 1.0000\n"
          ],
          "name": "stdout"
        },
        {
          "output_type": "execute_result",
          "data": {
            "text/plain": [
              "<tensorflow.python.keras.callbacks.History at 0x7fdbba7061d0>"
            ]
          },
          "metadata": {
            "tags": []
          },
          "execution_count": 24
        }
      ]
    },
    {
      "cell_type": "markdown",
      "metadata": {
        "id": "kR851xDLZxx4"
      },
      "source": [
        "### 검증"
      ]
    },
    {
      "cell_type": "markdown",
      "metadata": {
        "id": "vF4YcgYkLZqd"
      },
      "source": [
        "#### `>>>` split 후"
      ]
    },
    {
      "cell_type": "code",
      "metadata": {
        "id": "dZaEFs2OZzeX",
        "colab": {
          "base_uri": "https://localhost:8080/"
        },
        "outputId": "9ffe014c-a5ac-46ec-c606-6ee6507527a5"
      },
      "source": [
        "# model.evaluate(x_data, y_data) # loss: 0.5512 - acc: 0.6667\n",
        "\n",
        "model.evaluate(x_train, y_train)"
      ],
      "execution_count": 25,
      "outputs": [
        {
          "output_type": "stream",
          "text": [
            "4/4 [==============================] - 0s 3ms/step - loss: 0.2128 - acc: 0.9821\n"
          ],
          "name": "stdout"
        },
        {
          "output_type": "execute_result",
          "data": {
            "text/plain": [
              "[0.21283142268657684, 0.9821428656578064]"
            ]
          },
          "metadata": {
            "tags": []
          },
          "execution_count": 25
        }
      ]
    },
    {
      "cell_type": "code",
      "metadata": {
        "id": "SEpySlAsEVXL"
      },
      "source": [
        "from sklearn.metrics import classification_report, confusion_matrix"
      ],
      "execution_count": 26,
      "outputs": []
    },
    {
      "cell_type": "code",
      "metadata": {
        "colab": {
          "base_uri": "https://localhost:8080/"
        },
        "id": "8YsIkPX_Ei-g",
        "outputId": "c4d6f0f2-9ebe-4736-dcef-e9f064efc974"
      },
      "source": [
        "y_pred = model.predict(x_data)\n",
        "y_pred.shape , y_pred[4]"
      ],
      "execution_count": 27,
      "outputs": [
        {
          "output_type": "execute_result",
          "data": {
            "text/plain": [
              "((150, 3), array([9.7731894e-01, 2.2284666e-02, 3.9633390e-04], dtype=float32))"
            ]
          },
          "metadata": {
            "tags": []
          },
          "execution_count": 27
        }
      ]
    },
    {
      "cell_type": "code",
      "metadata": {
        "colab": {
          "base_uri": "https://localhost:8080/"
        },
        "id": "Op2LQQs_FGNF",
        "outputId": "cd7fe1e2-066b-4b2c-e18f-12ef7e5013c6"
      },
      "source": [
        "import numpy as np\n",
        "y_pred_argmax = np.argmax(y_pred, axis=1)\n",
        "y_pred_argmax"
      ],
      "execution_count": 28,
      "outputs": [
        {
          "output_type": "execute_result",
          "data": {
            "text/plain": [
              "array([0, 0, 0, 0, 0, 0, 0, 0, 0, 0, 0, 0, 0, 0, 0, 0, 0, 0, 0, 0, 0, 0,\n",
              "       0, 0, 0, 0, 0, 0, 0, 0, 0, 0, 0, 0, 0, 0, 0, 0, 0, 0, 0, 0, 0, 0,\n",
              "       0, 0, 0, 0, 0, 0, 1, 1, 1, 1, 1, 1, 1, 1, 1, 1, 1, 1, 1, 1, 1, 1,\n",
              "       1, 1, 1, 1, 2, 1, 1, 1, 1, 1, 1, 1, 1, 1, 1, 1, 1, 2, 1, 1, 1, 1,\n",
              "       1, 1, 1, 1, 1, 1, 1, 1, 1, 1, 1, 1, 2, 2, 2, 2, 2, 2, 2, 2, 2, 2,\n",
              "       2, 2, 2, 2, 2, 2, 2, 2, 2, 2, 2, 2, 2, 2, 2, 2, 2, 2, 2, 2, 2, 2,\n",
              "       2, 2, 2, 2, 2, 2, 2, 2, 2, 2, 2, 2, 2, 2, 2, 2, 2, 2])"
            ]
          },
          "metadata": {
            "tags": []
          },
          "execution_count": 28
        }
      ]
    },
    {
      "cell_type": "code",
      "metadata": {
        "colab": {
          "base_uri": "https://localhost:8080/"
        },
        "id": "ndBZ2UA-E0FS",
        "outputId": "21381041-09fa-475e-fb33-a943fd8dc4e1"
      },
      "source": [
        "y_data.shape, y_data[4]"
      ],
      "execution_count": 29,
      "outputs": [
        {
          "output_type": "execute_result",
          "data": {
            "text/plain": [
              "((150,), 0)"
            ]
          },
          "metadata": {
            "tags": []
          },
          "execution_count": 29
        }
      ]
    },
    {
      "cell_type": "markdown",
      "metadata": {
        "id": "hHaJGS82HhVE"
      },
      "source": [
        " split 전\n",
        " \n",
        " 0 분류는 1.00 으로 100% 잘 맞앗는데 \n",
        "\n",
        " 1 분류는 좀 다르네? 내용 열어서 데이터마이닝 하는 작업해줘야하는구나 \n",
        "\n",
        " ```\n",
        "  0       1.00      1.00      1.00        50\n",
        "  1       0.50      1.00      0.67        50\n",
        " ```"
      ]
    },
    {
      "cell_type": "markdown",
      "metadata": {
        "id": "doUnM1CbLMs9"
      },
      "source": [
        "#### `>>>` split 후"
      ]
    },
    {
      "cell_type": "code",
      "metadata": {
        "colab": {
          "base_uri": "https://localhost:8080/"
        },
        "id": "Cf1Z9cj7Fuwm",
        "outputId": "5a0be0ab-c27f-4425-ca5d-b3b3522dab86"
      },
      "source": [
        "print(classification_report(y_data, y_pred_argmax))"
      ],
      "execution_count": 30,
      "outputs": [
        {
          "output_type": "stream",
          "text": [
            "              precision    recall  f1-score   support\n",
            "\n",
            "           0       1.00      1.00      1.00        50\n",
            "           1       1.00      0.96      0.98        50\n",
            "           2       0.96      1.00      0.98        50\n",
            "\n",
            "    accuracy                           0.99       150\n",
            "   macro avg       0.99      0.99      0.99       150\n",
            "weighted avg       0.99      0.99      0.99       150\n",
            "\n"
          ],
          "name": "stdout"
        }
      ]
    },
    {
      "cell_type": "markdown",
      "metadata": {
        "id": "x5FV8TaqGsJT"
      },
      "source": [
        "split 전 \n",
        "\n",
        "2의 값이 없는것 확인 됨\n",
        "```\n",
        "           2       0.00      0.00      0.00        50\n",
        "```\n",
        "\n",
        "데이터가 셔플이 안됬구나 알 수 있음`->` 이때는 케이폴드 사용해서 섞어줘야 한다는 것을 알게 됨"
      ]
    },
    {
      "cell_type": "markdown",
      "metadata": {
        "id": "DISyY2XhLWEs"
      },
      "source": [
        "#### `>>>` split 후"
      ]
    },
    {
      "cell_type": "code",
      "metadata": {
        "colab": {
          "base_uri": "https://localhost:8080/"
        },
        "id": "8p64-7H8G2xv",
        "outputId": "1f882fa6-d37c-4d5b-8806-91cea28ee5c5"
      },
      "source": [
        "y_data"
      ],
      "execution_count": 31,
      "outputs": [
        {
          "output_type": "execute_result",
          "data": {
            "text/plain": [
              "array([0, 0, 0, 0, 0, 0, 0, 0, 0, 0, 0, 0, 0, 0, 0, 0, 0, 0, 0, 0, 0, 0,\n",
              "       0, 0, 0, 0, 0, 0, 0, 0, 0, 0, 0, 0, 0, 0, 0, 0, 0, 0, 0, 0, 0, 0,\n",
              "       0, 0, 0, 0, 0, 0, 1, 1, 1, 1, 1, 1, 1, 1, 1, 1, 1, 1, 1, 1, 1, 1,\n",
              "       1, 1, 1, 1, 1, 1, 1, 1, 1, 1, 1, 1, 1, 1, 1, 1, 1, 1, 1, 1, 1, 1,\n",
              "       1, 1, 1, 1, 1, 1, 1, 1, 1, 1, 1, 1, 2, 2, 2, 2, 2, 2, 2, 2, 2, 2,\n",
              "       2, 2, 2, 2, 2, 2, 2, 2, 2, 2, 2, 2, 2, 2, 2, 2, 2, 2, 2, 2, 2, 2,\n",
              "       2, 2, 2, 2, 2, 2, 2, 2, 2, 2, 2, 2, 2, 2, 2, 2, 2, 2])"
            ]
          },
          "metadata": {
            "tags": []
          },
          "execution_count": 31
        }
      ]
    },
    {
      "cell_type": "code",
      "metadata": {
        "colab": {
          "base_uri": "https://localhost:8080/"
        },
        "id": "XxSn1R37H3jL",
        "outputId": "559a2c10-6bcd-4601-8584-03a0d147fb81"
      },
      "source": [
        "confusion_matrix(y_data, y_pred_argmax)"
      ],
      "execution_count": 32,
      "outputs": [
        {
          "output_type": "execute_result",
          "data": {
            "text/plain": [
              "array([[50,  0,  0],\n",
              "       [ 0, 48,  2],\n",
              "       [ 0,  0, 50]])"
            ]
          },
          "metadata": {
            "tags": []
          },
          "execution_count": 32
        }
      ]
    },
    {
      "cell_type": "code",
      "metadata": {
        "id": "-mK3pxGsIEeL"
      },
      "source": [
        "import seaborn as sns"
      ],
      "execution_count": 33,
      "outputs": []
    },
    {
      "cell_type": "code",
      "metadata": {
        "colab": {
          "base_uri": "https://localhost:8080/",
          "height": 286
        },
        "id": "LIlZm6phIIey",
        "outputId": "80febb8f-f964-4ef1-a190-9b680bf4161e"
      },
      "source": [
        "sns.heatmap(confusion_matrix(y_data, y_pred_argmax), annot=True)"
      ],
      "execution_count": 34,
      "outputs": [
        {
          "output_type": "execute_result",
          "data": {
            "text/plain": [
              "<matplotlib.axes._subplots.AxesSubplot at 0x7fdbb6ef0150>"
            ]
          },
          "metadata": {
            "tags": []
          },
          "execution_count": 34
        },
        {
          "output_type": "display_data",
          "data": {
            "image/png": "[encoded data removed]",
            "text/plain": [
              "<Figure size 432x288 with 2 Axes>"
            ]
          },
          "metadata": {
            "tags": [],
            "needs_background": "light"
          }
        }
      ]
    },
    {
      "cell_type": "markdown",
      "metadata": {
        "id": "dxHu8iwkEbxz"
      },
      "source": [
        "## 서비스 단계"
      ]
    },
    {
      "cell_type": "code",
      "metadata": {
        "colab": {
          "base_uri": "https://localhost:8080/"
        },
        "id": "dl1FSXLnaWZN",
        "outputId": "02c7b27c-04df-49dd-f6ab-baac5b8b02cf"
      },
      "source": [
        "x_data[25] , y_data[25]"
      ],
      "execution_count": 35,
      "outputs": [
        {
          "output_type": "execute_result",
          "data": {
            "text/plain": [
              "(array([5. , 3. , 1.6, 0.2]), 0)"
            ]
          },
          "metadata": {
            "tags": []
          },
          "execution_count": 35
        }
      ]
    },
    {
      "cell_type": "code",
      "metadata": {
        "colab": {
          "base_uri": "https://localhost:8080/"
        },
        "id": "xEPpQAL1EYeB",
        "outputId": "132f6e67-361b-43a8-b17b-24f3ae1fc700"
      },
      "source": [
        "pred = model.predict([[5. , 3. , 1.6, 0.2]])\n",
        "pred"
      ],
      "execution_count": 36,
      "outputs": [
        {
          "output_type": "execute_result",
          "data": {
            "text/plain": [
              "array([[0.9301559 , 0.06846534, 0.00137883]], dtype=float32)"
            ]
          },
          "metadata": {
            "tags": []
          },
          "execution_count": 36
        }
      ]
    },
    {
      "cell_type": "code",
      "metadata": {
        "colab": {
          "base_uri": "https://localhost:8080/"
        },
        "id": "dby2FFZ9a6Sl",
        "outputId": "39fdc2fd-5ca3-4d4a-995b-b33428080d23"
      },
      "source": [
        "import numpy as np\n",
        "np.argmax(pred)"
      ],
      "execution_count": 37,
      "outputs": [
        {
          "output_type": "execute_result",
          "data": {
            "text/plain": [
              "0"
            ]
          },
          "metadata": {
            "tags": []
          },
          "execution_count": 37
        }
      ]
    },
    {
      "cell_type": "code",
      "metadata": {
        "id": "eA_U0ngZbCPj",
        "colab": {
          "base_uri": "https://localhost:8080/"
        },
        "outputId": "9c40314e-9f42-4f1a-9775-cf29f89171d0"
      },
      "source": [
        "from sklearn.metrics import roc_curve, auc\n",
        "y_pred= model.predict(x_data)\n",
        "y_pred.shape"
      ],
      "execution_count": 38,
      "outputs": [
        {
          "output_type": "execute_result",
          "data": {
            "text/plain": [
              "(150, 3)"
            ]
          },
          "metadata": {
            "tags": []
          },
          "execution_count": 38
        }
      ]
    },
    {
      "cell_type": "markdown",
      "metadata": {
        "id": "TwL99COJSSAV"
      },
      "source": [
        "## Backpropergation\n"
      ]
    },
    {
      "cell_type": "code",
      "metadata": {
        "id": "p1r-1INNSZ_E"
      },
      "source": [
        ""
      ],
      "execution_count": null,
      "outputs": []
    }
  ]
}