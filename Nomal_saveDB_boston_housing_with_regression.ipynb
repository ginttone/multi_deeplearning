{
  "nbformat": 4,
  "nbformat_minor": 0,
  "metadata": {
    "colab": {
      "name": "Nomal_saveDB_boston_housing_with_regression.ipynb",
      "provenance": [],
      "collapsed_sections": [],
      "authorship_tag": "ABX9TyM66W0jGhL7TctebTnX+WY5",
      "include_colab_link": true
    },
    "kernelspec": {
      "name": "python3",
      "display_name": "Python 3"
    },
    "language_info": {
      "name": "python"
    }
  },
  "cells": [
    {
      "cell_type": "markdown",
      "metadata": {
        "id": "view-in-github",
        "colab_type": "text"
      },
      "source": [
        "<a href=\"https://colab.research.google.com/github/ginttone/multi_deeplearning/blob/master/Nomal_saveDB_boston_housing_with_regression.ipynb\" target=\"_parent\"><img src=\"https://colab.research.google.com/assets/colab-badge.svg\" alt=\"Open In Colab\"/></a>"
      ]
    },
    {
      "cell_type": "markdown",
      "metadata": {
        "id": "ZG3Xcl78epub"
      },
      "source": [
        "## DATASET"
      ]
    },
    {
      "cell_type": "code",
      "metadata": {
        "id": "cu87eJoIYdsD"
      },
      "source": [
        "import tensorflow as tf\n",
        "from tensorflow.keras.datasets.boston_housing import load_data"
      ],
      "execution_count": 1,
      "outputs": []
    },
    {
      "cell_type": "code",
      "metadata": {
        "colab": {
          "base_uri": "https://localhost:8080/"
        },
        "id": "C3VyA5yZbN9y",
        "outputId": "1d949543-7526-4151-a392-4c58e0fce68b"
      },
      "source": [
        "(x_train, y_train), (x_test,y_test)=load_data(path='boston_housing.npz', test_split=0.2 ,seed=113)\n",
        "\n",
        "x_train.shape, y_train.shape, x_test.shape,y_test.shape"
      ],
      "execution_count": 2,
      "outputs": [
        {
          "output_type": "execute_result",
          "data": {
            "text/plain": [
              "((404, 13), (404,), (102, 13), (102,))"
            ]
          },
          "metadata": {
            "tags": []
          },
          "execution_count": 2
        }
      ]
    },
    {
      "cell_type": "code",
      "metadata": {
        "colab": {
          "base_uri": "https://localhost:8080/"
        },
        "id": "LH6E003_d6T_",
        "outputId": "cd769857-d0d0-4658-bfe9-15dfd42464a3"
      },
      "source": [
        "type(x_train), type(y_train)"
      ],
      "execution_count": 3,
      "outputs": [
        {
          "output_type": "execute_result",
          "data": {
            "text/plain": [
              "(numpy.ndarray, numpy.ndarray)"
            ]
          },
          "metadata": {
            "tags": []
          },
          "execution_count": 3
        }
      ]
    },
    {
      "cell_type": "markdown",
      "metadata": {
        "id": "J4Kgum7m1H9f"
      },
      "source": [
        "연속형 이기 때문에 y의 값은 볼필요 없다\n",
        "\n",
        "x_train을 판다스에 넣고 어떤 상황인지 파악해보자"
      ]
    },
    {
      "cell_type": "code",
      "metadata": {
        "id": "6vsa4t1h1HBU"
      },
      "source": [
        "import pandas as pd"
      ],
      "execution_count": 4,
      "outputs": []
    },
    {
      "cell_type": "code",
      "metadata": {
        "colab": {
          "base_uri": "https://localhost:8080/"
        },
        "id": "M1dNlQ_m1WBA",
        "outputId": "ee299d69-805a-46d5-a8e0-2f92986ce7c2"
      },
      "source": [
        "dfr = pd.DataFrame(x_train)\n",
        "dfr.info()"
      ],
      "execution_count": 5,
      "outputs": [
        {
          "output_type": "stream",
          "text": [
            "<class 'pandas.core.frame.DataFrame'>\n",
            "RangeIndex: 404 entries, 0 to 403\n",
            "Data columns (total 13 columns):\n",
            " #   Column  Non-Null Count  Dtype  \n",
            "---  ------  --------------  -----  \n",
            " 0   0       404 non-null    float64\n",
            " 1   1       404 non-null    float64\n",
            " 2   2       404 non-null    float64\n",
            " 3   3       404 non-null    float64\n",
            " 4   4       404 non-null    float64\n",
            " 5   5       404 non-null    float64\n",
            " 6   6       404 non-null    float64\n",
            " 7   7       404 non-null    float64\n",
            " 8   8       404 non-null    float64\n",
            " 9   9       404 non-null    float64\n",
            " 10  10      404 non-null    float64\n",
            " 11  11      404 non-null    float64\n",
            " 12  12      404 non-null    float64\n",
            "dtypes: float64(13)\n",
            "memory usage: 41.2 KB\n"
          ],
          "name": "stdout"
        }
      ]
    },
    {
      "cell_type": "markdown",
      "metadata": {
        "id": "jgM80hB_1mI2"
      },
      "source": [
        "데이터타입(dtype)은 전부다 float-숫자로 되어있는 것 확인가능\n",
        "\n",
        "레인지인덱스가 404개 이고 각 컬럼이 404개인 것 확인가능\n",
        "\n",
        "(object 없다, null 없다, space 없다)\n",
        "\n",
        "so, 전부가 숫자인 것을 알수 있었다."
      ]
    },
    {
      "cell_type": "markdown",
      "metadata": {
        "id": "J7VbnvFQMEy_"
      },
      "source": [
        "### `>>>` DB에 저장하기 "
      ]
    },
    {
      "cell_type": "code",
      "metadata": {
        "id": "BzcNOWoRMeVL"
      },
      "source": [
        "import sqlite3\n",
        "connect = sqlite3.connect('./db.sqlite3')"
      ],
      "execution_count": 6,
      "outputs": []
    },
    {
      "cell_type": "markdown",
      "metadata": {
        "id": "YTAAAh4sNsXE"
      },
      "source": [
        "`>>>`이렇게 앞으로는 습관적으로 데이타 로드하면 데이타프레임에 넣고 db에 담는 작업을 해준다."
      ]
    },
    {
      "cell_type": "code",
      "metadata": {
        "id": "ast8TMToM46k"
      },
      "source": [
        "dfr.to_sql('boston_housing_resource', connect, if_exists='append',index=False)"
      ],
      "execution_count": 7,
      "outputs": []
    },
    {
      "cell_type": "markdown",
      "metadata": {
        "id": "9kOqldouOMCd"
      },
      "source": [
        "`>>>`db의 데이터 불러와서 사용한다."
      ]
    },
    {
      "cell_type": "code",
      "metadata": {
        "id": "WP_A1wvnOIik"
      },
      "source": [
        "df = pd.read_sql_query('select * from boston_housing_resource',connect)"
      ],
      "execution_count": 8,
      "outputs": []
    },
    {
      "cell_type": "code",
      "metadata": {
        "colab": {
          "base_uri": "https://localhost:8080/",
          "height": 315
        },
        "id": "sUaSyWrt2T2j",
        "outputId": "03d4a921-4a11-481c-8b0a-30059d722183"
      },
      "source": [
        "df.describe()"
      ],
      "execution_count": 9,
      "outputs": [
        {
          "output_type": "execute_result",
          "data": {
            "text/html": [
              "<div>\n",
              "<style scoped>\n",
              "    .dataframe tbody tr th:only-of-type {\n",
              "        vertical-align: middle;\n",
              "    }\n",
              "\n",
              "    .dataframe tbody tr th {\n",
              "        vertical-align: top;\n",
              "    }\n",
              "\n",
              "    .dataframe thead th {\n",
              "        text-align: right;\n",
              "    }\n",
              "</style>\n",
              "<table border=\"1\" class=\"dataframe\">\n",
              "  <thead>\n",
              "    <tr style=\"text-align: right;\">\n",
              "      <th></th>\n",
              "      <th>0</th>\n",
              "      <th>1</th>\n",
              "      <th>2</th>\n",
              "      <th>3</th>\n",
              "      <th>4</th>\n",
              "      <th>5</th>\n",
              "      <th>6</th>\n",
              "      <th>7</th>\n",
              "      <th>8</th>\n",
              "      <th>9</th>\n",
              "      <th>10</th>\n",
              "      <th>11</th>\n",
              "      <th>12</th>\n",
              "    </tr>\n",
              "  </thead>\n",
              "  <tbody>\n",
              "    <tr>\n",
              "      <th>count</th>\n",
              "      <td>808.000000</td>\n",
              "      <td>808.000000</td>\n",
              "      <td>808.000000</td>\n",
              "      <td>808.000000</td>\n",
              "      <td>808.000000</td>\n",
              "      <td>808.000000</td>\n",
              "      <td>808.000000</td>\n",
              "      <td>808.000000</td>\n",
              "      <td>808.000000</td>\n",
              "      <td>808.000000</td>\n",
              "      <td>808.000000</td>\n",
              "      <td>808.000000</td>\n",
              "      <td>808.000000</td>\n",
              "    </tr>\n",
              "    <tr>\n",
              "      <th>mean</th>\n",
              "      <td>3.745111</td>\n",
              "      <td>11.480198</td>\n",
              "      <td>11.104431</td>\n",
              "      <td>0.061881</td>\n",
              "      <td>0.557356</td>\n",
              "      <td>6.267082</td>\n",
              "      <td>69.010644</td>\n",
              "      <td>3.740271</td>\n",
              "      <td>9.440594</td>\n",
              "      <td>405.898515</td>\n",
              "      <td>18.475990</td>\n",
              "      <td>354.783168</td>\n",
              "      <td>12.740817</td>\n",
              "    </tr>\n",
              "    <tr>\n",
              "      <th>std</th>\n",
              "      <td>9.235007</td>\n",
              "      <td>23.752980</td>\n",
              "      <td>6.807086</td>\n",
              "      <td>0.241089</td>\n",
              "      <td>0.117220</td>\n",
              "      <td>0.709348</td>\n",
              "      <td>27.923348</td>\n",
              "      <td>2.028956</td>\n",
              "      <td>8.692969</td>\n",
              "      <td>166.271429</td>\n",
              "      <td>2.199018</td>\n",
              "      <td>94.052820</td>\n",
              "      <td>7.250049</td>\n",
              "    </tr>\n",
              "    <tr>\n",
              "      <th>min</th>\n",
              "      <td>0.006320</td>\n",
              "      <td>0.000000</td>\n",
              "      <td>0.460000</td>\n",
              "      <td>0.000000</td>\n",
              "      <td>0.385000</td>\n",
              "      <td>3.561000</td>\n",
              "      <td>2.900000</td>\n",
              "      <td>1.129600</td>\n",
              "      <td>1.000000</td>\n",
              "      <td>188.000000</td>\n",
              "      <td>12.600000</td>\n",
              "      <td>0.320000</td>\n",
              "      <td>1.730000</td>\n",
              "    </tr>\n",
              "    <tr>\n",
              "      <th>25%</th>\n",
              "      <td>0.081437</td>\n",
              "      <td>0.000000</td>\n",
              "      <td>5.130000</td>\n",
              "      <td>0.000000</td>\n",
              "      <td>0.453000</td>\n",
              "      <td>5.874750</td>\n",
              "      <td>45.475000</td>\n",
              "      <td>2.077100</td>\n",
              "      <td>4.000000</td>\n",
              "      <td>279.000000</td>\n",
              "      <td>17.225000</td>\n",
              "      <td>374.672500</td>\n",
              "      <td>6.890000</td>\n",
              "    </tr>\n",
              "    <tr>\n",
              "      <th>50%</th>\n",
              "      <td>0.268880</td>\n",
              "      <td>0.000000</td>\n",
              "      <td>9.690000</td>\n",
              "      <td>0.000000</td>\n",
              "      <td>0.538000</td>\n",
              "      <td>6.198500</td>\n",
              "      <td>78.500000</td>\n",
              "      <td>3.142300</td>\n",
              "      <td>5.000000</td>\n",
              "      <td>330.000000</td>\n",
              "      <td>19.100000</td>\n",
              "      <td>391.250000</td>\n",
              "      <td>11.395000</td>\n",
              "    </tr>\n",
              "    <tr>\n",
              "      <th>75%</th>\n",
              "      <td>3.674808</td>\n",
              "      <td>12.500000</td>\n",
              "      <td>18.100000</td>\n",
              "      <td>0.000000</td>\n",
              "      <td>0.631000</td>\n",
              "      <td>6.609000</td>\n",
              "      <td>94.100000</td>\n",
              "      <td>5.118000</td>\n",
              "      <td>24.000000</td>\n",
              "      <td>666.000000</td>\n",
              "      <td>20.200000</td>\n",
              "      <td>396.157500</td>\n",
              "      <td>17.092500</td>\n",
              "    </tr>\n",
              "    <tr>\n",
              "      <th>max</th>\n",
              "      <td>88.976200</td>\n",
              "      <td>100.000000</td>\n",
              "      <td>27.740000</td>\n",
              "      <td>1.000000</td>\n",
              "      <td>0.871000</td>\n",
              "      <td>8.725000</td>\n",
              "      <td>100.000000</td>\n",
              "      <td>10.710300</td>\n",
              "      <td>24.000000</td>\n",
              "      <td>711.000000</td>\n",
              "      <td>22.000000</td>\n",
              "      <td>396.900000</td>\n",
              "      <td>37.970000</td>\n",
              "    </tr>\n",
              "  </tbody>\n",
              "</table>\n",
              "</div>"
            ],
            "text/plain": [
              "                0           1           2  ...          10          11          12\n",
              "count  808.000000  808.000000  808.000000  ...  808.000000  808.000000  808.000000\n",
              "mean     3.745111   11.480198   11.104431  ...   18.475990  354.783168   12.740817\n",
              "std      9.235007   23.752980    6.807086  ...    2.199018   94.052820    7.250049\n",
              "min      0.006320    0.000000    0.460000  ...   12.600000    0.320000    1.730000\n",
              "25%      0.081437    0.000000    5.130000  ...   17.225000  374.672500    6.890000\n",
              "50%      0.268880    0.000000    9.690000  ...   19.100000  391.250000   11.395000\n",
              "75%      3.674808   12.500000   18.100000  ...   20.200000  396.157500   17.092500\n",
              "max     88.976200  100.000000   27.740000  ...   22.000000  396.900000   37.970000\n",
              "\n",
              "[8 rows x 13 columns]"
            ]
          },
          "metadata": {
            "tags": []
          },
          "execution_count": 9
        }
      ]
    },
    {
      "cell_type": "markdown",
      "metadata": {
        "id": "HEVyWVJX2bJt"
      },
      "source": [
        "mean 보면 단위가 다 다르기때문에 .StandardScaler 해줘야한다\n"
      ]
    },
    {
      "cell_type": "code",
      "metadata": {
        "id": "gX0LsQWH2jkA"
      },
      "source": [
        "from sklearn.preprocessing import StandardScaler \n",
        "scaler = StandardScaler()"
      ],
      "execution_count": 10,
      "outputs": []
    },
    {
      "cell_type": "markdown",
      "metadata": {
        "id": "KAtFTHCj3V8t"
      },
      "source": [
        "fit은 트레이닝"
      ]
    },
    {
      "cell_type": "code",
      "metadata": {
        "colab": {
          "base_uri": "https://localhost:8080/"
        },
        "id": "RryoltCa3Mit",
        "outputId": "26263c30-f67c-4a0e-ac5c-51980ed35ea4"
      },
      "source": [
        "scaler.fit(x_train)\n"
      ],
      "execution_count": 11,
      "outputs": [
        {
          "output_type": "execute_result",
          "data": {
            "text/plain": [
              "StandardScaler(copy=True, with_mean=True, with_std=True)"
            ]
          },
          "metadata": {
            "tags": []
          },
          "execution_count": 11
        }
      ]
    },
    {
      "cell_type": "markdown",
      "metadata": {
        "id": "z5Vh9u-S3kbO"
      },
      "source": [
        "x_train으로 훈련 완료\n",
        "\n",
        "\n",
        "transform은 바꿔주는 것"
      ]
    },
    {
      "cell_type": "code",
      "metadata": {
        "colab": {
          "base_uri": "https://localhost:8080/"
        },
        "id": "xxOU7FqL3ezs",
        "outputId": "d4efa8c0-d463-41d2-b7ee-6845b302c70a"
      },
      "source": [
        "x_train= scaler.transform(x_train)\n",
        "x_test = scaler.transform(x_test)\n",
        "x_train.shape, x_test.shape"
      ],
      "execution_count": 12,
      "outputs": [
        {
          "output_type": "execute_result",
          "data": {
            "text/plain": [
              "((404, 13), (102, 13))"
            ]
          },
          "metadata": {
            "tags": []
          },
          "execution_count": 12
        }
      ]
    },
    {
      "cell_type": "markdown",
      "metadata": {
        "id": "iVVQih0M3-NJ"
      },
      "source": [
        "해당부분이 얼마나 평이하게 바뀌었는가 확인\n",
        "\n",
        "df.describe()\n",
        "\n",
        "결론적으로 이런 과정을 거치는 이유는 안정적인 단위로 만들어 준 것"
      ]
    },
    {
      "cell_type": "code",
      "metadata": {
        "colab": {
          "base_uri": "https://localhost:8080/",
          "height": 399
        },
        "id": "ymN7C8mZ3-nB",
        "outputId": "68d64b72-1f18-4e56-fa6e-ef78dbc0d25f"
      },
      "source": [
        "df= pd.DataFrame(x_train)\n",
        "df.describe()"
      ],
      "execution_count": 13,
      "outputs": [
        {
          "output_type": "execute_result",
          "data": {
            "text/html": [
              "<div>\n",
              "<style scoped>\n",
              "    .dataframe tbody tr th:only-of-type {\n",
              "        vertical-align: middle;\n",
              "    }\n",
              "\n",
              "    .dataframe tbody tr th {\n",
              "        vertical-align: top;\n",
              "    }\n",
              "\n",
              "    .dataframe thead th {\n",
              "        text-align: right;\n",
              "    }\n",
              "</style>\n",
              "<table border=\"1\" class=\"dataframe\">\n",
              "  <thead>\n",
              "    <tr style=\"text-align: right;\">\n",
              "      <th></th>\n",
              "      <th>0</th>\n",
              "      <th>1</th>\n",
              "      <th>2</th>\n",
              "      <th>3</th>\n",
              "      <th>4</th>\n",
              "      <th>5</th>\n",
              "      <th>6</th>\n",
              "      <th>7</th>\n",
              "      <th>8</th>\n",
              "      <th>9</th>\n",
              "      <th>10</th>\n",
              "      <th>11</th>\n",
              "      <th>12</th>\n",
              "    </tr>\n",
              "  </thead>\n",
              "  <tbody>\n",
              "    <tr>\n",
              "      <th>count</th>\n",
              "      <td>4.040000e+02</td>\n",
              "      <td>4.040000e+02</td>\n",
              "      <td>4.040000e+02</td>\n",
              "      <td>4.040000e+02</td>\n",
              "      <td>4.040000e+02</td>\n",
              "      <td>4.040000e+02</td>\n",
              "      <td>4.040000e+02</td>\n",
              "      <td>4.040000e+02</td>\n",
              "      <td>4.040000e+02</td>\n",
              "      <td>4.040000e+02</td>\n",
              "      <td>4.040000e+02</td>\n",
              "      <td>4.040000e+02</td>\n",
              "      <td>4.040000e+02</td>\n",
              "    </tr>\n",
              "    <tr>\n",
              "      <th>mean</th>\n",
              "      <td>-1.015414e-16</td>\n",
              "      <td>1.099231e-17</td>\n",
              "      <td>1.743380e-15</td>\n",
              "      <td>-1.266863e-16</td>\n",
              "      <td>-5.253773e-15</td>\n",
              "      <td>6.414149e-15</td>\n",
              "      <td>2.984411e-16</td>\n",
              "      <td>4.946538e-16</td>\n",
              "      <td>1.126711e-17</td>\n",
              "      <td>-1.981363e-16</td>\n",
              "      <td>2.366864e-14</td>\n",
              "      <td>5.956800e-15</td>\n",
              "      <td>6.139204e-16</td>\n",
              "    </tr>\n",
              "    <tr>\n",
              "      <th>std</th>\n",
              "      <td>1.001240e+00</td>\n",
              "      <td>1.001240e+00</td>\n",
              "      <td>1.001240e+00</td>\n",
              "      <td>1.001240e+00</td>\n",
              "      <td>1.001240e+00</td>\n",
              "      <td>1.001240e+00</td>\n",
              "      <td>1.001240e+00</td>\n",
              "      <td>1.001240e+00</td>\n",
              "      <td>1.001240e+00</td>\n",
              "      <td>1.001240e+00</td>\n",
              "      <td>1.001240e+00</td>\n",
              "      <td>1.001240e+00</td>\n",
              "      <td>1.001240e+00</td>\n",
              "    </tr>\n",
              "    <tr>\n",
              "      <th>min</th>\n",
              "      <td>-4.051005e-01</td>\n",
              "      <td>-4.836155e-01</td>\n",
              "      <td>-1.564696e+00</td>\n",
              "      <td>-2.568327e-01</td>\n",
              "      <td>-1.471269e+00</td>\n",
              "      <td>-3.817250e+00</td>\n",
              "      <td>-2.369042e+00</td>\n",
              "      <td>-1.287503e+00</td>\n",
              "      <td>-9.715693e-01</td>\n",
              "      <td>-1.311311e+00</td>\n",
              "      <td>-2.673752e+00</td>\n",
              "      <td>-3.771101e+00</td>\n",
              "      <td>-1.519664e+00</td>\n",
              "    </tr>\n",
              "    <tr>\n",
              "      <th>25%</th>\n",
              "      <td>-3.969615e-01</td>\n",
              "      <td>-4.836155e-01</td>\n",
              "      <td>-8.782218e-01</td>\n",
              "      <td>-2.568327e-01</td>\n",
              "      <td>-8.908055e-01</td>\n",
              "      <td>-5.534305e-01</td>\n",
              "      <td>-8.433882e-01</td>\n",
              "      <td>-8.202251e-01</td>\n",
              "      <td>-6.262491e-01</td>\n",
              "      <td>-7.636737e-01</td>\n",
              "      <td>-5.692381e-01</td>\n",
              "      <td>2.116008e-01</td>\n",
              "      <td>-8.075036e-01</td>\n",
              "    </tr>\n",
              "    <tr>\n",
              "      <th>50%</th>\n",
              "      <td>-3.766520e-01</td>\n",
              "      <td>-4.836155e-01</td>\n",
              "      <td>-2.079167e-01</td>\n",
              "      <td>-2.568327e-01</td>\n",
              "      <td>-1.652266e-01</td>\n",
              "      <td>-9.674263e-02</td>\n",
              "      <td>3.400464e-01</td>\n",
              "      <td>-2.949009e-01</td>\n",
              "      <td>-5.111423e-01</td>\n",
              "      <td>-4.567563e-01</td>\n",
              "      <td>2.839433e-01</td>\n",
              "      <td>3.879673e-01</td>\n",
              "      <td>-1.857436e-01</td>\n",
              "    </tr>\n",
              "    <tr>\n",
              "      <th>75%</th>\n",
              "      <td>-7.617386e-03</td>\n",
              "      <td>4.296024e-02</td>\n",
              "      <td>1.028326e+00</td>\n",
              "      <td>-2.568327e-01</td>\n",
              "      <td>6.286420e-01</td>\n",
              "      <td>4.823165e-01</td>\n",
              "      <td>8.990647e-01</td>\n",
              "      <td>6.794540e-01</td>\n",
              "      <td>1.675886e+00</td>\n",
              "      <td>1.565287e+00</td>\n",
              "      <td>7.844764e-01</td>\n",
              "      <td>4.401777e-01</td>\n",
              "      <td>6.005999e-01</td>\n",
              "    </tr>\n",
              "    <tr>\n",
              "      <th>max</th>\n",
              "      <td>9.234847e+00</td>\n",
              "      <td>3.728990e+00</td>\n",
              "      <td>2.445374e+00</td>\n",
              "      <td>3.893584e+00</td>\n",
              "      <td>2.677335e+00</td>\n",
              "      <td>3.467186e+00</td>\n",
              "      <td>1.110488e+00</td>\n",
              "      <td>3.437406e+00</td>\n",
              "      <td>1.675886e+00</td>\n",
              "      <td>1.836097e+00</td>\n",
              "      <td>1.603531e+00</td>\n",
              "      <td>4.480771e-01</td>\n",
              "      <td>3.482019e+00</td>\n",
              "    </tr>\n",
              "  </tbody>\n",
              "</table>\n",
              "</div>"
            ],
            "text/plain": [
              "                 0             1   ...            11            12\n",
              "count  4.040000e+02  4.040000e+02  ...  4.040000e+02  4.040000e+02\n",
              "mean  -1.015414e-16  1.099231e-17  ...  5.956800e-15  6.139204e-16\n",
              "std    1.001240e+00  1.001240e+00  ...  1.001240e+00  1.001240e+00\n",
              "min   -4.051005e-01 -4.836155e-01  ... -3.771101e+00 -1.519664e+00\n",
              "25%   -3.969615e-01 -4.836155e-01  ...  2.116008e-01 -8.075036e-01\n",
              "50%   -3.766520e-01 -4.836155e-01  ...  3.879673e-01 -1.857436e-01\n",
              "75%   -7.617386e-03  4.296024e-02  ...  4.401777e-01  6.005999e-01\n",
              "max    9.234847e+00  3.728990e+00  ...  4.480771e-01  3.482019e+00\n",
              "\n",
              "[8 rows x 13 columns]"
            ]
          },
          "metadata": {
            "tags": []
          },
          "execution_count": 13
        }
      ]
    },
    {
      "cell_type": "markdown",
      "metadata": {
        "id": "GybT8hxWPJM0"
      },
      "source": [
        "`>>>` 스케일링 한 x_train 데이터를 db에 담기 "
      ]
    },
    {
      "cell_type": "code",
      "metadata": {
        "id": "g-Wh8Xj7PE_K"
      },
      "source": [
        "df.to_sql('boston_housing_scale_x_train', connect, if_exists='append', index=False )"
      ],
      "execution_count": 14,
      "outputs": []
    },
    {
      "cell_type": "markdown",
      "metadata": {
        "id": "0GLfbQn-QbrR"
      },
      "source": [
        "`>>>` db에 담았던 스케일링 한 x_train 데이터 가져오기"
      ]
    },
    {
      "cell_type": "code",
      "metadata": {
        "id": "lvLBEdSCPjys"
      },
      "source": [
        "dfr = pd.read_sql_query('select * from boston_housing_scale_x_train',connect)"
      ],
      "execution_count": 15,
      "outputs": []
    },
    {
      "cell_type": "code",
      "metadata": {
        "colab": {
          "base_uri": "https://localhost:8080/",
          "height": 399
        },
        "id": "LhqUN4voQSpm",
        "outputId": "d8d1f678-36b6-4733-cca7-7cb9e2086e02"
      },
      "source": [
        "dfr.describe()"
      ],
      "execution_count": 16,
      "outputs": [
        {
          "output_type": "execute_result",
          "data": {
            "text/html": [
              "<div>\n",
              "<style scoped>\n",
              "    .dataframe tbody tr th:only-of-type {\n",
              "        vertical-align: middle;\n",
              "    }\n",
              "\n",
              "    .dataframe tbody tr th {\n",
              "        vertical-align: top;\n",
              "    }\n",
              "\n",
              "    .dataframe thead th {\n",
              "        text-align: right;\n",
              "    }\n",
              "</style>\n",
              "<table border=\"1\" class=\"dataframe\">\n",
              "  <thead>\n",
              "    <tr style=\"text-align: right;\">\n",
              "      <th></th>\n",
              "      <th>0</th>\n",
              "      <th>1</th>\n",
              "      <th>2</th>\n",
              "      <th>3</th>\n",
              "      <th>4</th>\n",
              "      <th>5</th>\n",
              "      <th>6</th>\n",
              "      <th>7</th>\n",
              "      <th>8</th>\n",
              "      <th>9</th>\n",
              "      <th>10</th>\n",
              "      <th>11</th>\n",
              "      <th>12</th>\n",
              "    </tr>\n",
              "  </thead>\n",
              "  <tbody>\n",
              "    <tr>\n",
              "      <th>count</th>\n",
              "      <td>8.080000e+02</td>\n",
              "      <td>8.080000e+02</td>\n",
              "      <td>8.080000e+02</td>\n",
              "      <td>8.080000e+02</td>\n",
              "      <td>8.080000e+02</td>\n",
              "      <td>8.080000e+02</td>\n",
              "      <td>8.080000e+02</td>\n",
              "      <td>8.080000e+02</td>\n",
              "      <td>8.080000e+02</td>\n",
              "      <td>8.080000e+02</td>\n",
              "      <td>8.080000e+02</td>\n",
              "      <td>8.080000e+02</td>\n",
              "      <td>8.080000e+02</td>\n",
              "    </tr>\n",
              "    <tr>\n",
              "      <th>mean</th>\n",
              "      <td>-1.035338e-16</td>\n",
              "      <td>1.209154e-17</td>\n",
              "      <td>1.751075e-15</td>\n",
              "      <td>-1.292970e-16</td>\n",
              "      <td>-5.251850e-15</td>\n",
              "      <td>6.416828e-15</td>\n",
              "      <td>2.987159e-16</td>\n",
              "      <td>4.935546e-16</td>\n",
              "      <td>1.003048e-17</td>\n",
              "      <td>-1.979989e-16</td>\n",
              "      <td>2.366644e-14</td>\n",
              "      <td>5.950720e-15</td>\n",
              "      <td>6.147448e-16</td>\n",
              "    </tr>\n",
              "    <tr>\n",
              "      <th>std</th>\n",
              "      <td>1.000619e+00</td>\n",
              "      <td>1.000619e+00</td>\n",
              "      <td>1.000619e+00</td>\n",
              "      <td>1.000619e+00</td>\n",
              "      <td>1.000619e+00</td>\n",
              "      <td>1.000619e+00</td>\n",
              "      <td>1.000619e+00</td>\n",
              "      <td>1.000619e+00</td>\n",
              "      <td>1.000619e+00</td>\n",
              "      <td>1.000619e+00</td>\n",
              "      <td>1.000619e+00</td>\n",
              "      <td>1.000619e+00</td>\n",
              "      <td>1.000619e+00</td>\n",
              "    </tr>\n",
              "    <tr>\n",
              "      <th>min</th>\n",
              "      <td>-4.051005e-01</td>\n",
              "      <td>-4.836155e-01</td>\n",
              "      <td>-1.564696e+00</td>\n",
              "      <td>-2.568327e-01</td>\n",
              "      <td>-1.471269e+00</td>\n",
              "      <td>-3.817250e+00</td>\n",
              "      <td>-2.369042e+00</td>\n",
              "      <td>-1.287503e+00</td>\n",
              "      <td>-9.715693e-01</td>\n",
              "      <td>-1.311311e+00</td>\n",
              "      <td>-2.673752e+00</td>\n",
              "      <td>-3.771101e+00</td>\n",
              "      <td>-1.519664e+00</td>\n",
              "    </tr>\n",
              "    <tr>\n",
              "      <th>25%</th>\n",
              "      <td>-3.969615e-01</td>\n",
              "      <td>-4.836155e-01</td>\n",
              "      <td>-8.782218e-01</td>\n",
              "      <td>-2.568327e-01</td>\n",
              "      <td>-8.908055e-01</td>\n",
              "      <td>-5.534305e-01</td>\n",
              "      <td>-8.433882e-01</td>\n",
              "      <td>-8.202251e-01</td>\n",
              "      <td>-6.262491e-01</td>\n",
              "      <td>-7.636737e-01</td>\n",
              "      <td>-5.692381e-01</td>\n",
              "      <td>2.116008e-01</td>\n",
              "      <td>-8.075036e-01</td>\n",
              "    </tr>\n",
              "    <tr>\n",
              "      <th>50%</th>\n",
              "      <td>-3.766520e-01</td>\n",
              "      <td>-4.836155e-01</td>\n",
              "      <td>-2.079167e-01</td>\n",
              "      <td>-2.568327e-01</td>\n",
              "      <td>-1.652266e-01</td>\n",
              "      <td>-9.674263e-02</td>\n",
              "      <td>3.400464e-01</td>\n",
              "      <td>-2.949009e-01</td>\n",
              "      <td>-5.111423e-01</td>\n",
              "      <td>-4.567563e-01</td>\n",
              "      <td>2.839433e-01</td>\n",
              "      <td>3.879673e-01</td>\n",
              "      <td>-1.857436e-01</td>\n",
              "    </tr>\n",
              "    <tr>\n",
              "      <th>75%</th>\n",
              "      <td>-7.617386e-03</td>\n",
              "      <td>4.296024e-02</td>\n",
              "      <td>1.028326e+00</td>\n",
              "      <td>-2.568327e-01</td>\n",
              "      <td>6.286420e-01</td>\n",
              "      <td>4.823165e-01</td>\n",
              "      <td>8.990647e-01</td>\n",
              "      <td>6.794540e-01</td>\n",
              "      <td>1.675886e+00</td>\n",
              "      <td>1.565287e+00</td>\n",
              "      <td>7.844764e-01</td>\n",
              "      <td>4.401777e-01</td>\n",
              "      <td>6.005999e-01</td>\n",
              "    </tr>\n",
              "    <tr>\n",
              "      <th>max</th>\n",
              "      <td>9.234847e+00</td>\n",
              "      <td>3.728990e+00</td>\n",
              "      <td>2.445374e+00</td>\n",
              "      <td>3.893584e+00</td>\n",
              "      <td>2.677335e+00</td>\n",
              "      <td>3.467186e+00</td>\n",
              "      <td>1.110488e+00</td>\n",
              "      <td>3.437406e+00</td>\n",
              "      <td>1.675886e+00</td>\n",
              "      <td>1.836097e+00</td>\n",
              "      <td>1.603531e+00</td>\n",
              "      <td>4.480771e-01</td>\n",
              "      <td>3.482019e+00</td>\n",
              "    </tr>\n",
              "  </tbody>\n",
              "</table>\n",
              "</div>"
            ],
            "text/plain": [
              "                  0             1  ...            11            12\n",
              "count  8.080000e+02  8.080000e+02  ...  8.080000e+02  8.080000e+02\n",
              "mean  -1.035338e-16  1.209154e-17  ...  5.950720e-15  6.147448e-16\n",
              "std    1.000619e+00  1.000619e+00  ...  1.000619e+00  1.000619e+00\n",
              "min   -4.051005e-01 -4.836155e-01  ... -3.771101e+00 -1.519664e+00\n",
              "25%   -3.969615e-01 -4.836155e-01  ...  2.116008e-01 -8.075036e-01\n",
              "50%   -3.766520e-01 -4.836155e-01  ...  3.879673e-01 -1.857436e-01\n",
              "75%   -7.617386e-03  4.296024e-02  ...  4.401777e-01  6.005999e-01\n",
              "max    9.234847e+00  3.728990e+00  ...  4.480771e-01  3.482019e+00\n",
              "\n",
              "[8 rows x 13 columns]"
            ]
          },
          "metadata": {
            "tags": []
          },
          "execution_count": 16
        }
      ]
    },
    {
      "cell_type": "markdown",
      "metadata": {
        "id": "yB0GKeChewQK"
      },
      "source": [
        "## MODEL"
      ]
    },
    {
      "cell_type": "code",
      "metadata": {
        "id": "Yn7TcLa2eSfO"
      },
      "source": [
        "model = tf.keras.models.Sequential()"
      ],
      "execution_count": 17,
      "outputs": []
    },
    {
      "cell_type": "markdown",
      "metadata": {
        "id": "z33OWWgztLCT"
      },
      "source": [
        "`>>`input layer/ hidden layer/ output layer\n",
        "\n",
        "* hidden layer에서 사용하는 activation\n",
        "\n",
        "activation : 뒤에 들어가는 싱글코테이션 안에 들어가는 글자는 펑션이다. 사용자가 사용하기 위해 알리야스(별칭)을 준 것이다.\n",
        "\n",
        "\n",
        "sigmoid(...): Sigmoid activation function, sigmoid(x) = 1 / (1 + exp(-x)).\n",
        "\n",
        "softmax(...): Softmax converts a vector of values to a probability distribution. 범주형 마지막 아웃풋에서 사용\n",
        "\n",
        "linear(...): Linear activation function (pass-through).\n",
        "\n",
        "relu(...): Applies the rectified linear unit activation function.\n",
        "\n",
        "tanh(...): Hyperbolic tangent activation function.\n"
      ]
    },
    {
      "cell_type": "code",
      "metadata": {
        "colab": {
          "base_uri": "https://localhost:8080/"
        },
        "id": "_2Ka_EiCfN1e",
        "outputId": "1f21cc2c-57d7-4970-ebd0-2e8aeae443e7"
      },
      "source": [
        "model.add(tf.keras.Input(shape=(13))) \n",
        "\n",
        "# tf.keras.activations.relu()\n",
        "model.add(tf.keras.layers.Dense(64, activation='relu')) #hidden layer\n",
        "model.add(tf.keras.layers.Dense(64, activation='relu')) #hidden layer\n",
        "model.add(tf.keras.layers.Dense(64, activation='relu')) #hidden layer\n",
        "\n",
        "model.add(tf.keras.layers.Dense(1,)) \n",
        "\n",
        "# sqd= tf.keras.optimizers.SGD( \n",
        "#     learning_rate=0.001,\n",
        "#     momentum=0.004\n",
        "# )\n",
        "\n",
        "# model.compile(optimizer='sgd', loss='mse' , metrics=['mae'])\n",
        "\n",
        "model.compile(optimizer='adam', loss='mse' , metrics=['mae'])"
      ],
      "execution_count": 18,
      "outputs": [
        {
          "output_type": "stream",
          "text": [
            "WARNING:tensorflow:Please add `keras.layers.InputLayer` instead of `keras.Input` to Sequential model. `keras.Input` is intended to be used by Functional model.\n"
          ],
          "name": "stdout"
        }
      ]
    },
    {
      "cell_type": "markdown",
      "metadata": {
        "id": "U4SOrqfM0r6F"
      },
      "source": [
        " 검증용 \n",
        " * 연속형은 metrics = mae \n",
        " *분류형은 어큐런시 \n",
        " * 둘다는 loss"
      ]
    },
    {
      "cell_type": "code",
      "metadata": {
        "colab": {
          "base_uri": "https://localhost:8080/",
          "height": 533
        },
        "id": "kHPkmUr3qUX9",
        "outputId": "54c0040a-e1aa-4445-a16c-89196ec0ffb6"
      },
      "source": [
        "tf.keras.utils.plot_model(model, show_shapes=True)"
      ],
      "execution_count": 19,
      "outputs": [
        {
          "output_type": "execute_result",
          "data": {
            "image/png": "[encoded data removed]",
            "text/plain": [
              "<IPython.core.display.Image object>"
            ]
          },
          "metadata": {
            "tags": []
          },
          "execution_count": 19
        }
      ]
    },
    {
      "cell_type": "code",
      "metadata": {
        "colab": {
          "base_uri": "https://localhost:8080/"
        },
        "id": "PS7EzhDXrSxg",
        "outputId": "4a61f13a-6d8e-47a8-b756-66580bd41d29"
      },
      "source": [
        "model.summary()"
      ],
      "execution_count": 20,
      "outputs": [
        {
          "output_type": "stream",
          "text": [
            "Model: \"sequential\"\n",
            "_________________________________________________________________\n",
            "Layer (type)                 Output Shape              Param #   \n",
            "=================================================================\n",
            "dense (Dense)                (None, 64)                896       \n",
            "_________________________________________________________________\n",
            "dense_1 (Dense)              (None, 64)                4160      \n",
            "_________________________________________________________________\n",
            "dense_2 (Dense)              (None, 64)                4160      \n",
            "_________________________________________________________________\n",
            "dense_3 (Dense)              (None, 1)                 65        \n",
            "=================================================================\n",
            "Total params: 9,281\n",
            "Trainable params: 9,281\n",
            "Non-trainable params: 0\n",
            "_________________________________________________________________\n"
          ],
          "name": "stdout"
        }
      ]
    },
    {
      "cell_type": "markdown",
      "metadata": {
        "id": "sCgvjAmzeehl"
      },
      "source": [
        "핏팅 전 검증용 \n",
        "\n",
        "validation_split= 하는 이유는 실제로 쏠림현상(오버피팅) 있는지 확인하는것 \n",
        "\n",
        "데이터를 내부적으로 쪼개서 실제 70% 인 데이터가 loss 측정하고, val은 나머지 30%를 넣어 결과값을 비교한다."
      ]
    },
    {
      "cell_type": "code",
      "metadata": {
        "colab": {
          "base_uri": "https://localhost:8080/"
        },
        "id": "4SOm43F4teoW",
        "outputId": "0c4135e4-28c4-4611-d88b-20b84307ebaf"
      },
      "source": [
        "hist = model.fit(x_train, y_train, epochs=500, validation_split=0.3)"
      ],
      "execution_count": 29,
      "outputs": [
        {
          "output_type": "stream",
          "text": [
            "Epoch 1/500\n",
            "9/9 [==============================] - 0s 8ms/step - loss: 0.8103 - mae: 0.6069 - val_loss: 7.4348 - val_mae: 1.8770\n",
            "Epoch 2/500\n",
            "9/9 [==============================] - 0s 6ms/step - loss: 0.7227 - mae: 0.5621 - val_loss: 7.3188 - val_mae: 1.8565\n",
            "Epoch 3/500\n",
            "9/9 [==============================] - 0s 4ms/step - loss: 0.7911 - mae: 0.6148 - val_loss: 7.9908 - val_mae: 1.9584\n",
            "Epoch 4/500\n",
            "9/9 [==============================] - 0s 4ms/step - loss: 0.8430 - mae: 0.6256 - val_loss: 6.9732 - val_mae: 1.8832\n",
            "Epoch 5/500\n",
            "9/9 [==============================] - 0s 4ms/step - loss: 0.8163 - mae: 0.6445 - val_loss: 7.5277 - val_mae: 1.9034\n",
            "Epoch 6/500\n",
            "9/9 [==============================] - 0s 6ms/step - loss: 0.7608 - mae: 0.5791 - val_loss: 7.7756 - val_mae: 1.9307\n",
            "Epoch 7/500\n",
            "9/9 [==============================] - 0s 4ms/step - loss: 0.7249 - mae: 0.5570 - val_loss: 7.4182 - val_mae: 1.8767\n",
            "Epoch 8/500\n",
            "9/9 [==============================] - 0s 4ms/step - loss: 0.7549 - mae: 0.5733 - val_loss: 7.7142 - val_mae: 1.9059\n",
            "Epoch 9/500\n",
            "9/9 [==============================] - 0s 4ms/step - loss: 0.7781 - mae: 0.5638 - val_loss: 7.4636 - val_mae: 1.8855\n",
            "Epoch 10/500\n",
            "9/9 [==============================] - 0s 4ms/step - loss: 0.7343 - mae: 0.5504 - val_loss: 7.5251 - val_mae: 1.9149\n",
            "Epoch 11/500\n",
            "9/9 [==============================] - 0s 4ms/step - loss: 0.6802 - mae: 0.5326 - val_loss: 7.3330 - val_mae: 1.8877\n",
            "Epoch 12/500\n",
            "9/9 [==============================] - 0s 4ms/step - loss: 0.7035 - mae: 0.5404 - val_loss: 7.2715 - val_mae: 1.8933\n",
            "Epoch 13/500\n",
            "9/9 [==============================] - 0s 4ms/step - loss: 0.6817 - mae: 0.5408 - val_loss: 7.5999 - val_mae: 1.9343\n",
            "Epoch 14/500\n",
            "9/9 [==============================] - 0s 5ms/step - loss: 0.6949 - mae: 0.5240 - val_loss: 7.1202 - val_mae: 1.8579\n",
            "Epoch 15/500\n",
            "9/9 [==============================] - 0s 7ms/step - loss: 0.6496 - mae: 0.5165 - val_loss: 7.6960 - val_mae: 1.9137\n",
            "Epoch 16/500\n",
            "9/9 [==============================] - 0s 7ms/step - loss: 0.6683 - mae: 0.5256 - val_loss: 7.4604 - val_mae: 1.8979\n",
            "Epoch 17/500\n",
            "9/9 [==============================] - 0s 4ms/step - loss: 0.6593 - mae: 0.5038 - val_loss: 7.2892 - val_mae: 1.8710\n",
            "Epoch 18/500\n",
            "9/9 [==============================] - 0s 5ms/step - loss: 0.6811 - mae: 0.5326 - val_loss: 7.7853 - val_mae: 1.9568\n",
            "Epoch 19/500\n",
            "9/9 [==============================] - 0s 4ms/step - loss: 0.6488 - mae: 0.5145 - val_loss: 7.4738 - val_mae: 1.8789\n",
            "Epoch 20/500\n",
            "9/9 [==============================] - 0s 4ms/step - loss: 0.6732 - mae: 0.5316 - val_loss: 7.3897 - val_mae: 1.8930\n",
            "Epoch 21/500\n",
            "9/9 [==============================] - 0s 4ms/step - loss: 0.6874 - mae: 0.5476 - val_loss: 7.7955 - val_mae: 1.9619\n",
            "Epoch 22/500\n",
            "9/9 [==============================] - 0s 7ms/step - loss: 0.7272 - mae: 0.5885 - val_loss: 7.2689 - val_mae: 1.8671\n",
            "Epoch 23/500\n",
            "9/9 [==============================] - 0s 4ms/step - loss: 0.7007 - mae: 0.5657 - val_loss: 7.2866 - val_mae: 1.9278\n",
            "Epoch 24/500\n",
            "9/9 [==============================] - 0s 4ms/step - loss: 0.7578 - mae: 0.5969 - val_loss: 7.7129 - val_mae: 1.9649\n",
            "Epoch 25/500\n",
            "9/9 [==============================] - 0s 6ms/step - loss: 0.7595 - mae: 0.5952 - val_loss: 7.2997 - val_mae: 1.8862\n",
            "Epoch 26/500\n",
            "9/9 [==============================] - 0s 4ms/step - loss: 0.6716 - mae: 0.5390 - val_loss: 7.4489 - val_mae: 1.9173\n",
            "Epoch 27/500\n",
            "9/9 [==============================] - 0s 5ms/step - loss: 0.6862 - mae: 0.5363 - val_loss: 7.7942 - val_mae: 1.9774\n",
            "Epoch 28/500\n",
            "9/9 [==============================] - 0s 5ms/step - loss: 0.7389 - mae: 0.5976 - val_loss: 7.4111 - val_mae: 1.9034\n",
            "Epoch 29/500\n",
            "9/9 [==============================] - 0s 4ms/step - loss: 0.6706 - mae: 0.5358 - val_loss: 7.5110 - val_mae: 1.9318\n",
            "Epoch 30/500\n",
            "9/9 [==============================] - 0s 4ms/step - loss: 0.6737 - mae: 0.5357 - val_loss: 7.7764 - val_mae: 1.9324\n",
            "Epoch 31/500\n",
            "9/9 [==============================] - 0s 4ms/step - loss: 0.6599 - mae: 0.5380 - val_loss: 7.6333 - val_mae: 1.9173\n",
            "Epoch 32/500\n",
            "9/9 [==============================] - 0s 4ms/step - loss: 0.6381 - mae: 0.5407 - val_loss: 7.5495 - val_mae: 1.9434\n",
            "Epoch 33/500\n",
            "9/9 [==============================] - 0s 5ms/step - loss: 0.6352 - mae: 0.5323 - val_loss: 7.3710 - val_mae: 1.9314\n",
            "Epoch 34/500\n",
            "9/9 [==============================] - 0s 5ms/step - loss: 0.6295 - mae: 0.5295 - val_loss: 7.6375 - val_mae: 1.9200\n",
            "Epoch 35/500\n",
            "9/9 [==============================] - 0s 5ms/step - loss: 0.7312 - mae: 0.5898 - val_loss: 7.9134 - val_mae: 1.9673\n",
            "Epoch 36/500\n",
            "9/9 [==============================] - 0s 5ms/step - loss: 0.6865 - mae: 0.5679 - val_loss: 7.6651 - val_mae: 1.9408\n",
            "Epoch 37/500\n",
            "9/9 [==============================] - 0s 4ms/step - loss: 0.6672 - mae: 0.5536 - val_loss: 7.6565 - val_mae: 1.9302\n",
            "Epoch 38/500\n",
            "9/9 [==============================] - 0s 7ms/step - loss: 0.6265 - mae: 0.5060 - val_loss: 7.4708 - val_mae: 1.8992\n",
            "Epoch 39/500\n",
            "9/9 [==============================] - 0s 5ms/step - loss: 0.6516 - mae: 0.5282 - val_loss: 7.4275 - val_mae: 1.8984\n",
            "Epoch 40/500\n",
            "9/9 [==============================] - 0s 4ms/step - loss: 0.6189 - mae: 0.5057 - val_loss: 7.6297 - val_mae: 1.9289\n",
            "Epoch 41/500\n",
            "9/9 [==============================] - 0s 4ms/step - loss: 0.5911 - mae: 0.4902 - val_loss: 7.2499 - val_mae: 1.8753\n",
            "Epoch 42/500\n",
            "9/9 [==============================] - 0s 4ms/step - loss: 0.6139 - mae: 0.4914 - val_loss: 7.5161 - val_mae: 1.9041\n",
            "Epoch 43/500\n",
            "9/9 [==============================] - 0s 4ms/step - loss: 0.6054 - mae: 0.4737 - val_loss: 7.5587 - val_mae: 1.9295\n",
            "Epoch 44/500\n",
            "9/9 [==============================] - 0s 5ms/step - loss: 0.6065 - mae: 0.5089 - val_loss: 7.2724 - val_mae: 1.8699\n",
            "Epoch 45/500\n",
            "9/9 [==============================] - 0s 5ms/step - loss: 0.6834 - mae: 0.5613 - val_loss: 8.2095 - val_mae: 1.9985\n",
            "Epoch 46/500\n",
            "9/9 [==============================] - 0s 4ms/step - loss: 0.6624 - mae: 0.5502 - val_loss: 6.9574 - val_mae: 1.8390\n",
            "Epoch 47/500\n",
            "9/9 [==============================] - 0s 5ms/step - loss: 0.6415 - mae: 0.5183 - val_loss: 7.6061 - val_mae: 1.9205\n",
            "Epoch 48/500\n",
            "9/9 [==============================] - 0s 4ms/step - loss: 0.6404 - mae: 0.5293 - val_loss: 7.3467 - val_mae: 1.8878\n",
            "Epoch 49/500\n",
            "9/9 [==============================] - 0s 4ms/step - loss: 0.6718 - mae: 0.5596 - val_loss: 8.0182 - val_mae: 1.9359\n",
            "Epoch 50/500\n",
            "9/9 [==============================] - 0s 4ms/step - loss: 0.7711 - mae: 0.6042 - val_loss: 7.3674 - val_mae: 1.9056\n",
            "Epoch 51/500\n",
            "9/9 [==============================] - 0s 4ms/step - loss: 0.7420 - mae: 0.6057 - val_loss: 7.9457 - val_mae: 1.9321\n",
            "Epoch 52/500\n",
            "9/9 [==============================] - 0s 5ms/step - loss: 0.6787 - mae: 0.5654 - val_loss: 7.7721 - val_mae: 1.9261\n",
            "Epoch 53/500\n",
            "9/9 [==============================] - 0s 5ms/step - loss: 0.6805 - mae: 0.5646 - val_loss: 7.7762 - val_mae: 1.9278\n",
            "Epoch 54/500\n",
            "9/9 [==============================] - 0s 4ms/step - loss: 0.6070 - mae: 0.5448 - val_loss: 7.4100 - val_mae: 1.9493\n",
            "Epoch 55/500\n",
            "9/9 [==============================] - 0s 4ms/step - loss: 0.7169 - mae: 0.6170 - val_loss: 7.8747 - val_mae: 1.9455\n",
            "Epoch 56/500\n",
            "9/9 [==============================] - 0s 4ms/step - loss: 0.7058 - mae: 0.5788 - val_loss: 7.3847 - val_mae: 1.8839\n",
            "Epoch 57/500\n",
            "9/9 [==============================] - 0s 4ms/step - loss: 0.6562 - mae: 0.5550 - val_loss: 8.0118 - val_mae: 1.9347\n",
            "Epoch 58/500\n",
            "9/9 [==============================] - 0s 4ms/step - loss: 0.6834 - mae: 0.5686 - val_loss: 8.0326 - val_mae: 1.9470\n",
            "Epoch 59/500\n",
            "9/9 [==============================] - 0s 4ms/step - loss: 0.6170 - mae: 0.5176 - val_loss: 7.5409 - val_mae: 1.8833\n",
            "Epoch 60/500\n",
            "9/9 [==============================] - 0s 6ms/step - loss: 0.5617 - mae: 0.4854 - val_loss: 7.5426 - val_mae: 1.8925\n",
            "Epoch 61/500\n",
            "9/9 [==============================] - 0s 4ms/step - loss: 0.5656 - mae: 0.4906 - val_loss: 7.4491 - val_mae: 1.8845\n",
            "Epoch 62/500\n",
            "9/9 [==============================] - 0s 4ms/step - loss: 0.5706 - mae: 0.5023 - val_loss: 7.5461 - val_mae: 1.9846\n",
            "Epoch 63/500\n",
            "9/9 [==============================] - 0s 5ms/step - loss: 0.6281 - mae: 0.5575 - val_loss: 7.6850 - val_mae: 1.9614\n",
            "Epoch 64/500\n",
            "9/9 [==============================] - 0s 4ms/step - loss: 0.6148 - mae: 0.5194 - val_loss: 7.4078 - val_mae: 1.9203\n",
            "Epoch 65/500\n",
            "9/9 [==============================] - 0s 4ms/step - loss: 0.6142 - mae: 0.4926 - val_loss: 7.6596 - val_mae: 1.9537\n",
            "Epoch 66/500\n",
            "9/9 [==============================] - 0s 7ms/step - loss: 0.6559 - mae: 0.5627 - val_loss: 7.4890 - val_mae: 1.9069\n",
            "Epoch 67/500\n",
            "9/9 [==============================] - 0s 4ms/step - loss: 0.6450 - mae: 0.5341 - val_loss: 7.5547 - val_mae: 1.9054\n",
            "Epoch 68/500\n",
            "9/9 [==============================] - 0s 5ms/step - loss: 0.6103 - mae: 0.5356 - val_loss: 7.4972 - val_mae: 1.8925\n",
            "Epoch 69/500\n",
            "9/9 [==============================] - 0s 4ms/step - loss: 0.5371 - mae: 0.4780 - val_loss: 7.5855 - val_mae: 1.8939\n",
            "Epoch 70/500\n",
            "9/9 [==============================] - 0s 4ms/step - loss: 0.5275 - mae: 0.4882 - val_loss: 7.7477 - val_mae: 1.9003\n",
            "Epoch 71/500\n",
            "9/9 [==============================] - 0s 4ms/step - loss: 0.5501 - mae: 0.5135 - val_loss: 7.9398 - val_mae: 1.9372\n",
            "Epoch 72/500\n",
            "9/9 [==============================] - 0s 4ms/step - loss: 0.6197 - mae: 0.5428 - val_loss: 7.7048 - val_mae: 1.9233\n",
            "Epoch 73/500\n",
            "9/9 [==============================] - 0s 4ms/step - loss: 0.5663 - mae: 0.4736 - val_loss: 7.4639 - val_mae: 1.8858\n",
            "Epoch 74/500\n",
            "9/9 [==============================] - 0s 4ms/step - loss: 0.5679 - mae: 0.5044 - val_loss: 8.0555 - val_mae: 1.9429\n",
            "Epoch 75/500\n",
            "9/9 [==============================] - 0s 4ms/step - loss: 0.5977 - mae: 0.5123 - val_loss: 7.7086 - val_mae: 1.9288\n",
            "Epoch 76/500\n",
            "9/9 [==============================] - 0s 7ms/step - loss: 0.6924 - mae: 0.5437 - val_loss: 7.7328 - val_mae: 1.9315\n",
            "Epoch 77/500\n",
            "9/9 [==============================] - 0s 5ms/step - loss: 0.7220 - mae: 0.5870 - val_loss: 8.1308 - val_mae: 1.9446\n",
            "Epoch 78/500\n",
            "9/9 [==============================] - 0s 4ms/step - loss: 0.6383 - mae: 0.5569 - val_loss: 7.5016 - val_mae: 1.9262\n",
            "Epoch 79/500\n",
            "9/9 [==============================] - 0s 5ms/step - loss: 0.5573 - mae: 0.5065 - val_loss: 7.8323 - val_mae: 1.9550\n",
            "Epoch 80/500\n",
            "9/9 [==============================] - 0s 4ms/step - loss: 0.6315 - mae: 0.5788 - val_loss: 7.5428 - val_mae: 1.9123\n",
            "Epoch 81/500\n",
            "9/9 [==============================] - 0s 4ms/step - loss: 0.5718 - mae: 0.5174 - val_loss: 7.8224 - val_mae: 1.9524\n",
            "Epoch 82/500\n",
            "9/9 [==============================] - 0s 5ms/step - loss: 0.5421 - mae: 0.4694 - val_loss: 7.4306 - val_mae: 1.9085\n",
            "Epoch 83/500\n",
            "9/9 [==============================] - 0s 4ms/step - loss: 0.4945 - mae: 0.4637 - val_loss: 7.7738 - val_mae: 1.9036\n",
            "Epoch 84/500\n",
            "9/9 [==============================] - 0s 5ms/step - loss: 0.5645 - mae: 0.4810 - val_loss: 7.6557 - val_mae: 1.9479\n",
            "Epoch 85/500\n",
            "9/9 [==============================] - 0s 7ms/step - loss: 0.6045 - mae: 0.5455 - val_loss: 8.0263 - val_mae: 1.9538\n",
            "Epoch 86/500\n",
            "9/9 [==============================] - 0s 4ms/step - loss: 0.6452 - mae: 0.5499 - val_loss: 7.8680 - val_mae: 1.9428\n",
            "Epoch 87/500\n",
            "9/9 [==============================] - 0s 4ms/step - loss: 0.6205 - mae: 0.5272 - val_loss: 7.2344 - val_mae: 1.8627\n",
            "Epoch 88/500\n",
            "9/9 [==============================] - 0s 6ms/step - loss: 0.5608 - mae: 0.4888 - val_loss: 7.7564 - val_mae: 1.9229\n",
            "Epoch 89/500\n",
            "9/9 [==============================] - 0s 5ms/step - loss: 0.5074 - mae: 0.4386 - val_loss: 7.6286 - val_mae: 1.8922\n",
            "Epoch 90/500\n",
            "9/9 [==============================] - 0s 4ms/step - loss: 0.5112 - mae: 0.4514 - val_loss: 7.4546 - val_mae: 1.8770\n",
            "Epoch 91/500\n",
            "9/9 [==============================] - 0s 4ms/step - loss: 0.4809 - mae: 0.4170 - val_loss: 7.8398 - val_mae: 1.9150\n",
            "Epoch 92/500\n",
            "9/9 [==============================] - 0s 4ms/step - loss: 0.5966 - mae: 0.5168 - val_loss: 7.6131 - val_mae: 1.9215\n",
            "Epoch 93/500\n",
            "9/9 [==============================] - 0s 4ms/step - loss: 0.5638 - mae: 0.4998 - val_loss: 7.7655 - val_mae: 1.9257\n",
            "Epoch 94/500\n",
            "9/9 [==============================] - 0s 4ms/step - loss: 0.5644 - mae: 0.4960 - val_loss: 7.6250 - val_mae: 1.8779\n",
            "Epoch 95/500\n",
            "9/9 [==============================] - 0s 5ms/step - loss: 0.4760 - mae: 0.4443 - val_loss: 7.8009 - val_mae: 1.9643\n",
            "Epoch 96/500\n",
            "9/9 [==============================] - 0s 4ms/step - loss: 0.5463 - mae: 0.5073 - val_loss: 7.7580 - val_mae: 1.9309\n",
            "Epoch 97/500\n",
            "9/9 [==============================] - 0s 5ms/step - loss: 0.4871 - mae: 0.4430 - val_loss: 7.4373 - val_mae: 1.8932\n",
            "Epoch 98/500\n",
            "9/9 [==============================] - 0s 4ms/step - loss: 0.5228 - mae: 0.4627 - val_loss: 7.6943 - val_mae: 1.9495\n",
            "Epoch 99/500\n",
            "9/9 [==============================] - 0s 5ms/step - loss: 0.4705 - mae: 0.4373 - val_loss: 8.0528 - val_mae: 1.9607\n",
            "Epoch 100/500\n",
            "9/9 [==============================] - 0s 4ms/step - loss: 0.5444 - mae: 0.4894 - val_loss: 7.3932 - val_mae: 1.9090\n",
            "Epoch 101/500\n",
            "9/9 [==============================] - 0s 4ms/step - loss: 0.5229 - mae: 0.4974 - val_loss: 7.4748 - val_mae: 1.9197\n",
            "Epoch 102/500\n",
            "9/9 [==============================] - 0s 4ms/step - loss: 0.6726 - mae: 0.5857 - val_loss: 8.1134 - val_mae: 1.9979\n",
            "Epoch 103/500\n",
            "9/9 [==============================] - 0s 4ms/step - loss: 0.5846 - mae: 0.5422 - val_loss: 7.6807 - val_mae: 1.9866\n",
            "Epoch 104/500\n",
            "9/9 [==============================] - 0s 4ms/step - loss: 0.5629 - mae: 0.5047 - val_loss: 7.8458 - val_mae: 1.9640\n",
            "Epoch 105/500\n",
            "9/9 [==============================] - 0s 4ms/step - loss: 0.5303 - mae: 0.4978 - val_loss: 7.8820 - val_mae: 1.9626\n",
            "Epoch 106/500\n",
            "9/9 [==============================] - 0s 4ms/step - loss: 0.5430 - mae: 0.5109 - val_loss: 7.5871 - val_mae: 1.9014\n",
            "Epoch 107/500\n",
            "9/9 [==============================] - 0s 4ms/step - loss: 0.5385 - mae: 0.4806 - val_loss: 7.5494 - val_mae: 1.9005\n",
            "Epoch 108/500\n",
            "9/9 [==============================] - 0s 4ms/step - loss: 0.5390 - mae: 0.5117 - val_loss: 8.2293 - val_mae: 1.9833\n",
            "Epoch 109/500\n",
            "9/9 [==============================] - 0s 4ms/step - loss: 0.4992 - mae: 0.4541 - val_loss: 7.9598 - val_mae: 1.9229\n",
            "Epoch 110/500\n",
            "9/9 [==============================] - 0s 4ms/step - loss: 0.5210 - mae: 0.4849 - val_loss: 7.7062 - val_mae: 1.9214\n",
            "Epoch 111/500\n",
            "9/9 [==============================] - 0s 4ms/step - loss: 0.4820 - mae: 0.4804 - val_loss: 8.1103 - val_mae: 1.9564\n",
            "Epoch 112/500\n",
            "9/9 [==============================] - 0s 4ms/step - loss: 0.5447 - mae: 0.5096 - val_loss: 7.8174 - val_mae: 1.9426\n",
            "Epoch 113/500\n",
            "9/9 [==============================] - 0s 4ms/step - loss: 0.5683 - mae: 0.5184 - val_loss: 7.6422 - val_mae: 1.8956\n",
            "Epoch 114/500\n",
            "9/9 [==============================] - 0s 4ms/step - loss: 0.5667 - mae: 0.5230 - val_loss: 7.7526 - val_mae: 1.9223\n",
            "Epoch 115/500\n",
            "9/9 [==============================] - 0s 4ms/step - loss: 0.5525 - mae: 0.5087 - val_loss: 7.7291 - val_mae: 1.9178\n",
            "Epoch 116/500\n",
            "9/9 [==============================] - 0s 5ms/step - loss: 0.5665 - mae: 0.5276 - val_loss: 7.8369 - val_mae: 1.9501\n",
            "Epoch 117/500\n",
            "9/9 [==============================] - 0s 7ms/step - loss: 0.5495 - mae: 0.5255 - val_loss: 7.5398 - val_mae: 1.8857\n",
            "Epoch 118/500\n",
            "9/9 [==============================] - 0s 4ms/step - loss: 0.5305 - mae: 0.4894 - val_loss: 7.8544 - val_mae: 1.9429\n",
            "Epoch 119/500\n",
            "9/9 [==============================] - 0s 6ms/step - loss: 0.4496 - mae: 0.4378 - val_loss: 7.8634 - val_mae: 1.9558\n",
            "Epoch 120/500\n",
            "9/9 [==============================] - 0s 5ms/step - loss: 0.5180 - mae: 0.4768 - val_loss: 7.8735 - val_mae: 1.9355\n",
            "Epoch 121/500\n",
            "9/9 [==============================] - 0s 4ms/step - loss: 0.4660 - mae: 0.4378 - val_loss: 7.4304 - val_mae: 1.8873\n",
            "Epoch 122/500\n",
            "9/9 [==============================] - 0s 4ms/step - loss: 0.4453 - mae: 0.4200 - val_loss: 7.6536 - val_mae: 1.9026\n",
            "Epoch 123/500\n",
            "9/9 [==============================] - 0s 4ms/step - loss: 0.4514 - mae: 0.4213 - val_loss: 7.8619 - val_mae: 1.9906\n",
            "Epoch 124/500\n",
            "9/9 [==============================] - 0s 4ms/step - loss: 0.5638 - mae: 0.5112 - val_loss: 7.7809 - val_mae: 2.0091\n",
            "Epoch 125/500\n",
            "9/9 [==============================] - 0s 4ms/step - loss: 0.6842 - mae: 0.5734 - val_loss: 8.2930 - val_mae: 2.0855\n",
            "Epoch 126/500\n",
            "9/9 [==============================] - 0s 4ms/step - loss: 0.8503 - mae: 0.6950 - val_loss: 7.7666 - val_mae: 2.0100\n",
            "Epoch 127/500\n",
            "9/9 [==============================] - 0s 7ms/step - loss: 0.8059 - mae: 0.6515 - val_loss: 8.0290 - val_mae: 1.9985\n",
            "Epoch 128/500\n",
            "9/9 [==============================] - 0s 5ms/step - loss: 0.7100 - mae: 0.5791 - val_loss: 7.8336 - val_mae: 1.9450\n",
            "Epoch 129/500\n",
            "9/9 [==============================] - 0s 7ms/step - loss: 0.5695 - mae: 0.5127 - val_loss: 7.9101 - val_mae: 1.9767\n",
            "Epoch 130/500\n",
            "9/9 [==============================] - 0s 4ms/step - loss: 0.5347 - mae: 0.5032 - val_loss: 7.5344 - val_mae: 1.9048\n",
            "Epoch 131/500\n",
            "9/9 [==============================] - 0s 5ms/step - loss: 0.4959 - mae: 0.4714 - val_loss: 7.6017 - val_mae: 1.9119\n",
            "Epoch 132/500\n",
            "9/9 [==============================] - 0s 4ms/step - loss: 0.4726 - mae: 0.4459 - val_loss: 8.1938 - val_mae: 1.9886\n",
            "Epoch 133/500\n",
            "9/9 [==============================] - 0s 5ms/step - loss: 0.4493 - mae: 0.4339 - val_loss: 7.8758 - val_mae: 1.9274\n",
            "Epoch 134/500\n",
            "9/9 [==============================] - 0s 5ms/step - loss: 0.4194 - mae: 0.4113 - val_loss: 7.7463 - val_mae: 1.9052\n",
            "Epoch 135/500\n",
            "9/9 [==============================] - 0s 5ms/step - loss: 0.5059 - mae: 0.4726 - val_loss: 7.8239 - val_mae: 1.9468\n",
            "Epoch 136/500\n",
            "9/9 [==============================] - 0s 5ms/step - loss: 0.5529 - mae: 0.4764 - val_loss: 8.1198 - val_mae: 1.9584\n",
            "Epoch 137/500\n",
            "9/9 [==============================] - 0s 4ms/step - loss: 0.6019 - mae: 0.5714 - val_loss: 7.8542 - val_mae: 1.9589\n",
            "Epoch 138/500\n",
            "9/9 [==============================] - 0s 4ms/step - loss: 0.6223 - mae: 0.5346 - val_loss: 7.6479 - val_mae: 1.9262\n",
            "Epoch 139/500\n",
            "9/9 [==============================] - 0s 4ms/step - loss: 0.5802 - mae: 0.5347 - val_loss: 8.3738 - val_mae: 2.0108\n",
            "Epoch 140/500\n",
            "9/9 [==============================] - 0s 4ms/step - loss: 0.5531 - mae: 0.5273 - val_loss: 8.1889 - val_mae: 1.9830\n",
            "Epoch 141/500\n",
            "9/9 [==============================] - 0s 4ms/step - loss: 0.5436 - mae: 0.5101 - val_loss: 7.7593 - val_mae: 1.9170\n",
            "Epoch 142/500\n",
            "9/9 [==============================] - 0s 5ms/step - loss: 0.5023 - mae: 0.4553 - val_loss: 7.6864 - val_mae: 1.9218\n",
            "Epoch 143/500\n",
            "9/9 [==============================] - 0s 4ms/step - loss: 0.5314 - mae: 0.5036 - val_loss: 7.8205 - val_mae: 1.9347\n",
            "Epoch 144/500\n",
            "9/9 [==============================] - 0s 4ms/step - loss: 0.5366 - mae: 0.5064 - val_loss: 8.5579 - val_mae: 2.0121\n",
            "Epoch 145/500\n",
            "9/9 [==============================] - 0s 5ms/step - loss: 0.5739 - mae: 0.5486 - val_loss: 7.4030 - val_mae: 1.8917\n",
            "Epoch 146/500\n",
            "9/9 [==============================] - 0s 5ms/step - loss: 0.6281 - mae: 0.5315 - val_loss: 7.3070 - val_mae: 1.8769\n",
            "Epoch 147/500\n",
            "9/9 [==============================] - 0s 4ms/step - loss: 0.4895 - mae: 0.4593 - val_loss: 8.0021 - val_mae: 1.9643\n",
            "Epoch 148/500\n",
            "9/9 [==============================] - 0s 4ms/step - loss: 0.4529 - mae: 0.4346 - val_loss: 7.5446 - val_mae: 1.9243\n",
            "Epoch 149/500\n",
            "9/9 [==============================] - 0s 4ms/step - loss: 0.4419 - mae: 0.4249 - val_loss: 7.8988 - val_mae: 1.9291\n",
            "Epoch 150/500\n",
            "9/9 [==============================] - 0s 4ms/step - loss: 0.4094 - mae: 0.4039 - val_loss: 7.5649 - val_mae: 1.9441\n",
            "Epoch 151/500\n",
            "9/9 [==============================] - 0s 5ms/step - loss: 0.4770 - mae: 0.4523 - val_loss: 7.9192 - val_mae: 2.0060\n",
            "Epoch 152/500\n",
            "9/9 [==============================] - 0s 5ms/step - loss: 0.5204 - mae: 0.4969 - val_loss: 7.7900 - val_mae: 2.0016\n",
            "Epoch 153/500\n",
            "9/9 [==============================] - 0s 5ms/step - loss: 0.4199 - mae: 0.4394 - val_loss: 7.7073 - val_mae: 1.9473\n",
            "Epoch 154/500\n",
            "9/9 [==============================] - 0s 4ms/step - loss: 0.4513 - mae: 0.4445 - val_loss: 8.1008 - val_mae: 2.0442\n",
            "Epoch 155/500\n",
            "9/9 [==============================] - 0s 5ms/step - loss: 0.4839 - mae: 0.4755 - val_loss: 7.7660 - val_mae: 1.9429\n",
            "Epoch 156/500\n",
            "9/9 [==============================] - 0s 4ms/step - loss: 0.4260 - mae: 0.4343 - val_loss: 7.4389 - val_mae: 1.8805\n",
            "Epoch 157/500\n",
            "9/9 [==============================] - 0s 4ms/step - loss: 0.4154 - mae: 0.4113 - val_loss: 7.8181 - val_mae: 1.9630\n",
            "Epoch 158/500\n",
            "9/9 [==============================] - 0s 7ms/step - loss: 0.4062 - mae: 0.4024 - val_loss: 7.8223 - val_mae: 1.9091\n",
            "Epoch 159/500\n",
            "9/9 [==============================] - 0s 5ms/step - loss: 0.3902 - mae: 0.3828 - val_loss: 7.8601 - val_mae: 1.9471\n",
            "Epoch 160/500\n",
            "9/9 [==============================] - 0s 4ms/step - loss: 0.3854 - mae: 0.3793 - val_loss: 7.5884 - val_mae: 1.9017\n",
            "Epoch 161/500\n",
            "9/9 [==============================] - 0s 4ms/step - loss: 0.4013 - mae: 0.3960 - val_loss: 7.8268 - val_mae: 1.9457\n",
            "Epoch 162/500\n",
            "9/9 [==============================] - 0s 5ms/step - loss: 0.3968 - mae: 0.4004 - val_loss: 8.2850 - val_mae: 1.9877\n",
            "Epoch 163/500\n",
            "9/9 [==============================] - 0s 5ms/step - loss: 0.3970 - mae: 0.4037 - val_loss: 7.5648 - val_mae: 1.9084\n",
            "Epoch 164/500\n",
            "9/9 [==============================] - 0s 6ms/step - loss: 0.4222 - mae: 0.4159 - val_loss: 7.8828 - val_mae: 1.9322\n",
            "Epoch 165/500\n",
            "9/9 [==============================] - 0s 5ms/step - loss: 0.4035 - mae: 0.4163 - val_loss: 8.4717 - val_mae: 2.0101\n",
            "Epoch 166/500\n",
            "9/9 [==============================] - 0s 5ms/step - loss: 0.4621 - mae: 0.4685 - val_loss: 7.8698 - val_mae: 1.9155\n",
            "Epoch 167/500\n",
            "9/9 [==============================] - 0s 5ms/step - loss: 0.3931 - mae: 0.4075 - val_loss: 7.7500 - val_mae: 1.9337\n",
            "Epoch 168/500\n",
            "9/9 [==============================] - 0s 4ms/step - loss: 0.4314 - mae: 0.4376 - val_loss: 7.6076 - val_mae: 1.9421\n",
            "Epoch 169/500\n",
            "9/9 [==============================] - 0s 5ms/step - loss: 0.4900 - mae: 0.4920 - val_loss: 7.9073 - val_mae: 2.0285\n",
            "Epoch 170/500\n",
            "9/9 [==============================] - 0s 4ms/step - loss: 0.4942 - mae: 0.4855 - val_loss: 7.8487 - val_mae: 1.9473\n",
            "Epoch 171/500\n",
            "9/9 [==============================] - 0s 4ms/step - loss: 0.3953 - mae: 0.3854 - val_loss: 8.0800 - val_mae: 2.0049\n",
            "Epoch 172/500\n",
            "9/9 [==============================] - 0s 7ms/step - loss: 0.4396 - mae: 0.4293 - val_loss: 7.8047 - val_mae: 1.9289\n",
            "Epoch 173/500\n",
            "9/9 [==============================] - 0s 5ms/step - loss: 0.4015 - mae: 0.3944 - val_loss: 8.0975 - val_mae: 1.9552\n",
            "Epoch 174/500\n",
            "9/9 [==============================] - 0s 5ms/step - loss: 0.3959 - mae: 0.3943 - val_loss: 7.8857 - val_mae: 1.9316\n",
            "Epoch 175/500\n",
            "9/9 [==============================] - 0s 5ms/step - loss: 0.4000 - mae: 0.3981 - val_loss: 7.9247 - val_mae: 2.0144\n",
            "Epoch 176/500\n",
            "9/9 [==============================] - 0s 4ms/step - loss: 0.3726 - mae: 0.4017 - val_loss: 7.9472 - val_mae: 1.9494\n",
            "Epoch 177/500\n",
            "9/9 [==============================] - 0s 5ms/step - loss: 0.4188 - mae: 0.4148 - val_loss: 7.8816 - val_mae: 2.0075\n",
            "Epoch 178/500\n",
            "9/9 [==============================] - 0s 4ms/step - loss: 0.4486 - mae: 0.4352 - val_loss: 8.1469 - val_mae: 1.9904\n",
            "Epoch 179/500\n",
            "9/9 [==============================] - 0s 5ms/step - loss: 0.5108 - mae: 0.4935 - val_loss: 7.6687 - val_mae: 1.9268\n",
            "Epoch 180/500\n",
            "9/9 [==============================] - 0s 5ms/step - loss: 0.4254 - mae: 0.4572 - val_loss: 8.0455 - val_mae: 2.0224\n",
            "Epoch 181/500\n",
            "9/9 [==============================] - 0s 7ms/step - loss: 0.4394 - mae: 0.4572 - val_loss: 7.9088 - val_mae: 1.9328\n",
            "Epoch 182/500\n",
            "9/9 [==============================] - 0s 7ms/step - loss: 0.4076 - mae: 0.4171 - val_loss: 8.6316 - val_mae: 2.0429\n",
            "Epoch 183/500\n",
            "9/9 [==============================] - 0s 5ms/step - loss: 0.4484 - mae: 0.4561 - val_loss: 8.3318 - val_mae: 2.0115\n",
            "Epoch 184/500\n",
            "9/9 [==============================] - 0s 4ms/step - loss: 0.4277 - mae: 0.4385 - val_loss: 8.3802 - val_mae: 1.9928\n",
            "Epoch 185/500\n",
            "9/9 [==============================] - 0s 4ms/step - loss: 0.3728 - mae: 0.4005 - val_loss: 7.8396 - val_mae: 1.9634\n",
            "Epoch 186/500\n",
            "9/9 [==============================] - 0s 4ms/step - loss: 0.3316 - mae: 0.3498 - val_loss: 7.7362 - val_mae: 1.9513\n",
            "Epoch 187/500\n",
            "9/9 [==============================] - 0s 5ms/step - loss: 0.3529 - mae: 0.3717 - val_loss: 8.3355 - val_mae: 2.0360\n",
            "Epoch 188/500\n",
            "9/9 [==============================] - 0s 5ms/step - loss: 0.4101 - mae: 0.4287 - val_loss: 8.1408 - val_mae: 2.0187\n",
            "Epoch 189/500\n",
            "9/9 [==============================] - 0s 4ms/step - loss: 0.4887 - mae: 0.4638 - val_loss: 7.6460 - val_mae: 1.9301\n",
            "Epoch 190/500\n",
            "9/9 [==============================] - 0s 5ms/step - loss: 0.3794 - mae: 0.3918 - val_loss: 7.9931 - val_mae: 1.9671\n",
            "Epoch 191/500\n",
            "9/9 [==============================] - 0s 5ms/step - loss: 0.3515 - mae: 0.3781 - val_loss: 8.3888 - val_mae: 2.0223\n",
            "Epoch 192/500\n",
            "9/9 [==============================] - 0s 4ms/step - loss: 0.3906 - mae: 0.4235 - val_loss: 7.7517 - val_mae: 1.9614\n",
            "Epoch 193/500\n",
            "9/9 [==============================] - 0s 4ms/step - loss: 0.3949 - mae: 0.4145 - val_loss: 7.4882 - val_mae: 1.8906\n",
            "Epoch 194/500\n",
            "9/9 [==============================] - 0s 4ms/step - loss: 0.3799 - mae: 0.4012 - val_loss: 8.5804 - val_mae: 2.0290\n",
            "Epoch 195/500\n",
            "9/9 [==============================] - 0s 5ms/step - loss: 0.4280 - mae: 0.4228 - val_loss: 8.5531 - val_mae: 2.0452\n",
            "Epoch 196/500\n",
            "9/9 [==============================] - 0s 7ms/step - loss: 0.4306 - mae: 0.4393 - val_loss: 8.2577 - val_mae: 1.9921\n",
            "Epoch 197/500\n",
            "9/9 [==============================] - 0s 5ms/step - loss: 0.4373 - mae: 0.4464 - val_loss: 7.9096 - val_mae: 1.9425\n",
            "Epoch 198/500\n",
            "9/9 [==============================] - 0s 4ms/step - loss: 0.4241 - mae: 0.4588 - val_loss: 7.6701 - val_mae: 1.9283\n",
            "Epoch 199/500\n",
            "9/9 [==============================] - 0s 5ms/step - loss: 0.3949 - mae: 0.4240 - val_loss: 8.5318 - val_mae: 2.0147\n",
            "Epoch 200/500\n",
            "9/9 [==============================] - 0s 5ms/step - loss: 0.3399 - mae: 0.3882 - val_loss: 7.9716 - val_mae: 1.9727\n",
            "Epoch 201/500\n",
            "9/9 [==============================] - 0s 6ms/step - loss: 0.3480 - mae: 0.3748 - val_loss: 8.1701 - val_mae: 1.9666\n",
            "Epoch 202/500\n",
            "9/9 [==============================] - 0s 5ms/step - loss: 0.4774 - mae: 0.4697 - val_loss: 8.1872 - val_mae: 1.9852\n",
            "Epoch 203/500\n",
            "9/9 [==============================] - 0s 7ms/step - loss: 0.5348 - mae: 0.5057 - val_loss: 8.4046 - val_mae: 1.9922\n",
            "Epoch 204/500\n",
            "9/9 [==============================] - 0s 5ms/step - loss: 0.5877 - mae: 0.5657 - val_loss: 8.7129 - val_mae: 2.0645\n",
            "Epoch 205/500\n",
            "9/9 [==============================] - 0s 5ms/step - loss: 0.5311 - mae: 0.5212 - val_loss: 7.9952 - val_mae: 1.9983\n",
            "Epoch 206/500\n",
            "9/9 [==============================] - 0s 5ms/step - loss: 0.5186 - mae: 0.5216 - val_loss: 7.8928 - val_mae: 1.9282\n",
            "Epoch 207/500\n",
            "9/9 [==============================] - 0s 6ms/step - loss: 0.4952 - mae: 0.4871 - val_loss: 7.5296 - val_mae: 1.9091\n",
            "Epoch 208/500\n",
            "9/9 [==============================] - 0s 5ms/step - loss: 0.3857 - mae: 0.4231 - val_loss: 8.4825 - val_mae: 2.0440\n",
            "Epoch 209/500\n",
            "9/9 [==============================] - 0s 5ms/step - loss: 0.4219 - mae: 0.4350 - val_loss: 8.0558 - val_mae: 2.0323\n",
            "Epoch 210/500\n",
            "9/9 [==============================] - 0s 5ms/step - loss: 0.4469 - mae: 0.4734 - val_loss: 8.1883 - val_mae: 2.0465\n",
            "Epoch 211/500\n",
            "9/9 [==============================] - 0s 5ms/step - loss: 0.3285 - mae: 0.3659 - val_loss: 7.9550 - val_mae: 1.9742\n",
            "Epoch 212/500\n",
            "9/9 [==============================] - 0s 5ms/step - loss: 0.3502 - mae: 0.3713 - val_loss: 8.0762 - val_mae: 2.0019\n",
            "Epoch 213/500\n",
            "9/9 [==============================] - 0s 5ms/step - loss: 0.3443 - mae: 0.3722 - val_loss: 7.6449 - val_mae: 1.9608\n",
            "Epoch 214/500\n",
            "9/9 [==============================] - 0s 4ms/step - loss: 0.3418 - mae: 0.3764 - val_loss: 8.1398 - val_mae: 1.9657\n",
            "Epoch 215/500\n",
            "9/9 [==============================] - 0s 5ms/step - loss: 0.3521 - mae: 0.3870 - val_loss: 8.0303 - val_mae: 1.9817\n",
            "Epoch 216/500\n",
            "9/9 [==============================] - 0s 5ms/step - loss: 0.3646 - mae: 0.3891 - val_loss: 8.2354 - val_mae: 1.9808\n",
            "Epoch 217/500\n",
            "9/9 [==============================] - 0s 5ms/step - loss: 0.3187 - mae: 0.3586 - val_loss: 8.0366 - val_mae: 2.0122\n",
            "Epoch 218/500\n",
            "9/9 [==============================] - 0s 5ms/step - loss: 0.3164 - mae: 0.3752 - val_loss: 8.0773 - val_mae: 2.0266\n",
            "Epoch 219/500\n",
            "9/9 [==============================] - 0s 5ms/step - loss: 0.3750 - mae: 0.4101 - val_loss: 8.0067 - val_mae: 1.9809\n",
            "Epoch 220/500\n",
            "9/9 [==============================] - 0s 5ms/step - loss: 0.4241 - mae: 0.4806 - val_loss: 8.0484 - val_mae: 2.0261\n",
            "Epoch 221/500\n",
            "9/9 [==============================] - 0s 7ms/step - loss: 0.4256 - mae: 0.4774 - val_loss: 7.9826 - val_mae: 1.9853\n",
            "Epoch 222/500\n",
            "9/9 [==============================] - 0s 4ms/step - loss: 0.4412 - mae: 0.4882 - val_loss: 7.9810 - val_mae: 2.0039\n",
            "Epoch 223/500\n",
            "9/9 [==============================] - 0s 5ms/step - loss: 0.4723 - mae: 0.4921 - val_loss: 8.6222 - val_mae: 2.0510\n",
            "Epoch 224/500\n",
            "9/9 [==============================] - 0s 5ms/step - loss: 0.3862 - mae: 0.4087 - val_loss: 7.9910 - val_mae: 1.9832\n",
            "Epoch 225/500\n",
            "9/9 [==============================] - 0s 5ms/step - loss: 0.3966 - mae: 0.4327 - val_loss: 8.0462 - val_mae: 1.9515\n",
            "Epoch 226/500\n",
            "9/9 [==============================] - 0s 5ms/step - loss: 0.3680 - mae: 0.4105 - val_loss: 8.9927 - val_mae: 2.0437\n",
            "Epoch 227/500\n",
            "9/9 [==============================] - 0s 5ms/step - loss: 0.3620 - mae: 0.4256 - val_loss: 8.1750 - val_mae: 1.9925\n",
            "Epoch 228/500\n",
            "9/9 [==============================] - 0s 4ms/step - loss: 0.3573 - mae: 0.4140 - val_loss: 7.8265 - val_mae: 1.9286\n",
            "Epoch 229/500\n",
            "9/9 [==============================] - 0s 5ms/step - loss: 0.3326 - mae: 0.3883 - val_loss: 8.1098 - val_mae: 1.9509\n",
            "Epoch 230/500\n",
            "9/9 [==============================] - 0s 5ms/step - loss: 0.3379 - mae: 0.3771 - val_loss: 8.1231 - val_mae: 1.9958\n",
            "Epoch 231/500\n",
            "9/9 [==============================] - 0s 4ms/step - loss: 0.3174 - mae: 0.3420 - val_loss: 8.2901 - val_mae: 2.0183\n",
            "Epoch 232/500\n",
            "9/9 [==============================] - 0s 7ms/step - loss: 0.3729 - mae: 0.3799 - val_loss: 8.5759 - val_mae: 2.0787\n",
            "Epoch 233/500\n",
            "9/9 [==============================] - 0s 5ms/step - loss: 0.3957 - mae: 0.4417 - val_loss: 8.3668 - val_mae: 2.0800\n",
            "Epoch 234/500\n",
            "9/9 [==============================] - 0s 5ms/step - loss: 0.4399 - mae: 0.4974 - val_loss: 7.9811 - val_mae: 2.0022\n",
            "Epoch 235/500\n",
            "9/9 [==============================] - 0s 5ms/step - loss: 0.4623 - mae: 0.4783 - val_loss: 7.8860 - val_mae: 1.9871\n",
            "Epoch 236/500\n",
            "9/9 [==============================] - 0s 4ms/step - loss: 0.4362 - mae: 0.4570 - val_loss: 8.2760 - val_mae: 1.9995\n",
            "Epoch 237/500\n",
            "9/9 [==============================] - 0s 5ms/step - loss: 0.3956 - mae: 0.4348 - val_loss: 8.4494 - val_mae: 1.9945\n",
            "Epoch 238/500\n",
            "9/9 [==============================] - 0s 4ms/step - loss: 0.3365 - mae: 0.3741 - val_loss: 8.2299 - val_mae: 1.9783\n",
            "Epoch 239/500\n",
            "9/9 [==============================] - 0s 4ms/step - loss: 0.3519 - mae: 0.4012 - val_loss: 8.5345 - val_mae: 2.0057\n",
            "Epoch 240/500\n",
            "9/9 [==============================] - 0s 5ms/step - loss: 0.3168 - mae: 0.3659 - val_loss: 8.2021 - val_mae: 2.0092\n",
            "Epoch 241/500\n",
            "9/9 [==============================] - 0s 5ms/step - loss: 0.2972 - mae: 0.3470 - val_loss: 8.0019 - val_mae: 1.9647\n",
            "Epoch 242/500\n",
            "9/9 [==============================] - 0s 5ms/step - loss: 0.3097 - mae: 0.3544 - val_loss: 8.1356 - val_mae: 1.9837\n",
            "Epoch 243/500\n",
            "9/9 [==============================] - 0s 5ms/step - loss: 0.3052 - mae: 0.3519 - val_loss: 8.0734 - val_mae: 1.9647\n",
            "Epoch 244/500\n",
            "9/9 [==============================] - 0s 5ms/step - loss: 0.2884 - mae: 0.3271 - val_loss: 8.1127 - val_mae: 1.9974\n",
            "Epoch 245/500\n",
            "9/9 [==============================] - 0s 4ms/step - loss: 0.3288 - mae: 0.3543 - val_loss: 8.7118 - val_mae: 2.0784\n",
            "Epoch 246/500\n",
            "9/9 [==============================] - 0s 5ms/step - loss: 0.3667 - mae: 0.4178 - val_loss: 9.0465 - val_mae: 2.1203\n",
            "Epoch 247/500\n",
            "9/9 [==============================] - 0s 6ms/step - loss: 0.4390 - mae: 0.4807 - val_loss: 7.8067 - val_mae: 1.9716\n",
            "Epoch 248/500\n",
            "9/9 [==============================] - 0s 5ms/step - loss: 0.3509 - mae: 0.4012 - val_loss: 8.0343 - val_mae: 1.9667\n",
            "Epoch 249/500\n",
            "9/9 [==============================] - 0s 5ms/step - loss: 0.3368 - mae: 0.3779 - val_loss: 7.9719 - val_mae: 1.9794\n",
            "Epoch 250/500\n",
            "9/9 [==============================] - 0s 5ms/step - loss: 0.3065 - mae: 0.3664 - val_loss: 8.5300 - val_mae: 2.0741\n",
            "Epoch 251/500\n",
            "9/9 [==============================] - 0s 4ms/step - loss: 0.3567 - mae: 0.4266 - val_loss: 8.1671 - val_mae: 2.0632\n",
            "Epoch 252/500\n",
            "9/9 [==============================] - 0s 5ms/step - loss: 0.3852 - mae: 0.4331 - val_loss: 7.9932 - val_mae: 2.0319\n",
            "Epoch 253/500\n",
            "9/9 [==============================] - 0s 5ms/step - loss: 0.4569 - mae: 0.4577 - val_loss: 7.6308 - val_mae: 1.9297\n",
            "Epoch 254/500\n",
            "9/9 [==============================] - 0s 4ms/step - loss: 0.3656 - mae: 0.4453 - val_loss: 8.6471 - val_mae: 2.1013\n",
            "Epoch 255/500\n",
            "9/9 [==============================] - 0s 5ms/step - loss: 0.3484 - mae: 0.3946 - val_loss: 8.4921 - val_mae: 2.0693\n",
            "Epoch 256/500\n",
            "9/9 [==============================] - 0s 5ms/step - loss: 0.3002 - mae: 0.3805 - val_loss: 8.2761 - val_mae: 2.0564\n",
            "Epoch 257/500\n",
            "9/9 [==============================] - 0s 6ms/step - loss: 0.3501 - mae: 0.4033 - val_loss: 8.3221 - val_mae: 2.0390\n",
            "Epoch 258/500\n",
            "9/9 [==============================] - 0s 5ms/step - loss: 0.3188 - mae: 0.3666 - val_loss: 7.7866 - val_mae: 1.9680\n",
            "Epoch 259/500\n",
            "9/9 [==============================] - 0s 5ms/step - loss: 0.3812 - mae: 0.4248 - val_loss: 8.3361 - val_mae: 1.9854\n",
            "Epoch 260/500\n",
            "9/9 [==============================] - 0s 5ms/step - loss: 0.3967 - mae: 0.4143 - val_loss: 8.7900 - val_mae: 2.0762\n",
            "Epoch 261/500\n",
            "9/9 [==============================] - 0s 5ms/step - loss: 0.4427 - mae: 0.4700 - val_loss: 8.2308 - val_mae: 2.0030\n",
            "Epoch 262/500\n",
            "9/9 [==============================] - 0s 5ms/step - loss: 0.3608 - mae: 0.4041 - val_loss: 8.3948 - val_mae: 2.0652\n",
            "Epoch 263/500\n",
            "9/9 [==============================] - 0s 5ms/step - loss: 0.3894 - mae: 0.4433 - val_loss: 8.0234 - val_mae: 1.9685\n",
            "Epoch 264/500\n",
            "9/9 [==============================] - 0s 5ms/step - loss: 0.4361 - mae: 0.4263 - val_loss: 8.0136 - val_mae: 2.0133\n",
            "Epoch 265/500\n",
            "9/9 [==============================] - 0s 6ms/step - loss: 0.3778 - mae: 0.4084 - val_loss: 8.6755 - val_mae: 2.0366\n",
            "Epoch 266/500\n",
            "9/9 [==============================] - 0s 4ms/step - loss: 0.3143 - mae: 0.3913 - val_loss: 8.8998 - val_mae: 2.0564\n",
            "Epoch 267/500\n",
            "9/9 [==============================] - 0s 6ms/step - loss: 0.4736 - mae: 0.4988 - val_loss: 8.2312 - val_mae: 2.0176\n",
            "Epoch 268/500\n",
            "9/9 [==============================] - 0s 5ms/step - loss: 0.4003 - mae: 0.4141 - val_loss: 8.6364 - val_mae: 2.0804\n",
            "Epoch 269/500\n",
            "9/9 [==============================] - 0s 4ms/step - loss: 0.2817 - mae: 0.3434 - val_loss: 8.1407 - val_mae: 1.9976\n",
            "Epoch 270/500\n",
            "9/9 [==============================] - 0s 4ms/step - loss: 0.3025 - mae: 0.3333 - val_loss: 8.1316 - val_mae: 2.0244\n",
            "Epoch 271/500\n",
            "9/9 [==============================] - 0s 7ms/step - loss: 0.2837 - mae: 0.3455 - val_loss: 8.4806 - val_mae: 2.0008\n",
            "Epoch 272/500\n",
            "9/9 [==============================] - 0s 5ms/step - loss: 0.2838 - mae: 0.3432 - val_loss: 8.9124 - val_mae: 2.0879\n",
            "Epoch 273/500\n",
            "9/9 [==============================] - 0s 5ms/step - loss: 0.2752 - mae: 0.3275 - val_loss: 8.1765 - val_mae: 2.0039\n",
            "Epoch 274/500\n",
            "9/9 [==============================] - 0s 5ms/step - loss: 0.2628 - mae: 0.3146 - val_loss: 8.6018 - val_mae: 2.0450\n",
            "Epoch 275/500\n",
            "9/9 [==============================] - 0s 4ms/step - loss: 0.2566 - mae: 0.3136 - val_loss: 8.6022 - val_mae: 2.0545\n",
            "Epoch 276/500\n",
            "9/9 [==============================] - 0s 4ms/step - loss: 0.3171 - mae: 0.3656 - val_loss: 8.7018 - val_mae: 2.0236\n",
            "Epoch 277/500\n",
            "9/9 [==============================] - 0s 6ms/step - loss: 0.3217 - mae: 0.3990 - val_loss: 7.9423 - val_mae: 1.9638\n",
            "Epoch 278/500\n",
            "9/9 [==============================] - 0s 6ms/step - loss: 0.2953 - mae: 0.3542 - val_loss: 8.5330 - val_mae: 2.0458\n",
            "Epoch 279/500\n",
            "9/9 [==============================] - 0s 7ms/step - loss: 0.2501 - mae: 0.3042 - val_loss: 8.7577 - val_mae: 2.0691\n",
            "Epoch 280/500\n",
            "9/9 [==============================] - 0s 5ms/step - loss: 0.2642 - mae: 0.3322 - val_loss: 8.4782 - val_mae: 2.0356\n",
            "Epoch 281/500\n",
            "9/9 [==============================] - 0s 5ms/step - loss: 0.2460 - mae: 0.2955 - val_loss: 8.1338 - val_mae: 1.9944\n",
            "Epoch 282/500\n",
            "9/9 [==============================] - 0s 7ms/step - loss: 0.2741 - mae: 0.3373 - val_loss: 8.5943 - val_mae: 2.0324\n",
            "Epoch 283/500\n",
            "9/9 [==============================] - 0s 4ms/step - loss: 0.2413 - mae: 0.3086 - val_loss: 8.4705 - val_mae: 2.0429\n",
            "Epoch 284/500\n",
            "9/9 [==============================] - 0s 5ms/step - loss: 0.2651 - mae: 0.3209 - val_loss: 8.5684 - val_mae: 2.0532\n",
            "Epoch 285/500\n",
            "9/9 [==============================] - 0s 4ms/step - loss: 0.2727 - mae: 0.3294 - val_loss: 8.1629 - val_mae: 2.0202\n",
            "Epoch 286/500\n",
            "9/9 [==============================] - 0s 5ms/step - loss: 0.2592 - mae: 0.3176 - val_loss: 8.3341 - val_mae: 2.0425\n",
            "Epoch 287/500\n",
            "9/9 [==============================] - 0s 5ms/step - loss: 0.2420 - mae: 0.3176 - val_loss: 8.8117 - val_mae: 2.1054\n",
            "Epoch 288/500\n",
            "9/9 [==============================] - 0s 4ms/step - loss: 0.2862 - mae: 0.3465 - val_loss: 8.1048 - val_mae: 1.9945\n",
            "Epoch 289/500\n",
            "9/9 [==============================] - 0s 5ms/step - loss: 0.3773 - mae: 0.4283 - val_loss: 8.5200 - val_mae: 2.0545\n",
            "Epoch 290/500\n",
            "9/9 [==============================] - 0s 5ms/step - loss: 0.3411 - mae: 0.3937 - val_loss: 8.3775 - val_mae: 2.0669\n",
            "Epoch 291/500\n",
            "9/9 [==============================] - 0s 5ms/step - loss: 0.2829 - mae: 0.3582 - val_loss: 8.4479 - val_mae: 2.0286\n",
            "Epoch 292/500\n",
            "9/9 [==============================] - 0s 5ms/step - loss: 0.2887 - mae: 0.3657 - val_loss: 9.1274 - val_mae: 2.1243\n",
            "Epoch 293/500\n",
            "9/9 [==============================] - 0s 5ms/step - loss: 0.3198 - mae: 0.4174 - val_loss: 8.5860 - val_mae: 2.0946\n",
            "Epoch 294/500\n",
            "9/9 [==============================] - 0s 5ms/step - loss: 0.4148 - mae: 0.4662 - val_loss: 9.2899 - val_mae: 2.1298\n",
            "Epoch 295/500\n",
            "9/9 [==============================] - 0s 5ms/step - loss: 0.3888 - mae: 0.4459 - val_loss: 8.3872 - val_mae: 2.0432\n",
            "Epoch 296/500\n",
            "9/9 [==============================] - 0s 5ms/step - loss: 0.3332 - mae: 0.3891 - val_loss: 9.1968 - val_mae: 2.1082\n",
            "Epoch 297/500\n",
            "9/9 [==============================] - 0s 6ms/step - loss: 0.3330 - mae: 0.4252 - val_loss: 8.8454 - val_mae: 2.1070\n",
            "Epoch 298/500\n",
            "9/9 [==============================] - 0s 6ms/step - loss: 0.3638 - mae: 0.4282 - val_loss: 8.4116 - val_mae: 2.0507\n",
            "Epoch 299/500\n",
            "9/9 [==============================] - 0s 5ms/step - loss: 0.3815 - mae: 0.4433 - val_loss: 8.5393 - val_mae: 2.0603\n",
            "Epoch 300/500\n",
            "9/9 [==============================] - 0s 5ms/step - loss: 0.3891 - mae: 0.4431 - val_loss: 8.5021 - val_mae: 2.0975\n",
            "Epoch 301/500\n",
            "9/9 [==============================] - 0s 6ms/step - loss: 0.3396 - mae: 0.4062 - val_loss: 8.8164 - val_mae: 2.0987\n",
            "Epoch 302/500\n",
            "9/9 [==============================] - 0s 7ms/step - loss: 0.4986 - mae: 0.5077 - val_loss: 9.1232 - val_mae: 2.1097\n",
            "Epoch 303/500\n",
            "9/9 [==============================] - 0s 5ms/step - loss: 0.5063 - mae: 0.5202 - val_loss: 8.9646 - val_mae: 2.0805\n",
            "Epoch 304/500\n",
            "9/9 [==============================] - 0s 5ms/step - loss: 0.4029 - mae: 0.4598 - val_loss: 8.2662 - val_mae: 2.0206\n",
            "Epoch 305/500\n",
            "9/9 [==============================] - 0s 5ms/step - loss: 0.3839 - mae: 0.4251 - val_loss: 8.2892 - val_mae: 2.0605\n",
            "Epoch 306/500\n",
            "9/9 [==============================] - 0s 5ms/step - loss: 0.3156 - mae: 0.3864 - val_loss: 8.5428 - val_mae: 2.0460\n",
            "Epoch 307/500\n",
            "9/9 [==============================] - 0s 5ms/step - loss: 0.2677 - mae: 0.3402 - val_loss: 8.8185 - val_mae: 2.1189\n",
            "Epoch 308/500\n",
            "9/9 [==============================] - 0s 5ms/step - loss: 0.2924 - mae: 0.3700 - val_loss: 8.3934 - val_mae: 2.0473\n",
            "Epoch 309/500\n",
            "9/9 [==============================] - 0s 5ms/step - loss: 0.2523 - mae: 0.3229 - val_loss: 8.6063 - val_mae: 2.0564\n",
            "Epoch 310/500\n",
            "9/9 [==============================] - 0s 5ms/step - loss: 0.2492 - mae: 0.3326 - val_loss: 8.7753 - val_mae: 2.0528\n",
            "Epoch 311/500\n",
            "9/9 [==============================] - 0s 5ms/step - loss: 0.2447 - mae: 0.3269 - val_loss: 8.3929 - val_mae: 2.0551\n",
            "Epoch 312/500\n",
            "9/9 [==============================] - 0s 4ms/step - loss: 0.2414 - mae: 0.3194 - val_loss: 8.9246 - val_mae: 2.1191\n",
            "Epoch 313/500\n",
            "9/9 [==============================] - 0s 5ms/step - loss: 0.2431 - mae: 0.3079 - val_loss: 8.4067 - val_mae: 2.0429\n",
            "Epoch 314/500\n",
            "9/9 [==============================] - 0s 5ms/step - loss: 0.2276 - mae: 0.2894 - val_loss: 8.3902 - val_mae: 2.0545\n",
            "Epoch 315/500\n",
            "9/9 [==============================] - 0s 4ms/step - loss: 0.2436 - mae: 0.3212 - val_loss: 8.5533 - val_mae: 2.0715\n",
            "Epoch 316/500\n",
            "9/9 [==============================] - 0s 4ms/step - loss: 0.2951 - mae: 0.3486 - val_loss: 8.6216 - val_mae: 2.1155\n",
            "Epoch 317/500\n",
            "9/9 [==============================] - 0s 5ms/step - loss: 0.3793 - mae: 0.4429 - val_loss: 8.9071 - val_mae: 2.0971\n",
            "Epoch 318/500\n",
            "9/9 [==============================] - 0s 4ms/step - loss: 0.3056 - mae: 0.3620 - val_loss: 8.3101 - val_mae: 2.0338\n",
            "Epoch 319/500\n",
            "9/9 [==============================] - 0s 6ms/step - loss: 0.2783 - mae: 0.3778 - val_loss: 8.5026 - val_mae: 2.0424\n",
            "Epoch 320/500\n",
            "9/9 [==============================] - 0s 5ms/step - loss: 0.2933 - mae: 0.3822 - val_loss: 8.6889 - val_mae: 2.0719\n",
            "Epoch 321/500\n",
            "9/9 [==============================] - 0s 5ms/step - loss: 0.2916 - mae: 0.3493 - val_loss: 8.8029 - val_mae: 2.1004\n",
            "Epoch 322/500\n",
            "9/9 [==============================] - 0s 5ms/step - loss: 0.2833 - mae: 0.3527 - val_loss: 8.3651 - val_mae: 2.0876\n",
            "Epoch 323/500\n",
            "9/9 [==============================] - 0s 5ms/step - loss: 0.2594 - mae: 0.3438 - val_loss: 8.4149 - val_mae: 2.0833\n",
            "Epoch 324/500\n",
            "9/9 [==============================] - 0s 5ms/step - loss: 0.2365 - mae: 0.3364 - val_loss: 8.4624 - val_mae: 2.0778\n",
            "Epoch 325/500\n",
            "9/9 [==============================] - 0s 5ms/step - loss: 0.2472 - mae: 0.3168 - val_loss: 8.6497 - val_mae: 2.0702\n",
            "Epoch 326/500\n",
            "9/9 [==============================] - 0s 5ms/step - loss: 0.2357 - mae: 0.3056 - val_loss: 8.5661 - val_mae: 2.0812\n",
            "Epoch 327/500\n",
            "9/9 [==============================] - 0s 6ms/step - loss: 0.1994 - mae: 0.2767 - val_loss: 8.5918 - val_mae: 2.0927\n",
            "Epoch 328/500\n",
            "9/9 [==============================] - 0s 4ms/step - loss: 0.2066 - mae: 0.2918 - val_loss: 8.2231 - val_mae: 2.0603\n",
            "Epoch 329/500\n",
            "9/9 [==============================] - 0s 5ms/step - loss: 0.2289 - mae: 0.3138 - val_loss: 8.9584 - val_mae: 2.1025\n",
            "Epoch 330/500\n",
            "9/9 [==============================] - 0s 4ms/step - loss: 0.2296 - mae: 0.2828 - val_loss: 8.2249 - val_mae: 2.0482\n",
            "Epoch 331/500\n",
            "9/9 [==============================] - 0s 4ms/step - loss: 0.2112 - mae: 0.2780 - val_loss: 9.2078 - val_mae: 2.1409\n",
            "Epoch 332/500\n",
            "9/9 [==============================] - 0s 7ms/step - loss: 0.2665 - mae: 0.3507 - val_loss: 8.3239 - val_mae: 2.0855\n",
            "Epoch 333/500\n",
            "9/9 [==============================] - 0s 6ms/step - loss: 0.2406 - mae: 0.3288 - val_loss: 8.8039 - val_mae: 2.1270\n",
            "Epoch 334/500\n",
            "9/9 [==============================] - 0s 5ms/step - loss: 0.2637 - mae: 0.3287 - val_loss: 8.9494 - val_mae: 2.0816\n",
            "Epoch 335/500\n",
            "9/9 [==============================] - 0s 5ms/step - loss: 0.2342 - mae: 0.3331 - val_loss: 8.9643 - val_mae: 2.1412\n",
            "Epoch 336/500\n",
            "9/9 [==============================] - 0s 5ms/step - loss: 0.2476 - mae: 0.3297 - val_loss: 8.7540 - val_mae: 2.0760\n",
            "Epoch 337/500\n",
            "9/9 [==============================] - 0s 5ms/step - loss: 0.2703 - mae: 0.3492 - val_loss: 8.9391 - val_mae: 2.1196\n",
            "Epoch 338/500\n",
            "9/9 [==============================] - 0s 5ms/step - loss: 0.2460 - mae: 0.3460 - val_loss: 8.6990 - val_mae: 2.0691\n",
            "Epoch 339/500\n",
            "9/9 [==============================] - 0s 7ms/step - loss: 0.2355 - mae: 0.3084 - val_loss: 8.4959 - val_mae: 2.0801\n",
            "Epoch 340/500\n",
            "9/9 [==============================] - 0s 5ms/step - loss: 0.2282 - mae: 0.3300 - val_loss: 8.9364 - val_mae: 2.1107\n",
            "Epoch 341/500\n",
            "9/9 [==============================] - 0s 5ms/step - loss: 0.2194 - mae: 0.2982 - val_loss: 8.7140 - val_mae: 2.1168\n",
            "Epoch 342/500\n",
            "9/9 [==============================] - 0s 5ms/step - loss: 0.2241 - mae: 0.3166 - val_loss: 9.0059 - val_mae: 2.1344\n",
            "Epoch 343/500\n",
            "9/9 [==============================] - 0s 5ms/step - loss: 0.1961 - mae: 0.2775 - val_loss: 8.7264 - val_mae: 2.1351\n",
            "Epoch 344/500\n",
            "9/9 [==============================] - 0s 6ms/step - loss: 0.2281 - mae: 0.3221 - val_loss: 8.5060 - val_mae: 2.0908\n",
            "Epoch 345/500\n",
            "9/9 [==============================] - 0s 5ms/step - loss: 0.2465 - mae: 0.3350 - val_loss: 8.8567 - val_mae: 2.1076\n",
            "Epoch 346/500\n",
            "9/9 [==============================] - 0s 8ms/step - loss: 0.2502 - mae: 0.3223 - val_loss: 8.5240 - val_mae: 2.0781\n",
            "Epoch 347/500\n",
            "9/9 [==============================] - 0s 5ms/step - loss: 0.2285 - mae: 0.3283 - val_loss: 9.7587 - val_mae: 2.2509\n",
            "Epoch 348/500\n",
            "9/9 [==============================] - 0s 5ms/step - loss: 0.3035 - mae: 0.3988 - val_loss: 9.2674 - val_mae: 2.2075\n",
            "Epoch 349/500\n",
            "9/9 [==============================] - 0s 4ms/step - loss: 0.3788 - mae: 0.4020 - val_loss: 9.2420 - val_mae: 2.1531\n",
            "Epoch 350/500\n",
            "9/9 [==============================] - 0s 4ms/step - loss: 0.3258 - mae: 0.3902 - val_loss: 7.9071 - val_mae: 2.0188\n",
            "Epoch 351/500\n",
            "9/9 [==============================] - 0s 5ms/step - loss: 0.2650 - mae: 0.3698 - val_loss: 9.1184 - val_mae: 2.1371\n",
            "Epoch 352/500\n",
            "9/9 [==============================] - 0s 5ms/step - loss: 0.2600 - mae: 0.3509 - val_loss: 8.5421 - val_mae: 2.1223\n",
            "Epoch 353/500\n",
            "9/9 [==============================] - 0s 5ms/step - loss: 0.2426 - mae: 0.3287 - val_loss: 9.0208 - val_mae: 2.1319\n",
            "Epoch 354/500\n",
            "9/9 [==============================] - 0s 5ms/step - loss: 0.2259 - mae: 0.3097 - val_loss: 8.8924 - val_mae: 2.1106\n",
            "Epoch 355/500\n",
            "9/9 [==============================] - 0s 5ms/step - loss: 0.2049 - mae: 0.2813 - val_loss: 8.9253 - val_mae: 2.1232\n",
            "Epoch 356/500\n",
            "9/9 [==============================] - 0s 5ms/step - loss: 0.2483 - mae: 0.3490 - val_loss: 9.1374 - val_mae: 2.1336\n",
            "Epoch 357/500\n",
            "9/9 [==============================] - 0s 5ms/step - loss: 0.2710 - mae: 0.3478 - val_loss: 8.7770 - val_mae: 2.1339\n",
            "Epoch 358/500\n",
            "9/9 [==============================] - 0s 5ms/step - loss: 0.2938 - mae: 0.4043 - val_loss: 8.5893 - val_mae: 2.1072\n",
            "Epoch 359/500\n",
            "9/9 [==============================] - 0s 7ms/step - loss: 0.2527 - mae: 0.3492 - val_loss: 8.5592 - val_mae: 2.0962\n",
            "Epoch 360/500\n",
            "9/9 [==============================] - 0s 6ms/step - loss: 0.2666 - mae: 0.3463 - val_loss: 8.4915 - val_mae: 2.0970\n",
            "Epoch 361/500\n",
            "9/9 [==============================] - 0s 5ms/step - loss: 0.2769 - mae: 0.3730 - val_loss: 9.2389 - val_mae: 2.1648\n",
            "Epoch 362/500\n",
            "9/9 [==============================] - 0s 5ms/step - loss: 0.2682 - mae: 0.3698 - val_loss: 8.9072 - val_mae: 2.1036\n",
            "Epoch 363/500\n",
            "9/9 [==============================] - 0s 5ms/step - loss: 0.2819 - mae: 0.3896 - val_loss: 9.1027 - val_mae: 2.1647\n",
            "Epoch 364/500\n",
            "9/9 [==============================] - 0s 5ms/step - loss: 0.3522 - mae: 0.4303 - val_loss: 8.6387 - val_mae: 2.1331\n",
            "Epoch 365/500\n",
            "9/9 [==============================] - 0s 6ms/step - loss: 0.3215 - mae: 0.4007 - val_loss: 9.2022 - val_mae: 2.1724\n",
            "Epoch 366/500\n",
            "9/9 [==============================] - 0s 5ms/step - loss: 0.2617 - mae: 0.3369 - val_loss: 8.9962 - val_mae: 2.1425\n",
            "Epoch 367/500\n",
            "9/9 [==============================] - 0s 5ms/step - loss: 0.2253 - mae: 0.3184 - val_loss: 8.8808 - val_mae: 2.1327\n",
            "Epoch 368/500\n",
            "9/9 [==============================] - 0s 5ms/step - loss: 0.2622 - mae: 0.3632 - val_loss: 8.9514 - val_mae: 2.1050\n",
            "Epoch 369/500\n",
            "9/9 [==============================] - 0s 5ms/step - loss: 0.2024 - mae: 0.3178 - val_loss: 8.5483 - val_mae: 2.0686\n",
            "Epoch 370/500\n",
            "9/9 [==============================] - 0s 5ms/step - loss: 0.2534 - mae: 0.3332 - val_loss: 9.0749 - val_mae: 2.1165\n",
            "Epoch 371/500\n",
            "9/9 [==============================] - 0s 7ms/step - loss: 0.2857 - mae: 0.3864 - val_loss: 9.1990 - val_mae: 2.1760\n",
            "Epoch 372/500\n",
            "9/9 [==============================] - 0s 5ms/step - loss: 0.2468 - mae: 0.3623 - val_loss: 9.1904 - val_mae: 2.1948\n",
            "Epoch 373/500\n",
            "9/9 [==============================] - 0s 6ms/step - loss: 0.2156 - mae: 0.3156 - val_loss: 8.6618 - val_mae: 2.0957\n",
            "Epoch 374/500\n",
            "9/9 [==============================] - 0s 4ms/step - loss: 0.2026 - mae: 0.2906 - val_loss: 8.6692 - val_mae: 2.0978\n",
            "Epoch 375/500\n",
            "9/9 [==============================] - 0s 5ms/step - loss: 0.2219 - mae: 0.3319 - val_loss: 8.9476 - val_mae: 2.1064\n",
            "Epoch 376/500\n",
            "9/9 [==============================] - 0s 6ms/step - loss: 0.2212 - mae: 0.3005 - val_loss: 8.9909 - val_mae: 2.1213\n",
            "Epoch 377/500\n",
            "9/9 [==============================] - 0s 5ms/step - loss: 0.2055 - mae: 0.2935 - val_loss: 8.9699 - val_mae: 2.1119\n",
            "Epoch 378/500\n",
            "9/9 [==============================] - 0s 4ms/step - loss: 0.1746 - mae: 0.2565 - val_loss: 8.7389 - val_mae: 2.0995\n",
            "Epoch 379/500\n",
            "9/9 [==============================] - 0s 5ms/step - loss: 0.1580 - mae: 0.2397 - val_loss: 8.7280 - val_mae: 2.1041\n",
            "Epoch 380/500\n",
            "9/9 [==============================] - 0s 5ms/step - loss: 0.1696 - mae: 0.2454 - val_loss: 8.9839 - val_mae: 2.1310\n",
            "Epoch 381/500\n",
            "9/9 [==============================] - 0s 5ms/step - loss: 0.1708 - mae: 0.2531 - val_loss: 8.8933 - val_mae: 2.1171\n",
            "Epoch 382/500\n",
            "9/9 [==============================] - 0s 5ms/step - loss: 0.1671 - mae: 0.2502 - val_loss: 9.3120 - val_mae: 2.1711\n",
            "Epoch 383/500\n",
            "9/9 [==============================] - 0s 5ms/step - loss: 0.2158 - mae: 0.2959 - val_loss: 8.9563 - val_mae: 2.1636\n",
            "Epoch 384/500\n",
            "9/9 [==============================] - 0s 5ms/step - loss: 0.1866 - mae: 0.2931 - val_loss: 8.5747 - val_mae: 2.1370\n",
            "Epoch 385/500\n",
            "9/9 [==============================] - 0s 6ms/step - loss: 0.2652 - mae: 0.3462 - val_loss: 8.7038 - val_mae: 2.1322\n",
            "Epoch 386/500\n",
            "9/9 [==============================] - 0s 5ms/step - loss: 0.2877 - mae: 0.3737 - val_loss: 9.2090 - val_mae: 2.1719\n",
            "Epoch 387/500\n",
            "9/9 [==============================] - 0s 7ms/step - loss: 0.1938 - mae: 0.2917 - val_loss: 9.3374 - val_mae: 2.1608\n",
            "Epoch 388/500\n",
            "9/9 [==============================] - 0s 5ms/step - loss: 0.1880 - mae: 0.2841 - val_loss: 8.9603 - val_mae: 2.1341\n",
            "Epoch 389/500\n",
            "9/9 [==============================] - 0s 4ms/step - loss: 0.1856 - mae: 0.2904 - val_loss: 8.9366 - val_mae: 2.1426\n",
            "Epoch 390/500\n",
            "9/9 [==============================] - 0s 6ms/step - loss: 0.2146 - mae: 0.3091 - val_loss: 8.8423 - val_mae: 2.1396\n",
            "Epoch 391/500\n",
            "9/9 [==============================] - 0s 5ms/step - loss: 0.2437 - mae: 0.3485 - val_loss: 9.6694 - val_mae: 2.2565\n",
            "Epoch 392/500\n",
            "9/9 [==============================] - 0s 5ms/step - loss: 0.2099 - mae: 0.3184 - val_loss: 8.9528 - val_mae: 2.1227\n",
            "Epoch 393/500\n",
            "9/9 [==============================] - 0s 6ms/step - loss: 0.2406 - mae: 0.3491 - val_loss: 9.1734 - val_mae: 2.1488\n",
            "Epoch 394/500\n",
            "9/9 [==============================] - 0s 5ms/step - loss: 0.2397 - mae: 0.3597 - val_loss: 8.9403 - val_mae: 2.1052\n",
            "Epoch 395/500\n",
            "9/9 [==============================] - 0s 4ms/step - loss: 0.2726 - mae: 0.3807 - val_loss: 9.1603 - val_mae: 2.1383\n",
            "Epoch 396/500\n",
            "9/9 [==============================] - 0s 6ms/step - loss: 0.2595 - mae: 0.3620 - val_loss: 8.8330 - val_mae: 2.1555\n",
            "Epoch 397/500\n",
            "9/9 [==============================] - 0s 5ms/step - loss: 0.2709 - mae: 0.3715 - val_loss: 9.9048 - val_mae: 2.2786\n",
            "Epoch 398/500\n",
            "9/9 [==============================] - 0s 5ms/step - loss: 0.2548 - mae: 0.3691 - val_loss: 8.9221 - val_mae: 2.1674\n",
            "Epoch 399/500\n",
            "9/9 [==============================] - 0s 5ms/step - loss: 0.1863 - mae: 0.2879 - val_loss: 9.1383 - val_mae: 2.1857\n",
            "Epoch 400/500\n",
            "9/9 [==============================] - 0s 5ms/step - loss: 0.2294 - mae: 0.3334 - val_loss: 8.8464 - val_mae: 2.1434\n",
            "Epoch 401/500\n",
            "9/9 [==============================] - 0s 5ms/step - loss: 0.2283 - mae: 0.3509 - val_loss: 9.2244 - val_mae: 2.1837\n",
            "Epoch 402/500\n",
            "9/9 [==============================] - 0s 5ms/step - loss: 0.1933 - mae: 0.2919 - val_loss: 9.1144 - val_mae: 2.1922\n",
            "Epoch 403/500\n",
            "9/9 [==============================] - 0s 7ms/step - loss: 0.1739 - mae: 0.2769 - val_loss: 9.0144 - val_mae: 2.1642\n",
            "Epoch 404/500\n",
            "9/9 [==============================] - 0s 5ms/step - loss: 0.1657 - mae: 0.2527 - val_loss: 9.2375 - val_mae: 2.1847\n",
            "Epoch 405/500\n",
            "9/9 [==============================] - 0s 4ms/step - loss: 0.1716 - mae: 0.2604 - val_loss: 8.4539 - val_mae: 2.0858\n",
            "Epoch 406/500\n",
            "9/9 [==============================] - 0s 5ms/step - loss: 0.2213 - mae: 0.3181 - val_loss: 8.7827 - val_mae: 2.1166\n",
            "Epoch 407/500\n",
            "9/9 [==============================] - 0s 5ms/step - loss: 0.2694 - mae: 0.3706 - val_loss: 9.2768 - val_mae: 2.1778\n",
            "Epoch 408/500\n",
            "9/9 [==============================] - 0s 5ms/step - loss: 0.2770 - mae: 0.3402 - val_loss: 9.4063 - val_mae: 2.2049\n",
            "Epoch 409/500\n",
            "9/9 [==============================] - 0s 5ms/step - loss: 0.2136 - mae: 0.3316 - val_loss: 9.3570 - val_mae: 2.2120\n",
            "Epoch 410/500\n",
            "9/9 [==============================] - 0s 5ms/step - loss: 0.1908 - mae: 0.2820 - val_loss: 8.7184 - val_mae: 2.1239\n",
            "Epoch 411/500\n",
            "9/9 [==============================] - 0s 5ms/step - loss: 0.1989 - mae: 0.3201 - val_loss: 9.6577 - val_mae: 2.2132\n",
            "Epoch 412/500\n",
            "9/9 [==============================] - 0s 5ms/step - loss: 0.2232 - mae: 0.3197 - val_loss: 8.8537 - val_mae: 2.1538\n",
            "Epoch 413/500\n",
            "9/9 [==============================] - 0s 5ms/step - loss: 0.1942 - mae: 0.2873 - val_loss: 9.2990 - val_mae: 2.1881\n",
            "Epoch 414/500\n",
            "9/9 [==============================] - 0s 5ms/step - loss: 0.1763 - mae: 0.2845 - val_loss: 9.2610 - val_mae: 2.1810\n",
            "Epoch 415/500\n",
            "9/9 [==============================] - 0s 5ms/step - loss: 0.1799 - mae: 0.2738 - val_loss: 9.0923 - val_mae: 2.1577\n",
            "Epoch 416/500\n",
            "9/9 [==============================] - 0s 5ms/step - loss: 0.1548 - mae: 0.2508 - val_loss: 8.9750 - val_mae: 2.1493\n",
            "Epoch 417/500\n",
            "9/9 [==============================] - 0s 4ms/step - loss: 0.1495 - mae: 0.2468 - val_loss: 9.3117 - val_mae: 2.2003\n",
            "Epoch 418/500\n",
            "9/9 [==============================] - 0s 5ms/step - loss: 0.1638 - mae: 0.2449 - val_loss: 9.2031 - val_mae: 2.1876\n",
            "Epoch 419/500\n",
            "9/9 [==============================] - 0s 5ms/step - loss: 0.1547 - mae: 0.2534 - val_loss: 8.9573 - val_mae: 2.1583\n",
            "Epoch 420/500\n",
            "9/9 [==============================] - 0s 4ms/step - loss: 0.1697 - mae: 0.2750 - val_loss: 8.9064 - val_mae: 2.1452\n",
            "Epoch 421/500\n",
            "9/9 [==============================] - 0s 4ms/step - loss: 0.2243 - mae: 0.3034 - val_loss: 9.1106 - val_mae: 2.1630\n",
            "Epoch 422/500\n",
            "9/9 [==============================] - 0s 5ms/step - loss: 0.1948 - mae: 0.3131 - val_loss: 9.0715 - val_mae: 2.1461\n",
            "Epoch 423/500\n",
            "9/9 [==============================] - 0s 6ms/step - loss: 0.2556 - mae: 0.3626 - val_loss: 9.3006 - val_mae: 2.2676\n",
            "Epoch 424/500\n",
            "9/9 [==============================] - 0s 5ms/step - loss: 0.2942 - mae: 0.3985 - val_loss: 9.1507 - val_mae: 2.1923\n",
            "Epoch 425/500\n",
            "9/9 [==============================] - 0s 6ms/step - loss: 0.3178 - mae: 0.4197 - val_loss: 9.2120 - val_mae: 2.1764\n",
            "Epoch 426/500\n",
            "9/9 [==============================] - 0s 5ms/step - loss: 0.2538 - mae: 0.3542 - val_loss: 9.3750 - val_mae: 2.2002\n",
            "Epoch 427/500\n",
            "9/9 [==============================] - 0s 6ms/step - loss: 0.2483 - mae: 0.3687 - val_loss: 9.4812 - val_mae: 2.2549\n",
            "Epoch 428/500\n",
            "9/9 [==============================] - 0s 6ms/step - loss: 0.2970 - mae: 0.3862 - val_loss: 9.1174 - val_mae: 2.1645\n",
            "Epoch 429/500\n",
            "9/9 [==============================] - 0s 5ms/step - loss: 0.1931 - mae: 0.3042 - val_loss: 8.6692 - val_mae: 2.1421\n",
            "Epoch 430/500\n",
            "9/9 [==============================] - 0s 5ms/step - loss: 0.2441 - mae: 0.3445 - val_loss: 9.1602 - val_mae: 2.2056\n",
            "Epoch 431/500\n",
            "9/9 [==============================] - 0s 5ms/step - loss: 0.3068 - mae: 0.3817 - val_loss: 9.5077 - val_mae: 2.2018\n",
            "Epoch 432/500\n",
            "9/9 [==============================] - 0s 6ms/step - loss: 0.2351 - mae: 0.3399 - val_loss: 9.8601 - val_mae: 2.2874\n",
            "Epoch 433/500\n",
            "9/9 [==============================] - 0s 5ms/step - loss: 0.2167 - mae: 0.3229 - val_loss: 9.0616 - val_mae: 2.1638\n",
            "Epoch 434/500\n",
            "9/9 [==============================] - 0s 5ms/step - loss: 0.1998 - mae: 0.3057 - val_loss: 8.9713 - val_mae: 2.1722\n",
            "Epoch 435/500\n",
            "9/9 [==============================] - 0s 6ms/step - loss: 0.1733 - mae: 0.2753 - val_loss: 9.1364 - val_mae: 2.1688\n",
            "Epoch 436/500\n",
            "9/9 [==============================] - 0s 6ms/step - loss: 0.1721 - mae: 0.2660 - val_loss: 8.8354 - val_mae: 2.1359\n",
            "Epoch 437/500\n",
            "9/9 [==============================] - 0s 6ms/step - loss: 0.2636 - mae: 0.3594 - val_loss: 8.7801 - val_mae: 2.1513\n",
            "Epoch 438/500\n",
            "9/9 [==============================] - 0s 5ms/step - loss: 0.3182 - mae: 0.4352 - val_loss: 9.1515 - val_mae: 2.1525\n",
            "Epoch 439/500\n",
            "9/9 [==============================] - 0s 6ms/step - loss: 0.1696 - mae: 0.2894 - val_loss: 9.4346 - val_mae: 2.2240\n",
            "Epoch 440/500\n",
            "9/9 [==============================] - 0s 5ms/step - loss: 0.1801 - mae: 0.2704 - val_loss: 8.8003 - val_mae: 2.1483\n",
            "Epoch 441/500\n",
            "9/9 [==============================] - 0s 7ms/step - loss: 0.1734 - mae: 0.2754 - val_loss: 9.5580 - val_mae: 2.2054\n",
            "Epoch 442/500\n",
            "9/9 [==============================] - 0s 5ms/step - loss: 0.1682 - mae: 0.2836 - val_loss: 9.2191 - val_mae: 2.1922\n",
            "Epoch 443/500\n",
            "9/9 [==============================] - 0s 5ms/step - loss: 0.1772 - mae: 0.3019 - val_loss: 8.9635 - val_mae: 2.1375\n",
            "Epoch 444/500\n",
            "9/9 [==============================] - 0s 5ms/step - loss: 0.1942 - mae: 0.3107 - val_loss: 9.1511 - val_mae: 2.1871\n",
            "Epoch 445/500\n",
            "9/9 [==============================] - 0s 5ms/step - loss: 0.1761 - mae: 0.2813 - val_loss: 9.1979 - val_mae: 2.1802\n",
            "Epoch 446/500\n",
            "9/9 [==============================] - 0s 5ms/step - loss: 0.1961 - mae: 0.2922 - val_loss: 8.8723 - val_mae: 2.1297\n",
            "Epoch 447/500\n",
            "9/9 [==============================] - 0s 5ms/step - loss: 0.1722 - mae: 0.2691 - val_loss: 9.6069 - val_mae: 2.2261\n",
            "Epoch 448/500\n",
            "9/9 [==============================] - 0s 6ms/step - loss: 0.1765 - mae: 0.2682 - val_loss: 9.2164 - val_mae: 2.2066\n",
            "Epoch 449/500\n",
            "9/9 [==============================] - 0s 4ms/step - loss: 0.1992 - mae: 0.3007 - val_loss: 9.8438 - val_mae: 2.2572\n",
            "Epoch 450/500\n",
            "9/9 [==============================] - 0s 5ms/step - loss: 0.2213 - mae: 0.3265 - val_loss: 9.3704 - val_mae: 2.1915\n",
            "Epoch 451/500\n",
            "9/9 [==============================] - 0s 5ms/step - loss: 0.2245 - mae: 0.3358 - val_loss: 10.9203 - val_mae: 2.3651\n",
            "Epoch 452/500\n",
            "9/9 [==============================] - 0s 5ms/step - loss: 0.3775 - mae: 0.4660 - val_loss: 9.5067 - val_mae: 2.2548\n",
            "Epoch 453/500\n",
            "9/9 [==============================] - 0s 6ms/step - loss: 0.3107 - mae: 0.4193 - val_loss: 8.9518 - val_mae: 2.1661\n",
            "Epoch 454/500\n",
            "9/9 [==============================] - 0s 5ms/step - loss: 0.4016 - mae: 0.4745 - val_loss: 8.9550 - val_mae: 2.1729\n",
            "Epoch 455/500\n",
            "9/9 [==============================] - 0s 5ms/step - loss: 0.3813 - mae: 0.4709 - val_loss: 8.5637 - val_mae: 2.1324\n",
            "Epoch 456/500\n",
            "9/9 [==============================] - 0s 5ms/step - loss: 0.3838 - mae: 0.4770 - val_loss: 10.2480 - val_mae: 2.2775\n",
            "Epoch 457/500\n",
            "9/9 [==============================] - 0s 5ms/step - loss: 0.4236 - mae: 0.4814 - val_loss: 9.0261 - val_mae: 2.1945\n",
            "Epoch 458/500\n",
            "9/9 [==============================] - 0s 5ms/step - loss: 0.2601 - mae: 0.3686 - val_loss: 8.8714 - val_mae: 2.1580\n",
            "Epoch 459/500\n",
            "9/9 [==============================] - 0s 6ms/step - loss: 0.1820 - mae: 0.3013 - val_loss: 9.9632 - val_mae: 2.2725\n",
            "Epoch 460/500\n",
            "9/9 [==============================] - 0s 6ms/step - loss: 0.2092 - mae: 0.3208 - val_loss: 8.9709 - val_mae: 2.1766\n",
            "Epoch 461/500\n",
            "9/9 [==============================] - 0s 5ms/step - loss: 0.1794 - mae: 0.2738 - val_loss: 9.5304 - val_mae: 2.2250\n",
            "Epoch 462/500\n",
            "9/9 [==============================] - 0s 5ms/step - loss: 0.1643 - mae: 0.2757 - val_loss: 8.8888 - val_mae: 2.1598\n",
            "Epoch 463/500\n",
            "9/9 [==============================] - 0s 5ms/step - loss: 0.1548 - mae: 0.2495 - val_loss: 9.4173 - val_mae: 2.2117\n",
            "Epoch 464/500\n",
            "9/9 [==============================] - 0s 5ms/step - loss: 0.2062 - mae: 0.3248 - val_loss: 9.2053 - val_mae: 2.1772\n",
            "Epoch 465/500\n",
            "9/9 [==============================] - 0s 5ms/step - loss: 0.2625 - mae: 0.3746 - val_loss: 9.6693 - val_mae: 2.2501\n",
            "Epoch 466/500\n",
            "9/9 [==============================] - 0s 5ms/step - loss: 0.2517 - mae: 0.3868 - val_loss: 8.9550 - val_mae: 2.1887\n",
            "Epoch 467/500\n",
            "9/9 [==============================] - 0s 7ms/step - loss: 0.2793 - mae: 0.4052 - val_loss: 9.7484 - val_mae: 2.2597\n",
            "Epoch 468/500\n",
            "9/9 [==============================] - 0s 5ms/step - loss: 0.1973 - mae: 0.3111 - val_loss: 8.9764 - val_mae: 2.1676\n",
            "Epoch 469/500\n",
            "9/9 [==============================] - 0s 5ms/step - loss: 0.2259 - mae: 0.3285 - val_loss: 10.3779 - val_mae: 2.2846\n",
            "Epoch 470/500\n",
            "9/9 [==============================] - 0s 5ms/step - loss: 0.1950 - mae: 0.3084 - val_loss: 9.0862 - val_mae: 2.1638\n",
            "Epoch 471/500\n",
            "9/9 [==============================] - 0s 5ms/step - loss: 0.1833 - mae: 0.2921 - val_loss: 9.4080 - val_mae: 2.2366\n",
            "Epoch 472/500\n",
            "9/9 [==============================] - 0s 5ms/step - loss: 0.1858 - mae: 0.2911 - val_loss: 9.3732 - val_mae: 2.2159\n",
            "Epoch 473/500\n",
            "9/9 [==============================] - 0s 4ms/step - loss: 0.2149 - mae: 0.3185 - val_loss: 9.3690 - val_mae: 2.2021\n",
            "Epoch 474/500\n",
            "9/9 [==============================] - 0s 4ms/step - loss: 0.2102 - mae: 0.3374 - val_loss: 10.1127 - val_mae: 2.2648\n",
            "Epoch 475/500\n",
            "9/9 [==============================] - 0s 5ms/step - loss: 0.2375 - mae: 0.3512 - val_loss: 9.7162 - val_mae: 2.2612\n",
            "Epoch 476/500\n",
            "9/9 [==============================] - 0s 5ms/step - loss: 0.2192 - mae: 0.3309 - val_loss: 9.6607 - val_mae: 2.2270\n",
            "Epoch 477/500\n",
            "9/9 [==============================] - 0s 5ms/step - loss: 0.1888 - mae: 0.3036 - val_loss: 8.9310 - val_mae: 2.1719\n",
            "Epoch 478/500\n",
            "9/9 [==============================] - 0s 5ms/step - loss: 0.2026 - mae: 0.3117 - val_loss: 9.8238 - val_mae: 2.2214\n",
            "Epoch 479/500\n",
            "9/9 [==============================] - 0s 5ms/step - loss: 0.2054 - mae: 0.2907 - val_loss: 8.8988 - val_mae: 2.1913\n",
            "Epoch 480/500\n",
            "9/9 [==============================] - 0s 6ms/step - loss: 0.1736 - mae: 0.2822 - val_loss: 9.7533 - val_mae: 2.2040\n",
            "Epoch 481/500\n",
            "9/9 [==============================] - 0s 5ms/step - loss: 0.1697 - mae: 0.2789 - val_loss: 8.9750 - val_mae: 2.1859\n",
            "Epoch 482/500\n",
            "9/9 [==============================] - 0s 5ms/step - loss: 0.1703 - mae: 0.2657 - val_loss: 9.4062 - val_mae: 2.1916\n",
            "Epoch 483/500\n",
            "9/9 [==============================] - 0s 5ms/step - loss: 0.2120 - mae: 0.3276 - val_loss: 9.1680 - val_mae: 2.1936\n",
            "Epoch 484/500\n",
            "9/9 [==============================] - 0s 6ms/step - loss: 0.1744 - mae: 0.2879 - val_loss: 9.2436 - val_mae: 2.2027\n",
            "Epoch 485/500\n",
            "9/9 [==============================] - 0s 6ms/step - loss: 0.1640 - mae: 0.2706 - val_loss: 9.4697 - val_mae: 2.1974\n",
            "Epoch 486/500\n",
            "9/9 [==============================] - 0s 5ms/step - loss: 0.1580 - mae: 0.2923 - val_loss: 9.6372 - val_mae: 2.2381\n",
            "Epoch 487/500\n",
            "9/9 [==============================] - 0s 5ms/step - loss: 0.1315 - mae: 0.2395 - val_loss: 9.5820 - val_mae: 2.2137\n",
            "Epoch 488/500\n",
            "9/9 [==============================] - 0s 5ms/step - loss: 0.1824 - mae: 0.2922 - val_loss: 9.6546 - val_mae: 2.2231\n",
            "Epoch 489/500\n",
            "9/9 [==============================] - 0s 5ms/step - loss: 0.1383 - mae: 0.2479 - val_loss: 9.3323 - val_mae: 2.2035\n",
            "Epoch 490/500\n",
            "9/9 [==============================] - 0s 5ms/step - loss: 0.1260 - mae: 0.2297 - val_loss: 9.4179 - val_mae: 2.2016\n",
            "Epoch 491/500\n",
            "9/9 [==============================] - 0s 5ms/step - loss: 0.1232 - mae: 0.2311 - val_loss: 9.2371 - val_mae: 2.1985\n",
            "Epoch 492/500\n",
            "9/9 [==============================] - 0s 5ms/step - loss: 0.1508 - mae: 0.2721 - val_loss: 9.8519 - val_mae: 2.2438\n",
            "Epoch 493/500\n",
            "9/9 [==============================] - 0s 5ms/step - loss: 0.1608 - mae: 0.2602 - val_loss: 8.9920 - val_mae: 2.2168\n",
            "Epoch 494/500\n",
            "9/9 [==============================] - 0s 5ms/step - loss: 0.1885 - mae: 0.2851 - val_loss: 9.6762 - val_mae: 2.2139\n",
            "Epoch 495/500\n",
            "9/9 [==============================] - 0s 5ms/step - loss: 0.1580 - mae: 0.2489 - val_loss: 9.4979 - val_mae: 2.2467\n",
            "Epoch 496/500\n",
            "9/9 [==============================] - 0s 4ms/step - loss: 0.1293 - mae: 0.2345 - val_loss: 9.9975 - val_mae: 2.2732\n",
            "Epoch 497/500\n",
            "9/9 [==============================] - 0s 5ms/step - loss: 0.1342 - mae: 0.2423 - val_loss: 9.7699 - val_mae: 2.2848\n",
            "Epoch 498/500\n",
            "9/9 [==============================] - 0s 5ms/step - loss: 0.1899 - mae: 0.3173 - val_loss: 9.4675 - val_mae: 2.2180\n",
            "Epoch 499/500\n",
            "9/9 [==============================] - 0s 6ms/step - loss: 0.1690 - mae: 0.2635 - val_loss: 9.3238 - val_mae: 2.2141\n",
            "Epoch 500/500\n",
            "9/9 [==============================] - 0s 8ms/step - loss: 0.1382 - mae: 0.2520 - val_loss: 9.5147 - val_mae: 2.2627\n"
          ],
          "name": "stdout"
        }
      ]
    },
    {
      "cell_type": "markdown",
      "metadata": {
        "id": "amDDqCsb5M5Q"
      },
      "source": [
        "* activations = sigmoid \n",
        "\n",
        "optimizer = sgd 결과 100번째\n",
        "\n",
        "loss: 8.4236 - mae: 2.1771 \n",
        "\n",
        "* activations = relu\n",
        "\n",
        "optimizer = adam 결과 100번째  \n",
        "\n",
        "loss: 3.7667 - mae: 1.4202\n"
      ]
    },
    {
      "cell_type": "markdown",
      "metadata": {
        "id": "sG4P1bmnwj1N"
      },
      "source": [
        "## Evaluation\n"
      ]
    },
    {
      "cell_type": "markdown",
      "metadata": {
        "id": "1FXsTBKAgKo7"
      },
      "source": [
        "엑티베이션"
      ]
    },
    {
      "cell_type": "code",
      "metadata": {
        "colab": {
          "base_uri": "https://localhost:8080/"
        },
        "id": "Pu_DkKlHcY7W",
        "outputId": "040d8eb0-be05-483f-91eb-de6386bae78c"
      },
      "source": [
        "model.evaluate(x_test, y_test)"
      ],
      "execution_count": 26,
      "outputs": [
        {
          "output_type": "stream",
          "text": [
            "4/4 [==============================] - 0s 3ms/step - loss: 16.5555 - mae: 2.5196\n"
          ],
          "name": "stdout"
        },
        {
          "output_type": "execute_result",
          "data": {
            "text/plain": [
              "[16.55552101135254, 2.5195629596710205]"
            ]
          },
          "metadata": {
            "tags": []
          },
          "execution_count": 26
        }
      ]
    },
    {
      "cell_type": "code",
      "metadata": {
        "colab": {
          "base_uri": "https://localhost:8080/"
        },
        "id": "7ShwzRDUvrIF",
        "outputId": "779ad996-1921-4a45-b8c1-cef109996dfe"
      },
      "source": [
        "model.evaluate(x_train, y_train)"
      ],
      "execution_count": 22,
      "outputs": [
        {
          "output_type": "stream",
          "text": [
            "13/13 [==============================] - 0s 1ms/step - loss: 3.6771 - mae: 1.4230\n"
          ],
          "name": "stdout"
        },
        {
          "output_type": "execute_result",
          "data": {
            "text/plain": [
              "[3.6770989894866943, 1.4229873418807983]"
            ]
          },
          "metadata": {
            "tags": []
          },
          "execution_count": 22
        }
      ]
    },
    {
      "cell_type": "markdown",
      "metadata": {
        "id": "Kk_cqU3lgEmi"
      },
      "source": [
        "검증 hist\n"
      ]
    },
    {
      "cell_type": "code",
      "metadata": {
        "colab": {
          "base_uri": "https://localhost:8080/"
        },
        "id": "BE3JE7SmgPS7",
        "outputId": "1d738768-2458-4ed2-e899-bf62612ea941"
      },
      "source": [
        "hist.history.keys()"
      ],
      "execution_count": 30,
      "outputs": [
        {
          "output_type": "execute_result",
          "data": {
            "text/plain": [
              "dict_keys(['loss', 'mae', 'val_loss', 'val_mae'])"
            ]
          },
          "metadata": {
            "tags": []
          },
          "execution_count": 30
        }
      ]
    },
    {
      "cell_type": "code",
      "metadata": {
        "colab": {
          "base_uri": "https://localhost:8080/",
          "height": 265
        },
        "id": "CXhhkSuYhoiU",
        "outputId": "e8e99a92-5bd8-492a-bede-f618c7521f15"
      },
      "source": [
        "import matplotlib.pyplot as plt\n",
        "\n",
        "plt.plot(hist.history['loss'], 'b--')\n",
        "plt.plot(hist.history['val_loss'])\n",
        "plt.show()"
      ],
      "execution_count": 38,
      "outputs": [
        {
          "output_type": "display_data",
          "data": {
            "image/png": "[encoded data removed]",
            "text/plain": [
              "<Figure size 432x288 with 1 Axes>"
            ]
          },
          "metadata": {
            "tags": [],
            "needs_background": "light"
          }
        }
      ]
    },
    {
      "cell_type": "markdown",
      "metadata": {
        "id": "WFjr1jr1w-Zs"
      },
      "source": [
        "## Service"
      ]
    },
    {
      "cell_type": "code",
      "metadata": {
        "colab": {
          "base_uri": "https://localhost:8080/"
        },
        "id": "tlJs3f0HwqIM",
        "outputId": "d3b238ce-f5b1-4e33-eea2-b0d91a5c6d9c"
      },
      "source": [
        "x_train[10]"
      ],
      "execution_count": 23,
      "outputs": [
        {
          "output_type": "execute_result",
          "data": {
            "text/plain": [
              "array([ 0.63391647, -0.48361547,  1.0283258 , -0.25683275,  1.15788777,\n",
              "        0.19313958,  1.11048828, -1.03628262,  1.67588577,  1.5652875 ,\n",
              "        0.78447637,  0.22689422,  1.04466491])"
            ]
          },
          "metadata": {
            "tags": []
          },
          "execution_count": 23
        }
      ]
    },
    {
      "cell_type": "markdown",
      "metadata": {
        "id": "Y-hEL19Lz1Cn"
      },
      "source": [
        "기존결과\n",
        "\n",
        "model.predict([[2.2876e-01, 0.0000e+00, 8.5600e+00, 0.0000e+00, 5.2000e-01,\n",
        "       6.4050e+00, 8.5400e+01, 2.7147e+00, 5.0000e+00, 3.8400e+02,\n",
        "       2.0900e+01, 7.0800e+01, 1.0630e+01]])\n",
        "\n",
        "\n",
        "       array([[20.722834]], dtype=float32)"
      ]
    },
    {
      "cell_type": "markdown",
      "metadata": {
        "id": "mWpDivCP0Zhh"
      },
      "source": [
        "hidden layer 늘리고서 결과 \n",
        "\n",
        "model.predict([[2.2876e-01, 0.0000e+00, 8.5600e+00, 0.0000e+00, 5.2000e-01,\n",
        "       6.4050e+00, 8.5400e+01, 2.7147e+00, 5.0000e+00, 3.8400e+02,\n",
        "       2.0900e+01, 7.0800e+01, 1.0630e+01]])\n",
        "\n",
        "       array([[12.5560875]], dtype=float32)"
      ]
    },
    {
      "cell_type": "markdown",
      "metadata": {
        "id": "j0lhiF-y5gPa"
      },
      "source": [
        "표준화 시킨 결과\n",
        "\n",
        "model.predict([[-0.380999  , -0.48361547, -0.37402299, -0.25683275, -0.31887859,\n",
        "        0.1945502 ,  0.58730449, -0.50578021, -0.51114231, -0.13178499,\n",
        "        1.10299743, -3.02127105, -0.29132553]])\n",
        "\n",
        "        array([[18.246944]], dtype=float32)"
      ]
    },
    {
      "cell_type": "markdown",
      "metadata": {
        "id": "AYPlsTZy5vKS"
      },
      "source": [
        "x_train[10]의 결과(트레이닝 값)\n",
        "\n",
        "model.predict([[0.63391647, -0.48361547,  1.0283258 , -0.25683275,  1.15788777,\n",
        "        0.19313958,  1.11048828, -1.03628262,  1.67588577,  1.5652875 ,\n",
        "        0.78447637,  0.22689422,  1.04466491]])\n",
        "\n",
        "        array([[12.658238]], dtype=float32)\n",
        "\n",
        "y_train[10]의 결과 (실제값)\n",
        "\n",
        "12.1\n"
      ]
    },
    {
      "cell_type": "code",
      "metadata": {
        "colab": {
          "base_uri": "https://localhost:8080/"
        },
        "id": "-wsPIdx_xFk1",
        "outputId": "f9ba9004-a309-4984-8faa-e1cbbf911a9b"
      },
      "source": [
        "model.predict([[0.63391647, -0.48361547,  1.0283258 , -0.25683275,  1.15788777,\n",
        "        0.19313958,  1.11048828, -1.03628262,  1.67588577,  1.5652875 ,\n",
        "        0.78447637,  0.22689422,  1.04466491]])"
      ],
      "execution_count": 24,
      "outputs": [
        {
          "output_type": "execute_result",
          "data": {
            "text/plain": [
              "array([[12.99925]], dtype=float32)"
            ]
          },
          "metadata": {
            "tags": []
          },
          "execution_count": 24
        }
      ]
    },
    {
      "cell_type": "code",
      "metadata": {
        "colab": {
          "base_uri": "https://localhost:8080/"
        },
        "id": "-aguIjKq5fv2",
        "outputId": "1b2f785e-f2b7-41c0-f6a7-c21343229f61"
      },
      "source": [
        "y_train[10]"
      ],
      "execution_count": 25,
      "outputs": [
        {
          "output_type": "execute_result",
          "data": {
            "text/plain": [
              "12.1"
            ]
          },
          "metadata": {
            "tags": []
          },
          "execution_count": 25
        }
      ]
    }
  ]
}