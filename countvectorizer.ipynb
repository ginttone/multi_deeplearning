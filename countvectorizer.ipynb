{
  "nbformat": 4,
  "nbformat_minor": 0,
  "metadata": {
    "colab": {
      "name": "countvectorizer.ipynb",
      "provenance": [],
      "collapsed_sections": [],
      "mount_file_id": "1e514zzhDbNi-Ip_34kiej1FsEVLKiAD2",
      "authorship_tag": "ABX9TyNxjoFtoCgQUUo8WqvDkAK4",
      "include_colab_link": true
    },
    "kernelspec": {
      "name": "python3",
      "display_name": "Python 3"
    },
    "language_info": {
      "name": "python"
    }
  },
  "cells": [
    {
      "cell_type": "markdown",
      "metadata": {
        "id": "view-in-github",
        "colab_type": "text"
      },
      "source": [
        "<a href=\"https://colab.research.google.com/github/ginttone/multi_deeplearning/blob/master/countvectorizer.ipynb\" target=\"_parent\"><img src=\"https://colab.research.google.com/assets/colab-badge.svg\" alt=\"Open In Colab\"/></a>"
      ]
    },
    {
      "cell_type": "markdown",
      "metadata": {
        "id": "K7izDVgyCxUb"
      },
      "source": [
        "## 데이터 가져오기"
      ]
    },
    {
      "cell_type": "code",
      "metadata": {
        "id": "x935a969BGrO"
      },
      "source": [
        "import pandas as pd"
      ],
      "execution_count": 1,
      "outputs": []
    },
    {
      "cell_type": "code",
      "metadata": {
        "colab": {
          "base_uri": "https://localhost:8080/",
          "height": 825
        },
        "id": "Hdbk_hK8BkFC",
        "outputId": "f36d8b2b-f860-4af8-fd59-66746c695561"
      },
      "source": [
        "df = pd.read_csv('./drive/MyDrive/Multi_test_deeplearning/smtph_total.csv')\n",
        "df.head(5)"
      ],
      "execution_count": 3,
      "outputs": [
        {
          "output_type": "execute_result",
          "data": {
            "text/html": [
              "<div>\n",
              "<style scoped>\n",
              "    .dataframe tbody tr th:only-of-type {\n",
              "        vertical-align: middle;\n",
              "    }\n",
              "\n",
              "    .dataframe tbody tr th {\n",
              "        vertical-align: top;\n",
              "    }\n",
              "\n",
              "    .dataframe thead th {\n",
              "        text-align: right;\n",
              "    }\n",
              "</style>\n",
              "<table border=\"1\" class=\"dataframe\">\n",
              "  <thead>\n",
              "    <tr style=\"text-align: right;\">\n",
              "      <th></th>\n",
              "      <th>Title</th>\n",
              "      <th>Link</th>\n",
              "      <th>Description</th>\n",
              "      <th>Blogger Name</th>\n",
              "      <th>Blogger Link</th>\n",
              "      <th>Post Date</th>\n",
              "      <th>Post Contents</th>\n",
              "    </tr>\n",
              "  </thead>\n",
              "  <tbody>\n",
              "    <tr>\n",
              "      <th>0</th>\n",
              "      <td>갤럭시 Z 플립과 한 달, 접는 스마트폰의 가치만 남다</td>\n",
              "      <td>https://chitsol.com/entry/galaxy_z_flip_review/</td>\n",
              "      <td>반으로 접을 수 있는 갤럭시 Z 플립이 접지 않는 스마트폰과 얼마나 다른 경험인가를...</td>\n",
              "      <td>https://chitsol.com/</td>\n",
              "      <td>https://chitsol.com/</td>\n",
              "      <td>20210712</td>\n",
              "      <td>NaN</td>\n",
              "    </tr>\n",
              "    <tr>\n",
              "      <th>1</th>\n",
              "      <td>스마트폰 삼각대 추천 내돈내산 리뷰</td>\n",
              "      <td>https://blog.naver.com/kimhw1020?Redirect=Log&amp;...</td>\n",
              "      <td>그래서 스마트폰 삼각대 추천 하는 제품을 구매하게 된 것 같아요. 2018년 4월 ...</td>\n",
              "      <td>진돗개 솜이랑 언니랑</td>\n",
              "      <td>https://blog.naver.com/kimhw1020</td>\n",
              "      <td>20210720</td>\n",
              "      <td>\\n\\n\\n\\n\\n\\n\\n솜이언니 일상\\n\\n\\n\\n\\n스마트폰 삼각대 추천 내돈내...</td>\n",
              "    </tr>\n",
              "    <tr>\n",
              "      <th>2</th>\n",
              "      <td>귀여운 스마트폰 거치대 + 아이폰 케이스(다이소 비교)</td>\n",
              "      <td>https://blog.naver.com/logix200?Redirect=Log&amp;l...</td>\n",
              "      <td>스마트폰 거치대 홀더 &amp;quot;아이폰 케이스도 졸.귀.탱&amp;quot; 안녕하세요. ...</td>\n",
              "      <td>옥희돌이 칩시크족</td>\n",
              "      <td>https://blog.naver.com/logix200</td>\n",
              "      <td>20210802</td>\n",
              "      <td>\\n\\n\\n\\n\\n\\n\\n일반 수령기\\n\\n\\n\\n\\n귀여운 스마트폰 거치대 + 아...</td>\n",
              "    </tr>\n",
              "    <tr>\n",
              "      <th>3</th>\n",
              "      <td>베스틴 원패스 스마트폰 어플, 아이파크 공동 현관문 핸드폰 연동</td>\n",
              "      <td>https://blog.naver.com/july7th73?Redirect=Log&amp;...</td>\n",
              "      <td>요즘 신축 아파트들은 대부분 IoT 스마트 기기들을 이용한 출입시스템을 도입, 각종...</td>\n",
              "      <td>수연아빠의 야구장 출동 (개포맘모스)</td>\n",
              "      <td>https://blog.naver.com/july7th73</td>\n",
              "      <td>20210816</td>\n",
              "      <td>\\n\\n\\n\\n\\n\\n\\n파워리뷰즐기기\\n\\n\\n\\n\\n베스틴 원패스 스마트폰 어플...</td>\n",
              "    </tr>\n",
              "    <tr>\n",
              "      <th>4</th>\n",
              "      <td>대전스마트폰복구 삭제나 고장도 걱정없이</td>\n",
              "      <td>https://blog.naver.com/jcy0207?Redirect=Log&amp;lo...</td>\n",
              "      <td>바쁜 현대인들의 곁에서 어디서든 일상을 함께하는 스마트폰은 한순간도 뗄레야 뗄 수 ...</td>\n",
              "      <td>모아의 교육정보 모아모아</td>\n",
              "      <td>https://blog.naver.com/jcy0207</td>\n",
              "      <td>20210609</td>\n",
              "      <td>\\n\\n안녕하세요 모아입니다.바쁜 현대인들의 곁에서어디서든 일상을 함께하는 스마트폰...</td>\n",
              "    </tr>\n",
              "  </tbody>\n",
              "</table>\n",
              "</div>"
            ],
            "text/plain": [
              "                                 Title  ...                                      Post Contents\n",
              "0       갤럭시 Z 플립과 한 달, 접는 스마트폰의 가치만 남다  ...                                                NaN\n",
              "1                  스마트폰 삼각대 추천 내돈내산 리뷰  ...  \\n\\n\\n\\n\\n\\n\\n솜이언니 일상\\n\\n\\n\\n\\n스마트폰 삼각대 추천 내돈내...\n",
              "2       귀여운 스마트폰 거치대 + 아이폰 케이스(다이소 비교)  ...  \\n\\n\\n\\n\\n\\n\\n일반 수령기\\n\\n\\n\\n\\n귀여운 스마트폰 거치대 + 아...\n",
              "3  베스틴 원패스 스마트폰 어플, 아이파크 공동 현관문 핸드폰 연동  ...  \\n\\n\\n\\n\\n\\n\\n파워리뷰즐기기\\n\\n\\n\\n\\n베스틴 원패스 스마트폰 어플...\n",
              "4                대전스마트폰복구 삭제나 고장도 걱정없이  ...  \\n\\n안녕하세요 모아입니다.바쁜 현대인들의 곁에서어디서든 일상을 함께하는 스마트폰...\n",
              "\n",
              "[5 rows x 7 columns]"
            ]
          },
          "metadata": {},
          "execution_count": 3
        }
      ]
    },
    {
      "cell_type": "code",
      "metadata": {
        "colab": {
          "base_uri": "https://localhost:8080/"
        },
        "id": "iMaYAQRYCHVC",
        "outputId": "e17c93ca-189a-4d5a-84c6-08a08b6cac1a"
      },
      "source": [
        "df.columns"
      ],
      "execution_count": 4,
      "outputs": [
        {
          "output_type": "execute_result",
          "data": {
            "text/plain": [
              "Index(['Title', 'Link', 'Description', 'Blogger Name', 'Blogger Link',\n",
              "       'Post Date', 'Post Contents'],\n",
              "      dtype='object')"
            ]
          },
          "metadata": {},
          "execution_count": 4
        }
      ]
    },
    {
      "cell_type": "code",
      "metadata": {
        "colab": {
          "base_uri": "https://localhost:8080/"
        },
        "id": "Stu5wgLXBxxj",
        "outputId": "bcf02abe-b190-44a1-fbf0-2d313688f513"
      },
      "source": [
        "posts = df['Title']+['Description']\n",
        "type(posts),posts"
      ],
      "execution_count": 5,
      "outputs": [
        {
          "output_type": "execute_result",
          "data": {
            "text/plain": [
              "(pandas.core.series.Series,\n",
              " 0              갤럭시 Z 플립과 한 달, 접는 스마트폰의 가치만 남다Description\n",
              " 1                         스마트폰 삼각대 추천 내돈내산 리뷰Description\n",
              " 2              귀여운 스마트폰 거치대 + 아이폰 케이스(다이소 비교)Description\n",
              " 3         베스틴 원패스 스마트폰 어플, 아이파크 공동 현관문 핸드폰 연동Description\n",
              " 4                       대전스마트폰복구 삭제나 고장도 걱정없이Description\n",
              "                              ...                        \n",
              " 995    스마트폰의 &quot;배터리 수명&quot;을 걱정하지 않아도 좋은 이유Descri...\n",
              " 996                  세상을 스마트폰 카메라로 검색하는 구글 렌즈Description\n",
              " 997              스마트폰과 연동되는 장난감 로봇, 샤오미 로봇청소기Description\n",
              " 998            KT 단독 보급형 스마트폰 갤럭시진 블랙 특징 사용후기Description\n",
              " 999          화웨이 트리플카메라 스마트폰 P20프로, 카메라 스펙 분석Description\n",
              " Name: Title, Length: 1000, dtype: object)"
            ]
          },
          "metadata": {},
          "execution_count": 5
        }
      ]
    },
    {
      "cell_type": "markdown",
      "metadata": {
        "id": "7GXLfc3RCpJz"
      },
      "source": [
        "## 단어로 쪼개기"
      ]
    },
    {
      "cell_type": "code",
      "metadata": {
        "colab": {
          "base_uri": "https://localhost:8080/"
        },
        "id": "APJhqSoTCO0-",
        "outputId": "500ef1b7-e539-423f-d5c6-53e02b567c43"
      },
      "source": [
        "!python3 -m pip install konlpy"
      ],
      "execution_count": 6,
      "outputs": [
        {
          "output_type": "stream",
          "text": [
            "Collecting konlpy\n",
            "  Downloading konlpy-0.5.2-py2.py3-none-any.whl (19.4 MB)\n",
            "\u001b[K     |████████████████████████████████| 19.4 MB 1.2 MB/s \n",
            "\u001b[?25hRequirement already satisfied: lxml>=4.1.0 in /usr/local/lib/python3.7/dist-packages (from konlpy) (4.2.6)\n",
            "Collecting beautifulsoup4==4.6.0\n",
            "  Downloading beautifulsoup4-4.6.0-py3-none-any.whl (86 kB)\n",
            "\u001b[K     |████████████████████████████████| 86 kB 6.4 MB/s \n",
            "\u001b[?25hRequirement already satisfied: tweepy>=3.7.0 in /usr/local/lib/python3.7/dist-packages (from konlpy) (3.10.0)\n",
            "Requirement already satisfied: numpy>=1.6 in /usr/local/lib/python3.7/dist-packages (from konlpy) (1.19.5)\n",
            "Collecting colorama\n",
            "  Downloading colorama-0.4.4-py2.py3-none-any.whl (16 kB)\n",
            "Collecting JPype1>=0.7.0\n",
            "  Downloading JPype1-1.3.0-cp37-cp37m-manylinux_2_5_x86_64.manylinux1_x86_64.whl (448 kB)\n",
            "\u001b[K     |████████████████████████████████| 448 kB 48.2 MB/s \n",
            "\u001b[?25hRequirement already satisfied: typing-extensions in /usr/local/lib/python3.7/dist-packages (from JPype1>=0.7.0->konlpy) (3.7.4.3)\n",
            "Requirement already satisfied: requests-oauthlib>=0.7.0 in /usr/local/lib/python3.7/dist-packages (from tweepy>=3.7.0->konlpy) (1.3.0)\n",
            "Requirement already satisfied: requests[socks]>=2.11.1 in /usr/local/lib/python3.7/dist-packages (from tweepy>=3.7.0->konlpy) (2.23.0)\n",
            "Requirement already satisfied: six>=1.10.0 in /usr/local/lib/python3.7/dist-packages (from tweepy>=3.7.0->konlpy) (1.15.0)\n",
            "Requirement already satisfied: oauthlib>=3.0.0 in /usr/local/lib/python3.7/dist-packages (from requests-oauthlib>=0.7.0->tweepy>=3.7.0->konlpy) (3.1.1)\n",
            "Requirement already satisfied: idna<3,>=2.5 in /usr/local/lib/python3.7/dist-packages (from requests[socks]>=2.11.1->tweepy>=3.7.0->konlpy) (2.10)\n",
            "Requirement already satisfied: urllib3!=1.25.0,!=1.25.1,<1.26,>=1.21.1 in /usr/local/lib/python3.7/dist-packages (from requests[socks]>=2.11.1->tweepy>=3.7.0->konlpy) (1.24.3)\n",
            "Requirement already satisfied: chardet<4,>=3.0.2 in /usr/local/lib/python3.7/dist-packages (from requests[socks]>=2.11.1->tweepy>=3.7.0->konlpy) (3.0.4)\n",
            "Requirement already satisfied: certifi>=2017.4.17 in /usr/local/lib/python3.7/dist-packages (from requests[socks]>=2.11.1->tweepy>=3.7.0->konlpy) (2021.5.30)\n",
            "Requirement already satisfied: PySocks!=1.5.7,>=1.5.6 in /usr/local/lib/python3.7/dist-packages (from requests[socks]>=2.11.1->tweepy>=3.7.0->konlpy) (1.7.1)\n",
            "Installing collected packages: JPype1, colorama, beautifulsoup4, konlpy\n",
            "  Attempting uninstall: beautifulsoup4\n",
            "    Found existing installation: beautifulsoup4 4.6.3\n",
            "    Uninstalling beautifulsoup4-4.6.3:\n",
            "      Successfully uninstalled beautifulsoup4-4.6.3\n",
            "Successfully installed JPype1-1.3.0 beautifulsoup4-4.6.0 colorama-0.4.4 konlpy-0.5.2\n"
          ],
          "name": "stdout"
        }
      ]
    },
    {
      "cell_type": "code",
      "metadata": {
        "id": "-V-7-AMZCjCR"
      },
      "source": [
        "from konlpy.tag import Okt"
      ],
      "execution_count": 7,
      "outputs": []
    },
    {
      "cell_type": "code",
      "metadata": {
        "id": "0oq_nQ4kDM8o"
      },
      "source": [
        "okt = Okt()"
      ],
      "execution_count": 8,
      "outputs": []
    },
    {
      "cell_type": "code",
      "metadata": {
        "id": "TVrAfOr6EQdz"
      },
      "source": [
        "stop_words = ['강,', '글,', '애', '미', '번', '은', '이', '것', '등', '더', '를', '좀', '즉', '인', '옹', '때', '만', '원', '이때', '개']"
      ],
      "execution_count": 9,
      "outputs": []
    },
    {
      "cell_type": "code",
      "metadata": {
        "colab": {
          "base_uri": "https://localhost:8080/"
        },
        "id": "0n6NBz9SDQYF",
        "outputId": "7ee1d209-c8f5-4160-fdf6-a4309e6cedf7"
      },
      "source": [
        "posts_noun = []\n",
        "for post in posts:\n",
        "  #print(okt.nouns(post))\n",
        "  for noun in okt.nouns(post):\n",
        "    posts_noun.append(noun)\n",
        "\n",
        "len(posts_noun)"
      ],
      "execution_count": 19,
      "outputs": [
        {
          "output_type": "execute_result",
          "data": {
            "text/plain": [
              "6083"
            ]
          },
          "metadata": {},
          "execution_count": 19
        }
      ]
    },
    {
      "cell_type": "code",
      "metadata": {
        "id": "vfkvejxsWP3v"
      },
      "source": [
        "posts_noun"
      ],
      "execution_count": null,
      "outputs": []
    },
    {
      "cell_type": "code",
      "metadata": {
        "id": "FmzXWEsQD9wX"
      },
      "source": [
        "from collections import Counter"
      ],
      "execution_count": 21,
      "outputs": []
    },
    {
      "cell_type": "markdown",
      "metadata": {
        "id": "PupbAFjIYW-E"
      },
      "source": [
        "type(noun_cnt) 딕셔너리로 출력 됨"
      ]
    },
    {
      "cell_type": "code",
      "metadata": {
        "colab": {
          "base_uri": "https://localhost:8080/"
        },
        "id": "885Bv5vJWPX2",
        "outputId": "09673624-6b5d-4c13-8399-8c4e254b3b3a"
      },
      "source": [
        "noun_cnt = Counter(posts_noun)\n",
        "type(noun_cnt)"
      ],
      "execution_count": 22,
      "outputs": [
        {
          "output_type": "execute_result",
          "data": {
            "text/plain": [
              "collections.Counter"
            ]
          },
          "metadata": {},
          "execution_count": 22
        }
      ]
    },
    {
      "cell_type": "code",
      "metadata": {
        "colab": {
          "base_uri": "https://localhost:8080/"
        },
        "id": "6wxKwmjgWgB2",
        "outputId": "ed7cfd1c-6971-4fe9-fa2d-b20aec0cbbf9"
      },
      "source": [
        "top_30_nouns = noun_cnt.most_common(30)\n",
        "type(top_30_nouns),top_30_nouns"
      ],
      "execution_count": 34,
      "outputs": [
        {
          "output_type": "execute_result",
          "data": {
            "text/plain": [
              "(list,\n",
              " [('스마트폰', 1021),\n",
              "  ('갤럭시', 104),\n",
              "  ('삼성', 80),\n",
              "  ('스펙', 73),\n",
              "  ('사용', 71),\n",
              "  ('강의', 71),\n",
              "  ('강', 70),\n",
              "  ('동영상', 67),\n",
              "  ('제작', 66),\n",
              "  ('카메라', 61),\n",
              "  ('방법', 60),\n",
              "  ('유튜브', 60),\n",
              "  ('위', 55),\n",
              "  ('출시', 46),\n",
              "  ('사진', 42),\n",
              "  ('가격', 38),\n",
              "  ('앱', 37),\n",
              "  ('삼각대', 35),\n",
              "  ('폰', 34),\n",
              "  ('안드로이드', 34),\n",
              "  ('보급', 34),\n",
              "  ('샤오미', 32),\n",
              "  ('거치', 31),\n",
              "  ('활용', 29),\n",
              "  ('후기', 27),\n",
              "  ('용', 26),\n",
              "  ('중독', 24),\n",
              "  ('법', 23),\n",
              "  ('촬영', 22),\n",
              "  ('게이', 22)])"
            ]
          },
          "metadata": {},
          "execution_count": 34
        }
      ]
    },
    {
      "cell_type": "code",
      "metadata": {
        "colab": {
          "base_uri": "https://localhost:8080/"
        },
        "id": "XiDj6D4QY9Ml",
        "outputId": "fb1a5032-972c-4fb6-e63d-751d9eacca4b"
      },
      "source": [
        "top_nouns_dict = dict(top_30_nouns)\n",
        "type(top_nouns_dict)"
      ],
      "execution_count": 35,
      "outputs": [
        {
          "output_type": "execute_result",
          "data": {
            "text/plain": [
              "dict"
            ]
          },
          "metadata": {},
          "execution_count": 35
        }
      ]
    },
    {
      "cell_type": "markdown",
      "metadata": {
        "id": "Gcvc427UZJAM"
      },
      "source": [
        "## Word cloud\n"
      ]
    },
    {
      "cell_type": "code",
      "metadata": {
        "id": "DKTk6cSyZBJV"
      },
      "source": [
        "from wordcloud import WordCloud"
      ],
      "execution_count": 36,
      "outputs": []
    },
    {
      "cell_type": "code",
      "metadata": {
        "id": "05JBkyc5cIO2"
      },
      "source": [
        "path = ''"
      ],
      "execution_count": 41,
      "outputs": []
    },
    {
      "cell_type": "code",
      "metadata": {
        "id": "991uzYxbZQ6n"
      },
      "source": [
        "nouns_wordcloud = WordCloud()"
      ],
      "execution_count": 42,
      "outputs": []
    },
    {
      "cell_type": "code",
      "metadata": {
        "colab": {
          "base_uri": "https://localhost:8080/"
        },
        "id": "Tq83WVJiZan1",
        "outputId": "d5249604-f0d0-4739-af47-bb3fed700434"
      },
      "source": [
        "nouns_wordcloud.generate_from_frequencies(top_nouns_dict)"
      ],
      "execution_count": 43,
      "outputs": [
        {
          "output_type": "execute_result",
          "data": {
            "text/plain": [
              "<wordcloud.wordcloud.WordCloud at 0x7f8f761a0210>"
            ]
          },
          "metadata": {},
          "execution_count": 43
        }
      ]
    },
    {
      "cell_type": "markdown",
      "metadata": {
        "id": "pnAaoTM4Z_2d"
      },
      "source": [
        "## Display"
      ]
    },
    {
      "cell_type": "code",
      "metadata": {
        "id": "zgcPWY2zZwiG"
      },
      "source": [
        "import matplotlib.pyplot as plt"
      ],
      "execution_count": 44,
      "outputs": []
    },
    {
      "cell_type": "code",
      "metadata": {
        "colab": {
          "base_uri": "https://localhost:8080/",
          "height": 237
        },
        "id": "Xu0XyRcTZ500",
        "outputId": "db400277-8b10-4d9d-b047-542435585c12"
      },
      "source": [
        "plt.imshow(nouns_wordcloud)"
      ],
      "execution_count": 45,
      "outputs": [
        {
          "output_type": "execute_result",
          "data": {
            "text/plain": [
              "<matplotlib.image.AxesImage at 0x7f8f76107c50>"
            ]
          },
          "metadata": {},
          "execution_count": 45
        },
        {
          "output_type": "display_data",
          "data": {
            "image/png": "[encoded data removed]",
            "text/plain": [
              "<Figure size 432x288 with 1 Axes>"
            ]
          },
          "metadata": {
            "needs_background": "light"
          }
        }
      ]
    },
    {
      "cell_type": "markdown",
      "metadata": {
        "id": "glYmo-OEcuuU"
      },
      "source": [
        "stopwords, fonts 사용 안한 것"
      ]
    },
    {
      "cell_type": "markdown",
      "metadata": {
        "id": "nMsUnNdocO0U"
      },
      "source": [
        "## CountVectorizer(빈도수 사용)"
      ]
    },
    {
      "cell_type": "code",
      "metadata": {
        "id": "9qwxE3mVaOLz"
      },
      "source": [
        "from sklearn.feature_extraction.text import CountVectorizer "
      ],
      "execution_count": 46,
      "outputs": []
    },
    {
      "cell_type": "code",
      "metadata": {
        "id": "UWy-7_vifafU"
      },
      "source": [
        "corpus = [\n",
        "    'you know I want your love',\n",
        "    'I like you',\n",
        "    'what should I do ',    \n",
        "]"
      ],
      "execution_count": 47,
      "outputs": []
    },
    {
      "cell_type": "code",
      "metadata": {
        "id": "FwHR0IB5fdXl"
      },
      "source": [
        "countvectorizer  = CountVectorizer()"
      ],
      "execution_count": 48,
      "outputs": []
    },
    {
      "cell_type": "code",
      "metadata": {
        "colab": {
          "base_uri": "https://localhost:8080/"
        },
        "id": "QR5a5OmPfp4D",
        "outputId": "cd062d9e-2325-48c2-d859-0cd2e7d51012"
      },
      "source": [
        "countvectorizer.fit_transform(corpus).toarray()"
      ],
      "execution_count": 50,
      "outputs": [
        {
          "output_type": "execute_result",
          "data": {
            "text/plain": [
              "array([[0, 1, 0, 1, 0, 1, 0, 1, 1],\n",
              "       [0, 0, 1, 0, 0, 0, 0, 1, 0],\n",
              "       [1, 0, 0, 0, 1, 0, 1, 0, 0]])"
            ]
          },
          "metadata": {},
          "execution_count": 50
        }
      ]
    },
    {
      "cell_type": "markdown",
      "metadata": {
        "id": "1lJ2HgszgBGM"
      },
      "source": [
        "vocabulary_ 로 컬럼의 순서 확인"
      ]
    },
    {
      "cell_type": "code",
      "metadata": {
        "colab": {
          "base_uri": "https://localhost:8080/"
        },
        "id": "5xCLPghDf1tC",
        "outputId": "d1dc20ff-ce1a-45d5-abbf-7be632312b01"
      },
      "source": [
        "print(countvectorizer.vocabulary_)"
      ],
      "execution_count": 52,
      "outputs": [
        {
          "output_type": "stream",
          "text": [
            "{'you': 7, 'know': 1, 'want': 5, 'your': 8, 'love': 3, 'like': 2, 'what': 6, 'should': 4, 'do': 0}\n"
          ],
          "name": "stdout"
        }
      ]
    }
  ]
}