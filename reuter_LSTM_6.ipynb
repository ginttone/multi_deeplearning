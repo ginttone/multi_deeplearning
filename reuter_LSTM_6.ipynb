{
  "nbformat": 4,
  "nbformat_minor": 0,
  "metadata": {
    "colab": {
      "name": "reuter_LSTM_6.ipynb",
      "provenance": [],
      "collapsed_sections": [],
      "authorship_tag": "ABX9TyNXI/xDG94Va3OunnZk7bUU",
      "include_colab_link": true
    },
    "kernelspec": {
      "name": "python3",
      "display_name": "Python 3"
    },
    "language_info": {
      "name": "python"
    }
  },
  "cells": [
    {
      "cell_type": "markdown",
      "metadata": {
        "id": "view-in-github",
        "colab_type": "text"
      },
      "source": [
        "<a href=\"https://colab.research.google.com/github/ginttone/multi_deeplearning/blob/master/reuter_LSTM_6.ipynb\" target=\"_parent\"><img src=\"https://colab.research.google.com/assets/colab-badge.svg\" alt=\"Open In Colab\"/></a>"
      ]
    },
    {
      "cell_type": "markdown",
      "metadata": {
        "id": "H_2EypxJ3t03"
      },
      "source": [
        "# Reuter "
      ]
    },
    {
      "cell_type": "markdown",
      "metadata": {
        "id": "EWNaTrFU39JF"
      },
      "source": [
        "## Datasets"
      ]
    },
    {
      "cell_type": "code",
      "metadata": {
        "id": "VejvnTVb3HOA"
      },
      "source": [
        "import tensorflow as tf"
      ],
      "execution_count": 1,
      "outputs": []
    },
    {
      "cell_type": "code",
      "metadata": {
        "colab": {
          "base_uri": "https://localhost:8080/"
        },
        "id": "Hk0xT3FJ4I-4",
        "outputId": "b1886448-2aa1-475a-cf2e-e082718b7e56"
      },
      "source": [
        "(x_train, y_train),(x_test,y_test)= tf.keras.datasets.reuters.load_data(num_words=10000)\n",
        "\n",
        "x_train.shape, y_train.shape, x_test.shape, y_test.shape"
      ],
      "execution_count": 2,
      "outputs": [
        {
          "output_type": "stream",
          "text": [
            "/usr/local/lib/python3.7/dist-packages/tensorflow/python/keras/datasets/reuters.py:143: VisibleDeprecationWarning: Creating an ndarray from ragged nested sequences (which is a list-or-tuple of lists-or-tuples-or ndarrays with different lengths or shapes) is deprecated. If you meant to do this, you must specify 'dtype=object' when creating the ndarray\n",
            "  x_train, y_train = np.array(xs[:idx]), np.array(labels[:idx])\n",
            "/usr/local/lib/python3.7/dist-packages/tensorflow/python/keras/datasets/reuters.py:144: VisibleDeprecationWarning: Creating an ndarray from ragged nested sequences (which is a list-or-tuple of lists-or-tuples-or ndarrays with different lengths or shapes) is deprecated. If you meant to do this, you must specify 'dtype=object' when creating the ndarray\n",
            "  x_test, y_test = np.array(xs[idx:]), np.array(labels[idx:])\n"
          ],
          "name": "stderr"
        },
        {
          "output_type": "execute_result",
          "data": {
            "text/plain": [
              "((8982,), (8982,), (2246,), (2246,))"
            ]
          },
          "metadata": {
            "tags": []
          },
          "execution_count": 2
        }
      ]
    },
    {
      "cell_type": "code",
      "metadata": {
        "colab": {
          "base_uri": "https://localhost:8080/"
        },
        "id": "8DxTgydK4-JY",
        "outputId": "4dbd4220-96cb-4548-972b-f5bbdb09443b"
      },
      "source": [
        "print(y_train[50], x_train[50])"
      ],
      "execution_count": 3,
      "outputs": [
        {
          "output_type": "stream",
          "text": [
            "4 [1, 1479, 1197, 71, 8, 25, 1479, 1197, 640, 71, 304, 471, 80, 9, 1379, 1901, 4530, 6797, 79, 5, 8144, 71, 175, 80, 58, 4, 1279, 5, 63, 32, 20, 5, 4, 326, 175, 80, 335, 7, 10, 845, 31, 4, 221, 9, 108, 259, 1479, 1197, 640, 8, 16, 600, 69, 68, 11, 15, 6, 8144, 21, 397, 321, 6, 438, 1761, 3072, 79, 5, 8144, 1040, 894, 1051, 617, 80, 4, 617, 80, 23, 1051, 172, 3814, 3206, 8144, 175, 79, 9, 1379, 6, 264, 395, 3814, 3206, 79, 1479, 1197, 9, 25, 323, 8, 4, 8144, 80, 23, 381, 43, 42, 205, 50, 77, 33, 909, 9, 3509, 22, 216, 6, 216, 17, 12]\n"
          ],
          "name": "stdout"
        }
      ]
    },
    {
      "cell_type": "code",
      "metadata": {
        "colab": {
          "base_uri": "https://localhost:8080/"
        },
        "id": "TVX2QMFr7iY_",
        "outputId": "93b0e047-5c5a-46df-93b1-4b98588260d8"
      },
      "source": [
        "len(x_train[50]), len(x_train[400]), len(x_train[200])"
      ],
      "execution_count": 4,
      "outputs": [
        {
          "output_type": "execute_result",
          "data": {
            "text/plain": [
              "(118, 90, 212)"
            ]
          },
          "metadata": {
            "tags": []
          },
          "execution_count": 4
        }
      ]
    },
    {
      "cell_type": "code",
      "metadata": {
        "id": "o6y0CGHoBhWb"
      },
      "source": [
        "pad_x_train = tf.keras.preprocessing.sequence.pad_sequences(x_train, maxlen=500)"
      ],
      "execution_count": 5,
      "outputs": []
    },
    {
      "cell_type": "code",
      "metadata": {
        "colab": {
          "base_uri": "https://localhost:8080/"
        },
        "id": "p99bjVBdBtml",
        "outputId": "d30b11a6-f71e-4c56-c99a-e5f407b81564"
      },
      "source": [
        " len(pad_x_train[50]) # pad_x_train[50]"
      ],
      "execution_count": 6,
      "outputs": [
        {
          "output_type": "execute_result",
          "data": {
            "text/plain": [
              "500"
            ]
          },
          "metadata": {
            "tags": []
          },
          "execution_count": 6
        }
      ]
    },
    {
      "cell_type": "code",
      "metadata": {
        "colab": {
          "base_uri": "https://localhost:8080/"
        },
        "id": "YB6r97-BD7zk",
        "outputId": "f021fea2-499e-458e-ec44-0533caef6fe6"
      },
      "source": [
        "import numpy as np\n",
        "# len(np.unique(y_train)) \n",
        "np.unique(y_train).shape"
      ],
      "execution_count": 7,
      "outputs": [
        {
          "output_type": "execute_result",
          "data": {
            "text/plain": [
              "(46,)"
            ]
          },
          "metadata": {
            "tags": []
          },
          "execution_count": 7
        }
      ]
    },
    {
      "cell_type": "markdown",
      "metadata": {
        "id": "_ICwxy057fZk"
      },
      "source": [
        "## Make model"
      ]
    },
    {
      "cell_type": "code",
      "metadata": {
        "id": "49d1fu0z6gmd"
      },
      "source": [
        "model = tf.keras.models.Sequential()"
      ],
      "execution_count": 8,
      "outputs": []
    },
    {
      "cell_type": "markdown",
      "metadata": {
        "id": "d-_YnhcI8Fnx"
      },
      "source": [
        "* Input layer\n"
      ]
    },
    {
      "cell_type": "code",
      "metadata": {
        "id": "LEHLnoI67rGk"
      },
      "source": [
        "model.add(tf.keras.layers.Embedding(input_length=500, input_dim=10000 ,output_dim=24))"
      ],
      "execution_count": 9,
      "outputs": []
    },
    {
      "cell_type": "markdown",
      "metadata": {
        "id": "jzO79LSm8IMa"
      },
      "source": [
        "* Hidden layer\n"
      ]
    },
    {
      "cell_type": "code",
      "metadata": {
        "id": "BZYn2Ihk8DRU"
      },
      "source": [
        "model.add(tf.keras.layers.LSTM(24, return_sequences=True, activation='tanh'))\n",
        "model.add(tf.keras.layers.LSTM(12, activation='tanh'))"
      ],
      "execution_count": 10,
      "outputs": []
    },
    {
      "cell_type": "markdown",
      "metadata": {
        "id": "HcztapJq8Ke1"
      },
      "source": [
        "* Output layer\n"
      ]
    },
    {
      "cell_type": "code",
      "metadata": {
        "id": "KdQGk73n8D5V"
      },
      "source": [
        "model.add(tf.keras.layers.Dense(46,activation='softmax'))"
      ],
      "execution_count": 11,
      "outputs": []
    },
    {
      "cell_type": "markdown",
      "metadata": {
        "id": "HuWsH_3-FxXP"
      },
      "source": [
        "* Gadget\n"
      ]
    },
    {
      "cell_type": "code",
      "metadata": {
        "id": "ZxgFnZN6F03O"
      },
      "source": [
        "model.compile(optimizer='adam' , loss='sparse_categorical_crossentropy', metrics=['acc'])"
      ],
      "execution_count": 12,
      "outputs": []
    },
    {
      "cell_type": "markdown",
      "metadata": {
        "id": "K7Qy8r30H7UU"
      },
      "source": [
        "## Train"
      ]
    },
    {
      "cell_type": "code",
      "metadata": {
        "colab": {
          "base_uri": "https://localhost:8080/"
        },
        "id": "LOUwC1JyH3QO",
        "outputId": "20807414-760a-4284-e81d-60e94b41306e"
      },
      "source": [
        "hist = model.fit(pad_x_train, y_train, epochs=100, validation_split=0.3 , batch_size=256)"
      ],
      "execution_count": 13,
      "outputs": [
        {
          "output_type": "stream",
          "text": [
            "Epoch 1/100\n",
            "25/25 [==============================] - 23s 760ms/step - loss: 3.7499 - acc: 0.2146 - val_loss: 3.5544 - val_acc: 0.3532\n",
            "Epoch 2/100\n",
            "25/25 [==============================] - 18s 722ms/step - loss: 3.2414 - acc: 0.3510 - val_loss: 2.9629 - val_acc: 0.3532\n",
            "Epoch 3/100\n",
            "25/25 [==============================] - 18s 728ms/step - loss: 2.8092 - acc: 0.3510 - val_loss: 2.6444 - val_acc: 0.3532\n",
            "Epoch 4/100\n",
            "25/25 [==============================] - 18s 732ms/step - loss: 2.5828 - acc: 0.3510 - val_loss: 2.4949 - val_acc: 0.3532\n",
            "Epoch 5/100\n",
            "25/25 [==============================] - 18s 729ms/step - loss: 2.4868 - acc: 0.3510 - val_loss: 2.4340 - val_acc: 0.3532\n",
            "Epoch 6/100\n",
            "25/25 [==============================] - 18s 727ms/step - loss: 2.4480 - acc: 0.3510 - val_loss: 2.4089 - val_acc: 0.3532\n",
            "Epoch 7/100\n",
            "25/25 [==============================] - 18s 731ms/step - loss: 2.4316 - acc: 0.3510 - val_loss: 2.3969 - val_acc: 0.3532\n",
            "Epoch 8/100\n",
            "25/25 [==============================] - 18s 732ms/step - loss: 2.4235 - acc: 0.3510 - val_loss: 2.3906 - val_acc: 0.3532\n",
            "Epoch 9/100\n",
            "25/25 [==============================] - 18s 734ms/step - loss: 2.4193 - acc: 0.3510 - val_loss: 2.3878 - val_acc: 0.3532\n",
            "Epoch 10/100\n",
            "25/25 [==============================] - 19s 745ms/step - loss: 2.4170 - acc: 0.3510 - val_loss: 2.3861 - val_acc: 0.3532\n",
            "Epoch 11/100\n",
            "25/25 [==============================] - 18s 739ms/step - loss: 2.4154 - acc: 0.3510 - val_loss: 2.3846 - val_acc: 0.3532\n",
            "Epoch 12/100\n",
            "25/25 [==============================] - 18s 735ms/step - loss: 2.4143 - acc: 0.3510 - val_loss: 2.3842 - val_acc: 0.3532\n",
            "Epoch 13/100\n",
            "25/25 [==============================] - 18s 740ms/step - loss: 2.4137 - acc: 0.3510 - val_loss: 2.3835 - val_acc: 0.3532\n",
            "Epoch 14/100\n",
            "25/25 [==============================] - 19s 746ms/step - loss: 2.4130 - acc: 0.3510 - val_loss: 2.3830 - val_acc: 0.3532\n",
            "Epoch 15/100\n",
            "25/25 [==============================] - 18s 742ms/step - loss: 2.4126 - acc: 0.3510 - val_loss: 2.3830 - val_acc: 0.3532\n",
            "Epoch 16/100\n",
            "25/25 [==============================] - 18s 740ms/step - loss: 2.4125 - acc: 0.3510 - val_loss: 2.3828 - val_acc: 0.3532\n",
            "Epoch 17/100\n",
            "25/25 [==============================] - 18s 742ms/step - loss: 2.4123 - acc: 0.3510 - val_loss: 2.3829 - val_acc: 0.3532\n",
            "Epoch 18/100\n",
            "25/25 [==============================] - 18s 738ms/step - loss: 2.4121 - acc: 0.3510 - val_loss: 2.3824 - val_acc: 0.3532\n",
            "Epoch 19/100\n",
            "25/25 [==============================] - 18s 735ms/step - loss: 2.4120 - acc: 0.3510 - val_loss: 2.3826 - val_acc: 0.3532\n",
            "Epoch 20/100\n",
            "25/25 [==============================] - 18s 739ms/step - loss: 2.4120 - acc: 0.3510 - val_loss: 2.3824 - val_acc: 0.3532\n",
            "Epoch 21/100\n",
            "25/25 [==============================] - 18s 733ms/step - loss: 2.4120 - acc: 0.3510 - val_loss: 2.3823 - val_acc: 0.3532\n",
            "Epoch 22/100\n",
            "25/25 [==============================] - 18s 732ms/step - loss: 2.4118 - acc: 0.3510 - val_loss: 2.3824 - val_acc: 0.3532\n",
            "Epoch 23/100\n",
            "25/25 [==============================] - 18s 731ms/step - loss: 2.4114 - acc: 0.3510 - val_loss: 2.3815 - val_acc: 0.3532\n",
            "Epoch 24/100\n",
            "25/25 [==============================] - 18s 733ms/step - loss: 2.4067 - acc: 0.3510 - val_loss: 2.3722 - val_acc: 0.3532\n",
            "Epoch 25/100\n",
            "25/25 [==============================] - 18s 734ms/step - loss: 2.4075 - acc: 0.3510 - val_loss: 2.3821 - val_acc: 0.3532\n",
            "Epoch 26/100\n",
            "25/25 [==============================] - 18s 728ms/step - loss: 2.4086 - acc: 0.3510 - val_loss: 2.3657 - val_acc: 0.3532\n",
            "Epoch 27/100\n",
            "25/25 [==============================] - 19s 746ms/step - loss: 2.3749 - acc: 0.3510 - val_loss: 2.3190 - val_acc: 0.3532\n",
            "Epoch 28/100\n",
            "25/25 [==============================] - 18s 737ms/step - loss: 2.2962 - acc: 0.3577 - val_loss: 2.2101 - val_acc: 0.5035\n",
            "Epoch 29/100\n",
            "25/25 [==============================] - 18s 730ms/step - loss: 2.1616 - acc: 0.4886 - val_loss: 2.0721 - val_acc: 0.4675\n",
            "Epoch 30/100\n",
            "25/25 [==============================] - 18s 731ms/step - loss: 2.0646 - acc: 0.4474 - val_loss: 2.0418 - val_acc: 0.4174\n",
            "Epoch 31/100\n",
            "25/25 [==============================] - 18s 736ms/step - loss: 1.9986 - acc: 0.4816 - val_loss: 1.9710 - val_acc: 0.5013\n",
            "Epoch 32/100\n",
            "25/25 [==============================] - 18s 735ms/step - loss: 1.8979 - acc: 0.5236 - val_loss: 1.8833 - val_acc: 0.5173\n",
            "Epoch 33/100\n",
            "25/25 [==============================] - 18s 731ms/step - loss: 1.8178 - acc: 0.5494 - val_loss: 1.8440 - val_acc: 0.5295\n",
            "Epoch 34/100\n",
            "25/25 [==============================] - 18s 733ms/step - loss: 1.7406 - acc: 0.5682 - val_loss: 1.8006 - val_acc: 0.5451\n",
            "Epoch 35/100\n",
            "25/25 [==============================] - 18s 729ms/step - loss: 1.6797 - acc: 0.5853 - val_loss: 1.7727 - val_acc: 0.5644\n",
            "Epoch 36/100\n",
            "25/25 [==============================] - 18s 729ms/step - loss: 1.6609 - acc: 0.5920 - val_loss: 1.7716 - val_acc: 0.5521\n",
            "Epoch 37/100\n",
            "25/25 [==============================] - 18s 740ms/step - loss: 1.6130 - acc: 0.6044 - val_loss: 1.7523 - val_acc: 0.5451\n",
            "Epoch 38/100\n",
            "25/25 [==============================] - 18s 733ms/step - loss: 1.5785 - acc: 0.6090 - val_loss: 1.7531 - val_acc: 0.5581\n",
            "Epoch 39/100\n",
            "25/25 [==============================] - 18s 733ms/step - loss: 1.5236 - acc: 0.6275 - val_loss: 1.7123 - val_acc: 0.5640\n",
            "Epoch 40/100\n",
            "25/25 [==============================] - 18s 734ms/step - loss: 1.4762 - acc: 0.6326 - val_loss: 1.7163 - val_acc: 0.5588\n",
            "Epoch 41/100\n",
            "25/25 [==============================] - 18s 733ms/step - loss: 1.4610 - acc: 0.6321 - val_loss: 1.7253 - val_acc: 0.5551\n",
            "Epoch 42/100\n",
            "25/25 [==============================] - 18s 733ms/step - loss: 1.4277 - acc: 0.6361 - val_loss: 1.6982 - val_acc: 0.5610\n",
            "Epoch 43/100\n",
            "25/25 [==============================] - 18s 733ms/step - loss: 1.3850 - acc: 0.6459 - val_loss: 1.7064 - val_acc: 0.5514\n",
            "Epoch 44/100\n",
            "25/25 [==============================] - 18s 737ms/step - loss: 1.3540 - acc: 0.6542 - val_loss: 1.7003 - val_acc: 0.5614\n",
            "Epoch 45/100\n",
            "25/25 [==============================] - 18s 731ms/step - loss: 1.3257 - acc: 0.6695 - val_loss: 1.7153 - val_acc: 0.5570\n",
            "Epoch 46/100\n",
            "25/25 [==============================] - 18s 731ms/step - loss: 1.3417 - acc: 0.6601 - val_loss: 1.7083 - val_acc: 0.5529\n",
            "Epoch 47/100\n",
            "25/25 [==============================] - 18s 736ms/step - loss: 1.3116 - acc: 0.6692 - val_loss: 1.7214 - val_acc: 0.5640\n",
            "Epoch 48/100\n",
            "25/25 [==============================] - 18s 727ms/step - loss: 1.2669 - acc: 0.6868 - val_loss: 1.7161 - val_acc: 0.5573\n",
            "Epoch 49/100\n",
            "25/25 [==============================] - 18s 732ms/step - loss: 1.2442 - acc: 0.6944 - val_loss: 1.7332 - val_acc: 0.5584\n",
            "Epoch 50/100\n",
            "25/25 [==============================] - 18s 732ms/step - loss: 1.2263 - acc: 0.6991 - val_loss: 1.7375 - val_acc: 0.5536\n",
            "Epoch 51/100\n",
            "25/25 [==============================] - 18s 732ms/step - loss: 1.2062 - acc: 0.7034 - val_loss: 1.7293 - val_acc: 0.5688\n",
            "Epoch 52/100\n",
            "25/25 [==============================] - 18s 735ms/step - loss: 1.1830 - acc: 0.7070 - val_loss: 1.7303 - val_acc: 0.5729\n",
            "Epoch 53/100\n",
            "25/25 [==============================] - 18s 731ms/step - loss: 1.1614 - acc: 0.7080 - val_loss: 1.7368 - val_acc: 0.5662\n",
            "Epoch 54/100\n",
            "25/25 [==============================] - 18s 736ms/step - loss: 1.1472 - acc: 0.7113 - val_loss: 1.7728 - val_acc: 0.5603\n",
            "Epoch 55/100\n",
            "25/25 [==============================] - 18s 730ms/step - loss: 1.1451 - acc: 0.7091 - val_loss: 1.7494 - val_acc: 0.5729\n",
            "Epoch 56/100\n",
            "25/25 [==============================] - 18s 739ms/step - loss: 1.1282 - acc: 0.7111 - val_loss: 1.7690 - val_acc: 0.5614\n",
            "Epoch 57/100\n",
            "25/25 [==============================] - 18s 738ms/step - loss: 1.1091 - acc: 0.7162 - val_loss: 1.7723 - val_acc: 0.5655\n",
            "Epoch 58/100\n",
            "25/25 [==============================] - 18s 735ms/step - loss: 1.0908 - acc: 0.7161 - val_loss: 1.7734 - val_acc: 0.5707\n",
            "Epoch 59/100\n",
            "25/25 [==============================] - 18s 738ms/step - loss: 1.0736 - acc: 0.7201 - val_loss: 1.7969 - val_acc: 0.5640\n",
            "Epoch 60/100\n",
            "25/25 [==============================] - 18s 739ms/step - loss: 1.0619 - acc: 0.7204 - val_loss: 1.7959 - val_acc: 0.5618\n",
            "Epoch 61/100\n",
            "25/25 [==============================] - 18s 736ms/step - loss: 1.0520 - acc: 0.7216 - val_loss: 1.8026 - val_acc: 0.5711\n",
            "Epoch 62/100\n",
            "25/25 [==============================] - 19s 745ms/step - loss: 1.0428 - acc: 0.7264 - val_loss: 1.8051 - val_acc: 0.5662\n",
            "Epoch 63/100\n",
            "25/25 [==============================] - 19s 743ms/step - loss: 1.0347 - acc: 0.7224 - val_loss: 1.8158 - val_acc: 0.5629\n",
            "Epoch 64/100\n",
            "25/25 [==============================] - 18s 741ms/step - loss: 1.0286 - acc: 0.7218 - val_loss: 1.8238 - val_acc: 0.5633\n",
            "Epoch 65/100\n",
            "25/25 [==============================] - 18s 734ms/step - loss: 1.0247 - acc: 0.7234 - val_loss: 1.8379 - val_acc: 0.5584\n",
            "Epoch 66/100\n",
            "25/25 [==============================] - 18s 735ms/step - loss: 1.0095 - acc: 0.7242 - val_loss: 1.8309 - val_acc: 0.5566\n",
            "Epoch 67/100\n",
            "25/25 [==============================] - 18s 734ms/step - loss: 1.0191 - acc: 0.7210 - val_loss: 1.8396 - val_acc: 0.5696\n",
            "Epoch 68/100\n",
            "25/25 [==============================] - 18s 732ms/step - loss: 0.9993 - acc: 0.7259 - val_loss: 1.8075 - val_acc: 0.5696\n",
            "Epoch 69/100\n",
            "25/25 [==============================] - 18s 736ms/step - loss: 0.9870 - acc: 0.7279 - val_loss: 1.8177 - val_acc: 0.5744\n",
            "Epoch 70/100\n",
            "25/25 [==============================] - 18s 735ms/step - loss: 0.9773 - acc: 0.7269 - val_loss: 1.8249 - val_acc: 0.5696\n",
            "Epoch 71/100\n",
            "25/25 [==============================] - 18s 730ms/step - loss: 0.9707 - acc: 0.7280 - val_loss: 1.8403 - val_acc: 0.5640\n",
            "Epoch 72/100\n",
            "25/25 [==============================] - 18s 730ms/step - loss: 0.9694 - acc: 0.7329 - val_loss: 1.8406 - val_acc: 0.5696\n",
            "Epoch 73/100\n",
            "25/25 [==============================] - 18s 735ms/step - loss: 0.9778 - acc: 0.7231 - val_loss: 1.8945 - val_acc: 0.5529\n",
            "Epoch 74/100\n",
            "25/25 [==============================] - 18s 734ms/step - loss: 1.0069 - acc: 0.7205 - val_loss: 1.9264 - val_acc: 0.5440\n",
            "Epoch 75/100\n",
            "25/25 [==============================] - 18s 730ms/step - loss: 1.1458 - acc: 0.6805 - val_loss: 2.0775 - val_acc: 0.4939\n",
            "Epoch 76/100\n",
            "25/25 [==============================] - 18s 738ms/step - loss: 1.0779 - acc: 0.6962 - val_loss: 1.8518 - val_acc: 0.5555\n",
            "Epoch 77/100\n",
            "25/25 [==============================] - 18s 736ms/step - loss: 0.9786 - acc: 0.7264 - val_loss: 1.8721 - val_acc: 0.5677\n",
            "Epoch 78/100\n",
            "25/25 [==============================] - 18s 728ms/step - loss: 0.9463 - acc: 0.7383 - val_loss: 1.8628 - val_acc: 0.5699\n",
            "Epoch 79/100\n",
            "25/25 [==============================] - 18s 734ms/step - loss: 0.9312 - acc: 0.7452 - val_loss: 1.8595 - val_acc: 0.5699\n",
            "Epoch 80/100\n",
            "25/25 [==============================] - 18s 738ms/step - loss: 0.9111 - acc: 0.7485 - val_loss: 1.8668 - val_acc: 0.5729\n",
            "Epoch 81/100\n",
            "25/25 [==============================] - 18s 734ms/step - loss: 0.8997 - acc: 0.7528 - val_loss: 1.8689 - val_acc: 0.5759\n",
            "Epoch 82/100\n",
            "25/25 [==============================] - 18s 729ms/step - loss: 0.8930 - acc: 0.7516 - val_loss: 1.8811 - val_acc: 0.5636\n",
            "Epoch 83/100\n",
            "25/25 [==============================] - 18s 734ms/step - loss: 0.8874 - acc: 0.7554 - val_loss: 1.8750 - val_acc: 0.5718\n",
            "Epoch 84/100\n",
            "25/25 [==============================] - 18s 729ms/step - loss: 0.8813 - acc: 0.7570 - val_loss: 1.8963 - val_acc: 0.5737\n",
            "Epoch 85/100\n",
            "25/25 [==============================] - 18s 729ms/step - loss: 0.8739 - acc: 0.7595 - val_loss: 1.9041 - val_acc: 0.5763\n",
            "Epoch 86/100\n",
            "25/25 [==============================] - 18s 732ms/step - loss: 0.8677 - acc: 0.7504 - val_loss: 1.9010 - val_acc: 0.5699\n",
            "Epoch 87/100\n",
            "25/25 [==============================] - 18s 727ms/step - loss: 0.8699 - acc: 0.7573 - val_loss: 1.8941 - val_acc: 0.5699\n",
            "Epoch 88/100\n",
            "25/25 [==============================] - 18s 729ms/step - loss: 0.8619 - acc: 0.7585 - val_loss: 1.9004 - val_acc: 0.5725\n",
            "Epoch 89/100\n",
            "25/25 [==============================] - 18s 731ms/step - loss: 0.8512 - acc: 0.7636 - val_loss: 1.9021 - val_acc: 0.5751\n",
            "Epoch 90/100\n",
            "25/25 [==============================] - 18s 732ms/step - loss: 0.8438 - acc: 0.7654 - val_loss: 1.9127 - val_acc: 0.5744\n",
            "Epoch 91/100\n",
            "25/25 [==============================] - 18s 725ms/step - loss: 0.8402 - acc: 0.7665 - val_loss: 1.9090 - val_acc: 0.5733\n",
            "Epoch 92/100\n",
            "25/25 [==============================] - 18s 736ms/step - loss: 0.8350 - acc: 0.7667 - val_loss: 1.9204 - val_acc: 0.5711\n",
            "Epoch 93/100\n",
            "25/25 [==============================] - 18s 742ms/step - loss: 0.8300 - acc: 0.7702 - val_loss: 1.9322 - val_acc: 0.5737\n",
            "Epoch 94/100\n",
            "25/25 [==============================] - 18s 733ms/step - loss: 0.8250 - acc: 0.7687 - val_loss: 1.9256 - val_acc: 0.5718\n",
            "Epoch 95/100\n",
            "25/25 [==============================] - 18s 729ms/step - loss: 0.8232 - acc: 0.7714 - val_loss: 1.9357 - val_acc: 0.5722\n",
            "Epoch 96/100\n",
            "25/25 [==============================] - 18s 736ms/step - loss: 0.8138 - acc: 0.7760 - val_loss: 1.9296 - val_acc: 0.5748\n",
            "Epoch 97/100\n",
            "25/25 [==============================] - 19s 756ms/step - loss: 0.8108 - acc: 0.7787 - val_loss: 1.9381 - val_acc: 0.5781\n",
            "Epoch 98/100\n",
            "25/25 [==============================] - 18s 728ms/step - loss: 0.8086 - acc: 0.7757 - val_loss: 1.9475 - val_acc: 0.5755\n",
            "Epoch 99/100\n",
            "25/25 [==============================] - 18s 731ms/step - loss: 0.8019 - acc: 0.7791 - val_loss: 1.9686 - val_acc: 0.5670\n",
            "Epoch 100/100\n",
            "25/25 [==============================] - 18s 728ms/step - loss: 0.7972 - acc: 0.7795 - val_loss: 1.9669 - val_acc: 0.5673\n"
          ],
          "name": "stdout"
        }
      ]
    },
    {
      "cell_type": "markdown",
      "metadata": {
        "id": "6sYl5DfyQ3dC"
      },
      "source": [
        "## Evaluation\n"
      ]
    },
    {
      "cell_type": "markdown",
      "metadata": {
        "id": "nyA2OAglRuX9"
      },
      "source": [
        "1. 학습을 시켰던 데이터"
      ]
    },
    {
      "cell_type": "code",
      "metadata": {
        "colab": {
          "base_uri": "https://localhost:8080/"
        },
        "id": "NL9xWXsQICxk",
        "outputId": "63699571-1a6c-4131-95ed-efe065d504f0"
      },
      "source": [
        "model.evaluate(pad_x_train, y_train)"
      ],
      "execution_count": 14,
      "outputs": [
        {
          "output_type": "stream",
          "text": [
            "281/281 [==============================] - 18s 63ms/step - loss: 1.1464 - acc: 0.7155\n"
          ],
          "name": "stdout"
        },
        {
          "output_type": "execute_result",
          "data": {
            "text/plain": [
              "[1.1463791131973267, 0.715542197227478]"
            ]
          },
          "metadata": {
            "tags": []
          },
          "execution_count": 14
        }
      ]
    },
    {
      "cell_type": "markdown",
      "metadata": {
        "id": "iwZ14tnUUqnw"
      },
      "source": [
        "2. 학습 안시킨 데이터 전처리"
      ]
    },
    {
      "cell_type": "code",
      "metadata": {
        "id": "OxlQQngARplE"
      },
      "source": [
        "pad_x_train = tf.keras.preprocessing.sequence.pad_sequences(x_train, maxlen=500)\n",
        "pad_x_test = tf.keras.preprocessing.sequence.pad_sequences(x_test, maxlen=500)"
      ],
      "execution_count": 15,
      "outputs": []
    },
    {
      "cell_type": "code",
      "metadata": {
        "id": "AuxqLyaMXOeF"
      },
      "source": [
        "def pad_make(x_data):\n",
        "  pad_x = tf.keras.preprocessing.sequence.pad_sequences(x_data, maxlen=500)\n",
        "  return pad_x"
      ],
      "execution_count": 16,
      "outputs": []
    },
    {
      "cell_type": "code",
      "metadata": {
        "id": "A6nJcsZ-X8z_"
      },
      "source": [
        "pad_make_x = pad_make(x_test)"
      ],
      "execution_count": 17,
      "outputs": []
    },
    {
      "cell_type": "code",
      "metadata": {
        "colab": {
          "base_uri": "https://localhost:8080/"
        },
        "id": "bENLCwv_YPH3",
        "outputId": "bd4cff86-22af-41e8-ccb7-a601b700b96c"
      },
      "source": [
        "model.evaluate(pad_make_x, y_test)"
      ],
      "execution_count": 18,
      "outputs": [
        {
          "output_type": "stream",
          "text": [
            "71/71 [==============================] - 4s 63ms/step - loss: 2.0871 - acc: 0.5588\n"
          ],
          "name": "stdout"
        },
        {
          "output_type": "execute_result",
          "data": {
            "text/plain": [
              "[2.0870888233184814, 0.5587711334228516]"
            ]
          },
          "metadata": {
            "tags": []
          },
          "execution_count": 18
        }
      ]
    },
    {
      "cell_type": "code",
      "metadata": {
        "colab": {
          "base_uri": "https://localhost:8080/"
        },
        "id": "T0WfWbKgVClE",
        "outputId": "8e82630a-93a0-420a-c359-22ffbaeb1626"
      },
      "source": [
        "model.evaluate(pad_x_test, y_test)"
      ],
      "execution_count": 19,
      "outputs": [
        {
          "output_type": "stream",
          "text": [
            "71/71 [==============================] - 4s 63ms/step - loss: 2.0871 - acc: 0.5588\n"
          ],
          "name": "stdout"
        },
        {
          "output_type": "execute_result",
          "data": {
            "text/plain": [
              "[2.0870888233184814, 0.5587711334228516]"
            ]
          },
          "metadata": {
            "tags": []
          },
          "execution_count": 19
        }
      ]
    },
    {
      "cell_type": "markdown",
      "metadata": {
        "id": "cQa84VTjVMb9"
      },
      "source": [
        "* 1.과  2. 비교\n",
        "\n",
        "  loss가 비슷하니 학습이 잘 됬구나 혹은, loss가 차이 많이나니 학습이 잘 안됬네 알수있다."
      ]
    },
    {
      "cell_type": "markdown",
      "metadata": {
        "id": "gGijHpF4Vk3r"
      },
      "source": [
        "## Plot"
      ]
    },
    {
      "cell_type": "code",
      "metadata": {
        "id": "3tPuu0p6VF_V"
      },
      "source": [
        "import matplotlib.pyplot as plt"
      ],
      "execution_count": 20,
      "outputs": []
    },
    {
      "cell_type": "code",
      "metadata": {
        "colab": {
          "base_uri": "https://localhost:8080/",
          "height": 265
        },
        "id": "gTYnPxXgVzkj",
        "outputId": "f6936730-2853-4828-a69b-9d38a2b90884"
      },
      "source": [
        "plt.plot(hist.history['loss'])\n",
        "plt.plot(hist.history['val_loss'])\n",
        "plt.show()"
      ],
      "execution_count": 21,
      "outputs": [
        {
          "output_type": "display_data",
          "data": {
            "image/png": "[encoded data removed]",
            "text/plain": [
              "<Figure size 432x288 with 1 Axes>"
            ]
          },
          "metadata": {
            "tags": [],
            "needs_background": "light"
          }
        }
      ]
    },
    {
      "cell_type": "code",
      "metadata": {
        "colab": {
          "base_uri": "https://localhost:8080/",
          "height": 267
        },
        "id": "_92H3RgoWOSA",
        "outputId": "53f80545-61b6-432f-c513-a9cb2ff53ae7"
      },
      "source": [
        "plt.plot(hist.history['acc'])\n",
        "plt.plot(hist.history['val_acc'])\n",
        "plt.show()"
      ],
      "execution_count": 22,
      "outputs": [
        {
          "output_type": "display_data",
          "data": {
            "image/png": "[encoded data removed]",
            "text/plain": [
              "<Figure size 432x288 with 1 Axes>"
            ]
          },
          "metadata": {
            "tags": [],
            "needs_background": "light"
          }
        }
      ]
    },
    {
      "cell_type": "markdown",
      "metadata": {
        "id": "mXsagdirplHy"
      },
      "source": [
        "## Predict"
      ]
    },
    {
      "cell_type": "code",
      "metadata": {
        "colab": {
          "base_uri": "https://localhost:8080/"
        },
        "id": "l5qLZI14pjKG",
        "outputId": "ba0944ec-8a0e-44f8-ace5-6992149ecbce"
      },
      "source": [
        "y_train_pred = model.predict(pad_x_train)\n",
        "y_train_pred[0]"
      ],
      "execution_count": 28,
      "outputs": [
        {
          "output_type": "execute_result",
          "data": {
            "text/plain": [
              "array([1.34189846e-04, 9.35930409e-04, 6.49393769e-05, 9.64566469e-01,\n",
              "       1.35996863e-02, 1.04961029e-04, 2.72191333e-04, 1.24424827e-04,\n",
              "       1.67065847e-03, 2.39670480e-04, 2.67960655e-04, 8.36291350e-04,\n",
              "       1.61872653e-04, 7.83000607e-04, 1.30889719e-04, 1.08970075e-04,\n",
              "       3.04259825e-03, 2.80207489e-04, 7.74221917e-05, 2.26024352e-03,\n",
              "       7.58686278e-04, 4.78713104e-04, 1.85642784e-04, 1.36145973e-04,\n",
              "       8.21059366e-05, 1.74547022e-04, 7.40007381e-05, 1.37989977e-04,\n",
              "       5.83261193e-04, 4.78822185e-04, 8.08872574e-04, 2.48714909e-03,\n",
              "       8.80151405e-04, 1.62185257e-04, 2.12685496e-04, 2.79993226e-04,\n",
              "       1.61395568e-04, 2.19686655e-04, 5.11454069e-04, 3.75393778e-04,\n",
              "       9.35811186e-05, 1.96555091e-04, 2.20420741e-04, 1.79073351e-04,\n",
              "       2.94901256e-04, 1.63938428e-04], dtype=float32)"
            ]
          },
          "metadata": {
            "tags": []
          },
          "execution_count": 28
        }
      ]
    },
    {
      "cell_type": "markdown",
      "metadata": {
        "id": "r3CouDJEqIoA"
      },
      "source": [
        "## argmax"
      ]
    },
    {
      "cell_type": "code",
      "metadata": {
        "colab": {
          "base_uri": "https://localhost:8080/"
        },
        "id": "-TDKDW2hqMMW",
        "outputId": "f6528a5e-b3a2-48d2-8d53-e512534adff6"
      },
      "source": [
        "y_pred = np.argmax(y_train_pred, axis=1)\n",
        "y_pred.shape"
      ],
      "execution_count": 33,
      "outputs": [
        {
          "output_type": "execute_result",
          "data": {
            "text/plain": [
              "(8982,)"
            ]
          },
          "metadata": {
            "tags": []
          },
          "execution_count": 33
        }
      ]
    },
    {
      "cell_type": "code",
      "metadata": {
        "colab": {
          "base_uri": "https://localhost:8080/"
        },
        "id": "uEiW_hp4q36A",
        "outputId": "0a66a552-dccb-4198-8810-074c81b3d840"
      },
      "source": [
        "len(y_train)"
      ],
      "execution_count": 35,
      "outputs": [
        {
          "output_type": "execute_result",
          "data": {
            "text/plain": [
              "8982"
            ]
          },
          "metadata": {
            "tags": []
          },
          "execution_count": 35
        }
      ]
    },
    {
      "cell_type": "markdown",
      "metadata": {
        "id": "x71GUuJ-pnsL"
      },
      "source": [
        "## Classification_report"
      ]
    },
    {
      "cell_type": "code",
      "metadata": {
        "id": "brhRpZxJWqAC"
      },
      "source": [
        "from sklearn.metrics import classification_report"
      ],
      "execution_count": 36,
      "outputs": []
    },
    {
      "cell_type": "markdown",
      "metadata": {
        "id": "IbnSD8XAtj4c"
      },
      "source": [
        "1. 와 "
      ]
    },
    {
      "cell_type": "code",
      "metadata": {
        "colab": {
          "base_uri": "https://localhost:8080/"
        },
        "id": "RqVV6EIKpbFO",
        "outputId": "88e3ada4-50ae-452b-a16e-081081036178"
      },
      "source": [
        "print(classification_report(y_train, y_pred))"
      ],
      "execution_count": 37,
      "outputs": [
        {
          "output_type": "stream",
          "text": [
            "              precision    recall  f1-score   support\n",
            "\n",
            "           0       0.00      0.00      0.00        55\n",
            "           1       0.58      0.84      0.69       432\n",
            "           2       0.36      0.58      0.44        74\n",
            "           3       0.93      0.96      0.94      3159\n",
            "           4       0.90      0.88      0.89      1949\n",
            "           5       0.00      0.00      0.00        17\n",
            "           6       0.00      0.00      0.00        48\n",
            "           7       0.00      0.00      0.00        16\n",
            "           8       0.53      0.22      0.31       139\n",
            "           9       0.22      0.74      0.34       101\n",
            "          10       0.31      0.42      0.35       124\n",
            "          11       0.44      0.68      0.53       390\n",
            "          12       0.00      0.00      0.00        49\n",
            "          13       0.54      0.15      0.23       172\n",
            "          14       0.16      0.42      0.23        26\n",
            "          15       0.00      0.00      0.00        20\n",
            "          16       0.49      0.34      0.40       444\n",
            "          17       0.00      0.00      0.00        39\n",
            "          18       0.18      0.03      0.05        66\n",
            "          19       0.75      0.83      0.79       549\n",
            "          20       0.44      0.30      0.35       269\n",
            "          21       0.45      0.15      0.23       100\n",
            "          22       0.00      0.00      0.00        15\n",
            "          23       0.00      0.00      0.00        41\n",
            "          24       0.83      0.08      0.15        62\n",
            "          25       0.17      0.72      0.27        92\n",
            "          26       0.00      0.00      0.00        24\n",
            "          27       0.00      0.00      0.00        15\n",
            "          28       0.00      0.00      0.00        48\n",
            "          29       0.00      0.00      0.00        19\n",
            "          30       0.00      0.00      0.00        45\n",
            "          31       0.50      0.03      0.05        39\n",
            "          32       0.13      0.72      0.21        32\n",
            "          33       0.00      0.00      0.00        11\n",
            "          34       0.00      0.00      0.00        50\n",
            "          35       0.00      0.00      0.00        10\n",
            "          36       0.00      0.00      0.00        49\n",
            "          37       0.00      0.00      0.00        19\n",
            "          38       0.00      0.00      0.00        19\n",
            "          39       0.18      0.08      0.11        24\n",
            "          40       0.00      0.00      0.00        36\n",
            "          41       0.33      0.03      0.06        30\n",
            "          42       0.00      0.00      0.00        13\n",
            "          43       0.00      0.00      0.00        21\n",
            "          44       0.43      0.83      0.57        12\n",
            "          45       0.00      0.00      0.00        18\n",
            "\n",
            "    accuracy                           0.72      8982\n",
            "   macro avg       0.21      0.22      0.18      8982\n",
            "weighted avg       0.70      0.72      0.69      8982\n",
            "\n"
          ],
          "name": "stdout"
        },
        {
          "output_type": "stream",
          "text": [
            "/usr/local/lib/python3.7/dist-packages/sklearn/metrics/_classification.py:1272: UndefinedMetricWarning: Precision and F-score are ill-defined and being set to 0.0 in labels with no predicted samples. Use `zero_division` parameter to control this behavior.\n",
            "  _warn_prf(average, modifier, msg_start, len(result))\n"
          ],
          "name": "stderr"
        }
      ]
    },
    {
      "cell_type": "markdown",
      "metadata": {
        "id": "VIz0RixBtdGp"
      },
      "source": [
        "2.를 비교\n",
        "\n",
        "장르 0 단위인 것 들이 있다 = 문제가 있다\n",
        "\n",
        "판단:  0 ,5 , 6 , 7, 12, 15 ... -> 장르는 나누어져있는데 해당붑분이 없다"
      ]
    },
    {
      "cell_type": "code",
      "metadata": {
        "id": "BepyfroGrDZw"
      },
      "source": [
        "y_test_pred = model.predict(pad_x_test)"
      ],
      "execution_count": 40,
      "outputs": []
    },
    {
      "cell_type": "code",
      "metadata": {
        "id": "q8v8q1SyswjN"
      },
      "source": [
        "y_pred =np.argmax(y_test_pred, axis=1)"
      ],
      "execution_count": 41,
      "outputs": []
    },
    {
      "cell_type": "code",
      "metadata": {
        "colab": {
          "base_uri": "https://localhost:8080/"
        },
        "id": "SIC7YpkhtOz3",
        "outputId": "0a975205-b10d-4d58-8d0a-732490bd9bdc"
      },
      "source": [
        "print(classification_report(y_test, y_pred))"
      ],
      "execution_count": 42,
      "outputs": [
        {
          "output_type": "stream",
          "text": [
            "              precision    recall  f1-score   support\n",
            "\n",
            "           0       0.00      0.00      0.00        12\n",
            "           1       0.34      0.52      0.41       105\n",
            "           2       0.07      0.15      0.10        20\n",
            "           3       0.88      0.90      0.89       813\n",
            "           4       0.71      0.65      0.68       474\n",
            "           5       0.00      0.00      0.00         5\n",
            "           6       0.00      0.00      0.00        14\n",
            "           7       0.00      0.00      0.00         3\n",
            "           8       0.00      0.00      0.00        38\n",
            "           9       0.08      0.24      0.12        25\n",
            "          10       0.07      0.20      0.10        30\n",
            "          11       0.20      0.34      0.25        83\n",
            "          12       0.00      0.00      0.00        13\n",
            "          13       0.11      0.03      0.04        37\n",
            "          14       0.00      0.00      0.00         2\n",
            "          15       0.00      0.00      0.00         9\n",
            "          16       0.19      0.19      0.19        99\n",
            "          17       0.00      0.00      0.00        12\n",
            "          18       0.17      0.05      0.08        20\n",
            "          19       0.49      0.54      0.52       133\n",
            "          20       0.13      0.11      0.12        70\n",
            "          21       0.00      0.00      0.00        27\n",
            "          22       0.00      0.00      0.00         7\n",
            "          23       0.00      0.00      0.00        12\n",
            "          24       0.00      0.00      0.00        19\n",
            "          25       0.18      0.39      0.24        31\n",
            "          26       0.00      0.00      0.00         8\n",
            "          27       0.00      0.00      0.00         4\n",
            "          28       0.00      0.00      0.00        10\n",
            "          29       0.00      0.00      0.00         4\n",
            "          30       0.00      0.00      0.00        12\n",
            "          31       0.00      0.00      0.00        13\n",
            "          32       0.11      0.30      0.16        10\n",
            "          33       0.00      0.00      0.00         5\n",
            "          34       0.00      0.00      0.00         7\n",
            "          35       0.00      0.00      0.00         6\n",
            "          36       0.00      0.00      0.00        11\n",
            "          37       0.00      0.00      0.00         2\n",
            "          38       0.00      0.00      0.00         3\n",
            "          39       0.00      0.00      0.00         5\n",
            "          40       0.00      0.00      0.00        10\n",
            "          41       0.00      0.00      0.00         8\n",
            "          42       0.00      0.00      0.00         3\n",
            "          43       0.00      0.00      0.00         6\n",
            "          44       0.80      0.80      0.80         5\n",
            "          45       0.00      0.00      0.00         1\n",
            "\n",
            "    accuracy                           0.56      2246\n",
            "   macro avg       0.10      0.12      0.10      2246\n",
            "weighted avg       0.54      0.56      0.55      2246\n",
            "\n"
          ],
          "name": "stdout"
        },
        {
          "output_type": "stream",
          "text": [
            "/usr/local/lib/python3.7/dist-packages/sklearn/metrics/_classification.py:1272: UndefinedMetricWarning: Precision and F-score are ill-defined and being set to 0.0 in labels with no predicted samples. Use `zero_division` parameter to control this behavior.\n",
            "  _warn_prf(average, modifier, msg_start, len(result))\n"
          ],
          "name": "stderr"
        }
      ]
    },
    {
      "cell_type": "markdown",
      "metadata": {
        "id": "iekEIKG8rYrh"
      },
      "source": [
        "\n",
        "\n",
        "해결 : 스플릿 해줘야함"
      ]
    }
  ]
}