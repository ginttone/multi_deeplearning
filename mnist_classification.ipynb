{
  "nbformat": 4,
  "nbformat_minor": 0,
  "metadata": {
    "colab": {
      "name": "mnist_classification.ipynb",
      "provenance": [],
      "collapsed_sections": [],
      "authorship_tag": "ABX9TyNJP/Dv6wLA+nHGrlERau5g",
      "include_colab_link": true
    },
    "kernelspec": {
      "name": "python3",
      "display_name": "Python 3"
    },
    "language_info": {
      "name": "python"
    }
  },
  "cells": [
    {
      "cell_type": "markdown",
      "metadata": {
        "id": "view-in-github",
        "colab_type": "text"
      },
      "source": [
        "<a href=\"https://colab.research.google.com/github/ginttone/multi_deeplearning/blob/master/mnist_classification.ipynb\" target=\"_parent\"><img src=\"https://colab.research.google.com/assets/colab-badge.svg\" alt=\"Open In Colab\"/></a>"
      ]
    },
    {
      "cell_type": "markdown",
      "metadata": {
        "id": "5kDD1g0LlyJl"
      },
      "source": [
        "# Classification"
      ]
    },
    {
      "cell_type": "markdown",
      "metadata": {
        "id": "-LyUjYIUmSr0"
      },
      "source": [
        "## 차원이 있는 데이터 처리\n",
        "\n",
        "데이터 셋 : tensorflow.keras.datasets.mnist\n",
        "\n",
        "처음 이미지 사용 (손글씨를 이 방식으로 해결했다)"
      ]
    },
    {
      "cell_type": "code",
      "metadata": {
        "id": "ZUZqCVGbldw-"
      },
      "source": [
        "from tensorflow.keras.datasets.mnist import load_data"
      ],
      "execution_count": 1,
      "outputs": []
    },
    {
      "cell_type": "markdown",
      "metadata": {
        "id": "VVdd1amunUrS"
      },
      "source": [
        " 이미지는 구성이 픽셀(점)으로 이루어져있다.\n",
        "\n",
        " mnist 흰색과 검은색으로 구성.(검은배경, 흰숫자)\n",
        "\n",
        " x_train (60000, 28, 28) 은 (행, 열, 깊이)\n",
        "\n",
        " y_train (60000,) 해당부분의 y의 값"
      ]
    },
    {
      "cell_type": "code",
      "metadata": {
        "colab": {
          "base_uri": "https://localhost:8080/"
        },
        "id": "0FCrEvTtm7hI",
        "outputId": "57c93e04-7681-47dd-e871-c05c7683c500"
      },
      "source": [
        "(x_train, y_train),(x_test, y_test) = load_data(path='mnist.npz')\n",
        "\n",
        "x_train.shape, y_train.shape, x_test.shape, y_test.shape"
      ],
      "execution_count": 2,
      "outputs": [
        {
          "output_type": "execute_result",
          "data": {
            "text/plain": [
              "((60000, 28, 28), (60000,), (10000, 28, 28), (10000,))"
            ]
          },
          "metadata": {
            "tags": []
          },
          "execution_count": 2
        }
      ]
    },
    {
      "cell_type": "markdown",
      "metadata": {
        "id": "4Ah_vUf-sKiT"
      },
      "source": [
        "x_train 숫자 라는 것을 보여주기위한 작업( 4 번째 해당부분의 이미지)"
      ]
    },
    {
      "cell_type": "code",
      "metadata": {
        "colab": {
          "base_uri": "https://localhost:8080/"
        },
        "id": "lam-zoSosA4o",
        "outputId": "ae8bb0a3-16bb-44bf-8833-0e108156dbff"
      },
      "source": [
        "y_train[4], x_train[4]  "
      ],
      "execution_count": 3,
      "outputs": [
        {
          "output_type": "execute_result",
          "data": {
            "text/plain": [
              "(9, array([[  0,   0,   0,   0,   0,   0,   0,   0,   0,   0,   0,   0,   0,\n",
              "           0,   0,   0,   0,   0,   0,   0,   0,   0,   0,   0,   0,   0,\n",
              "           0,   0],\n",
              "        [  0,   0,   0,   0,   0,   0,   0,   0,   0,   0,   0,   0,   0,\n",
              "           0,   0,   0,   0,   0,   0,   0,   0,   0,   0,   0,   0,   0,\n",
              "           0,   0],\n",
              "        [  0,   0,   0,   0,   0,   0,   0,   0,   0,   0,   0,   0,   0,\n",
              "           0,   0,   0,   0,   0,   0,   0,   0,   0,   0,   0,   0,   0,\n",
              "           0,   0],\n",
              "        [  0,   0,   0,   0,   0,   0,   0,   0,   0,   0,   0,   0,   0,\n",
              "           0,   0,   0,   0,   0,   0,   0,   0,   0,   0,   0,   0,   0,\n",
              "           0,   0],\n",
              "        [  0,   0,   0,   0,   0,   0,   0,   0,   0,   0,   0,   0,   0,\n",
              "           0,   0,   0,   0,   0,   0,   0,   0,   0,   0,   0,   0,   0,\n",
              "           0,   0],\n",
              "        [  0,   0,   0,   0,   0,   0,   0,   0,   0,   0,   0,   0,   0,\n",
              "           0,   0,   0,   0,   0,   0,   0,   0,   0,   0,   0,   0,   0,\n",
              "           0,   0],\n",
              "        [  0,   0,   0,   0,   0,   0,   0,   0,   0,   0,   0,   0,   0,\n",
              "           0,   0,   0,   0,   0,   0,   0,   0,   0,   0,   0,   0,   0,\n",
              "           0,   0],\n",
              "        [  0,   0,   0,   0,   0,   0,   0,   0,   0,   0,   0,   0,  55,\n",
              "         148, 210, 253, 253, 113,  87, 148,  55,   0,   0,   0,   0,   0,\n",
              "           0,   0],\n",
              "        [  0,   0,   0,   0,   0,   0,   0,   0,   0,   0,   0,  87, 232,\n",
              "         252, 253, 189, 210, 252, 252, 253, 168,   0,   0,   0,   0,   0,\n",
              "           0,   0],\n",
              "        [  0,   0,   0,   0,   0,   0,   0,   0,   0,   4,  57, 242, 252,\n",
              "         190,  65,   5,  12, 182, 252, 253, 116,   0,   0,   0,   0,   0,\n",
              "           0,   0],\n",
              "        [  0,   0,   0,   0,   0,   0,   0,   0,   0,  96, 252, 252, 183,\n",
              "          14,   0,   0,  92, 252, 252, 225,  21,   0,   0,   0,   0,   0,\n",
              "           0,   0],\n",
              "        [  0,   0,   0,   0,   0,   0,   0,   0, 132, 253, 252, 146,  14,\n",
              "           0,   0,   0, 215, 252, 252,  79,   0,   0,   0,   0,   0,   0,\n",
              "           0,   0],\n",
              "        [  0,   0,   0,   0,   0,   0,   0, 126, 253, 247, 176,   9,   0,\n",
              "           0,   8,  78, 245, 253, 129,   0,   0,   0,   0,   0,   0,   0,\n",
              "           0,   0],\n",
              "        [  0,   0,   0,   0,   0,   0,  16, 232, 252, 176,   0,   0,   0,\n",
              "          36, 201, 252, 252, 169,  11,   0,   0,   0,   0,   0,   0,   0,\n",
              "           0,   0],\n",
              "        [  0,   0,   0,   0,   0,   0,  22, 252, 252,  30,  22, 119, 197,\n",
              "         241, 253, 252, 251,  77,   0,   0,   0,   0,   0,   0,   0,   0,\n",
              "           0,   0],\n",
              "        [  0,   0,   0,   0,   0,   0,  16, 231, 252, 253, 252, 252, 252,\n",
              "         226, 227, 252, 231,   0,   0,   0,   0,   0,   0,   0,   0,   0,\n",
              "           0,   0],\n",
              "        [  0,   0,   0,   0,   0,   0,   0,  55, 235, 253, 217, 138,  42,\n",
              "          24, 192, 252, 143,   0,   0,   0,   0,   0,   0,   0,   0,   0,\n",
              "           0,   0],\n",
              "        [  0,   0,   0,   0,   0,   0,   0,   0,   0,   0,   0,   0,   0,\n",
              "          62, 255, 253, 109,   0,   0,   0,   0,   0,   0,   0,   0,   0,\n",
              "           0,   0],\n",
              "        [  0,   0,   0,   0,   0,   0,   0,   0,   0,   0,   0,   0,   0,\n",
              "          71, 253, 252,  21,   0,   0,   0,   0,   0,   0,   0,   0,   0,\n",
              "           0,   0],\n",
              "        [  0,   0,   0,   0,   0,   0,   0,   0,   0,   0,   0,   0,   0,\n",
              "           0, 253, 252,  21,   0,   0,   0,   0,   0,   0,   0,   0,   0,\n",
              "           0,   0],\n",
              "        [  0,   0,   0,   0,   0,   0,   0,   0,   0,   0,   0,   0,   0,\n",
              "          71, 253, 252,  21,   0,   0,   0,   0,   0,   0,   0,   0,   0,\n",
              "           0,   0],\n",
              "        [  0,   0,   0,   0,   0,   0,   0,   0,   0,   0,   0,   0,   0,\n",
              "         106, 253, 252,  21,   0,   0,   0,   0,   0,   0,   0,   0,   0,\n",
              "           0,   0],\n",
              "        [  0,   0,   0,   0,   0,   0,   0,   0,   0,   0,   0,   0,   0,\n",
              "          45, 255, 253,  21,   0,   0,   0,   0,   0,   0,   0,   0,   0,\n",
              "           0,   0],\n",
              "        [  0,   0,   0,   0,   0,   0,   0,   0,   0,   0,   0,   0,   0,\n",
              "           0, 218, 252,  56,   0,   0,   0,   0,   0,   0,   0,   0,   0,\n",
              "           0,   0],\n",
              "        [  0,   0,   0,   0,   0,   0,   0,   0,   0,   0,   0,   0,   0,\n",
              "           0,  96, 252, 189,  42,   0,   0,   0,   0,   0,   0,   0,   0,\n",
              "           0,   0],\n",
              "        [  0,   0,   0,   0,   0,   0,   0,   0,   0,   0,   0,   0,   0,\n",
              "           0,  14, 184, 252, 170,  11,   0,   0,   0,   0,   0,   0,   0,\n",
              "           0,   0],\n",
              "        [  0,   0,   0,   0,   0,   0,   0,   0,   0,   0,   0,   0,   0,\n",
              "           0,   0,  14, 147, 252,  42,   0,   0,   0,   0,   0,   0,   0,\n",
              "           0,   0],\n",
              "        [  0,   0,   0,   0,   0,   0,   0,   0,   0,   0,   0,   0,   0,\n",
              "           0,   0,   0,   0,   0,   0,   0,   0,   0,   0,   0,   0,   0,\n",
              "           0,   0]], dtype=uint8))"
            ]
          },
          "metadata": {
            "tags": []
          },
          "execution_count": 3
        }
      ]
    },
    {
      "cell_type": "code",
      "metadata": {
        "colab": {
          "base_uri": "https://localhost:8080/"
        },
        "id": "lUgiDxXrssMs",
        "outputId": "6cb385bd-907a-4431-bdb4-a4070737aa86"
      },
      "source": [
        "y_train[50000], x_train[50000]"
      ],
      "execution_count": 4,
      "outputs": [
        {
          "output_type": "execute_result",
          "data": {
            "text/plain": [
              "(3, array([[  0,   0,   0,   0,   0,   0,   0,   0,   0,   0,   0,   0,   0,\n",
              "           0,   0,   0,   0,   0,   0,   0,   0,   0,   0,   0,   0,   0,\n",
              "           0,   0],\n",
              "        [  0,   0,   0,   0,   0,   0,   0,   0,   0,   0,   0,   0,   0,\n",
              "           0,   0,   0,   0,   0,   0,   0,   0,   0,   0,   0,   0,   0,\n",
              "           0,   0],\n",
              "        [  0,   0,   0,   0,   0,   0,   0,   0,   0,   0,   0,   0,   0,\n",
              "           0,   0,   0,   0,   0,   0,   0,   0,   0,   0,   0,   0,   0,\n",
              "           0,   0],\n",
              "        [  0,   0,   0,   0,   0,   0,   0,   0,   0,   0,   0,   0,   0,\n",
              "           0,   0,   0,   0,   0,   0,   0,   0,   0,   0,   0,   0,   0,\n",
              "           0,   0],\n",
              "        [  0,   0,   0,   0,   0,   0,   0,   0,   0,   0,  47, 160, 195,\n",
              "         205,  71,  86,  13,   0,   0,   0,   0,   0,   0,   0,   0,   0,\n",
              "           0,   0],\n",
              "        [  0,   0,   0,   0,   0,   0,   0,   0,   0,  12, 238, 254, 254,\n",
              "         254, 254, 254, 227,  84,   0,   0,   0,   0,   0,   0,   0,   0,\n",
              "           0,   0],\n",
              "        [  0,   0,   0,   0,   0,   0,   0,   0,   0,  13, 196, 176, 127,\n",
              "         176, 207, 236, 245, 222,  23,   0,   0,   0,   0,   0,   0,   0,\n",
              "           0,   0],\n",
              "        [  0,   0,   0,   0,   0,   0,   0,   0,   0,   0,   0,   0,   0,\n",
              "           0,   0,  20, 137, 254,  95,   0,   0,   0,   0,   0,   0,   0,\n",
              "           0,   0],\n",
              "        [  0,   0,   0,   0,   0,   0,   0,   0,   0,   0,   0,   0,   0,\n",
              "           0,   0,   0,  78, 254, 144,   0,   0,   0,   0,   0,   0,   0,\n",
              "           0,   0],\n",
              "        [  0,   0,   0,   0,   0,   0,   0,   0,   0,   0,   0,   0,   0,\n",
              "           0,   0,  17, 200, 254, 170,   0,   0,   0,   0,   0,   0,   0,\n",
              "           0,   0],\n",
              "        [  0,   0,   0,   0,   0,   0,   0,   0,   0,   0,   0,   0,   0,\n",
              "           0,  47, 218, 254, 216,  29,   0,   0,   0,   0,   0,   0,   0,\n",
              "           0,   0],\n",
              "        [  0,   0,   0,   0,   0,   0,   0,   0,   0,   0,   0,   0,   0,\n",
              "          95, 225, 254, 245,  65,   0,   0,   0,   0,   0,   0,   0,   0,\n",
              "           0,   0],\n",
              "        [  0,   0,   0,   0,   0,   0,   0,   0,   0,   0,   0,  12, 128,\n",
              "         252, 254, 236,  40,   0,   0,   0,   0,   0,   0,   0,   0,   0,\n",
              "           0,   0],\n",
              "        [  0,   0,   0,   0,   0,   0,   0,   0,   0,   0,   0, 172, 254,\n",
              "         254, 170,  58,   0,   0,   0,   0,   0,   0,   0,   0,   0,   0,\n",
              "           0,   0],\n",
              "        [  0,   0,   0,   0,   0,   0,   0,   0,   0,   0,   0, 207, 254,\n",
              "         254,  65,   0,   0,   0,   0,   0,   0,   0,   0,   0,   0,   0,\n",
              "           0,   0],\n",
              "        [  0,   0,   0,   0,   0,   0,   0,   0,   0,   0,   0, 137, 254,\n",
              "         254, 251, 146,  26,   0,   0,   0,   0,   0,   0,   0,   0,   0,\n",
              "           0,   0],\n",
              "        [  0,   0,   0,   0,   0,   0,   0,   0,   0,   0,   0,   9, 173,\n",
              "         224, 254, 254, 230,  71,   0,   0,   0,   0,   0,   0,   0,   0,\n",
              "           0,   0],\n",
              "        [  0,   0,   0,   0,   0,   0,   0,   0,   0,   0,   0,   0,   8,\n",
              "          12, 254, 254, 254, 246, 104,   0,   0,   0,   0,   0,   0,   0,\n",
              "           0,   0],\n",
              "        [  0,   0,   0,   0,   0,   0,   0,   0,   0,   0,   0,   0,   0,\n",
              "           0,  46, 189, 254, 254, 224,   0,   0,   0,   0,   0,   0,   0,\n",
              "           0,   0],\n",
              "        [  0,   0,   0,   0,   0,   0,   0,   0,   0,  10,   0,   0,   0,\n",
              "           0,   0,  17, 175, 254, 254,  25,   0,   0,   0,   0,   0,   0,\n",
              "           0,   0],\n",
              "        [  0,   0,   0,   0,   0,   0,   0,   0,  35, 231, 156, 112,  87,\n",
              "         186, 191, 218, 254, 254, 219,   0,   0,   0,   0,   0,   0,   0,\n",
              "           0,   0],\n",
              "        [  0,   0,   0,   0,   0,   0,   0,   0, 120, 255, 254, 254, 254,\n",
              "         254, 255, 254, 254, 242,  67,   0,   0,   0,   0,   0,   0,   0,\n",
              "           0,   0],\n",
              "        [  0,   0,   0,   0,   0,   0,   0,   0, 139, 255, 254, 254, 254,\n",
              "         254, 255, 171,  46,  24,   0,   0,   0,   0,   0,   0,   0,   0,\n",
              "           0,   0],\n",
              "        [  0,   0,   0,   0,   0,   0,   0,   0,   5,  71, 164, 189, 174,\n",
              "         174,  66,   4,   0,   0,   0,   0,   0,   0,   0,   0,   0,   0,\n",
              "           0,   0],\n",
              "        [  0,   0,   0,   0,   0,   0,   0,   0,   0,   0,   0,   0,   0,\n",
              "           0,   0,   0,   0,   0,   0,   0,   0,   0,   0,   0,   0,   0,\n",
              "           0,   0],\n",
              "        [  0,   0,   0,   0,   0,   0,   0,   0,   0,   0,   0,   0,   0,\n",
              "           0,   0,   0,   0,   0,   0,   0,   0,   0,   0,   0,   0,   0,\n",
              "           0,   0],\n",
              "        [  0,   0,   0,   0,   0,   0,   0,   0,   0,   0,   0,   0,   0,\n",
              "           0,   0,   0,   0,   0,   0,   0,   0,   0,   0,   0,   0,   0,\n",
              "           0,   0],\n",
              "        [  0,   0,   0,   0,   0,   0,   0,   0,   0,   0,   0,   0,   0,\n",
              "           0,   0,   0,   0,   0,   0,   0,   0,   0,   0,   0,   0,   0,\n",
              "           0,   0]], dtype=uint8))"
            ]
          },
          "metadata": {
            "tags": []
          },
          "execution_count": 4
        }
      ]
    },
    {
      "cell_type": "code",
      "metadata": {
        "id": "6ZkFmeT5r4-N"
      },
      "source": [
        "import matplotlib.pyplot as plt"
      ],
      "execution_count": 5,
      "outputs": []
    },
    {
      "cell_type": "code",
      "metadata": {
        "colab": {
          "base_uri": "https://localhost:8080/",
          "height": 282
        },
        "id": "yfLffDLNsBWE",
        "outputId": "43eb4865-b31f-4ae8-d141-68f96161669e"
      },
      "source": [
        "plt.imshow(x_train[4])\n",
        "print(y_train[4])"
      ],
      "execution_count": 6,
      "outputs": [
        {
          "output_type": "stream",
          "text": [
            "9\n"
          ],
          "name": "stdout"
        },
        {
          "output_type": "display_data",
          "data": {
            "image/png": "[encoded data removed]",
            "text/plain": [
              "<Figure size 432x288 with 1 Axes>"
            ]
          },
          "metadata": {
            "tags": [],
            "needs_background": "light"
          }
        }
      ]
    },
    {
      "cell_type": "code",
      "metadata": {
        "colab": {
          "base_uri": "https://localhost:8080/",
          "height": 282
        },
        "id": "A8XiI8-3tFv3",
        "outputId": "f8d8338a-a71c-4e6b-ce0d-7d20b8e8b1df"
      },
      "source": [
        "plt.imshow(x_train[50000])\n",
        "print(y_train[50000], type(y_train[50000]))"
      ],
      "execution_count": 7,
      "outputs": [
        {
          "output_type": "stream",
          "text": [
            "3 <class 'numpy.uint8'>\n"
          ],
          "name": "stdout"
        },
        {
          "output_type": "display_data",
          "data": {
            "image/png": "[encoded data removed]",
            "text/plain": [
              "<Figure size 432x288 with 1 Axes>"
            ]
          },
          "metadata": {
            "tags": [],
            "needs_background": "light"
          }
        }
      ]
    },
    {
      "cell_type": "markdown",
      "metadata": {
        "id": "eTCOjUaVuPZU"
      },
      "source": [
        "첫번째 단계 : 3차원(이미지 2차원데이터)를 2차원(이미지 1차원데이터)로 만든다 \n",
        "\n",
        "-1 은 한쪽 영역이 완료되면 나머지도 해준다"
      ]
    },
    {
      "cell_type": "code",
      "metadata": {
        "colab": {
          "base_uri": "https://localhost:8080/"
        },
        "id": "8H0a-p-wuYlm",
        "outputId": "d1b216d3-00e6-4ce5-98b6-eefcfc622e55"
      },
      "source": [
        "x_train = x_train.reshape(-1,28*28)\n",
        "x_train.shape"
      ],
      "execution_count": 8,
      "outputs": [
        {
          "output_type": "execute_result",
          "data": {
            "text/plain": [
              "(60000, 784)"
            ]
          },
          "metadata": {
            "tags": []
          },
          "execution_count": 8
        }
      ]
    },
    {
      "cell_type": "code",
      "metadata": {
        "colab": {
          "base_uri": "https://localhost:8080/"
        },
        "id": "YTH2vo-Vuzxe",
        "outputId": "c4cac0ec-8e4d-4927-d89e-2003773e1e81"
      },
      "source": [
        "x_test = x_test.reshape(-1,28*28)\n",
        "x_test.shape"
      ],
      "execution_count": 9,
      "outputs": [
        {
          "output_type": "execute_result",
          "data": {
            "text/plain": [
              "(10000, 784)"
            ]
          },
          "metadata": {
            "tags": []
          },
          "execution_count": 9
        }
      ]
    },
    {
      "cell_type": "code",
      "metadata": {
        "colab": {
          "base_uri": "https://localhost:8080/"
        },
        "id": "WvtfXmJ4vfaM",
        "outputId": "7b4a8c8f-f673-4055-9d69-a9af30c652e0"
      },
      "source": [
        "y_train[2:10], y_train.shape "
      ],
      "execution_count": 10,
      "outputs": [
        {
          "output_type": "execute_result",
          "data": {
            "text/plain": [
              "(array([4, 1, 9, 2, 1, 3, 1, 4], dtype=uint8), (60000,))"
            ]
          },
          "metadata": {
            "tags": []
          },
          "execution_count": 10
        }
      ]
    },
    {
      "cell_type": "markdown",
      "metadata": {
        "id": "JNrdIBFrxotw"
      },
      "source": [
        "y_train의 유니크값을 확인해서 모델에서 아웃풋 dense에 10을 넣어줌을 확인"
      ]
    },
    {
      "cell_type": "code",
      "metadata": {
        "colab": {
          "base_uri": "https://localhost:8080/"
        },
        "id": "tiT0HxYfxaDu",
        "outputId": "373cda94-3bde-4576-cd85-171e57f83344"
      },
      "source": [
        "import numpy as np\n",
        "np.unique(y_train)"
      ],
      "execution_count": 11,
      "outputs": [
        {
          "output_type": "execute_result",
          "data": {
            "text/plain": [
              "array([0, 1, 2, 3, 4, 5, 6, 7, 8, 9], dtype=uint8)"
            ]
          },
          "metadata": {
            "tags": []
          },
          "execution_count": 11
        }
      ]
    },
    {
      "cell_type": "markdown",
      "metadata": {
        "id": "RtNTKkiPl7GH"
      },
      "source": [
        "## 교육단계 Classification\n",
        "\n",
        "y_train이 분류형 [4, 1, 9, 2, 1, 3, 1, 4]"
      ]
    },
    {
      "cell_type": "markdown",
      "metadata": {
        "id": "714Y5M92mtSr"
      },
      "source": [
        "### 모델 model"
      ]
    },
    {
      "cell_type": "code",
      "metadata": {
        "id": "WIZ2m1Qvl6ze"
      },
      "source": [
        "import tensorflow as tf"
      ],
      "execution_count": 12,
      "outputs": []
    },
    {
      "cell_type": "code",
      "metadata": {
        "id": "JHLi_ZaFwWTs"
      },
      "source": [
        "model = tf.keras.models.Sequential()"
      ],
      "execution_count": 13,
      "outputs": []
    },
    {
      "cell_type": "code",
      "metadata": {
        "colab": {
          "base_uri": "https://localhost:8080/"
        },
        "id": "ggrfrUTVwPsb",
        "outputId": "7a4beb9b-5db5-40f2-96c2-707999fa0b80"
      },
      "source": [
        "model.add(tf.keras.Input(shape=(784))) "
      ],
      "execution_count": 14,
      "outputs": [
        {
          "output_type": "stream",
          "text": [
            "WARNING:tensorflow:Please add `keras.layers.InputLayer` instead of `keras.Input` to Sequential model. `keras.Input` is intended to be used by Functional model.\n"
          ],
          "name": "stdout"
        }
      ]
    },
    {
      "cell_type": "code",
      "metadata": {
        "id": "JfNHe7OcwPiC"
      },
      "source": [
        "model.add(tf.keras.layers.Dense(64, activation='relu'))\n",
        "model.add(tf.keras.layers.Dense(64, activation='relu'))"
      ],
      "execution_count": 15,
      "outputs": []
    },
    {
      "cell_type": "markdown",
      "metadata": {
        "id": "3Hgo7DTe1wQC"
      },
      "source": [
        "*  output layer 의 activation 공식\n",
        "\n",
        "  unique가 3개 이상 일때는 activation은 softmax를 쓴다\n",
        "\n",
        "  긍정과 부정 처럼 분류가 2개일(2진) 경우는 binary 라고 하는데 이때는 activation을 sigmoid를 쓴다"
      ]
    },
    {
      "cell_type": "code",
      "metadata": {
        "id": "06lBy4ImwPWK"
      },
      "source": [
        "model.add(tf.keras.layers.Dense(10,activation='softmax')) "
      ],
      "execution_count": 18,
      "outputs": []
    },
    {
      "cell_type": "markdown",
      "metadata": {
        "id": "dDqFK7dMB_2c"
      },
      "source": [
        "* [loss율 공식](https://www.tensorflow.org/api_docs/python/tf/keras/losses)\n",
        "\n",
        "연속형의 측정값 mae(절대값)\n",
        "\n",
        "```\n",
        "loss = mean(abs(y_true - y_pred), axis=-1)\n",
        "```\n",
        "\n",
        "regression 일때는 mse (오차값)\n",
        "\n",
        "```\n",
        "loss = mean(square(y_true - y_pred), axis=-1)\n",
        "```\n",
        "\n",
        "classification 일때는 categorical_crossentropy\n",
        "\n",
        "(activation = softmax)\n",
        "\n",
        "```\n",
        "tf.keras.metrics.categorical_crossentropy(\n",
        "    y_true, y_pred, from_logits=False, label_smoothing=0\n",
        ")\n",
        "```\n",
        "\n",
        "sparse_categorical_crossentropy\n",
        "\n",
        "원핫인코딩 하기 싫을 때 사용\n",
        "\n",
        "```\n",
        "tf.keras.metrics.sparse_categorical_crossentropy(\n",
        "    y_true, y_pred, from_logits=False, axis=-1\n",
        ")\n",
        "```\n",
        "\n",
        "binary_crossentropy\n",
        "\n",
        "(activation = sigmoid)\n",
        "\n",
        "```\n",
        "tf.keras.metrics.binary_crossentropy(\n",
        "    y_true, y_pred, from_logits=False, label_smoothing=0\n",
        ")\n",
        "```"
      ]
    },
    {
      "cell_type": "code",
      "metadata": {
        "id": "ygiqzFtex9Ms"
      },
      "source": [
        "model.compile(optimizer='adam', loss='sparse_categorical_crossentropy', metrics=['acc'])"
      ],
      "execution_count": 21,
      "outputs": []
    },
    {
      "cell_type": "markdown",
      "metadata": {
        "id": "5wmmDKXFHQf2"
      },
      "source": [
        "* optimizer "
      ]
    },
    {
      "cell_type": "markdown",
      "metadata": {
        "id": "16Y6H2JBmFjQ"
      },
      "source": [
        "### 트레이닝"
      ]
    },
    {
      "cell_type": "code",
      "metadata": {
        "colab": {
          "base_uri": "https://localhost:8080/"
        },
        "id": "_p_aKhAu_E89",
        "outputId": "5f345b99-77d2-4843-bcff-6d441a106fa5"
      },
      "source": [
        "hist = model.fit(x_train,y_train, epochs=100, validation_split=0.3)"
      ],
      "execution_count": 22,
      "outputs": [
        {
          "output_type": "stream",
          "text": [
            "Epoch 1/100\n",
            "1313/1313 [==============================] - 4s 3ms/step - loss: 7.6763 - acc: 0.8020 - val_loss: 0.6926 - val_acc: 0.8650\n",
            "Epoch 2/100\n",
            "1313/1313 [==============================] - 3s 2ms/step - loss: 0.4921 - acc: 0.8896 - val_loss: 0.4144 - val_acc: 0.9001\n",
            "Epoch 3/100\n",
            "1313/1313 [==============================] - 3s 2ms/step - loss: 0.3284 - acc: 0.9144 - val_loss: 0.3961 - val_acc: 0.9076\n",
            "Epoch 4/100\n",
            "1313/1313 [==============================] - 3s 2ms/step - loss: 0.2786 - acc: 0.9270 - val_loss: 0.3225 - val_acc: 0.9213\n",
            "Epoch 5/100\n",
            "1313/1313 [==============================] - 3s 2ms/step - loss: 0.2395 - acc: 0.9360 - val_loss: 0.3068 - val_acc: 0.9223\n",
            "Epoch 6/100\n",
            "1313/1313 [==============================] - 3s 2ms/step - loss: 0.2069 - acc: 0.9422 - val_loss: 0.2523 - val_acc: 0.9347\n",
            "Epoch 7/100\n",
            "1313/1313 [==============================] - 3s 2ms/step - loss: 0.1914 - acc: 0.9456 - val_loss: 0.2498 - val_acc: 0.9372\n",
            "Epoch 8/100\n",
            "1313/1313 [==============================] - 3s 2ms/step - loss: 0.1605 - acc: 0.9546 - val_loss: 0.2427 - val_acc: 0.9408\n",
            "Epoch 9/100\n",
            "1313/1313 [==============================] - 3s 2ms/step - loss: 0.1570 - acc: 0.9550 - val_loss: 0.2057 - val_acc: 0.9490\n",
            "Epoch 10/100\n",
            "1313/1313 [==============================] - 3s 2ms/step - loss: 0.1440 - acc: 0.9586 - val_loss: 0.2027 - val_acc: 0.9478\n",
            "Epoch 11/100\n",
            "1313/1313 [==============================] - 3s 2ms/step - loss: 0.1329 - acc: 0.9611 - val_loss: 0.1862 - val_acc: 0.9529\n",
            "Epoch 12/100\n",
            "1313/1313 [==============================] - 3s 2ms/step - loss: 0.1245 - acc: 0.9633 - val_loss: 0.2086 - val_acc: 0.9460\n",
            "Epoch 13/100\n",
            "1313/1313 [==============================] - 3s 2ms/step - loss: 0.1251 - acc: 0.9641 - val_loss: 0.1972 - val_acc: 0.9516\n",
            "Epoch 14/100\n",
            "1313/1313 [==============================] - 3s 2ms/step - loss: 0.1147 - acc: 0.9672 - val_loss: 0.2316 - val_acc: 0.9466\n",
            "Epoch 15/100\n",
            "1313/1313 [==============================] - 3s 2ms/step - loss: 0.1138 - acc: 0.9682 - val_loss: 0.2265 - val_acc: 0.9448\n",
            "Epoch 16/100\n",
            "1313/1313 [==============================] - 3s 2ms/step - loss: 0.1063 - acc: 0.9694 - val_loss: 0.2021 - val_acc: 0.9504\n",
            "Epoch 17/100\n",
            "1313/1313 [==============================] - 3s 2ms/step - loss: 0.0994 - acc: 0.9708 - val_loss: 0.2154 - val_acc: 0.9491\n",
            "Epoch 18/100\n",
            "1313/1313 [==============================] - 3s 2ms/step - loss: 0.0997 - acc: 0.9705 - val_loss: 0.2129 - val_acc: 0.9498\n",
            "Epoch 19/100\n",
            "1313/1313 [==============================] - 3s 2ms/step - loss: 0.0963 - acc: 0.9728 - val_loss: 0.2214 - val_acc: 0.9520\n",
            "Epoch 20/100\n",
            "1313/1313 [==============================] - 3s 2ms/step - loss: 0.0901 - acc: 0.9726 - val_loss: 0.2288 - val_acc: 0.9514\n",
            "Epoch 21/100\n",
            "1313/1313 [==============================] - 3s 2ms/step - loss: 0.0944 - acc: 0.9725 - val_loss: 0.2099 - val_acc: 0.9550\n",
            "Epoch 22/100\n",
            "1313/1313 [==============================] - 3s 2ms/step - loss: 0.0905 - acc: 0.9742 - val_loss: 0.2226 - val_acc: 0.9544\n",
            "Epoch 23/100\n",
            "1313/1313 [==============================] - 3s 2ms/step - loss: 0.0856 - acc: 0.9762 - val_loss: 0.1911 - val_acc: 0.9561\n",
            "Epoch 24/100\n",
            "1313/1313 [==============================] - 3s 2ms/step - loss: 0.0804 - acc: 0.9772 - val_loss: 0.2281 - val_acc: 0.9541\n",
            "Epoch 25/100\n",
            "1313/1313 [==============================] - 3s 2ms/step - loss: 0.0820 - acc: 0.9757 - val_loss: 0.2334 - val_acc: 0.9544\n",
            "Epoch 26/100\n",
            "1313/1313 [==============================] - 3s 2ms/step - loss: 0.0783 - acc: 0.9778 - val_loss: 0.2185 - val_acc: 0.9533\n",
            "Epoch 27/100\n",
            "1313/1313 [==============================] - 3s 3ms/step - loss: 0.0787 - acc: 0.9780 - val_loss: 0.2417 - val_acc: 0.9547\n",
            "Epoch 28/100\n",
            "1313/1313 [==============================] - 3s 2ms/step - loss: 0.0778 - acc: 0.9783 - val_loss: 0.2296 - val_acc: 0.9574\n",
            "Epoch 29/100\n",
            "1313/1313 [==============================] - 3s 2ms/step - loss: 0.0786 - acc: 0.9785 - val_loss: 0.2529 - val_acc: 0.9547\n",
            "Epoch 30/100\n",
            "1313/1313 [==============================] - 3s 2ms/step - loss: 0.0724 - acc: 0.9799 - val_loss: 0.2353 - val_acc: 0.9543\n",
            "Epoch 31/100\n",
            "1313/1313 [==============================] - 3s 2ms/step - loss: 0.0666 - acc: 0.9816 - val_loss: 0.2790 - val_acc: 0.9501\n",
            "Epoch 32/100\n",
            "1313/1313 [==============================] - 3s 3ms/step - loss: 0.0688 - acc: 0.9813 - val_loss: 0.2552 - val_acc: 0.9561\n",
            "Epoch 33/100\n",
            "1313/1313 [==============================] - 3s 2ms/step - loss: 0.0685 - acc: 0.9818 - val_loss: 0.2689 - val_acc: 0.9574\n",
            "Epoch 34/100\n",
            "1313/1313 [==============================] - 3s 2ms/step - loss: 0.0698 - acc: 0.9805 - val_loss: 0.2657 - val_acc: 0.9532\n",
            "Epoch 35/100\n",
            "1313/1313 [==============================] - 3s 2ms/step - loss: 0.0676 - acc: 0.9812 - val_loss: 0.2604 - val_acc: 0.9578\n",
            "Epoch 36/100\n",
            "1313/1313 [==============================] - 3s 2ms/step - loss: 0.0657 - acc: 0.9819 - val_loss: 0.2927 - val_acc: 0.9558\n",
            "Epoch 37/100\n",
            "1313/1313 [==============================] - 3s 2ms/step - loss: 0.0699 - acc: 0.9830 - val_loss: 0.3004 - val_acc: 0.9554\n",
            "Epoch 38/100\n",
            "1313/1313 [==============================] - 3s 2ms/step - loss: 0.0695 - acc: 0.9816 - val_loss: 0.2736 - val_acc: 0.9568\n",
            "Epoch 39/100\n",
            "1313/1313 [==============================] - 3s 2ms/step - loss: 0.0582 - acc: 0.9844 - val_loss: 0.2760 - val_acc: 0.9578\n",
            "Epoch 40/100\n",
            "1313/1313 [==============================] - 3s 2ms/step - loss: 0.0714 - acc: 0.9823 - val_loss: 0.2719 - val_acc: 0.9553\n",
            "Epoch 41/100\n",
            "1313/1313 [==============================] - 3s 2ms/step - loss: 0.0587 - acc: 0.9840 - val_loss: 0.2839 - val_acc: 0.9601\n",
            "Epoch 42/100\n",
            "1313/1313 [==============================] - 3s 2ms/step - loss: 0.0676 - acc: 0.9827 - val_loss: 0.3344 - val_acc: 0.9557\n",
            "Epoch 43/100\n",
            "1313/1313 [==============================] - 3s 2ms/step - loss: 0.0534 - acc: 0.9850 - val_loss: 0.3312 - val_acc: 0.9536\n",
            "Epoch 44/100\n",
            "1313/1313 [==============================] - 3s 2ms/step - loss: 0.0586 - acc: 0.9842 - val_loss: 0.4085 - val_acc: 0.9534\n",
            "Epoch 45/100\n",
            "1313/1313 [==============================] - 3s 2ms/step - loss: 0.0596 - acc: 0.9850 - val_loss: 0.3194 - val_acc: 0.9552\n",
            "Epoch 46/100\n",
            "1313/1313 [==============================] - 3s 2ms/step - loss: 0.0558 - acc: 0.9855 - val_loss: 0.3134 - val_acc: 0.9609\n",
            "Epoch 47/100\n",
            "1313/1313 [==============================] - 3s 2ms/step - loss: 0.0558 - acc: 0.9858 - val_loss: 0.3809 - val_acc: 0.9533\n",
            "Epoch 48/100\n",
            "1313/1313 [==============================] - 3s 2ms/step - loss: 0.0658 - acc: 0.9834 - val_loss: 0.3264 - val_acc: 0.9564\n",
            "Epoch 49/100\n",
            "1313/1313 [==============================] - 3s 2ms/step - loss: 0.0495 - acc: 0.9872 - val_loss: 0.3914 - val_acc: 0.9564\n",
            "Epoch 50/100\n",
            "1313/1313 [==============================] - 3s 2ms/step - loss: 0.0616 - acc: 0.9850 - val_loss: 0.3243 - val_acc: 0.9594\n",
            "Epoch 51/100\n",
            "1313/1313 [==============================] - 3s 2ms/step - loss: 0.0661 - acc: 0.9840 - val_loss: 0.3316 - val_acc: 0.9572\n",
            "Epoch 52/100\n",
            "1313/1313 [==============================] - 3s 2ms/step - loss: 0.0510 - acc: 0.9870 - val_loss: 0.4424 - val_acc: 0.9564\n",
            "Epoch 53/100\n",
            "1313/1313 [==============================] - 3s 2ms/step - loss: 0.0577 - acc: 0.9856 - val_loss: 0.3622 - val_acc: 0.9567\n",
            "Epoch 54/100\n",
            "1313/1313 [==============================] - 3s 2ms/step - loss: 0.0529 - acc: 0.9864 - val_loss: 0.3612 - val_acc: 0.9557\n",
            "Epoch 55/100\n",
            "1313/1313 [==============================] - 3s 2ms/step - loss: 0.0553 - acc: 0.9866 - val_loss: 0.3665 - val_acc: 0.9589\n",
            "Epoch 56/100\n",
            "1313/1313 [==============================] - 3s 2ms/step - loss: 0.0539 - acc: 0.9867 - val_loss: 0.3562 - val_acc: 0.9597\n",
            "Epoch 57/100\n",
            "1313/1313 [==============================] - 3s 2ms/step - loss: 0.0628 - acc: 0.9857 - val_loss: 0.4222 - val_acc: 0.9583\n",
            "Epoch 58/100\n",
            "1313/1313 [==============================] - 3s 2ms/step - loss: 0.0509 - acc: 0.9869 - val_loss: 0.4010 - val_acc: 0.9577\n",
            "Epoch 59/100\n",
            "1313/1313 [==============================] - 3s 2ms/step - loss: 0.0493 - acc: 0.9874 - val_loss: 0.4247 - val_acc: 0.9566\n",
            "Epoch 60/100\n",
            "1313/1313 [==============================] - 3s 2ms/step - loss: 0.0563 - acc: 0.9868 - val_loss: 0.3589 - val_acc: 0.9583\n",
            "Epoch 61/100\n",
            "1313/1313 [==============================] - 3s 2ms/step - loss: 0.0516 - acc: 0.9873 - val_loss: 0.4219 - val_acc: 0.9559\n",
            "Epoch 62/100\n",
            "1313/1313 [==============================] - 3s 2ms/step - loss: 0.0483 - acc: 0.9878 - val_loss: 0.3505 - val_acc: 0.9611\n",
            "Epoch 63/100\n",
            "1313/1313 [==============================] - 3s 2ms/step - loss: 0.0506 - acc: 0.9878 - val_loss: 0.4362 - val_acc: 0.9551\n",
            "Epoch 64/100\n",
            "1313/1313 [==============================] - 3s 2ms/step - loss: 0.0472 - acc: 0.9882 - val_loss: 0.4542 - val_acc: 0.9582\n",
            "Epoch 65/100\n",
            "1313/1313 [==============================] - 3s 2ms/step - loss: 0.0458 - acc: 0.9887 - val_loss: 0.4238 - val_acc: 0.9566\n",
            "Epoch 66/100\n",
            "1313/1313 [==============================] - 3s 2ms/step - loss: 0.0538 - acc: 0.9873 - val_loss: 0.3866 - val_acc: 0.9536\n",
            "Epoch 67/100\n",
            "1313/1313 [==============================] - 3s 2ms/step - loss: 0.0463 - acc: 0.9887 - val_loss: 0.5301 - val_acc: 0.9532\n",
            "Epoch 68/100\n",
            "1313/1313 [==============================] - 3s 2ms/step - loss: 0.0565 - acc: 0.9871 - val_loss: 0.4531 - val_acc: 0.9566\n",
            "Epoch 69/100\n",
            "1313/1313 [==============================] - 3s 2ms/step - loss: 0.0459 - acc: 0.9892 - val_loss: 0.3879 - val_acc: 0.9582\n",
            "Epoch 70/100\n",
            "1313/1313 [==============================] - 3s 2ms/step - loss: 0.0566 - acc: 0.9871 - val_loss: 0.4145 - val_acc: 0.9597\n",
            "Epoch 71/100\n",
            "1313/1313 [==============================] - 3s 2ms/step - loss: 0.0520 - acc: 0.9877 - val_loss: 0.5537 - val_acc: 0.9546\n",
            "Epoch 72/100\n",
            "1313/1313 [==============================] - 3s 2ms/step - loss: 0.0465 - acc: 0.9892 - val_loss: 0.4534 - val_acc: 0.9576\n",
            "Epoch 73/100\n",
            "1313/1313 [==============================] - 3s 2ms/step - loss: 0.0495 - acc: 0.9886 - val_loss: 0.4565 - val_acc: 0.9584\n",
            "Epoch 74/100\n",
            "1313/1313 [==============================] - 3s 2ms/step - loss: 0.0499 - acc: 0.9885 - val_loss: 0.4494 - val_acc: 0.9566\n",
            "Epoch 75/100\n",
            "1313/1313 [==============================] - 3s 2ms/step - loss: 0.0514 - acc: 0.9882 - val_loss: 0.4051 - val_acc: 0.9557\n",
            "Epoch 76/100\n",
            "1313/1313 [==============================] - 3s 2ms/step - loss: 0.0501 - acc: 0.9886 - val_loss: 0.4889 - val_acc: 0.9586\n",
            "Epoch 77/100\n",
            "1313/1313 [==============================] - 3s 2ms/step - loss: 0.0535 - acc: 0.9879 - val_loss: 0.4609 - val_acc: 0.9588\n",
            "Epoch 78/100\n",
            "1313/1313 [==============================] - 3s 2ms/step - loss: 0.0428 - acc: 0.9898 - val_loss: 0.5143 - val_acc: 0.9574\n",
            "Epoch 79/100\n",
            "1313/1313 [==============================] - 3s 2ms/step - loss: 0.0514 - acc: 0.9881 - val_loss: 0.5345 - val_acc: 0.9594\n",
            "Epoch 80/100\n",
            "1313/1313 [==============================] - 3s 2ms/step - loss: 0.0533 - acc: 0.9876 - val_loss: 0.5199 - val_acc: 0.9602\n",
            "Epoch 81/100\n",
            "1313/1313 [==============================] - 3s 2ms/step - loss: 0.0584 - acc: 0.9872 - val_loss: 0.4566 - val_acc: 0.9579\n",
            "Epoch 82/100\n",
            "1313/1313 [==============================] - 3s 2ms/step - loss: 0.0485 - acc: 0.9888 - val_loss: 0.5459 - val_acc: 0.9538\n",
            "Epoch 83/100\n",
            "1313/1313 [==============================] - 3s 2ms/step - loss: 0.0503 - acc: 0.9887 - val_loss: 0.5086 - val_acc: 0.9591\n",
            "Epoch 84/100\n",
            "1313/1313 [==============================] - 3s 2ms/step - loss: 0.0502 - acc: 0.9890 - val_loss: 0.4855 - val_acc: 0.9591\n",
            "Epoch 85/100\n",
            "1313/1313 [==============================] - 3s 2ms/step - loss: 0.0358 - acc: 0.9914 - val_loss: 0.5834 - val_acc: 0.9586\n",
            "Epoch 86/100\n",
            "1313/1313 [==============================] - 3s 2ms/step - loss: 0.0488 - acc: 0.9890 - val_loss: 0.5214 - val_acc: 0.9567\n",
            "Epoch 87/100\n",
            "1313/1313 [==============================] - 3s 2ms/step - loss: 0.0489 - acc: 0.9901 - val_loss: 0.5712 - val_acc: 0.9578\n",
            "Epoch 88/100\n",
            "1313/1313 [==============================] - 3s 2ms/step - loss: 0.0550 - acc: 0.9877 - val_loss: 0.5783 - val_acc: 0.9574\n",
            "Epoch 89/100\n",
            "1313/1313 [==============================] - 3s 2ms/step - loss: 0.0498 - acc: 0.9897 - val_loss: 0.5694 - val_acc: 0.9584\n",
            "Epoch 90/100\n",
            "1313/1313 [==============================] - 3s 2ms/step - loss: 0.0436 - acc: 0.9895 - val_loss: 0.6596 - val_acc: 0.9559\n",
            "Epoch 91/100\n",
            "1313/1313 [==============================] - 3s 2ms/step - loss: 0.0515 - acc: 0.9893 - val_loss: 0.5964 - val_acc: 0.9573\n",
            "Epoch 92/100\n",
            "1313/1313 [==============================] - 3s 2ms/step - loss: 0.0470 - acc: 0.9891 - val_loss: 0.5213 - val_acc: 0.9596\n",
            "Epoch 93/100\n",
            "1313/1313 [==============================] - 3s 2ms/step - loss: 0.0351 - acc: 0.9914 - val_loss: 0.5436 - val_acc: 0.9589\n",
            "Epoch 94/100\n",
            "1313/1313 [==============================] - 3s 2ms/step - loss: 0.0476 - acc: 0.9893 - val_loss: 0.6558 - val_acc: 0.9581\n",
            "Epoch 95/100\n",
            "1313/1313 [==============================] - 3s 2ms/step - loss: 0.0547 - acc: 0.9882 - val_loss: 0.5750 - val_acc: 0.9582\n",
            "Epoch 96/100\n",
            "1313/1313 [==============================] - 3s 2ms/step - loss: 0.0463 - acc: 0.9896 - val_loss: 0.5605 - val_acc: 0.9566\n",
            "Epoch 97/100\n",
            "1313/1313 [==============================] - 3s 2ms/step - loss: 0.0549 - acc: 0.9889 - val_loss: 0.5690 - val_acc: 0.9549\n",
            "Epoch 98/100\n",
            "1313/1313 [==============================] - 3s 2ms/step - loss: 0.0490 - acc: 0.9894 - val_loss: 0.7030 - val_acc: 0.9532\n",
            "Epoch 99/100\n",
            "1313/1313 [==============================] - 3s 2ms/step - loss: 0.0501 - acc: 0.9899 - val_loss: 0.5772 - val_acc: 0.9568\n",
            "Epoch 100/100\n",
            "1313/1313 [==============================] - 3s 2ms/step - loss: 0.0434 - acc: 0.9902 - val_loss: 0.6538 - val_acc: 0.9539\n"
          ],
          "name": "stdout"
        }
      ]
    },
    {
      "cell_type": "markdown",
      "metadata": {
        "id": "xtsLwvcSKquS"
      },
      "source": [
        "### 검증 Evaluation"
      ]
    },
    {
      "cell_type": "code",
      "metadata": {
        "colab": {
          "base_uri": "https://localhost:8080/"
        },
        "id": "ZxL6ZOyGK-kb",
        "outputId": "f9b73233-ee49-479c-cef7-d1122419bf74"
      },
      "source": [
        "hist.history.keys()"
      ],
      "execution_count": 23,
      "outputs": [
        {
          "output_type": "execute_result",
          "data": {
            "text/plain": [
              "dict_keys(['loss', 'acc', 'val_loss', 'val_acc'])"
            ]
          },
          "metadata": {
            "tags": []
          },
          "execution_count": 23
        }
      ]
    },
    {
      "cell_type": "code",
      "metadata": {
        "colab": {
          "base_uri": "https://localhost:8080/",
          "height": 268
        },
        "id": "KrbfuPHFKtMa",
        "outputId": "f52d6b2d-10e8-4a63-830f-bd17e104321c"
      },
      "source": [
        "import matplotlib.pyplot as plt\n",
        "plt.plot(hist.history['loss'])\n",
        "plt.plot(hist.history['val_loss'],'b-')\n",
        "plt.show()"
      ],
      "execution_count": 29,
      "outputs": [
        {
          "output_type": "display_data",
          "data": {
            "image/png": "[encoded data removed]",
            "text/plain": [
              "<Figure size 432x288 with 1 Axes>"
            ]
          },
          "metadata": {
            "tags": [],
            "needs_background": "light"
          }
        }
      ]
    },
    {
      "cell_type": "markdown",
      "metadata": {
        "id": "JJECxpABMI9y"
      },
      "source": [
        "어큐런시 변화체크\n",
        "\n",
        "(가로가 epochs) "
      ]
    },
    {
      "cell_type": "code",
      "metadata": {
        "colab": {
          "base_uri": "https://localhost:8080/",
          "height": 268
        },
        "id": "ZLpQZn4pMHXr",
        "outputId": "50eea64b-5cf8-4592-e0ef-2356522c3a84"
      },
      "source": [
        "plt.plot(hist.history['acc'])\n",
        "plt.plot(hist.history['val_acc'],'r-')\n",
        "plt.show()"
      ],
      "execution_count": 30,
      "outputs": [
        {
          "output_type": "display_data",
          "data": {
            "image/png": "[encoded data removed]",
            "text/plain": [
              "<Figure size 432x288 with 1 Axes>"
            ]
          },
          "metadata": {
            "tags": [],
            "needs_background": "light"
          }
        }
      ]
    },
    {
      "cell_type": "markdown",
      "metadata": {
        "id": "w04ETTM3mAoG"
      },
      "source": [
        "## 서비스단계"
      ]
    },
    {
      "cell_type": "code",
      "metadata": {
        "colab": {
          "base_uri": "https://localhost:8080/"
        },
        "id": "r5gLreDGmK15",
        "outputId": "87dd564a-2acc-4cc8-9bf7-9d02206d189d"
      },
      "source": [
        "y_test[30]"
      ],
      "execution_count": 32,
      "outputs": [
        {
          "output_type": "execute_result",
          "data": {
            "text/plain": [
              "3"
            ]
          },
          "metadata": {
            "tags": []
          },
          "execution_count": 32
        }
      ]
    },
    {
      "cell_type": "code",
      "metadata": {
        "colab": {
          "base_uri": "https://localhost:8080/",
          "height": 134
        },
        "id": "a2-cKZvWMtI0",
        "outputId": "1f10e3e3-8ea0-4634-bb47-e118b4db46c5"
      },
      "source": [
        "\n",
        "model.predict(x_test[30])"
      ],
      "execution_count": 35,
      "outputs": [
        {
          "output_type": "error",
          "ename": "SyntaxError",
          "evalue": "ignored",
          "traceback": [
            "\u001b[0;36m  File \u001b[0;32m\"<ipython-input-35-0f53f9612327>\"\u001b[0;36m, line \u001b[0;32m2\u001b[0m\n\u001b[0;31m    model.predict(x_test])\u001b[0m\n\u001b[0m                        ^\u001b[0m\n\u001b[0;31mSyntaxError\u001b[0m\u001b[0;31m:\u001b[0m invalid syntax\n"
          ]
        }
      ]
    },
    {
      "cell_type": "code",
      "metadata": {
        "id": "ptqAnsKAM551"
      },
      "source": [
        ""
      ],
      "execution_count": null,
      "outputs": []
    }
  ]
}