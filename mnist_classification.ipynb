{
  "nbformat": 4,
  "nbformat_minor": 0,
  "metadata": {
    "colab": {
      "name": "mnist_classification.ipynb",
      "provenance": [],
      "collapsed_sections": [],
      "authorship_tag": "ABX9TyOtOOc7Dgvy5/FGUcTV96lv",
      "include_colab_link": true
    },
    "kernelspec": {
      "name": "python3",
      "display_name": "Python 3"
    },
    "language_info": {
      "name": "python"
    }
  },
  "cells": [
    {
      "cell_type": "markdown",
      "metadata": {
        "id": "view-in-github",
        "colab_type": "text"
      },
      "source": [
        "<a href=\"https://colab.research.google.com/github/ginttone/multi_deeplearning/blob/master/mnist_classification.ipynb\" target=\"_parent\"><img src=\"https://colab.research.google.com/assets/colab-badge.svg\" alt=\"Open In Colab\"/></a>"
      ]
    },
    {
      "cell_type": "markdown",
      "metadata": {
        "id": "5kDD1g0LlyJl"
      },
      "source": [
        "# Classification"
      ]
    },
    {
      "cell_type": "markdown",
      "metadata": {
        "id": "-LyUjYIUmSr0"
      },
      "source": [
        "## 차원이 있는 데이터 처리\n",
        "\n",
        "데이터 셋 : tensorflow.keras.datasets.mnist\n",
        "\n",
        "처음 이미지 사용 (손글씨를 이 방식으로 해결했다)"
      ]
    },
    {
      "cell_type": "code",
      "metadata": {
        "id": "ZUZqCVGbldw-"
      },
      "source": [
        "from tensorflow.keras.datasets.mnist import load_data"
      ],
      "execution_count": 1,
      "outputs": []
    },
    {
      "cell_type": "markdown",
      "metadata": {
        "id": "VVdd1amunUrS"
      },
      "source": [
        " 이미지는 구성이 픽셀(점)으로 이루어져있다.\n",
        "\n",
        " mnist 흰색과 검은색으로 구성.(검은배경, 흰숫자)\n",
        "\n",
        " x_train (60000, 28, 28) 은 (행, 열, 깊이)\n",
        "\n",
        " y_train (60000,) 해당부분의 y의 값"
      ]
    },
    {
      "cell_type": "code",
      "metadata": {
        "colab": {
          "base_uri": "https://localhost:8080/"
        },
        "id": "0FCrEvTtm7hI",
        "outputId": "6011c229-d5ee-434b-9a0a-1a308321dced"
      },
      "source": [
        "(x_train, y_train),(x_test, y_test) = load_data(path='mnist.npz')\n",
        "\n",
        "x_train.shape, y_train.shape, x_test.shape, y_test.shape"
      ],
      "execution_count": 2,
      "outputs": [
        {
          "output_type": "execute_result",
          "data": {
            "text/plain": [
              "((60000, 28, 28), (60000,), (10000, 28, 28), (10000,))"
            ]
          },
          "metadata": {
            "tags": []
          },
          "execution_count": 2
        }
      ]
    },
    {
      "cell_type": "markdown",
      "metadata": {
        "id": "4Ah_vUf-sKiT"
      },
      "source": [
        "x_train 숫자 라는 것을 보여주기위한 작업( 4 번째 해당부분의 이미지)"
      ]
    },
    {
      "cell_type": "code",
      "metadata": {
        "colab": {
          "base_uri": "https://localhost:8080/"
        },
        "id": "lam-zoSosA4o",
        "outputId": "ef822cda-dfa6-4b8e-99fe-89e09dcee1f6"
      },
      "source": [
        "y_train[4], x_train[4]  "
      ],
      "execution_count": 3,
      "outputs": [
        {
          "output_type": "execute_result",
          "data": {
            "text/plain": [
              "(9, array([[  0,   0,   0,   0,   0,   0,   0,   0,   0,   0,   0,   0,   0,\n",
              "           0,   0,   0,   0,   0,   0,   0,   0,   0,   0,   0,   0,   0,\n",
              "           0,   0],\n",
              "        [  0,   0,   0,   0,   0,   0,   0,   0,   0,   0,   0,   0,   0,\n",
              "           0,   0,   0,   0,   0,   0,   0,   0,   0,   0,   0,   0,   0,\n",
              "           0,   0],\n",
              "        [  0,   0,   0,   0,   0,   0,   0,   0,   0,   0,   0,   0,   0,\n",
              "           0,   0,   0,   0,   0,   0,   0,   0,   0,   0,   0,   0,   0,\n",
              "           0,   0],\n",
              "        [  0,   0,   0,   0,   0,   0,   0,   0,   0,   0,   0,   0,   0,\n",
              "           0,   0,   0,   0,   0,   0,   0,   0,   0,   0,   0,   0,   0,\n",
              "           0,   0],\n",
              "        [  0,   0,   0,   0,   0,   0,   0,   0,   0,   0,   0,   0,   0,\n",
              "           0,   0,   0,   0,   0,   0,   0,   0,   0,   0,   0,   0,   0,\n",
              "           0,   0],\n",
              "        [  0,   0,   0,   0,   0,   0,   0,   0,   0,   0,   0,   0,   0,\n",
              "           0,   0,   0,   0,   0,   0,   0,   0,   0,   0,   0,   0,   0,\n",
              "           0,   0],\n",
              "        [  0,   0,   0,   0,   0,   0,   0,   0,   0,   0,   0,   0,   0,\n",
              "           0,   0,   0,   0,   0,   0,   0,   0,   0,   0,   0,   0,   0,\n",
              "           0,   0],\n",
              "        [  0,   0,   0,   0,   0,   0,   0,   0,   0,   0,   0,   0,  55,\n",
              "         148, 210, 253, 253, 113,  87, 148,  55,   0,   0,   0,   0,   0,\n",
              "           0,   0],\n",
              "        [  0,   0,   0,   0,   0,   0,   0,   0,   0,   0,   0,  87, 232,\n",
              "         252, 253, 189, 210, 252, 252, 253, 168,   0,   0,   0,   0,   0,\n",
              "           0,   0],\n",
              "        [  0,   0,   0,   0,   0,   0,   0,   0,   0,   4,  57, 242, 252,\n",
              "         190,  65,   5,  12, 182, 252, 253, 116,   0,   0,   0,   0,   0,\n",
              "           0,   0],\n",
              "        [  0,   0,   0,   0,   0,   0,   0,   0,   0,  96, 252, 252, 183,\n",
              "          14,   0,   0,  92, 252, 252, 225,  21,   0,   0,   0,   0,   0,\n",
              "           0,   0],\n",
              "        [  0,   0,   0,   0,   0,   0,   0,   0, 132, 253, 252, 146,  14,\n",
              "           0,   0,   0, 215, 252, 252,  79,   0,   0,   0,   0,   0,   0,\n",
              "           0,   0],\n",
              "        [  0,   0,   0,   0,   0,   0,   0, 126, 253, 247, 176,   9,   0,\n",
              "           0,   8,  78, 245, 253, 129,   0,   0,   0,   0,   0,   0,   0,\n",
              "           0,   0],\n",
              "        [  0,   0,   0,   0,   0,   0,  16, 232, 252, 176,   0,   0,   0,\n",
              "          36, 201, 252, 252, 169,  11,   0,   0,   0,   0,   0,   0,   0,\n",
              "           0,   0],\n",
              "        [  0,   0,   0,   0,   0,   0,  22, 252, 252,  30,  22, 119, 197,\n",
              "         241, 253, 252, 251,  77,   0,   0,   0,   0,   0,   0,   0,   0,\n",
              "           0,   0],\n",
              "        [  0,   0,   0,   0,   0,   0,  16, 231, 252, 253, 252, 252, 252,\n",
              "         226, 227, 252, 231,   0,   0,   0,   0,   0,   0,   0,   0,   0,\n",
              "           0,   0],\n",
              "        [  0,   0,   0,   0,   0,   0,   0,  55, 235, 253, 217, 138,  42,\n",
              "          24, 192, 252, 143,   0,   0,   0,   0,   0,   0,   0,   0,   0,\n",
              "           0,   0],\n",
              "        [  0,   0,   0,   0,   0,   0,   0,   0,   0,   0,   0,   0,   0,\n",
              "          62, 255, 253, 109,   0,   0,   0,   0,   0,   0,   0,   0,   0,\n",
              "           0,   0],\n",
              "        [  0,   0,   0,   0,   0,   0,   0,   0,   0,   0,   0,   0,   0,\n",
              "          71, 253, 252,  21,   0,   0,   0,   0,   0,   0,   0,   0,   0,\n",
              "           0,   0],\n",
              "        [  0,   0,   0,   0,   0,   0,   0,   0,   0,   0,   0,   0,   0,\n",
              "           0, 253, 252,  21,   0,   0,   0,   0,   0,   0,   0,   0,   0,\n",
              "           0,   0],\n",
              "        [  0,   0,   0,   0,   0,   0,   0,   0,   0,   0,   0,   0,   0,\n",
              "          71, 253, 252,  21,   0,   0,   0,   0,   0,   0,   0,   0,   0,\n",
              "           0,   0],\n",
              "        [  0,   0,   0,   0,   0,   0,   0,   0,   0,   0,   0,   0,   0,\n",
              "         106, 253, 252,  21,   0,   0,   0,   0,   0,   0,   0,   0,   0,\n",
              "           0,   0],\n",
              "        [  0,   0,   0,   0,   0,   0,   0,   0,   0,   0,   0,   0,   0,\n",
              "          45, 255, 253,  21,   0,   0,   0,   0,   0,   0,   0,   0,   0,\n",
              "           0,   0],\n",
              "        [  0,   0,   0,   0,   0,   0,   0,   0,   0,   0,   0,   0,   0,\n",
              "           0, 218, 252,  56,   0,   0,   0,   0,   0,   0,   0,   0,   0,\n",
              "           0,   0],\n",
              "        [  0,   0,   0,   0,   0,   0,   0,   0,   0,   0,   0,   0,   0,\n",
              "           0,  96, 252, 189,  42,   0,   0,   0,   0,   0,   0,   0,   0,\n",
              "           0,   0],\n",
              "        [  0,   0,   0,   0,   0,   0,   0,   0,   0,   0,   0,   0,   0,\n",
              "           0,  14, 184, 252, 170,  11,   0,   0,   0,   0,   0,   0,   0,\n",
              "           0,   0],\n",
              "        [  0,   0,   0,   0,   0,   0,   0,   0,   0,   0,   0,   0,   0,\n",
              "           0,   0,  14, 147, 252,  42,   0,   0,   0,   0,   0,   0,   0,\n",
              "           0,   0],\n",
              "        [  0,   0,   0,   0,   0,   0,   0,   0,   0,   0,   0,   0,   0,\n",
              "           0,   0,   0,   0,   0,   0,   0,   0,   0,   0,   0,   0,   0,\n",
              "           0,   0]], dtype=uint8))"
            ]
          },
          "metadata": {
            "tags": []
          },
          "execution_count": 3
        }
      ]
    },
    {
      "cell_type": "code",
      "metadata": {
        "colab": {
          "base_uri": "https://localhost:8080/"
        },
        "id": "lUgiDxXrssMs",
        "outputId": "ff88757f-fb57-454b-95a9-7b19c0c6452d"
      },
      "source": [
        "y_train[50000], x_train[50000]"
      ],
      "execution_count": 4,
      "outputs": [
        {
          "output_type": "execute_result",
          "data": {
            "text/plain": [
              "(3, array([[  0,   0,   0,   0,   0,   0,   0,   0,   0,   0,   0,   0,   0,\n",
              "           0,   0,   0,   0,   0,   0,   0,   0,   0,   0,   0,   0,   0,\n",
              "           0,   0],\n",
              "        [  0,   0,   0,   0,   0,   0,   0,   0,   0,   0,   0,   0,   0,\n",
              "           0,   0,   0,   0,   0,   0,   0,   0,   0,   0,   0,   0,   0,\n",
              "           0,   0],\n",
              "        [  0,   0,   0,   0,   0,   0,   0,   0,   0,   0,   0,   0,   0,\n",
              "           0,   0,   0,   0,   0,   0,   0,   0,   0,   0,   0,   0,   0,\n",
              "           0,   0],\n",
              "        [  0,   0,   0,   0,   0,   0,   0,   0,   0,   0,   0,   0,   0,\n",
              "           0,   0,   0,   0,   0,   0,   0,   0,   0,   0,   0,   0,   0,\n",
              "           0,   0],\n",
              "        [  0,   0,   0,   0,   0,   0,   0,   0,   0,   0,  47, 160, 195,\n",
              "         205,  71,  86,  13,   0,   0,   0,   0,   0,   0,   0,   0,   0,\n",
              "           0,   0],\n",
              "        [  0,   0,   0,   0,   0,   0,   0,   0,   0,  12, 238, 254, 254,\n",
              "         254, 254, 254, 227,  84,   0,   0,   0,   0,   0,   0,   0,   0,\n",
              "           0,   0],\n",
              "        [  0,   0,   0,   0,   0,   0,   0,   0,   0,  13, 196, 176, 127,\n",
              "         176, 207, 236, 245, 222,  23,   0,   0,   0,   0,   0,   0,   0,\n",
              "           0,   0],\n",
              "        [  0,   0,   0,   0,   0,   0,   0,   0,   0,   0,   0,   0,   0,\n",
              "           0,   0,  20, 137, 254,  95,   0,   0,   0,   0,   0,   0,   0,\n",
              "           0,   0],\n",
              "        [  0,   0,   0,   0,   0,   0,   0,   0,   0,   0,   0,   0,   0,\n",
              "           0,   0,   0,  78, 254, 144,   0,   0,   0,   0,   0,   0,   0,\n",
              "           0,   0],\n",
              "        [  0,   0,   0,   0,   0,   0,   0,   0,   0,   0,   0,   0,   0,\n",
              "           0,   0,  17, 200, 254, 170,   0,   0,   0,   0,   0,   0,   0,\n",
              "           0,   0],\n",
              "        [  0,   0,   0,   0,   0,   0,   0,   0,   0,   0,   0,   0,   0,\n",
              "           0,  47, 218, 254, 216,  29,   0,   0,   0,   0,   0,   0,   0,\n",
              "           0,   0],\n",
              "        [  0,   0,   0,   0,   0,   0,   0,   0,   0,   0,   0,   0,   0,\n",
              "          95, 225, 254, 245,  65,   0,   0,   0,   0,   0,   0,   0,   0,\n",
              "           0,   0],\n",
              "        [  0,   0,   0,   0,   0,   0,   0,   0,   0,   0,   0,  12, 128,\n",
              "         252, 254, 236,  40,   0,   0,   0,   0,   0,   0,   0,   0,   0,\n",
              "           0,   0],\n",
              "        [  0,   0,   0,   0,   0,   0,   0,   0,   0,   0,   0, 172, 254,\n",
              "         254, 170,  58,   0,   0,   0,   0,   0,   0,   0,   0,   0,   0,\n",
              "           0,   0],\n",
              "        [  0,   0,   0,   0,   0,   0,   0,   0,   0,   0,   0, 207, 254,\n",
              "         254,  65,   0,   0,   0,   0,   0,   0,   0,   0,   0,   0,   0,\n",
              "           0,   0],\n",
              "        [  0,   0,   0,   0,   0,   0,   0,   0,   0,   0,   0, 137, 254,\n",
              "         254, 251, 146,  26,   0,   0,   0,   0,   0,   0,   0,   0,   0,\n",
              "           0,   0],\n",
              "        [  0,   0,   0,   0,   0,   0,   0,   0,   0,   0,   0,   9, 173,\n",
              "         224, 254, 254, 230,  71,   0,   0,   0,   0,   0,   0,   0,   0,\n",
              "           0,   0],\n",
              "        [  0,   0,   0,   0,   0,   0,   0,   0,   0,   0,   0,   0,   8,\n",
              "          12, 254, 254, 254, 246, 104,   0,   0,   0,   0,   0,   0,   0,\n",
              "           0,   0],\n",
              "        [  0,   0,   0,   0,   0,   0,   0,   0,   0,   0,   0,   0,   0,\n",
              "           0,  46, 189, 254, 254, 224,   0,   0,   0,   0,   0,   0,   0,\n",
              "           0,   0],\n",
              "        [  0,   0,   0,   0,   0,   0,   0,   0,   0,  10,   0,   0,   0,\n",
              "           0,   0,  17, 175, 254, 254,  25,   0,   0,   0,   0,   0,   0,\n",
              "           0,   0],\n",
              "        [  0,   0,   0,   0,   0,   0,   0,   0,  35, 231, 156, 112,  87,\n",
              "         186, 191, 218, 254, 254, 219,   0,   0,   0,   0,   0,   0,   0,\n",
              "           0,   0],\n",
              "        [  0,   0,   0,   0,   0,   0,   0,   0, 120, 255, 254, 254, 254,\n",
              "         254, 255, 254, 254, 242,  67,   0,   0,   0,   0,   0,   0,   0,\n",
              "           0,   0],\n",
              "        [  0,   0,   0,   0,   0,   0,   0,   0, 139, 255, 254, 254, 254,\n",
              "         254, 255, 171,  46,  24,   0,   0,   0,   0,   0,   0,   0,   0,\n",
              "           0,   0],\n",
              "        [  0,   0,   0,   0,   0,   0,   0,   0,   5,  71, 164, 189, 174,\n",
              "         174,  66,   4,   0,   0,   0,   0,   0,   0,   0,   0,   0,   0,\n",
              "           0,   0],\n",
              "        [  0,   0,   0,   0,   0,   0,   0,   0,   0,   0,   0,   0,   0,\n",
              "           0,   0,   0,   0,   0,   0,   0,   0,   0,   0,   0,   0,   0,\n",
              "           0,   0],\n",
              "        [  0,   0,   0,   0,   0,   0,   0,   0,   0,   0,   0,   0,   0,\n",
              "           0,   0,   0,   0,   0,   0,   0,   0,   0,   0,   0,   0,   0,\n",
              "           0,   0],\n",
              "        [  0,   0,   0,   0,   0,   0,   0,   0,   0,   0,   0,   0,   0,\n",
              "           0,   0,   0,   0,   0,   0,   0,   0,   0,   0,   0,   0,   0,\n",
              "           0,   0],\n",
              "        [  0,   0,   0,   0,   0,   0,   0,   0,   0,   0,   0,   0,   0,\n",
              "           0,   0,   0,   0,   0,   0,   0,   0,   0,   0,   0,   0,   0,\n",
              "           0,   0]], dtype=uint8))"
            ]
          },
          "metadata": {
            "tags": []
          },
          "execution_count": 4
        }
      ]
    },
    {
      "cell_type": "code",
      "metadata": {
        "id": "6ZkFmeT5r4-N"
      },
      "source": [
        "import matplotlib.pyplot as plt"
      ],
      "execution_count": 5,
      "outputs": []
    },
    {
      "cell_type": "code",
      "metadata": {
        "colab": {
          "base_uri": "https://localhost:8080/",
          "height": 282
        },
        "id": "yfLffDLNsBWE",
        "outputId": "89a0c9e3-c7c3-4186-a8c9-470e9cdd5115"
      },
      "source": [
        "plt.imshow(x_train[4])\n",
        "print(y_train[4])"
      ],
      "execution_count": 6,
      "outputs": [
        {
          "output_type": "stream",
          "text": [
            "9\n"
          ],
          "name": "stdout"
        },
        {
          "output_type": "display_data",
          "data": {
            "image/png": "[encoded data removed]",
            "text/plain": [
              "<Figure size 432x288 with 1 Axes>"
            ]
          },
          "metadata": {
            "tags": [],
            "needs_background": "light"
          }
        }
      ]
    },
    {
      "cell_type": "code",
      "metadata": {
        "colab": {
          "base_uri": "https://localhost:8080/",
          "height": 282
        },
        "id": "A8XiI8-3tFv3",
        "outputId": "3917965b-0725-4883-8110-cac11a22640a"
      },
      "source": [
        "plt.imshow(x_train[50000])\n",
        "print(y_train[50000], type(y_train[50000]))"
      ],
      "execution_count": 7,
      "outputs": [
        {
          "output_type": "stream",
          "text": [
            "3 <class 'numpy.uint8'>\n"
          ],
          "name": "stdout"
        },
        {
          "output_type": "display_data",
          "data": {
            "image/png": "[encoded data removed]",
            "text/plain": [
              "<Figure size 432x288 with 1 Axes>"
            ]
          },
          "metadata": {
            "tags": [],
            "needs_background": "light"
          }
        }
      ]
    },
    {
      "cell_type": "markdown",
      "metadata": {
        "id": "eTCOjUaVuPZU"
      },
      "source": [
        "첫번째 단계 : 3차원(이미지 2차원데이터)를 2차원(이미지 1차원데이터)로 만든다 \n",
        "\n",
        "라쉐입에서 -1 은 한쪽 영역이 완료되면 나머지도 해준다라는 뜻\n",
        "\n",
        "x_train 과 x_test 를 255로 나눠주어야 한다\n",
        "\n",
        "`->` 0~255 은 색상을 숫자로 표현한 것이어서 나눠주어야함(색분포표)"
      ]
    },
    {
      "cell_type": "code",
      "metadata": {
        "colab": {
          "base_uri": "https://localhost:8080/"
        },
        "id": "8H0a-p-wuYlm",
        "outputId": "fa9db43f-dd10-4685-a0a0-846ff0c19891"
      },
      "source": [
        "x_train = x_train.reshape(-1,28*28)/255\n",
        "x_train.shape"
      ],
      "execution_count": 8,
      "outputs": [
        {
          "output_type": "execute_result",
          "data": {
            "text/plain": [
              "(60000, 784)"
            ]
          },
          "metadata": {
            "tags": []
          },
          "execution_count": 8
        }
      ]
    },
    {
      "cell_type": "markdown",
      "metadata": {
        "id": "h7NHHbvo0FcC"
      },
      "source": [
        "784 화소로 표현"
      ]
    },
    {
      "cell_type": "code",
      "metadata": {
        "colab": {
          "base_uri": "https://localhost:8080/"
        },
        "id": "YTH2vo-Vuzxe",
        "outputId": "d0fa583c-9d5f-440f-8582-83134dd2a3d8"
      },
      "source": [
        "x_test = x_test.reshape(-1,28*28)/255\n",
        "x_test.shape"
      ],
      "execution_count": 9,
      "outputs": [
        {
          "output_type": "execute_result",
          "data": {
            "text/plain": [
              "(10000, 784)"
            ]
          },
          "metadata": {
            "tags": []
          },
          "execution_count": 9
        }
      ]
    },
    {
      "cell_type": "code",
      "metadata": {
        "colab": {
          "base_uri": "https://localhost:8080/"
        },
        "id": "WvtfXmJ4vfaM",
        "outputId": "355be284-61f9-4b01-df9c-4d0b763f74dc"
      },
      "source": [
        "y_train[2:10], y_train.shape "
      ],
      "execution_count": 10,
      "outputs": [
        {
          "output_type": "execute_result",
          "data": {
            "text/plain": [
              "(array([4, 1, 9, 2, 1, 3, 1, 4], dtype=uint8), (60000,))"
            ]
          },
          "metadata": {
            "tags": []
          },
          "execution_count": 10
        }
      ]
    },
    {
      "cell_type": "markdown",
      "metadata": {
        "id": "JNrdIBFrxotw"
      },
      "source": [
        "y_train의 유니크값을 확인해서 모델에서 아웃풋 dense에 10을 넣어줌을 확인"
      ]
    },
    {
      "cell_type": "code",
      "metadata": {
        "colab": {
          "base_uri": "https://localhost:8080/"
        },
        "id": "tiT0HxYfxaDu",
        "outputId": "692463ba-2f07-4117-ab0e-26a9d440586a"
      },
      "source": [
        "import numpy as np\n",
        "np.unique(y_train)"
      ],
      "execution_count": 11,
      "outputs": [
        {
          "output_type": "execute_result",
          "data": {
            "text/plain": [
              "array([0, 1, 2, 3, 4, 5, 6, 7, 8, 9], dtype=uint8)"
            ]
          },
          "metadata": {
            "tags": []
          },
          "execution_count": 11
        }
      ]
    },
    {
      "cell_type": "markdown",
      "metadata": {
        "id": "RtNTKkiPl7GH"
      },
      "source": [
        "## 교육단계 Classification\n",
        "\n",
        "y_train이 분류형 [4, 1, 9, 2, 1, 3, 1, 4]"
      ]
    },
    {
      "cell_type": "markdown",
      "metadata": {
        "id": "714Y5M92mtSr"
      },
      "source": [
        "### 모델 model"
      ]
    },
    {
      "cell_type": "code",
      "metadata": {
        "id": "WIZ2m1Qvl6ze"
      },
      "source": [
        "import tensorflow as tf"
      ],
      "execution_count": 12,
      "outputs": []
    },
    {
      "cell_type": "code",
      "metadata": {
        "id": "JHLi_ZaFwWTs"
      },
      "source": [
        "model = tf.keras.models.Sequential()"
      ],
      "execution_count": 13,
      "outputs": []
    },
    {
      "cell_type": "code",
      "metadata": {
        "colab": {
          "base_uri": "https://localhost:8080/"
        },
        "id": "ggrfrUTVwPsb",
        "outputId": "aa9ec89b-090e-4148-f90c-1bfb7fdee4f8"
      },
      "source": [
        "model.add(tf.keras.Input(shape=(784))) "
      ],
      "execution_count": 14,
      "outputs": [
        {
          "output_type": "stream",
          "text": [
            "WARNING:tensorflow:Please add `keras.layers.InputLayer` instead of `keras.Input` to Sequential model. `keras.Input` is intended to be used by Functional model.\n"
          ],
          "name": "stdout"
        }
      ]
    },
    {
      "cell_type": "code",
      "metadata": {
        "id": "JfNHe7OcwPiC"
      },
      "source": [
        "model.add(tf.keras.layers.Dense(64, activation='relu'))\n",
        "model.add(tf.keras.layers.Dense(64, activation='relu'))"
      ],
      "execution_count": 15,
      "outputs": []
    },
    {
      "cell_type": "markdown",
      "metadata": {
        "id": "3Hgo7DTe1wQC"
      },
      "source": [
        "*  output layer 의 activation 공식\n",
        "\n",
        "  unique가 3개 이상 일때는 activation은 softmax를 쓴다\n",
        "\n",
        "  긍정과 부정 처럼 분류가 2개일(2진) 경우는 binary 라고 하는데 이때는 activation을 sigmoid를 쓴다"
      ]
    },
    {
      "cell_type": "code",
      "metadata": {
        "id": "06lBy4ImwPWK"
      },
      "source": [
        "model.add(tf.keras.layers.Dense(10,activation='softmax')) "
      ],
      "execution_count": 16,
      "outputs": []
    },
    {
      "cell_type": "markdown",
      "metadata": {
        "id": "dDqFK7dMB_2c"
      },
      "source": [
        "* [loss율 공식](https://www.tensorflow.org/api_docs/python/tf/keras/losses)\n",
        "\n",
        "연속형의 측정값 mae(절대값)\n",
        "\n",
        "```\n",
        "loss = mean(abs(y_true - y_pred), axis=-1)\n",
        "```\n",
        "\n",
        "regression 일때는 mse (오차값)\n",
        "\n",
        "```\n",
        "loss = mean(square(y_true - y_pred), axis=-1)\n",
        "```\n",
        "\n",
        "classification 일때는 categorical_crossentropy\n",
        "\n",
        "(activation = softmax)\n",
        "\n",
        "```\n",
        "tf.keras.metrics.categorical_crossentropy(\n",
        "    y_true, y_pred, from_logits=False, label_smoothing=0\n",
        ")\n",
        "```\n",
        "\n",
        "sparse_categorical_crossentropy\n",
        "\n",
        "원핫인코딩 하기 싫을 때 사용\n",
        "\n",
        "```\n",
        "tf.keras.metrics.sparse_categorical_crossentropy(\n",
        "    y_true, y_pred, from_logits=False, axis=-1\n",
        ")\n",
        "```\n",
        "\n",
        "binary_crossentropy\n",
        "\n",
        "(activation = sigmoid)\n",
        "\n",
        "```\n",
        "tf.keras.metrics.binary_crossentropy(\n",
        "    y_true, y_pred, from_logits=False, label_smoothing=0\n",
        ")\n",
        "```"
      ]
    },
    {
      "cell_type": "code",
      "metadata": {
        "id": "ygiqzFtex9Ms"
      },
      "source": [
        "model.compile(optimizer='adam', loss='sparse_categorical_crossentropy', metrics=['acc'])"
      ],
      "execution_count": 17,
      "outputs": []
    },
    {
      "cell_type": "markdown",
      "metadata": {
        "id": "5wmmDKXFHQf2"
      },
      "source": [
        "* optimizer "
      ]
    },
    {
      "cell_type": "markdown",
      "metadata": {
        "id": "16Y6H2JBmFjQ"
      },
      "source": [
        "### 트레이닝"
      ]
    },
    {
      "cell_type": "code",
      "metadata": {
        "colab": {
          "base_uri": "https://localhost:8080/"
        },
        "id": "_p_aKhAu_E89",
        "outputId": "e781ae91-9f88-47cb-f9ee-8bea2fcc02b4"
      },
      "source": [
        "hist = model.fit(x_train,y_train, epochs=100, validation_split=0.3)"
      ],
      "execution_count": 18,
      "outputs": [
        {
          "output_type": "stream",
          "text": [
            "Epoch 1/100\n",
            "1313/1313 [==============================] - 4s 2ms/step - loss: 0.3278 - acc: 0.9061 - val_loss: 0.1876 - val_acc: 0.9433\n",
            "Epoch 2/100\n",
            "1313/1313 [==============================] - 3s 2ms/step - loss: 0.1480 - acc: 0.9554 - val_loss: 0.1429 - val_acc: 0.9588\n",
            "Epoch 3/100\n",
            "1313/1313 [==============================] - 3s 2ms/step - loss: 0.1045 - acc: 0.9692 - val_loss: 0.1309 - val_acc: 0.9601\n",
            "Epoch 4/100\n",
            "1313/1313 [==============================] - 3s 2ms/step - loss: 0.0811 - acc: 0.9744 - val_loss: 0.1270 - val_acc: 0.9619\n",
            "Epoch 5/100\n",
            "1313/1313 [==============================] - 3s 2ms/step - loss: 0.0661 - acc: 0.9801 - val_loss: 0.1205 - val_acc: 0.9654\n",
            "Epoch 6/100\n",
            "1313/1313 [==============================] - 3s 2ms/step - loss: 0.0525 - acc: 0.9834 - val_loss: 0.1175 - val_acc: 0.9663\n",
            "Epoch 7/100\n",
            "1313/1313 [==============================] - 3s 2ms/step - loss: 0.0456 - acc: 0.9853 - val_loss: 0.1089 - val_acc: 0.9696\n",
            "Epoch 8/100\n",
            "1313/1313 [==============================] - 3s 2ms/step - loss: 0.0368 - acc: 0.9883 - val_loss: 0.1175 - val_acc: 0.9683\n",
            "Epoch 9/100\n",
            "1313/1313 [==============================] - 3s 2ms/step - loss: 0.0333 - acc: 0.9889 - val_loss: 0.1068 - val_acc: 0.9717\n",
            "Epoch 10/100\n",
            "1313/1313 [==============================] - 3s 2ms/step - loss: 0.0288 - acc: 0.9900 - val_loss: 0.1292 - val_acc: 0.9699\n",
            "Epoch 11/100\n",
            "1313/1313 [==============================] - 3s 2ms/step - loss: 0.0244 - acc: 0.9917 - val_loss: 0.1302 - val_acc: 0.9699\n",
            "Epoch 12/100\n",
            "1313/1313 [==============================] - 3s 3ms/step - loss: 0.0220 - acc: 0.9927 - val_loss: 0.1263 - val_acc: 0.9707\n",
            "Epoch 13/100\n",
            "1313/1313 [==============================] - 3s 2ms/step - loss: 0.0191 - acc: 0.9935 - val_loss: 0.1563 - val_acc: 0.9667\n",
            "Epoch 14/100\n",
            "1313/1313 [==============================] - 3s 2ms/step - loss: 0.0159 - acc: 0.9947 - val_loss: 0.1378 - val_acc: 0.9710\n",
            "Epoch 15/100\n",
            "1313/1313 [==============================] - 3s 2ms/step - loss: 0.0157 - acc: 0.9945 - val_loss: 0.1538 - val_acc: 0.9685\n",
            "Epoch 16/100\n",
            "1313/1313 [==============================] - 3s 2ms/step - loss: 0.0161 - acc: 0.9947 - val_loss: 0.1505 - val_acc: 0.9703\n",
            "Epoch 17/100\n",
            "1313/1313 [==============================] - 3s 2ms/step - loss: 0.0134 - acc: 0.9950 - val_loss: 0.1425 - val_acc: 0.9716\n",
            "Epoch 18/100\n",
            "1313/1313 [==============================] - 3s 2ms/step - loss: 0.0138 - acc: 0.9954 - val_loss: 0.1478 - val_acc: 0.9719\n",
            "Epoch 19/100\n",
            "1313/1313 [==============================] - 3s 2ms/step - loss: 0.0137 - acc: 0.9954 - val_loss: 0.1543 - val_acc: 0.9716\n",
            "Epoch 20/100\n",
            "1313/1313 [==============================] - 3s 2ms/step - loss: 0.0119 - acc: 0.9957 - val_loss: 0.1564 - val_acc: 0.9705\n",
            "Epoch 21/100\n",
            "1313/1313 [==============================] - 3s 2ms/step - loss: 0.0101 - acc: 0.9967 - val_loss: 0.1794 - val_acc: 0.9701\n",
            "Epoch 22/100\n",
            "1313/1313 [==============================] - 3s 2ms/step - loss: 0.0120 - acc: 0.9962 - val_loss: 0.1875 - val_acc: 0.9673\n",
            "Epoch 23/100\n",
            "1313/1313 [==============================] - 3s 2ms/step - loss: 0.0101 - acc: 0.9969 - val_loss: 0.1735 - val_acc: 0.9707\n",
            "Epoch 24/100\n",
            "1313/1313 [==============================] - 3s 2ms/step - loss: 0.0113 - acc: 0.9962 - val_loss: 0.1623 - val_acc: 0.9722\n",
            "Epoch 25/100\n",
            "1313/1313 [==============================] - 3s 3ms/step - loss: 0.0091 - acc: 0.9967 - val_loss: 0.1686 - val_acc: 0.9731\n",
            "Epoch 26/100\n",
            "1313/1313 [==============================] - 3s 2ms/step - loss: 0.0122 - acc: 0.9961 - val_loss: 0.1691 - val_acc: 0.9723\n",
            "Epoch 27/100\n",
            "1313/1313 [==============================] - 3s 2ms/step - loss: 0.0078 - acc: 0.9974 - val_loss: 0.1910 - val_acc: 0.9711\n",
            "Epoch 28/100\n",
            "1313/1313 [==============================] - 3s 2ms/step - loss: 0.0109 - acc: 0.9963 - val_loss: 0.1789 - val_acc: 0.9719\n",
            "Epoch 29/100\n",
            "1313/1313 [==============================] - 3s 2ms/step - loss: 0.0060 - acc: 0.9980 - val_loss: 0.1863 - val_acc: 0.9727\n",
            "Epoch 30/100\n",
            "1313/1313 [==============================] - 3s 2ms/step - loss: 0.0110 - acc: 0.9969 - val_loss: 0.2128 - val_acc: 0.9693\n",
            "Epoch 31/100\n",
            "1313/1313 [==============================] - 3s 2ms/step - loss: 0.0093 - acc: 0.9970 - val_loss: 0.1798 - val_acc: 0.9711\n",
            "Epoch 32/100\n",
            "1313/1313 [==============================] - 3s 2ms/step - loss: 0.0063 - acc: 0.9981 - val_loss: 0.2011 - val_acc: 0.9711\n",
            "Epoch 33/100\n",
            "1313/1313 [==============================] - 3s 2ms/step - loss: 0.0076 - acc: 0.9975 - val_loss: 0.1937 - val_acc: 0.9708\n",
            "Epoch 34/100\n",
            "1313/1313 [==============================] - 3s 2ms/step - loss: 0.0067 - acc: 0.9978 - val_loss: 0.2086 - val_acc: 0.9706\n",
            "Epoch 35/100\n",
            "1313/1313 [==============================] - 3s 2ms/step - loss: 0.0077 - acc: 0.9977 - val_loss: 0.1915 - val_acc: 0.9713\n",
            "Epoch 36/100\n",
            "1313/1313 [==============================] - 3s 3ms/step - loss: 0.0112 - acc: 0.9965 - val_loss: 0.2032 - val_acc: 0.9713\n",
            "Epoch 37/100\n",
            "1313/1313 [==============================] - 3s 2ms/step - loss: 0.0054 - acc: 0.9983 - val_loss: 0.2179 - val_acc: 0.9721\n",
            "Epoch 38/100\n",
            "1313/1313 [==============================] - 3s 2ms/step - loss: 0.0089 - acc: 0.9971 - val_loss: 0.2248 - val_acc: 0.9711\n",
            "Epoch 39/100\n",
            "1313/1313 [==============================] - 3s 2ms/step - loss: 0.0054 - acc: 0.9983 - val_loss: 0.2593 - val_acc: 0.9672\n",
            "Epoch 40/100\n",
            "1313/1313 [==============================] - 3s 2ms/step - loss: 0.0080 - acc: 0.9974 - val_loss: 0.2164 - val_acc: 0.9728\n",
            "Epoch 41/100\n",
            "1313/1313 [==============================] - 3s 3ms/step - loss: 0.0062 - acc: 0.9982 - val_loss: 0.2411 - val_acc: 0.9683\n",
            "Epoch 42/100\n",
            "1313/1313 [==============================] - 3s 3ms/step - loss: 0.0066 - acc: 0.9978 - val_loss: 0.2549 - val_acc: 0.9680\n",
            "Epoch 43/100\n",
            "1313/1313 [==============================] - 3s 2ms/step - loss: 0.0081 - acc: 0.9978 - val_loss: 0.2332 - val_acc: 0.9723\n",
            "Epoch 44/100\n",
            "1313/1313 [==============================] - 3s 2ms/step - loss: 0.0057 - acc: 0.9980 - val_loss: 0.2240 - val_acc: 0.9718\n",
            "Epoch 45/100\n",
            "1313/1313 [==============================] - 3s 2ms/step - loss: 0.0056 - acc: 0.9981 - val_loss: 0.2266 - val_acc: 0.9708\n",
            "Epoch 46/100\n",
            "1313/1313 [==============================] - 3s 3ms/step - loss: 0.0099 - acc: 0.9971 - val_loss: 0.2509 - val_acc: 0.9695\n",
            "Epoch 47/100\n",
            "1313/1313 [==============================] - 3s 2ms/step - loss: 0.0058 - acc: 0.9981 - val_loss: 0.2181 - val_acc: 0.9730\n",
            "Epoch 48/100\n",
            "1313/1313 [==============================] - 3s 2ms/step - loss: 0.0076 - acc: 0.9974 - val_loss: 0.2358 - val_acc: 0.9723\n",
            "Epoch 49/100\n",
            "1313/1313 [==============================] - 3s 3ms/step - loss: 0.0061 - acc: 0.9980 - val_loss: 0.2235 - val_acc: 0.9727\n",
            "Epoch 50/100\n",
            "1313/1313 [==============================] - 3s 2ms/step - loss: 0.0043 - acc: 0.9985 - val_loss: 0.2657 - val_acc: 0.9705\n",
            "Epoch 51/100\n",
            "1313/1313 [==============================] - 3s 2ms/step - loss: 0.0074 - acc: 0.9977 - val_loss: 0.2517 - val_acc: 0.9699\n",
            "Epoch 52/100\n",
            "1313/1313 [==============================] - 3s 2ms/step - loss: 0.0059 - acc: 0.9980 - val_loss: 0.2527 - val_acc: 0.9718\n",
            "Epoch 53/100\n",
            "1313/1313 [==============================] - 3s 2ms/step - loss: 0.0063 - acc: 0.9984 - val_loss: 0.2391 - val_acc: 0.9719\n",
            "Epoch 54/100\n",
            "1313/1313 [==============================] - 3s 2ms/step - loss: 0.0045 - acc: 0.9985 - val_loss: 0.2820 - val_acc: 0.9692\n",
            "Epoch 55/100\n",
            "1313/1313 [==============================] - 3s 2ms/step - loss: 0.0084 - acc: 0.9973 - val_loss: 0.2458 - val_acc: 0.9719\n",
            "Epoch 56/100\n",
            "1313/1313 [==============================] - 3s 2ms/step - loss: 0.0035 - acc: 0.9989 - val_loss: 0.2548 - val_acc: 0.9709\n",
            "Epoch 57/100\n",
            "1313/1313 [==============================] - 3s 2ms/step - loss: 0.0062 - acc: 0.9981 - val_loss: 0.2580 - val_acc: 0.9725\n",
            "Epoch 58/100\n",
            "1313/1313 [==============================] - 3s 3ms/step - loss: 0.0086 - acc: 0.9974 - val_loss: 0.2636 - val_acc: 0.9718\n",
            "Epoch 59/100\n",
            "1313/1313 [==============================] - 3s 2ms/step - loss: 0.0053 - acc: 0.9983 - val_loss: 0.2321 - val_acc: 0.9742\n",
            "Epoch 60/100\n",
            "1313/1313 [==============================] - 3s 2ms/step - loss: 0.0033 - acc: 0.9990 - val_loss: 0.2726 - val_acc: 0.9698\n",
            "Epoch 61/100\n",
            "1313/1313 [==============================] - 3s 2ms/step - loss: 0.0084 - acc: 0.9977 - val_loss: 0.2574 - val_acc: 0.9734\n",
            "Epoch 62/100\n",
            "1313/1313 [==============================] - 3s 2ms/step - loss: 0.0051 - acc: 0.9985 - val_loss: 0.3255 - val_acc: 0.9687\n",
            "Epoch 63/100\n",
            "1313/1313 [==============================] - 3s 2ms/step - loss: 0.0057 - acc: 0.9982 - val_loss: 0.2400 - val_acc: 0.9743\n",
            "Epoch 64/100\n",
            "1313/1313 [==============================] - 3s 2ms/step - loss: 0.0078 - acc: 0.9978 - val_loss: 0.2462 - val_acc: 0.9733\n",
            "Epoch 65/100\n",
            "1313/1313 [==============================] - 3s 2ms/step - loss: 0.0031 - acc: 0.9989 - val_loss: 0.2665 - val_acc: 0.9724\n",
            "Epoch 66/100\n",
            "1313/1313 [==============================] - 3s 2ms/step - loss: 0.0060 - acc: 0.9984 - val_loss: 0.2863 - val_acc: 0.9723\n",
            "Epoch 67/100\n",
            "1313/1313 [==============================] - 3s 2ms/step - loss: 0.0049 - acc: 0.9987 - val_loss: 0.3084 - val_acc: 0.9683\n",
            "Epoch 68/100\n",
            "1313/1313 [==============================] - 3s 2ms/step - loss: 0.0072 - acc: 0.9976 - val_loss: 0.2585 - val_acc: 0.9728\n",
            "Epoch 69/100\n",
            "1313/1313 [==============================] - 3s 2ms/step - loss: 0.0068 - acc: 0.9983 - val_loss: 0.3004 - val_acc: 0.9723\n",
            "Epoch 70/100\n",
            "1313/1313 [==============================] - 3s 3ms/step - loss: 0.0035 - acc: 0.9988 - val_loss: 0.2774 - val_acc: 0.9731\n",
            "Epoch 71/100\n",
            "1313/1313 [==============================] - 3s 2ms/step - loss: 0.0074 - acc: 0.9977 - val_loss: 0.2789 - val_acc: 0.9733\n",
            "Epoch 72/100\n",
            "1313/1313 [==============================] - 3s 3ms/step - loss: 0.0028 - acc: 0.9990 - val_loss: 0.3121 - val_acc: 0.9711\n",
            "Epoch 73/100\n",
            "1313/1313 [==============================] - 3s 2ms/step - loss: 0.0063 - acc: 0.9983 - val_loss: 0.3274 - val_acc: 0.9702\n",
            "Epoch 74/100\n",
            "1313/1313 [==============================] - 3s 2ms/step - loss: 0.0053 - acc: 0.9988 - val_loss: 0.3085 - val_acc: 0.9713\n",
            "Epoch 75/100\n",
            "1313/1313 [==============================] - 3s 2ms/step - loss: 0.0057 - acc: 0.9984 - val_loss: 0.3057 - val_acc: 0.9722\n",
            "Epoch 76/100\n",
            "1313/1313 [==============================] - 3s 2ms/step - loss: 0.0038 - acc: 0.9986 - val_loss: 0.2722 - val_acc: 0.9747\n",
            "Epoch 77/100\n",
            "1313/1313 [==============================] - 3s 2ms/step - loss: 0.0052 - acc: 0.9985 - val_loss: 0.3199 - val_acc: 0.9700\n",
            "Epoch 78/100\n",
            "1313/1313 [==============================] - 3s 3ms/step - loss: 0.0050 - acc: 0.9987 - val_loss: 0.2767 - val_acc: 0.9738\n",
            "Epoch 79/100\n",
            "1313/1313 [==============================] - 3s 3ms/step - loss: 0.0054 - acc: 0.9985 - val_loss: 0.3075 - val_acc: 0.9709\n",
            "Epoch 80/100\n",
            "1313/1313 [==============================] - 3s 2ms/step - loss: 0.0055 - acc: 0.9986 - val_loss: 0.2965 - val_acc: 0.9724\n",
            "Epoch 81/100\n",
            "1313/1313 [==============================] - 3s 2ms/step - loss: 0.0068 - acc: 0.9983 - val_loss: 0.3521 - val_acc: 0.9704\n",
            "Epoch 82/100\n",
            "1313/1313 [==============================] - 3s 2ms/step - loss: 0.0025 - acc: 0.9993 - val_loss: 0.2809 - val_acc: 0.9736\n",
            "Epoch 83/100\n",
            "1313/1313 [==============================] - 3s 3ms/step - loss: 0.0055 - acc: 0.9985 - val_loss: 0.3461 - val_acc: 0.9714\n",
            "Epoch 84/100\n",
            "1313/1313 [==============================] - 3s 2ms/step - loss: 0.0064 - acc: 0.9985 - val_loss: 0.3330 - val_acc: 0.9719\n",
            "Epoch 85/100\n",
            "1313/1313 [==============================] - 3s 3ms/step - loss: 0.0052 - acc: 0.9985 - val_loss: 0.3050 - val_acc: 0.9730\n",
            "Epoch 86/100\n",
            "1313/1313 [==============================] - 3s 3ms/step - loss: 0.0059 - acc: 0.9987 - val_loss: 0.3263 - val_acc: 0.9729\n",
            "Epoch 87/100\n",
            "1313/1313 [==============================] - 3s 3ms/step - loss: 0.0045 - acc: 0.9989 - val_loss: 0.3299 - val_acc: 0.9718\n",
            "Epoch 88/100\n",
            "1313/1313 [==============================] - 4s 3ms/step - loss: 0.0071 - acc: 0.9984 - val_loss: 0.2979 - val_acc: 0.9735\n",
            "Epoch 89/100\n",
            "1313/1313 [==============================] - 3s 3ms/step - loss: 0.0019 - acc: 0.9994 - val_loss: 0.3096 - val_acc: 0.9726\n",
            "Epoch 90/100\n",
            "1313/1313 [==============================] - 3s 2ms/step - loss: 0.0069 - acc: 0.9985 - val_loss: 0.3112 - val_acc: 0.9723\n",
            "Epoch 91/100\n",
            "1313/1313 [==============================] - 3s 2ms/step - loss: 0.0082 - acc: 0.9980 - val_loss: 0.3833 - val_acc: 0.9669\n",
            "Epoch 92/100\n",
            "1313/1313 [==============================] - 4s 3ms/step - loss: 0.0042 - acc: 0.9989 - val_loss: 0.3206 - val_acc: 0.9719\n",
            "Epoch 93/100\n",
            "1313/1313 [==============================] - 3s 2ms/step - loss: 0.0030 - acc: 0.9990 - val_loss: 0.3230 - val_acc: 0.9731\n",
            "Epoch 94/100\n",
            "1313/1313 [==============================] - 4s 3ms/step - loss: 0.0090 - acc: 0.9980 - val_loss: 0.3340 - val_acc: 0.9713\n",
            "Epoch 95/100\n",
            "1313/1313 [==============================] - 4s 3ms/step - loss: 0.0039 - acc: 0.9990 - val_loss: 0.3374 - val_acc: 0.9726\n",
            "Epoch 96/100\n",
            "1313/1313 [==============================] - 3s 3ms/step - loss: 0.0038 - acc: 0.9990 - val_loss: 0.3882 - val_acc: 0.9689\n",
            "Epoch 97/100\n",
            "1313/1313 [==============================] - 3s 3ms/step - loss: 0.0049 - acc: 0.9986 - val_loss: 0.3350 - val_acc: 0.9736\n",
            "Epoch 98/100\n",
            "1313/1313 [==============================] - 3s 3ms/step - loss: 0.0065 - acc: 0.9984 - val_loss: 0.3221 - val_acc: 0.9736\n",
            "Epoch 99/100\n",
            "1313/1313 [==============================] - 3s 3ms/step - loss: 0.0038 - acc: 0.9990 - val_loss: 0.3749 - val_acc: 0.9710\n",
            "Epoch 100/100\n",
            "1313/1313 [==============================] - 3s 3ms/step - loss: 0.0056 - acc: 0.9985 - val_loss: 0.3526 - val_acc: 0.9727\n"
          ],
          "name": "stdout"
        }
      ]
    },
    {
      "cell_type": "markdown",
      "metadata": {
        "id": "xtsLwvcSKquS"
      },
      "source": [
        "### 검증 Evaluation"
      ]
    },
    {
      "cell_type": "code",
      "metadata": {
        "id": "ZxL6ZOyGK-kb",
        "colab": {
          "base_uri": "https://localhost:8080/"
        },
        "outputId": "1b098256-015a-424f-a9f5-71b4d00d3936"
      },
      "source": [
        "hist.history.keys()"
      ],
      "execution_count": 19,
      "outputs": [
        {
          "output_type": "execute_result",
          "data": {
            "text/plain": [
              "dict_keys(['loss', 'acc', 'val_loss', 'val_acc'])"
            ]
          },
          "metadata": {
            "tags": []
          },
          "execution_count": 19
        }
      ]
    },
    {
      "cell_type": "code",
      "metadata": {
        "id": "KrbfuPHFKtMa",
        "colab": {
          "base_uri": "https://localhost:8080/",
          "height": 266
        },
        "outputId": "9b168515-9887-4ead-d030-7dedc650a58b"
      },
      "source": [
        "import matplotlib.pyplot as plt\n",
        "plt.plot(hist.history['loss'])\n",
        "plt.plot(hist.history['val_loss'],'b-')\n",
        "plt.show()"
      ],
      "execution_count": 20,
      "outputs": [
        {
          "output_type": "display_data",
          "data": {
            "image/png": "[encoded data removed]",
            "text/plain": [
              "<Figure size 432x288 with 1 Axes>"
            ]
          },
          "metadata": {
            "tags": [],
            "needs_background": "light"
          }
        }
      ]
    },
    {
      "cell_type": "markdown",
      "metadata": {
        "id": "JJECxpABMI9y"
      },
      "source": [
        "어큐런시 변화체크\n",
        "\n",
        "(가로가 epochs) "
      ]
    },
    {
      "cell_type": "code",
      "metadata": {
        "id": "ZLpQZn4pMHXr",
        "colab": {
          "base_uri": "https://localhost:8080/",
          "height": 265
        },
        "outputId": "40eb2119-68c5-4eaf-e064-1c0e87bd9b4f"
      },
      "source": [
        "plt.plot(hist.history['acc'])\n",
        "plt.plot(hist.history['val_acc'],'r-')\n",
        "plt.show()"
      ],
      "execution_count": 21,
      "outputs": [
        {
          "output_type": "display_data",
          "data": {
            "image/png": "[encoded data removed]",
            "text/plain": [
              "<Figure size 432x288 with 1 Axes>"
            ]
          },
          "metadata": {
            "tags": [],
            "needs_background": "light"
          }
        }
      ]
    },
    {
      "cell_type": "markdown",
      "metadata": {
        "id": "w04ETTM3mAoG"
      },
      "source": [
        "## 서비스단계"
      ]
    },
    {
      "cell_type": "markdown",
      "metadata": {
        "id": "28XpPNR8oF1B"
      },
      "source": [
        "바이너리 아닌 방식들은 해당부분을 이런식으로 확인해줘야 한다"
      ]
    },
    {
      "cell_type": "code",
      "metadata": {
        "id": "ptqAnsKAM551"
      },
      "source": [
        "import numpy as np\n",
        "np.set_printoptions(precision=8)"
      ],
      "execution_count": 22,
      "outputs": []
    },
    {
      "cell_type": "code",
      "metadata": {
        "id": "a2-cKZvWMtI0",
        "colab": {
          "base_uri": "https://localhost:8080/"
        },
        "outputId": "0721f69c-1a4b-45a6-98f3-9e8ee2c7a336"
      },
      "source": [
        "pred = model.predict(x_test[30:31])\n",
        "pred, np.argmax(pred)"
      ],
      "execution_count": 36,
      "outputs": [
        {
          "output_type": "execute_result",
          "data": {
            "text/plain": [
              "(array([[0.0000000e+00, 0.0000000e+00, 0.0000000e+00, 1.0000000e+00,\n",
              "         0.0000000e+00, 7.4884369e-28, 0.0000000e+00, 8.1782451e-32,\n",
              "         0.0000000e+00, 1.2105848e-25]], dtype=float32), 3)"
            ]
          },
          "metadata": {
            "tags": []
          },
          "execution_count": 36
        }
      ]
    },
    {
      "cell_type": "markdown",
      "metadata": {
        "id": "zn0kSir8neRp"
      },
      "source": [
        "pred에 argmax 사용"
      ]
    },
    {
      "cell_type": "code",
      "metadata": {
        "colab": {
          "base_uri": "https://localhost:8080/"
        },
        "id": "uhxrFEGrniqS",
        "outputId": "662ff997-47ed-4c20-d506-7c4167f8258c"
      },
      "source": [
        "np.argmax(pred, axis=1)"
      ],
      "execution_count": 24,
      "outputs": [
        {
          "output_type": "execute_result",
          "data": {
            "text/plain": [
              "array([3])"
            ]
          },
          "metadata": {
            "tags": []
          },
          "execution_count": 24
        }
      ]
    },
    {
      "cell_type": "code",
      "metadata": {
        "id": "r5gLreDGmK15",
        "colab": {
          "base_uri": "https://localhost:8080/"
        },
        "outputId": "3fbbfb4d-f6fa-4495-b655-2482ee5e61fe"
      },
      "source": [
        "y_test[30]"
      ],
      "execution_count": 25,
      "outputs": [
        {
          "output_type": "execute_result",
          "data": {
            "text/plain": [
              "3"
            ]
          },
          "metadata": {
            "tags": []
          },
          "execution_count": 25
        }
      ]
    },
    {
      "cell_type": "markdown",
      "metadata": {
        "id": "sRbTTslxlFSA"
      },
      "source": [
        "[argmax](https://numpy.org/doc/stable/reference/generated/numpy.argmax.html)\n",
        "\n",
        "전체 배열 중 가장 큰 값을 선택하고 그 큰 값의 배열의 위치값을 가져옴\n",
        "\n",
        "```\n",
        "a = np.arange(6).reshape(2,3) + 10\n",
        "\n",
        "np.argmax(a)\n",
        "```\n"
      ]
    },
    {
      "cell_type": "code",
      "metadata": {
        "colab": {
          "base_uri": "https://localhost:8080/"
        },
        "id": "jJLmRQ5SlBNY",
        "outputId": "689cdfe2-5195-4659-cf96-f2a6fdf4da60"
      },
      "source": [
        "a = np.arange(6).reshape(2,3) + 10\n",
        "\n",
        "print(a)"
      ],
      "execution_count": 26,
      "outputs": [
        {
          "output_type": "stream",
          "text": [
            "[[10 11 12]\n",
            " [13 14 15]]\n"
          ],
          "name": "stdout"
        }
      ]
    },
    {
      "cell_type": "code",
      "metadata": {
        "colab": {
          "base_uri": "https://localhost:8080/"
        },
        "id": "m7WjL7jElbYj",
        "outputId": "c3e191e4-ba52-40dc-b02b-47a3bd0b7d42"
      },
      "source": [
        "np.argmax(a)"
      ],
      "execution_count": 27,
      "outputs": [
        {
          "output_type": "execute_result",
          "data": {
            "text/plain": [
              "5"
            ]
          },
          "metadata": {
            "tags": []
          },
          "execution_count": 27
        }
      ]
    },
    {
      "cell_type": "markdown",
      "metadata": {
        "id": "Crg3AKOumyxs"
      },
      "source": [
        "argmax option\n",
        "\n",
        "행(option)중에서 원하는 가장 큰 위치값을 가져옴\n",
        "\n",
        "```\n",
        "a = np.arange(6).reshape(2,3) + 10\n",
        "print(a)\n",
        "np.argmax(a, axis=1)\n",
        "```"
      ]
    },
    {
      "cell_type": "code",
      "metadata": {
        "colab": {
          "base_uri": "https://localhost:8080/"
        },
        "id": "PFxIMh-BmFr4",
        "outputId": "ab54bf0b-9e83-454a-8b18-e183e492c57d"
      },
      "source": [
        "a = np.arange(6).reshape(2,3) + 10\n",
        "print(a)\n",
        "np.argmax(a, axis=1)"
      ],
      "execution_count": 28,
      "outputs": [
        {
          "output_type": "stream",
          "text": [
            "[[10 11 12]\n",
            " [13 14 15]]\n"
          ],
          "name": "stdout"
        },
        {
          "output_type": "execute_result",
          "data": {
            "text/plain": [
              "array([2, 2])"
            ]
          },
          "metadata": {
            "tags": []
          },
          "execution_count": 28
        }
      ]
    },
    {
      "cell_type": "markdown",
      "metadata": {
        "id": "kA-sR19Fm-5h"
      },
      "source": [
        "argmax option\n",
        "\n",
        "컬럼(option)중에서 원하는 가장 큰 위치값을 가져옴\n",
        "\n",
        "```\n",
        "a = np.arange(6).reshape(2,3) + 10\n",
        "print(a)\n",
        "np.argmax(a, axis=0)\n",
        "```"
      ]
    },
    {
      "cell_type": "code",
      "metadata": {
        "colab": {
          "base_uri": "https://localhost:8080/"
        },
        "id": "H37f5LNnmqFZ",
        "outputId": "5f6ae411-55db-40a0-8c59-22b295c9d73b"
      },
      "source": [
        "a = np.arange(6).reshape(2,3) + 10\n",
        "print(a)\n",
        "np.argmax(a, axis=0)"
      ],
      "execution_count": 29,
      "outputs": [
        {
          "output_type": "stream",
          "text": [
            "[[10 11 12]\n",
            " [13 14 15]]\n"
          ],
          "name": "stdout"
        },
        {
          "output_type": "execute_result",
          "data": {
            "text/plain": [
              "array([1, 1, 1])"
            ]
          },
          "metadata": {
            "tags": []
          },
          "execution_count": 29
        }
      ]
    },
    {
      "cell_type": "code",
      "metadata": {
        "colab": {
          "base_uri": "https://localhost:8080/"
        },
        "id": "HIArKVK0nFGw",
        "outputId": "9f7f844b-9789-4271-f7cb-23e924b74d6d"
      },
      "source": [
        "np.argmax(np.array([[10,11,12]]), axis=1)"
      ],
      "execution_count": 30,
      "outputs": [
        {
          "output_type": "execute_result",
          "data": {
            "text/plain": [
              "array([2])"
            ]
          },
          "metadata": {
            "tags": []
          },
          "execution_count": 30
        }
      ]
    },
    {
      "cell_type": "markdown",
      "metadata": {
        "id": "IHiQ4-W85fBJ"
      },
      "source": [
        "## 저장 및 불러오기\n"
      ]
    },
    {
      "cell_type": "markdown",
      "metadata": {
        "id": "CNXxgvZY9xyM"
      },
      "source": [
        "### 저장 save\n",
        "\n",
        "Sequential save 첫번째 방법\n",
        "\n",
        "폴더로 해서 여러가지 생긴 것"
      ]
    },
    {
      "cell_type": "code",
      "metadata": {
        "colab": {
          "base_uri": "https://localhost:8080/"
        },
        "id": "Q80vtt0RnUcq",
        "outputId": "758afbb7-f327-4e35-f674-9e844ff11a5d"
      },
      "source": [
        "model.save('./model_save')"
      ],
      "execution_count": 31,
      "outputs": [
        {
          "output_type": "stream",
          "text": [
            "INFO:tensorflow:Assets written to: ./model_save/assets\n"
          ],
          "name": "stdout"
        }
      ]
    },
    {
      "cell_type": "markdown",
      "metadata": {
        "id": "mYSSgeFg65Lq"
      },
      "source": [
        "save 두번째 방법\n",
        "\n",
        "파일 하나로 만든 것"
      ]
    },
    {
      "cell_type": "code",
      "metadata": {
        "id": "omatrYVl6iW-"
      },
      "source": [
        "model.save('./model_save01.h5')"
      ],
      "execution_count": 32,
      "outputs": []
    },
    {
      "cell_type": "markdown",
      "metadata": {
        "id": "1S4emC7-7nBr"
      },
      "source": [
        "### 불러오기 load "
      ]
    },
    {
      "cell_type": "code",
      "metadata": {
        "id": "E0vHcgLa7Cj8"
      },
      "source": [
        "model_load = tf.keras.models.load_model('./model_save01.h5')"
      ],
      "execution_count": 33,
      "outputs": []
    },
    {
      "cell_type": "code",
      "metadata": {
        "colab": {
          "base_uri": "https://localhost:8080/"
        },
        "id": "xjIsJhC-8Y-C",
        "outputId": "4afed822-98a8-459a-f453-4bce71d0250f"
      },
      "source": [
        "model_load"
      ],
      "execution_count": 34,
      "outputs": [
        {
          "output_type": "execute_result",
          "data": {
            "text/plain": [
              "<tensorflow.python.keras.engine.sequential.Sequential at 0x7f56f7038490>"
            ]
          },
          "metadata": {
            "tags": []
          },
          "execution_count": 34
        }
      ]
    },
    {
      "cell_type": "markdown",
      "metadata": {
        "id": "xR-c_wo68qqz"
      },
      "source": [
        "로드해온 값이 위 pred , pred.np.argmax(pred) 가 같은지 비교해준다(더블첵)\n",
        "\n",
        "위 pred , pred.np.argmax(pred) 결과\n",
        "```\n",
        "(array([[0.0000000e+00, 0.0000000e+00, 0.0000000e+00, 1.0000000e+00,\n",
        "         0.0000000e+00, 7.4884369e-28, 0.0000000e+00, 8.1782451e-32,\n",
        "         0.0000000e+00, 1.2105848e-25]], dtype=float32), 3)\n",
        "```"
      ]
    },
    {
      "cell_type": "code",
      "metadata": {
        "colab": {
          "base_uri": "https://localhost:8080/"
        },
        "id": "FtyRGYUU8aQZ",
        "outputId": "bf681b59-410c-4190-c011-9aa520eb34db"
      },
      "source": [
        "load_pred = model_load.predict(x_test[30:31])\n",
        "load_pred, np.argmax(load_pred)"
      ],
      "execution_count": 37,
      "outputs": [
        {
          "output_type": "execute_result",
          "data": {
            "text/plain": [
              "(array([[0.0000000e+00, 0.0000000e+00, 0.0000000e+00, 1.0000000e+00,\n",
              "         0.0000000e+00, 7.4884369e-28, 0.0000000e+00, 8.1782451e-32,\n",
              "         0.0000000e+00, 1.2105848e-25]], dtype=float32), 3)"
            ]
          },
          "metadata": {
            "tags": []
          },
          "execution_count": 37
        }
      ]
    }
  ]
}