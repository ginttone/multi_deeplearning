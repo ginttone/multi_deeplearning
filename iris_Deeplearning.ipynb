{
  "nbformat": 4,
  "nbformat_minor": 0,
  "metadata": {
    "colab": {
      "name": "iris_classification.ipynb",
      "provenance": [],
      "collapsed_sections": [],
      "authorship_tag": "ABX9TyPqUXC+B3iVCsSdmzSZIrCt",
      "include_colab_link": true
    },
    "kernelspec": {
      "name": "python3",
      "display_name": "Python 3"
    },
    "language_info": {
      "name": "python"
    }
  },
  "cells": [
    {
      "cell_type": "markdown",
      "metadata": {
        "id": "view-in-github",
        "colab_type": "text"
      },
      "source": [
        "<a href=\"https://colab.research.google.com/github/ginttone/multi_deeplearning/blob/master/iris_Deeplearning.ipynb\" target=\"_parent\"><img src=\"https://colab.research.google.com/assets/colab-badge.svg\" alt=\"Open In Colab\"/></a>"
      ]
    },
    {
      "cell_type": "markdown",
      "metadata": {
        "id": "sRFzGaELBb0e"
      },
      "source": [
        "## 데이터 가져오기(sklearn -> iris)"
      ]
    },
    {
      "cell_type": "code",
      "metadata": {
        "id": "MxNVRTdU-8_6"
      },
      "source": [
        "from sklearn import datasets"
      ],
      "execution_count": 1,
      "outputs": []
    },
    {
      "cell_type": "markdown",
      "metadata": {
        "id": "QW7IHeBx_wLt"
      },
      "source": [
        "iris 데이터가 cm로 동일하기 때문에 스케일링 할 필요 없다\n",
        "\n",
        "\n",
        "iris.feaure_names  (각 컬럼 네임)\n",
        "```\n",
        "['sepal length (cm)',\n",
        " 'sepal width (cm)',\n",
        " 'petal length (cm)',\n",
        " 'petal width (cm)']\n",
        "```\n",
        "\n",
        "iris.data와 target을 쓸거다"
      ]
    },
    {
      "cell_type": "code",
      "metadata": {
        "id": "Ncacib3q_ZAz"
      },
      "source": [
        "iris = datasets.load_iris()"
      ],
      "execution_count": 2,
      "outputs": []
    },
    {
      "cell_type": "code",
      "metadata": {
        "id": "vzNQvkJm_2mV"
      },
      "source": [
        "import pandas as pd"
      ],
      "execution_count": 3,
      "outputs": []
    },
    {
      "cell_type": "code",
      "metadata": {
        "id": "1J5ld9H-AGsi"
      },
      "source": [
        "df_iris = pd.DataFrame(iris.data)"
      ],
      "execution_count": 4,
      "outputs": []
    },
    {
      "cell_type": "code",
      "metadata": {
        "colab": {
          "base_uri": "https://localhost:8080/"
        },
        "id": "hQQMeGYEANYe",
        "outputId": "f6c2156f-5e92-4284-8767-ed7d50fedb58"
      },
      "source": [
        "df_iris.info()"
      ],
      "execution_count": 5,
      "outputs": [
        {
          "output_type": "stream",
          "text": [
            "<class 'pandas.core.frame.DataFrame'>\n",
            "RangeIndex: 150 entries, 0 to 149\n",
            "Data columns (total 4 columns):\n",
            " #   Column  Non-Null Count  Dtype  \n",
            "---  ------  --------------  -----  \n",
            " 0   0       150 non-null    float64\n",
            " 1   1       150 non-null    float64\n",
            " 2   2       150 non-null    float64\n",
            " 3   3       150 non-null    float64\n",
            "dtypes: float64(4)\n",
            "memory usage: 4.8 KB\n"
          ],
          "name": "stdout"
        }
      ]
    },
    {
      "cell_type": "markdown",
      "metadata": {
        "id": "nfC4ubHIBXoz"
      },
      "source": [
        "##  DB에 넣기"
      ]
    },
    {
      "cell_type": "code",
      "metadata": {
        "id": "2njLdTnzBAEQ"
      },
      "source": [
        "import sqlite3"
      ],
      "execution_count": 6,
      "outputs": []
    },
    {
      "cell_type": "code",
      "metadata": {
        "id": "IE2wF1wuBkX9"
      },
      "source": [
        "connect = sqlite3.connect('./db.sqlite3')"
      ],
      "execution_count": 7,
      "outputs": []
    },
    {
      "cell_type": "code",
      "metadata": {
        "id": "tblpxY3ABp2P"
      },
      "source": [
        "df_iris.to_sql('iris_resource', connect, if_exists='replace' , index=False)"
      ],
      "execution_count": 23,
      "outputs": []
    },
    {
      "cell_type": "code",
      "metadata": {
        "colab": {
          "base_uri": "https://localhost:8080/",
          "height": 172
        },
        "id": "Fzdq0n88CaQF",
        "outputId": "2936047a-65db-44b8-bad4-68ff5f235fa2"
      },
      "source": [
        "df_load = pd.read_sql_query('select * from iris_resource', connect)\n",
        "\n",
        "df_load.head(4)"
      ],
      "execution_count": 24,
      "outputs": [
        {
          "output_type": "execute_result",
          "data": {
            "text/html": [
              "<div>\n",
              "<style scoped>\n",
              "    .dataframe tbody tr th:only-of-type {\n",
              "        vertical-align: middle;\n",
              "    }\n",
              "\n",
              "    .dataframe tbody tr th {\n",
              "        vertical-align: top;\n",
              "    }\n",
              "\n",
              "    .dataframe thead th {\n",
              "        text-align: right;\n",
              "    }\n",
              "</style>\n",
              "<table border=\"1\" class=\"dataframe\">\n",
              "  <thead>\n",
              "    <tr style=\"text-align: right;\">\n",
              "      <th></th>\n",
              "      <th>0</th>\n",
              "      <th>1</th>\n",
              "      <th>2</th>\n",
              "      <th>3</th>\n",
              "    </tr>\n",
              "  </thead>\n",
              "  <tbody>\n",
              "    <tr>\n",
              "      <th>0</th>\n",
              "      <td>5.1</td>\n",
              "      <td>3.5</td>\n",
              "      <td>1.4</td>\n",
              "      <td>0.2</td>\n",
              "    </tr>\n",
              "    <tr>\n",
              "      <th>1</th>\n",
              "      <td>4.9</td>\n",
              "      <td>3.0</td>\n",
              "      <td>1.4</td>\n",
              "      <td>0.2</td>\n",
              "    </tr>\n",
              "    <tr>\n",
              "      <th>2</th>\n",
              "      <td>4.7</td>\n",
              "      <td>3.2</td>\n",
              "      <td>1.3</td>\n",
              "      <td>0.2</td>\n",
              "    </tr>\n",
              "    <tr>\n",
              "      <th>3</th>\n",
              "      <td>4.6</td>\n",
              "      <td>3.1</td>\n",
              "      <td>1.5</td>\n",
              "      <td>0.2</td>\n",
              "    </tr>\n",
              "  </tbody>\n",
              "</table>\n",
              "</div>"
            ],
            "text/plain": [
              "     0    1    2    3\n",
              "0  5.1  3.5  1.4  0.2\n",
              "1  4.9  3.0  1.4  0.2\n",
              "2  4.7  3.2  1.3  0.2\n",
              "3  4.6  3.1  1.5  0.2"
            ]
          },
          "metadata": {
            "tags": []
          },
          "execution_count": 24
        }
      ]
    },
    {
      "cell_type": "code",
      "metadata": {
        "id": "lsNomclTDDiG"
      },
      "source": [
        "x_data = df_load.to_numpy()"
      ],
      "execution_count": 25,
      "outputs": []
    },
    {
      "cell_type": "code",
      "metadata": {
        "colab": {
          "base_uri": "https://localhost:8080/"
        },
        "id": "R7NhpgQFDhpR",
        "outputId": "74ab47db-b1a7-4484-f0cb-fddb735aa75f"
      },
      "source": [
        "x_data.shape"
      ],
      "execution_count": 26,
      "outputs": [
        {
          "output_type": "execute_result",
          "data": {
            "text/plain": [
              "(150, 4)"
            ]
          },
          "metadata": {
            "tags": []
          },
          "execution_count": 26
        }
      ]
    },
    {
      "cell_type": "code",
      "metadata": {
        "id": "h-K3bqXKDkTm"
      },
      "source": [
        "y_data = iris.target"
      ],
      "execution_count": 27,
      "outputs": []
    },
    {
      "cell_type": "code",
      "metadata": {
        "colab": {
          "base_uri": "https://localhost:8080/"
        },
        "id": "0NZGeN9TDzFH",
        "outputId": "f99b0889-f8ba-4dab-d09f-f17f254b0b2d"
      },
      "source": [
        "y_data"
      ],
      "execution_count": 28,
      "outputs": [
        {
          "output_type": "execute_result",
          "data": {
            "text/plain": [
              "array([0, 0, 0, 0, 0, 0, 0, 0, 0, 0, 0, 0, 0, 0, 0, 0, 0, 0, 0, 0, 0, 0,\n",
              "       0, 0, 0, 0, 0, 0, 0, 0, 0, 0, 0, 0, 0, 0, 0, 0, 0, 0, 0, 0, 0, 0,\n",
              "       0, 0, 0, 0, 0, 0, 1, 1, 1, 1, 1, 1, 1, 1, 1, 1, 1, 1, 1, 1, 1, 1,\n",
              "       1, 1, 1, 1, 1, 1, 1, 1, 1, 1, 1, 1, 1, 1, 1, 1, 1, 1, 1, 1, 1, 1,\n",
              "       1, 1, 1, 1, 1, 1, 1, 1, 1, 1, 1, 1, 2, 2, 2, 2, 2, 2, 2, 2, 2, 2,\n",
              "       2, 2, 2, 2, 2, 2, 2, 2, 2, 2, 2, 2, 2, 2, 2, 2, 2, 2, 2, 2, 2, 2,\n",
              "       2, 2, 2, 2, 2, 2, 2, 2, 2, 2, 2, 2, 2, 2, 2, 2, 2, 2])"
            ]
          },
          "metadata": {
            "tags": []
          },
          "execution_count": 28
        }
      ]
    },
    {
      "cell_type": "code",
      "metadata": {
        "colab": {
          "base_uri": "https://localhost:8080/"
        },
        "id": "vEPtZNERVucX",
        "outputId": "0420717b-268e-40e7-ccc9-38a5f1e6bc7a"
      },
      "source": [
        "import numpy as np\n",
        "np.unique(y_data)"
      ],
      "execution_count": 29,
      "outputs": [
        {
          "output_type": "execute_result",
          "data": {
            "text/plain": [
              "array([0, 1, 2])"
            ]
          },
          "metadata": {
            "tags": []
          },
          "execution_count": 29
        }
      ]
    },
    {
      "cell_type": "markdown",
      "metadata": {
        "id": "t5v8h1Y9D9Jt"
      },
      "source": [
        "(스플릿 단계 생략)"
      ]
    },
    {
      "cell_type": "markdown",
      "metadata": {
        "id": "gxQzah0qD3c3"
      },
      "source": [
        "## 교육단계 \n",
        "\n",
        "데이터 통째로 딥러닝에 넣기"
      ]
    },
    {
      "cell_type": "markdown",
      "metadata": {
        "id": "O8Dpgsq6Ek1Q"
      },
      "source": [
        "### 모델만들기"
      ]
    },
    {
      "cell_type": "code",
      "metadata": {
        "id": "CYzekvWUDz_M"
      },
      "source": [
        "import tensorflow as tf"
      ],
      "execution_count": 30,
      "outputs": []
    },
    {
      "cell_type": "code",
      "metadata": {
        "id": "I-fqGYioEEiJ"
      },
      "source": [
        "model = tf.keras.Sequential()"
      ],
      "execution_count": 31,
      "outputs": []
    },
    {
      "cell_type": "code",
      "metadata": {
        "colab": {
          "base_uri": "https://localhost:8080/"
        },
        "id": "aVPrht-EEJJ9",
        "outputId": "6e46ae31-5c4b-432a-ac76-ea44c03d4a7b"
      },
      "source": [
        "model.add(tf.keras.Input(shape =(4,)))"
      ],
      "execution_count": 32,
      "outputs": [
        {
          "output_type": "stream",
          "text": [
            "WARNING:tensorflow:Please add `keras.layers.InputLayer` instead of `keras.Input` to Sequential model. `keras.Input` is intended to be used by Functional model.\n"
          ],
          "name": "stdout"
        }
      ]
    },
    {
      "cell_type": "code",
      "metadata": {
        "id": "EU0ceZvYEQkj"
      },
      "source": [
        "model.add(tf.keras.layers.Dense(64, activation='relu'))\n",
        "model.add(tf.keras.layers.Dense(24, activation='relu'))"
      ],
      "execution_count": 33,
      "outputs": []
    },
    {
      "cell_type": "code",
      "metadata": {
        "id": "sGx-JQW5EQUH"
      },
      "source": [
        "model.add(tf.keras.layers.Dense(3,activation='softmax'))"
      ],
      "execution_count": 34,
      "outputs": []
    },
    {
      "cell_type": "code",
      "metadata": {
        "id": "T-W8DjgHEVvD"
      },
      "source": [
        "model.compile(optimizer='adam', loss='mse', metrics=['acc'])"
      ],
      "execution_count": 35,
      "outputs": []
    },
    {
      "cell_type": "code",
      "metadata": {
        "colab": {
          "base_uri": "https://localhost:8080/"
        },
        "id": "ssGh96aUYjdi",
        "outputId": "eb5aa457-72b2-4403-9e21-78182a16c970"
      },
      "source": [
        "model.summary()"
      ],
      "execution_count": 36,
      "outputs": [
        {
          "output_type": "stream",
          "text": [
            "Model: \"sequential_1\"\n",
            "_________________________________________________________________\n",
            "Layer (type)                 Output Shape              Param #   \n",
            "=================================================================\n",
            "dense_3 (Dense)              (None, 64)                320       \n",
            "_________________________________________________________________\n",
            "dense_4 (Dense)              (None, 24)                1560      \n",
            "_________________________________________________________________\n",
            "dense_5 (Dense)              (None, 3)                 75        \n",
            "=================================================================\n",
            "Total params: 1,955\n",
            "Trainable params: 1,955\n",
            "Non-trainable params: 0\n",
            "_________________________________________________________________\n"
          ],
          "name": "stdout"
        }
      ]
    },
    {
      "cell_type": "markdown",
      "metadata": {
        "id": "uIQQH1xCEhPf"
      },
      "source": [
        "### 학습시키기\n",
        "\n",
        "validation_split 쏠림 현상이 있을 수 있으니 다른데이터랑 비교하는 것 "
      ]
    },
    {
      "cell_type": "code",
      "metadata": {
        "colab": {
          "base_uri": "https://localhost:8080/"
        },
        "id": "813a-j67Ea0N",
        "outputId": "0f7a1166-171e-489f-b25d-437aef9987f4"
      },
      "source": [
        "model.fit(x_data, y_data, epochs=50, validation_split=0.3)"
      ],
      "execution_count": 37,
      "outputs": [
        {
          "output_type": "stream",
          "text": [
            "Epoch 1/50\n",
            "4/4 [==============================] - 1s 107ms/step - loss: 0.4109 - acc: 0.5333 - val_loss: 2.7820 - val_acc: 0.0000e+00\n",
            "Epoch 2/50\n",
            "4/4 [==============================] - 0s 9ms/step - loss: 0.3990 - acc: 0.7810 - val_loss: 2.7800 - val_acc: 0.9778\n",
            "Epoch 3/50\n",
            "4/4 [==============================] - 0s 10ms/step - loss: 0.4005 - acc: 0.5143 - val_loss: 2.7818 - val_acc: 0.9778\n",
            "Epoch 4/50\n",
            "4/4 [==============================] - 0s 8ms/step - loss: 0.3999 - acc: 0.4952 - val_loss: 2.7795 - val_acc: 0.9778\n",
            "Epoch 5/50\n",
            "4/4 [==============================] - 0s 9ms/step - loss: 0.3977 - acc: 0.5048 - val_loss: 2.7783 - val_acc: 0.5778\n",
            "Epoch 6/50\n",
            "4/4 [==============================] - 0s 10ms/step - loss: 0.3972 - acc: 0.7429 - val_loss: 2.7792 - val_acc: 0.1111\n",
            "Epoch 7/50\n",
            "4/4 [==============================] - 0s 11ms/step - loss: 0.3976 - acc: 0.4857 - val_loss: 2.7787 - val_acc: 0.2222\n",
            "Epoch 8/50\n",
            "4/4 [==============================] - 0s 11ms/step - loss: 0.3973 - acc: 0.5524 - val_loss: 2.7781 - val_acc: 0.6222\n",
            "Epoch 9/50\n",
            "4/4 [==============================] - 0s 8ms/step - loss: 0.3969 - acc: 0.6667 - val_loss: 2.7786 - val_acc: 0.6444\n",
            "Epoch 10/50\n",
            "4/4 [==============================] - 0s 11ms/step - loss: 0.3971 - acc: 0.4762 - val_loss: 2.7789 - val_acc: 0.7556\n",
            "Epoch 11/50\n",
            "4/4 [==============================] - 0s 9ms/step - loss: 0.3971 - acc: 0.3905 - val_loss: 2.7786 - val_acc: 0.8222\n",
            "Epoch 12/50\n",
            "4/4 [==============================] - 0s 10ms/step - loss: 0.3969 - acc: 0.2190 - val_loss: 2.7783 - val_acc: 0.7556\n",
            "Epoch 13/50\n",
            "4/4 [==============================] - 0s 9ms/step - loss: 0.3970 - acc: 0.3619 - val_loss: 2.7781 - val_acc: 0.7333\n",
            "Epoch 14/50\n",
            "4/4 [==============================] - 0s 8ms/step - loss: 0.3970 - acc: 0.4190 - val_loss: 2.7782 - val_acc: 0.6444\n",
            "Epoch 15/50\n",
            "4/4 [==============================] - 0s 12ms/step - loss: 0.3969 - acc: 0.3905 - val_loss: 2.7783 - val_acc: 0.4222\n",
            "Epoch 16/50\n",
            "4/4 [==============================] - 0s 10ms/step - loss: 0.3969 - acc: 0.3810 - val_loss: 2.7783 - val_acc: 0.6444\n",
            "Epoch 17/50\n",
            "4/4 [==============================] - 0s 9ms/step - loss: 0.3969 - acc: 0.3333 - val_loss: 2.7782 - val_acc: 0.6667\n",
            "Epoch 18/50\n",
            "4/4 [==============================] - 0s 10ms/step - loss: 0.3969 - acc: 0.3810 - val_loss: 2.7781 - val_acc: 0.7333\n",
            "Epoch 19/50\n",
            "4/4 [==============================] - 0s 11ms/step - loss: 0.3969 - acc: 0.4190 - val_loss: 2.7781 - val_acc: 0.6667\n",
            "Epoch 20/50\n",
            "4/4 [==============================] - 0s 8ms/step - loss: 0.3969 - acc: 0.3905 - val_loss: 2.7781 - val_acc: 0.6444\n",
            "Epoch 21/50\n",
            "4/4 [==============================] - 0s 11ms/step - loss: 0.3969 - acc: 0.4476 - val_loss: 2.7781 - val_acc: 0.6444\n",
            "Epoch 22/50\n",
            "4/4 [==============================] - 0s 10ms/step - loss: 0.3969 - acc: 0.4476 - val_loss: 2.7781 - val_acc: 0.6667\n",
            "Epoch 23/50\n",
            "4/4 [==============================] - 0s 10ms/step - loss: 0.3969 - acc: 0.4476 - val_loss: 2.7782 - val_acc: 0.6667\n",
            "Epoch 24/50\n",
            "4/4 [==============================] - 0s 9ms/step - loss: 0.3969 - acc: 0.4095 - val_loss: 2.7782 - val_acc: 0.6889\n",
            "Epoch 25/50\n",
            "4/4 [==============================] - 0s 9ms/step - loss: 0.3969 - acc: 0.4095 - val_loss: 2.7781 - val_acc: 0.6667\n",
            "Epoch 26/50\n",
            "4/4 [==============================] - 0s 10ms/step - loss: 0.3969 - acc: 0.4286 - val_loss: 2.7781 - val_acc: 0.6667\n",
            "Epoch 27/50\n",
            "4/4 [==============================] - 0s 9ms/step - loss: 0.3969 - acc: 0.4476 - val_loss: 2.7781 - val_acc: 0.6667\n",
            "Epoch 28/50\n",
            "4/4 [==============================] - 0s 8ms/step - loss: 0.3969 - acc: 0.4762 - val_loss: 2.7781 - val_acc: 0.6444\n",
            "Epoch 29/50\n",
            "4/4 [==============================] - 0s 8ms/step - loss: 0.3969 - acc: 0.4952 - val_loss: 2.7781 - val_acc: 0.6444\n",
            "Epoch 30/50\n",
            "4/4 [==============================] - 0s 8ms/step - loss: 0.3969 - acc: 0.5143 - val_loss: 2.7781 - val_acc: 0.6444\n",
            "Epoch 31/50\n",
            "4/4 [==============================] - 0s 9ms/step - loss: 0.3969 - acc: 0.4857 - val_loss: 2.7781 - val_acc: 0.6667\n",
            "Epoch 32/50\n",
            "4/4 [==============================] - 0s 9ms/step - loss: 0.3969 - acc: 0.4286 - val_loss: 2.7781 - val_acc: 0.6889\n",
            "Epoch 33/50\n",
            "4/4 [==============================] - 0s 11ms/step - loss: 0.3969 - acc: 0.4190 - val_loss: 2.7781 - val_acc: 0.6889\n",
            "Epoch 34/50\n",
            "4/4 [==============================] - 0s 8ms/step - loss: 0.3969 - acc: 0.4286 - val_loss: 2.7781 - val_acc: 0.6667\n",
            "Epoch 35/50\n",
            "4/4 [==============================] - 0s 8ms/step - loss: 0.3969 - acc: 0.4476 - val_loss: 2.7781 - val_acc: 0.6667\n",
            "Epoch 36/50\n",
            "4/4 [==============================] - 0s 8ms/step - loss: 0.3969 - acc: 0.4381 - val_loss: 2.7781 - val_acc: 0.6667\n",
            "Epoch 37/50\n",
            "4/4 [==============================] - 0s 9ms/step - loss: 0.3969 - acc: 0.4571 - val_loss: 2.7781 - val_acc: 0.6667\n",
            "Epoch 38/50\n",
            "4/4 [==============================] - 0s 9ms/step - loss: 0.3969 - acc: 0.4571 - val_loss: 2.7781 - val_acc: 0.6667\n",
            "Epoch 39/50\n",
            "4/4 [==============================] - 0s 8ms/step - loss: 0.3969 - acc: 0.4667 - val_loss: 2.7781 - val_acc: 0.6667\n",
            "Epoch 40/50\n",
            "4/4 [==============================] - 0s 9ms/step - loss: 0.3969 - acc: 0.4952 - val_loss: 2.7781 - val_acc: 0.6667\n",
            "Epoch 41/50\n",
            "4/4 [==============================] - 0s 11ms/step - loss: 0.3969 - acc: 0.4667 - val_loss: 2.7781 - val_acc: 0.6667\n",
            "Epoch 42/50\n",
            "4/4 [==============================] - 0s 9ms/step - loss: 0.3969 - acc: 0.4381 - val_loss: 2.7781 - val_acc: 0.6667\n",
            "Epoch 43/50\n",
            "4/4 [==============================] - 0s 10ms/step - loss: 0.3969 - acc: 0.4381 - val_loss: 2.7781 - val_acc: 0.6667\n",
            "Epoch 44/50\n",
            "4/4 [==============================] - 0s 10ms/step - loss: 0.3969 - acc: 0.4381 - val_loss: 2.7781 - val_acc: 0.6667\n",
            "Epoch 45/50\n",
            "4/4 [==============================] - 0s 11ms/step - loss: 0.3969 - acc: 0.4476 - val_loss: 2.7781 - val_acc: 0.6667\n",
            "Epoch 46/50\n",
            "4/4 [==============================] - 0s 10ms/step - loss: 0.3969 - acc: 0.4571 - val_loss: 2.7781 - val_acc: 0.6667\n",
            "Epoch 47/50\n",
            "4/4 [==============================] - 0s 10ms/step - loss: 0.3969 - acc: 0.4857 - val_loss: 2.7781 - val_acc: 0.6667\n",
            "Epoch 48/50\n",
            "4/4 [==============================] - 0s 9ms/step - loss: 0.3969 - acc: 0.4857 - val_loss: 2.7781 - val_acc: 0.6667\n",
            "Epoch 49/50\n",
            "4/4 [==============================] - 0s 11ms/step - loss: 0.3969 - acc: 0.4571 - val_loss: 2.7781 - val_acc: 0.6667\n",
            "Epoch 50/50\n",
            "4/4 [==============================] - 0s 8ms/step - loss: 0.3969 - acc: 0.3714 - val_loss: 2.7781 - val_acc: 0.6667\n"
          ],
          "name": "stdout"
        },
        {
          "output_type": "execute_result",
          "data": {
            "text/plain": [
              "<tensorflow.python.keras.callbacks.History at 0x7feb3cd10b90>"
            ]
          },
          "metadata": {
            "tags": []
          },
          "execution_count": 37
        }
      ]
    },
    {
      "cell_type": "markdown",
      "metadata": {
        "id": "kR851xDLZxx4"
      },
      "source": [
        "### 검증"
      ]
    },
    {
      "cell_type": "code",
      "metadata": {
        "id": "dZaEFs2OZzeX",
        "colab": {
          "base_uri": "https://localhost:8080/"
        },
        "outputId": "16085188-5e84-4621-dd09-1679d76df75a"
      },
      "source": [
        "model.evaluate(x_data, y_data)"
      ],
      "execution_count": 38,
      "outputs": [
        {
          "output_type": "stream",
          "text": [
            "5/5 [==============================] - 0s 2ms/step - loss: 1.1112 - acc: 0.4667\n"
          ],
          "name": "stdout"
        },
        {
          "output_type": "execute_result",
          "data": {
            "text/plain": [
              "[1.1112420558929443, 0.46666666865348816]"
            ]
          },
          "metadata": {
            "tags": []
          },
          "execution_count": 38
        }
      ]
    },
    {
      "cell_type": "markdown",
      "metadata": {
        "id": "dxHu8iwkEbxz"
      },
      "source": [
        "## 서비스 단계"
      ]
    },
    {
      "cell_type": "code",
      "metadata": {
        "colab": {
          "base_uri": "https://localhost:8080/"
        },
        "id": "dl1FSXLnaWZN",
        "outputId": "564297ea-c75d-4a64-eb93-0f3bb7f55e81"
      },
      "source": [
        "x_data[25] , y_data[25]"
      ],
      "execution_count": 39,
      "outputs": [
        {
          "output_type": "execute_result",
          "data": {
            "text/plain": [
              "(array([5. , 3. , 1.6, 0.2]), 0)"
            ]
          },
          "metadata": {
            "tags": []
          },
          "execution_count": 39
        }
      ]
    },
    {
      "cell_type": "code",
      "metadata": {
        "colab": {
          "base_uri": "https://localhost:8080/"
        },
        "id": "xEPpQAL1EYeB",
        "outputId": "5b9282c0-a0c1-495f-9146-061a1bd78417"
      },
      "source": [
        "pred = model.predict([[5. , 3. , 1.6, 0.2]])\n",
        "pred"
      ],
      "execution_count": 40,
      "outputs": [
        {
          "output_type": "execute_result",
          "data": {
            "text/plain": [
              "array([[0.3293799 , 0.34417996, 0.32644016]], dtype=float32)"
            ]
          },
          "metadata": {
            "tags": []
          },
          "execution_count": 40
        }
      ]
    },
    {
      "cell_type": "code",
      "metadata": {
        "colab": {
          "base_uri": "https://localhost:8080/"
        },
        "id": "dby2FFZ9a6Sl",
        "outputId": "be8c68ba-0038-440d-db57-48fafe28748f"
      },
      "source": [
        "import numpy as np\n",
        "np.argmax(pred)"
      ],
      "execution_count": 41,
      "outputs": [
        {
          "output_type": "execute_result",
          "data": {
            "text/plain": [
              "1"
            ]
          },
          "metadata": {
            "tags": []
          },
          "execution_count": 41
        }
      ]
    },
    {
      "cell_type": "code",
      "metadata": {
        "id": "eA_U0ngZbCPj"
      },
      "source": [
        ""
      ],
      "execution_count": null,
      "outputs": []
    }
  ]
}