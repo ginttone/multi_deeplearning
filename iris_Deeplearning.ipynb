{
  "nbformat": 4,
  "nbformat_minor": 0,
  "metadata": {
    "colab": {
      "name": "iris_classification.ipynb",
      "provenance": [],
      "collapsed_sections": [],
      "authorship_tag": "ABX9TyNtUbleOs0Qh0vzO5UDM0Jf",
      "include_colab_link": true
    },
    "kernelspec": {
      "name": "python3",
      "display_name": "Python 3"
    },
    "language_info": {
      "name": "python"
    }
  },
  "cells": [
    {
      "cell_type": "markdown",
      "metadata": {
        "id": "view-in-github",
        "colab_type": "text"
      },
      "source": [
        "<a href=\"https://colab.research.google.com/github/ginttone/multi_deeplearning/blob/master/iris_Deeplearning.ipynb\" target=\"_parent\"><img src=\"https://colab.research.google.com/assets/colab-badge.svg\" alt=\"Open In Colab\"/></a>"
      ]
    },
    {
      "cell_type": "markdown",
      "metadata": {
        "id": "sRFzGaELBb0e"
      },
      "source": [
        "## 데이터 가져오기(sklearn -> iris)"
      ]
    },
    {
      "cell_type": "code",
      "metadata": {
        "id": "MxNVRTdU-8_6"
      },
      "source": [
        "from sklearn import datasets"
      ],
      "execution_count": 1,
      "outputs": []
    },
    {
      "cell_type": "markdown",
      "metadata": {
        "id": "QW7IHeBx_wLt"
      },
      "source": [
        "iris 데이터가 cm로 동일하기 때문에 스케일링 할 필요 없다\n",
        "\n",
        "\n",
        "iris.feaure_names  (각 컬럼 네임)\n",
        "```\n",
        "['sepal length (cm)',\n",
        " 'sepal width (cm)',\n",
        " 'petal length (cm)',\n",
        " 'petal width (cm)']\n",
        "```\n",
        "\n",
        "iris.data와 target을 쓸거다"
      ]
    },
    {
      "cell_type": "code",
      "metadata": {
        "id": "Ncacib3q_ZAz"
      },
      "source": [
        "iris = datasets.load_iris()"
      ],
      "execution_count": 2,
      "outputs": []
    },
    {
      "cell_type": "code",
      "metadata": {
        "id": "vzNQvkJm_2mV"
      },
      "source": [
        "import pandas as pd"
      ],
      "execution_count": 3,
      "outputs": []
    },
    {
      "cell_type": "code",
      "metadata": {
        "id": "1J5ld9H-AGsi"
      },
      "source": [
        "df_iris = pd.DataFrame(iris.data)"
      ],
      "execution_count": 4,
      "outputs": []
    },
    {
      "cell_type": "code",
      "metadata": {
        "colab": {
          "base_uri": "https://localhost:8080/"
        },
        "id": "hQQMeGYEANYe",
        "outputId": "7aeef466-17f4-474c-e7b8-5e68de1be465"
      },
      "source": [
        "df_iris.info()"
      ],
      "execution_count": 5,
      "outputs": [
        {
          "output_type": "stream",
          "text": [
            "<class 'pandas.core.frame.DataFrame'>\n",
            "RangeIndex: 150 entries, 0 to 149\n",
            "Data columns (total 4 columns):\n",
            " #   Column  Non-Null Count  Dtype  \n",
            "---  ------  --------------  -----  \n",
            " 0   0       150 non-null    float64\n",
            " 1   1       150 non-null    float64\n",
            " 2   2       150 non-null    float64\n",
            " 3   3       150 non-null    float64\n",
            "dtypes: float64(4)\n",
            "memory usage: 4.8 KB\n"
          ],
          "name": "stdout"
        }
      ]
    },
    {
      "cell_type": "markdown",
      "metadata": {
        "id": "nfC4ubHIBXoz"
      },
      "source": [
        "##  DB에 넣기"
      ]
    },
    {
      "cell_type": "code",
      "metadata": {
        "id": "2njLdTnzBAEQ"
      },
      "source": [
        "import sqlite3"
      ],
      "execution_count": 6,
      "outputs": []
    },
    {
      "cell_type": "code",
      "metadata": {
        "id": "IE2wF1wuBkX9"
      },
      "source": [
        "connect = sqlite3.connect('./db.sqlite3')"
      ],
      "execution_count": 7,
      "outputs": []
    },
    {
      "cell_type": "code",
      "metadata": {
        "id": "tblpxY3ABp2P"
      },
      "source": [
        "df_iris.to_sql('iris_resource', connect, if_exists='replace' , index=False)"
      ],
      "execution_count": 8,
      "outputs": []
    },
    {
      "cell_type": "code",
      "metadata": {
        "colab": {
          "base_uri": "https://localhost:8080/",
          "height": 172
        },
        "id": "Fzdq0n88CaQF",
        "outputId": "a758252f-e32e-40b5-e86c-935b065fe2d1"
      },
      "source": [
        "df_load = pd.read_sql_query('select * from iris_resource', connect)\n",
        "\n",
        "df_load.head(4)"
      ],
      "execution_count": 9,
      "outputs": [
        {
          "output_type": "execute_result",
          "data": {
            "text/html": [
              "<div>\n",
              "<style scoped>\n",
              "    .dataframe tbody tr th:only-of-type {\n",
              "        vertical-align: middle;\n",
              "    }\n",
              "\n",
              "    .dataframe tbody tr th {\n",
              "        vertical-align: top;\n",
              "    }\n",
              "\n",
              "    .dataframe thead th {\n",
              "        text-align: right;\n",
              "    }\n",
              "</style>\n",
              "<table border=\"1\" class=\"dataframe\">\n",
              "  <thead>\n",
              "    <tr style=\"text-align: right;\">\n",
              "      <th></th>\n",
              "      <th>0</th>\n",
              "      <th>1</th>\n",
              "      <th>2</th>\n",
              "      <th>3</th>\n",
              "    </tr>\n",
              "  </thead>\n",
              "  <tbody>\n",
              "    <tr>\n",
              "      <th>0</th>\n",
              "      <td>5.1</td>\n",
              "      <td>3.5</td>\n",
              "      <td>1.4</td>\n",
              "      <td>0.2</td>\n",
              "    </tr>\n",
              "    <tr>\n",
              "      <th>1</th>\n",
              "      <td>4.9</td>\n",
              "      <td>3.0</td>\n",
              "      <td>1.4</td>\n",
              "      <td>0.2</td>\n",
              "    </tr>\n",
              "    <tr>\n",
              "      <th>2</th>\n",
              "      <td>4.7</td>\n",
              "      <td>3.2</td>\n",
              "      <td>1.3</td>\n",
              "      <td>0.2</td>\n",
              "    </tr>\n",
              "    <tr>\n",
              "      <th>3</th>\n",
              "      <td>4.6</td>\n",
              "      <td>3.1</td>\n",
              "      <td>1.5</td>\n",
              "      <td>0.2</td>\n",
              "    </tr>\n",
              "  </tbody>\n",
              "</table>\n",
              "</div>"
            ],
            "text/plain": [
              "     0    1    2    3\n",
              "0  5.1  3.5  1.4  0.2\n",
              "1  4.9  3.0  1.4  0.2\n",
              "2  4.7  3.2  1.3  0.2\n",
              "3  4.6  3.1  1.5  0.2"
            ]
          },
          "metadata": {
            "tags": []
          },
          "execution_count": 9
        }
      ]
    },
    {
      "cell_type": "code",
      "metadata": {
        "id": "lsNomclTDDiG"
      },
      "source": [
        "x_data = df_load.to_numpy()"
      ],
      "execution_count": 10,
      "outputs": []
    },
    {
      "cell_type": "code",
      "metadata": {
        "colab": {
          "base_uri": "https://localhost:8080/"
        },
        "id": "R7NhpgQFDhpR",
        "outputId": "15eacb5c-0f23-4ef8-dec0-b121e00d4dbe"
      },
      "source": [
        "x_data.shape"
      ],
      "execution_count": 11,
      "outputs": [
        {
          "output_type": "execute_result",
          "data": {
            "text/plain": [
              "(150, 4)"
            ]
          },
          "metadata": {
            "tags": []
          },
          "execution_count": 11
        }
      ]
    },
    {
      "cell_type": "code",
      "metadata": {
        "id": "h-K3bqXKDkTm"
      },
      "source": [
        "y_data = iris.target"
      ],
      "execution_count": 12,
      "outputs": []
    },
    {
      "cell_type": "code",
      "metadata": {
        "colab": {
          "base_uri": "https://localhost:8080/"
        },
        "id": "0NZGeN9TDzFH",
        "outputId": "3a6f98d0-7e21-491a-a266-cadb201048a2"
      },
      "source": [
        "y_data"
      ],
      "execution_count": 13,
      "outputs": [
        {
          "output_type": "execute_result",
          "data": {
            "text/plain": [
              "array([0, 0, 0, 0, 0, 0, 0, 0, 0, 0, 0, 0, 0, 0, 0, 0, 0, 0, 0, 0, 0, 0,\n",
              "       0, 0, 0, 0, 0, 0, 0, 0, 0, 0, 0, 0, 0, 0, 0, 0, 0, 0, 0, 0, 0, 0,\n",
              "       0, 0, 0, 0, 0, 0, 1, 1, 1, 1, 1, 1, 1, 1, 1, 1, 1, 1, 1, 1, 1, 1,\n",
              "       1, 1, 1, 1, 1, 1, 1, 1, 1, 1, 1, 1, 1, 1, 1, 1, 1, 1, 1, 1, 1, 1,\n",
              "       1, 1, 1, 1, 1, 1, 1, 1, 1, 1, 1, 1, 2, 2, 2, 2, 2, 2, 2, 2, 2, 2,\n",
              "       2, 2, 2, 2, 2, 2, 2, 2, 2, 2, 2, 2, 2, 2, 2, 2, 2, 2, 2, 2, 2, 2,\n",
              "       2, 2, 2, 2, 2, 2, 2, 2, 2, 2, 2, 2, 2, 2, 2, 2, 2, 2])"
            ]
          },
          "metadata": {
            "tags": []
          },
          "execution_count": 13
        }
      ]
    },
    {
      "cell_type": "code",
      "metadata": {
        "colab": {
          "base_uri": "https://localhost:8080/"
        },
        "id": "vEPtZNERVucX",
        "outputId": "bd210728-7d5c-4c04-e6aa-43d63a7287d9"
      },
      "source": [
        "import numpy as np\n",
        "np.unique(y_data)"
      ],
      "execution_count": 14,
      "outputs": [
        {
          "output_type": "execute_result",
          "data": {
            "text/plain": [
              "array([0, 1, 2])"
            ]
          },
          "metadata": {
            "tags": []
          },
          "execution_count": 14
        }
      ]
    },
    {
      "cell_type": "markdown",
      "metadata": {
        "id": "t5v8h1Y9D9Jt"
      },
      "source": [
        "(스플릿 단계 생략)"
      ]
    },
    {
      "cell_type": "markdown",
      "metadata": {
        "id": "gxQzah0qD3c3"
      },
      "source": [
        "## 교육단계 \n",
        "\n",
        "데이터 통째로 딥러닝에 넣기"
      ]
    },
    {
      "cell_type": "markdown",
      "metadata": {
        "id": "O8Dpgsq6Ek1Q"
      },
      "source": [
        "### 모델만들기"
      ]
    },
    {
      "cell_type": "code",
      "metadata": {
        "id": "CYzekvWUDz_M"
      },
      "source": [
        "import tensorflow as tf"
      ],
      "execution_count": 15,
      "outputs": []
    },
    {
      "cell_type": "code",
      "metadata": {
        "id": "I-fqGYioEEiJ"
      },
      "source": [
        "model = tf.keras.Sequential()"
      ],
      "execution_count": 16,
      "outputs": []
    },
    {
      "cell_type": "code",
      "metadata": {
        "colab": {
          "base_uri": "https://localhost:8080/"
        },
        "id": "aVPrht-EEJJ9",
        "outputId": "848df514-af91-4c9a-d2e9-886ca12faeae"
      },
      "source": [
        "model.add(tf.keras.Input(shape =(4,)))"
      ],
      "execution_count": 17,
      "outputs": [
        {
          "output_type": "stream",
          "text": [
            "WARNING:tensorflow:Please add `keras.layers.InputLayer` instead of `keras.Input` to Sequential model. `keras.Input` is intended to be used by Functional model.\n"
          ],
          "name": "stdout"
        }
      ]
    },
    {
      "cell_type": "code",
      "metadata": {
        "id": "EU0ceZvYEQkj"
      },
      "source": [
        "model.add(tf.keras.layers.Dense(64, activation='relu'))\n",
        "model.add(tf.keras.layers.Dense(24, activation='relu'))"
      ],
      "execution_count": 18,
      "outputs": []
    },
    {
      "cell_type": "code",
      "metadata": {
        "id": "sGx-JQW5EQUH"
      },
      "source": [
        "model.add(tf.keras.layers.Dense(3,activation='softmax'))"
      ],
      "execution_count": 19,
      "outputs": []
    },
    {
      "cell_type": "code",
      "metadata": {
        "id": "T-W8DjgHEVvD"
      },
      "source": [
        "model.compile(optimizer='adam', loss='sparse_categorical_crossentropy', metrics=['acc'])"
      ],
      "execution_count": 20,
      "outputs": []
    },
    {
      "cell_type": "code",
      "metadata": {
        "colab": {
          "base_uri": "https://localhost:8080/"
        },
        "id": "ssGh96aUYjdi",
        "outputId": "82b5dcc1-5054-430a-833b-d18f7b6a4765"
      },
      "source": [
        "model.summary()"
      ],
      "execution_count": 21,
      "outputs": [
        {
          "output_type": "stream",
          "text": [
            "Model: \"sequential\"\n",
            "_________________________________________________________________\n",
            "Layer (type)                 Output Shape              Param #   \n",
            "=================================================================\n",
            "dense (Dense)                (None, 64)                320       \n",
            "_________________________________________________________________\n",
            "dense_1 (Dense)              (None, 24)                1560      \n",
            "_________________________________________________________________\n",
            "dense_2 (Dense)              (None, 3)                 75        \n",
            "=================================================================\n",
            "Total params: 1,955\n",
            "Trainable params: 1,955\n",
            "Non-trainable params: 0\n",
            "_________________________________________________________________\n"
          ],
          "name": "stdout"
        }
      ]
    },
    {
      "cell_type": "markdown",
      "metadata": {
        "id": "uIQQH1xCEhPf"
      },
      "source": [
        "### 학습시키기\n",
        "\n",
        "validation_split 쏠림 현상이 있을 수 있으니 다른데이터랑 비교하는 것 "
      ]
    },
    {
      "cell_type": "code",
      "metadata": {
        "colab": {
          "base_uri": "https://localhost:8080/"
        },
        "id": "813a-j67Ea0N",
        "outputId": "0403cc5d-ce68-4e2c-c8de-61bab83ce439"
      },
      "source": [
        "model.fit(x_data, y_data, epochs=50, validation_split=0.3)"
      ],
      "execution_count": 22,
      "outputs": [
        {
          "output_type": "stream",
          "text": [
            "Epoch 1/50\n",
            "4/4 [==============================] - 1s 58ms/step - loss: 1.4935 - acc: 0.3333 - val_loss: 1.1830 - val_acc: 0.0000e+00\n",
            "Epoch 2/50\n",
            "4/4 [==============================] - 0s 8ms/step - loss: 1.1741 - acc: 0.4762 - val_loss: 1.9564 - val_acc: 0.0000e+00\n",
            "Epoch 3/50\n",
            "4/4 [==============================] - 0s 10ms/step - loss: 0.9834 - acc: 0.4762 - val_loss: 2.4857 - val_acc: 0.0000e+00\n",
            "Epoch 4/50\n",
            "4/4 [==============================] - 0s 9ms/step - loss: 0.8641 - acc: 0.4762 - val_loss: 2.8334 - val_acc: 0.0000e+00\n",
            "Epoch 5/50\n",
            "4/4 [==============================] - 0s 8ms/step - loss: 0.7811 - acc: 0.4952 - val_loss: 2.9892 - val_acc: 0.0000e+00\n",
            "Epoch 6/50\n",
            "4/4 [==============================] - 0s 9ms/step - loss: 0.7230 - acc: 0.8667 - val_loss: 3.0450 - val_acc: 0.0000e+00\n",
            "Epoch 7/50\n",
            "4/4 [==============================] - 0s 9ms/step - loss: 0.6822 - acc: 0.9524 - val_loss: 3.0378 - val_acc: 0.0000e+00\n",
            "Epoch 8/50\n",
            "4/4 [==============================] - 0s 8ms/step - loss: 0.6487 - acc: 0.9524 - val_loss: 3.0573 - val_acc: 0.0000e+00\n",
            "Epoch 9/50\n",
            "4/4 [==============================] - 0s 8ms/step - loss: 0.6169 - acc: 0.9524 - val_loss: 3.0917 - val_acc: 0.0000e+00\n",
            "Epoch 10/50\n",
            "4/4 [==============================] - 0s 9ms/step - loss: 0.5882 - acc: 0.9524 - val_loss: 3.1399 - val_acc: 0.0000e+00\n",
            "Epoch 11/50\n",
            "4/4 [==============================] - 0s 14ms/step - loss: 0.5628 - acc: 0.9524 - val_loss: 3.2113 - val_acc: 0.0000e+00\n",
            "Epoch 12/50\n",
            "4/4 [==============================] - 0s 8ms/step - loss: 0.5394 - acc: 0.9524 - val_loss: 3.3045 - val_acc: 0.0000e+00\n",
            "Epoch 13/50\n",
            "4/4 [==============================] - 0s 11ms/step - loss: 0.5167 - acc: 0.9524 - val_loss: 3.3268 - val_acc: 0.0000e+00\n",
            "Epoch 14/50\n",
            "4/4 [==============================] - 0s 8ms/step - loss: 0.4956 - acc: 0.9524 - val_loss: 3.3536 - val_acc: 0.0000e+00\n",
            "Epoch 15/50\n",
            "4/4 [==============================] - 0s 8ms/step - loss: 0.4763 - acc: 0.9524 - val_loss: 3.4475 - val_acc: 0.0000e+00\n",
            "Epoch 16/50\n",
            "4/4 [==============================] - 0s 9ms/step - loss: 0.4568 - acc: 0.9524 - val_loss: 3.4905 - val_acc: 0.0000e+00\n",
            "Epoch 17/50\n",
            "4/4 [==============================] - 0s 9ms/step - loss: 0.4387 - acc: 0.9524 - val_loss: 3.4932 - val_acc: 0.0000e+00\n",
            "Epoch 18/50\n",
            "4/4 [==============================] - 0s 10ms/step - loss: 0.4218 - acc: 0.9524 - val_loss: 3.5022 - val_acc: 0.0000e+00\n",
            "Epoch 19/50\n",
            "4/4 [==============================] - 0s 10ms/step - loss: 0.4051 - acc: 0.9524 - val_loss: 3.4846 - val_acc: 0.0000e+00\n",
            "Epoch 20/50\n",
            "4/4 [==============================] - 0s 9ms/step - loss: 0.3894 - acc: 0.9524 - val_loss: 3.4487 - val_acc: 0.0000e+00\n",
            "Epoch 21/50\n",
            "4/4 [==============================] - 0s 8ms/step - loss: 0.3748 - acc: 0.9524 - val_loss: 3.4163 - val_acc: 0.0000e+00\n",
            "Epoch 22/50\n",
            "4/4 [==============================] - 0s 10ms/step - loss: 0.3604 - acc: 0.9524 - val_loss: 3.3361 - val_acc: 0.0000e+00\n",
            "Epoch 23/50\n",
            "4/4 [==============================] - 0s 9ms/step - loss: 0.3464 - acc: 0.9524 - val_loss: 3.2584 - val_acc: 0.0000e+00\n",
            "Epoch 24/50\n",
            "4/4 [==============================] - 0s 9ms/step - loss: 0.3333 - acc: 0.9524 - val_loss: 3.1196 - val_acc: 0.0000e+00\n",
            "Epoch 25/50\n",
            "4/4 [==============================] - 0s 8ms/step - loss: 0.3198 - acc: 0.9524 - val_loss: 2.9826 - val_acc: 0.0000e+00\n",
            "Epoch 26/50\n",
            "4/4 [==============================] - 0s 9ms/step - loss: 0.3104 - acc: 0.9524 - val_loss: 2.7211 - val_acc: 0.0000e+00\n",
            "Epoch 27/50\n",
            "4/4 [==============================] - 0s 10ms/step - loss: 0.2983 - acc: 0.9524 - val_loss: 2.6086 - val_acc: 0.0000e+00\n",
            "Epoch 28/50\n",
            "4/4 [==============================] - 0s 9ms/step - loss: 0.2874 - acc: 0.9524 - val_loss: 2.5100 - val_acc: 0.0000e+00\n",
            "Epoch 29/50\n",
            "4/4 [==============================] - 0s 10ms/step - loss: 0.2771 - acc: 0.9524 - val_loss: 2.4288 - val_acc: 0.0000e+00\n",
            "Epoch 30/50\n",
            "4/4 [==============================] - 0s 10ms/step - loss: 0.2662 - acc: 0.9524 - val_loss: 2.4862 - val_acc: 0.0000e+00\n",
            "Epoch 31/50\n",
            "4/4 [==============================] - 0s 8ms/step - loss: 0.2557 - acc: 0.9524 - val_loss: 2.5542 - val_acc: 0.0000e+00\n",
            "Epoch 32/50\n",
            "4/4 [==============================] - 0s 10ms/step - loss: 0.2467 - acc: 0.9524 - val_loss: 2.5561 - val_acc: 0.0000e+00\n",
            "Epoch 33/50\n",
            "4/4 [==============================] - 0s 9ms/step - loss: 0.2398 - acc: 0.9524 - val_loss: 2.5537 - val_acc: 0.0000e+00\n",
            "Epoch 34/50\n",
            "4/4 [==============================] - 0s 9ms/step - loss: 0.2328 - acc: 0.9524 - val_loss: 2.5536 - val_acc: 0.0000e+00\n",
            "Epoch 35/50\n",
            "4/4 [==============================] - 0s 8ms/step - loss: 0.2273 - acc: 0.9524 - val_loss: 2.5682 - val_acc: 0.0000e+00\n",
            "Epoch 36/50\n",
            "4/4 [==============================] - 0s 11ms/step - loss: 0.2228 - acc: 0.9524 - val_loss: 2.6083 - val_acc: 0.0000e+00\n",
            "Epoch 37/50\n",
            "4/4 [==============================] - 0s 9ms/step - loss: 0.2188 - acc: 0.9524 - val_loss: 2.6224 - val_acc: 0.0000e+00\n",
            "Epoch 38/50\n",
            "4/4 [==============================] - 0s 10ms/step - loss: 0.2148 - acc: 0.9524 - val_loss: 2.6531 - val_acc: 0.0000e+00\n",
            "Epoch 39/50\n",
            "4/4 [==============================] - 0s 9ms/step - loss: 0.2118 - acc: 0.9524 - val_loss: 2.6714 - val_acc: 0.0000e+00\n",
            "Epoch 40/50\n",
            "4/4 [==============================] - 0s 9ms/step - loss: 0.2089 - acc: 0.9524 - val_loss: 2.6975 - val_acc: 0.0000e+00\n",
            "Epoch 41/50\n",
            "4/4 [==============================] - 0s 14ms/step - loss: 0.2076 - acc: 0.9524 - val_loss: 2.7108 - val_acc: 0.0000e+00\n",
            "Epoch 42/50\n",
            "4/4 [==============================] - 0s 9ms/step - loss: 0.2042 - acc: 0.9524 - val_loss: 2.4503 - val_acc: 0.0000e+00\n",
            "Epoch 43/50\n",
            "4/4 [==============================] - 0s 9ms/step - loss: 0.1989 - acc: 0.9524 - val_loss: 2.3139 - val_acc: 0.0000e+00\n",
            "Epoch 44/50\n",
            "4/4 [==============================] - 0s 9ms/step - loss: 0.1997 - acc: 0.9524 - val_loss: 2.1351 - val_acc: 0.0000e+00\n",
            "Epoch 45/50\n",
            "4/4 [==============================] - 0s 12ms/step - loss: 0.1943 - acc: 0.9524 - val_loss: 2.1408 - val_acc: 0.0000e+00\n",
            "Epoch 46/50\n",
            "4/4 [==============================] - 0s 18ms/step - loss: 0.1913 - acc: 0.9524 - val_loss: 2.1667 - val_acc: 0.0000e+00\n",
            "Epoch 47/50\n",
            "4/4 [==============================] - 0s 10ms/step - loss: 0.1884 - acc: 0.9524 - val_loss: 2.1716 - val_acc: 0.0000e+00\n",
            "Epoch 48/50\n",
            "4/4 [==============================] - 0s 10ms/step - loss: 0.1858 - acc: 0.9524 - val_loss: 2.2059 - val_acc: 0.0000e+00\n",
            "Epoch 49/50\n",
            "4/4 [==============================] - 0s 9ms/step - loss: 0.1835 - acc: 0.9524 - val_loss: 2.1946 - val_acc: 0.0000e+00\n",
            "Epoch 50/50\n",
            "4/4 [==============================] - 0s 8ms/step - loss: 0.1820 - acc: 0.9524 - val_loss: 2.0734 - val_acc: 0.0000e+00\n"
          ],
          "name": "stdout"
        },
        {
          "output_type": "execute_result",
          "data": {
            "text/plain": [
              "<tensorflow.python.keras.callbacks.History at 0x7f7505aa2710>"
            ]
          },
          "metadata": {
            "tags": []
          },
          "execution_count": 22
        }
      ]
    },
    {
      "cell_type": "markdown",
      "metadata": {
        "id": "kR851xDLZxx4"
      },
      "source": [
        "### 검증"
      ]
    },
    {
      "cell_type": "code",
      "metadata": {
        "id": "dZaEFs2OZzeX",
        "colab": {
          "base_uri": "https://localhost:8080/"
        },
        "outputId": "625258e3-fa1f-4901-b9f3-88d0511303db"
      },
      "source": [
        "model.evaluate(x_data, y_data)"
      ],
      "execution_count": 23,
      "outputs": [
        {
          "output_type": "stream",
          "text": [
            "5/5 [==============================] - 0s 2ms/step - loss: 0.7479 - acc: 0.6667\n"
          ],
          "name": "stdout"
        },
        {
          "output_type": "execute_result",
          "data": {
            "text/plain": [
              "[0.747921347618103, 0.6666666865348816]"
            ]
          },
          "metadata": {
            "tags": []
          },
          "execution_count": 23
        }
      ]
    },
    {
      "cell_type": "markdown",
      "metadata": {
        "id": "dxHu8iwkEbxz"
      },
      "source": [
        "## 서비스 단계"
      ]
    },
    {
      "cell_type": "code",
      "metadata": {
        "colab": {
          "base_uri": "https://localhost:8080/"
        },
        "id": "dl1FSXLnaWZN",
        "outputId": "5ea188e0-4493-49dd-cb8e-00b22e66d48f"
      },
      "source": [
        "x_data[25] , y_data[25]"
      ],
      "execution_count": 24,
      "outputs": [
        {
          "output_type": "execute_result",
          "data": {
            "text/plain": [
              "(array([5. , 3. , 1.6, 0.2]), 0)"
            ]
          },
          "metadata": {
            "tags": []
          },
          "execution_count": 24
        }
      ]
    },
    {
      "cell_type": "code",
      "metadata": {
        "colab": {
          "base_uri": "https://localhost:8080/"
        },
        "id": "xEPpQAL1EYeB",
        "outputId": "27806b36-b9ca-42bc-ad46-b60e298bbe24"
      },
      "source": [
        "pred = model.predict([[5. , 3. , 1.6, 0.2]])\n",
        "pred"
      ],
      "execution_count": 25,
      "outputs": [
        {
          "output_type": "execute_result",
          "data": {
            "text/plain": [
              "array([[0.94272536, 0.03842643, 0.01884822]], dtype=float32)"
            ]
          },
          "metadata": {
            "tags": []
          },
          "execution_count": 25
        }
      ]
    },
    {
      "cell_type": "code",
      "metadata": {
        "colab": {
          "base_uri": "https://localhost:8080/"
        },
        "id": "dby2FFZ9a6Sl",
        "outputId": "5879c69c-d437-486f-b40f-48a4749be9e1"
      },
      "source": [
        "import numpy as np\n",
        "np.argmax(pred)"
      ],
      "execution_count": 26,
      "outputs": [
        {
          "output_type": "execute_result",
          "data": {
            "text/plain": [
              "0"
            ]
          },
          "metadata": {
            "tags": []
          },
          "execution_count": 26
        }
      ]
    },
    {
      "cell_type": "code",
      "metadata": {
        "id": "eA_U0ngZbCPj"
      },
      "source": [
        ""
      ],
      "execution_count": 26,
      "outputs": []
    }
  ]
}