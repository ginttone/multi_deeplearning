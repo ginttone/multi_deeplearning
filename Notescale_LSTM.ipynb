{
  "nbformat": 4,
  "nbformat_minor": 0,
  "metadata": {
    "colab": {
      "name": "Notescale_LSTM.ipynb",
      "provenance": [],
      "collapsed_sections": [],
      "authorship_tag": "ABX9TyMnU6HjKqUJObvtjxRL8pUp",
      "include_colab_link": true
    },
    "kernelspec": {
      "name": "python3",
      "display_name": "Python 3"
    },
    "language_info": {
      "name": "python"
    }
  },
  "cells": [
    {
      "cell_type": "markdown",
      "metadata": {
        "id": "view-in-github",
        "colab_type": "text"
      },
      "source": [
        "<a href=\"https://colab.research.google.com/github/ginttone/multi_deeplearning/blob/master/Notescale_LSTM.ipynb\" target=\"_parent\"><img src=\"https://colab.research.google.com/assets/colab-badge.svg\" alt=\"Open In Colab\"/></a>"
      ]
    },
    {
      "cell_type": "markdown",
      "metadata": {
        "id": "YK7VIBMVmECt"
      },
      "source": [
        "# 악보(타임시리즈)"
      ]
    },
    {
      "cell_type": "markdown",
      "metadata": {
        "id": "Sg-jo1ygXktS"
      },
      "source": [
        "## 데이터 전처리"
      ]
    },
    {
      "cell_type": "code",
      "metadata": {
        "id": "89R7z8dIlLJs"
      },
      "source": [
        "note_seq = ['g8', 'e8', 'e4', 'f8', 'd8', 'd4', 'c8', 'd8', 'e8', 'f8', 'g8', 'g8', 'g4',\n",
        "       'g8', 'e8', 'e8', 'e8', 'f8', 'd8', 'd4', 'c8', 'e8', 'g8', 'g8', 'e8', 'e8', 'e4',\n",
        "       'd8', 'd8', 'd8', 'd8', 'd8', 'e8', 'f4', 'e8', 'e8', 'e8', 'e8', 'e8', 'f8', 'g4',\n",
        "       'g8', 'e8', 'e4', 'f8', 'd8', 'd4', 'c8', 'e8', 'g8', 'g8', 'e8', 'e8', 'e4']"
      ],
      "execution_count": 1,
      "outputs": []
    },
    {
      "cell_type": "markdown",
      "metadata": {
        "id": "U8zjOlohQoo4"
      },
      "source": [
        "행렬로 만들어 주는데 y값도 x에 영향을 받기 때문에\n",
        "\n",
        "x1 , x2, x3, ... xn y 이런 모양을 만들어준다 \n",
        "\n",
        "```\n",
        "['g8', 'e8', 'e4', 'f8']\n",
        "['e8', 'e4', 'f8', 'd8']\n",
        "['e4', 'f8', 'd8', 'd4']\n",
        "```\n",
        "시퀀스 : x1,x2,x3를 가지고 y를 예측한다"
      ]
    },
    {
      "cell_type": "code",
      "metadata": {
        "colab": {
          "base_uri": "https://localhost:8080/"
        },
        "id": "53rR-Tu1n2Xw",
        "outputId": "da646262-4074-4fb9-8dcc-e83d1db4425c"
      },
      "source": [
        "note_seq[0:4], note_seq[1:5], note_seq[2:6]"
      ],
      "execution_count": 2,
      "outputs": [
        {
          "output_type": "execute_result",
          "data": {
            "text/plain": [
              "(['g8', 'e8', 'e4', 'f8'], ['e8', 'e4', 'f8', 'd8'], ['e4', 'f8', 'd8', 'd4'])"
            ]
          },
          "metadata": {
            "tags": []
          },
          "execution_count": 2
        }
      ]
    },
    {
      "cell_type": "code",
      "metadata": {
        "id": "x-0bR0Ecldv8"
      },
      "source": [
        "code2idx = {'c4':0, 'd4':1, 'e4':2, 'f4':3, 'g4':4, 'a4':5, 'b4':6,\n",
        "            'c8':7, 'd8':8, 'e8':9, 'f8':10, 'g8':11, 'a8':12, 'b8':13}"
      ],
      "execution_count": 3,
      "outputs": []
    },
    {
      "cell_type": "markdown",
      "metadata": {
        "id": "Rb6Ca8QEmHOR"
      },
      "source": [
        "### for문 돌리기\n",
        "\n"
      ]
    },
    {
      "cell_type": "markdown",
      "metadata": {
        "id": "SZI7aY7QS1cJ"
      },
      "source": [
        "참고) for 문 모를 때\n",
        "\n",
        "종이에 격자 놓고\n",
        "\n",
        "각각의 i(변수) 쓰고 subset 써서 이런식으로 연상한다\n",
        " \n",
        "       0   ['g8', 'e8', 'e4', 'f8']\n",
        "       1   ['e8', 'e4', 'f8', 'd8']\n",
        "       2   ['e4', 'f8', 'd8', 'd4']\n",
        "       3   ['f8', 'd8', 'd4', 'c8']\n",
        "       4   ['d8', 'd4', 'c8', 'd8']              \n",
        "\n",
        "[4,8,12,...] -> 행렬 \n",
        "\n",
        "['g8', 'e8', 'e4', 'f8'] -> ['g8', 'e8', 'e4']['f8']\n",
        "\n",
        "데이터 마지막 부분이 4개1묶음이 안되고 3개가 남아서 그전까지로만 짤라준것"
      ]
    },
    {
      "cell_type": "code",
      "metadata": {
        "colab": {
          "base_uri": "https://localhost:8080/"
        },
        "id": "aoD05-q-naH6",
        "outputId": "c4422499-c1bd-4bb8-a701-6c316d04215a"
      },
      "source": [
        "len(note_seq), range(len(note_seq)-4)"
      ],
      "execution_count": 4,
      "outputs": [
        {
          "output_type": "execute_result",
          "data": {
            "text/plain": [
              "(54, range(0, 50))"
            ]
          },
          "metadata": {
            "tags": []
          },
          "execution_count": 4
        }
      ]
    },
    {
      "cell_type": "markdown",
      "metadata": {
        "id": "MCVpnlO3oEwA"
      },
      "source": [
        "for문 돌리기 \n",
        "\n",
        "값을 4개씩 점핑하며 그 값을 뽑아주는 것을 for문으로 뽑아낸다\n",
        " ```\n",
        " for i in range(len(note_seq)-4):\n",
        "  subset =note_seq[i:i+4]\n",
        "  print(subset)\n",
        "  ```\n",
        "  결과\n",
        "  ```\n",
        "  ['g8', 'e8', 'e4', 'f8']\n",
        "  ['e8', 'e4', 'f8', 'd8']\n",
        "  ['e4', 'f8', 'd8', 'd4']\n",
        "  ['f8', 'd8', 'd4', 'c8']\n",
        "  ['d8', 'd4', 'c8', 'd8']\n",
        "  ['d4', 'c8', 'd8', 'e8']\n",
        "  ['c8', 'd8', 'e8', 'f8']\n",
        "  ['d8', 'e8', 'f8', 'g8']\n",
        "          ....\n",
        "```\n"
      ]
    },
    {
      "cell_type": "markdown",
      "metadata": {
        "id": "njSHT0oIqTb6"
      },
      "source": [
        "\n",
        "code2idx[item] 를 list(순번으로 접근해서 값을 가져옴)로 만들기\n",
        "\n",
        "(음)계명 만들기:머신에 넣어줘야하기 때문에 숫자로 바꿔준다\n",
        "\n",
        "code2idx -> 딕셔너리 에 key 넣어주는데  value로 숫자화 시켜 list로 넣어준다\n",
        "\n",
        "```\n",
        "for i in range(len(note_seq)-4):\n",
        "  subset =note_seq[i:i+4]\n",
        "  print(subset)\n",
        "  for item in subset:\n",
        "    print(code2idx[item])\n",
        "```\n",
        "결과\n",
        "```\n",
        "['g8', 'e8', 'e4', 'f8']\n",
        "11\n",
        "9\n",
        "2\n",
        "10\n",
        "['e8', 'e4', 'f8', 'd8']\n",
        "9\n",
        "2\n",
        "10\n",
        "8\n",
        "...\n",
        "```"
      ]
    },
    {
      "cell_type": "code",
      "metadata": {
        "colab": {
          "base_uri": "https://localhost:8080/"
        },
        "id": "0sVwlEm1mKFL",
        "outputId": "a6a73b26-9041-4cfc-82d6-511caa333fce"
      },
      "source": [
        "dataset = list()\n",
        "\n",
        "for i in range(len(note_seq)-4):\n",
        "  subset = note_seq[i:i+4]\n",
        "  items = list()\n",
        "  # print(subset)\n",
        "  for item in subset:\n",
        "    items.append(code2idx[item])\n",
        "  # print(items)\n",
        "  dataset.append(items)\n",
        "\n",
        "print(dataset)"
      ],
      "execution_count": 5,
      "outputs": [
        {
          "output_type": "stream",
          "text": [
            "[[11, 9, 2, 10], [9, 2, 10, 8], [2, 10, 8, 1], [10, 8, 1, 7], [8, 1, 7, 8], [1, 7, 8, 9], [7, 8, 9, 10], [8, 9, 10, 11], [9, 10, 11, 11], [10, 11, 11, 4], [11, 11, 4, 11], [11, 4, 11, 9], [4, 11, 9, 9], [11, 9, 9, 9], [9, 9, 9, 10], [9, 9, 10, 8], [9, 10, 8, 1], [10, 8, 1, 7], [8, 1, 7, 9], [1, 7, 9, 11], [7, 9, 11, 11], [9, 11, 11, 9], [11, 11, 9, 9], [11, 9, 9, 2], [9, 9, 2, 8], [9, 2, 8, 8], [2, 8, 8, 8], [8, 8, 8, 8], [8, 8, 8, 8], [8, 8, 8, 9], [8, 8, 9, 3], [8, 9, 3, 9], [9, 3, 9, 9], [3, 9, 9, 9], [9, 9, 9, 9], [9, 9, 9, 9], [9, 9, 9, 10], [9, 9, 10, 4], [9, 10, 4, 11], [10, 4, 11, 9], [4, 11, 9, 2], [11, 9, 2, 10], [9, 2, 10, 8], [2, 10, 8, 1], [10, 8, 1, 7], [8, 1, 7, 9], [1, 7, 9, 11], [7, 9, 11, 11], [9, 11, 11, 9], [11, 11, 9, 9]]\n"
          ],
          "name": "stdout"
        }
      ]
    },
    {
      "cell_type": "markdown",
      "metadata": {
        "id": "oKwgyisFVZq3"
      },
      "source": [
        "### 딥러닝에 넣어주려 모양 다듬기"
      ]
    },
    {
      "cell_type": "code",
      "metadata": {
        "id": "VcDZpTxlV4nm"
      },
      "source": [
        "import numpy as np\n",
        "\n",
        "datasets = np.array(dataset)"
      ],
      "execution_count": 6,
      "outputs": []
    },
    {
      "cell_type": "code",
      "metadata": {
        "id": "VAxkUgdNow3_",
        "colab": {
          "base_uri": "https://localhost:8080/"
        },
        "outputId": "cef06f06-1344-444a-c21e-fcc73e15780d"
      },
      "source": [
        "x_train = datasets[:,0:3]\n",
        "x_train.shape"
      ],
      "execution_count": 7,
      "outputs": [
        {
          "output_type": "execute_result",
          "data": {
            "text/plain": [
              "(50, 3)"
            ]
          },
          "metadata": {
            "tags": []
          },
          "execution_count": 7
        }
      ]
    },
    {
      "cell_type": "code",
      "metadata": {
        "colab": {
          "base_uri": "https://localhost:8080/"
        },
        "id": "yu6Vpc3QUL_U",
        "outputId": "9bc95ea6-25f8-4f1e-df3f-a6125172267d"
      },
      "source": [
        "y_train = datasets[:,3]\n",
        "y_train.shape"
      ],
      "execution_count": 8,
      "outputs": [
        {
          "output_type": "execute_result",
          "data": {
            "text/plain": [
              "(50,)"
            ]
          },
          "metadata": {
            "tags": []
          },
          "execution_count": 8
        }
      ]
    },
    {
      "cell_type": "markdown",
      "metadata": {
        "id": "yO-QtkI4XDkp"
      },
      "source": [
        "### 정규화 mean max 스케일링\n",
        "\n",
        "code2idx의 Len\n"
      ]
    },
    {
      "cell_type": "code",
      "metadata": {
        "colab": {
          "base_uri": "https://localhost:8080/"
        },
        "id": "HfQvzS6gXSU7",
        "outputId": "1d5f6d7c-460b-4169-cc90-d3aeda67999a"
      },
      "source": [
        "len(code2idx)"
      ],
      "execution_count": 9,
      "outputs": [
        {
          "output_type": "execute_result",
          "data": {
            "text/plain": [
              "14"
            ]
          },
          "metadata": {
            "tags": []
          },
          "execution_count": 9
        }
      ]
    },
    {
      "cell_type": "code",
      "metadata": {
        "colab": {
          "base_uri": "https://localhost:8080/"
        },
        "id": "TVJLdVg_WhXy",
        "outputId": "264ed672-e1de-4aa0-b811-ab01139caaf2"
      },
      "source": [
        "x_train = x_train/13 #len(code2idx)\n",
        "x_train[3]"
      ],
      "execution_count": 10,
      "outputs": [
        {
          "output_type": "execute_result",
          "data": {
            "text/plain": [
              "array([0.76923077, 0.61538462, 0.07692308])"
            ]
          },
          "metadata": {
            "tags": []
          },
          "execution_count": 10
        }
      ]
    },
    {
      "cell_type": "code",
      "metadata": {
        "colab": {
          "base_uri": "https://localhost:8080/"
        },
        "id": "aSS-KSyitKgW",
        "outputId": "b550b8d9-7bb7-4823-8e38-edc30542173a"
      },
      "source": [
        "X_train = np.reshape(x_train, (-1, 3, 1)) # tensor\n",
        "X_train.shape, X_train[2]"
      ],
      "execution_count": 11,
      "outputs": [
        {
          "output_type": "execute_result",
          "data": {
            "text/plain": [
              "((50, 3, 1), array([[0.15384615],\n",
              "        [0.76923077],\n",
              "        [0.61538462]]))"
            ]
          },
          "metadata": {
            "tags": []
          },
          "execution_count": 11
        }
      ]
    },
    {
      "cell_type": "code",
      "metadata": {
        "colab": {
          "base_uri": "https://localhost:8080/"
        },
        "id": "qSmhrSnbtQBl",
        "outputId": "8d7b6bd7-010f-40c1-9cb2-69f3361c6d76"
      },
      "source": [
        "np.unique(y_train)"
      ],
      "execution_count": 12,
      "outputs": [
        {
          "output_type": "execute_result",
          "data": {
            "text/plain": [
              "array([ 1,  2,  3,  4,  7,  8,  9, 10, 11])"
            ]
          },
          "metadata": {
            "tags": []
          },
          "execution_count": 12
        }
      ]
    },
    {
      "cell_type": "markdown",
      "metadata": {
        "id": "Z7kCyvcGXvs6"
      },
      "source": [
        "## Model create"
      ]
    },
    {
      "cell_type": "code",
      "metadata": {
        "id": "-44VUiEaXaRH"
      },
      "source": [
        "import tensorflow as tf"
      ],
      "execution_count": 13,
      "outputs": []
    },
    {
      "cell_type": "code",
      "metadata": {
        "id": "bu_fIxAhX6zv"
      },
      "source": [
        "model = tf.keras.models.Sequential()"
      ],
      "execution_count": 14,
      "outputs": []
    },
    {
      "cell_type": "code",
      "metadata": {
        "colab": {
          "base_uri": "https://localhost:8080/"
        },
        "id": "Cumbkd-npw0j",
        "outputId": "578f1c39-7959-498d-e16a-4b9fd98e2ca9"
      },
      "source": [
        "model.add(tf.keras.Input(shape=(3,1))) # input layer\n",
        "model.add(tf.keras.layers.LSTM(128)) # hidden layer\n",
        "model.add(tf.keras.layers.Dense(13, activation='softmax')) # output layer\n",
        "\n",
        "model.compile(optimizer='adam', loss='sparse_categorical_crossentropy', metrics=['accuracy']) "
      ],
      "execution_count": 15,
      "outputs": [
        {
          "output_type": "stream",
          "text": [
            "WARNING:tensorflow:Please add `keras.layers.InputLayer` instead of `keras.Input` to Sequential model. `keras.Input` is intended to be used by Functional model.\n"
          ],
          "name": "stdout"
        }
      ]
    },
    {
      "cell_type": "markdown",
      "metadata": {
        "id": "mbv1It18i8O1"
      },
      "source": [
        "batch_size \n",
        "\n",
        "내부적으로 교육시킬 때 해당되는 학습속도를 빨리하기 위해 필요 \n",
        "\n",
        "50/1(50) , 50/5(10) 속도늘리고싶을때는 해당 batch_size를 크게하면 됨 "
      ]
    },
    {
      "cell_type": "code",
      "metadata": {
        "colab": {
          "base_uri": "https://localhost:8080/"
        },
        "id": "5GPWLMophqkP",
        "outputId": "007767ab-8e22-4660-d6e2-5817855401ed"
      },
      "source": [
        "hist = model.fit(X_train, y_train, epochs=500, batch_size=10)"
      ],
      "execution_count": 16,
      "outputs": [
        {
          "output_type": "stream",
          "text": [
            "Epoch 1/500\n",
            "5/5 [==============================] - 2s 7ms/step - loss: 2.5611 - accuracy: 0.2600\n",
            "Epoch 2/500\n",
            "5/5 [==============================] - 0s 6ms/step - loss: 2.5224 - accuracy: 0.3400\n",
            "Epoch 3/500\n",
            "5/5 [==============================] - 0s 7ms/step - loss: 2.4857 - accuracy: 0.3400\n",
            "Epoch 4/500\n",
            "5/5 [==============================] - 0s 4ms/step - loss: 2.4425 - accuracy: 0.3400\n",
            "Epoch 5/500\n",
            "5/5 [==============================] - 0s 5ms/step - loss: 2.3945 - accuracy: 0.3400\n",
            "Epoch 6/500\n",
            "5/5 [==============================] - 0s 5ms/step - loss: 2.3323 - accuracy: 0.3400\n",
            "Epoch 7/500\n",
            "5/5 [==============================] - 0s 5ms/step - loss: 2.2560 - accuracy: 0.3400\n",
            "Epoch 8/500\n",
            "5/5 [==============================] - 0s 5ms/step - loss: 2.1687 - accuracy: 0.3400\n",
            "Epoch 9/500\n",
            "5/5 [==============================] - 0s 4ms/step - loss: 2.0767 - accuracy: 0.3400\n",
            "Epoch 10/500\n",
            "5/5 [==============================] - 0s 4ms/step - loss: 2.0210 - accuracy: 0.3400\n",
            "Epoch 11/500\n",
            "5/5 [==============================] - 0s 4ms/step - loss: 1.9927 - accuracy: 0.3400\n",
            "Epoch 12/500\n",
            "5/5 [==============================] - 0s 5ms/step - loss: 1.9657 - accuracy: 0.3400\n",
            "Epoch 13/500\n",
            "5/5 [==============================] - 0s 5ms/step - loss: 1.9474 - accuracy: 0.3400\n",
            "Epoch 14/500\n",
            "5/5 [==============================] - 0s 4ms/step - loss: 1.9393 - accuracy: 0.3400\n",
            "Epoch 15/500\n",
            "5/5 [==============================] - 0s 4ms/step - loss: 1.9233 - accuracy: 0.3400\n",
            "Epoch 16/500\n",
            "5/5 [==============================] - 0s 5ms/step - loss: 1.9162 - accuracy: 0.3400\n",
            "Epoch 17/500\n",
            "5/5 [==============================] - 0s 5ms/step - loss: 1.9126 - accuracy: 0.3400\n",
            "Epoch 18/500\n",
            "5/5 [==============================] - 0s 5ms/step - loss: 1.9076 - accuracy: 0.3400\n",
            "Epoch 19/500\n",
            "5/5 [==============================] - 0s 5ms/step - loss: 1.9052 - accuracy: 0.3400\n",
            "Epoch 20/500\n",
            "5/5 [==============================] - 0s 5ms/step - loss: 1.9028 - accuracy: 0.3400\n",
            "Epoch 21/500\n",
            "5/5 [==============================] - 0s 4ms/step - loss: 1.8973 - accuracy: 0.3400\n",
            "Epoch 22/500\n",
            "5/5 [==============================] - 0s 5ms/step - loss: 1.8939 - accuracy: 0.3400\n",
            "Epoch 23/500\n",
            "5/5 [==============================] - 0s 4ms/step - loss: 1.8932 - accuracy: 0.3400\n",
            "Epoch 24/500\n",
            "5/5 [==============================] - 0s 4ms/step - loss: 1.8890 - accuracy: 0.3400\n",
            "Epoch 25/500\n",
            "5/5 [==============================] - 0s 5ms/step - loss: 1.8875 - accuracy: 0.3400\n",
            "Epoch 26/500\n",
            "5/5 [==============================] - 0s 4ms/step - loss: 1.8842 - accuracy: 0.3400\n",
            "Epoch 27/500\n",
            "5/5 [==============================] - 0s 5ms/step - loss: 1.8836 - accuracy: 0.3400\n",
            "Epoch 28/500\n",
            "5/5 [==============================] - 0s 4ms/step - loss: 1.8809 - accuracy: 0.3400\n",
            "Epoch 29/500\n",
            "5/5 [==============================] - 0s 4ms/step - loss: 1.8810 - accuracy: 0.3400\n",
            "Epoch 30/500\n",
            "5/5 [==============================] - 0s 4ms/step - loss: 1.8785 - accuracy: 0.3400\n",
            "Epoch 31/500\n",
            "5/5 [==============================] - 0s 4ms/step - loss: 1.8779 - accuracy: 0.3400\n",
            "Epoch 32/500\n",
            "5/5 [==============================] - 0s 5ms/step - loss: 1.8766 - accuracy: 0.3400\n",
            "Epoch 33/500\n",
            "5/5 [==============================] - 0s 5ms/step - loss: 1.8765 - accuracy: 0.3400\n",
            "Epoch 34/500\n",
            "5/5 [==============================] - 0s 5ms/step - loss: 1.8772 - accuracy: 0.3400\n",
            "Epoch 35/500\n",
            "5/5 [==============================] - 0s 6ms/step - loss: 1.8701 - accuracy: 0.3400\n",
            "Epoch 36/500\n",
            "5/5 [==============================] - 0s 5ms/step - loss: 1.8695 - accuracy: 0.3400\n",
            "Epoch 37/500\n",
            "5/5 [==============================] - 0s 5ms/step - loss: 1.8671 - accuracy: 0.3400\n",
            "Epoch 38/500\n",
            "5/5 [==============================] - 0s 5ms/step - loss: 1.8671 - accuracy: 0.3400\n",
            "Epoch 39/500\n",
            "5/5 [==============================] - 0s 5ms/step - loss: 1.8668 - accuracy: 0.3400\n",
            "Epoch 40/500\n",
            "5/5 [==============================] - 0s 5ms/step - loss: 1.8699 - accuracy: 0.3400\n",
            "Epoch 41/500\n",
            "5/5 [==============================] - 0s 5ms/step - loss: 1.8630 - accuracy: 0.3400\n",
            "Epoch 42/500\n",
            "5/5 [==============================] - 0s 4ms/step - loss: 1.8658 - accuracy: 0.3400\n",
            "Epoch 43/500\n",
            "5/5 [==============================] - 0s 5ms/step - loss: 1.8595 - accuracy: 0.3400\n",
            "Epoch 44/500\n",
            "5/5 [==============================] - 0s 5ms/step - loss: 1.8581 - accuracy: 0.3400\n",
            "Epoch 45/500\n",
            "5/5 [==============================] - 0s 5ms/step - loss: 1.8609 - accuracy: 0.3400\n",
            "Epoch 46/500\n",
            "5/5 [==============================] - 0s 5ms/step - loss: 1.8589 - accuracy: 0.3400\n",
            "Epoch 47/500\n",
            "5/5 [==============================] - 0s 4ms/step - loss: 1.8546 - accuracy: 0.3400\n",
            "Epoch 48/500\n",
            "5/5 [==============================] - 0s 7ms/step - loss: 1.8524 - accuracy: 0.3400\n",
            "Epoch 49/500\n",
            "5/5 [==============================] - 0s 4ms/step - loss: 1.8508 - accuracy: 0.3400\n",
            "Epoch 50/500\n",
            "5/5 [==============================] - 0s 5ms/step - loss: 1.8527 - accuracy: 0.3400\n",
            "Epoch 51/500\n",
            "5/5 [==============================] - 0s 6ms/step - loss: 1.8506 - accuracy: 0.3400\n",
            "Epoch 52/500\n",
            "5/5 [==============================] - 0s 5ms/step - loss: 1.8470 - accuracy: 0.3400\n",
            "Epoch 53/500\n",
            "5/5 [==============================] - 0s 5ms/step - loss: 1.8424 - accuracy: 0.3400\n",
            "Epoch 54/500\n",
            "5/5 [==============================] - 0s 5ms/step - loss: 1.8441 - accuracy: 0.3400\n",
            "Epoch 55/500\n",
            "5/5 [==============================] - 0s 5ms/step - loss: 1.8403 - accuracy: 0.3400\n",
            "Epoch 56/500\n",
            "5/5 [==============================] - 0s 5ms/step - loss: 1.8381 - accuracy: 0.3400\n",
            "Epoch 57/500\n",
            "5/5 [==============================] - 0s 4ms/step - loss: 1.8399 - accuracy: 0.3400\n",
            "Epoch 58/500\n",
            "5/5 [==============================] - 0s 5ms/step - loss: 1.8344 - accuracy: 0.3400\n",
            "Epoch 59/500\n",
            "5/5 [==============================] - 0s 4ms/step - loss: 1.8332 - accuracy: 0.3400\n",
            "Epoch 60/500\n",
            "5/5 [==============================] - 0s 5ms/step - loss: 1.8340 - accuracy: 0.3400\n",
            "Epoch 61/500\n",
            "5/5 [==============================] - 0s 5ms/step - loss: 1.8257 - accuracy: 0.3400\n",
            "Epoch 62/500\n",
            "5/5 [==============================] - 0s 5ms/step - loss: 1.8286 - accuracy: 0.3400\n",
            "Epoch 63/500\n",
            "5/5 [==============================] - 0s 5ms/step - loss: 1.8253 - accuracy: 0.3400\n",
            "Epoch 64/500\n",
            "5/5 [==============================] - 0s 5ms/step - loss: 1.8239 - accuracy: 0.3400\n",
            "Epoch 65/500\n",
            "5/5 [==============================] - 0s 5ms/step - loss: 1.8173 - accuracy: 0.3400\n",
            "Epoch 66/500\n",
            "5/5 [==============================] - 0s 5ms/step - loss: 1.8158 - accuracy: 0.3400\n",
            "Epoch 67/500\n",
            "5/5 [==============================] - 0s 5ms/step - loss: 1.8146 - accuracy: 0.3400\n",
            "Epoch 68/500\n",
            "5/5 [==============================] - 0s 7ms/step - loss: 1.8097 - accuracy: 0.3400\n",
            "Epoch 69/500\n",
            "5/5 [==============================] - 0s 6ms/step - loss: 1.8065 - accuracy: 0.3400\n",
            "Epoch 70/500\n",
            "5/5 [==============================] - 0s 7ms/step - loss: 1.8008 - accuracy: 0.3400\n",
            "Epoch 71/500\n",
            "5/5 [==============================] - 0s 5ms/step - loss: 1.8004 - accuracy: 0.3400\n",
            "Epoch 72/500\n",
            "5/5 [==============================] - 0s 5ms/step - loss: 1.7971 - accuracy: 0.3400\n",
            "Epoch 73/500\n",
            "5/5 [==============================] - 0s 5ms/step - loss: 1.7954 - accuracy: 0.3400\n",
            "Epoch 74/500\n",
            "5/5 [==============================] - 0s 5ms/step - loss: 1.7878 - accuracy: 0.3400\n",
            "Epoch 75/500\n",
            "5/5 [==============================] - 0s 5ms/step - loss: 1.7830 - accuracy: 0.3400\n",
            "Epoch 76/500\n",
            "5/5 [==============================] - 0s 6ms/step - loss: 1.7834 - accuracy: 0.3200\n",
            "Epoch 77/500\n",
            "5/5 [==============================] - 0s 5ms/step - loss: 1.7805 - accuracy: 0.3200\n",
            "Epoch 78/500\n",
            "5/5 [==============================] - 0s 5ms/step - loss: 1.7751 - accuracy: 0.3200\n",
            "Epoch 79/500\n",
            "5/5 [==============================] - 0s 6ms/step - loss: 1.7690 - accuracy: 0.3200\n",
            "Epoch 80/500\n",
            "5/5 [==============================] - 0s 4ms/step - loss: 1.7657 - accuracy: 0.3200\n",
            "Epoch 81/500\n",
            "5/5 [==============================] - 0s 5ms/step - loss: 1.7617 - accuracy: 0.3200\n",
            "Epoch 82/500\n",
            "5/5 [==============================] - 0s 4ms/step - loss: 1.7584 - accuracy: 0.3200\n",
            "Epoch 83/500\n",
            "5/5 [==============================] - 0s 5ms/step - loss: 1.7532 - accuracy: 0.3200\n",
            "Epoch 84/500\n",
            "5/5 [==============================] - 0s 4ms/step - loss: 1.7495 - accuracy: 0.3400\n",
            "Epoch 85/500\n",
            "5/5 [==============================] - 0s 5ms/step - loss: 1.7436 - accuracy: 0.3800\n",
            "Epoch 86/500\n",
            "5/5 [==============================] - 0s 5ms/step - loss: 1.7422 - accuracy: 0.3600\n",
            "Epoch 87/500\n",
            "5/5 [==============================] - 0s 6ms/step - loss: 1.7379 - accuracy: 0.3600\n",
            "Epoch 88/500\n",
            "5/5 [==============================] - 0s 5ms/step - loss: 1.7265 - accuracy: 0.3800\n",
            "Epoch 89/500\n",
            "5/5 [==============================] - 0s 5ms/step - loss: 1.7362 - accuracy: 0.3200\n",
            "Epoch 90/500\n",
            "5/5 [==============================] - 0s 5ms/step - loss: 1.7244 - accuracy: 0.3400\n",
            "Epoch 91/500\n",
            "5/5 [==============================] - 0s 5ms/step - loss: 1.7147 - accuracy: 0.3600\n",
            "Epoch 92/500\n",
            "5/5 [==============================] - 0s 6ms/step - loss: 1.7195 - accuracy: 0.3200\n",
            "Epoch 93/500\n",
            "5/5 [==============================] - 0s 7ms/step - loss: 1.7100 - accuracy: 0.3600\n",
            "Epoch 94/500\n",
            "5/5 [==============================] - 0s 5ms/step - loss: 1.7024 - accuracy: 0.3600\n",
            "Epoch 95/500\n",
            "5/5 [==============================] - 0s 5ms/step - loss: 1.6941 - accuracy: 0.3600\n",
            "Epoch 96/500\n",
            "5/5 [==============================] - 0s 5ms/step - loss: 1.6861 - accuracy: 0.3600\n",
            "Epoch 97/500\n",
            "5/5 [==============================] - 0s 6ms/step - loss: 1.6844 - accuracy: 0.3600\n",
            "Epoch 98/500\n",
            "5/5 [==============================] - 0s 5ms/step - loss: 1.6801 - accuracy: 0.3600\n",
            "Epoch 99/500\n",
            "5/5 [==============================] - 0s 5ms/step - loss: 1.6864 - accuracy: 0.3600\n",
            "Epoch 100/500\n",
            "5/5 [==============================] - 0s 5ms/step - loss: 1.6761 - accuracy: 0.3800\n",
            "Epoch 101/500\n",
            "5/5 [==============================] - 0s 5ms/step - loss: 1.6681 - accuracy: 0.3600\n",
            "Epoch 102/500\n",
            "5/5 [==============================] - 0s 6ms/step - loss: 1.6606 - accuracy: 0.3400\n",
            "Epoch 103/500\n",
            "5/5 [==============================] - 0s 5ms/step - loss: 1.6614 - accuracy: 0.3400\n",
            "Epoch 104/500\n",
            "5/5 [==============================] - 0s 6ms/step - loss: 1.6597 - accuracy: 0.3400\n",
            "Epoch 105/500\n",
            "5/5 [==============================] - 0s 5ms/step - loss: 1.6524 - accuracy: 0.3400\n",
            "Epoch 106/500\n",
            "5/5 [==============================] - 0s 5ms/step - loss: 1.6455 - accuracy: 0.3600\n",
            "Epoch 107/500\n",
            "5/5 [==============================] - 0s 5ms/step - loss: 1.6414 - accuracy: 0.3400\n",
            "Epoch 108/500\n",
            "5/5 [==============================] - 0s 5ms/step - loss: 1.6391 - accuracy: 0.3400\n",
            "Epoch 109/500\n",
            "5/5 [==============================] - 0s 5ms/step - loss: 1.6403 - accuracy: 0.3400\n",
            "Epoch 110/500\n",
            "5/5 [==============================] - 0s 5ms/step - loss: 1.6428 - accuracy: 0.3600\n",
            "Epoch 111/500\n",
            "5/5 [==============================] - 0s 4ms/step - loss: 1.6315 - accuracy: 0.3400\n",
            "Epoch 112/500\n",
            "5/5 [==============================] - 0s 6ms/step - loss: 1.6309 - accuracy: 0.3600\n",
            "Epoch 113/500\n",
            "5/5 [==============================] - 0s 6ms/step - loss: 1.6314 - accuracy: 0.3600\n",
            "Epoch 114/500\n",
            "5/5 [==============================] - 0s 5ms/step - loss: 1.6206 - accuracy: 0.3400\n",
            "Epoch 115/500\n",
            "5/5 [==============================] - 0s 5ms/step - loss: 1.6169 - accuracy: 0.3000\n",
            "Epoch 116/500\n",
            "5/5 [==============================] - 0s 5ms/step - loss: 1.6167 - accuracy: 0.4000\n",
            "Epoch 117/500\n",
            "5/5 [==============================] - 0s 5ms/step - loss: 1.6115 - accuracy: 0.3400\n",
            "Epoch 118/500\n",
            "5/5 [==============================] - 0s 5ms/step - loss: 1.6122 - accuracy: 0.3400\n",
            "Epoch 119/500\n",
            "5/5 [==============================] - 0s 5ms/step - loss: 1.6128 - accuracy: 0.3400\n",
            "Epoch 120/500\n",
            "5/5 [==============================] - 0s 5ms/step - loss: 1.6174 - accuracy: 0.3800\n",
            "Epoch 121/500\n",
            "5/5 [==============================] - 0s 5ms/step - loss: 1.6094 - accuracy: 0.4200\n",
            "Epoch 122/500\n",
            "5/5 [==============================] - 0s 6ms/step - loss: 1.6020 - accuracy: 0.3600\n",
            "Epoch 123/500\n",
            "5/5 [==============================] - 0s 5ms/step - loss: 1.6062 - accuracy: 0.3200\n",
            "Epoch 124/500\n",
            "5/5 [==============================] - 0s 5ms/step - loss: 1.6126 - accuracy: 0.3600\n",
            "Epoch 125/500\n",
            "5/5 [==============================] - 0s 5ms/step - loss: 1.6042 - accuracy: 0.4000\n",
            "Epoch 126/500\n",
            "5/5 [==============================] - 0s 5ms/step - loss: 1.5981 - accuracy: 0.4000\n",
            "Epoch 127/500\n",
            "5/5 [==============================] - 0s 9ms/step - loss: 1.5915 - accuracy: 0.4000\n",
            "Epoch 128/500\n",
            "5/5 [==============================] - 0s 6ms/step - loss: 1.5945 - accuracy: 0.3600\n",
            "Epoch 129/500\n",
            "5/5 [==============================] - 0s 8ms/step - loss: 1.5916 - accuracy: 0.4400\n",
            "Epoch 130/500\n",
            "5/5 [==============================] - 0s 5ms/step - loss: 1.5839 - accuracy: 0.4000\n",
            "Epoch 131/500\n",
            "5/5 [==============================] - 0s 8ms/step - loss: 1.5852 - accuracy: 0.3800\n",
            "Epoch 132/500\n",
            "5/5 [==============================] - 0s 5ms/step - loss: 1.5875 - accuracy: 0.4000\n",
            "Epoch 133/500\n",
            "5/5 [==============================] - 0s 6ms/step - loss: 1.5853 - accuracy: 0.3200\n",
            "Epoch 134/500\n",
            "5/5 [==============================] - 0s 5ms/step - loss: 1.5808 - accuracy: 0.4200\n",
            "Epoch 135/500\n",
            "5/5 [==============================] - 0s 5ms/step - loss: 1.5805 - accuracy: 0.3600\n",
            "Epoch 136/500\n",
            "5/5 [==============================] - 0s 5ms/step - loss: 1.5789 - accuracy: 0.4000\n",
            "Epoch 137/500\n",
            "5/5 [==============================] - 0s 5ms/step - loss: 1.5732 - accuracy: 0.3800\n",
            "Epoch 138/500\n",
            "5/5 [==============================] - 0s 5ms/step - loss: 1.5674 - accuracy: 0.4000\n",
            "Epoch 139/500\n",
            "5/5 [==============================] - 0s 7ms/step - loss: 1.5714 - accuracy: 0.3800\n",
            "Epoch 140/500\n",
            "5/5 [==============================] - 0s 5ms/step - loss: 1.5743 - accuracy: 0.4000\n",
            "Epoch 141/500\n",
            "5/5 [==============================] - 0s 5ms/step - loss: 1.5670 - accuracy: 0.3800\n",
            "Epoch 142/500\n",
            "5/5 [==============================] - 0s 5ms/step - loss: 1.5681 - accuracy: 0.3800\n",
            "Epoch 143/500\n",
            "5/5 [==============================] - 0s 5ms/step - loss: 1.5557 - accuracy: 0.4000\n",
            "Epoch 144/500\n",
            "5/5 [==============================] - 0s 7ms/step - loss: 1.5601 - accuracy: 0.4200\n",
            "Epoch 145/500\n",
            "5/5 [==============================] - 0s 5ms/step - loss: 1.5567 - accuracy: 0.4200\n",
            "Epoch 146/500\n",
            "5/5 [==============================] - 0s 5ms/step - loss: 1.5599 - accuracy: 0.3600\n",
            "Epoch 147/500\n",
            "5/5 [==============================] - 0s 5ms/step - loss: 1.5624 - accuracy: 0.3800\n",
            "Epoch 148/500\n",
            "5/5 [==============================] - 0s 5ms/step - loss: 1.5591 - accuracy: 0.3800\n",
            "Epoch 149/500\n",
            "5/5 [==============================] - 0s 5ms/step - loss: 1.5579 - accuracy: 0.3600\n",
            "Epoch 150/500\n",
            "5/5 [==============================] - 0s 5ms/step - loss: 1.5506 - accuracy: 0.3600\n",
            "Epoch 151/500\n",
            "5/5 [==============================] - 0s 5ms/step - loss: 1.5538 - accuracy: 0.3800\n",
            "Epoch 152/500\n",
            "5/5 [==============================] - 0s 5ms/step - loss: 1.5552 - accuracy: 0.4000\n",
            "Epoch 153/500\n",
            "5/5 [==============================] - 0s 5ms/step - loss: 1.5509 - accuracy: 0.4000\n",
            "Epoch 154/500\n",
            "5/5 [==============================] - 0s 6ms/step - loss: 1.5534 - accuracy: 0.3800\n",
            "Epoch 155/500\n",
            "5/5 [==============================] - 0s 5ms/step - loss: 1.5514 - accuracy: 0.3800\n",
            "Epoch 156/500\n",
            "5/5 [==============================] - 0s 5ms/step - loss: 1.5457 - accuracy: 0.4000\n",
            "Epoch 157/500\n",
            "5/5 [==============================] - 0s 5ms/step - loss: 1.5448 - accuracy: 0.3800\n",
            "Epoch 158/500\n",
            "5/5 [==============================] - 0s 6ms/step - loss: 1.5431 - accuracy: 0.4200\n",
            "Epoch 159/500\n",
            "5/5 [==============================] - 0s 5ms/step - loss: 1.5421 - accuracy: 0.4200\n",
            "Epoch 160/500\n",
            "5/5 [==============================] - 0s 7ms/step - loss: 1.5393 - accuracy: 0.3800\n",
            "Epoch 161/500\n",
            "5/5 [==============================] - 0s 5ms/step - loss: 1.5392 - accuracy: 0.3800\n",
            "Epoch 162/500\n",
            "5/5 [==============================] - 0s 6ms/step - loss: 1.5471 - accuracy: 0.3800\n",
            "Epoch 163/500\n",
            "5/5 [==============================] - 0s 5ms/step - loss: 1.5367 - accuracy: 0.3800\n",
            "Epoch 164/500\n",
            "5/5 [==============================] - 0s 5ms/step - loss: 1.5381 - accuracy: 0.3800\n",
            "Epoch 165/500\n",
            "5/5 [==============================] - 0s 5ms/step - loss: 1.5428 - accuracy: 0.3400\n",
            "Epoch 166/500\n",
            "5/5 [==============================] - 0s 5ms/step - loss: 1.5404 - accuracy: 0.3600\n",
            "Epoch 167/500\n",
            "5/5 [==============================] - 0s 5ms/step - loss: 1.5254 - accuracy: 0.3800\n",
            "Epoch 168/500\n",
            "5/5 [==============================] - 0s 5ms/step - loss: 1.5465 - accuracy: 0.3200\n",
            "Epoch 169/500\n",
            "5/5 [==============================] - 0s 5ms/step - loss: 1.5456 - accuracy: 0.3600\n",
            "Epoch 170/500\n",
            "5/5 [==============================] - 0s 5ms/step - loss: 1.5311 - accuracy: 0.3800\n",
            "Epoch 171/500\n",
            "5/5 [==============================] - 0s 5ms/step - loss: 1.5287 - accuracy: 0.3800\n",
            "Epoch 172/500\n",
            "5/5 [==============================] - 0s 7ms/step - loss: 1.5371 - accuracy: 0.3800\n",
            "Epoch 173/500\n",
            "5/5 [==============================] - 0s 5ms/step - loss: 1.5406 - accuracy: 0.3600\n",
            "Epoch 174/500\n",
            "5/5 [==============================] - 0s 6ms/step - loss: 1.5218 - accuracy: 0.3600\n",
            "Epoch 175/500\n",
            "5/5 [==============================] - 0s 6ms/step - loss: 1.5240 - accuracy: 0.3800\n",
            "Epoch 176/500\n",
            "5/5 [==============================] - 0s 7ms/step - loss: 1.5249 - accuracy: 0.3800\n",
            "Epoch 177/500\n",
            "5/5 [==============================] - 0s 5ms/step - loss: 1.5277 - accuracy: 0.3800\n",
            "Epoch 178/500\n",
            "5/5 [==============================] - 0s 6ms/step - loss: 1.5286 - accuracy: 0.3800\n",
            "Epoch 179/500\n",
            "5/5 [==============================] - 0s 5ms/step - loss: 1.5206 - accuracy: 0.3600\n",
            "Epoch 180/500\n",
            "5/5 [==============================] - 0s 5ms/step - loss: 1.5220 - accuracy: 0.4000\n",
            "Epoch 181/500\n",
            "5/5 [==============================] - 0s 5ms/step - loss: 1.5265 - accuracy: 0.3800\n",
            "Epoch 182/500\n",
            "5/5 [==============================] - 0s 5ms/step - loss: 1.5171 - accuracy: 0.3800\n",
            "Epoch 183/500\n",
            "5/5 [==============================] - 0s 6ms/step - loss: 1.5187 - accuracy: 0.3600\n",
            "Epoch 184/500\n",
            "5/5 [==============================] - 0s 4ms/step - loss: 1.5305 - accuracy: 0.3600\n",
            "Epoch 185/500\n",
            "5/5 [==============================] - 0s 5ms/step - loss: 1.5266 - accuracy: 0.3600\n",
            "Epoch 186/500\n",
            "5/5 [==============================] - 0s 5ms/step - loss: 1.5130 - accuracy: 0.3600\n",
            "Epoch 187/500\n",
            "5/5 [==============================] - 0s 5ms/step - loss: 1.5294 - accuracy: 0.3600\n",
            "Epoch 188/500\n",
            "5/5 [==============================] - 0s 5ms/step - loss: 1.5150 - accuracy: 0.4000\n",
            "Epoch 189/500\n",
            "5/5 [==============================] - 0s 7ms/step - loss: 1.5139 - accuracy: 0.3800\n",
            "Epoch 190/500\n",
            "5/5 [==============================] - 0s 8ms/step - loss: 1.5165 - accuracy: 0.3600\n",
            "Epoch 191/500\n",
            "5/5 [==============================] - 0s 5ms/step - loss: 1.5195 - accuracy: 0.3800\n",
            "Epoch 192/500\n",
            "5/5 [==============================] - 0s 5ms/step - loss: 1.5391 - accuracy: 0.3800\n",
            "Epoch 193/500\n",
            "5/5 [==============================] - 0s 5ms/step - loss: 1.5159 - accuracy: 0.4400\n",
            "Epoch 194/500\n",
            "5/5 [==============================] - 0s 5ms/step - loss: 1.5092 - accuracy: 0.4000\n",
            "Epoch 195/500\n",
            "5/5 [==============================] - 0s 5ms/step - loss: 1.5108 - accuracy: 0.3600\n",
            "Epoch 196/500\n",
            "5/5 [==============================] - 0s 6ms/step - loss: 1.5134 - accuracy: 0.4000\n",
            "Epoch 197/500\n",
            "5/5 [==============================] - 0s 6ms/step - loss: 1.5317 - accuracy: 0.3800\n",
            "Epoch 198/500\n",
            "5/5 [==============================] - 0s 5ms/step - loss: 1.5121 - accuracy: 0.3400\n",
            "Epoch 199/500\n",
            "5/5 [==============================] - 0s 5ms/step - loss: 1.5312 - accuracy: 0.3200\n",
            "Epoch 200/500\n",
            "5/5 [==============================] - 0s 5ms/step - loss: 1.5059 - accuracy: 0.3600\n",
            "Epoch 201/500\n",
            "5/5 [==============================] - 0s 6ms/step - loss: 1.5196 - accuracy: 0.3800\n",
            "Epoch 202/500\n",
            "5/5 [==============================] - 0s 5ms/step - loss: 1.5104 - accuracy: 0.3800\n",
            "Epoch 203/500\n",
            "5/5 [==============================] - 0s 5ms/step - loss: 1.5057 - accuracy: 0.3600\n",
            "Epoch 204/500\n",
            "5/5 [==============================] - 0s 5ms/step - loss: 1.5092 - accuracy: 0.3800\n",
            "Epoch 205/500\n",
            "5/5 [==============================] - 0s 5ms/step - loss: 1.5029 - accuracy: 0.3800\n",
            "Epoch 206/500\n",
            "5/5 [==============================] - 0s 6ms/step - loss: 1.5064 - accuracy: 0.3600\n",
            "Epoch 207/500\n",
            "5/5 [==============================] - 0s 5ms/step - loss: 1.4983 - accuracy: 0.3800\n",
            "Epoch 208/500\n",
            "5/5 [==============================] - 0s 5ms/step - loss: 1.4992 - accuracy: 0.3800\n",
            "Epoch 209/500\n",
            "5/5 [==============================] - 0s 6ms/step - loss: 1.4972 - accuracy: 0.3800\n",
            "Epoch 210/500\n",
            "5/5 [==============================] - 0s 5ms/step - loss: 1.5016 - accuracy: 0.3600\n",
            "Epoch 211/500\n",
            "5/5 [==============================] - 0s 5ms/step - loss: 1.4943 - accuracy: 0.3600\n",
            "Epoch 212/500\n",
            "5/5 [==============================] - 0s 6ms/step - loss: 1.4968 - accuracy: 0.4000\n",
            "Epoch 213/500\n",
            "5/5 [==============================] - 0s 5ms/step - loss: 1.5039 - accuracy: 0.3600\n",
            "Epoch 214/500\n",
            "5/5 [==============================] - 0s 5ms/step - loss: 1.5004 - accuracy: 0.3800\n",
            "Epoch 215/500\n",
            "5/5 [==============================] - 0s 5ms/step - loss: 1.5018 - accuracy: 0.3600\n",
            "Epoch 216/500\n",
            "5/5 [==============================] - 0s 5ms/step - loss: 1.5039 - accuracy: 0.3600\n",
            "Epoch 217/500\n",
            "5/5 [==============================] - 0s 5ms/step - loss: 1.5068 - accuracy: 0.3800\n",
            "Epoch 218/500\n",
            "5/5 [==============================] - 0s 6ms/step - loss: 1.5016 - accuracy: 0.3800\n",
            "Epoch 219/500\n",
            "5/5 [==============================] - 0s 5ms/step - loss: 1.4968 - accuracy: 0.3400\n",
            "Epoch 220/500\n",
            "5/5 [==============================] - 0s 5ms/step - loss: 1.4980 - accuracy: 0.3600\n",
            "Epoch 221/500\n",
            "5/5 [==============================] - 0s 5ms/step - loss: 1.4969 - accuracy: 0.3800\n",
            "Epoch 222/500\n",
            "5/5 [==============================] - 0s 5ms/step - loss: 1.4901 - accuracy: 0.3800\n",
            "Epoch 223/500\n",
            "5/5 [==============================] - 0s 5ms/step - loss: 1.4870 - accuracy: 0.3600\n",
            "Epoch 224/500\n",
            "5/5 [==============================] - 0s 5ms/step - loss: 1.4867 - accuracy: 0.3400\n",
            "Epoch 225/500\n",
            "5/5 [==============================] - 0s 5ms/step - loss: 1.4886 - accuracy: 0.3800\n",
            "Epoch 226/500\n",
            "5/5 [==============================] - 0s 5ms/step - loss: 1.4848 - accuracy: 0.4000\n",
            "Epoch 227/500\n",
            "5/5 [==============================] - 0s 6ms/step - loss: 1.4837 - accuracy: 0.4000\n",
            "Epoch 228/500\n",
            "5/5 [==============================] - 0s 5ms/step - loss: 1.4826 - accuracy: 0.3800\n",
            "Epoch 229/500\n",
            "5/5 [==============================] - 0s 5ms/step - loss: 1.4836 - accuracy: 0.3800\n",
            "Epoch 230/500\n",
            "5/5 [==============================] - 0s 5ms/step - loss: 1.4832 - accuracy: 0.3600\n",
            "Epoch 231/500\n",
            "5/5 [==============================] - 0s 5ms/step - loss: 1.4896 - accuracy: 0.3600\n",
            "Epoch 232/500\n",
            "5/5 [==============================] - 0s 6ms/step - loss: 1.4850 - accuracy: 0.3800\n",
            "Epoch 233/500\n",
            "5/5 [==============================] - 0s 7ms/step - loss: 1.4952 - accuracy: 0.3200\n",
            "Epoch 234/500\n",
            "5/5 [==============================] - 0s 5ms/step - loss: 1.4774 - accuracy: 0.3800\n",
            "Epoch 235/500\n",
            "5/5 [==============================] - 0s 5ms/step - loss: 1.4810 - accuracy: 0.3800\n",
            "Epoch 236/500\n",
            "5/5 [==============================] - 0s 8ms/step - loss: 1.4774 - accuracy: 0.3600\n",
            "Epoch 237/500\n",
            "5/5 [==============================] - 0s 6ms/step - loss: 1.4842 - accuracy: 0.3600\n",
            "Epoch 238/500\n",
            "5/5 [==============================] - 0s 5ms/step - loss: 1.4689 - accuracy: 0.4000\n",
            "Epoch 239/500\n",
            "5/5 [==============================] - 0s 5ms/step - loss: 1.4853 - accuracy: 0.3800\n",
            "Epoch 240/500\n",
            "5/5 [==============================] - 0s 5ms/step - loss: 1.4762 - accuracy: 0.4400\n",
            "Epoch 241/500\n",
            "5/5 [==============================] - 0s 5ms/step - loss: 1.4706 - accuracy: 0.4000\n",
            "Epoch 242/500\n",
            "5/5 [==============================] - 0s 5ms/step - loss: 1.4788 - accuracy: 0.4000\n",
            "Epoch 243/500\n",
            "5/5 [==============================] - 0s 5ms/step - loss: 1.4812 - accuracy: 0.3800\n",
            "Epoch 244/500\n",
            "5/5 [==============================] - 0s 5ms/step - loss: 1.4817 - accuracy: 0.3600\n",
            "Epoch 245/500\n",
            "5/5 [==============================] - 0s 5ms/step - loss: 1.4775 - accuracy: 0.3400\n",
            "Epoch 246/500\n",
            "5/5 [==============================] - 0s 5ms/step - loss: 1.4821 - accuracy: 0.3600\n",
            "Epoch 247/500\n",
            "5/5 [==============================] - 0s 6ms/step - loss: 1.4755 - accuracy: 0.4000\n",
            "Epoch 248/500\n",
            "5/5 [==============================] - 0s 8ms/step - loss: 1.4717 - accuracy: 0.3600\n",
            "Epoch 249/500\n",
            "5/5 [==============================] - 0s 5ms/step - loss: 1.4687 - accuracy: 0.3600\n",
            "Epoch 250/500\n",
            "5/5 [==============================] - 0s 6ms/step - loss: 1.4653 - accuracy: 0.3800\n",
            "Epoch 251/500\n",
            "5/5 [==============================] - 0s 6ms/step - loss: 1.4629 - accuracy: 0.4000\n",
            "Epoch 252/500\n",
            "5/5 [==============================] - 0s 5ms/step - loss: 1.4684 - accuracy: 0.4000\n",
            "Epoch 253/500\n",
            "5/5 [==============================] - 0s 5ms/step - loss: 1.4774 - accuracy: 0.3600\n",
            "Epoch 254/500\n",
            "5/5 [==============================] - 0s 5ms/step - loss: 1.4975 - accuracy: 0.3600\n",
            "Epoch 255/500\n",
            "5/5 [==============================] - 0s 5ms/step - loss: 1.4819 - accuracy: 0.4200\n",
            "Epoch 256/500\n",
            "5/5 [==============================] - 0s 5ms/step - loss: 1.4719 - accuracy: 0.4000\n",
            "Epoch 257/500\n",
            "5/5 [==============================] - 0s 5ms/step - loss: 1.4653 - accuracy: 0.4200\n",
            "Epoch 258/500\n",
            "5/5 [==============================] - 0s 6ms/step - loss: 1.5089 - accuracy: 0.3600\n",
            "Epoch 259/500\n",
            "5/5 [==============================] - 0s 6ms/step - loss: 1.4651 - accuracy: 0.4000\n",
            "Epoch 260/500\n",
            "5/5 [==============================] - 0s 5ms/step - loss: 1.4816 - accuracy: 0.4200\n",
            "Epoch 261/500\n",
            "5/5 [==============================] - 0s 5ms/step - loss: 1.4672 - accuracy: 0.4200\n",
            "Epoch 262/500\n",
            "5/5 [==============================] - 0s 5ms/step - loss: 1.4650 - accuracy: 0.3800\n",
            "Epoch 263/500\n",
            "5/5 [==============================] - 0s 5ms/step - loss: 1.4673 - accuracy: 0.4000\n",
            "Epoch 264/500\n",
            "5/5 [==============================] - 0s 5ms/step - loss: 1.4870 - accuracy: 0.3600\n",
            "Epoch 265/500\n",
            "5/5 [==============================] - 0s 5ms/step - loss: 1.4614 - accuracy: 0.3800\n",
            "Epoch 266/500\n",
            "5/5 [==============================] - 0s 6ms/step - loss: 1.4606 - accuracy: 0.3600\n",
            "Epoch 267/500\n",
            "5/5 [==============================] - 0s 5ms/step - loss: 1.4636 - accuracy: 0.4000\n",
            "Epoch 268/500\n",
            "5/5 [==============================] - 0s 7ms/step - loss: 1.4538 - accuracy: 0.4000\n",
            "Epoch 269/500\n",
            "5/5 [==============================] - 0s 5ms/step - loss: 1.4532 - accuracy: 0.4000\n",
            "Epoch 270/500\n",
            "5/5 [==============================] - 0s 5ms/step - loss: 1.4669 - accuracy: 0.4000\n",
            "Epoch 271/500\n",
            "5/5 [==============================] - 0s 5ms/step - loss: 1.4591 - accuracy: 0.4000\n",
            "Epoch 272/500\n",
            "5/5 [==============================] - 0s 5ms/step - loss: 1.4475 - accuracy: 0.3800\n",
            "Epoch 273/500\n",
            "5/5 [==============================] - 0s 5ms/step - loss: 1.4542 - accuracy: 0.3600\n",
            "Epoch 274/500\n",
            "5/5 [==============================] - 0s 7ms/step - loss: 1.4512 - accuracy: 0.4000\n",
            "Epoch 275/500\n",
            "5/5 [==============================] - 0s 5ms/step - loss: 1.4569 - accuracy: 0.4200\n",
            "Epoch 276/500\n",
            "5/5 [==============================] - 0s 5ms/step - loss: 1.4569 - accuracy: 0.3800\n",
            "Epoch 277/500\n",
            "5/5 [==============================] - 0s 7ms/step - loss: 1.4647 - accuracy: 0.3200\n",
            "Epoch 278/500\n",
            "5/5 [==============================] - 0s 5ms/step - loss: 1.4507 - accuracy: 0.4000\n",
            "Epoch 279/500\n",
            "5/5 [==============================] - 0s 5ms/step - loss: 1.4491 - accuracy: 0.4000\n",
            "Epoch 280/500\n",
            "5/5 [==============================] - 0s 5ms/step - loss: 1.4502 - accuracy: 0.4000\n",
            "Epoch 281/500\n",
            "5/5 [==============================] - 0s 5ms/step - loss: 1.4406 - accuracy: 0.4000\n",
            "Epoch 282/500\n",
            "5/5 [==============================] - 0s 5ms/step - loss: 1.4487 - accuracy: 0.3600\n",
            "Epoch 283/500\n",
            "5/5 [==============================] - 0s 5ms/step - loss: 1.4428 - accuracy: 0.3800\n",
            "Epoch 284/500\n",
            "5/5 [==============================] - 0s 5ms/step - loss: 1.4504 - accuracy: 0.3800\n",
            "Epoch 285/500\n",
            "5/5 [==============================] - 0s 6ms/step - loss: 1.4430 - accuracy: 0.3600\n",
            "Epoch 286/500\n",
            "5/5 [==============================] - 0s 5ms/step - loss: 1.4445 - accuracy: 0.4000\n",
            "Epoch 287/500\n",
            "5/5 [==============================] - 0s 6ms/step - loss: 1.4484 - accuracy: 0.3800\n",
            "Epoch 288/500\n",
            "5/5 [==============================] - 0s 6ms/step - loss: 1.4455 - accuracy: 0.4000\n",
            "Epoch 289/500\n",
            "5/5 [==============================] - 0s 5ms/step - loss: 1.4408 - accuracy: 0.4000\n",
            "Epoch 290/500\n",
            "5/5 [==============================] - 0s 5ms/step - loss: 1.4463 - accuracy: 0.3800\n",
            "Epoch 291/500\n",
            "5/5 [==============================] - 0s 5ms/step - loss: 1.4324 - accuracy: 0.3800\n",
            "Epoch 292/500\n",
            "5/5 [==============================] - 0s 7ms/step - loss: 1.4404 - accuracy: 0.3600\n",
            "Epoch 293/500\n",
            "5/5 [==============================] - 0s 5ms/step - loss: 1.4386 - accuracy: 0.3600\n",
            "Epoch 294/500\n",
            "5/5 [==============================] - 0s 5ms/step - loss: 1.4403 - accuracy: 0.4000\n",
            "Epoch 295/500\n",
            "5/5 [==============================] - 0s 6ms/step - loss: 1.4436 - accuracy: 0.3800\n",
            "Epoch 296/500\n",
            "5/5 [==============================] - 0s 8ms/step - loss: 1.4313 - accuracy: 0.3800\n",
            "Epoch 297/500\n",
            "5/5 [==============================] - 0s 5ms/step - loss: 1.4300 - accuracy: 0.3600\n",
            "Epoch 298/500\n",
            "5/5 [==============================] - 0s 6ms/step - loss: 1.4351 - accuracy: 0.3800\n",
            "Epoch 299/500\n",
            "5/5 [==============================] - 0s 6ms/step - loss: 1.4324 - accuracy: 0.3800\n",
            "Epoch 300/500\n",
            "5/5 [==============================] - 0s 6ms/step - loss: 1.4270 - accuracy: 0.3800\n",
            "Epoch 301/500\n",
            "5/5 [==============================] - 0s 6ms/step - loss: 1.4372 - accuracy: 0.4000\n",
            "Epoch 302/500\n",
            "5/5 [==============================] - 0s 6ms/step - loss: 1.4353 - accuracy: 0.4200\n",
            "Epoch 303/500\n",
            "5/5 [==============================] - 0s 5ms/step - loss: 1.4271 - accuracy: 0.3800\n",
            "Epoch 304/500\n",
            "5/5 [==============================] - 0s 5ms/step - loss: 1.4288 - accuracy: 0.3800\n",
            "Epoch 305/500\n",
            "5/5 [==============================] - 0s 5ms/step - loss: 1.4246 - accuracy: 0.3800\n",
            "Epoch 306/500\n",
            "5/5 [==============================] - 0s 6ms/step - loss: 1.4392 - accuracy: 0.3600\n",
            "Epoch 307/500\n",
            "5/5 [==============================] - 0s 5ms/step - loss: 1.4222 - accuracy: 0.4000\n",
            "Epoch 308/500\n",
            "5/5 [==============================] - 0s 5ms/step - loss: 1.4264 - accuracy: 0.4200\n",
            "Epoch 309/500\n",
            "5/5 [==============================] - 0s 6ms/step - loss: 1.4311 - accuracy: 0.4200\n",
            "Epoch 310/500\n",
            "5/5 [==============================] - 0s 6ms/step - loss: 1.4299 - accuracy: 0.3800\n",
            "Epoch 311/500\n",
            "5/5 [==============================] - 0s 6ms/step - loss: 1.4237 - accuracy: 0.3800\n",
            "Epoch 312/500\n",
            "5/5 [==============================] - 0s 5ms/step - loss: 1.4150 - accuracy: 0.4200\n",
            "Epoch 313/500\n",
            "5/5 [==============================] - 0s 5ms/step - loss: 1.4245 - accuracy: 0.4200\n",
            "Epoch 314/500\n",
            "5/5 [==============================] - 0s 5ms/step - loss: 1.4200 - accuracy: 0.4000\n",
            "Epoch 315/500\n",
            "5/5 [==============================] - 0s 6ms/step - loss: 1.4197 - accuracy: 0.3800\n",
            "Epoch 316/500\n",
            "5/5 [==============================] - 0s 6ms/step - loss: 1.4212 - accuracy: 0.3600\n",
            "Epoch 317/500\n",
            "5/5 [==============================] - 0s 6ms/step - loss: 1.4198 - accuracy: 0.3800\n",
            "Epoch 318/500\n",
            "5/5 [==============================] - 0s 6ms/step - loss: 1.4117 - accuracy: 0.3800\n",
            "Epoch 319/500\n",
            "5/5 [==============================] - 0s 5ms/step - loss: 1.4165 - accuracy: 0.3800\n",
            "Epoch 320/500\n",
            "5/5 [==============================] - 0s 6ms/step - loss: 1.4193 - accuracy: 0.3600\n",
            "Epoch 321/500\n",
            "5/5 [==============================] - 0s 6ms/step - loss: 1.4172 - accuracy: 0.3600\n",
            "Epoch 322/500\n",
            "5/5 [==============================] - 0s 5ms/step - loss: 1.4051 - accuracy: 0.3600\n",
            "Epoch 323/500\n",
            "5/5 [==============================] - 0s 5ms/step - loss: 1.4212 - accuracy: 0.3800\n",
            "Epoch 324/500\n",
            "5/5 [==============================] - 0s 5ms/step - loss: 1.4102 - accuracy: 0.3600\n",
            "Epoch 325/500\n",
            "5/5 [==============================] - 0s 5ms/step - loss: 1.4143 - accuracy: 0.3800\n",
            "Epoch 326/500\n",
            "5/5 [==============================] - 0s 6ms/step - loss: 1.4127 - accuracy: 0.3600\n",
            "Epoch 327/500\n",
            "5/5 [==============================] - 0s 5ms/step - loss: 1.4284 - accuracy: 0.3400\n",
            "Epoch 328/500\n",
            "5/5 [==============================] - 0s 5ms/step - loss: 1.4133 - accuracy: 0.3800\n",
            "Epoch 329/500\n",
            "5/5 [==============================] - 0s 6ms/step - loss: 1.4125 - accuracy: 0.4000\n",
            "Epoch 330/500\n",
            "5/5 [==============================] - 0s 7ms/step - loss: 1.3972 - accuracy: 0.4000\n",
            "Epoch 331/500\n",
            "5/5 [==============================] - 0s 5ms/step - loss: 1.4108 - accuracy: 0.4200\n",
            "Epoch 332/500\n",
            "5/5 [==============================] - 0s 6ms/step - loss: 1.4177 - accuracy: 0.4000\n",
            "Epoch 333/500\n",
            "5/5 [==============================] - 0s 5ms/step - loss: 1.3985 - accuracy: 0.3600\n",
            "Epoch 334/500\n",
            "5/5 [==============================] - 0s 5ms/step - loss: 1.4067 - accuracy: 0.4000\n",
            "Epoch 335/500\n",
            "5/5 [==============================] - 0s 7ms/step - loss: 1.4084 - accuracy: 0.4000\n",
            "Epoch 336/500\n",
            "5/5 [==============================] - 0s 5ms/step - loss: 1.4006 - accuracy: 0.3600\n",
            "Epoch 337/500\n",
            "5/5 [==============================] - 0s 5ms/step - loss: 1.4130 - accuracy: 0.4000\n",
            "Epoch 338/500\n",
            "5/5 [==============================] - 0s 6ms/step - loss: 1.4089 - accuracy: 0.4000\n",
            "Epoch 339/500\n",
            "5/5 [==============================] - 0s 5ms/step - loss: 1.4122 - accuracy: 0.4200\n",
            "Epoch 340/500\n",
            "5/5 [==============================] - 0s 7ms/step - loss: 1.3924 - accuracy: 0.3600\n",
            "Epoch 341/500\n",
            "5/5 [==============================] - 0s 5ms/step - loss: 1.4062 - accuracy: 0.3600\n",
            "Epoch 342/500\n",
            "5/5 [==============================] - 0s 5ms/step - loss: 1.3959 - accuracy: 0.3800\n",
            "Epoch 343/500\n",
            "5/5 [==============================] - 0s 6ms/step - loss: 1.3913 - accuracy: 0.4000\n",
            "Epoch 344/500\n",
            "5/5 [==============================] - 0s 6ms/step - loss: 1.3946 - accuracy: 0.3600\n",
            "Epoch 345/500\n",
            "5/5 [==============================] - 0s 6ms/step - loss: 1.3927 - accuracy: 0.3600\n",
            "Epoch 346/500\n",
            "5/5 [==============================] - 0s 6ms/step - loss: 1.3933 - accuracy: 0.3800\n",
            "Epoch 347/500\n",
            "5/5 [==============================] - 0s 5ms/step - loss: 1.3956 - accuracy: 0.3600\n",
            "Epoch 348/500\n",
            "5/5 [==============================] - 0s 6ms/step - loss: 1.3869 - accuracy: 0.3600\n",
            "Epoch 349/500\n",
            "5/5 [==============================] - 0s 7ms/step - loss: 1.3929 - accuracy: 0.4200\n",
            "Epoch 350/500\n",
            "5/5 [==============================] - 0s 6ms/step - loss: 1.3982 - accuracy: 0.3800\n",
            "Epoch 351/500\n",
            "5/5 [==============================] - 0s 7ms/step - loss: 1.4031 - accuracy: 0.3600\n",
            "Epoch 352/500\n",
            "5/5 [==============================] - 0s 7ms/step - loss: 1.3858 - accuracy: 0.3600\n",
            "Epoch 353/500\n",
            "5/5 [==============================] - 0s 6ms/step - loss: 1.3845 - accuracy: 0.4200\n",
            "Epoch 354/500\n",
            "5/5 [==============================] - 0s 7ms/step - loss: 1.3807 - accuracy: 0.3800\n",
            "Epoch 355/500\n",
            "5/5 [==============================] - 0s 6ms/step - loss: 1.3934 - accuracy: 0.3800\n",
            "Epoch 356/500\n",
            "5/5 [==============================] - 0s 6ms/step - loss: 1.3853 - accuracy: 0.4000\n",
            "Epoch 357/500\n",
            "5/5 [==============================] - 0s 7ms/step - loss: 1.3924 - accuracy: 0.3800\n",
            "Epoch 358/500\n",
            "5/5 [==============================] - 0s 6ms/step - loss: 1.3802 - accuracy: 0.3800\n",
            "Epoch 359/500\n",
            "5/5 [==============================] - 0s 7ms/step - loss: 1.3746 - accuracy: 0.3800\n",
            "Epoch 360/500\n",
            "5/5 [==============================] - 0s 6ms/step - loss: 1.3805 - accuracy: 0.4000\n",
            "Epoch 361/500\n",
            "5/5 [==============================] - 0s 8ms/step - loss: 1.3783 - accuracy: 0.4200\n",
            "Epoch 362/500\n",
            "5/5 [==============================] - 0s 8ms/step - loss: 1.3739 - accuracy: 0.4000\n",
            "Epoch 363/500\n",
            "5/5 [==============================] - 0s 7ms/step - loss: 1.3763 - accuracy: 0.3600\n",
            "Epoch 364/500\n",
            "5/5 [==============================] - 0s 7ms/step - loss: 1.3747 - accuracy: 0.3800\n",
            "Epoch 365/500\n",
            "5/5 [==============================] - 0s 6ms/step - loss: 1.3911 - accuracy: 0.4200\n",
            "Epoch 366/500\n",
            "5/5 [==============================] - 0s 6ms/step - loss: 1.3856 - accuracy: 0.3800\n",
            "Epoch 367/500\n",
            "5/5 [==============================] - 0s 6ms/step - loss: 1.3822 - accuracy: 0.3400\n",
            "Epoch 368/500\n",
            "5/5 [==============================] - 0s 7ms/step - loss: 1.3783 - accuracy: 0.4200\n",
            "Epoch 369/500\n",
            "5/5 [==============================] - 0s 7ms/step - loss: 1.3737 - accuracy: 0.3800\n",
            "Epoch 370/500\n",
            "5/5 [==============================] - 0s 5ms/step - loss: 1.3752 - accuracy: 0.4400\n",
            "Epoch 371/500\n",
            "5/5 [==============================] - 0s 6ms/step - loss: 1.3692 - accuracy: 0.4000\n",
            "Epoch 372/500\n",
            "5/5 [==============================] - 0s 6ms/step - loss: 1.3687 - accuracy: 0.4000\n",
            "Epoch 373/500\n",
            "5/5 [==============================] - 0s 5ms/step - loss: 1.3641 - accuracy: 0.4000\n",
            "Epoch 374/500\n",
            "5/5 [==============================] - 0s 5ms/step - loss: 1.3726 - accuracy: 0.3600\n",
            "Epoch 375/500\n",
            "5/5 [==============================] - 0s 6ms/step - loss: 1.3769 - accuracy: 0.4000\n",
            "Epoch 376/500\n",
            "5/5 [==============================] - 0s 6ms/step - loss: 1.3563 - accuracy: 0.4200\n",
            "Epoch 377/500\n",
            "5/5 [==============================] - 0s 6ms/step - loss: 1.3663 - accuracy: 0.4200\n",
            "Epoch 378/500\n",
            "5/5 [==============================] - 0s 6ms/step - loss: 1.3673 - accuracy: 0.4000\n",
            "Epoch 379/500\n",
            "5/5 [==============================] - 0s 7ms/step - loss: 1.3609 - accuracy: 0.3600\n",
            "Epoch 380/500\n",
            "5/5 [==============================] - 0s 6ms/step - loss: 1.3530 - accuracy: 0.4000\n",
            "Epoch 381/500\n",
            "5/5 [==============================] - 0s 6ms/step - loss: 1.3620 - accuracy: 0.4000\n",
            "Epoch 382/500\n",
            "5/5 [==============================] - 0s 6ms/step - loss: 1.3535 - accuracy: 0.4200\n",
            "Epoch 383/500\n",
            "5/5 [==============================] - 0s 6ms/step - loss: 1.3431 - accuracy: 0.4200\n",
            "Epoch 384/500\n",
            "5/5 [==============================] - 0s 6ms/step - loss: 1.3715 - accuracy: 0.3600\n",
            "Epoch 385/500\n",
            "5/5 [==============================] - 0s 6ms/step - loss: 1.3597 - accuracy: 0.4400\n",
            "Epoch 386/500\n",
            "5/5 [==============================] - 0s 6ms/step - loss: 1.3684 - accuracy: 0.4200\n",
            "Epoch 387/500\n",
            "5/5 [==============================] - 0s 5ms/step - loss: 1.3453 - accuracy: 0.3600\n",
            "Epoch 388/500\n",
            "5/5 [==============================] - 0s 5ms/step - loss: 1.3522 - accuracy: 0.3600\n",
            "Epoch 389/500\n",
            "5/5 [==============================] - 0s 6ms/step - loss: 1.3431 - accuracy: 0.3600\n",
            "Epoch 390/500\n",
            "5/5 [==============================] - 0s 5ms/step - loss: 1.3535 - accuracy: 0.4000\n",
            "Epoch 391/500\n",
            "5/5 [==============================] - 0s 6ms/step - loss: 1.3392 - accuracy: 0.4600\n",
            "Epoch 392/500\n",
            "5/5 [==============================] - 0s 6ms/step - loss: 1.3458 - accuracy: 0.3200\n",
            "Epoch 393/500\n",
            "5/5 [==============================] - 0s 6ms/step - loss: 1.3430 - accuracy: 0.3800\n",
            "Epoch 394/500\n",
            "5/5 [==============================] - 0s 7ms/step - loss: 1.3326 - accuracy: 0.4200\n",
            "Epoch 395/500\n",
            "5/5 [==============================] - 0s 6ms/step - loss: 1.3458 - accuracy: 0.3800\n",
            "Epoch 396/500\n",
            "5/5 [==============================] - 0s 5ms/step - loss: 1.3428 - accuracy: 0.3800\n",
            "Epoch 397/500\n",
            "5/5 [==============================] - 0s 6ms/step - loss: 1.3442 - accuracy: 0.3600\n",
            "Epoch 398/500\n",
            "5/5 [==============================] - 0s 5ms/step - loss: 1.3313 - accuracy: 0.3800\n",
            "Epoch 399/500\n",
            "5/5 [==============================] - 0s 5ms/step - loss: 1.3404 - accuracy: 0.4200\n",
            "Epoch 400/500\n",
            "5/5 [==============================] - 0s 6ms/step - loss: 1.3285 - accuracy: 0.3600\n",
            "Epoch 401/500\n",
            "5/5 [==============================] - 0s 6ms/step - loss: 1.3344 - accuracy: 0.3800\n",
            "Epoch 402/500\n",
            "5/5 [==============================] - 0s 5ms/step - loss: 1.3305 - accuracy: 0.3800\n",
            "Epoch 403/500\n",
            "5/5 [==============================] - 0s 7ms/step - loss: 1.3232 - accuracy: 0.4000\n",
            "Epoch 404/500\n",
            "5/5 [==============================] - 0s 6ms/step - loss: 1.3217 - accuracy: 0.4000\n",
            "Epoch 405/500\n",
            "5/5 [==============================] - 0s 6ms/step - loss: 1.3209 - accuracy: 0.4200\n",
            "Epoch 406/500\n",
            "5/5 [==============================] - 0s 7ms/step - loss: 1.3196 - accuracy: 0.3800\n",
            "Epoch 407/500\n",
            "5/5 [==============================] - 0s 6ms/step - loss: 1.3212 - accuracy: 0.4200\n",
            "Epoch 408/500\n",
            "5/5 [==============================] - 0s 6ms/step - loss: 1.3219 - accuracy: 0.4200\n",
            "Epoch 409/500\n",
            "5/5 [==============================] - 0s 5ms/step - loss: 1.3220 - accuracy: 0.4200\n",
            "Epoch 410/500\n",
            "5/5 [==============================] - 0s 8ms/step - loss: 1.3193 - accuracy: 0.3400\n",
            "Epoch 411/500\n",
            "5/5 [==============================] - 0s 5ms/step - loss: 1.3181 - accuracy: 0.4200\n",
            "Epoch 412/500\n",
            "5/5 [==============================] - 0s 6ms/step - loss: 1.3189 - accuracy: 0.4600\n",
            "Epoch 413/500\n",
            "5/5 [==============================] - 0s 8ms/step - loss: 1.3212 - accuracy: 0.4400\n",
            "Epoch 414/500\n",
            "5/5 [==============================] - 0s 6ms/step - loss: 1.3366 - accuracy: 0.3800\n",
            "Epoch 415/500\n",
            "5/5 [==============================] - 0s 5ms/step - loss: 1.3175 - accuracy: 0.4000\n",
            "Epoch 416/500\n",
            "5/5 [==============================] - 0s 6ms/step - loss: 1.3170 - accuracy: 0.3800\n",
            "Epoch 417/500\n",
            "5/5 [==============================] - 0s 7ms/step - loss: 1.3133 - accuracy: 0.4400\n",
            "Epoch 418/500\n",
            "5/5 [==============================] - 0s 6ms/step - loss: 1.3089 - accuracy: 0.4600\n",
            "Epoch 419/500\n",
            "5/5 [==============================] - 0s 7ms/step - loss: 1.3103 - accuracy: 0.4600\n",
            "Epoch 420/500\n",
            "5/5 [==============================] - 0s 7ms/step - loss: 1.3292 - accuracy: 0.4200\n",
            "Epoch 421/500\n",
            "5/5 [==============================] - 0s 6ms/step - loss: 1.3063 - accuracy: 0.4000\n",
            "Epoch 422/500\n",
            "5/5 [==============================] - 0s 6ms/step - loss: 1.3080 - accuracy: 0.4200\n",
            "Epoch 423/500\n",
            "5/5 [==============================] - 0s 6ms/step - loss: 1.2977 - accuracy: 0.4600\n",
            "Epoch 424/500\n",
            "5/5 [==============================] - 0s 6ms/step - loss: 1.3003 - accuracy: 0.4400\n",
            "Epoch 425/500\n",
            "5/5 [==============================] - 0s 6ms/step - loss: 1.3083 - accuracy: 0.4600\n",
            "Epoch 426/500\n",
            "5/5 [==============================] - 0s 7ms/step - loss: 1.2961 - accuracy: 0.4800\n",
            "Epoch 427/500\n",
            "5/5 [==============================] - 0s 7ms/step - loss: 1.2995 - accuracy: 0.4400\n",
            "Epoch 428/500\n",
            "5/5 [==============================] - 0s 6ms/step - loss: 1.2967 - accuracy: 0.3800\n",
            "Epoch 429/500\n",
            "5/5 [==============================] - 0s 5ms/step - loss: 1.2939 - accuracy: 0.4400\n",
            "Epoch 430/500\n",
            "5/5 [==============================] - 0s 6ms/step - loss: 1.2943 - accuracy: 0.4800\n",
            "Epoch 431/500\n",
            "5/5 [==============================] - 0s 6ms/step - loss: 1.2998 - accuracy: 0.5000\n",
            "Epoch 432/500\n",
            "5/5 [==============================] - 0s 6ms/step - loss: 1.3381 - accuracy: 0.4600\n",
            "Epoch 433/500\n",
            "5/5 [==============================] - 0s 6ms/step - loss: 1.2847 - accuracy: 0.4800\n",
            "Epoch 434/500\n",
            "5/5 [==============================] - 0s 7ms/step - loss: 1.3420 - accuracy: 0.4000\n",
            "Epoch 435/500\n",
            "5/5 [==============================] - 0s 7ms/step - loss: 1.3327 - accuracy: 0.4200\n",
            "Epoch 436/500\n",
            "5/5 [==============================] - 0s 7ms/step - loss: 1.3045 - accuracy: 0.4600\n",
            "Epoch 437/500\n",
            "5/5 [==============================] - 0s 7ms/step - loss: 1.3294 - accuracy: 0.4200\n",
            "Epoch 438/500\n",
            "5/5 [==============================] - 0s 8ms/step - loss: 1.2918 - accuracy: 0.4400\n",
            "Epoch 439/500\n",
            "5/5 [==============================] - 0s 5ms/step - loss: 1.2919 - accuracy: 0.4200\n",
            "Epoch 440/500\n",
            "5/5 [==============================] - 0s 7ms/step - loss: 1.2810 - accuracy: 0.4800\n",
            "Epoch 441/500\n",
            "5/5 [==============================] - 0s 7ms/step - loss: 1.2942 - accuracy: 0.4800\n",
            "Epoch 442/500\n",
            "5/5 [==============================] - 0s 6ms/step - loss: 1.2737 - accuracy: 0.5000\n",
            "Epoch 443/500\n",
            "5/5 [==============================] - 0s 6ms/step - loss: 1.3097 - accuracy: 0.4800\n",
            "Epoch 444/500\n",
            "5/5 [==============================] - 0s 7ms/step - loss: 1.2895 - accuracy: 0.4600\n",
            "Epoch 445/500\n",
            "5/5 [==============================] - 0s 6ms/step - loss: 1.2949 - accuracy: 0.4400\n",
            "Epoch 446/500\n",
            "5/5 [==============================] - 0s 8ms/step - loss: 1.2737 - accuracy: 0.4400\n",
            "Epoch 447/500\n",
            "5/5 [==============================] - 0s 7ms/step - loss: 1.2728 - accuracy: 0.4600\n",
            "Epoch 448/500\n",
            "5/5 [==============================] - 0s 6ms/step - loss: 1.2702 - accuracy: 0.4600\n",
            "Epoch 449/500\n",
            "5/5 [==============================] - 0s 5ms/step - loss: 1.2673 - accuracy: 0.4600\n",
            "Epoch 450/500\n",
            "5/5 [==============================] - 0s 6ms/step - loss: 1.2731 - accuracy: 0.4600\n",
            "Epoch 451/500\n",
            "5/5 [==============================] - 0s 6ms/step - loss: 1.2706 - accuracy: 0.5000\n",
            "Epoch 452/500\n",
            "5/5 [==============================] - 0s 6ms/step - loss: 1.2767 - accuracy: 0.5600\n",
            "Epoch 453/500\n",
            "5/5 [==============================] - 0s 9ms/step - loss: 1.2738 - accuracy: 0.4600\n",
            "Epoch 454/500\n",
            "5/5 [==============================] - 0s 9ms/step - loss: 1.2597 - accuracy: 0.4400\n",
            "Epoch 455/500\n",
            "5/5 [==============================] - 0s 7ms/step - loss: 1.2623 - accuracy: 0.5000\n",
            "Epoch 456/500\n",
            "5/5 [==============================] - 0s 6ms/step - loss: 1.2659 - accuracy: 0.4600\n",
            "Epoch 457/500\n",
            "5/5 [==============================] - 0s 6ms/step - loss: 1.2616 - accuracy: 0.4600\n",
            "Epoch 458/500\n",
            "5/5 [==============================] - 0s 7ms/step - loss: 1.2666 - accuracy: 0.4800\n",
            "Epoch 459/500\n",
            "5/5 [==============================] - 0s 6ms/step - loss: 1.2545 - accuracy: 0.5400\n",
            "Epoch 460/500\n",
            "5/5 [==============================] - 0s 8ms/step - loss: 1.2608 - accuracy: 0.5000\n",
            "Epoch 461/500\n",
            "5/5 [==============================] - 0s 7ms/step - loss: 1.2490 - accuracy: 0.5200\n",
            "Epoch 462/500\n",
            "5/5 [==============================] - 0s 6ms/step - loss: 1.2529 - accuracy: 0.4600\n",
            "Epoch 463/500\n",
            "5/5 [==============================] - 0s 5ms/step - loss: 1.2547 - accuracy: 0.4600\n",
            "Epoch 464/500\n",
            "5/5 [==============================] - 0s 8ms/step - loss: 1.2487 - accuracy: 0.5000\n",
            "Epoch 465/500\n",
            "5/5 [==============================] - 0s 6ms/step - loss: 1.2515 - accuracy: 0.4800\n",
            "Epoch 466/500\n",
            "5/5 [==============================] - 0s 5ms/step - loss: 1.2452 - accuracy: 0.4600\n",
            "Epoch 467/500\n",
            "5/5 [==============================] - 0s 6ms/step - loss: 1.2518 - accuracy: 0.4600\n",
            "Epoch 468/500\n",
            "5/5 [==============================] - 0s 5ms/step - loss: 1.2416 - accuracy: 0.5400\n",
            "Epoch 469/500\n",
            "5/5 [==============================] - 0s 7ms/step - loss: 1.2653 - accuracy: 0.4800\n",
            "Epoch 470/500\n",
            "5/5 [==============================] - 0s 5ms/step - loss: 1.2359 - accuracy: 0.5200\n",
            "Epoch 471/500\n",
            "5/5 [==============================] - 0s 5ms/step - loss: 1.2502 - accuracy: 0.4600\n",
            "Epoch 472/500\n",
            "5/5 [==============================] - 0s 6ms/step - loss: 1.2655 - accuracy: 0.4600\n",
            "Epoch 473/500\n",
            "5/5 [==============================] - 0s 6ms/step - loss: 1.2398 - accuracy: 0.5200\n",
            "Epoch 474/500\n",
            "5/5 [==============================] - 0s 6ms/step - loss: 1.2684 - accuracy: 0.4800\n",
            "Epoch 475/500\n",
            "5/5 [==============================] - 0s 6ms/step - loss: 1.2514 - accuracy: 0.4800\n",
            "Epoch 476/500\n",
            "5/5 [==============================] - 0s 6ms/step - loss: 1.2475 - accuracy: 0.4800\n",
            "Epoch 477/500\n",
            "5/5 [==============================] - 0s 5ms/step - loss: 1.2431 - accuracy: 0.4400\n",
            "Epoch 478/500\n",
            "5/5 [==============================] - 0s 5ms/step - loss: 1.2436 - accuracy: 0.5400\n",
            "Epoch 479/500\n",
            "5/5 [==============================] - 0s 7ms/step - loss: 1.2404 - accuracy: 0.5000\n",
            "Epoch 480/500\n",
            "5/5 [==============================] - 0s 6ms/step - loss: 1.2234 - accuracy: 0.5200\n",
            "Epoch 481/500\n",
            "5/5 [==============================] - 0s 6ms/step - loss: 1.2308 - accuracy: 0.5400\n",
            "Epoch 482/500\n",
            "5/5 [==============================] - 0s 6ms/step - loss: 1.2352 - accuracy: 0.5200\n",
            "Epoch 483/500\n",
            "5/5 [==============================] - 0s 6ms/step - loss: 1.2273 - accuracy: 0.4800\n",
            "Epoch 484/500\n",
            "5/5 [==============================] - 0s 6ms/step - loss: 1.2253 - accuracy: 0.5400\n",
            "Epoch 485/500\n",
            "5/5 [==============================] - 0s 7ms/step - loss: 1.2207 - accuracy: 0.5600\n",
            "Epoch 486/500\n",
            "5/5 [==============================] - 0s 6ms/step - loss: 1.2280 - accuracy: 0.5200\n",
            "Epoch 487/500\n",
            "5/5 [==============================] - 0s 5ms/step - loss: 1.2240 - accuracy: 0.5200\n",
            "Epoch 488/500\n",
            "5/5 [==============================] - 0s 7ms/step - loss: 1.2150 - accuracy: 0.5400\n",
            "Epoch 489/500\n",
            "5/5 [==============================] - 0s 6ms/step - loss: 1.2191 - accuracy: 0.5400\n",
            "Epoch 490/500\n",
            "5/5 [==============================] - 0s 6ms/step - loss: 1.2304 - accuracy: 0.5400\n",
            "Epoch 491/500\n",
            "5/5 [==============================] - 0s 6ms/step - loss: 1.2103 - accuracy: 0.5400\n",
            "Epoch 492/500\n",
            "5/5 [==============================] - 0s 6ms/step - loss: 1.2214 - accuracy: 0.5200\n",
            "Epoch 493/500\n",
            "5/5 [==============================] - 0s 6ms/step - loss: 1.2249 - accuracy: 0.5000\n",
            "Epoch 494/500\n",
            "5/5 [==============================] - 0s 6ms/step - loss: 1.2184 - accuracy: 0.5200\n",
            "Epoch 495/500\n",
            "5/5 [==============================] - 0s 7ms/step - loss: 1.2113 - accuracy: 0.6000\n",
            "Epoch 496/500\n",
            "5/5 [==============================] - 0s 6ms/step - loss: 1.2126 - accuracy: 0.5400\n",
            "Epoch 497/500\n",
            "5/5 [==============================] - 0s 7ms/step - loss: 1.2015 - accuracy: 0.5400\n",
            "Epoch 498/500\n",
            "5/5 [==============================] - 0s 6ms/step - loss: 1.2000 - accuracy: 0.5400\n",
            "Epoch 499/500\n",
            "5/5 [==============================] - 0s 7ms/step - loss: 1.1975 - accuracy: 0.5400\n",
            "Epoch 500/500\n",
            "5/5 [==============================] - 0s 6ms/step - loss: 1.2026 - accuracy: 0.5400\n"
          ],
          "name": "stdout"
        }
      ]
    },
    {
      "cell_type": "markdown",
      "metadata": {
        "id": "PwJ9zjuHlkMw"
      },
      "source": [
        "## Evaluation\n",
        "\n",
        "정확도가 얼마나 높은지 체크"
      ]
    },
    {
      "cell_type": "code",
      "metadata": {
        "colab": {
          "base_uri": "https://localhost:8080/"
        },
        "id": "4vlc58_Aixhw",
        "outputId": "0048a83c-d930-483a-885e-21ae81780b90"
      },
      "source": [
        "model.evaluate(X_train, y_train)"
      ],
      "execution_count": 17,
      "outputs": [
        {
          "output_type": "stream",
          "text": [
            "2/2 [==============================] - 0s 8ms/step - loss: 1.1845 - accuracy: 0.5400\n"
          ],
          "name": "stdout"
        },
        {
          "output_type": "execute_result",
          "data": {
            "text/plain": [
              "[1.1845146417617798, 0.5400000214576721]"
            ]
          },
          "metadata": {
            "tags": []
          },
          "execution_count": 17
        }
      ]
    },
    {
      "cell_type": "code",
      "metadata": {
        "colab": {
          "base_uri": "https://localhost:8080/"
        },
        "id": "UuDgtpx4rZWH",
        "outputId": "6e0af369-2064-4fe3-b060-328ca0eed6c2"
      },
      "source": [
        "X_train[4:5]"
      ],
      "execution_count": 18,
      "outputs": [
        {
          "output_type": "execute_result",
          "data": {
            "text/plain": [
              "array([[[0.61538462],\n",
              "        [0.07692308],\n",
              "        [0.53846154]]])"
            ]
          },
          "metadata": {
            "tags": []
          },
          "execution_count": 18
        }
      ]
    },
    {
      "cell_type": "code",
      "metadata": {
        "colab": {
          "base_uri": "https://localhost:8080/"
        },
        "id": "u4EBpGRVl0Wf",
        "outputId": "114e2e48-f4ee-4465-f266-10cb49b06ca4"
      },
      "source": [
        "model.predict(X_train[0:1])"
      ],
      "execution_count": 19,
      "outputs": [
        {
          "output_type": "execute_result",
          "data": {
            "text/plain": [
              "array([[4.4053531e-06, 7.1160402e-03, 3.8786512e-02, 9.9950954e-03,\n",
              "        9.9263685e-03, 4.8943680e-06, 2.5389832e-06, 2.3996043e-01,\n",
              "        5.3898573e-02, 1.6598853e-01, 4.4320348e-01, 3.1110469e-02,\n",
              "        2.6355060e-06]], dtype=float32)"
            ]
          },
          "metadata": {
            "tags": []
          },
          "execution_count": 19
        }
      ]
    },
    {
      "cell_type": "markdown",
      "metadata": {
        "id": "k8S4l7ymr1bo"
      },
      "source": [
        "[[[0.61538462], [0.07692308], [0.53846154]]]\n",
        "\n",
        "값을 넣어주는 모양\n",
        "\n",
        "first = 0.61538462\n",
        "\n",
        "second = 0.07692308\n",
        "\n",
        "third = 0.53846154\n",
        "\n",
        "[[[first], [second], [third]]]"
      ]
    },
    {
      "cell_type": "code",
      "metadata": {
        "id": "NxzPcLHNsYO_"
      },
      "source": [
        "first = 0.61538462\n",
        "\n",
        "second = 0.07692308\n",
        "\n",
        "third = 0.53846154"
      ],
      "execution_count": 20,
      "outputs": []
    },
    {
      "cell_type": "code",
      "metadata": {
        "id": "cHi0rVeYmdZx"
      },
      "source": [
        "# pred = model.predict([[[first], [second], [third]]])\n",
        "pred = model.predict(X_train[0:1])"
      ],
      "execution_count": 23,
      "outputs": []
    },
    {
      "cell_type": "code",
      "metadata": {
        "colab": {
          "base_uri": "https://localhost:8080/"
        },
        "id": "Wr3HccE0sZGw",
        "outputId": "4fec2261-56f2-41ed-8f1b-9eae8ada136f"
      },
      "source": [
        "np.argmax(pred)"
      ],
      "execution_count": 24,
      "outputs": [
        {
          "output_type": "execute_result",
          "data": {
            "text/plain": [
              "10"
            ]
          },
          "metadata": {
            "tags": []
          },
          "execution_count": 24
        }
      ]
    }
  ]
}