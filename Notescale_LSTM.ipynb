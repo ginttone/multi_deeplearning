{
  "nbformat": 4,
  "nbformat_minor": 0,
  "metadata": {
    "colab": {
      "name": "Notescale_LSTM.ipynb",
      "provenance": [],
      "collapsed_sections": [],
      "authorship_tag": "ABX9TyPGLduzfW2cpmgdSSlJI2Sq",
      "include_colab_link": true
    },
    "kernelspec": {
      "name": "python3",
      "display_name": "Python 3"
    },
    "language_info": {
      "name": "python"
    }
  },
  "cells": [
    {
      "cell_type": "markdown",
      "metadata": {
        "id": "view-in-github",
        "colab_type": "text"
      },
      "source": [
        "<a href=\"https://colab.research.google.com/github/ginttone/multi_deeplearning/blob/master/Notescale_LSTM.ipynb\" target=\"_parent\"><img src=\"https://colab.research.google.com/assets/colab-badge.svg\" alt=\"Open In Colab\"/></a>"
      ]
    },
    {
      "cell_type": "markdown",
      "metadata": {
        "id": "YK7VIBMVmECt"
      },
      "source": [
        "# 악보"
      ]
    },
    {
      "cell_type": "code",
      "metadata": {
        "id": "89R7z8dIlLJs"
      },
      "source": [
        "note_seq = ['g8', 'e8', 'e4', 'f8', 'd8', 'd4', 'c8', 'd8', 'e8', 'f8', 'g8', 'g8', 'g4',\n",
        "       'g8', 'e8', 'e8', 'e8', 'f8', 'd8', 'd4', 'c8', 'e8', 'g8', 'g8', 'e8', 'e8', 'e4',\n",
        "       'd8', 'd8', 'd8', 'd8', 'd8', 'e8', 'f4', 'e8', 'e8', 'e8', 'e8', 'e8', 'f8', 'g4',\n",
        "       'g8', 'e8', 'e4', 'f8', 'd8', 'd4', 'c8', 'e8', 'g8', 'g8', 'e8', 'e8', 'e4']"
      ],
      "execution_count": 2,
      "outputs": []
    },
    {
      "cell_type": "code",
      "metadata": {
        "colab": {
          "base_uri": "https://localhost:8080/"
        },
        "id": "53rR-Tu1n2Xw",
        "outputId": "9f0c267b-6450-40f3-c8c1-f29eff304fe8"
      },
      "source": [
        "note_seq[0:4], note_seq[1:5], note_seq[2:6]"
      ],
      "execution_count": 6,
      "outputs": [
        {
          "output_type": "execute_result",
          "data": {
            "text/plain": [
              "(['g8', 'e8', 'e4', 'f8'], ['e8', 'e4', 'f8', 'd8'], ['e4', 'f8', 'd8', 'd4'])"
            ]
          },
          "metadata": {
            "tags": []
          },
          "execution_count": 6
        }
      ]
    },
    {
      "cell_type": "code",
      "metadata": {
        "id": "x-0bR0Ecldv8"
      },
      "source": [
        "code2idx = {'c4':0, 'd4':1, 'e4':2, 'f4':3, 'g4':4, 'a4':5, 'b4':6,\n",
        "            'c8':7, 'd8':8, 'e8':9, 'f8':10, 'g8':11, 'a8':12, 'b8':13}"
      ],
      "execution_count": 3,
      "outputs": []
    },
    {
      "cell_type": "markdown",
      "metadata": {
        "id": "Rb6Ca8QEmHOR"
      },
      "source": [
        "## for문 돌리기\n",
        "\n",
        "값을 4개씩 점핑하며 그 값을 뽑아옴\n",
        "\n",
        "[4,8,12,...] -> 행렬 \n",
        "\n",
        "['g8', 'e8', 'e4', 'f8'] -> ['g8', 'e8', 'e4']['f8']"
      ]
    },
    {
      "cell_type": "code",
      "metadata": {
        "colab": {
          "base_uri": "https://localhost:8080/"
        },
        "id": "aoD05-q-naH6",
        "outputId": "ac719775-d754-4fca-c195-2416b0e37e26"
      },
      "source": [
        "range(len(note_seq)-4)"
      ],
      "execution_count": 4,
      "outputs": [
        {
          "output_type": "execute_result",
          "data": {
            "text/plain": [
              "range(0, 50)"
            ]
          },
          "metadata": {
            "tags": []
          },
          "execution_count": 4
        }
      ]
    },
    {
      "cell_type": "markdown",
      "metadata": {
        "id": "MCVpnlO3oEwA"
      },
      "source": [
        "for문 돌리기\n",
        " ```\n",
        " for i in range(len(note_seq)-4):\n",
        "  subset =note_seq[i:i+4]\n",
        "  print(subset)\n",
        "  ```\n",
        "\n",
        "  결과\n",
        "  ```\n",
        "  ['g8', 'e8', 'e4', 'f8']\n",
        "  ['e8', 'e4', 'f8', 'd8']\n",
        "  ['e4', 'f8', 'd8', 'd4']\n",
        "  ['f8', 'd8', 'd4', 'c8']\n",
        "  ['d8', 'd4', 'c8', 'd8']\n",
        "  ['d4', 'c8', 'd8', 'e8']\n",
        "  ['c8', 'd8', 'e8', 'f8']\n",
        "  ['d8', 'e8', 'f8', 'g8']\n",
        "          ....\n",
        "```\n"
      ]
    },
    {
      "cell_type": "markdown",
      "metadata": {
        "id": "njSHT0oIqTb6"
      },
      "source": [
        "\n",
        "(음)계명 만들기\n",
        "\n",
        "code2idx -> 딕셔너리 에 key 넣어주는데  value로 숫자화 시켜 넣어준다\n",
        "\n",
        "```\n",
        "for i in range(len(note_seq)-4):\n",
        "  subset =note_seq[i:i+4]\n",
        "  print(subset)\n",
        "  for item in subset:\n",
        "    print(code2idx[item])\n",
        "```\n",
        "결과\n",
        "```\n",
        "['g8', 'e8', 'e4', 'f8']\n",
        "11\n",
        "9\n",
        "2\n",
        "10\n",
        "['e8', 'e4', 'f8', 'd8']\n",
        "9\n",
        "2\n",
        "10\n",
        "8\n",
        "...\n",
        "```"
      ]
    },
    {
      "cell_type": "code",
      "metadata": {
        "colab": {
          "base_uri": "https://localhost:8080/",
          "height": 134
        },
        "id": "0sVwlEm1mKFL",
        "outputId": "791a46fb-2ca0-4137-cf31-e164d48ea65a"
      },
      "source": [
        "for i in range(len(note_seq)-4):\n",
        "  subset =note_seq[i:i+4]\n",
        "  for item in subset:"
      ],
      "execution_count": 11,
      "outputs": [
        {
          "output_type": "error",
          "ename": "SyntaxError",
          "evalue": "ignored",
          "traceback": [
            "\u001b[0;36m  File \u001b[0;32m\"<ipython-input-11-c1957fdd3ccb>\"\u001b[0;36m, line \u001b[0;32m3\u001b[0m\n\u001b[0;31m    for item in subset:\u001b[0m\n\u001b[0m                       ^\u001b[0m\n\u001b[0;31mSyntaxError\u001b[0m\u001b[0;31m:\u001b[0m unexpected EOF while parsing\n"
          ]
        }
      ]
    },
    {
      "cell_type": "code",
      "metadata": {
        "id": "VAxkUgdNow3_"
      },
      "source": [
        ""
      ],
      "execution_count": null,
      "outputs": []
    }
  ]
}