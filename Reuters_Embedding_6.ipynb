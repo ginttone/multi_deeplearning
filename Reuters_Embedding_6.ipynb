{
  "nbformat": 4,
  "nbformat_minor": 0,
  "metadata": {
    "colab": {
      "name": "Reuters_Embedding_6.ipynb",
      "provenance": [],
      "collapsed_sections": [],
      "authorship_tag": "ABX9TyOIYkbwMtW5XIiarUPeSZUU",
      "include_colab_link": true
    },
    "kernelspec": {
      "name": "python3",
      "display_name": "Python 3"
    },
    "language_info": {
      "name": "python"
    }
  },
  "cells": [
    {
      "cell_type": "markdown",
      "metadata": {
        "id": "view-in-github",
        "colab_type": "text"
      },
      "source": [
        "<a href=\"https://colab.research.google.com/github/ginttone/multi_deeplearning/blob/master/Reuters_Embedding_6.ipynb\" target=\"_parent\"><img src=\"https://colab.research.google.com/assets/colab-badge.svg\" alt=\"Open In Colab\"/></a>"
      ]
    },
    {
      "cell_type": "markdown",
      "metadata": {
        "id": "PhYmosCDZBNC"
      },
      "source": [
        "## Reuters datasets"
      ]
    },
    {
      "cell_type": "code",
      "metadata": {
        "id": "inp5kmxGXa9W"
      },
      "source": [
        "import tensorflow as tf"
      ],
      "execution_count": 1,
      "outputs": []
    },
    {
      "cell_type": "code",
      "metadata": {
        "colab": {
          "base_uri": "https://localhost:8080/"
        },
        "id": "ZOM9SAJVZIAh",
        "outputId": "bd06f9c2-eeb2-415b-f25a-2926a45034f7"
      },
      "source": [
        "(x_train, y_train),(x_test, y_test) = tf.keras.datasets.reuters.load_data(num_words=10000)\n",
        "x_train.shape, y_train.shape,x_test.shape, y_test.shape"
      ],
      "execution_count": 2,
      "outputs": [
        {
          "output_type": "stream",
          "text": [
            "/usr/local/lib/python3.7/dist-packages/tensorflow/python/keras/datasets/reuters.py:143: VisibleDeprecationWarning: Creating an ndarray from ragged nested sequences (which is a list-or-tuple of lists-or-tuples-or ndarrays with different lengths or shapes) is deprecated. If you meant to do this, you must specify 'dtype=object' when creating the ndarray\n",
            "  x_train, y_train = np.array(xs[:idx]), np.array(labels[:idx])\n",
            "/usr/local/lib/python3.7/dist-packages/tensorflow/python/keras/datasets/reuters.py:144: VisibleDeprecationWarning: Creating an ndarray from ragged nested sequences (which is a list-or-tuple of lists-or-tuples-or ndarrays with different lengths or shapes) is deprecated. If you meant to do this, you must specify 'dtype=object' when creating the ndarray\n",
            "  x_test, y_test = np.array(xs[idx:]), np.array(labels[idx:])\n"
          ],
          "name": "stderr"
        },
        {
          "output_type": "execute_result",
          "data": {
            "text/plain": [
              "((8982,), (8982,), (2246,), (2246,))"
            ]
          },
          "metadata": {
            "tags": []
          },
          "execution_count": 2
        }
      ]
    },
    {
      "cell_type": "code",
      "metadata": {
        "colab": {
          "base_uri": "https://localhost:8080/"
        },
        "id": "-P6LucQdZjWy",
        "outputId": "cc4adc22-9918-4fd9-b463-c79a10f958a2"
      },
      "source": [
        "print(x_train[3])"
      ],
      "execution_count": 3,
      "outputs": [
        {
          "output_type": "stream",
          "text": [
            "[1, 4, 686, 867, 558, 4, 37, 38, 309, 2276, 465, 893, 3541, 114, 2902, 69, 312, 35, 15, 7, 335, 1679, 21, 25, 3675, 2, 3498, 58, 69, 68, 493, 5, 25, 465, 377, 2430, 4, 293, 1172, 739, 4379, 8, 7, 1510, 1131, 13, 899, 6, 4, 990, 309, 415, 4519, 6920, 645, 3916, 791, 5, 4379, 75, 8, 24, 10, 1311, 4677, 5, 344, 756, 7, 2, 231, 9691, 2603, 1413, 43, 509, 43, 68, 327, 5, 2, 3498, 297, 638, 73, 430, 22, 4, 580, 7, 48, 41, 30, 2, 136, 4, 344, 298, 4, 580, 40, 344, 5078, 2, 291, 1488, 10, 3148, 5, 231, 6250, 1308, 5, 8250, 7043, 21, 2, 1622, 990, 309, 415, 265, 5992, 8945, 1149, 9118, 2, 4, 344, 9691, 756, 3729, 2, 4667, 2, 3249, 28, 10, 2190, 24, 77, 41, 682, 10, 4851, 2048, 7, 4, 5540, 2926, 1598, 22, 370, 5954, 7541, 5, 54, 5232, 1685, 2916, 10, 1571, 946, 60, 51, 3249, 5249, 4, 73, 2135, 669, 4, 580, 64, 10, 4280, 6, 2, 25, 482, 35, 150, 377, 2430, 7, 10, 2, 836, 2, 4730, 6920, 5, 4379, 2, 2, 3541, 8, 4, 344, 291, 2, 298, 4228, 6, 2223, 24, 2, 41, 343, 430, 210, 6, 3498, 297, 64, 10, 2281, 455, 5, 7003, 125, 222, 17, 12]\n"
          ],
          "name": "stdout"
        }
      ]
    },
    {
      "cell_type": "code",
      "metadata": {
        "colab": {
          "base_uri": "https://localhost:8080/"
        },
        "id": "uwGB0C_IZr_A",
        "outputId": "c46ee160-6dff-4462-d2d9-96ee6256dd6c"
      },
      "source": [
        "y_train[3]"
      ],
      "execution_count": 4,
      "outputs": [
        {
          "output_type": "execute_result",
          "data": {
            "text/plain": [
              "4"
            ]
          },
          "metadata": {
            "tags": []
          },
          "execution_count": 4
        }
      ]
    },
    {
      "cell_type": "code",
      "metadata": {
        "colab": {
          "base_uri": "https://localhost:8080/"
        },
        "id": "T9zc9NfjZ1dt",
        "outputId": "12c67fa9-fb33-4ee3-d35f-ec35de4af50d"
      },
      "source": [
        "import numpy as np\n",
        "len(np.unique(y_train)), np.unique(y_train)"
      ],
      "execution_count": 5,
      "outputs": [
        {
          "output_type": "execute_result",
          "data": {
            "text/plain": [
              "(46, array([ 0,  1,  2,  3,  4,  5,  6,  7,  8,  9, 10, 11, 12, 13, 14, 15, 16,\n",
              "        17, 18, 19, 20, 21, 22, 23, 24, 25, 26, 27, 28, 29, 30, 31, 32, 33,\n",
              "        34, 35, 36, 37, 38, 39, 40, 41, 42, 43, 44, 45]))"
            ]
          },
          "metadata": {
            "tags": []
          },
          "execution_count": 5
        }
      ]
    },
    {
      "cell_type": "code",
      "metadata": {
        "id": "EuFzvyX2aATD"
      },
      "source": [
        "word_dic = tf.keras.datasets.reuters.get_word_index()\n",
        "# print(type(word_dic),word_dic)"
      ],
      "execution_count": 28,
      "outputs": []
    },
    {
      "cell_type": "markdown",
      "metadata": {
        "id": "2EoYIiA_e6Fp"
      },
      "source": [
        "invert_word_index[num] 해주는 이유는 숫자로 된 데이터를 문자로 보기위해 해준것이다.\n"
      ]
    },
    {
      "cell_type": "code",
      "metadata": {
        "id": "8f1-e4v7n_eo"
      },
      "source": [
        "invert_word_dic = dict()\n",
        "\n",
        "for (key, value) in word_dic.items():\n",
        "  invert_word_dic[value] = key\n",
        "\n",
        "# print(invert_word_dic)"
      ],
      "execution_count": 27,
      "outputs": []
    },
    {
      "cell_type": "code",
      "metadata": {
        "id": "kwAaFzHsbzby"
      },
      "source": [
        "def f_decode_str(x_data):\n",
        "  decode_str = str()\n",
        "  for num in x_data:\n",
        "    # print(num, invert_word_dic[num])\n",
        "    decode_str = decode_str + invert_word_dic[num] + ' '\n",
        "\n",
        "  return decode_str"
      ],
      "execution_count": 8,
      "outputs": []
    },
    {
      "cell_type": "code",
      "metadata": {
        "colab": {
          "base_uri": "https://localhost:8080/",
          "height": 70
        },
        "id": "o1zzlfTqgeAC",
        "outputId": "e073f7f6-ee84-458b-9d77-5a4894cf0cb7"
      },
      "source": [
        "f_decode_str(x_train[0])"
      ],
      "execution_count": 9,
      "outputs": [
        {
          "output_type": "execute_result",
          "data": {
            "application/vnd.google.colaboratory.intrinsic+json": {
              "type": "string"
            },
            "text/plain": [
              "'the of of mln loss for plc said at only ended said commonwealth could 1 traders now april 0 a after said from 1985 and from foreign 000 april 0 prices its account year a but in this mln home an states earlier and rise and revs vs 000 its 16 vs 000 a but 3 psbr oils several and shareholders and dividend vs 000 its all 4 vs 000 1 mln agreed largely april 0 are 2 states will billion total and against 000 pct dlrs '"
            ]
          },
          "metadata": {
            "tags": []
          },
          "execution_count": 9
        }
      ]
    },
    {
      "cell_type": "code",
      "metadata": {
        "colab": {
          "base_uri": "https://localhost:8080/"
        },
        "id": "iZ2vv9jiaYlP",
        "outputId": "dfbd235e-e4b0-4e17-f1bb-a210c0a34382"
      },
      "source": [
        "len(x_train[0]), len(x_train[50]), len(x_train[500]), len(x_train[1000])"
      ],
      "execution_count": 10,
      "outputs": [
        {
          "output_type": "execute_result",
          "data": {
            "text/plain": [
              "(87, 118, 170, 626)"
            ]
          },
          "metadata": {
            "tags": []
          },
          "execution_count": 10
        }
      ]
    },
    {
      "cell_type": "code",
      "metadata": {
        "colab": {
          "base_uri": "https://localhost:8080/"
        },
        "id": "8nSwr4a-bbH2",
        "outputId": "81a55920-a127-4460-fc43-fdde03623e06"
      },
      "source": [
        "pad_x_train = tf.keras.preprocessing.sequence.pad_sequences(x_train, maxlen=500)\n",
        "len(pad_x_train[500]), pad_x_train[500]"
      ],
      "execution_count": 11,
      "outputs": [
        {
          "output_type": "execute_result",
          "data": {
            "text/plain": [
              "(500, array([   0,    0,    0,    0,    0,    0,    0,    0,    0,    0,    0,\n",
              "           0,    0,    0,    0,    0,    0,    0,    0,    0,    0,    0,\n",
              "           0,    0,    0,    0,    0,    0,    0,    0,    0,    0,    0,\n",
              "           0,    0,    0,    0,    0,    0,    0,    0,    0,    0,    0,\n",
              "           0,    0,    0,    0,    0,    0,    0,    0,    0,    0,    0,\n",
              "           0,    0,    0,    0,    0,    0,    0,    0,    0,    0,    0,\n",
              "           0,    0,    0,    0,    0,    0,    0,    0,    0,    0,    0,\n",
              "           0,    0,    0,    0,    0,    0,    0,    0,    0,    0,    0,\n",
              "           0,    0,    0,    0,    0,    0,    0,    0,    0,    0,    0,\n",
              "           0,    0,    0,    0,    0,    0,    0,    0,    0,    0,    0,\n",
              "           0,    0,    0,    0,    0,    0,    0,    0,    0,    0,    0,\n",
              "           0,    0,    0,    0,    0,    0,    0,    0,    0,    0,    0,\n",
              "           0,    0,    0,    0,    0,    0,    0,    0,    0,    0,    0,\n",
              "           0,    0,    0,    0,    0,    0,    0,    0,    0,    0,    0,\n",
              "           0,    0,    0,    0,    0,    0,    0,    0,    0,    0,    0,\n",
              "           0,    0,    0,    0,    0,    0,    0,    0,    0,    0,    0,\n",
              "           0,    0,    0,    0,    0,    0,    0,    0,    0,    0,    0,\n",
              "           0,    0,    0,    0,    0,    0,    0,    0,    0,    0,    0,\n",
              "           0,    0,    0,    0,    0,    0,    0,    0,    0,    0,    0,\n",
              "           0,    0,    0,    0,    0,    0,    0,    0,    0,    0,    0,\n",
              "           0,    0,    0,    0,    0,    0,    0,    0,    0,    0,    0,\n",
              "           0,    0,    0,    0,    0,    0,    0,    0,    0,    0,    0,\n",
              "           0,    0,    0,    0,    0,    0,    0,    0,    0,    0,    0,\n",
              "           0,    0,    0,    0,    0,    0,    0,    0,    0,    0,    0,\n",
              "           0,    0,    0,    0,    0,    0,    0,    0,    0,    0,    0,\n",
              "           0,    0,    0,    0,    0,    0,    0,    0,    0,    0,    0,\n",
              "           0,    0,    0,    0,    0,    0,    0,    0,    0,    0,    0,\n",
              "           0,    0,    0,    0,    0,    0,    0,    0,    0,    0,    0,\n",
              "           0,    0,    0,    0,    0,    0,    0,    0,    0,    0,    0,\n",
              "           0,    0,    0,    0,    0,    0,    0,    0,    0,    0,    0,\n",
              "           1, 3235,  168,    9, 2303,  590,    2,   42, 2530, 2118, 2900,\n",
              "        9737,   66,    2,    9, 1246,    5,  100, 1676,    5,    4,  599,\n",
              "         308,    8,    4,  895,  303,  159,   91,   45, 1133,   78,   20,\n",
              "           7,   89,  599,  851,  260,  542, 3111,   45, 3039,    4,   78,\n",
              "          20,  159, 1580,   54,   29,    4,  590,    8,    7,   10,  223,\n",
              "          21,   99,   98,   89,  168, 1221,  652, 1506,  194, 1268, 1190,\n",
              "         313,  262, 3557, 2636,   34,  824,  145,   43,  669,   24,  599,\n",
              "          89,  159,   33,  768,   30,   69,   78,   20, 2636,    8,    7,\n",
              "          42, 1027,   31,    4,  231,  718,    2,    2,   24,    4,  895,\n",
              "         168,  159,   33,  768,   30,   69,    4,  314,   43,   54,   29,\n",
              "         208,    6,   10,  478, 2488,  141, 2682,    2,  195,    2,    2,\n",
              "           8,   68,    5,    4,  181, 1847,   13,    4,  599,  308,   52,\n",
              "          29,   34,   10,    2,    7,  442,    2,   34,   42, 7976, 3002,\n",
              "           2,  118, 2674,  787,   24,   10, 1456,    6,  391,   52,   41,\n",
              "          30, 2242, 1447,   43,  107,   41,   30,  426, 1057,    6, 2386,\n",
              "          13,  509,  206,   17,   12], dtype=int32))"
            ]
          },
          "metadata": {
            "tags": []
          },
          "execution_count": 11
        }
      ]
    },
    {
      "cell_type": "markdown",
      "metadata": {
        "id": "B6bawSuYiFdc"
      },
      "source": [
        "## Model"
      ]
    },
    {
      "cell_type": "code",
      "metadata": {
        "id": "lAC7DSjhiDoy"
      },
      "source": [
        "model = tf.keras.Sequential()"
      ],
      "execution_count": 12,
      "outputs": []
    },
    {
      "cell_type": "code",
      "metadata": {
        "id": "zqkUUuk6iLTw"
      },
      "source": [
        "model.add(tf.keras.layers.Embedding(input_dim=10000, output_dim=24 , input_length=500))"
      ],
      "execution_count": 13,
      "outputs": []
    },
    {
      "cell_type": "code",
      "metadata": {
        "id": "SQ3dglWBiWgh"
      },
      "source": [
        "model.add(tf.keras.layers.Flatten())"
      ],
      "execution_count": 14,
      "outputs": []
    },
    {
      "cell_type": "code",
      "metadata": {
        "id": "KwGamEPYibaP"
      },
      "source": [
        "model.add(tf.keras.layers.Dense(46,activation='softmax'))"
      ],
      "execution_count": 15,
      "outputs": []
    },
    {
      "cell_type": "code",
      "metadata": {
        "id": "FWeVLgZSin7w"
      },
      "source": [
        "model.compile(optimizer='adam', loss='sparse_categorical_crossentropy', metrics=['acc'])"
      ],
      "execution_count": 16,
      "outputs": []
    },
    {
      "cell_type": "code",
      "metadata": {
        "colab": {
          "base_uri": "https://localhost:8080/"
        },
        "id": "2PZlzywyi70_",
        "outputId": "3cfcea55-8a5f-458d-fb48-566b50be13fe"
      },
      "source": [
        "model.summary()"
      ],
      "execution_count": 17,
      "outputs": [
        {
          "output_type": "stream",
          "text": [
            "Model: \"sequential\"\n",
            "_________________________________________________________________\n",
            "Layer (type)                 Output Shape              Param #   \n",
            "=================================================================\n",
            "embedding (Embedding)        (None, 500, 24)           240000    \n",
            "_________________________________________________________________\n",
            "flatten (Flatten)            (None, 12000)             0         \n",
            "_________________________________________________________________\n",
            "dense (Dense)                (None, 46)                552046    \n",
            "=================================================================\n",
            "Total params: 792,046\n",
            "Trainable params: 792,046\n",
            "Non-trainable params: 0\n",
            "_________________________________________________________________\n"
          ],
          "name": "stdout"
        }
      ]
    },
    {
      "cell_type": "markdown",
      "metadata": {
        "id": "SkQNZVLjjCxb"
      },
      "source": [
        "## Training"
      ]
    },
    {
      "cell_type": "code",
      "metadata": {
        "colab": {
          "base_uri": "https://localhost:8080/"
        },
        "id": "Oo2-w6BBi9mv",
        "outputId": "baf3837a-631a-412f-8c9e-16abbd527500"
      },
      "source": [
        "his = model.fit(pad_x_train, y_train, epochs=50, validation_split=0.3, batch_size=32)"
      ],
      "execution_count": 18,
      "outputs": [
        {
          "output_type": "stream",
          "text": [
            "Epoch 1/50\n",
            "197/197 [==============================] - 2s 9ms/step - loss: 2.1110 - acc: 0.4563 - val_loss: 1.7026 - val_acc: 0.5607\n",
            "Epoch 2/50\n",
            "197/197 [==============================] - 2s 8ms/step - loss: 1.3434 - acc: 0.6706 - val_loss: 1.4119 - val_acc: 0.6724\n",
            "Epoch 3/50\n",
            "197/197 [==============================] - 2s 9ms/step - loss: 0.7516 - acc: 0.8325 - val_loss: 1.2948 - val_acc: 0.6920\n",
            "Epoch 4/50\n",
            "197/197 [==============================] - 2s 8ms/step - loss: 0.4222 - acc: 0.9132 - val_loss: 1.2881 - val_acc: 0.7065\n",
            "Epoch 5/50\n",
            "197/197 [==============================] - 2s 9ms/step - loss: 0.2739 - acc: 0.9489 - val_loss: 1.3258 - val_acc: 0.7050\n",
            "Epoch 6/50\n",
            "197/197 [==============================] - 2s 8ms/step - loss: 0.2028 - acc: 0.9621 - val_loss: 1.3355 - val_acc: 0.7069\n",
            "Epoch 7/50\n",
            "197/197 [==============================] - 2s 8ms/step - loss: 0.1628 - acc: 0.9642 - val_loss: 1.3843 - val_acc: 0.7006\n",
            "Epoch 8/50\n",
            "197/197 [==============================] - 2s 8ms/step - loss: 0.1460 - acc: 0.9677 - val_loss: 1.3928 - val_acc: 0.7017\n",
            "Epoch 9/50\n",
            "197/197 [==============================] - 2s 9ms/step - loss: 0.1358 - acc: 0.9658 - val_loss: 1.4211 - val_acc: 0.6972\n",
            "Epoch 10/50\n",
            "197/197 [==============================] - 2s 8ms/step - loss: 0.1318 - acc: 0.9666 - val_loss: 1.4448 - val_acc: 0.6983\n",
            "Epoch 11/50\n",
            "197/197 [==============================] - 2s 8ms/step - loss: 0.1238 - acc: 0.9671 - val_loss: 1.4169 - val_acc: 0.7013\n",
            "Epoch 12/50\n",
            "197/197 [==============================] - 2s 9ms/step - loss: 0.1195 - acc: 0.9669 - val_loss: 1.4837 - val_acc: 0.7013\n",
            "Epoch 13/50\n",
            "197/197 [==============================] - 2s 9ms/step - loss: 0.1178 - acc: 0.9672 - val_loss: 1.4836 - val_acc: 0.6994\n",
            "Epoch 14/50\n",
            "197/197 [==============================] - 2s 9ms/step - loss: 0.1125 - acc: 0.9682 - val_loss: 1.5173 - val_acc: 0.6994\n",
            "Epoch 15/50\n",
            "197/197 [==============================] - 2s 8ms/step - loss: 0.1208 - acc: 0.9685 - val_loss: 1.4895 - val_acc: 0.7013\n",
            "Epoch 16/50\n",
            "197/197 [==============================] - 2s 8ms/step - loss: 0.1134 - acc: 0.9679 - val_loss: 1.4221 - val_acc: 0.7017\n",
            "Epoch 17/50\n",
            "197/197 [==============================] - 2s 8ms/step - loss: 0.1114 - acc: 0.9685 - val_loss: 1.4573 - val_acc: 0.7028\n",
            "Epoch 18/50\n",
            "197/197 [==============================] - 2s 9ms/step - loss: 0.1077 - acc: 0.9672 - val_loss: 1.4653 - val_acc: 0.7054\n",
            "Epoch 19/50\n",
            "197/197 [==============================] - 2s 9ms/step - loss: 0.1055 - acc: 0.9676 - val_loss: 1.4709 - val_acc: 0.6998\n",
            "Epoch 20/50\n",
            "197/197 [==============================] - 2s 9ms/step - loss: 0.1068 - acc: 0.9680 - val_loss: 1.4945 - val_acc: 0.7017\n",
            "Epoch 21/50\n",
            "197/197 [==============================] - 2s 9ms/step - loss: 0.1047 - acc: 0.9683 - val_loss: 1.4505 - val_acc: 0.7076\n",
            "Epoch 22/50\n",
            "197/197 [==============================] - 2s 8ms/step - loss: 0.1031 - acc: 0.9679 - val_loss: 1.5015 - val_acc: 0.7013\n",
            "Epoch 23/50\n",
            "197/197 [==============================] - 2s 9ms/step - loss: 0.1055 - acc: 0.9672 - val_loss: 1.4820 - val_acc: 0.7032\n",
            "Epoch 24/50\n",
            "197/197 [==============================] - 2s 8ms/step - loss: 0.1031 - acc: 0.9666 - val_loss: 1.4528 - val_acc: 0.7054\n",
            "Epoch 25/50\n",
            "197/197 [==============================] - 2s 8ms/step - loss: 0.0945 - acc: 0.9688 - val_loss: 1.4493 - val_acc: 0.7080\n",
            "Epoch 26/50\n",
            "197/197 [==============================] - 2s 8ms/step - loss: 0.0969 - acc: 0.9676 - val_loss: 1.4475 - val_acc: 0.7080\n",
            "Epoch 27/50\n",
            "197/197 [==============================] - 2s 8ms/step - loss: 0.0924 - acc: 0.9687 - val_loss: 1.5226 - val_acc: 0.7043\n",
            "Epoch 28/50\n",
            "197/197 [==============================] - 2s 9ms/step - loss: 0.0948 - acc: 0.9699 - val_loss: 1.4753 - val_acc: 0.7083\n",
            "Epoch 29/50\n",
            "197/197 [==============================] - 2s 9ms/step - loss: 0.0907 - acc: 0.9685 - val_loss: 1.4803 - val_acc: 0.7091\n",
            "Epoch 30/50\n",
            "197/197 [==============================] - 2s 8ms/step - loss: 0.0941 - acc: 0.9672 - val_loss: 1.4766 - val_acc: 0.7035\n",
            "Epoch 31/50\n",
            "197/197 [==============================] - 2s 8ms/step - loss: 0.0894 - acc: 0.9682 - val_loss: 1.5690 - val_acc: 0.7028\n",
            "Epoch 32/50\n",
            "197/197 [==============================] - 2s 8ms/step - loss: 0.0966 - acc: 0.9672 - val_loss: 1.5537 - val_acc: 0.6987\n",
            "Epoch 33/50\n",
            "197/197 [==============================] - 2s 8ms/step - loss: 0.0930 - acc: 0.9679 - val_loss: 1.5830 - val_acc: 0.7020\n",
            "Epoch 34/50\n",
            "197/197 [==============================] - 2s 9ms/step - loss: 0.0873 - acc: 0.9682 - val_loss: 1.5863 - val_acc: 0.6987\n",
            "Epoch 35/50\n",
            "197/197 [==============================] - 2s 8ms/step - loss: 0.0919 - acc: 0.9672 - val_loss: 1.4652 - val_acc: 0.7069\n",
            "Epoch 36/50\n",
            "197/197 [==============================] - 2s 8ms/step - loss: 0.0874 - acc: 0.9709 - val_loss: 1.4939 - val_acc: 0.7043\n",
            "Epoch 37/50\n",
            "197/197 [==============================] - 2s 8ms/step - loss: 0.0881 - acc: 0.9663 - val_loss: 1.4792 - val_acc: 0.7076\n",
            "Epoch 38/50\n",
            "197/197 [==============================] - 2s 8ms/step - loss: 0.0857 - acc: 0.9687 - val_loss: 1.4635 - val_acc: 0.7106\n",
            "Epoch 39/50\n",
            "197/197 [==============================] - 2s 8ms/step - loss: 0.0866 - acc: 0.9687 - val_loss: 1.4676 - val_acc: 0.7080\n",
            "Epoch 40/50\n",
            "197/197 [==============================] - 2s 8ms/step - loss: 0.0852 - acc: 0.9691 - val_loss: 1.5307 - val_acc: 0.7017\n",
            "Epoch 41/50\n",
            "197/197 [==============================] - 2s 8ms/step - loss: 0.0853 - acc: 0.9679 - val_loss: 1.5093 - val_acc: 0.7054\n",
            "Epoch 42/50\n",
            "197/197 [==============================] - 2s 8ms/step - loss: 0.0818 - acc: 0.9688 - val_loss: 1.4855 - val_acc: 0.7017\n",
            "Epoch 43/50\n",
            "197/197 [==============================] - 2s 8ms/step - loss: 0.0823 - acc: 0.9699 - val_loss: 1.5480 - val_acc: 0.7035\n",
            "Epoch 44/50\n",
            "197/197 [==============================] - 2s 8ms/step - loss: 0.0811 - acc: 0.9691 - val_loss: 1.6347 - val_acc: 0.6976\n",
            "Epoch 45/50\n",
            "197/197 [==============================] - 2s 8ms/step - loss: 0.0829 - acc: 0.9663 - val_loss: 1.5000 - val_acc: 0.7046\n",
            "Epoch 46/50\n",
            "197/197 [==============================] - 2s 9ms/step - loss: 0.0806 - acc: 0.9691 - val_loss: 1.5046 - val_acc: 0.7024\n",
            "Epoch 47/50\n",
            "197/197 [==============================] - 2s 8ms/step - loss: 0.0807 - acc: 0.9677 - val_loss: 1.6139 - val_acc: 0.7020\n",
            "Epoch 48/50\n",
            "197/197 [==============================] - 2s 9ms/step - loss: 0.0825 - acc: 0.9679 - val_loss: 1.5816 - val_acc: 0.6961\n",
            "Epoch 49/50\n",
            "197/197 [==============================] - 2s 8ms/step - loss: 0.0750 - acc: 0.9699 - val_loss: 1.5635 - val_acc: 0.7009\n",
            "Epoch 50/50\n",
            "197/197 [==============================] - 2s 9ms/step - loss: 0.0784 - acc: 0.9683 - val_loss: 1.6041 - val_acc: 0.6931\n"
          ],
          "name": "stdout"
        }
      ]
    },
    {
      "cell_type": "markdown",
      "metadata": {
        "id": "_AAX8U91jTaH"
      },
      "source": [
        "## Evaluation"
      ]
    },
    {
      "cell_type": "code",
      "metadata": {
        "colab": {
          "base_uri": "https://localhost:8080/"
        },
        "id": "4EPPZO1AjQHS",
        "outputId": "a06458f0-128a-4d93-85a8-a960aeacd3f8"
      },
      "source": [
        "model.evaluate(pad_x_train, y_train)"
      ],
      "execution_count": 19,
      "outputs": [
        {
          "output_type": "stream",
          "text": [
            "281/281 [==============================] - 1s 2ms/step - loss: 0.5184 - acc: 0.8925\n"
          ],
          "name": "stdout"
        },
        {
          "output_type": "execute_result",
          "data": {
            "text/plain": [
              "[0.5184226632118225, 0.8924515843391418]"
            ]
          },
          "metadata": {
            "tags": []
          },
          "execution_count": 19
        }
      ]
    },
    {
      "cell_type": "code",
      "metadata": {
        "colab": {
          "base_uri": "https://localhost:8080/"
        },
        "id": "QCigAZjrkBUQ",
        "outputId": "25f32dc6-fb76-4cb3-d922-70ef0c3062d0"
      },
      "source": [
        "len(x_test[20])"
      ],
      "execution_count": 20,
      "outputs": [
        {
          "output_type": "execute_result",
          "data": {
            "text/plain": [
              "103"
            ]
          },
          "metadata": {
            "tags": []
          },
          "execution_count": 20
        }
      ]
    },
    {
      "cell_type": "code",
      "metadata": {
        "id": "IwIuYfFBkFtv"
      },
      "source": [
        "pad_x_test = tf.keras.preprocessing.sequence.pad_sequences(x_test, maxlen=500)"
      ],
      "execution_count": 21,
      "outputs": []
    },
    {
      "cell_type": "code",
      "metadata": {
        "colab": {
          "base_uri": "https://localhost:8080/"
        },
        "id": "BR5xitj1kQGP",
        "outputId": "cbd6ae35-4086-4b54-cdec-121081b28257"
      },
      "source": [
        "len(pad_x_test[20])"
      ],
      "execution_count": 22,
      "outputs": [
        {
          "output_type": "execute_result",
          "data": {
            "text/plain": [
              "500"
            ]
          },
          "metadata": {
            "tags": []
          },
          "execution_count": 22
        }
      ]
    },
    {
      "cell_type": "code",
      "metadata": {
        "colab": {
          "base_uri": "https://localhost:8080/"
        },
        "id": "8gRZ5dIVkTwv",
        "outputId": "24610f2b-1633-4b1f-ff3b-948b6e937ddd"
      },
      "source": [
        "model.evaluate(pad_x_test)"
      ],
      "execution_count": 23,
      "outputs": [
        {
          "output_type": "stream",
          "text": [
            "71/71 [==============================] - 0s 1ms/step - loss: 0.0000e+00 - acc: 0.0000e+00\n"
          ],
          "name": "stdout"
        },
        {
          "output_type": "execute_result",
          "data": {
            "text/plain": [
              "[0.0, 0.0]"
            ]
          },
          "metadata": {
            "tags": []
          },
          "execution_count": 23
        }
      ]
    },
    {
      "cell_type": "code",
      "metadata": {
        "id": "uEMniomLkW1v"
      },
      "source": [
        "import matplotlib.pyplot as plt"
      ],
      "execution_count": 24,
      "outputs": []
    },
    {
      "cell_type": "code",
      "metadata": {
        "colab": {
          "base_uri": "https://localhost:8080/"
        },
        "id": "o8m_vWNLknAJ",
        "outputId": "9bd7e34f-50af-4c83-f863-09dceead3034"
      },
      "source": [
        "his.history.keys()"
      ],
      "execution_count": 25,
      "outputs": [
        {
          "output_type": "execute_result",
          "data": {
            "text/plain": [
              "dict_keys(['loss', 'acc', 'val_loss', 'val_acc'])"
            ]
          },
          "metadata": {
            "tags": []
          },
          "execution_count": 25
        }
      ]
    },
    {
      "cell_type": "code",
      "metadata": {
        "colab": {
          "base_uri": "https://localhost:8080/",
          "height": 265
        },
        "id": "TH89Ng0fkfHQ",
        "outputId": "3d4f74ef-ebab-44dd-da4e-86f773fc535a"
      },
      "source": [
        "plt.plot(his.history['loss'])\n",
        "plt.plot(his.history['val_acc'])\n",
        "plt.show()"
      ],
      "execution_count": 26,
      "outputs": [
        {
          "output_type": "display_data",
          "data": {
            "image/png": "[encoded data removed]",
            "text/plain": [
              "<Figure size 432x288 with 1 Axes>"
            ]
          },
          "metadata": {
            "tags": [],
            "needs_background": "light"
          }
        }
      ]
    },
    {
      "cell_type": "code",
      "metadata": {
        "id": "sU9spDpRkyfA"
      },
      "source": [
        ""
      ],
      "execution_count": 26,
      "outputs": []
    }
  ]
}