{
  "nbformat": 4,
  "nbformat_minor": 0,
  "metadata": {
    "colab": {
      "name": "dff_sigmoid_softmax.ipynb",
      "provenance": [],
      "authorship_tag": "ABX9TyM3FUySjj02ArehVgsH+CLe",
      "include_colab_link": true
    },
    "kernelspec": {
      "name": "python3",
      "display_name": "Python 3"
    },
    "language_info": {
      "name": "python"
    }
  },
  "cells": [
    {
      "cell_type": "markdown",
      "metadata": {
        "id": "view-in-github",
        "colab_type": "text"
      },
      "source": [
        "<a href=\"https://colab.research.google.com/github/ginttone/multi_deeplearning/blob/master/dff_sigmoid_softmax.ipynb\" target=\"_parent\"><img src=\"https://colab.research.google.com/assets/colab-badge.svg\" alt=\"Open In Colab\"/></a>"
      ]
    },
    {
      "cell_type": "markdown",
      "metadata": {
        "id": "v0PdoWyn8sv2"
      },
      "source": [
        "# Tensorflow "
      ]
    },
    {
      "cell_type": "markdown",
      "metadata": {
        "id": "81GmOhnP30Xa"
      },
      "source": [
        "## activation > sigmoid\n",
        "\n",
        "```\n",
        "a = tf.constant([-20, -1.0, 0.0, 1.0, 20], dtype = tf.float32)\n",
        "b = tf.keras.activations.sigmoid(a)\n",
        "b.numpy()\n",
        "```"
      ]
    },
    {
      "cell_type": "code",
      "metadata": {
        "id": "2zLaVnva7HQT"
      },
      "source": [
        "import tensorflow as tf"
      ],
      "execution_count": 1,
      "outputs": []
    },
    {
      "cell_type": "markdown",
      "metadata": {
        "id": "-TfYbr957U3W"
      },
      "source": [
        "constant 는 상수를 선언하는 방법"
      ]
    },
    {
      "cell_type": "code",
      "metadata": {
        "colab": {
          "base_uri": "https://localhost:8080/"
        },
        "id": "lgjFF8yY3vVh",
        "outputId": "6e802973-9ed7-44cc-b630-cf607da545d9"
      },
      "source": [
        "a = tf.constant([4.0, 1.0, 3.0], dtype = tf.float32)\n",
        "a , type(a)"
      ],
      "execution_count": 9,
      "outputs": [
        {
          "output_type": "execute_result",
          "data": {
            "text/plain": [
              "(<tf.Tensor: shape=(3,), dtype=float32, numpy=array([4., 1., 3.], dtype=float32)>,\n",
              " tensorflow.python.framework.ops.EagerTensor)"
            ]
          },
          "metadata": {
            "tags": []
          },
          "execution_count": 9
        }
      ]
    },
    {
      "cell_type": "code",
      "metadata": {
        "colab": {
          "base_uri": "https://localhost:8080/"
        },
        "id": "p_KF2G2R4LV0",
        "outputId": "d5930102-c763-40bf-e0a0-9168fb34b6d5"
      },
      "source": [
        "b = tf.keras.activations.sigmoid(a)\n",
        "b"
      ],
      "execution_count": 10,
      "outputs": [
        {
          "output_type": "execute_result",
          "data": {
            "text/plain": [
              "<tf.Tensor: shape=(3,), dtype=float32, numpy=array([0.98201376, 0.7310586 , 0.95257413], dtype=float32)>"
            ]
          },
          "metadata": {
            "tags": []
          },
          "execution_count": 10
        }
      ]
    },
    {
      "cell_type": "code",
      "metadata": {
        "colab": {
          "base_uri": "https://localhost:8080/"
        },
        "id": "As9w66CR4LKm",
        "outputId": "45bfe14c-835e-4eab-c503-11de8900b2f5"
      },
      "source": [
        "b.numpy()"
      ],
      "execution_count": 11,
      "outputs": [
        {
          "output_type": "execute_result",
          "data": {
            "text/plain": [
              "array([0.98201376, 0.7310586 , 0.95257413], dtype=float32)"
            ]
          },
          "metadata": {
            "tags": []
          },
          "execution_count": 11
        }
      ]
    },
    {
      "cell_type": "markdown",
      "metadata": {
        "id": "5FP320ll8Owa"
      },
      "source": [
        "## activation > softmax\n",
        "\n",
        "```\n",
        "inputs = tf.random.normal(shape=(32, 10))\n",
        "outputs = tf.keras.activations.softmax(inputs)\n",
        "tf.reduce_sum(outputs[0, :])\n",
        "```"
      ]
    },
    {
      "cell_type": "code",
      "metadata": {
        "colab": {
          "base_uri": "https://localhost:8080/"
        },
        "id": "a6i3VJfy8Ktq",
        "outputId": "d1d22751-e35a-4551-ef8d-cc964b613597"
      },
      "source": [
        "inputs = tf.random.normal(shape=(1, 3))\n",
        "inputs"
      ],
      "execution_count": 19,
      "outputs": [
        {
          "output_type": "execute_result",
          "data": {
            "text/plain": [
              "<tf.Tensor: shape=(1, 3), dtype=float32, numpy=array([[1.9198573 , 0.24816824, 0.8690127 ]], dtype=float32)>"
            ]
          },
          "metadata": {
            "tags": []
          },
          "execution_count": 19
        }
      ]
    },
    {
      "cell_type": "code",
      "metadata": {
        "colab": {
          "base_uri": "https://localhost:8080/"
        },
        "id": "qJl_EoIo8jbL",
        "outputId": "153e4f9a-03dc-4af4-e896-389b9e7dd399"
      },
      "source": [
        "outputs = tf.keras.activations.softmax(inputs)\n",
        "outputs"
      ],
      "execution_count": 20,
      "outputs": [
        {
          "output_type": "execute_result",
          "data": {
            "text/plain": [
              "<tf.Tensor: shape=(1, 3), dtype=float32, numpy=array([[0.6503762 , 0.12222479, 0.22739905]], dtype=float32)>"
            ]
          },
          "metadata": {
            "tags": []
          },
          "execution_count": 20
        }
      ]
    },
    {
      "cell_type": "code",
      "metadata": {
        "colab": {
          "base_uri": "https://localhost:8080/"
        },
        "id": "E30GYAoC8jTp",
        "outputId": "bb94fb2b-d93c-4fe0-b44f-8ae5768e2ae1"
      },
      "source": [
        "outputs.numpy()"
      ],
      "execution_count": 21,
      "outputs": [
        {
          "output_type": "execute_result",
          "data": {
            "text/plain": [
              "array([[0.6503762 , 0.12222479, 0.22739905]], dtype=float32)"
            ]
          },
          "metadata": {
            "tags": []
          },
          "execution_count": 21
        }
      ]
    },
    {
      "cell_type": "markdown",
      "metadata": {
        "id": "2C9LVnbZ9yS_"
      },
      "source": [
        "소프트 맥스는 노드에서 의견을 내서 맨 마지막 아웃풋에 들어가면 해당 부분이 아무리 많은 의견이 들어와도 0과 1안으로 수렴시킨다.\n",
        "\n",
        "그래서 우리는 1에가장 가까운 결과값을 찾으면 된다."
      ]
    }
  ]
}