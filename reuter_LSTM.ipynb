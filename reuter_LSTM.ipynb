{
  "nbformat": 4,
  "nbformat_minor": 0,
  "metadata": {
    "colab": {
      "name": "reuter_LSTM.ipynb",
      "provenance": [],
      "collapsed_sections": [],
      "authorship_tag": "ABX9TyPzc9wpYx6dCjPrBf/z4GHJ",
      "include_colab_link": true
    },
    "kernelspec": {
      "name": "python3",
      "display_name": "Python 3"
    },
    "language_info": {
      "name": "python"
    }
  },
  "cells": [
    {
      "cell_type": "markdown",
      "metadata": {
        "id": "view-in-github",
        "colab_type": "text"
      },
      "source": [
        "<a href=\"https://colab.research.google.com/github/ginttone/multi_deeplearning/blob/master/reuter_LSTM.ipynb\" target=\"_parent\"><img src=\"https://colab.research.google.com/assets/colab-badge.svg\" alt=\"Open In Colab\"/></a>"
      ]
    },
    {
      "cell_type": "markdown",
      "metadata": {
        "id": "H_2EypxJ3t03"
      },
      "source": [
        "# Reuter \n",
        "LSTM : 가장 멀리있는 곳 위치를 기억한다\n",
        "\n",
        "Ags : 아규스 , 파라메터"
      ]
    },
    {
      "cell_type": "markdown",
      "metadata": {
        "id": "EWNaTrFU39JF"
      },
      "source": [
        "## Datasets"
      ]
    },
    {
      "cell_type": "code",
      "metadata": {
        "id": "VejvnTVb3HOA"
      },
      "source": [
        "import tensorflow as tf"
      ],
      "execution_count": 1,
      "outputs": []
    },
    {
      "cell_type": "markdown",
      "metadata": {
        "id": "jvPt5qta5SCX"
      },
      "source": [
        "* Tuple of Numpy arrays: (x_train, y_train), (x_test, y_test)\n",
        "\n",
        "결과: \n",
        "((8982,), (8982,), (2246,), (2246,))"
      ]
    },
    {
      "cell_type": "code",
      "metadata": {
        "colab": {
          "base_uri": "https://localhost:8080/"
        },
        "id": "Hk0xT3FJ4I-4",
        "outputId": "885be0ff-b0a2-4f65-d94a-2f0522de6e9b"
      },
      "source": [
        "(x_train, y_train),(x_test,y_test)= tf.keras.datasets.reuters.load_data(num_words=10000)\n",
        "\n",
        "x_train.shape, y_train.shape, x_test.shape, y_test.shape"
      ],
      "execution_count": 2,
      "outputs": [
        {
          "output_type": "stream",
          "text": [
            "/usr/local/lib/python3.7/dist-packages/tensorflow/python/keras/datasets/reuters.py:143: VisibleDeprecationWarning: Creating an ndarray from ragged nested sequences (which is a list-or-tuple of lists-or-tuples-or ndarrays with different lengths or shapes) is deprecated. If you meant to do this, you must specify 'dtype=object' when creating the ndarray\n",
            "  x_train, y_train = np.array(xs[:idx]), np.array(labels[:idx])\n",
            "/usr/local/lib/python3.7/dist-packages/tensorflow/python/keras/datasets/reuters.py:144: VisibleDeprecationWarning: Creating an ndarray from ragged nested sequences (which is a list-or-tuple of lists-or-tuples-or ndarrays with different lengths or shapes) is deprecated. If you meant to do this, you must specify 'dtype=object' when creating the ndarray\n",
            "  x_test, y_test = np.array(xs[idx:]), np.array(labels[idx:])\n"
          ],
          "name": "stderr"
        },
        {
          "output_type": "execute_result",
          "data": {
            "text/plain": [
              "((8982,), (8982,), (2246,), (2246,))"
            ]
          },
          "metadata": {
            "tags": []
          },
          "execution_count": 2
        }
      ]
    },
    {
      "cell_type": "markdown",
      "metadata": {
        "id": "BfWhLaBJ6VAO"
      },
      "source": [
        "* 50번째(특정부분)에 무엇이 있는지 확인하기\n",
        "\n",
        "결과: 4 [1, 1479, 1197, ...]\n",
        "\n",
        "단어 기준으로 언어를 숫자로 채워준다 "
      ]
    },
    {
      "cell_type": "code",
      "metadata": {
        "colab": {
          "base_uri": "https://localhost:8080/"
        },
        "id": "8DxTgydK4-JY",
        "outputId": "d3724290-1335-4416-dd49-6a695367876a"
      },
      "source": [
        "print(y_train[50], x_train[50])"
      ],
      "execution_count": 3,
      "outputs": [
        {
          "output_type": "stream",
          "text": [
            "4 [1, 1479, 1197, 71, 8, 25, 1479, 1197, 640, 71, 304, 471, 80, 9, 1379, 1901, 4530, 6797, 79, 5, 8144, 71, 175, 80, 58, 4, 1279, 5, 63, 32, 20, 5, 4, 326, 175, 80, 335, 7, 10, 845, 31, 4, 221, 9, 108, 259, 1479, 1197, 640, 8, 16, 600, 69, 68, 11, 15, 6, 8144, 21, 397, 321, 6, 438, 1761, 3072, 79, 5, 8144, 1040, 894, 1051, 617, 80, 4, 617, 80, 23, 1051, 172, 3814, 3206, 8144, 175, 79, 9, 1379, 6, 264, 395, 3814, 3206, 79, 1479, 1197, 9, 25, 323, 8, 4, 8144, 80, 23, 381, 43, 42, 205, 50, 77, 33, 909, 9, 3509, 22, 216, 6, 216, 17, 12]\n"
          ],
          "name": "stdout"
        }
      ]
    },
    {
      "cell_type": "markdown",
      "metadata": {
        "id": "25HsGkMR7i4e"
      },
      "source": [
        "* input 넣으려니 datasize가 동일한지 컬럼의 갯수 확인하기\n",
        "\n",
        "결과: (118, 90, 212)\n",
        "\n",
        "사이즈가 다 다르네? -> 강제적으로 맞춰준다 -> 숫자일때 계산에 영향을 주지 않는 값 0 으로 패딩해준다"
      ]
    },
    {
      "cell_type": "code",
      "metadata": {
        "colab": {
          "base_uri": "https://localhost:8080/"
        },
        "id": "TVX2QMFr7iY_",
        "outputId": "3a490634-441e-4bd4-d374-f8258a3edcb3"
      },
      "source": [
        "len(x_train[50]), len(x_train[400]), len(x_train[200])"
      ],
      "execution_count": 4,
      "outputs": [
        {
          "output_type": "execute_result",
          "data": {
            "text/plain": [
              "(118, 90, 212)"
            ]
          },
          "metadata": {
            "tags": []
          },
          "execution_count": 4
        }
      ]
    },
    {
      "cell_type": "code",
      "metadata": {
        "id": "o6y0CGHoBhWb"
      },
      "source": [
        "pad_x_train = tf.keras.preprocessing.sequence.pad_sequences(x_train, maxlen=500)"
      ],
      "execution_count": 5,
      "outputs": []
    },
    {
      "cell_type": "code",
      "metadata": {
        "colab": {
          "base_uri": "https://localhost:8080/"
        },
        "id": "p99bjVBdBtml",
        "outputId": "dfae76a1-9288-4815-a4e6-f04e9e9546e9"
      },
      "source": [
        " len(pad_x_train[50]) # pad_x_train[50]"
      ],
      "execution_count": 6,
      "outputs": [
        {
          "output_type": "execute_result",
          "data": {
            "text/plain": [
              "500"
            ]
          },
          "metadata": {
            "tags": []
          },
          "execution_count": 6
        }
      ]
    },
    {
      "cell_type": "code",
      "metadata": {
        "colab": {
          "base_uri": "https://localhost:8080/"
        },
        "id": "YB6r97-BD7zk",
        "outputId": "af5fdc8f-b024-445c-c915-a841b75387b0"
      },
      "source": [
        "import numpy as np\n",
        "# len(np.unique(y_train)) \n",
        "np.unique(y_train).shape"
      ],
      "execution_count": 7,
      "outputs": [
        {
          "output_type": "execute_result",
          "data": {
            "text/plain": [
              "(46,)"
            ]
          },
          "metadata": {
            "tags": []
          },
          "execution_count": 7
        }
      ]
    },
    {
      "cell_type": "markdown",
      "metadata": {
        "id": "_ICwxy057fZk"
      },
      "source": [
        "## Make model"
      ]
    },
    {
      "cell_type": "code",
      "metadata": {
        "id": "49d1fu0z6gmd"
      },
      "source": [
        "model = tf.keras.models.Sequential()"
      ],
      "execution_count": 8,
      "outputs": []
    },
    {
      "cell_type": "markdown",
      "metadata": {
        "id": "d-_YnhcI8Fnx"
      },
      "source": [
        "* Input layer\n",
        "\n",
        "모든 (컬럼)사이즈, 데이터 사이즈는 동일해야 한다\n",
        "\n",
        "```\n",
        "Embedding(\n",
        "  input_length=500,   인풋 데이터 사이즈 = 500 \n",
        "  input_dim= 10000,   사전의 사이즈 정해줌 (차원의 기준)\n",
        "   output_dim= 24,     백터 24차원으로 바꿈(연관관계있도록 만들어줌)  \n",
        "  ) \n",
        "```"
      ]
    },
    {
      "cell_type": "code",
      "metadata": {
        "id": "LEHLnoI67rGk"
      },
      "source": [
        "model.add(tf.keras.layers.Embedding(input_length=500, input_dim=10000 ,output_dim=24))"
      ],
      "execution_count": 9,
      "outputs": []
    },
    {
      "cell_type": "markdown",
      "metadata": {
        "id": "jzO79LSm8IMa"
      },
      "source": [
        "* Hidden layer\n",
        "\n",
        "데이터를 플랫하게 만들어준다\n",
        "\n",
        "```\n",
        "model.add(tf.keras.layers.Flatten())\n",
        "```\n"
      ]
    },
    {
      "cell_type": "markdown",
      "metadata": {
        "id": "Eowxfq0pNRFD"
      },
      "source": [
        "tf.keras.layers.LSTM( units, activation='tanh',return_sequences=False)\n",
        "\n",
        "같은 layer에서 중간쯤 가면 맨 처음에 무슨단어를 넣었는지 까먹는다. 시간이 가도 처음에 뭐 넣엇는지 기억하게 만들자. 그러면 성능이 더 좋아지지 않겠느냐 해서 만들어짐\n",
        "(플랫 대신해서 사용)\n",
        "\n",
        "적용:\n",
        "\n",
        "1.레이어 바로 앞 인배딩이 아웃풋 하는 사이즈와 동일해야 한다.(인배딩과 연결되는부분)\n",
        "\n",
        "2.레이어 완전 연결방식이기 때문에 두번째 부턴 숫자 달라져도 된다."
      ]
    },
    {
      "cell_type": "code",
      "metadata": {
        "id": "BZYn2Ihk8DRU"
      },
      "source": [
        "model.add(tf.keras.layers.LSTM(24, return_sequences=True, activation='tanh'))\n",
        "model.add(tf.keras.layers.LSTM(12,activation='tanh'))"
      ],
      "execution_count": 12,
      "outputs": []
    },
    {
      "cell_type": "markdown",
      "metadata": {
        "id": "HcztapJq8Ke1"
      },
      "source": [
        "* Output layer\n",
        "\n",
        "np.unique(y_train) 유니크한 컬럼의 갯수의 결과 : (46,)\n",
        "\n",
        "Dense는 유니크한 컬럼의 갯수가 들어간다.\n",
        "\n",
        "activation은 dense가 3개 이상 이어서 softmax 사용"
      ]
    },
    {
      "cell_type": "code",
      "metadata": {
        "id": "KdQGk73n8D5V"
      },
      "source": [
        "model.add(tf.keras.layers.Dense(46,activation='softmax'))"
      ],
      "execution_count": 13,
      "outputs": []
    },
    {
      "cell_type": "markdown",
      "metadata": {
        "id": "HuWsH_3-FxXP"
      },
      "source": [
        "* Gadget\n",
        "\n",
        "optimizer = adam 학습 잘 할 수 있게 기준을 만들어줌\n",
        "\n",
        "loss = sparse_categorical_crossemtropy 수치(원핫인코딩 안하려면 이거씀-분류형인지도 알려줌)\n"
      ]
    },
    {
      "cell_type": "code",
      "metadata": {
        "id": "ZxgFnZN6F03O"
      },
      "source": [
        "model.compile(optimizer='adam' , loss='sparse_categorical_crossentropy', metrics=['acc'])"
      ],
      "execution_count": 14,
      "outputs": []
    },
    {
      "cell_type": "markdown",
      "metadata": {
        "id": "K7Qy8r30H7UU"
      },
      "source": [
        "## Train"
      ]
    },
    {
      "cell_type": "markdown",
      "metadata": {
        "id": "sT4qBuLMRXwn"
      },
      "source": [
        "기존: 한 번 에폭에 55초 걸렷고, loss는 2.5907\n",
        "\n",
        "model.fit(pad_x_train, y_train)\n",
        "\n",
        "히든레이어에 LSTM 레이어 하나더 추가: 다섯번 에폭에 26초 걸렸고, loss는 2.4120 (에폭 최소 30은 돌려야한다)\n",
        "\n",
        "model.fit(pad_x_train, y_train, epochs=5, validation_split=0.3 , batch_size=128)"
      ]
    },
    {
      "cell_type": "code",
      "metadata": {
        "colab": {
          "base_uri": "https://localhost:8080/"
        },
        "id": "LOUwC1JyH3QO",
        "outputId": "6fdf305d-1aa4-46c3-ec10-c6212404b70a"
      },
      "source": [
        "hist = model.fit(pad_x_train, y_train, epochs=5, validation_split=0.3 , batch_size=128)"
      ],
      "execution_count": 21,
      "outputs": [
        {
          "output_type": "stream",
          "text": [
            "Epoch 1/5\n",
            "50/50 [==============================] - 26s 524ms/step - loss: 2.4129 - acc: 0.3510 - val_loss: 2.3819 - val_acc: 0.3532\n",
            "Epoch 2/5\n",
            "50/50 [==============================] - 26s 522ms/step - loss: 2.4125 - acc: 0.3510 - val_loss: 2.3821 - val_acc: 0.3532\n",
            "Epoch 3/5\n",
            "50/50 [==============================] - 26s 524ms/step - loss: 2.4125 - acc: 0.3510 - val_loss: 2.3818 - val_acc: 0.3532\n",
            "Epoch 4/5\n",
            "50/50 [==============================] - 26s 521ms/step - loss: 2.4125 - acc: 0.3510 - val_loss: 2.3822 - val_acc: 0.3532\n",
            "Epoch 5/5\n",
            "50/50 [==============================] - 26s 522ms/step - loss: 2.4120 - acc: 0.3510 - val_loss: 2.3824 - val_acc: 0.3532\n"
          ],
          "name": "stdout"
        }
      ]
    },
    {
      "cell_type": "markdown",
      "metadata": {
        "id": "6sYl5DfyQ3dC"
      },
      "source": [
        "## Evaluation\n",
        "\n",
        "* x의 키워드를 만들고 y의 분류에 짝을 지어 준다."
      ]
    },
    {
      "cell_type": "markdown",
      "metadata": {
        "id": "nyA2OAglRuX9"
      },
      "source": [
        "1. 학습을 시켰던 데이터\n",
        "\n",
        "기존: loss: 2.4045\n",
        "\n",
        "LSTM 하나 더 추가, 에폭 5: loss: 2.4023"
      ]
    },
    {
      "cell_type": "code",
      "metadata": {
        "colab": {
          "base_uri": "https://localhost:8080/"
        },
        "id": "NL9xWXsQICxk",
        "outputId": "b197e2eb-9096-4c6f-d57c-46572030b534"
      },
      "source": [
        "model.evaluate(pad_x_train, y_train)"
      ],
      "execution_count": 23,
      "outputs": [
        {
          "output_type": "stream",
          "text": [
            "281/281 [==============================] - 17s 62ms/step - loss: 2.4023 - acc: 0.3517\n"
          ],
          "name": "stdout"
        },
        {
          "output_type": "execute_result",
          "data": {
            "text/plain": [
              "[2.4022889137268066, 0.351703405380249]"
            ]
          },
          "metadata": {
            "tags": []
          },
          "execution_count": 23
        }
      ]
    },
    {
      "cell_type": "markdown",
      "metadata": {
        "id": "iwZ14tnUUqnw"
      },
      "source": [
        "2. 학습 안시킨 데이터 전처리"
      ]
    },
    {
      "cell_type": "code",
      "metadata": {
        "id": "OxlQQngARplE"
      },
      "source": [
        "pad_x_test = tf.keras.preprocessing.sequence.pad_sequences(x_test, maxlen=500)"
      ],
      "execution_count": 24,
      "outputs": []
    },
    {
      "cell_type": "code",
      "metadata": {
        "colab": {
          "base_uri": "https://localhost:8080/"
        },
        "id": "T0WfWbKgVClE",
        "outputId": "ce5ffd19-0b15-4cc8-cc56-6f19017aa9c4"
      },
      "source": [
        "model.evaluate(pad_x_test, y_test)"
      ],
      "execution_count": 25,
      "outputs": [
        {
          "output_type": "stream",
          "text": [
            "71/71 [==============================] - 4s 63ms/step - loss: 2.4147 - acc: 0.3620\n"
          ],
          "name": "stdout"
        },
        {
          "output_type": "execute_result",
          "data": {
            "text/plain": [
              "[2.4147167205810547, 0.36197686195373535]"
            ]
          },
          "metadata": {
            "tags": []
          },
          "execution_count": 25
        }
      ]
    },
    {
      "cell_type": "markdown",
      "metadata": {
        "id": "cQa84VTjVMb9"
      },
      "source": [
        "* 1.과  2. 비교\n",
        "\n",
        " 1. 17s 61ms/step - loss: 2.4023\n",
        "\n",
        " 2.  4s 61ms/step - loss: 2.4147\n",
        "\n",
        "  loss가 비슷하니 학습이 잘 됬구나 알 수 있다."
      ]
    },
    {
      "cell_type": "markdown",
      "metadata": {
        "id": "gGijHpF4Vk3r"
      },
      "source": [
        "## Plot"
      ]
    },
    {
      "cell_type": "code",
      "metadata": {
        "id": "3tPuu0p6VF_V"
      },
      "source": [
        "import matplotlib.pyplot as plt"
      ],
      "execution_count": 26,
      "outputs": []
    },
    {
      "cell_type": "code",
      "metadata": {
        "colab": {
          "base_uri": "https://localhost:8080/",
          "height": 265
        },
        "id": "gTYnPxXgVzkj",
        "outputId": "edc489dd-4ee8-4835-82d9-f20f35059536"
      },
      "source": [
        "plt.plot(hist.history['loss'])\n",
        "plt.plot(hist.history['val_loss'])\n",
        "plt.show()"
      ],
      "execution_count": 29,
      "outputs": [
        {
          "output_type": "display_data",
          "data": {
            "image/png": "[encoded data removed]",
            "text/plain": [
              "<Figure size 432x288 with 1 Axes>"
            ]
          },
          "metadata": {
            "tags": [],
            "needs_background": "light"
          }
        }
      ]
    },
    {
      "cell_type": "code",
      "metadata": {
        "colab": {
          "base_uri": "https://localhost:8080/",
          "height": 265
        },
        "id": "_92H3RgoWOSA",
        "outputId": "8e57a08b-e275-451f-fc18-975db5f6cdfd"
      },
      "source": [
        "plt.plot(hist.history['acc'])\n",
        "plt.plot(hist.history['val_acc'])\n",
        "plt.show()"
      ],
      "execution_count": 30,
      "outputs": [
        {
          "output_type": "display_data",
          "data": {
            "image/png": "[encoded data removed]",
            "text/plain": [
              "<Figure size 432x288 with 1 Axes>"
            ]
          },
          "metadata": {
            "tags": [],
            "needs_background": "light"
          }
        }
      ]
    },
    {
      "cell_type": "code",
      "metadata": {
        "id": "brhRpZxJWqAC"
      },
      "source": [
        ""
      ],
      "execution_count": null,
      "outputs": []
    }
  ]
}