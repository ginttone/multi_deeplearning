{
  "nbformat": 4,
  "nbformat_minor": 0,
  "metadata": {
    "colab": {
      "name": "wine_Deeplearning.ipynb",
      "provenance": [],
      "authorship_tag": "ABX9TyNKKbxruyNqvUfw2M/rDBps",
      "include_colab_link": true
    },
    "kernelspec": {
      "name": "python3",
      "display_name": "Python 3"
    },
    "language_info": {
      "name": "python"
    }
  },
  "cells": [
    {
      "cell_type": "markdown",
      "metadata": {
        "id": "view-in-github",
        "colab_type": "text"
      },
      "source": [
        "<a href=\"https://colab.research.google.com/github/ginttone/multi_deeplearning/blob/master/wine_Deeplearning.ipynb\" target=\"_parent\"><img src=\"https://colab.research.google.com/assets/colab-badge.svg\" alt=\"Open In Colab\"/></a>"
      ]
    },
    {
      "cell_type": "markdown",
      "metadata": {
        "id": "1mj-M3CLfCmM"
      },
      "source": [
        "## Datasets"
      ]
    },
    {
      "cell_type": "code",
      "metadata": {
        "id": "hltEF1O6bxHp"
      },
      "source": [
        "from sklearn import datasets"
      ],
      "execution_count": 1,
      "outputs": []
    },
    {
      "cell_type": "code",
      "metadata": {
        "id": "lKs4yxZfb325"
      },
      "source": [
        "wine = datasets.load_wine()"
      ],
      "execution_count": 2,
      "outputs": []
    },
    {
      "cell_type": "code",
      "metadata": {
        "colab": {
          "base_uri": "https://localhost:8080/"
        },
        "id": "C3nGiziLcICb",
        "outputId": "322a61db-db4c-41d2-f19d-3a8755f29679"
      },
      "source": [
        "wine.keys()"
      ],
      "execution_count": 3,
      "outputs": [
        {
          "output_type": "execute_result",
          "data": {
            "text/plain": [
              "dict_keys(['data', 'target', 'target_names', 'DESCR', 'feature_names'])"
            ]
          },
          "metadata": {
            "tags": []
          },
          "execution_count": 3
        }
      ]
    },
    {
      "cell_type": "code",
      "metadata": {
        "colab": {
          "base_uri": "https://localhost:8080/"
        },
        "id": "2GwCvhAacJI1",
        "outputId": "232ed519-903e-4e67-b699-67a78074a489"
      },
      "source": [
        "x_data = wine['data']\n",
        "\n",
        "x_data.shape"
      ],
      "execution_count": 4,
      "outputs": [
        {
          "output_type": "execute_result",
          "data": {
            "text/plain": [
              "(178, 13)"
            ]
          },
          "metadata": {
            "tags": []
          },
          "execution_count": 4
        }
      ]
    },
    {
      "cell_type": "code",
      "metadata": {
        "colab": {
          "base_uri": "https://localhost:8080/"
        },
        "id": "LAppnfTKdD75",
        "outputId": "ae77a5b2-a749-4495-fb5d-322e185bdac6"
      },
      "source": [
        "y_data = wine['target']\n",
        "\n",
        "y_data"
      ],
      "execution_count": 5,
      "outputs": [
        {
          "output_type": "execute_result",
          "data": {
            "text/plain": [
              "array([0, 0, 0, 0, 0, 0, 0, 0, 0, 0, 0, 0, 0, 0, 0, 0, 0, 0, 0, 0, 0, 0,\n",
              "       0, 0, 0, 0, 0, 0, 0, 0, 0, 0, 0, 0, 0, 0, 0, 0, 0, 0, 0, 0, 0, 0,\n",
              "       0, 0, 0, 0, 0, 0, 0, 0, 0, 0, 0, 0, 0, 0, 0, 1, 1, 1, 1, 1, 1, 1,\n",
              "       1, 1, 1, 1, 1, 1, 1, 1, 1, 1, 1, 1, 1, 1, 1, 1, 1, 1, 1, 1, 1, 1,\n",
              "       1, 1, 1, 1, 1, 1, 1, 1, 1, 1, 1, 1, 1, 1, 1, 1, 1, 1, 1, 1, 1, 1,\n",
              "       1, 1, 1, 1, 1, 1, 1, 1, 1, 1, 1, 1, 1, 1, 1, 1, 1, 1, 1, 1, 2, 2,\n",
              "       2, 2, 2, 2, 2, 2, 2, 2, 2, 2, 2, 2, 2, 2, 2, 2, 2, 2, 2, 2, 2, 2,\n",
              "       2, 2, 2, 2, 2, 2, 2, 2, 2, 2, 2, 2, 2, 2, 2, 2, 2, 2, 2, 2, 2, 2,\n",
              "       2, 2])"
            ]
          },
          "metadata": {
            "tags": []
          },
          "execution_count": 5
        }
      ]
    },
    {
      "cell_type": "code",
      "metadata": {
        "colab": {
          "base_uri": "https://localhost:8080/"
        },
        "id": "OkEFdwjRdIf_",
        "outputId": "e8e89428-0162-4e86-ef8a-0ba00310872c"
      },
      "source": [
        "import pandas as pd\n",
        "df_wine = pd.DataFrame(wine.data)\n",
        "df_twine = pd.DataFrame(wine.target)\n",
        "\n",
        "# df_wine['y_col']=df_twine\n",
        "\n",
        "df_wine.info(), df_twine.info()"
      ],
      "execution_count": 6,
      "outputs": [
        {
          "output_type": "stream",
          "text": [
            "<class 'pandas.core.frame.DataFrame'>\n",
            "RangeIndex: 178 entries, 0 to 177\n",
            "Data columns (total 13 columns):\n",
            " #   Column  Non-Null Count  Dtype  \n",
            "---  ------  --------------  -----  \n",
            " 0   0       178 non-null    float64\n",
            " 1   1       178 non-null    float64\n",
            " 2   2       178 non-null    float64\n",
            " 3   3       178 non-null    float64\n",
            " 4   4       178 non-null    float64\n",
            " 5   5       178 non-null    float64\n",
            " 6   6       178 non-null    float64\n",
            " 7   7       178 non-null    float64\n",
            " 8   8       178 non-null    float64\n",
            " 9   9       178 non-null    float64\n",
            " 10  10      178 non-null    float64\n",
            " 11  11      178 non-null    float64\n",
            " 12  12      178 non-null    float64\n",
            "dtypes: float64(13)\n",
            "memory usage: 18.2 KB\n",
            "<class 'pandas.core.frame.DataFrame'>\n",
            "RangeIndex: 178 entries, 0 to 177\n",
            "Data columns (total 1 columns):\n",
            " #   Column  Non-Null Count  Dtype\n",
            "---  ------  --------------  -----\n",
            " 0   0       178 non-null    int64\n",
            "dtypes: int64(1)\n",
            "memory usage: 1.5 KB\n"
          ],
          "name": "stdout"
        },
        {
          "output_type": "execute_result",
          "data": {
            "text/plain": [
              "(None, None)"
            ]
          },
          "metadata": {
            "tags": []
          },
          "execution_count": 6
        }
      ]
    },
    {
      "cell_type": "markdown",
      "metadata": {
        "id": "njHK7fr6e8U_"
      },
      "source": [
        "## DB SAVE & LOAD"
      ]
    },
    {
      "cell_type": "code",
      "metadata": {
        "id": "tW1IvN38itxZ"
      },
      "source": [
        "import sqlite3\n",
        "connect = sqlite3.connect('./db.sqlite3')\n",
        "df_wine.to_sql('wine_table',connect, if_exists='replace', index=False)\n",
        "# df_twine.to_sql('wine_table',connect, if_exists='replace', index=False)"
      ],
      "execution_count": 7,
      "outputs": []
    },
    {
      "cell_type": "code",
      "metadata": {
        "id": "Lz14qUSEjPN8"
      },
      "source": [
        "df_load = pd.read_sql_query('select * from wine_table',connect)"
      ],
      "execution_count": 8,
      "outputs": []
    },
    {
      "cell_type": "code",
      "metadata": {
        "colab": {
          "base_uri": "https://localhost:8080/",
          "height": 417
        },
        "id": "0uiiGGmgjhNh",
        "outputId": "eb2bde93-9f34-4aff-d2d6-04d6017be531"
      },
      "source": [
        "df_load"
      ],
      "execution_count": 9,
      "outputs": [
        {
          "output_type": "execute_result",
          "data": {
            "text/html": [
              "<div>\n",
              "<style scoped>\n",
              "    .dataframe tbody tr th:only-of-type {\n",
              "        vertical-align: middle;\n",
              "    }\n",
              "\n",
              "    .dataframe tbody tr th {\n",
              "        vertical-align: top;\n",
              "    }\n",
              "\n",
              "    .dataframe thead th {\n",
              "        text-align: right;\n",
              "    }\n",
              "</style>\n",
              "<table border=\"1\" class=\"dataframe\">\n",
              "  <thead>\n",
              "    <tr style=\"text-align: right;\">\n",
              "      <th></th>\n",
              "      <th>0</th>\n",
              "      <th>1</th>\n",
              "      <th>2</th>\n",
              "      <th>3</th>\n",
              "      <th>4</th>\n",
              "      <th>5</th>\n",
              "      <th>6</th>\n",
              "      <th>7</th>\n",
              "      <th>8</th>\n",
              "      <th>9</th>\n",
              "      <th>10</th>\n",
              "      <th>11</th>\n",
              "      <th>12</th>\n",
              "    </tr>\n",
              "  </thead>\n",
              "  <tbody>\n",
              "    <tr>\n",
              "      <th>0</th>\n",
              "      <td>14.23</td>\n",
              "      <td>1.71</td>\n",
              "      <td>2.43</td>\n",
              "      <td>15.6</td>\n",
              "      <td>127.0</td>\n",
              "      <td>2.80</td>\n",
              "      <td>3.06</td>\n",
              "      <td>0.28</td>\n",
              "      <td>2.29</td>\n",
              "      <td>5.64</td>\n",
              "      <td>1.04</td>\n",
              "      <td>3.92</td>\n",
              "      <td>1065.0</td>\n",
              "    </tr>\n",
              "    <tr>\n",
              "      <th>1</th>\n",
              "      <td>13.20</td>\n",
              "      <td>1.78</td>\n",
              "      <td>2.14</td>\n",
              "      <td>11.2</td>\n",
              "      <td>100.0</td>\n",
              "      <td>2.65</td>\n",
              "      <td>2.76</td>\n",
              "      <td>0.26</td>\n",
              "      <td>1.28</td>\n",
              "      <td>4.38</td>\n",
              "      <td>1.05</td>\n",
              "      <td>3.40</td>\n",
              "      <td>1050.0</td>\n",
              "    </tr>\n",
              "    <tr>\n",
              "      <th>2</th>\n",
              "      <td>13.16</td>\n",
              "      <td>2.36</td>\n",
              "      <td>2.67</td>\n",
              "      <td>18.6</td>\n",
              "      <td>101.0</td>\n",
              "      <td>2.80</td>\n",
              "      <td>3.24</td>\n",
              "      <td>0.30</td>\n",
              "      <td>2.81</td>\n",
              "      <td>5.68</td>\n",
              "      <td>1.03</td>\n",
              "      <td>3.17</td>\n",
              "      <td>1185.0</td>\n",
              "    </tr>\n",
              "    <tr>\n",
              "      <th>3</th>\n",
              "      <td>14.37</td>\n",
              "      <td>1.95</td>\n",
              "      <td>2.50</td>\n",
              "      <td>16.8</td>\n",
              "      <td>113.0</td>\n",
              "      <td>3.85</td>\n",
              "      <td>3.49</td>\n",
              "      <td>0.24</td>\n",
              "      <td>2.18</td>\n",
              "      <td>7.80</td>\n",
              "      <td>0.86</td>\n",
              "      <td>3.45</td>\n",
              "      <td>1480.0</td>\n",
              "    </tr>\n",
              "    <tr>\n",
              "      <th>4</th>\n",
              "      <td>13.24</td>\n",
              "      <td>2.59</td>\n",
              "      <td>2.87</td>\n",
              "      <td>21.0</td>\n",
              "      <td>118.0</td>\n",
              "      <td>2.80</td>\n",
              "      <td>2.69</td>\n",
              "      <td>0.39</td>\n",
              "      <td>1.82</td>\n",
              "      <td>4.32</td>\n",
              "      <td>1.04</td>\n",
              "      <td>2.93</td>\n",
              "      <td>735.0</td>\n",
              "    </tr>\n",
              "    <tr>\n",
              "      <th>...</th>\n",
              "      <td>...</td>\n",
              "      <td>...</td>\n",
              "      <td>...</td>\n",
              "      <td>...</td>\n",
              "      <td>...</td>\n",
              "      <td>...</td>\n",
              "      <td>...</td>\n",
              "      <td>...</td>\n",
              "      <td>...</td>\n",
              "      <td>...</td>\n",
              "      <td>...</td>\n",
              "      <td>...</td>\n",
              "      <td>...</td>\n",
              "    </tr>\n",
              "    <tr>\n",
              "      <th>173</th>\n",
              "      <td>13.71</td>\n",
              "      <td>5.65</td>\n",
              "      <td>2.45</td>\n",
              "      <td>20.5</td>\n",
              "      <td>95.0</td>\n",
              "      <td>1.68</td>\n",
              "      <td>0.61</td>\n",
              "      <td>0.52</td>\n",
              "      <td>1.06</td>\n",
              "      <td>7.70</td>\n",
              "      <td>0.64</td>\n",
              "      <td>1.74</td>\n",
              "      <td>740.0</td>\n",
              "    </tr>\n",
              "    <tr>\n",
              "      <th>174</th>\n",
              "      <td>13.40</td>\n",
              "      <td>3.91</td>\n",
              "      <td>2.48</td>\n",
              "      <td>23.0</td>\n",
              "      <td>102.0</td>\n",
              "      <td>1.80</td>\n",
              "      <td>0.75</td>\n",
              "      <td>0.43</td>\n",
              "      <td>1.41</td>\n",
              "      <td>7.30</td>\n",
              "      <td>0.70</td>\n",
              "      <td>1.56</td>\n",
              "      <td>750.0</td>\n",
              "    </tr>\n",
              "    <tr>\n",
              "      <th>175</th>\n",
              "      <td>13.27</td>\n",
              "      <td>4.28</td>\n",
              "      <td>2.26</td>\n",
              "      <td>20.0</td>\n",
              "      <td>120.0</td>\n",
              "      <td>1.59</td>\n",
              "      <td>0.69</td>\n",
              "      <td>0.43</td>\n",
              "      <td>1.35</td>\n",
              "      <td>10.20</td>\n",
              "      <td>0.59</td>\n",
              "      <td>1.56</td>\n",
              "      <td>835.0</td>\n",
              "    </tr>\n",
              "    <tr>\n",
              "      <th>176</th>\n",
              "      <td>13.17</td>\n",
              "      <td>2.59</td>\n",
              "      <td>2.37</td>\n",
              "      <td>20.0</td>\n",
              "      <td>120.0</td>\n",
              "      <td>1.65</td>\n",
              "      <td>0.68</td>\n",
              "      <td>0.53</td>\n",
              "      <td>1.46</td>\n",
              "      <td>9.30</td>\n",
              "      <td>0.60</td>\n",
              "      <td>1.62</td>\n",
              "      <td>840.0</td>\n",
              "    </tr>\n",
              "    <tr>\n",
              "      <th>177</th>\n",
              "      <td>14.13</td>\n",
              "      <td>4.10</td>\n",
              "      <td>2.74</td>\n",
              "      <td>24.5</td>\n",
              "      <td>96.0</td>\n",
              "      <td>2.05</td>\n",
              "      <td>0.76</td>\n",
              "      <td>0.56</td>\n",
              "      <td>1.35</td>\n",
              "      <td>9.20</td>\n",
              "      <td>0.61</td>\n",
              "      <td>1.60</td>\n",
              "      <td>560.0</td>\n",
              "    </tr>\n",
              "  </tbody>\n",
              "</table>\n",
              "<p>178 rows × 13 columns</p>\n",
              "</div>"
            ],
            "text/plain": [
              "         0     1     2     3      4  ...     8      9    10    11      12\n",
              "0    14.23  1.71  2.43  15.6  127.0  ...  2.29   5.64  1.04  3.92  1065.0\n",
              "1    13.20  1.78  2.14  11.2  100.0  ...  1.28   4.38  1.05  3.40  1050.0\n",
              "2    13.16  2.36  2.67  18.6  101.0  ...  2.81   5.68  1.03  3.17  1185.0\n",
              "3    14.37  1.95  2.50  16.8  113.0  ...  2.18   7.80  0.86  3.45  1480.0\n",
              "4    13.24  2.59  2.87  21.0  118.0  ...  1.82   4.32  1.04  2.93   735.0\n",
              "..     ...   ...   ...   ...    ...  ...   ...    ...   ...   ...     ...\n",
              "173  13.71  5.65  2.45  20.5   95.0  ...  1.06   7.70  0.64  1.74   740.0\n",
              "174  13.40  3.91  2.48  23.0  102.0  ...  1.41   7.30  0.70  1.56   750.0\n",
              "175  13.27  4.28  2.26  20.0  120.0  ...  1.35  10.20  0.59  1.56   835.0\n",
              "176  13.17  2.59  2.37  20.0  120.0  ...  1.46   9.30  0.60  1.62   840.0\n",
              "177  14.13  4.10  2.74  24.5   96.0  ...  1.35   9.20  0.61  1.60   560.0\n",
              "\n",
              "[178 rows x 13 columns]"
            ]
          },
          "metadata": {
            "tags": []
          },
          "execution_count": 9
        }
      ]
    },
    {
      "cell_type": "code",
      "metadata": {
        "colab": {
          "base_uri": "https://localhost:8080/"
        },
        "id": "ZuxzZCS0mCWS",
        "outputId": "c99cb685-efe0-4074-e878-465ac206838e"
      },
      "source": [
        "x_data = df_load.to_numpy()\n",
        "x_data.shape"
      ],
      "execution_count": 10,
      "outputs": [
        {
          "output_type": "execute_result",
          "data": {
            "text/plain": [
              "(178, 13)"
            ]
          },
          "metadata": {
            "tags": []
          },
          "execution_count": 10
        }
      ]
    },
    {
      "cell_type": "code",
      "metadata": {
        "colab": {
          "base_uri": "https://localhost:8080/"
        },
        "id": "7wo4FpycmiDu",
        "outputId": "6cbdc0c0-8cf8-490e-f83c-4e483d04e75f"
      },
      "source": [
        "y_data = wine.target\n",
        "y_data"
      ],
      "execution_count": 11,
      "outputs": [
        {
          "output_type": "execute_result",
          "data": {
            "text/plain": [
              "array([0, 0, 0, 0, 0, 0, 0, 0, 0, 0, 0, 0, 0, 0, 0, 0, 0, 0, 0, 0, 0, 0,\n",
              "       0, 0, 0, 0, 0, 0, 0, 0, 0, 0, 0, 0, 0, 0, 0, 0, 0, 0, 0, 0, 0, 0,\n",
              "       0, 0, 0, 0, 0, 0, 0, 0, 0, 0, 0, 0, 0, 0, 0, 1, 1, 1, 1, 1, 1, 1,\n",
              "       1, 1, 1, 1, 1, 1, 1, 1, 1, 1, 1, 1, 1, 1, 1, 1, 1, 1, 1, 1, 1, 1,\n",
              "       1, 1, 1, 1, 1, 1, 1, 1, 1, 1, 1, 1, 1, 1, 1, 1, 1, 1, 1, 1, 1, 1,\n",
              "       1, 1, 1, 1, 1, 1, 1, 1, 1, 1, 1, 1, 1, 1, 1, 1, 1, 1, 1, 1, 2, 2,\n",
              "       2, 2, 2, 2, 2, 2, 2, 2, 2, 2, 2, 2, 2, 2, 2, 2, 2, 2, 2, 2, 2, 2,\n",
              "       2, 2, 2, 2, 2, 2, 2, 2, 2, 2, 2, 2, 2, 2, 2, 2, 2, 2, 2, 2, 2, 2,\n",
              "       2, 2])"
            ]
          },
          "metadata": {
            "tags": []
          },
          "execution_count": 11
        }
      ]
    },
    {
      "cell_type": "code",
      "metadata": {
        "colab": {
          "base_uri": "https://localhost:8080/"
        },
        "id": "64KhVB0smogy",
        "outputId": "910b1967-a942-4030-b8c0-0256aa11dd15"
      },
      "source": [
        "import numpy as np\n",
        "np.unique(y_data)"
      ],
      "execution_count": 12,
      "outputs": [
        {
          "output_type": "execute_result",
          "data": {
            "text/plain": [
              "array([0, 1, 2])"
            ]
          },
          "metadata": {
            "tags": []
          },
          "execution_count": 12
        }
      ]
    },
    {
      "cell_type": "markdown",
      "metadata": {
        "id": "Ht7iQ9-QfLP0"
      },
      "source": [
        "## Stendard split"
      ]
    },
    {
      "cell_type": "code",
      "metadata": {
        "colab": {
          "base_uri": "https://localhost:8080/"
        },
        "id": "apkwsVecfWi5",
        "outputId": "92d578e8-aee3-466a-e3a2-b7da70ddb316"
      },
      "source": [
        "from sklearn.preprocessing import StandardScaler\n",
        "scaler = StandardScaler()\n",
        "scaler.fit(x_data)"
      ],
      "execution_count": 13,
      "outputs": [
        {
          "output_type": "execute_result",
          "data": {
            "text/plain": [
              "StandardScaler(copy=True, with_mean=True, with_std=True)"
            ]
          },
          "metadata": {
            "tags": []
          },
          "execution_count": 13
        }
      ]
    },
    {
      "cell_type": "code",
      "metadata": {
        "colab": {
          "base_uri": "https://localhost:8080/"
        },
        "id": "4szYvl1MnOg_",
        "outputId": "a86d572e-69e6-4e39-a6b4-defa17506f37"
      },
      "source": [
        "x_train = scaler.transform(x_data)\n",
        "x_train.shape"
      ],
      "execution_count": 14,
      "outputs": [
        {
          "output_type": "execute_result",
          "data": {
            "text/plain": [
              "(178, 13)"
            ]
          },
          "metadata": {
            "tags": []
          },
          "execution_count": 14
        }
      ]
    },
    {
      "cell_type": "code",
      "metadata": {
        "colab": {
          "base_uri": "https://localhost:8080/",
          "height": 315
        },
        "id": "lVJBMEvkoDdg",
        "outputId": "9a138f54-0fc7-425e-a213-17f63bb24c74"
      },
      "source": [
        "df = pd.DataFrame(x_train)\n",
        "df.describe()"
      ],
      "execution_count": 15,
      "outputs": [
        {
          "output_type": "execute_result",
          "data": {
            "text/html": [
              "<div>\n",
              "<style scoped>\n",
              "    .dataframe tbody tr th:only-of-type {\n",
              "        vertical-align: middle;\n",
              "    }\n",
              "\n",
              "    .dataframe tbody tr th {\n",
              "        vertical-align: top;\n",
              "    }\n",
              "\n",
              "    .dataframe thead th {\n",
              "        text-align: right;\n",
              "    }\n",
              "</style>\n",
              "<table border=\"1\" class=\"dataframe\">\n",
              "  <thead>\n",
              "    <tr style=\"text-align: right;\">\n",
              "      <th></th>\n",
              "      <th>0</th>\n",
              "      <th>1</th>\n",
              "      <th>2</th>\n",
              "      <th>3</th>\n",
              "      <th>4</th>\n",
              "      <th>5</th>\n",
              "      <th>6</th>\n",
              "      <th>7</th>\n",
              "      <th>8</th>\n",
              "      <th>9</th>\n",
              "      <th>10</th>\n",
              "      <th>11</th>\n",
              "      <th>12</th>\n",
              "    </tr>\n",
              "  </thead>\n",
              "  <tbody>\n",
              "    <tr>\n",
              "      <th>count</th>\n",
              "      <td>1.780000e+02</td>\n",
              "      <td>1.780000e+02</td>\n",
              "      <td>1.780000e+02</td>\n",
              "      <td>1.780000e+02</td>\n",
              "      <td>1.780000e+02</td>\n",
              "      <td>1.780000e+02</td>\n",
              "      <td>1.780000e+02</td>\n",
              "      <td>1.780000e+02</td>\n",
              "      <td>1.780000e+02</td>\n",
              "      <td>1.780000e+02</td>\n",
              "      <td>1.780000e+02</td>\n",
              "      <td>1.780000e+02</td>\n",
              "      <td>1.780000e+02</td>\n",
              "    </tr>\n",
              "    <tr>\n",
              "      <th>mean</th>\n",
              "      <td>-8.619821e-16</td>\n",
              "      <td>-8.357859e-17</td>\n",
              "      <td>-8.657245e-16</td>\n",
              "      <td>-1.160121e-16</td>\n",
              "      <td>-1.995907e-17</td>\n",
              "      <td>-2.972030e-16</td>\n",
              "      <td>-4.016762e-16</td>\n",
              "      <td>4.079134e-16</td>\n",
              "      <td>-1.699639e-16</td>\n",
              "      <td>-1.122697e-17</td>\n",
              "      <td>3.717376e-16</td>\n",
              "      <td>2.919013e-16</td>\n",
              "      <td>-7.484650e-18</td>\n",
              "    </tr>\n",
              "    <tr>\n",
              "      <th>std</th>\n",
              "      <td>1.002821e+00</td>\n",
              "      <td>1.002821e+00</td>\n",
              "      <td>1.002821e+00</td>\n",
              "      <td>1.002821e+00</td>\n",
              "      <td>1.002821e+00</td>\n",
              "      <td>1.002821e+00</td>\n",
              "      <td>1.002821e+00</td>\n",
              "      <td>1.002821e+00</td>\n",
              "      <td>1.002821e+00</td>\n",
              "      <td>1.002821e+00</td>\n",
              "      <td>1.002821e+00</td>\n",
              "      <td>1.002821e+00</td>\n",
              "      <td>1.002821e+00</td>\n",
              "    </tr>\n",
              "    <tr>\n",
              "      <th>min</th>\n",
              "      <td>-2.434235e+00</td>\n",
              "      <td>-1.432983e+00</td>\n",
              "      <td>-3.679162e+00</td>\n",
              "      <td>-2.671018e+00</td>\n",
              "      <td>-2.088255e+00</td>\n",
              "      <td>-2.107246e+00</td>\n",
              "      <td>-1.695971e+00</td>\n",
              "      <td>-1.868234e+00</td>\n",
              "      <td>-2.069034e+00</td>\n",
              "      <td>-1.634288e+00</td>\n",
              "      <td>-2.094732e+00</td>\n",
              "      <td>-1.895054e+00</td>\n",
              "      <td>-1.493188e+00</td>\n",
              "    </tr>\n",
              "    <tr>\n",
              "      <th>25%</th>\n",
              "      <td>-7.882448e-01</td>\n",
              "      <td>-6.587486e-01</td>\n",
              "      <td>-5.721225e-01</td>\n",
              "      <td>-6.891372e-01</td>\n",
              "      <td>-8.244151e-01</td>\n",
              "      <td>-8.854682e-01</td>\n",
              "      <td>-8.275393e-01</td>\n",
              "      <td>-7.401412e-01</td>\n",
              "      <td>-5.972835e-01</td>\n",
              "      <td>-7.951025e-01</td>\n",
              "      <td>-7.675624e-01</td>\n",
              "      <td>-9.522483e-01</td>\n",
              "      <td>-7.846378e-01</td>\n",
              "    </tr>\n",
              "    <tr>\n",
              "      <th>50%</th>\n",
              "      <td>6.099988e-02</td>\n",
              "      <td>-4.231120e-01</td>\n",
              "      <td>-2.382132e-02</td>\n",
              "      <td>1.518295e-03</td>\n",
              "      <td>-1.222817e-01</td>\n",
              "      <td>9.595986e-02</td>\n",
              "      <td>1.061497e-01</td>\n",
              "      <td>-1.760948e-01</td>\n",
              "      <td>-6.289785e-02</td>\n",
              "      <td>-1.592246e-01</td>\n",
              "      <td>3.312687e-02</td>\n",
              "      <td>2.377348e-01</td>\n",
              "      <td>-2.337204e-01</td>\n",
              "    </tr>\n",
              "    <tr>\n",
              "      <th>75%</th>\n",
              "      <td>8.361286e-01</td>\n",
              "      <td>6.697929e-01</td>\n",
              "      <td>6.981085e-01</td>\n",
              "      <td>6.020883e-01</td>\n",
              "      <td>5.096384e-01</td>\n",
              "      <td>8.089974e-01</td>\n",
              "      <td>8.490851e-01</td>\n",
              "      <td>6.095413e-01</td>\n",
              "      <td>6.291754e-01</td>\n",
              "      <td>4.939560e-01</td>\n",
              "      <td>7.131644e-01</td>\n",
              "      <td>7.885875e-01</td>\n",
              "      <td>7.582494e-01</td>\n",
              "    </tr>\n",
              "    <tr>\n",
              "      <th>max</th>\n",
              "      <td>2.259772e+00</td>\n",
              "      <td>3.109192e+00</td>\n",
              "      <td>3.156325e+00</td>\n",
              "      <td>3.154511e+00</td>\n",
              "      <td>4.371372e+00</td>\n",
              "      <td>2.539515e+00</td>\n",
              "      <td>3.062832e+00</td>\n",
              "      <td>2.402403e+00</td>\n",
              "      <td>3.485073e+00</td>\n",
              "      <td>3.435432e+00</td>\n",
              "      <td>3.301694e+00</td>\n",
              "      <td>1.960915e+00</td>\n",
              "      <td>2.971473e+00</td>\n",
              "    </tr>\n",
              "  </tbody>\n",
              "</table>\n",
              "</div>"
            ],
            "text/plain": [
              "                 0             1   ...            11            12\n",
              "count  1.780000e+02  1.780000e+02  ...  1.780000e+02  1.780000e+02\n",
              "mean  -8.619821e-16 -8.357859e-17  ...  2.919013e-16 -7.484650e-18\n",
              "std    1.002821e+00  1.002821e+00  ...  1.002821e+00  1.002821e+00\n",
              "min   -2.434235e+00 -1.432983e+00  ... -1.895054e+00 -1.493188e+00\n",
              "25%   -7.882448e-01 -6.587486e-01  ... -9.522483e-01 -7.846378e-01\n",
              "50%    6.099988e-02 -4.231120e-01  ...  2.377348e-01 -2.337204e-01\n",
              "75%    8.361286e-01  6.697929e-01  ...  7.885875e-01  7.582494e-01\n",
              "max    2.259772e+00  3.109192e+00  ...  1.960915e+00  2.971473e+00\n",
              "\n",
              "[8 rows x 13 columns]"
            ]
          },
          "metadata": {
            "tags": []
          },
          "execution_count": 15
        }
      ]
    },
    {
      "cell_type": "code",
      "metadata": {
        "id": "avZLlvWeoPL6"
      },
      "source": [
        "df.to_sql('wine_table_x_train',connect, if_exists='replace',index=False)"
      ],
      "execution_count": 16,
      "outputs": []
    },
    {
      "cell_type": "code",
      "metadata": {
        "colab": {
          "base_uri": "https://localhost:8080/",
          "height": 315
        },
        "id": "Y6cq7oKfomdx",
        "outputId": "0f445da3-7786-4afb-dc28-cbf5de05d43b"
      },
      "source": [
        "df_read= pd.read_sql_query('select * from wine_table_x_train',connect)\n",
        "df_read.describe()"
      ],
      "execution_count": 17,
      "outputs": [
        {
          "output_type": "execute_result",
          "data": {
            "text/html": [
              "<div>\n",
              "<style scoped>\n",
              "    .dataframe tbody tr th:only-of-type {\n",
              "        vertical-align: middle;\n",
              "    }\n",
              "\n",
              "    .dataframe tbody tr th {\n",
              "        vertical-align: top;\n",
              "    }\n",
              "\n",
              "    .dataframe thead th {\n",
              "        text-align: right;\n",
              "    }\n",
              "</style>\n",
              "<table border=\"1\" class=\"dataframe\">\n",
              "  <thead>\n",
              "    <tr style=\"text-align: right;\">\n",
              "      <th></th>\n",
              "      <th>0</th>\n",
              "      <th>1</th>\n",
              "      <th>2</th>\n",
              "      <th>3</th>\n",
              "      <th>4</th>\n",
              "      <th>5</th>\n",
              "      <th>6</th>\n",
              "      <th>7</th>\n",
              "      <th>8</th>\n",
              "      <th>9</th>\n",
              "      <th>10</th>\n",
              "      <th>11</th>\n",
              "      <th>12</th>\n",
              "    </tr>\n",
              "  </thead>\n",
              "  <tbody>\n",
              "    <tr>\n",
              "      <th>count</th>\n",
              "      <td>1.780000e+02</td>\n",
              "      <td>1.780000e+02</td>\n",
              "      <td>1.780000e+02</td>\n",
              "      <td>1.780000e+02</td>\n",
              "      <td>1.780000e+02</td>\n",
              "      <td>1.780000e+02</td>\n",
              "      <td>1.780000e+02</td>\n",
              "      <td>1.780000e+02</td>\n",
              "      <td>1.780000e+02</td>\n",
              "      <td>1.780000e+02</td>\n",
              "      <td>1.780000e+02</td>\n",
              "      <td>1.780000e+02</td>\n",
              "      <td>1.780000e+02</td>\n",
              "    </tr>\n",
              "    <tr>\n",
              "      <th>mean</th>\n",
              "      <td>-8.619821e-16</td>\n",
              "      <td>-8.357859e-17</td>\n",
              "      <td>-8.657245e-16</td>\n",
              "      <td>-1.160121e-16</td>\n",
              "      <td>-1.995907e-17</td>\n",
              "      <td>-2.972030e-16</td>\n",
              "      <td>-4.016762e-16</td>\n",
              "      <td>4.079134e-16</td>\n",
              "      <td>-1.699639e-16</td>\n",
              "      <td>-1.122697e-17</td>\n",
              "      <td>3.717376e-16</td>\n",
              "      <td>2.919013e-16</td>\n",
              "      <td>-7.484650e-18</td>\n",
              "    </tr>\n",
              "    <tr>\n",
              "      <th>std</th>\n",
              "      <td>1.002821e+00</td>\n",
              "      <td>1.002821e+00</td>\n",
              "      <td>1.002821e+00</td>\n",
              "      <td>1.002821e+00</td>\n",
              "      <td>1.002821e+00</td>\n",
              "      <td>1.002821e+00</td>\n",
              "      <td>1.002821e+00</td>\n",
              "      <td>1.002821e+00</td>\n",
              "      <td>1.002821e+00</td>\n",
              "      <td>1.002821e+00</td>\n",
              "      <td>1.002821e+00</td>\n",
              "      <td>1.002821e+00</td>\n",
              "      <td>1.002821e+00</td>\n",
              "    </tr>\n",
              "    <tr>\n",
              "      <th>min</th>\n",
              "      <td>-2.434235e+00</td>\n",
              "      <td>-1.432983e+00</td>\n",
              "      <td>-3.679162e+00</td>\n",
              "      <td>-2.671018e+00</td>\n",
              "      <td>-2.088255e+00</td>\n",
              "      <td>-2.107246e+00</td>\n",
              "      <td>-1.695971e+00</td>\n",
              "      <td>-1.868234e+00</td>\n",
              "      <td>-2.069034e+00</td>\n",
              "      <td>-1.634288e+00</td>\n",
              "      <td>-2.094732e+00</td>\n",
              "      <td>-1.895054e+00</td>\n",
              "      <td>-1.493188e+00</td>\n",
              "    </tr>\n",
              "    <tr>\n",
              "      <th>25%</th>\n",
              "      <td>-7.882448e-01</td>\n",
              "      <td>-6.587486e-01</td>\n",
              "      <td>-5.721225e-01</td>\n",
              "      <td>-6.891372e-01</td>\n",
              "      <td>-8.244151e-01</td>\n",
              "      <td>-8.854682e-01</td>\n",
              "      <td>-8.275393e-01</td>\n",
              "      <td>-7.401412e-01</td>\n",
              "      <td>-5.972835e-01</td>\n",
              "      <td>-7.951025e-01</td>\n",
              "      <td>-7.675624e-01</td>\n",
              "      <td>-9.522483e-01</td>\n",
              "      <td>-7.846378e-01</td>\n",
              "    </tr>\n",
              "    <tr>\n",
              "      <th>50%</th>\n",
              "      <td>6.099988e-02</td>\n",
              "      <td>-4.231120e-01</td>\n",
              "      <td>-2.382132e-02</td>\n",
              "      <td>1.518295e-03</td>\n",
              "      <td>-1.222817e-01</td>\n",
              "      <td>9.595986e-02</td>\n",
              "      <td>1.061497e-01</td>\n",
              "      <td>-1.760948e-01</td>\n",
              "      <td>-6.289785e-02</td>\n",
              "      <td>-1.592246e-01</td>\n",
              "      <td>3.312687e-02</td>\n",
              "      <td>2.377348e-01</td>\n",
              "      <td>-2.337204e-01</td>\n",
              "    </tr>\n",
              "    <tr>\n",
              "      <th>75%</th>\n",
              "      <td>8.361286e-01</td>\n",
              "      <td>6.697929e-01</td>\n",
              "      <td>6.981085e-01</td>\n",
              "      <td>6.020883e-01</td>\n",
              "      <td>5.096384e-01</td>\n",
              "      <td>8.089974e-01</td>\n",
              "      <td>8.490851e-01</td>\n",
              "      <td>6.095413e-01</td>\n",
              "      <td>6.291754e-01</td>\n",
              "      <td>4.939560e-01</td>\n",
              "      <td>7.131644e-01</td>\n",
              "      <td>7.885875e-01</td>\n",
              "      <td>7.582494e-01</td>\n",
              "    </tr>\n",
              "    <tr>\n",
              "      <th>max</th>\n",
              "      <td>2.259772e+00</td>\n",
              "      <td>3.109192e+00</td>\n",
              "      <td>3.156325e+00</td>\n",
              "      <td>3.154511e+00</td>\n",
              "      <td>4.371372e+00</td>\n",
              "      <td>2.539515e+00</td>\n",
              "      <td>3.062832e+00</td>\n",
              "      <td>2.402403e+00</td>\n",
              "      <td>3.485073e+00</td>\n",
              "      <td>3.435432e+00</td>\n",
              "      <td>3.301694e+00</td>\n",
              "      <td>1.960915e+00</td>\n",
              "      <td>2.971473e+00</td>\n",
              "    </tr>\n",
              "  </tbody>\n",
              "</table>\n",
              "</div>"
            ],
            "text/plain": [
              "                  0             1  ...            11            12\n",
              "count  1.780000e+02  1.780000e+02  ...  1.780000e+02  1.780000e+02\n",
              "mean  -8.619821e-16 -8.357859e-17  ...  2.919013e-16 -7.484650e-18\n",
              "std    1.002821e+00  1.002821e+00  ...  1.002821e+00  1.002821e+00\n",
              "min   -2.434235e+00 -1.432983e+00  ... -1.895054e+00 -1.493188e+00\n",
              "25%   -7.882448e-01 -6.587486e-01  ... -9.522483e-01 -7.846378e-01\n",
              "50%    6.099988e-02 -4.231120e-01  ...  2.377348e-01 -2.337204e-01\n",
              "75%    8.361286e-01  6.697929e-01  ...  7.885875e-01  7.582494e-01\n",
              "max    2.259772e+00  3.109192e+00  ...  1.960915e+00  2.971473e+00\n",
              "\n",
              "[8 rows x 13 columns]"
            ]
          },
          "metadata": {
            "tags": []
          },
          "execution_count": 17
        }
      ]
    },
    {
      "cell_type": "markdown",
      "metadata": {
        "id": "M0brm64UfSVq"
      },
      "source": [
        "## Creat model"
      ]
    },
    {
      "cell_type": "code",
      "metadata": {
        "id": "Jh8_C8GkfXWf"
      },
      "source": [
        "import tensorflow as tf\n",
        "model = tf.keras.Sequential()"
      ],
      "execution_count": 18,
      "outputs": []
    },
    {
      "cell_type": "code",
      "metadata": {
        "colab": {
          "base_uri": "https://localhost:8080/"
        },
        "id": "8Wa3q66qpEUo",
        "outputId": "095dc14f-6f2e-4a49-fba5-461fed0678ea"
      },
      "source": [
        "model.add(tf.keras.Input(shape=(13,)))\n",
        "model.add(tf.keras.layers.Dense(64,activation='relu'))\n",
        "model.add(tf.keras.layers.Dense(64,activation='relu'))\n",
        "model.add(tf.keras.layers.Dense(24,activation='relu'))\n",
        "model.add(tf.keras.layers.Dense(24,activation='relu'))\n",
        "model.add(tf.keras.layers.Dense(3,activation='softmax'))\n",
        "\n",
        "model.compile(optimizer='adam', loss='sparse_categorical_crossentropy', metrics=['acc'])"
      ],
      "execution_count": 19,
      "outputs": [
        {
          "output_type": "stream",
          "text": [
            "WARNING:tensorflow:Please add `keras.layers.InputLayer` instead of `keras.Input` to Sequential model. `keras.Input` is intended to be used by Functional model.\n"
          ],
          "name": "stdout"
        }
      ]
    },
    {
      "cell_type": "code",
      "metadata": {
        "colab": {
          "base_uri": "https://localhost:8080/",
          "height": 644
        },
        "id": "SWElLuA4qmUn",
        "outputId": "503b6254-91e6-4be9-bb81-7cc20aa4f0d6"
      },
      "source": [
        "tf.keras.utils.plot_model(model,show_shapes=True)"
      ],
      "execution_count": 20,
      "outputs": [
        {
          "output_type": "execute_result",
          "data": {
            "image/png": "[encoded data removed]",
            "text/plain": [
              "<IPython.core.display.Image object>"
            ]
          },
          "metadata": {
            "tags": []
          },
          "execution_count": 20
        }
      ]
    },
    {
      "cell_type": "code",
      "metadata": {
        "colab": {
          "base_uri": "https://localhost:8080/"
        },
        "id": "ivtMFZd6px3z",
        "outputId": "f08d8bb4-a165-4a5b-c65d-1e5d39fcd0d9"
      },
      "source": [
        "model.summary()"
      ],
      "execution_count": 21,
      "outputs": [
        {
          "output_type": "stream",
          "text": [
            "Model: \"sequential\"\n",
            "_________________________________________________________________\n",
            "Layer (type)                 Output Shape              Param #   \n",
            "=================================================================\n",
            "dense (Dense)                (None, 64)                896       \n",
            "_________________________________________________________________\n",
            "dense_1 (Dense)              (None, 64)                4160      \n",
            "_________________________________________________________________\n",
            "dense_2 (Dense)              (None, 24)                1560      \n",
            "_________________________________________________________________\n",
            "dense_3 (Dense)              (None, 24)                600       \n",
            "_________________________________________________________________\n",
            "dense_4 (Dense)              (None, 3)                 75        \n",
            "=================================================================\n",
            "Total params: 7,291\n",
            "Trainable params: 7,291\n",
            "Non-trainable params: 0\n",
            "_________________________________________________________________\n"
          ],
          "name": "stdout"
        }
      ]
    },
    {
      "cell_type": "markdown",
      "metadata": {
        "id": "6AWug-4zfYbi"
      },
      "source": [
        "## Learn (fit)"
      ]
    },
    {
      "cell_type": "code",
      "metadata": {
        "colab": {
          "base_uri": "https://localhost:8080/"
        },
        "id": "Ob_cCetVfcri",
        "outputId": "3b4f905e-f9ff-4519-e263-0b10aeb1dbb2"
      },
      "source": [
        "hist = model.fit(x_data,y_data, epochs=50, validation_split=0.3)"
      ],
      "execution_count": 22,
      "outputs": [
        {
          "output_type": "stream",
          "text": [
            "Epoch 1/50\n",
            "4/4 [==============================] - 1s 68ms/step - loss: 44.0698 - acc: 0.5242 - val_loss: 23.5606 - val_acc: 0.1111\n",
            "Epoch 2/50\n",
            "4/4 [==============================] - 0s 10ms/step - loss: 6.2036 - acc: 0.4435 - val_loss: 45.4508 - val_acc: 0.0000e+00\n",
            "Epoch 3/50\n",
            "4/4 [==============================] - 0s 9ms/step - loss: 8.8472 - acc: 0.4758 - val_loss: 49.2954 - val_acc: 0.0000e+00\n",
            "Epoch 4/50\n",
            "4/4 [==============================] - 0s 11ms/step - loss: 8.4709 - acc: 0.4758 - val_loss: 41.0965 - val_acc: 0.0000e+00\n",
            "Epoch 5/50\n",
            "4/4 [==============================] - 0s 9ms/step - loss: 4.3365 - acc: 0.4919 - val_loss: 24.4806 - val_acc: 0.0926\n",
            "Epoch 6/50\n",
            "4/4 [==============================] - 0s 9ms/step - loss: 1.7622 - acc: 0.6613 - val_loss: 21.2091 - val_acc: 0.1111\n",
            "Epoch 7/50\n",
            "4/4 [==============================] - 0s 10ms/step - loss: 1.4634 - acc: 0.6532 - val_loss: 25.0478 - val_acc: 0.0926\n",
            "Epoch 8/50\n",
            "4/4 [==============================] - 0s 10ms/step - loss: 1.1519 - acc: 0.6129 - val_loss: 28.2654 - val_acc: 0.0370\n",
            "Epoch 9/50\n",
            "4/4 [==============================] - 0s 11ms/step - loss: 1.0606 - acc: 0.6290 - val_loss: 23.9930 - val_acc: 0.0926\n",
            "Epoch 10/50\n",
            "4/4 [==============================] - 0s 11ms/step - loss: 0.3493 - acc: 0.8468 - val_loss: 21.8905 - val_acc: 0.1111\n",
            "Epoch 11/50\n",
            "4/4 [==============================] - 0s 10ms/step - loss: 0.6159 - acc: 0.8065 - val_loss: 23.3361 - val_acc: 0.1111\n",
            "Epoch 12/50\n",
            "4/4 [==============================] - 0s 13ms/step - loss: 0.2698 - acc: 0.8790 - val_loss: 25.4591 - val_acc: 0.0926\n",
            "Epoch 13/50\n",
            "4/4 [==============================] - 0s 9ms/step - loss: 0.4244 - acc: 0.8226 - val_loss: 25.3205 - val_acc: 0.0926\n",
            "Epoch 14/50\n",
            "4/4 [==============================] - 0s 10ms/step - loss: 0.2816 - acc: 0.8871 - val_loss: 24.5262 - val_acc: 0.1111\n",
            "Epoch 15/50\n",
            "4/4 [==============================] - 0s 9ms/step - loss: 0.3155 - acc: 0.8871 - val_loss: 24.7871 - val_acc: 0.1111\n",
            "Epoch 16/50\n",
            "4/4 [==============================] - 0s 10ms/step - loss: 0.2813 - acc: 0.9113 - val_loss: 25.8463 - val_acc: 0.1111\n",
            "Epoch 17/50\n",
            "4/4 [==============================] - 0s 10ms/step - loss: 0.2775 - acc: 0.8710 - val_loss: 26.5337 - val_acc: 0.1111\n",
            "Epoch 18/50\n",
            "4/4 [==============================] - 0s 10ms/step - loss: 0.2860 - acc: 0.8710 - val_loss: 26.5414 - val_acc: 0.1111\n",
            "Epoch 19/50\n",
            "4/4 [==============================] - 0s 16ms/step - loss: 0.2629 - acc: 0.8790 - val_loss: 26.5976 - val_acc: 0.1111\n",
            "Epoch 20/50\n",
            "4/4 [==============================] - 0s 9ms/step - loss: 0.2676 - acc: 0.8790 - val_loss: 26.7784 - val_acc: 0.1111\n",
            "Epoch 21/50\n",
            "4/4 [==============================] - 0s 10ms/step - loss: 0.2646 - acc: 0.8790 - val_loss: 27.1508 - val_acc: 0.1111\n",
            "Epoch 22/50\n",
            "4/4 [==============================] - 0s 10ms/step - loss: 0.2737 - acc: 0.8710 - val_loss: 27.6126 - val_acc: 0.1111\n",
            "Epoch 23/50\n",
            "4/4 [==============================] - 0s 9ms/step - loss: 0.2598 - acc: 0.8790 - val_loss: 27.4724 - val_acc: 0.1111\n",
            "Epoch 24/50\n",
            "4/4 [==============================] - 0s 12ms/step - loss: 0.2616 - acc: 0.8871 - val_loss: 27.5898 - val_acc: 0.1111\n",
            "Epoch 25/50\n",
            "4/4 [==============================] - 0s 10ms/step - loss: 0.2586 - acc: 0.8790 - val_loss: 27.9970 - val_acc: 0.1111\n",
            "Epoch 26/50\n",
            "4/4 [==============================] - 0s 10ms/step - loss: 0.2620 - acc: 0.8710 - val_loss: 28.2974 - val_acc: 0.1111\n",
            "Epoch 27/50\n",
            "4/4 [==============================] - 0s 11ms/step - loss: 0.2606 - acc: 0.8790 - val_loss: 28.0322 - val_acc: 0.1111\n",
            "Epoch 28/50\n",
            "4/4 [==============================] - 0s 10ms/step - loss: 0.2641 - acc: 0.8952 - val_loss: 28.3536 - val_acc: 0.1111\n",
            "Epoch 29/50\n",
            "4/4 [==============================] - 0s 12ms/step - loss: 0.2536 - acc: 0.8790 - val_loss: 28.5437 - val_acc: 0.1111\n",
            "Epoch 30/50\n",
            "4/4 [==============================] - 0s 11ms/step - loss: 0.2498 - acc: 0.8790 - val_loss: 28.5404 - val_acc: 0.1111\n",
            "Epoch 31/50\n",
            "4/4 [==============================] - 0s 10ms/step - loss: 0.2512 - acc: 0.8952 - val_loss: 28.6113 - val_acc: 0.1111\n",
            "Epoch 32/50\n",
            "4/4 [==============================] - 0s 11ms/step - loss: 0.2491 - acc: 0.8790 - val_loss: 28.8530 - val_acc: 0.1111\n",
            "Epoch 33/50\n",
            "4/4 [==============================] - 0s 9ms/step - loss: 0.2483 - acc: 0.8790 - val_loss: 28.9804 - val_acc: 0.1111\n",
            "Epoch 34/50\n",
            "4/4 [==============================] - 0s 9ms/step - loss: 0.2561 - acc: 0.8871 - val_loss: 28.8949 - val_acc: 0.1111\n",
            "Epoch 35/50\n",
            "4/4 [==============================] - 0s 11ms/step - loss: 0.2531 - acc: 0.8629 - val_loss: 29.2193 - val_acc: 0.1111\n",
            "Epoch 36/50\n",
            "4/4 [==============================] - 0s 11ms/step - loss: 0.2494 - acc: 0.8952 - val_loss: 29.0148 - val_acc: 0.1111\n",
            "Epoch 37/50\n",
            "4/4 [==============================] - 0s 10ms/step - loss: 0.2453 - acc: 0.8871 - val_loss: 29.2560 - val_acc: 0.1111\n",
            "Epoch 38/50\n",
            "4/4 [==============================] - 0s 10ms/step - loss: 0.2440 - acc: 0.8871 - val_loss: 29.3860 - val_acc: 0.1111\n",
            "Epoch 39/50\n",
            "4/4 [==============================] - 0s 10ms/step - loss: 0.2431 - acc: 0.8871 - val_loss: 29.2279 - val_acc: 0.1111\n",
            "Epoch 40/50\n",
            "4/4 [==============================] - 0s 58ms/step - loss: 0.2426 - acc: 0.8871 - val_loss: 29.4327 - val_acc: 0.1111\n",
            "Epoch 41/50\n",
            "4/4 [==============================] - 0s 10ms/step - loss: 0.2444 - acc: 0.8790 - val_loss: 29.5454 - val_acc: 0.1111\n",
            "Epoch 42/50\n",
            "4/4 [==============================] - 0s 9ms/step - loss: 0.2406 - acc: 0.8790 - val_loss: 29.6755 - val_acc: 0.1111\n",
            "Epoch 43/50\n",
            "4/4 [==============================] - 0s 10ms/step - loss: 0.2349 - acc: 0.8790 - val_loss: 29.5271 - val_acc: 0.1111\n",
            "Epoch 44/50\n",
            "4/4 [==============================] - 0s 9ms/step - loss: 0.2472 - acc: 0.9032 - val_loss: 29.6257 - val_acc: 0.1111\n",
            "Epoch 45/50\n",
            "4/4 [==============================] - 0s 9ms/step - loss: 0.2509 - acc: 0.8548 - val_loss: 30.0815 - val_acc: 0.1111\n",
            "Epoch 46/50\n",
            "4/4 [==============================] - 0s 10ms/step - loss: 0.2842 - acc: 0.8710 - val_loss: 29.4638 - val_acc: 0.1111\n",
            "Epoch 47/50\n",
            "4/4 [==============================] - 0s 10ms/step - loss: 0.2519 - acc: 0.8710 - val_loss: 30.2315 - val_acc: 0.1111\n",
            "Epoch 48/50\n",
            "4/4 [==============================] - 0s 10ms/step - loss: 0.2410 - acc: 0.8629 - val_loss: 29.6933 - val_acc: 0.1111\n",
            "Epoch 49/50\n",
            "4/4 [==============================] - 0s 9ms/step - loss: 0.2356 - acc: 0.9032 - val_loss: 29.8229 - val_acc: 0.1111\n",
            "Epoch 50/50\n",
            "4/4 [==============================] - 0s 11ms/step - loss: 0.2286 - acc: 0.8952 - val_loss: 30.1593 - val_acc: 0.1111\n"
          ],
          "name": "stdout"
        }
      ]
    },
    {
      "cell_type": "markdown",
      "metadata": {
        "id": "E573j4ccfgZO"
      },
      "source": [
        "## Evaluation"
      ]
    },
    {
      "cell_type": "code",
      "metadata": {
        "colab": {
          "base_uri": "https://localhost:8080/"
        },
        "id": "Dr_ZzYpoflzO",
        "outputId": "759234f8-031c-4f76-9de5-3bd426841b8d"
      },
      "source": [
        "model.evaluate(x_data,y_data)"
      ],
      "execution_count": 23,
      "outputs": [
        {
          "output_type": "stream",
          "text": [
            "6/6 [==============================] - 0s 2ms/step - loss: 9.3103 - acc: 0.6573\n"
          ],
          "name": "stdout"
        },
        {
          "output_type": "execute_result",
          "data": {
            "text/plain": [
              "[9.31030559539795, 0.6573033928871155]"
            ]
          },
          "metadata": {
            "tags": []
          },
          "execution_count": 23
        }
      ]
    },
    {
      "cell_type": "code",
      "metadata": {
        "colab": {
          "base_uri": "https://localhost:8080/"
        },
        "id": "erCLiUrQrF-u",
        "outputId": "0f64aae9-f297-4ae4-a1ca-45aa6a4cb506"
      },
      "source": [
        "hist.history.keys()"
      ],
      "execution_count": 24,
      "outputs": [
        {
          "output_type": "execute_result",
          "data": {
            "text/plain": [
              "dict_keys(['loss', 'acc', 'val_loss', 'val_acc'])"
            ]
          },
          "metadata": {
            "tags": []
          },
          "execution_count": 24
        }
      ]
    },
    {
      "cell_type": "code",
      "metadata": {
        "colab": {
          "base_uri": "https://localhost:8080/",
          "height": 265
        },
        "id": "4hXfVqWlrJHC",
        "outputId": "fc6694f1-d73d-433c-c94e-c691335ecbd3"
      },
      "source": [
        "import matplotlib.pyplot as plt\n",
        "plt.plot(hist.history['loss'])\n",
        "plt.plot(hist.history['val_loss'])\n",
        "plt.show()"
      ],
      "execution_count": 25,
      "outputs": [
        {
          "output_type": "display_data",
          "data": {
            "image/png": "[encoded data removed]",
            "text/plain": [
              "<Figure size 432x288 with 1 Axes>"
            ]
          },
          "metadata": {
            "tags": [],
            "needs_background": "light"
          }
        }
      ]
    },
    {
      "cell_type": "markdown",
      "metadata": {
        "id": "Hx8EEKZ5fmS3"
      },
      "source": [
        "## Service"
      ]
    },
    {
      "cell_type": "code",
      "metadata": {
        "colab": {
          "base_uri": "https://localhost:8080/"
        },
        "id": "UCaYA4dtfpp8",
        "outputId": "cb199271-7b10-415a-9389-c1222f403281"
      },
      "source": [
        "x_data[25], y_data[25]"
      ],
      "execution_count": 26,
      "outputs": [
        {
          "output_type": "execute_result",
          "data": {
            "text/plain": [
              "(array([1.305e+01, 2.050e+00, 3.220e+00, 2.500e+01, 1.240e+02, 2.630e+00,\n",
              "        2.680e+00, 4.700e-01, 1.920e+00, 3.580e+00, 1.130e+00, 3.200e+00,\n",
              "        8.300e+02]), 0)"
            ]
          },
          "metadata": {
            "tags": []
          },
          "execution_count": 26
        }
      ]
    },
    {
      "cell_type": "code",
      "metadata": {
        "colab": {
          "base_uri": "https://localhost:8080/"
        },
        "id": "I_i_aHOVqKbe",
        "outputId": "edd009ba-18d4-4861-8509-07d6dda76d96"
      },
      "source": [
        "pred = model.predict([[1.305e+01, 2.050e+00, 3.220e+00, 2.500e+01, 1.240e+02, 2.630e+00,\n",
        "        2.680e+00, 4.700e-01, 1.920e+00, 3.580e+00, 1.130e+00, 3.200e+00,\n",
        "        8.300e+02]])\n",
        "\n",
        "pred"
      ],
      "execution_count": 27,
      "outputs": [
        {
          "output_type": "execute_result",
          "data": {
            "text/plain": [
              "array([[2.3912780e-01, 7.6087224e-01, 1.9262571e-20]], dtype=float32)"
            ]
          },
          "metadata": {
            "tags": []
          },
          "execution_count": 27
        }
      ]
    },
    {
      "cell_type": "code",
      "metadata": {
        "colab": {
          "base_uri": "https://localhost:8080/"
        },
        "id": "9yGCfE88qRav",
        "outputId": "45a948a1-b77c-4f37-da27-68aeb0fbf1dc"
      },
      "source": [
        "np.argmax(pred)"
      ],
      "execution_count": 28,
      "outputs": [
        {
          "output_type": "execute_result",
          "data": {
            "text/plain": [
              "1"
            ]
          },
          "metadata": {
            "tags": []
          },
          "execution_count": 28
        }
      ]
    },
    {
      "cell_type": "code",
      "metadata": {
        "id": "xIsMylbxqZbv"
      },
      "source": [
        ""
      ],
      "execution_count": 28,
      "outputs": []
    }
  ]
}