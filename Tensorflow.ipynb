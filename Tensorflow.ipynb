{
  "nbformat": 4,
  "nbformat_minor": 0,
  "metadata": {
    "colab": {
      "name": "Tensorflow.ipynb",
      "provenance": [],
      "collapsed_sections": [],
      "authorship_tag": "ABX9TyOl1MHqoU/OgkcmzYWeCfoL",
      "include_colab_link": true
    },
    "kernelspec": {
      "name": "python3",
      "display_name": "Python 3"
    },
    "language_info": {
      "name": "python"
    }
  },
  "cells": [
    {
      "cell_type": "markdown",
      "metadata": {
        "id": "view-in-github",
        "colab_type": "text"
      },
      "source": [
        "<a href=\"https://colab.research.google.com/github/ginttone/multi_deeplearning/blob/master/Tensorflow.ipynb\" target=\"_parent\"><img src=\"https://colab.research.google.com/assets/colab-badge.svg\" alt=\"Open In Colab\"/></a>"
      ]
    },
    {
      "cell_type": "markdown",
      "metadata": {
        "id": "tZwCxqU1qZwP"
      },
      "source": [
        "# tensorflow 설치"
      ]
    },
    {
      "cell_type": "code",
      "metadata": {
        "id": "v3xdSRmQpjKY"
      },
      "source": [
        "import tensorflow as tf"
      ],
      "execution_count": 1,
      "outputs": []
    },
    {
      "cell_type": "markdown",
      "metadata": {
        "id": "bYfDRxkTp160"
      },
      "source": [
        "!python -m pip install -u tensorflow\n",
        "\n",
        "pc성능(GPU)에 따라 영향이 크다."
      ]
    },
    {
      "cell_type": "code",
      "metadata": {
        "colab": {
          "base_uri": "https://localhost:8080/",
          "height": 35
        },
        "id": "1JYr_7eUppfW",
        "outputId": "d16d9286-aacb-4561-91c3-7556c72f44bd"
      },
      "source": [
        "tf.__version__"
      ],
      "execution_count": 2,
      "outputs": [
        {
          "output_type": "execute_result",
          "data": {
            "application/vnd.google.colaboratory.intrinsic+json": {
              "type": "string"
            },
            "text/plain": [
              "'2.5.0'"
            ]
          },
          "metadata": {
            "tags": []
          },
          "execution_count": 2
        }
      ]
    },
    {
      "cell_type": "markdown",
      "metadata": {
        "id": "K_0nq39KqRaZ"
      },
      "source": [
        "## 기존방식\n",
        "\n",
        "성공시 보상 크기는 x조건, 실행은 y조건"
      ]
    },
    {
      "cell_type": "code",
      "metadata": {
        "colab": {
          "base_uri": "https://localhost:8080/"
        },
        "id": "RszDoih5qHcp",
        "outputId": "cb4083cc-2b07-4245-92e9-8c24ca8b5e4c"
      },
      "source": [
        "x_data = [[0,0],[1,0],[0,1],[1,1]]\n",
        "y_data = [[0],[1],[1],[1]]\n",
        "\n",
        "type(x_data),type(y_data)"
      ],
      "execution_count": 3,
      "outputs": [
        {
          "output_type": "execute_result",
          "data": {
            "text/plain": [
              "(list, list)"
            ]
          },
          "metadata": {
            "tags": []
          },
          "execution_count": 3
        }
      ]
    },
    {
      "cell_type": "markdown",
      "metadata": {
        "id": "lFQ3caTWrjS8"
      },
      "source": [
        "type이 list 인 것은 tensorflow 에서 사용 못하기 때분에 numpy로 바꾸어준다"
      ]
    },
    {
      "cell_type": "code",
      "metadata": {
        "colab": {
          "base_uri": "https://localhost:8080/"
        },
        "id": "76x9vogvrikJ",
        "outputId": "2c51588e-af2d-48ea-e2eb-a37dd70dd312"
      },
      "source": [
        "import numpy as np\n",
        "\n",
        "x_train = np.array(x_data)\n",
        "y_train = np.array(y_data)\n",
        "x_train.shape , y_train.shape"
      ],
      "execution_count": 4,
      "outputs": [
        {
          "output_type": "execute_result",
          "data": {
            "text/plain": [
              "((4, 2), (4, 1))"
            ]
          },
          "metadata": {
            "tags": []
          },
          "execution_count": 4
        }
      ]
    },
    {
      "cell_type": "markdown",
      "metadata": {
        "id": "ugf8eFUCsMOD"
      },
      "source": [
        "기존 머신러닝은 데이터 틀을 보고 자동적으로 판단을 했었다. 프리딕트 할 때 학습한것을 바탕으로 했었다. \n",
        "\n",
        "하지만, 딥러닝의 경우에는  인풋과 아웃풋을 사용자가 넣어줘야 한다. 그 전체 틀을 모델이라고 한다.\n",
        "\n",
        "모델 구성하는 원리\n",
        "\n",
        "1. 담을 그릇 들기 (model)\n",
        "\n"
      ]
    },
    {
      "cell_type": "code",
      "metadata": {
        "id": "AW3ZNZgmra9E"
      },
      "source": [
        "model=tf.keras.models.Sequential()"
      ],
      "execution_count": 5,
      "outputs": []
    },
    {
      "cell_type": "markdown",
      "metadata": {
        "id": "jk9SABOYwUp4"
      },
      "source": [
        "2. 해당 코너에서 원하는 것 담기 (tf.keras.Input)\n",
        "\n",
        "```\n",
        "tf.keras.Input(\n",
        "    shape=None, batch_size=None, name=None, dtype=None, sparse=None, tensor=None,\n",
        "    ragged=None, type_spec=None, **kwargs\n",
        ")\n",
        "```\n",
        "\n",
        "  * 얼만큼 그릇에 담을지 정해줌\n",
        "\n",
        "  shape = ( 첫번째 넣는 갯수의 모양은 열의갯수 ,  )\n",
        "\n"
      ]
    },
    {
      "cell_type": "code",
      "metadata": {
        "colab": {
          "base_uri": "https://localhost:8080/"
        },
        "id": "GOjGFVzRt9ZH",
        "outputId": "1738e74f-0c1a-4f84-8b23-db28d10e3cbd"
      },
      "source": [
        "model.add(tf.keras.Input(shape=(2,)))"
      ],
      "execution_count": 6,
      "outputs": [
        {
          "output_type": "stream",
          "text": [
            "WARNING:tensorflow:Please add `keras.layers.InputLayer` instead of `keras.Input` to Sequential model. `keras.Input` is intended to be used by Functional model.\n"
          ],
          "name": "stdout"
        }
      ]
    },
    {
      "cell_type": "markdown",
      "metadata": {
        "id": "U8KnzHSewo6d"
      },
      "source": [
        " * 뷔페layers 에서 많은 코너 중 Dense에서 가져오기.(tf.keras.layers.Dense)\n",
        " \n",
        " ```\n",
        " tf.keras.layers.Dense(\n",
        "    units, activation=None, use_bias=True,\n",
        "    kernel_initializer='glorot_uniform',\n",
        "    bias_initializer='zeros', kernel_regularizer=None,\n",
        "    bias_regularizer=None, activity_regularizer=None, kernel_constraint=None,\n",
        "    bias_constraint=None, **kwargs\n",
        ")\n",
        " ```\n",
        "\n",
        " 기능을 넣어 줄 때는 Dense 기능 : 1개인지 2개인지 3개인지 ... n개인지 명기하기"
      ]
    },
    {
      "cell_type": "code",
      "metadata": {
        "id": "pETd0XTowoNN"
      },
      "source": [
        "model.add(tf.keras.layers.Dense(1))"
      ],
      "execution_count": 7,
      "outputs": []
    },
    {
      "cell_type": "markdown",
      "metadata": {
        "id": "Y_jR4fsHyCnM"
      },
      "source": [
        "* 이제 가져온 것을 포크로 먹을래 젓가락으로 먹을래 ? 먹기 편하게 도구 사용하기\n",
        "\n"
      ]
    },
    {
      "cell_type": "code",
      "metadata": {
        "id": "HJ9FesfLxEoX"
      },
      "source": [
        "model.compile(optimizer='sgd')"
      ],
      "execution_count": 8,
      "outputs": []
    },
    {
      "cell_type": "markdown",
      "metadata": {
        "id": "RQ-VUKlXyWmd"
      },
      "source": [
        "3. 모델 완료 되었기 때문에 fit해준다"
      ]
    },
    {
      "cell_type": "code",
      "metadata": {
        "id": "zohsGdFIyUHO"
      },
      "source": [
        "model.fit(x_train,y_train)"
      ],
      "execution_count": null,
      "outputs": []
    }
  ]
}