{
  "nbformat": 4,
  "nbformat_minor": 0,
  "metadata": {
    "colab": {
      "name": "multi_perceptron.ipynb",
      "provenance": [],
      "authorship_tag": "ABX9TyOEUSTbuyFk0WbFOVzwbSpN",
      "include_colab_link": true
    },
    "kernelspec": {
      "name": "python3",
      "display_name": "Python 3"
    },
    "language_info": {
      "name": "python"
    }
  },
  "cells": [
    {
      "cell_type": "markdown",
      "metadata": {
        "id": "view-in-github",
        "colab_type": "text"
      },
      "source": [
        "<a href=\"https://colab.research.google.com/github/ginttone/multi_deeplearning/blob/master/multi_perceptron.ipynb\" target=\"_parent\"><img src=\"https://colab.research.google.com/assets/colab-badge.svg\" alt=\"Open In Colab\"/></a>"
      ]
    },
    {
      "cell_type": "code",
      "metadata": {
        "id": "ooskRt7gxTRs"
      },
      "source": [
        "import tensorflow as tf"
      ],
      "execution_count": 1,
      "outputs": []
    },
    {
      "cell_type": "code",
      "metadata": {
        "colab": {
          "base_uri": "https://localhost:8080/"
        },
        "id": "gyVquDxUxq4C",
        "outputId": "def9f0ae-50fd-454b-d1c6-b2036665bd37"
      },
      "source": [
        "x_data = [[0,0],\n",
        "          [1,0],\n",
        "          [0,1],\n",
        "          [1,1]]\n",
        "y_data = [[0],\n",
        "          [1],\n",
        "          [1],\n",
        "          [1]]\n",
        "\n",
        "type(x_data),type(y_data)"
      ],
      "execution_count": 2,
      "outputs": [
        {
          "output_type": "execute_result",
          "data": {
            "text/plain": [
              "(list, list)"
            ]
          },
          "metadata": {
            "tags": []
          },
          "execution_count": 2
        }
      ]
    },
    {
      "cell_type": "markdown",
      "metadata": {
        "id": "bmCtQ5Y4ySiw"
      },
      "source": [
        "## 넘파이 어레이로 바꿈"
      ]
    },
    {
      "cell_type": "code",
      "metadata": {
        "id": "4fi-7hBSx5zB"
      },
      "source": [
        "import numpy as np"
      ],
      "execution_count": 3,
      "outputs": []
    },
    {
      "cell_type": "code",
      "metadata": {
        "colab": {
          "base_uri": "https://localhost:8080/"
        },
        "id": "i8K_hswJx77S",
        "outputId": "312598fd-5d77-4f78-efda-2d79b03a0513"
      },
      "source": [
        "x_train = np.array(x_data)\n",
        "y_train = np.array(y_data)\n",
        "x_train.shape , y_train.shape"
      ],
      "execution_count": 4,
      "outputs": [
        {
          "output_type": "execute_result",
          "data": {
            "text/plain": [
              "((4, 2), (4, 1))"
            ]
          },
          "metadata": {
            "tags": []
          },
          "execution_count": 4
        }
      ]
    },
    {
      "cell_type": "markdown",
      "metadata": {
        "id": "FfnBdew1yLwr"
      },
      "source": [
        "## 딥러닝에 넣어주는 작업(모델만들기)\n",
        "\n",
        "**create model**\n",
        "\n",
        "multi perceptron(layer가 한 개 이상)의 사용\n",
        "\n",
        "solve XOR model(XOR 해결하기) "
      ]
    },
    {
      "cell_type": "code",
      "metadata": {
        "id": "61d7dntdyKGh"
      },
      "source": [
        "model = tf.keras.models.Sequential()"
      ],
      "execution_count": 5,
      "outputs": []
    },
    {
      "cell_type": "code",
      "metadata": {
        "colab": {
          "base_uri": "https://localhost:8080/"
        },
        "id": "YJDiAlCi07nz",
        "outputId": "68254561-07f4-4c5d-9661-54cff2abf7d6"
      },
      "source": [
        "model.add(tf.keras.Input(shape=(2,)))  # input layer 1차원"
      ],
      "execution_count": 6,
      "outputs": [
        {
          "output_type": "stream",
          "text": [
            "WARNING:tensorflow:Please add `keras.layers.InputLayer` instead of `keras.Input` to Sequential model. `keras.Input` is intended to be used by Functional model.\n"
          ],
          "name": "stdout"
        }
      ]
    },
    {
      "cell_type": "code",
      "metadata": {
        "id": "KiY61-RT250O"
      },
      "source": [
        "model.add(tf.keras.layers.Dense(128,activation='sigmoid')) # 기능 layer"
      ],
      "execution_count": 7,
      "outputs": []
    },
    {
      "cell_type": "code",
      "metadata": {
        "id": "NS5-l6d3A8sd"
      },
      "source": [
        "model.add(tf.keras.layers.Dense(128,activation='sigmoid'))"
      ],
      "execution_count": 8,
      "outputs": []
    },
    {
      "cell_type": "markdown",
      "metadata": {
        "id": "RatVfV0b3Cgp"
      },
      "source": [
        "엑티베이션 펑션(활성화 함수) 사용\n",
        "\n",
        "dense자체는 regrassin 이어서 activation을 넣어줘야한다"
      ]
    },
    {
      "cell_type": "code",
      "metadata": {
        "id": "6-RF13hh12B3"
      },
      "source": [
        "model.add(tf.keras.layers.Dense(1, activation='sigmoid'))# output layer"
      ],
      "execution_count": 9,
      "outputs": []
    },
    {
      "cell_type": "markdown",
      "metadata": {
        "id": "SYStxNZVC0J7"
      },
      "source": [
        "metrics=['acc'] 정확도 측정할 때 필요 "
      ]
    },
    {
      "cell_type": "code",
      "metadata": {
        "id": "P5Y-mWr_8OOV"
      },
      "source": [
        "model.compile(optimizer='sgd', loss='mse', metrics=['acc'])"
      ],
      "execution_count": 10,
      "outputs": []
    },
    {
      "cell_type": "code",
      "metadata": {
        "id": "2Ytyc3sw8xxu"
      },
      "source": [
        "# tf.keras.utils.plot_model(model, show_shapes=True)"
      ],
      "execution_count": 11,
      "outputs": []
    },
    {
      "cell_type": "markdown",
      "metadata": {
        "id": "DgyBFYEE_JYB"
      },
      "source": [
        "기능 layer부분 개수를 늘리기"
      ]
    },
    {
      "cell_type": "code",
      "metadata": {
        "colab": {
          "base_uri": "https://localhost:8080/"
        },
        "id": "rNKay-a98U1D",
        "outputId": "4bdee7c2-4844-4766-fd7b-e8aad7acce25"
      },
      "source": [
        "model.fit(x_train, y_train, epochs=100) "
      ],
      "execution_count": 12,
      "outputs": [
        {
          "output_type": "stream",
          "text": [
            "Epoch 1/100\n",
            "1/1 [==============================] - 0s 426ms/step - loss: 0.2520 - acc: 0.2500\n",
            "Epoch 2/100\n",
            "1/1 [==============================] - 0s 7ms/step - loss: 0.2456 - acc: 0.7500\n",
            "Epoch 3/100\n",
            "1/1 [==============================] - 0s 10ms/step - loss: 0.2399 - acc: 0.7500\n",
            "Epoch 4/100\n",
            "1/1 [==============================] - 0s 5ms/step - loss: 0.2347 - acc: 0.7500\n",
            "Epoch 5/100\n",
            "1/1 [==============================] - 0s 6ms/step - loss: 0.2301 - acc: 0.7500\n",
            "Epoch 6/100\n",
            "1/1 [==============================] - 0s 13ms/step - loss: 0.2259 - acc: 0.7500\n",
            "Epoch 7/100\n",
            "1/1 [==============================] - 0s 5ms/step - loss: 0.2222 - acc: 0.7500\n",
            "Epoch 8/100\n",
            "1/1 [==============================] - 0s 6ms/step - loss: 0.2188 - acc: 0.7500\n",
            "Epoch 9/100\n",
            "1/1 [==============================] - 0s 7ms/step - loss: 0.2158 - acc: 0.7500\n",
            "Epoch 10/100\n",
            "1/1 [==============================] - 0s 6ms/step - loss: 0.2132 - acc: 0.7500\n",
            "Epoch 11/100\n",
            "1/1 [==============================] - 0s 9ms/step - loss: 0.2107 - acc: 0.7500\n",
            "Epoch 12/100\n",
            "1/1 [==============================] - 0s 6ms/step - loss: 0.2086 - acc: 0.7500\n",
            "Epoch 13/100\n",
            "1/1 [==============================] - 0s 9ms/step - loss: 0.2066 - acc: 0.7500\n",
            "Epoch 14/100\n",
            "1/1 [==============================] - 0s 7ms/step - loss: 0.2049 - acc: 0.7500\n",
            "Epoch 15/100\n",
            "1/1 [==============================] - 0s 7ms/step - loss: 0.2033 - acc: 0.7500\n",
            "Epoch 16/100\n",
            "1/1 [==============================] - 0s 7ms/step - loss: 0.2019 - acc: 0.7500\n",
            "Epoch 17/100\n",
            "1/1 [==============================] - 0s 7ms/step - loss: 0.2006 - acc: 0.7500\n",
            "Epoch 18/100\n",
            "1/1 [==============================] - 0s 7ms/step - loss: 0.1995 - acc: 0.7500\n",
            "Epoch 19/100\n",
            "1/1 [==============================] - 0s 6ms/step - loss: 0.1984 - acc: 0.7500\n",
            "Epoch 20/100\n",
            "1/1 [==============================] - 0s 6ms/step - loss: 0.1975 - acc: 0.7500\n",
            "Epoch 21/100\n",
            "1/1 [==============================] - 0s 8ms/step - loss: 0.1966 - acc: 0.7500\n",
            "Epoch 22/100\n",
            "1/1 [==============================] - 0s 6ms/step - loss: 0.1959 - acc: 0.7500\n",
            "Epoch 23/100\n",
            "1/1 [==============================] - 0s 6ms/step - loss: 0.1951 - acc: 0.7500\n",
            "Epoch 24/100\n",
            "1/1 [==============================] - 0s 7ms/step - loss: 0.1945 - acc: 0.7500\n",
            "Epoch 25/100\n",
            "1/1 [==============================] - 0s 7ms/step - loss: 0.1939 - acc: 0.7500\n",
            "Epoch 26/100\n",
            "1/1 [==============================] - 0s 9ms/step - loss: 0.1934 - acc: 0.7500\n",
            "Epoch 27/100\n",
            "1/1 [==============================] - 0s 6ms/step - loss: 0.1929 - acc: 0.7500\n",
            "Epoch 28/100\n",
            "1/1 [==============================] - 0s 8ms/step - loss: 0.1924 - acc: 0.7500\n",
            "Epoch 29/100\n",
            "1/1 [==============================] - 0s 8ms/step - loss: 0.1920 - acc: 0.7500\n",
            "Epoch 30/100\n",
            "1/1 [==============================] - 0s 6ms/step - loss: 0.1917 - acc: 0.7500\n",
            "Epoch 31/100\n",
            "1/1 [==============================] - 0s 8ms/step - loss: 0.1913 - acc: 0.7500\n",
            "Epoch 32/100\n",
            "1/1 [==============================] - 0s 9ms/step - loss: 0.1910 - acc: 0.7500\n",
            "Epoch 33/100\n",
            "1/1 [==============================] - 0s 5ms/step - loss: 0.1907 - acc: 0.7500\n",
            "Epoch 34/100\n",
            "1/1 [==============================] - 0s 7ms/step - loss: 0.1904 - acc: 0.7500\n",
            "Epoch 35/100\n",
            "1/1 [==============================] - 0s 25ms/step - loss: 0.1902 - acc: 0.7500\n",
            "Epoch 36/100\n",
            "1/1 [==============================] - 0s 14ms/step - loss: 0.1900 - acc: 0.7500\n",
            "Epoch 37/100\n",
            "1/1 [==============================] - 0s 7ms/step - loss: 0.1898 - acc: 0.7500\n",
            "Epoch 38/100\n",
            "1/1 [==============================] - 0s 8ms/step - loss: 0.1896 - acc: 0.7500\n",
            "Epoch 39/100\n",
            "1/1 [==============================] - 0s 11ms/step - loss: 0.1894 - acc: 0.7500\n",
            "Epoch 40/100\n",
            "1/1 [==============================] - 0s 6ms/step - loss: 0.1892 - acc: 0.7500\n",
            "Epoch 41/100\n",
            "1/1 [==============================] - 0s 4ms/step - loss: 0.1891 - acc: 0.7500\n",
            "Epoch 42/100\n",
            "1/1 [==============================] - 0s 6ms/step - loss: 0.1889 - acc: 0.7500\n",
            "Epoch 43/100\n",
            "1/1 [==============================] - 0s 10ms/step - loss: 0.1888 - acc: 0.7500\n",
            "Epoch 44/100\n",
            "1/1 [==============================] - 0s 7ms/step - loss: 0.1887 - acc: 0.7500\n",
            "Epoch 45/100\n",
            "1/1 [==============================] - 0s 9ms/step - loss: 0.1886 - acc: 0.7500\n",
            "Epoch 46/100\n",
            "1/1 [==============================] - 0s 5ms/step - loss: 0.1885 - acc: 0.7500\n",
            "Epoch 47/100\n",
            "1/1 [==============================] - 0s 6ms/step - loss: 0.1884 - acc: 0.7500\n",
            "Epoch 48/100\n",
            "1/1 [==============================] - 0s 8ms/step - loss: 0.1883 - acc: 0.7500\n",
            "Epoch 49/100\n",
            "1/1 [==============================] - 0s 6ms/step - loss: 0.1882 - acc: 0.7500\n",
            "Epoch 50/100\n",
            "1/1 [==============================] - 0s 8ms/step - loss: 0.1881 - acc: 0.7500\n",
            "Epoch 51/100\n",
            "1/1 [==============================] - 0s 6ms/step - loss: 0.1880 - acc: 0.7500\n",
            "Epoch 52/100\n",
            "1/1 [==============================] - 0s 8ms/step - loss: 0.1880 - acc: 0.7500\n",
            "Epoch 53/100\n",
            "1/1 [==============================] - 0s 7ms/step - loss: 0.1879 - acc: 0.7500\n",
            "Epoch 54/100\n",
            "1/1 [==============================] - 0s 7ms/step - loss: 0.1878 - acc: 0.7500\n",
            "Epoch 55/100\n",
            "1/1 [==============================] - 0s 7ms/step - loss: 0.1878 - acc: 0.7500\n",
            "Epoch 56/100\n",
            "1/1 [==============================] - 0s 7ms/step - loss: 0.1877 - acc: 0.7500\n",
            "Epoch 57/100\n",
            "1/1 [==============================] - 0s 5ms/step - loss: 0.1877 - acc: 0.7500\n",
            "Epoch 58/100\n",
            "1/1 [==============================] - 0s 7ms/step - loss: 0.1876 - acc: 0.7500\n",
            "Epoch 59/100\n",
            "1/1 [==============================] - 0s 7ms/step - loss: 0.1876 - acc: 0.7500\n",
            "Epoch 60/100\n",
            "1/1 [==============================] - 0s 5ms/step - loss: 0.1876 - acc: 0.7500\n",
            "Epoch 61/100\n",
            "1/1 [==============================] - 0s 6ms/step - loss: 0.1875 - acc: 0.7500\n",
            "Epoch 62/100\n",
            "1/1 [==============================] - 0s 8ms/step - loss: 0.1875 - acc: 0.7500\n",
            "Epoch 63/100\n",
            "1/1 [==============================] - 0s 7ms/step - loss: 0.1875 - acc: 0.7500\n",
            "Epoch 64/100\n",
            "1/1 [==============================] - 0s 7ms/step - loss: 0.1874 - acc: 0.7500\n",
            "Epoch 65/100\n",
            "1/1 [==============================] - 0s 8ms/step - loss: 0.1874 - acc: 0.7500\n",
            "Epoch 66/100\n",
            "1/1 [==============================] - 0s 6ms/step - loss: 0.1874 - acc: 0.7500\n",
            "Epoch 67/100\n",
            "1/1 [==============================] - 0s 7ms/step - loss: 0.1874 - acc: 0.7500\n",
            "Epoch 68/100\n",
            "1/1 [==============================] - 0s 6ms/step - loss: 0.1873 - acc: 0.7500\n",
            "Epoch 69/100\n",
            "1/1 [==============================] - 0s 10ms/step - loss: 0.1873 - acc: 0.7500\n",
            "Epoch 70/100\n",
            "1/1 [==============================] - 0s 7ms/step - loss: 0.1873 - acc: 0.7500\n",
            "Epoch 71/100\n",
            "1/1 [==============================] - 0s 7ms/step - loss: 0.1873 - acc: 0.7500\n",
            "Epoch 72/100\n",
            "1/1 [==============================] - 0s 6ms/step - loss: 0.1873 - acc: 0.7500\n",
            "Epoch 73/100\n",
            "1/1 [==============================] - 0s 12ms/step - loss: 0.1872 - acc: 0.7500\n",
            "Epoch 74/100\n",
            "1/1 [==============================] - 0s 7ms/step - loss: 0.1872 - acc: 0.7500\n",
            "Epoch 75/100\n",
            "1/1 [==============================] - 0s 10ms/step - loss: 0.1872 - acc: 0.7500\n",
            "Epoch 76/100\n",
            "1/1 [==============================] - 0s 6ms/step - loss: 0.1872 - acc: 0.7500\n",
            "Epoch 77/100\n",
            "1/1 [==============================] - 0s 9ms/step - loss: 0.1872 - acc: 0.7500\n",
            "Epoch 78/100\n",
            "1/1 [==============================] - 0s 5ms/step - loss: 0.1872 - acc: 0.7500\n",
            "Epoch 79/100\n",
            "1/1 [==============================] - 0s 13ms/step - loss: 0.1872 - acc: 0.7500\n",
            "Epoch 80/100\n",
            "1/1 [==============================] - 0s 14ms/step - loss: 0.1871 - acc: 0.7500\n",
            "Epoch 81/100\n",
            "1/1 [==============================] - 0s 8ms/step - loss: 0.1871 - acc: 0.7500\n",
            "Epoch 82/100\n",
            "1/1 [==============================] - 0s 6ms/step - loss: 0.1871 - acc: 0.7500\n",
            "Epoch 83/100\n",
            "1/1 [==============================] - 0s 7ms/step - loss: 0.1871 - acc: 0.7500\n",
            "Epoch 84/100\n",
            "1/1 [==============================] - 0s 7ms/step - loss: 0.1871 - acc: 0.7500\n",
            "Epoch 85/100\n",
            "1/1 [==============================] - 0s 8ms/step - loss: 0.1871 - acc: 0.7500\n",
            "Epoch 86/100\n",
            "1/1 [==============================] - 0s 9ms/step - loss: 0.1871 - acc: 0.7500\n",
            "Epoch 87/100\n",
            "1/1 [==============================] - 0s 6ms/step - loss: 0.1871 - acc: 0.7500\n",
            "Epoch 88/100\n",
            "1/1 [==============================] - 0s 6ms/step - loss: 0.1871 - acc: 0.7500\n",
            "Epoch 89/100\n",
            "1/1 [==============================] - 0s 6ms/step - loss: 0.1871 - acc: 0.7500\n",
            "Epoch 90/100\n",
            "1/1 [==============================] - 0s 9ms/step - loss: 0.1871 - acc: 0.7500\n",
            "Epoch 91/100\n",
            "1/1 [==============================] - 0s 5ms/step - loss: 0.1870 - acc: 0.7500\n",
            "Epoch 92/100\n",
            "1/1 [==============================] - 0s 6ms/step - loss: 0.1870 - acc: 0.7500\n",
            "Epoch 93/100\n",
            "1/1 [==============================] - 0s 6ms/step - loss: 0.1870 - acc: 0.7500\n",
            "Epoch 94/100\n",
            "1/1 [==============================] - 0s 9ms/step - loss: 0.1870 - acc: 0.7500\n",
            "Epoch 95/100\n",
            "1/1 [==============================] - 0s 7ms/step - loss: 0.1870 - acc: 0.7500\n",
            "Epoch 96/100\n",
            "1/1 [==============================] - 0s 6ms/step - loss: 0.1870 - acc: 0.7500\n",
            "Epoch 97/100\n",
            "1/1 [==============================] - 0s 7ms/step - loss: 0.1870 - acc: 0.7500\n",
            "Epoch 98/100\n",
            "1/1 [==============================] - 0s 9ms/step - loss: 0.1870 - acc: 0.7500\n",
            "Epoch 99/100\n",
            "1/1 [==============================] - 0s 8ms/step - loss: 0.1870 - acc: 0.7500\n",
            "Epoch 100/100\n",
            "1/1 [==============================] - 0s 5ms/step - loss: 0.1870 - acc: 0.7500\n"
          ],
          "name": "stdout"
        },
        {
          "output_type": "execute_result",
          "data": {
            "text/plain": [
              "<tensorflow.python.keras.callbacks.History at 0x7fb3e73bc150>"
            ]
          },
          "metadata": {
            "tags": []
          },
          "execution_count": 12
        }
      ]
    },
    {
      "cell_type": "markdown",
      "metadata": {
        "id": "uxJkWcDQ_n5X"
      },
      "source": [
        "## loss 체크 : 숫자가 낮을 수록 좋다\n",
        "\n",
        "기능 레이어 Dense 2 로 변화 체크\n",
        "\n",
        "epochs = 100 한 번 loss: 0.2202\n",
        "\n",
        "기능 레이어 Dense 32 늘리고 변화 체크 \n",
        "\n",
        "epochs = 100 한 번 loss: 0.1904\n",
        "\n",
        "기능 레이어 Dense 132 늘리고 변화 체크\n",
        "\n",
        "epochs = 100 한 번 loss: 0.1848\n",
        "\n",
        "기능 레이어 Dense 128*2 하고 변화 체크\n",
        "\n",
        "epochs = 100 한 번 loss: 0.1865 array = 0.7413647\n",
        "\n",
        "**결론**: 성능을 높이려면 \n",
        "\n",
        "Dense 높이거나, \n",
        "\n",
        "기능레이어 여러번(2번) 쌓거나, \n",
        "\n",
        "에폭 횟수를 늘리면 된다\n"
      ]
    },
    {
      "cell_type": "code",
      "metadata": {
        "colab": {
          "base_uri": "https://localhost:8080/"
        },
        "id": "5fWvq9yP9blh",
        "outputId": "35ec41f7-dd97-4766-ccbd-66bb58560b49"
      },
      "source": [
        "model.predict([[0,1]])"
      ],
      "execution_count": 13,
      "outputs": [
        {
          "output_type": "execute_result",
          "data": {
            "text/plain": [
              "array([[0.74276376]], dtype=float32)"
            ]
          },
          "metadata": {
            "tags": []
          },
          "execution_count": 13
        }
      ]
    },
    {
      "cell_type": "markdown",
      "metadata": {
        "id": "DNyJp7WTB1NL"
      },
      "source": [
        "## evaluate() 정확도 : 숫자가 높을 수록 좋다\n",
        "\n",
        "sklearn이랑 동일한 아이 "
      ]
    },
    {
      "cell_type": "code",
      "metadata": {
        "colab": {
          "base_uri": "https://localhost:8080/"
        },
        "id": "KaLlvvkn-3p0",
        "outputId": "05a96409-d1ef-4f24-d4bd-1797803beac6"
      },
      "source": [
        "model.evaluate(x_train, y_train)"
      ],
      "execution_count": 14,
      "outputs": [
        {
          "output_type": "stream",
          "text": [
            "1/1 [==============================] - 0s 154ms/step - loss: 0.1870 - acc: 0.7500\n"
          ],
          "name": "stdout"
        },
        {
          "output_type": "execute_result",
          "data": {
            "text/plain": [
              "[0.18699826300144196, 0.75]"
            ]
          },
          "metadata": {
            "tags": []
          },
          "execution_count": 14
        }
      ]
    },
    {
      "cell_type": "code",
      "metadata": {
        "id": "TBpnuQIzCXP9"
      },
      "source": [
        ""
      ],
      "execution_count": 14,
      "outputs": []
    }
  ]
}