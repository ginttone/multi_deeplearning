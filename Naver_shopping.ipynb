{
  "nbformat": 4,
  "nbformat_minor": 0,
  "metadata": {
    "colab": {
      "name": "Naver_shopping.ipynb",
      "provenance": [],
      "collapsed_sections": [],
      "authorship_tag": "ABX9TyOkB/i2O7zxxwfOAsOXGLSr",
      "include_colab_link": true
    },
    "kernelspec": {
      "name": "python3",
      "display_name": "Python 3"
    },
    "language_info": {
      "name": "python"
    }
  },
  "cells": [
    {
      "cell_type": "markdown",
      "metadata": {
        "id": "view-in-github",
        "colab_type": "text"
      },
      "source": [
        "<a href=\"https://colab.research.google.com/github/ginttone/multi_deeplearning/blob/master/Naver_shopping.ipynb\" target=\"_parent\"><img src=\"https://colab.research.google.com/assets/colab-badge.svg\" alt=\"Open In Colab\"/></a>"
      ]
    },
    {
      "cell_type": "markdown",
      "metadata": {
        "id": "D-7PiKMB0UBG"
      },
      "source": [
        "# 네이버 쇼핑몰 리뷰데이터"
      ]
    },
    {
      "cell_type": "markdown",
      "metadata": {
        "id": "YjtPS1OD2Dlw"
      },
      "source": [
        "## 데이터 가져오기"
      ]
    },
    {
      "cell_type": "code",
      "metadata": {
        "id": "scvfJ7oCwLE2"
      },
      "source": [
        " ## !python -m pip install konlpy"
      ],
      "execution_count": 15,
      "outputs": []
    },
    {
      "cell_type": "markdown",
      "metadata": {
        "id": "MetAF2ggzhZz"
      },
      "source": [
        "오픈 api 사용할 때 쓰는 것 : curl"
      ]
    },
    {
      "cell_type": "code",
      "metadata": {
        "id": "UtRbXYygzU7H"
      },
      "source": [
        " ## !curl -O https://raw.githubusercontent.com/konlpy/konlpy/master/scripts/mecab.sh"
      ],
      "execution_count": 16,
      "outputs": []
    },
    {
      "cell_type": "markdown",
      "metadata": {
        "id": "ibthKRq-z5kw"
      },
      "source": [
        "리눅스 파일 확장자 : .sh(shell)\n"
      ]
    },
    {
      "cell_type": "code",
      "metadata": {
        "id": "TcKRlBBZzelm"
      },
      "source": [
        "##  !bash ./mecab.sh"
      ],
      "execution_count": 17,
      "outputs": []
    },
    {
      "cell_type": "code",
      "metadata": {
        "id": "PG3Q2N0Qz2YR"
      },
      "source": [
        "## !curl -O https://raw.githubusercontent.com/bab2min/corpus/master/sentiment/naver_shopping.txt"
      ],
      "execution_count": 19,
      "outputs": []
    },
    {
      "cell_type": "markdown",
      "metadata": {
        "id": "0Q5hme442Llq"
      },
      "source": [
        "## 다운받은 데이터 판다스로 불러오기"
      ]
    },
    {
      "cell_type": "code",
      "metadata": {
        "id": "y6gWx5Qj0mV0"
      },
      "source": [
        "import pandas as pd"
      ],
      "execution_count": 5,
      "outputs": []
    },
    {
      "cell_type": "code",
      "metadata": {
        "id": "2emZ5abB0t1m"
      },
      "source": [
        "total_data = pd.read_table('./naver_shopping.txt', names=['ratings','reviews'])"
      ],
      "execution_count": 6,
      "outputs": []
    },
    {
      "cell_type": "code",
      "metadata": {
        "colab": {
          "base_uri": "https://localhost:8080/",
          "height": 357
        },
        "id": "9pG1siE063UW",
        "outputId": "d8b62293-40bf-4af3-8a20-378b1124760d"
      },
      "source": [
        "total_data.head(10)"
      ],
      "execution_count": 7,
      "outputs": [
        {
          "output_type": "execute_result",
          "data": {
            "text/html": [
              "<div>\n",
              "<style scoped>\n",
              "    .dataframe tbody tr th:only-of-type {\n",
              "        vertical-align: middle;\n",
              "    }\n",
              "\n",
              "    .dataframe tbody tr th {\n",
              "        vertical-align: top;\n",
              "    }\n",
              "\n",
              "    .dataframe thead th {\n",
              "        text-align: right;\n",
              "    }\n",
              "</style>\n",
              "<table border=\"1\" class=\"dataframe\">\n",
              "  <thead>\n",
              "    <tr style=\"text-align: right;\">\n",
              "      <th></th>\n",
              "      <th>ratings</th>\n",
              "      <th>reviews</th>\n",
              "    </tr>\n",
              "  </thead>\n",
              "  <tbody>\n",
              "    <tr>\n",
              "      <th>0</th>\n",
              "      <td>5</td>\n",
              "      <td>배공빠르고 굿</td>\n",
              "    </tr>\n",
              "    <tr>\n",
              "      <th>1</th>\n",
              "      <td>2</td>\n",
              "      <td>택배가 엉망이네용 저희집 밑에층에 말도없이 놔두고가고</td>\n",
              "    </tr>\n",
              "    <tr>\n",
              "      <th>2</th>\n",
              "      <td>5</td>\n",
              "      <td>아주좋아요 바지 정말 좋아서2개 더 구매했어요 이가격에 대박입니다. 바느질이 조금 ...</td>\n",
              "    </tr>\n",
              "    <tr>\n",
              "      <th>3</th>\n",
              "      <td>2</td>\n",
              "      <td>선물용으로 빨리 받아서 전달했어야 하는 상품이었는데 머그컵만 와서 당황했습니다. 전...</td>\n",
              "    </tr>\n",
              "    <tr>\n",
              "      <th>4</th>\n",
              "      <td>5</td>\n",
              "      <td>민트색상 예뻐요. 옆 손잡이는 거는 용도로도 사용되네요 ㅎㅎ</td>\n",
              "    </tr>\n",
              "    <tr>\n",
              "      <th>5</th>\n",
              "      <td>2</td>\n",
              "      <td>비추합니다 계란 뒤집을 때 완전 불편해요 ㅠㅠ 코팅도 묻어나고 보기엔 예쁘고 실용적...</td>\n",
              "    </tr>\n",
              "    <tr>\n",
              "      <th>6</th>\n",
              "      <td>1</td>\n",
              "      <td>주문을 11월6에 시켰는데 11월16일에 배송이 왔네요 ㅎㅎㅎ 여기 회사측과는 전화...</td>\n",
              "    </tr>\n",
              "    <tr>\n",
              "      <th>7</th>\n",
              "      <td>2</td>\n",
              "      <td>넉넉한 길이로 주문했는데도 안 맞네요 별로예요</td>\n",
              "    </tr>\n",
              "    <tr>\n",
              "      <th>8</th>\n",
              "      <td>2</td>\n",
              "      <td>보폴이 계속 때처럼 나오다가 지금은 안나네요~</td>\n",
              "    </tr>\n",
              "    <tr>\n",
              "      <th>9</th>\n",
              "      <td>2</td>\n",
              "      <td>110인데 전문속옷브랜드 위생팬티105보다 작은듯해요. 불편해요. 밴딩부분이 다 신...</td>\n",
              "    </tr>\n",
              "  </tbody>\n",
              "</table>\n",
              "</div>"
            ],
            "text/plain": [
              "   ratings                                            reviews\n",
              "0        5                                            배공빠르고 굿\n",
              "1        2                      택배가 엉망이네용 저희집 밑에층에 말도없이 놔두고가고\n",
              "2        5  아주좋아요 바지 정말 좋아서2개 더 구매했어요 이가격에 대박입니다. 바느질이 조금 ...\n",
              "3        2  선물용으로 빨리 받아서 전달했어야 하는 상품이었는데 머그컵만 와서 당황했습니다. 전...\n",
              "4        5                  민트색상 예뻐요. 옆 손잡이는 거는 용도로도 사용되네요 ㅎㅎ\n",
              "5        2  비추합니다 계란 뒤집을 때 완전 불편해요 ㅠㅠ 코팅도 묻어나고 보기엔 예쁘고 실용적...\n",
              "6        1  주문을 11월6에 시켰는데 11월16일에 배송이 왔네요 ㅎㅎㅎ 여기 회사측과는 전화...\n",
              "7        2                          넉넉한 길이로 주문했는데도 안 맞네요 별로예요\n",
              "8        2                          보폴이 계속 때처럼 나오다가 지금은 안나네요~\n",
              "9        2  110인데 전문속옷브랜드 위생팬티105보다 작은듯해요. 불편해요. 밴딩부분이 다 신..."
            ]
          },
          "metadata": {
            "tags": []
          },
          "execution_count": 7
        }
      ]
    },
    {
      "cell_type": "code",
      "metadata": {
        "colab": {
          "base_uri": "https://localhost:8080/"
        },
        "id": "ts1rTBOx1HOw",
        "outputId": "4f7d7a37-63b0-428d-b5a0-87bc36f9de34"
      },
      "source": [
        "total_data.info()"
      ],
      "execution_count": 8,
      "outputs": [
        {
          "output_type": "stream",
          "text": [
            "<class 'pandas.core.frame.DataFrame'>\n",
            "RangeIndex: 200000 entries, 0 to 199999\n",
            "Data columns (total 2 columns):\n",
            " #   Column   Non-Null Count   Dtype \n",
            "---  ------   --------------   ----- \n",
            " 0   ratings  200000 non-null  int64 \n",
            " 1   reviews  200000 non-null  object\n",
            "dtypes: int64(1), object(1)\n",
            "memory usage: 3.1+ MB\n"
          ],
          "name": "stdout"
        }
      ]
    },
    {
      "cell_type": "markdown",
      "metadata": {
        "id": "ygaBjmRI18ZC"
      },
      "source": [
        "### [Drop_duplicates](https://pandas.pydata.org/docs/reference/api/pandas.DataFrame.drop_duplicates.html)(동일하게) 되있는 부분을 없애기"
      ]
    },
    {
      "cell_type": "markdown",
      "metadata": {
        "id": "NZHhXX8w226v"
      },
      "source": [
        "```\n",
        " 0   ratings  200000 non-null  int64 \n",
        " 1   reviews  200000 non-null  object\n",
        " ```\n",
        " 와 \n",
        "\n",
        " len(total_data) 199908 \n",
        " \n",
        " 비교해보니 다른게 있는 것을 알 수 있었다. "
      ]
    },
    {
      "cell_type": "code",
      "metadata": {
        "colab": {
          "base_uri": "https://localhost:8080/"
        },
        "id": "-99fruGm1kso",
        "outputId": "9f0261a8-e800-4cd0-f05c-d0ac0e899333"
      },
      "source": [
        "total_data.drop_duplicates(subset=['reviews'], inplace=True)\n",
        "len(total_data)"
      ],
      "execution_count": 9,
      "outputs": [
        {
          "output_type": "execute_result",
          "data": {
            "text/plain": [
              "199908"
            ]
          },
          "metadata": {
            "tags": []
          },
          "execution_count": 9
        }
      ]
    },
    {
      "cell_type": "markdown",
      "metadata": {
        "id": "gNmgX4--3e7C"
      },
      "source": [
        "### split"
      ]
    },
    {
      "cell_type": "code",
      "metadata": {
        "id": "ZJjPvI2l2zwD"
      },
      "source": [
        "from sklearn.model_selection import train_test_split"
      ],
      "execution_count": 10,
      "outputs": []
    },
    {
      "cell_type": "markdown",
      "metadata": {
        "id": "N5_-dtKL32zV"
      },
      "source": [
        "전처리"
      ]
    },
    {
      "cell_type": "code",
      "metadata": {
        "id": "3rxCkXGH34aX"
      },
      "source": [
        "x_data = total_data['reviews']\n",
        "y_data = total_data['ratings']"
      ],
      "execution_count": 11,
      "outputs": []
    },
    {
      "cell_type": "code",
      "metadata": {
        "colab": {
          "base_uri": "https://localhost:8080/"
        },
        "id": "CKtH4uJu3ntt",
        "outputId": "d7dbe0e6-7592-435f-9082-699f4f29933d"
      },
      "source": [
        "x_train ,x_test,y_train, y_test = train_test_split(x_data,y_data)\n",
        "x_train.shape, y_train.shape, x_test.shape, y_test.shape"
      ],
      "execution_count": 22,
      "outputs": [
        {
          "output_type": "execute_result",
          "data": {
            "text/plain": [
              "((149931,), (149931,), (49977,), (49977,))"
            ]
          },
          "metadata": {
            "tags": []
          },
          "execution_count": 22
        }
      ]
    },
    {
      "cell_type": "code",
      "metadata": {
        "colab": {
          "base_uri": "https://localhost:8080/",
          "height": 280
        },
        "id": "6gWNk-m840ry",
        "outputId": "23c2cadf-42e2-4dc9-beca-38dd0bc6665c"
      },
      "source": [
        "y_data.value_counts().plot(kind='bar')"
      ],
      "execution_count": 12,
      "outputs": [
        {
          "output_type": "execute_result",
          "data": {
            "text/plain": [
              "<matplotlib.axes._subplots.AxesSubplot at 0x7fc0d7652910>"
            ]
          },
          "metadata": {
            "tags": []
          },
          "execution_count": 12
        },
        {
          "output_type": "display_data",
          "data": {
            "image/png": "[encoded data removed]",
            "text/plain": [
              "<Figure size 432x288 with 1 Axes>"
            ]
          },
          "metadata": {
            "tags": [],
            "needs_background": "light"
          }
        }
      ]
    },
    {
      "cell_type": "markdown",
      "metadata": {
        "id": "iio95vTU5-0T"
      },
      "source": [
        "데이터가 쏠려있을 때 평준화 시켜줘야 한다\n",
        "\n",
        "(많은건 삭제:과소표집, 적은건 증가 시킴:과대표집)\n",
        "\n",
        "[SMOTE](https://imbalanced-learn.org/stable/references/generated/imblearn.over_sampling.SMOTE.html)\n",
        "\n"
      ]
    },
    {
      "cell_type": "code",
      "metadata": {
        "colab": {
          "base_uri": "https://localhost:8080/"
        },
        "id": "q45HXBAbO7DH",
        "outputId": "9f484e48-7d35-457d-ca3d-746422574c94"
      },
      "source": [
        "type(x_train)"
      ],
      "execution_count": 23,
      "outputs": [
        {
          "output_type": "execute_result",
          "data": {
            "text/plain": [
              "pandas.core.series.Series"
            ]
          },
          "metadata": {
            "tags": []
          },
          "execution_count": 23
        }
      ]
    },
    {
      "cell_type": "markdown",
      "metadata": {
        "id": "u07yl40F6s1v"
      },
      "source": [
        "## NLP : 테스트 전처리\n",
        "\n",
        "[regular expression](https://regexr.com/)불용어 처리 간단히 하는 방법\n",
        "\n",
        "한글만 가져올 때 \n",
        "\n",
        "가나다 순으로 [^가-힣] 모두 가져올 수 있음 \n",
        "\n",
        "가나다 순으로 [^가-두] 사이는 모두 가져올 수 있음\n",
        "\n",
        "[^가-힣ㄱ-ㅎㅠ ]이런식으로 추가해서 가져오면 됨\n",
        "\n",
        "한글과 영어 같이 가져올때 [^가-두a-l]\n"
      ]
    },
    {
      "cell_type": "code",
      "metadata": {
        "id": "v6OjfvGMzffT"
      },
      "source": [
        "x_temp = x_train\n",
        "x_temp.str.replace('[가-힣ㄱ-ㅎㅠ ]','')"
      ],
      "execution_count": null,
      "outputs": []
    },
    {
      "cell_type": "code",
      "metadata": {
        "id": "9ghDDxrDjypA"
      },
      "source": [
        "x_temp01= x_train\n",
        "x_temp01.str.replace('[^가-힣ㄱ-휴 ]','')"
      ],
      "execution_count": null,
      "outputs": []
    },
    {
      "cell_type": "code",
      "metadata": {
        "id": "cWBXwddLzkEz"
      },
      "source": [
        "x_train.str.replace('[^가-힣ㄱ-ㅎㅠ ]','') # [a-zA-Z ]"
      ],
      "execution_count": null,
      "outputs": []
    },
    {
      "cell_type": "code",
      "metadata": {
        "id": "ilm8Ln1f5dpE"
      },
      "source": [
        "from konlpy.tag import Mecab"
      ],
      "execution_count": 27,
      "outputs": []
    },
    {
      "cell_type": "code",
      "metadata": {
        "id": "8VLhFWT2Pks8"
      },
      "source": [
        "mecab = Mecab()"
      ],
      "execution_count": 28,
      "outputs": []
    },
    {
      "cell_type": "code",
      "metadata": {
        "colab": {
          "base_uri": "https://localhost:8080/"
        },
        "id": "43i2dG_uPnNc",
        "outputId": "83e51f84-23cc-45c3-9053-76859252bd21"
      },
      "source": [
        "print(mecab.morphs('와 이런 것도 상품이라고 차라리 내가 만드는게 나을 것 같다.'))"
      ],
      "execution_count": 29,
      "outputs": [
        {
          "output_type": "stream",
          "text": [
            "['와', '이런', '것', '도', '상품', '이', '라고', '차라리', '내', '가', '만드', '는', '게', '나을', '것', '같', '다', '.']\n"
          ],
          "name": "stdout"
        }
      ]
    },
    {
      "cell_type": "code",
      "metadata": {
        "id": "EEYwvKwURPrl"
      },
      "source": [
        "x_train_small = x_train[0:5000]"
      ],
      "execution_count": 30,
      "outputs": []
    },
    {
      "cell_type": "code",
      "metadata": {
        "id": "rOaiuSmpP4_7"
      },
      "source": [
        "sentance = list()\n",
        "stopwords = ['도', '는', '다', '의', '가', '이', '은', '한', '에', '하', '고', '을', '를', '인', '듯', '과', '와', '네', '들', '듯', '지', '임', '게']\n",
        "\n",
        "for tok in x_train_small:\n",
        "  encoded = mecab.morphs(tok)\n",
        "\n",
        "  sentance.append([item for item in encoded if item not in stopwords])\n",
        "\n",
        "sentance   "
      ],
      "execution_count": null,
      "outputs": []
    },
    {
      "cell_type": "markdown",
      "metadata": {
        "id": "7Xhq7QpAT5Lh"
      },
      "source": [
        "## Tokenizer"
      ]
    },
    {
      "cell_type": "code",
      "metadata": {
        "id": "MfXMLMvtz1kE"
      },
      "source": [
        "print(sentance)"
      ],
      "execution_count": null,
      "outputs": []
    },
    {
      "cell_type": "code",
      "metadata": {
        "id": "wkNdHh57QRF9"
      },
      "source": [
        "import tensorflow as tf"
      ],
      "execution_count": 37,
      "outputs": []
    },
    {
      "cell_type": "code",
      "metadata": {
        "id": "DCuzgf6ZTyzu"
      },
      "source": [
        "tokenizer = tf.keras.preprocessing.text.Tokenizer()"
      ],
      "execution_count": 38,
      "outputs": []
    },
    {
      "cell_type": "code",
      "metadata": {
        "id": "UG7IXgSxT_dP"
      },
      "source": [
        "tokenizer.fit_on_texts(sentance)"
      ],
      "execution_count": 39,
      "outputs": []
    },
    {
      "cell_type": "code",
      "metadata": {
        "id": "vVdtAp82UKHA"
      },
      "source": [
        " tokenizer.word_index"
      ],
      "execution_count": null,
      "outputs": []
    },
    {
      "cell_type": "markdown",
      "metadata": {
        "id": "xlErAUYBU75k"
      },
      "source": [
        "우리가 만든 사전의 단어가 전체문장에 몇번 들어갔는지 카운팅 되어 나옴"
      ]
    },
    {
      "cell_type": "code",
      "metadata": {
        "id": "iXMvdTAsUNTY"
      },
      "source": [
        " tokenizer.word_counts"
      ],
      "execution_count": null,
      "outputs": []
    },
    {
      "cell_type": "markdown",
      "metadata": {
        "id": "-GBN17paVd4C"
      },
      "source": [
        "전체카운팅에서 낮은 애들 걸러내기\n",
        "\n",
        "카운트 2이하인 것들만 뽑아내서 전체에서 빼면 총 몇퍼센트 인지 확인가능하다"
      ]
    },
    {
      "cell_type": "code",
      "metadata": {
        "id": "WxqoC3FSU6po"
      },
      "source": [
        "total_cnt = len(tokenizer.word_index)"
      ],
      "execution_count": 42,
      "outputs": []
    },
    {
      "cell_type": "code",
      "metadata": {
        "id": "TUmpSgA0Vsh5"
      },
      "source": [
        "rare_cnt = 0\n",
        "total_freq,rare_freq = 0,0\n",
        "\n",
        "for key, value in tokenizer.word_counts.items():\n",
        "  total_freq = total_freq + value #전체 단어의 수\n",
        "  if(value <=2):\n",
        "    rare_cnt = rare_cnt+ 1  \n",
        "    rare_freq = rare_freq + value #2미만인 단어(희귀단어)의 수"
      ],
      "execution_count": 43,
      "outputs": []
    },
    {
      "cell_type": "code",
      "metadata": {
        "colab": {
          "base_uri": "https://localhost:8080/"
        },
        "id": "gj0nFe2xX1b6",
        "outputId": "7c23ff1a-f7dd-47c0-88ae-0714d5308c6e"
      },
      "source": [
        "total_cnt, rare_cnt, (rare_cnt/total_cnt)*100, (rare_freq/total_freq)*100"
      ],
      "execution_count": 44,
      "outputs": [
        {
          "output_type": "execute_result",
          "data": {
            "text/plain": [
              "(8075, 5299, 65.62229102167183, 7.711242603550296)"
            ]
          },
          "metadata": {
            "tags": []
          },
          "execution_count": 44
        }
      ]
    },
    {
      "cell_type": "code",
      "metadata": {
        "id": "9zpIBRKBYKTb"
      },
      "source": [
        "vocab_size = total_cnt - rare_cnt #보케블러리 사이즈"
      ],
      "execution_count": 45,
      "outputs": []
    },
    {
      "cell_type": "markdown",
      "metadata": {
        "id": "XU0-1Rw0ZtY8"
      },
      "source": [
        "oov(Out Of Vocablary)"
      ]
    },
    {
      "cell_type": "code",
      "metadata": {
        "id": "OqGLoq1hYxsQ"
      },
      "source": [
        "tokenizer = tf.keras.preprocessing.text.Tokenizer(vocab_size, oov_token='OOV')"
      ],
      "execution_count": 46,
      "outputs": []
    },
    {
      "cell_type": "code",
      "metadata": {
        "id": "91LsN-b1aO9C"
      },
      "source": [
        "tokenizer.fit_on_texts(sentance)"
      ],
      "execution_count": 47,
      "outputs": []
    },
    {
      "cell_type": "code",
      "metadata": {
        "id": "aOFUWcx2aWqX"
      },
      "source": [
        " tokenizer.index_word"
      ],
      "execution_count": null,
      "outputs": []
    },
    {
      "cell_type": "markdown",
      "metadata": {
        "id": "y2raB_8pdgaL"
      },
      "source": [
        "## 숫자화\n",
        "\n",
        "텍스트 시퀀스 "
      ]
    },
    {
      "cell_type": "code",
      "metadata": {
        "id": "qo0_h5Fkc-En"
      },
      "source": [
        "x_train_small = tokenizer.texts_to_sequences(sentance)"
      ],
      "execution_count": 49,
      "outputs": []
    },
    {
      "cell_type": "code",
      "metadata": {
        "colab": {
          "base_uri": "https://localhost:8080/"
        },
        "id": "AszbCzvAeKJm",
        "outputId": "339856c6-1863-4a0c-9589-19dd571fca0d"
      },
      "source": [
        "len(x_train_small[0]),len(x_train_small[40]),len(x_train_small[50])"
      ],
      "execution_count": 50,
      "outputs": [
        {
          "output_type": "execute_result",
          "data": {
            "text/plain": [
              "(27, 8, 7)"
            ]
          },
          "metadata": {
            "tags": []
          },
          "execution_count": 50
        }
      ]
    },
    {
      "cell_type": "markdown",
      "metadata": {
        "id": "ldrIDb9Het1o"
      },
      "source": [
        "평균적인 사이즈 확인"
      ]
    },
    {
      "cell_type": "code",
      "metadata": {
        "id": "WJGfZNcveMWZ"
      },
      "source": [
        "hist_len = [len(words) for words in x_train_small]"
      ],
      "execution_count": 51,
      "outputs": []
    },
    {
      "cell_type": "code",
      "metadata": {
        "id": "hMcOb_R3fJRm"
      },
      "source": [
        "import matplotlib.pyplot as plt"
      ],
      "execution_count": 52,
      "outputs": []
    },
    {
      "cell_type": "code",
      "metadata": {
        "colab": {
          "base_uri": "https://localhost:8080/",
          "height": 476
        },
        "id": "4EhRPQTifSU2",
        "outputId": "2120172c-13dc-4b34-e2f3-945f95117ac8"
      },
      "source": [
        "plt.hist(hist_len, bins=50)"
      ],
      "execution_count": 53,
      "outputs": [
        {
          "output_type": "execute_result",
          "data": {
            "text/plain": [
              "(array([ 17.,  53., 392., 359., 346., 612., 247., 253., 355., 152., 147.,\n",
              "        269.,  93.,  98., 203.,  97.,  91., 179.,  75.,  64., 132.,  53.,\n",
              "         56.,  88.,  41.,  45.,  84.,  24.,  42.,  43.,  28.,  32.,  44.,\n",
              "         17.,  22.,  37.,  22.,  14.,  18.,  14.,   9.,  17.,   1.,   5.,\n",
              "          7.,   1.,   0.,   1.,   0.,   1.]),\n",
              " array([ 1.  ,  2.34,  3.68,  5.02,  6.36,  7.7 ,  9.04, 10.38, 11.72,\n",
              "        13.06, 14.4 , 15.74, 17.08, 18.42, 19.76, 21.1 , 22.44, 23.78,\n",
              "        25.12, 26.46, 27.8 , 29.14, 30.48, 31.82, 33.16, 34.5 , 35.84,\n",
              "        37.18, 38.52, 39.86, 41.2 , 42.54, 43.88, 45.22, 46.56, 47.9 ,\n",
              "        49.24, 50.58, 51.92, 53.26, 54.6 , 55.94, 57.28, 58.62, 59.96,\n",
              "        61.3 , 62.64, 63.98, 65.32, 66.66, 68.  ]),\n",
              " <a list of 50 Patch objects>)"
            ]
          },
          "metadata": {
            "tags": []
          },
          "execution_count": 53
        },
        {
          "output_type": "display_data",
          "data": {
            "image/png": "[encoded data removed]",
            "text/plain": [
              "<Figure size 432x288 with 1 Axes>"
            ]
          },
          "metadata": {
            "tags": [],
            "needs_background": "light"
          }
        }
      ]
    },
    {
      "cell_type": "markdown",
      "metadata": {
        "id": "NQWYUi_3gQJs"
      },
      "source": [
        "pad를 몇정도 하면 좋을지 확인"
      ]
    },
    {
      "cell_type": "code",
      "metadata": {
        "colab": {
          "base_uri": "https://localhost:8080/"
        },
        "id": "RhvV9c9ffVYo",
        "outputId": "ff851cd1-22bb-4502-8f5d-35cbef1f03aa"
      },
      "source": [
        "sum(hist_len)/ len(x_train_small)"
      ],
      "execution_count": 54,
      "outputs": [
        {
          "output_type": "execute_result",
          "data": {
            "text/plain": [
              "16.9"
            ]
          },
          "metadata": {
            "tags": []
          },
          "execution_count": 54
        }
      ]
    },
    {
      "cell_type": "markdown",
      "metadata": {
        "id": "YRAUNCMcglDD"
      },
      "source": [
        "50정도로 pad채워주기로함"
      ]
    },
    {
      "cell_type": "code",
      "metadata": {
        "id": "6bYeFvhuf5L-"
      },
      "source": [
        "x_train_small =tf.keras.preprocessing.sequence.pad_sequences(x_train_small, maxlen=50)"
      ],
      "execution_count": 55,
      "outputs": []
    },
    {
      "cell_type": "code",
      "metadata": {
        "colab": {
          "base_uri": "https://localhost:8080/"
        },
        "id": "0iIMDpyYg3Rl",
        "outputId": "7b16fa82-498e-488d-d0b8-1b45f36fc059"
      },
      "source": [
        "x_train_small"
      ],
      "execution_count": 56,
      "outputs": [
        {
          "output_type": "execute_result",
          "data": {
            "text/plain": [
              "array([[   0,    0,    0, ...,  121,  101,   93],\n",
              "       [   0,    0,    0, ...,  169,   75,   36],\n",
              "       [   0,    0,    0, ..., 1536,   27,    7],\n",
              "       ...,\n",
              "       [   0,    0,    0, ...,   49,   71,    5],\n",
              "       [   0,    0,    0, ...,   42,  254,    5],\n",
              "       [   0,    0,    0, ...,   26,   47,   12]], dtype=int32)"
            ]
          },
          "metadata": {
            "tags": []
          },
          "execution_count": 56
        }
      ]
    },
    {
      "cell_type": "markdown",
      "metadata": {
        "id": "QKq7H9UtnJfc"
      },
      "source": [
        "모든 데이터가 너무많아서 5000개만 뽑아서 스몰로 해줌"
      ]
    },
    {
      "cell_type": "code",
      "metadata": {
        "id": "QNdeOhMVjBAD"
      },
      "source": [
        "y_train_small = y_train[0:5000]"
      ],
      "execution_count": 57,
      "outputs": []
    },
    {
      "cell_type": "markdown",
      "metadata": {
        "id": "OdCgYZlilBz_"
      },
      "source": [
        "전체 y_train_small 값에서 -1 해주기\n",
        "\n",
        "카테고리가 원핫인코딩 되도 0으로 시작해도 본래 모습으로 쓸수 있기 때문에 "
      ]
    },
    {
      "cell_type": "code",
      "metadata": {
        "colab": {
          "base_uri": "https://localhost:8080/"
        },
        "id": "7_NuYMhlofpF",
        "outputId": "cd25594a-07a8-4228-ec57-cf03656b60d9"
      },
      "source": [
        "import numpy as np\n",
        "\n",
        "np.unique(y_train_small) # 원래는 별점이 5개, 의견은 데이터 기준이어서 3이빠졋으니 덴스 5개"
      ],
      "execution_count": 58,
      "outputs": [
        {
          "output_type": "execute_result",
          "data": {
            "text/plain": [
              "array([1, 2, 4, 5])"
            ]
          },
          "metadata": {
            "tags": []
          },
          "execution_count": 58
        }
      ]
    },
    {
      "cell_type": "code",
      "metadata": {
        "id": "4rS6iiLxkxGP"
      },
      "source": [
        "y_train_small = np.array(y_train_small)-1"
      ],
      "execution_count": 59,
      "outputs": []
    },
    {
      "cell_type": "code",
      "metadata": {
        "colab": {
          "base_uri": "https://localhost:8080/"
        },
        "id": "8xWnB57OjHhk",
        "outputId": "faf9ae7d-f4e6-4eb0-e532-0b2a247747d4"
      },
      "source": [
        "np.unique(y_train_small) # 맥스4 기준으로 4,3,2,1,0써줘서  덴스 5개"
      ],
      "execution_count": 60,
      "outputs": [
        {
          "output_type": "execute_result",
          "data": {
            "text/plain": [
              "array([0, 1, 3, 4])"
            ]
          },
          "metadata": {
            "tags": []
          },
          "execution_count": 60
        }
      ]
    },
    {
      "cell_type": "code",
      "metadata": {
        "colab": {
          "base_uri": "https://localhost:8080/"
        },
        "id": "BpW6_QyH0f6R",
        "outputId": "183aefb2-52ce-42b3-bfd5-4edcbe07f437"
      },
      "source": [
        "len(x_train_small), len(y_train_small)"
      ],
      "execution_count": 61,
      "outputs": [
        {
          "output_type": "execute_result",
          "data": {
            "text/plain": [
              "(5000, 5000)"
            ]
          },
          "metadata": {
            "tags": []
          },
          "execution_count": 61
        }
      ]
    },
    {
      "cell_type": "markdown",
      "metadata": {
        "id": "QmzDiEjrg7FS"
      },
      "source": [
        "## Model"
      ]
    },
    {
      "cell_type": "code",
      "metadata": {
        "id": "Qh_XriOMg4ga"
      },
      "source": [
        "model = tf.keras.models.Sequential()"
      ],
      "execution_count": 85,
      "outputs": []
    },
    {
      "cell_type": "markdown",
      "metadata": {
        "id": "XFqzHYivlH0i"
      },
      "source": [
        "스파스 카테고리칼 크로스엔트로피는 내부에서 자동으로 y의 값이 1,2,3,4 이런식으로 숫자로 들어오면 원핫인코딩으로 바꿔줌. (분류형)\n",
        "\n",
        "내부적으로 원핫인코딩으로 바꿔질때 규칙이 있다.\n",
        "y에 나열된 값이 0부터 시작되고 맥시멀값을 쫒는다.\n",
        "```\n",
        "np.unique(y_train_small)\n",
        "\n",
        "array([1, 2, 4, 5])\n",
        "```\n",
        "\n",
        "이경우 그래서 6개가 된다.(0,1,2,3,4,5)\n",
        "-> 덴스 6"
      ]
    },
    {
      "cell_type": "code",
      "metadata": {
        "id": "HYU1Zq3EhE95"
      },
      "source": [
        "model.add(tf.keras.layers.Embedding(input_dim= vocab_size, output_dim =30 ,input_length=50))\n",
        "# model.add(tf.keras.layers.LSTM(128))\n",
        "# model.add(tf.keras.layers.GRU(128))\n",
        "model.add(tf.keras.layers.Bidirectional(tf.keras.layers.LSTM(128)))\n",
        "model.add(tf.keras.layers.Dense(5,activation='softmax'))\n",
        "\n",
        "model.compile(optimizer='adam', loss = 'sparse_categorical_crossentropy', metrics=['acc'])"
      ],
      "execution_count": 86,
      "outputs": []
    },
    {
      "cell_type": "markdown",
      "metadata": {
        "id": "06BdDVv5rg0f"
      },
      "source": [
        "성능 높이는 방법 1: 노드 바꿔주기\n",
        "\n",
        "```\n",
        " model.add(tf.keras.layers.Bidirectional(tf.keras.layers.LSTM(128)))\n",
        " ```"
      ]
    },
    {
      "cell_type": "markdown",
      "metadata": {
        "id": "GH1omA3krxi2"
      },
      "source": [
        "성능 높이는 방법 2: LSTM 기능 보강\n",
        "```\n",
        "model.add(tf.keras.layers.GRU(128))\n",
        "```"
      ]
    },
    {
      "cell_type": "code",
      "metadata": {
        "colab": {
          "base_uri": "https://localhost:8080/"
        },
        "id": "BzFjpaR8knuq",
        "outputId": "f563aebb-1aa9-40fe-deed-349f4b8ef57b"
      },
      "source": [
        "hist = model.fit(x_train_small, y_train_small, epochs=50, batch_size=256, validation_split=0.3, shuffle=True)"
      ],
      "execution_count": 87,
      "outputs": [
        {
          "output_type": "stream",
          "text": [
            "Epoch 1/50\n",
            "14/14 [==============================] - 10s 522ms/step - loss: 1.4454 - acc: 0.4097 - val_loss: 1.2996 - val_acc: 0.4200\n",
            "Epoch 2/50\n",
            "14/14 [==============================] - 7s 470ms/step - loss: 1.2636 - acc: 0.4420 - val_loss: 1.2487 - val_acc: 0.4000\n",
            "Epoch 3/50\n",
            "14/14 [==============================] - 7s 470ms/step - loss: 1.2126 - acc: 0.4880 - val_loss: 1.2102 - val_acc: 0.4553\n",
            "Epoch 4/50\n",
            "14/14 [==============================] - 7s 468ms/step - loss: 1.1179 - acc: 0.5446 - val_loss: 1.1770 - val_acc: 0.4880\n",
            "Epoch 5/50\n",
            "14/14 [==============================] - 7s 468ms/step - loss: 1.0015 - acc: 0.6103 - val_loss: 1.0858 - val_acc: 0.5387\n",
            "Epoch 6/50\n",
            "14/14 [==============================] - 6s 465ms/step - loss: 1.0309 - acc: 0.5966 - val_loss: 1.0755 - val_acc: 0.5933\n",
            "Epoch 7/50\n",
            "14/14 [==============================] - 6s 461ms/step - loss: 0.9410 - acc: 0.6423 - val_loss: 1.0041 - val_acc: 0.5747\n",
            "Epoch 8/50\n",
            "14/14 [==============================] - 6s 456ms/step - loss: 0.8555 - acc: 0.6500 - val_loss: 1.0071 - val_acc: 0.5967\n",
            "Epoch 9/50\n",
            "14/14 [==============================] - 6s 457ms/step - loss: 0.8101 - acc: 0.6680 - val_loss: 0.9587 - val_acc: 0.6160\n",
            "Epoch 10/50\n",
            "14/14 [==============================] - 6s 458ms/step - loss: 0.7715 - acc: 0.6866 - val_loss: 0.9482 - val_acc: 0.6147\n",
            "Epoch 11/50\n",
            "14/14 [==============================] - 6s 455ms/step - loss: 0.7368 - acc: 0.6943 - val_loss: 0.9607 - val_acc: 0.6160\n",
            "Epoch 12/50\n",
            "14/14 [==============================] - 6s 467ms/step - loss: 0.7085 - acc: 0.7083 - val_loss: 0.9865 - val_acc: 0.6053\n",
            "Epoch 13/50\n",
            "14/14 [==============================] - 6s 458ms/step - loss: 0.6802 - acc: 0.7220 - val_loss: 1.0209 - val_acc: 0.6067\n",
            "Epoch 14/50\n",
            "14/14 [==============================] - 6s 462ms/step - loss: 0.6544 - acc: 0.7371 - val_loss: 1.0603 - val_acc: 0.6053\n",
            "Epoch 15/50\n",
            "14/14 [==============================] - 7s 470ms/step - loss: 0.6324 - acc: 0.7506 - val_loss: 1.1035 - val_acc: 0.6053\n",
            "Epoch 16/50\n",
            "14/14 [==============================] - 6s 463ms/step - loss: 0.6344 - acc: 0.7317 - val_loss: 1.1166 - val_acc: 0.5920\n",
            "Epoch 17/50\n",
            "14/14 [==============================] - 6s 466ms/step - loss: 0.6000 - acc: 0.7563 - val_loss: 1.1501 - val_acc: 0.5887\n",
            "Epoch 18/50\n",
            "14/14 [==============================] - 7s 471ms/step - loss: 0.5765 - acc: 0.7723 - val_loss: 1.1485 - val_acc: 0.6033\n",
            "Epoch 19/50\n",
            "14/14 [==============================] - 6s 464ms/step - loss: 0.5506 - acc: 0.7814 - val_loss: 1.2362 - val_acc: 0.5967\n",
            "Epoch 20/50\n",
            "14/14 [==============================] - 6s 461ms/step - loss: 0.5525 - acc: 0.7820 - val_loss: 1.2481 - val_acc: 0.5920\n",
            "Epoch 21/50\n",
            "14/14 [==============================] - 6s 459ms/step - loss: 0.5288 - acc: 0.7954 - val_loss: 1.3147 - val_acc: 0.5867\n",
            "Epoch 22/50\n",
            "14/14 [==============================] - 6s 460ms/step - loss: 0.4997 - acc: 0.8074 - val_loss: 1.3381 - val_acc: 0.5940\n",
            "Epoch 23/50\n",
            "14/14 [==============================] - 7s 469ms/step - loss: 0.4661 - acc: 0.8151 - val_loss: 1.4480 - val_acc: 0.5820\n",
            "Epoch 24/50\n",
            "14/14 [==============================] - 6s 460ms/step - loss: 0.4500 - acc: 0.8283 - val_loss: 1.6117 - val_acc: 0.5653\n",
            "Epoch 25/50\n",
            "14/14 [==============================] - 6s 463ms/step - loss: 0.4353 - acc: 0.8389 - val_loss: 1.4746 - val_acc: 0.5800\n",
            "Epoch 26/50\n",
            "14/14 [==============================] - 6s 467ms/step - loss: 0.4270 - acc: 0.8400 - val_loss: 1.7831 - val_acc: 0.5613\n",
            "Epoch 27/50\n",
            "14/14 [==============================] - 6s 466ms/step - loss: 0.4055 - acc: 0.8500 - val_loss: 1.7301 - val_acc: 0.5580\n",
            "Epoch 28/50\n",
            "14/14 [==============================] - 6s 464ms/step - loss: 0.3866 - acc: 0.8543 - val_loss: 1.7175 - val_acc: 0.5653\n",
            "Epoch 29/50\n",
            "14/14 [==============================] - 6s 465ms/step - loss: 0.3693 - acc: 0.8646 - val_loss: 1.7461 - val_acc: 0.5387\n",
            "Epoch 30/50\n",
            "14/14 [==============================] - 6s 465ms/step - loss: 0.3638 - acc: 0.8703 - val_loss: 1.7869 - val_acc: 0.5193\n",
            "Epoch 31/50\n",
            "14/14 [==============================] - 6s 465ms/step - loss: 0.3541 - acc: 0.8734 - val_loss: 1.9097 - val_acc: 0.5233\n",
            "Epoch 32/50\n",
            "14/14 [==============================] - 6s 465ms/step - loss: 0.3423 - acc: 0.8754 - val_loss: 1.8945 - val_acc: 0.5507\n",
            "Epoch 33/50\n",
            "14/14 [==============================] - 6s 466ms/step - loss: 0.3481 - acc: 0.8777 - val_loss: 2.1287 - val_acc: 0.5240\n",
            "Epoch 34/50\n",
            "14/14 [==============================] - 6s 463ms/step - loss: 0.3478 - acc: 0.8800 - val_loss: 2.0815 - val_acc: 0.5340\n",
            "Epoch 35/50\n",
            "14/14 [==============================] - 6s 465ms/step - loss: 0.3588 - acc: 0.8660 - val_loss: 1.8916 - val_acc: 0.5507\n",
            "Epoch 36/50\n",
            "14/14 [==============================] - 7s 473ms/step - loss: 0.3226 - acc: 0.8871 - val_loss: 2.0082 - val_acc: 0.5247\n",
            "Epoch 37/50\n",
            "14/14 [==============================] - 7s 470ms/step - loss: 0.3066 - acc: 0.8989 - val_loss: 2.1120 - val_acc: 0.5280\n",
            "Epoch 38/50\n",
            "14/14 [==============================] - 7s 470ms/step - loss: 0.2762 - acc: 0.9066 - val_loss: 2.1944 - val_acc: 0.5120\n",
            "Epoch 39/50\n",
            "14/14 [==============================] - 6s 453ms/step - loss: 0.2584 - acc: 0.9171 - val_loss: 2.3873 - val_acc: 0.5020\n",
            "Epoch 40/50\n",
            "14/14 [==============================] - 7s 469ms/step - loss: 0.2488 - acc: 0.9180 - val_loss: 2.3160 - val_acc: 0.5073\n",
            "Epoch 41/50\n",
            "14/14 [==============================] - 6s 467ms/step - loss: 0.2376 - acc: 0.9231 - val_loss: 2.3903 - val_acc: 0.5140\n",
            "Epoch 42/50\n",
            "14/14 [==============================] - 6s 455ms/step - loss: 0.2239 - acc: 0.9286 - val_loss: 2.5315 - val_acc: 0.5040\n",
            "Epoch 43/50\n",
            "14/14 [==============================] - 6s 463ms/step - loss: 0.2186 - acc: 0.9317 - val_loss: 2.5955 - val_acc: 0.5080\n",
            "Epoch 44/50\n",
            "14/14 [==============================] - 6s 462ms/step - loss: 0.2086 - acc: 0.9340 - val_loss: 2.6018 - val_acc: 0.5060\n",
            "Epoch 45/50\n",
            "14/14 [==============================] - 6s 463ms/step - loss: 0.2067 - acc: 0.9366 - val_loss: 2.6381 - val_acc: 0.5173\n",
            "Epoch 46/50\n",
            "14/14 [==============================] - 7s 473ms/step - loss: 0.1986 - acc: 0.9354 - val_loss: 2.8022 - val_acc: 0.4993\n",
            "Epoch 47/50\n",
            "14/14 [==============================] - 6s 465ms/step - loss: 0.1912 - acc: 0.9394 - val_loss: 2.7933 - val_acc: 0.4987\n",
            "Epoch 48/50\n",
            "14/14 [==============================] - 7s 469ms/step - loss: 0.1981 - acc: 0.9343 - val_loss: 2.7982 - val_acc: 0.5127\n",
            "Epoch 49/50\n",
            "14/14 [==============================] - 6s 458ms/step - loss: 0.1847 - acc: 0.9414 - val_loss: 3.0086 - val_acc: 0.4940\n",
            "Epoch 50/50\n",
            "14/14 [==============================] - 6s 458ms/step - loss: 0.1749 - acc: 0.9477 - val_loss: 2.9839 - val_acc: 0.5040\n"
          ],
          "name": "stdout"
        }
      ]
    },
    {
      "cell_type": "code",
      "metadata": {
        "id": "6ReawdD0lQg9",
        "colab": {
          "base_uri": "https://localhost:8080/"
        },
        "outputId": "8362373c-8e13-4305-ac0b-5e7e4e0a21e1"
      },
      "source": [
        "model.evaluate(x_train_small, y_train_small) # LSTM(128) loss: 1.2520 - acc: 0.4249"
      ],
      "execution_count": 76,
      "outputs": [
        {
          "output_type": "stream",
          "text": [
            "157/157 [==============================] - 2s 11ms/step - loss: 1.2526 - acc: 0.4162\n"
          ],
          "name": "stdout"
        },
        {
          "output_type": "execute_result",
          "data": {
            "text/plain": [
              "[1.2525545358657837, 0.41620001196861267]"
            ]
          },
          "metadata": {
            "tags": []
          },
          "execution_count": 76
        }
      ]
    },
    {
      "cell_type": "code",
      "metadata": {
        "colab": {
          "base_uri": "https://localhost:8080/",
          "height": 265
        },
        "id": "s_7BUohW3wGn",
        "outputId": "f5999365-8929-4905-a71f-c272567243cf"
      },
      "source": [
        "import matplotlib.pyplot as plt\n",
        "plt.plot(hist.history['loss'])\n",
        "plt.plot(hist.history['val_loss'],'b-')\n",
        "plt.show()"
      ],
      "execution_count": 77,
      "outputs": [
        {
          "output_type": "display_data",
          "data": {
            "image/png": "[encoded data removed]",
            "text/plain": [
              "<Figure size 432x288 with 1 Axes>"
            ]
          },
          "metadata": {
            "tags": [],
            "needs_background": "light"
          }
        }
      ]
    },
    {
      "cell_type": "code",
      "metadata": {
        "colab": {
          "base_uri": "https://localhost:8080/",
          "height": 265
        },
        "id": "SOPReTi833Vk",
        "outputId": "4d531520-19d8-4d70-d777-ac1b5b05e8b9"
      },
      "source": [
        "plt.plot(hist.history['acc'])\n",
        "plt.plot(hist.history['val_acc'],'r-')\n",
        "plt.show()"
      ],
      "execution_count": 78,
      "outputs": [
        {
          "output_type": "display_data",
          "data": {
            "image/png": "[encoded data removed]",
            "text/plain": [
              "<Figure size 432x288 with 1 Axes>"
            ]
          },
          "metadata": {
            "tags": [],
            "needs_background": "light"
          }
        }
      ]
    },
    {
      "cell_type": "code",
      "metadata": {
        "colab": {
          "base_uri": "https://localhost:8080/"
        },
        "id": "DQ2mqIaasI_Z",
        "outputId": "b98dd5eb-66d1-41bf-cd17-cb964ef845a4"
      },
      "source": [
        "model.evaluate(x_train_small, y_train_small) # GRU(128) loss: 0.0688 - acc: 0.9823"
      ],
      "execution_count": 82,
      "outputs": [
        {
          "output_type": "stream",
          "text": [
            "157/157 [==============================] - 1s 9ms/step - loss: 1.0724 - acc: 0.8350\n"
          ],
          "name": "stdout"
        },
        {
          "output_type": "execute_result",
          "data": {
            "text/plain": [
              "[1.0723692178726196, 0.8349999785423279]"
            ]
          },
          "metadata": {
            "tags": []
          },
          "execution_count": 82
        }
      ]
    },
    {
      "cell_type": "code",
      "metadata": {
        "colab": {
          "base_uri": "https://localhost:8080/",
          "height": 265
        },
        "id": "FonAe6IZ39RR",
        "outputId": "9969e9fd-bf23-43da-d1b3-71b140fa2a70"
      },
      "source": [
        "plt.plot(hist.history['loss'])\n",
        "plt.plot(hist.history['val_loss'],'b-')\n",
        "plt.show()"
      ],
      "execution_count": 83,
      "outputs": [
        {
          "output_type": "display_data",
          "data": {
            "image/png": "[encoded data removed]",
            "text/plain": [
              "<Figure size 432x288 with 1 Axes>"
            ]
          },
          "metadata": {
            "tags": [],
            "needs_background": "light"
          }
        }
      ]
    },
    {
      "cell_type": "code",
      "metadata": {
        "colab": {
          "base_uri": "https://localhost:8080/",
          "height": 265
        },
        "id": "wfrcEotu39Am",
        "outputId": "b840ee30-b140-4296-f1c7-ec4ca828e76e"
      },
      "source": [
        "plt.plot(hist.history['acc'])\n",
        "plt.plot(hist.history['val_acc'],'r-')\n",
        "plt.show()"
      ],
      "execution_count": 84,
      "outputs": [
        {
          "output_type": "display_data",
          "data": {
            "image/png": "[encoded data removed]",
            "text/plain": [
              "<Figure size 432x288 with 1 Axes>"
            ]
          },
          "metadata": {
            "tags": [],
            "needs_background": "light"
          }
        }
      ]
    },
    {
      "cell_type": "code",
      "metadata": {
        "colab": {
          "base_uri": "https://localhost:8080/"
        },
        "id": "-8d5LFTrsJ1F",
        "outputId": "b91200e7-89e0-4053-c4b1-de73cf823d2a"
      },
      "source": [
        "model.evaluate(x_train_small, y_train_small) # Bidirectinal(LSTM(128)) loss: 0.1749 - acc: 0.9477"
      ],
      "execution_count": 88,
      "outputs": [
        {
          "output_type": "stream",
          "text": [
            "157/157 [==============================] - 3s 17ms/step - loss: 1.0151 - acc: 0.8144\n"
          ],
          "name": "stdout"
        },
        {
          "output_type": "execute_result",
          "data": {
            "text/plain": [
              "[1.0151063203811646, 0.8144000172615051]"
            ]
          },
          "metadata": {
            "tags": []
          },
          "execution_count": 88
        }
      ]
    },
    {
      "cell_type": "code",
      "metadata": {
        "colab": {
          "base_uri": "https://localhost:8080/",
          "height": 265
        },
        "id": "xWryku_m0mMw",
        "outputId": "8e785389-0eab-456f-cd96-9e367f9935f7"
      },
      "source": [
        "plt.plot(hist.history['loss'])\n",
        "plt.plot(hist.history['val_loss'],'b-')\n",
        "plt.show()"
      ],
      "execution_count": 89,
      "outputs": [
        {
          "output_type": "display_data",
          "data": {
            "image/png": "[encoded data removed]",
            "text/plain": [
              "<Figure size 432x288 with 1 Axes>"
            ]
          },
          "metadata": {
            "tags": [],
            "needs_background": "light"
          }
        }
      ]
    },
    {
      "cell_type": "code",
      "metadata": {
        "colab": {
          "base_uri": "https://localhost:8080/",
          "height": 265
        },
        "id": "-LemG6i86RnN",
        "outputId": "e8576667-c3c8-4232-8cb2-a19bfbbf14ec"
      },
      "source": [
        "plt.plot(hist.history['acc'])\n",
        "plt.plot(hist.history['val_acc'],'r-')\n",
        "plt.show()"
      ],
      "execution_count": 90,
      "outputs": [
        {
          "output_type": "display_data",
          "data": {
            "image/png": "[encoded data removed]",
            "text/plain": [
              "<Figure size 432x288 with 1 Axes>"
            ]
          },
          "metadata": {
            "tags": [],
            "needs_background": "light"
          }
        }
      ]
    },
    {
      "cell_type": "code",
      "metadata": {
        "id": "MR464M8u6TrN"
      },
      "source": [
        ""
      ],
      "execution_count": null,
      "outputs": []
    }
  ]
}