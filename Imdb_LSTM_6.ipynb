{
  "nbformat": 4,
  "nbformat_minor": 0,
  "metadata": {
    "colab": {
      "name": "Imdb_LSTM_6.ipynb",
      "provenance": [],
      "collapsed_sections": [],
      "authorship_tag": "ABX9TyOedG8A6vNxNjcYgQDFlJmL",
      "include_colab_link": true
    },
    "kernelspec": {
      "display_name": "Python 3",
      "name": "python3"
    },
    "language_info": {
      "name": "python"
    }
  },
  "cells": [
    {
      "cell_type": "markdown",
      "metadata": {
        "id": "view-in-github",
        "colab_type": "text"
      },
      "source": [
        "<a href=\"https://colab.research.google.com/github/ginttone/multi_deeplearning/blob/master/Imdb_LSTM_6.ipynb\" target=\"_parent\"><img src=\"https://colab.research.google.com/assets/colab-badge.svg\" alt=\"Open In Colab\"/></a>"
      ]
    },
    {
      "cell_type": "code",
      "metadata": {
        "id": "eyK3u_pKzHIB"
      },
      "source": [
        "import tensorflow as tf"
      ],
      "execution_count": 1,
      "outputs": []
    },
    {
      "cell_type": "code",
      "metadata": {
        "colab": {
          "base_uri": "https://localhost:8080/"
        },
        "id": "adTsMD61zMAw",
        "outputId": "c3acea89-1b6a-4905-e9fb-791e1e35161c"
      },
      "source": [
        "(x_train, y_train),(x_test, y_test) = tf.keras.datasets.imdb.load_data(num_words=10000)\n",
        "x_train.shape, y_train.shape,x_test.shape, y_test.shape"
      ],
      "execution_count": 2,
      "outputs": [
        {
          "output_type": "stream",
          "text": [
            "Downloading data from https://storage.googleapis.com/tensorflow/tf-keras-datasets/imdb.npz\n",
            "17465344/17464789 [==============================] - 0s 0us/step\n"
          ],
          "name": "stdout"
        },
        {
          "output_type": "stream",
          "text": [
            "<string>:6: VisibleDeprecationWarning: Creating an ndarray from ragged nested sequences (which is a list-or-tuple of lists-or-tuples-or ndarrays with different lengths or shapes) is deprecated. If you meant to do this, you must specify 'dtype=object' when creating the ndarray\n",
            "/usr/local/lib/python3.7/dist-packages/tensorflow/python/keras/datasets/imdb.py:155: VisibleDeprecationWarning: Creating an ndarray from ragged nested sequences (which is a list-or-tuple of lists-or-tuples-or ndarrays with different lengths or shapes) is deprecated. If you meant to do this, you must specify 'dtype=object' when creating the ndarray\n",
            "  x_train, y_train = np.array(xs[:idx]), np.array(labels[:idx])\n",
            "/usr/local/lib/python3.7/dist-packages/tensorflow/python/keras/datasets/imdb.py:156: VisibleDeprecationWarning: Creating an ndarray from ragged nested sequences (which is a list-or-tuple of lists-or-tuples-or ndarrays with different lengths or shapes) is deprecated. If you meant to do this, you must specify 'dtype=object' when creating the ndarray\n",
            "  x_test, y_test = np.array(xs[idx:]), np.array(labels[idx:])\n"
          ],
          "name": "stderr"
        },
        {
          "output_type": "execute_result",
          "data": {
            "text/plain": [
              "((25000,), (25000,), (25000,), (25000,))"
            ]
          },
          "metadata": {
            "tags": []
          },
          "execution_count": 2
        }
      ]
    },
    {
      "cell_type": "code",
      "metadata": {
        "colab": {
          "base_uri": "https://localhost:8080/"
        },
        "id": "llN1DP8Ozy-u",
        "outputId": "9523ca9b-6358-46ba-800f-ff9480aa0874"
      },
      "source": [
        "print(type(x_train))\n",
        "print(type(x_train[0]), x_train[0])"
      ],
      "execution_count": 3,
      "outputs": [
        {
          "output_type": "stream",
          "text": [
            "<class 'numpy.ndarray'>\n",
            "<class 'list'> [1, 14, 22, 16, 43, 530, 973, 1622, 1385, 65, 458, 4468, 66, 3941, 4, 173, 36, 256, 5, 25, 100, 43, 838, 112, 50, 670, 2, 9, 35, 480, 284, 5, 150, 4, 172, 112, 167, 2, 336, 385, 39, 4, 172, 4536, 1111, 17, 546, 38, 13, 447, 4, 192, 50, 16, 6, 147, 2025, 19, 14, 22, 4, 1920, 4613, 469, 4, 22, 71, 87, 12, 16, 43, 530, 38, 76, 15, 13, 1247, 4, 22, 17, 515, 17, 12, 16, 626, 18, 2, 5, 62, 386, 12, 8, 316, 8, 106, 5, 4, 2223, 5244, 16, 480, 66, 3785, 33, 4, 130, 12, 16, 38, 619, 5, 25, 124, 51, 36, 135, 48, 25, 1415, 33, 6, 22, 12, 215, 28, 77, 52, 5, 14, 407, 16, 82, 2, 8, 4, 107, 117, 5952, 15, 256, 4, 2, 7, 3766, 5, 723, 36, 71, 43, 530, 476, 26, 400, 317, 46, 7, 4, 2, 1029, 13, 104, 88, 4, 381, 15, 297, 98, 32, 2071, 56, 26, 141, 6, 194, 7486, 18, 4, 226, 22, 21, 134, 476, 26, 480, 5, 144, 30, 5535, 18, 51, 36, 28, 224, 92, 25, 104, 4, 226, 65, 16, 38, 1334, 88, 12, 16, 283, 5, 16, 4472, 113, 103, 32, 15, 16, 5345, 19, 178, 32]\n"
          ],
          "name": "stdout"
        }
      ]
    },
    {
      "cell_type": "code",
      "metadata": {
        "colab": {
          "base_uri": "https://localhost:8080/"
        },
        "id": "kcmffXmH6M0c",
        "outputId": "92351376-649e-4596-b8f5-efb43c8824ca"
      },
      "source": [
        "len(x_train[0])"
      ],
      "execution_count": 4,
      "outputs": [
        {
          "output_type": "execute_result",
          "data": {
            "text/plain": [
              "218"
            ]
          },
          "metadata": {
            "tags": []
          },
          "execution_count": 4
        }
      ]
    },
    {
      "cell_type": "code",
      "metadata": {
        "colab": {
          "base_uri": "https://localhost:8080/"
        },
        "id": "-ro98UJp6gDs",
        "outputId": "a3f37b35-4964-41ff-9360-17ac61a46b97"
      },
      "source": [
        "(x_train_100, y_train_100),(x_test_100, y_test_100) = tf.keras.datasets.imdb.load_data(num_words=100)\n",
        "x_train_100.shape, y_train_100.shape,x_test_100.shape, y_test_100.shape"
      ],
      "execution_count": 5,
      "outputs": [
        {
          "output_type": "stream",
          "text": [
            "<string>:6: VisibleDeprecationWarning: Creating an ndarray from ragged nested sequences (which is a list-or-tuple of lists-or-tuples-or ndarrays with different lengths or shapes) is deprecated. If you meant to do this, you must specify 'dtype=object' when creating the ndarray\n",
            "/usr/local/lib/python3.7/dist-packages/tensorflow/python/keras/datasets/imdb.py:155: VisibleDeprecationWarning: Creating an ndarray from ragged nested sequences (which is a list-or-tuple of lists-or-tuples-or ndarrays with different lengths or shapes) is deprecated. If you meant to do this, you must specify 'dtype=object' when creating the ndarray\n",
            "  x_train, y_train = np.array(xs[:idx]), np.array(labels[:idx])\n",
            "/usr/local/lib/python3.7/dist-packages/tensorflow/python/keras/datasets/imdb.py:156: VisibleDeprecationWarning: Creating an ndarray from ragged nested sequences (which is a list-or-tuple of lists-or-tuples-or ndarrays with different lengths or shapes) is deprecated. If you meant to do this, you must specify 'dtype=object' when creating the ndarray\n",
            "  x_test, y_test = np.array(xs[idx:]), np.array(labels[idx:])\n"
          ],
          "name": "stderr"
        },
        {
          "output_type": "execute_result",
          "data": {
            "text/plain": [
              "((25000,), (25000,), (25000,), (25000,))"
            ]
          },
          "metadata": {
            "tags": []
          },
          "execution_count": 5
        }
      ]
    },
    {
      "cell_type": "code",
      "metadata": {
        "colab": {
          "base_uri": "https://localhost:8080/"
        },
        "id": "Vi4NQi2d693z",
        "outputId": "25950354-5ff0-4f96-b93f-24ee6654c0a8"
      },
      "source": [
        "print(type(x_train_100[0]), x_train_100[0])"
      ],
      "execution_count": 6,
      "outputs": [
        {
          "output_type": "stream",
          "text": [
            "<class 'list'> [1, 14, 22, 16, 43, 2, 2, 2, 2, 65, 2, 2, 66, 2, 4, 2, 36, 2, 5, 25, 2, 43, 2, 2, 50, 2, 2, 9, 35, 2, 2, 5, 2, 4, 2, 2, 2, 2, 2, 2, 39, 4, 2, 2, 2, 17, 2, 38, 13, 2, 4, 2, 50, 16, 6, 2, 2, 19, 14, 22, 4, 2, 2, 2, 4, 22, 71, 87, 12, 16, 43, 2, 38, 76, 15, 13, 2, 4, 22, 17, 2, 17, 12, 16, 2, 18, 2, 5, 62, 2, 12, 8, 2, 8, 2, 5, 4, 2, 2, 16, 2, 66, 2, 33, 4, 2, 12, 16, 38, 2, 5, 25, 2, 51, 36, 2, 48, 25, 2, 33, 6, 22, 12, 2, 28, 77, 52, 5, 14, 2, 16, 82, 2, 8, 4, 2, 2, 2, 15, 2, 4, 2, 7, 2, 5, 2, 36, 71, 43, 2, 2, 26, 2, 2, 46, 7, 4, 2, 2, 13, 2, 88, 4, 2, 15, 2, 98, 32, 2, 56, 26, 2, 6, 2, 2, 18, 4, 2, 22, 21, 2, 2, 26, 2, 5, 2, 30, 2, 18, 51, 36, 28, 2, 92, 25, 2, 4, 2, 65, 16, 38, 2, 88, 12, 16, 2, 5, 16, 2, 2, 2, 32, 15, 16, 2, 19, 2, 32]\n"
          ],
          "name": "stdout"
        }
      ]
    },
    {
      "cell_type": "code",
      "metadata": {
        "colab": {
          "base_uri": "https://localhost:8080/"
        },
        "id": "WsswAAeJ13as",
        "outputId": "16184c00-3509-4dfe-a0fe-5a3ad09313db"
      },
      "source": [
        "print(type(y_train))\n",
        "print(type(y_train[0]), y_train[0:5])"
      ],
      "execution_count": 7,
      "outputs": [
        {
          "output_type": "stream",
          "text": [
            "<class 'numpy.ndarray'>\n",
            "<class 'numpy.int64'> [1 0 0 1 0]\n"
          ],
          "name": "stdout"
        }
      ]
    },
    {
      "cell_type": "code",
      "metadata": {
        "id": "dGOACkgm2loO"
      },
      "source": [
        "import numpy as np "
      ],
      "execution_count": 8,
      "outputs": []
    },
    {
      "cell_type": "code",
      "metadata": {
        "colab": {
          "base_uri": "https://localhost:8080/"
        },
        "id": "waPk2Kzi22Yv",
        "outputId": "a6d87449-9340-4dfe-b215-9dafd643d950"
      },
      "source": [
        "np.unique(y_train)"
      ],
      "execution_count": 9,
      "outputs": [
        {
          "output_type": "execute_result",
          "data": {
            "text/plain": [
              "array([0, 1])"
            ]
          },
          "metadata": {
            "tags": []
          },
          "execution_count": 9
        }
      ]
    },
    {
      "cell_type": "code",
      "metadata": {
        "colab": {
          "base_uri": "https://localhost:8080/"
        },
        "id": "9XyBrjWU3Uir",
        "outputId": "b13a1774-5066-4d6e-92f6-c71a65c74de1"
      },
      "source": [
        "word_index = tf.keras.datasets.imdb.get_word_index()\n",
        "# print(type(word_index), word_index)"
      ],
      "execution_count": 10,
      "outputs": [
        {
          "output_type": "stream",
          "text": [
            "Downloading data from https://storage.googleapis.com/tensorflow/tf-keras-datasets/imdb_word_index.json\n",
            "1646592/1641221 [==============================] - 0s 0us/step\n"
          ],
          "name": "stdout"
        }
      ]
    },
    {
      "cell_type": "code",
      "metadata": {
        "id": "C4LulrIB9V5i"
      },
      "source": [
        "# word_index.items()"
      ],
      "execution_count": 11,
      "outputs": []
    },
    {
      "cell_type": "code",
      "metadata": {
        "id": "NHGCUOBa8IVe"
      },
      "source": [
        "invert_word_index = dict()\n",
        "\n",
        "for (key, value) in word_index.items():\n",
        "  invert_word_index[value] = key\n",
        "\n",
        "# print(invert_word_index)"
      ],
      "execution_count": 12,
      "outputs": []
    },
    {
      "cell_type": "code",
      "metadata": {
        "colab": {
          "base_uri": "https://localhost:8080/",
          "height": 160
        },
        "id": "8_WJ4HES-r00",
        "outputId": "82e5f314-03e8-4d70-e0aa-0c60669df8a2"
      },
      "source": [
        "decode_str = str()\n",
        "\n",
        "for num in x_train[0]:\n",
        "\n",
        "  # print(num, invert_word_index[num])\n",
        "  decode_str = decode_str + invert_word_index[num]+' '\n",
        "\n",
        "decode_str"
      ],
      "execution_count": 13,
      "outputs": [
        {
          "output_type": "execute_result",
          "data": {
            "application/vnd.google.colaboratory.intrinsic+json": {
              "type": "string"
            },
            "text/plain": [
              "\"the as you with out themselves powerful lets loves their becomes reaching had journalist of lot from anyone to have after out atmosphere never more room and it so heart shows to years of every never going and help moments or of every chest visual movie except her was several of enough more with is now current film as you of mine potentially unfortunately of you than him that with out themselves her get for was camp of you movie sometimes movie that with scary but and to story wonderful that in seeing in character to of 70s musicians with heart had shadows they of here that with her serious to have does when from why what have critics they is you that isn't one will very to as itself with other and in of seen over landed for anyone of and br show's to whether from than out themselves history he name half some br of and odd was two most of mean for 1 any an boat she he should is thought frog but of script you not while history he heart to real at barrel but when from one bit then have two of script their with her nobody most that with wasn't to with armed acting watch an for with heartfelt film want an \""
            ]
          },
          "metadata": {
            "tags": []
          },
          "execution_count": 13
        }
      ]
    },
    {
      "cell_type": "code",
      "metadata": {
        "colab": {
          "base_uri": "https://localhost:8080/",
          "height": 106
        },
        "id": "j86fH78w_t1C",
        "outputId": "165be135-4559-4b4f-e6dd-b171578331ff"
      },
      "source": [
        "decode_str = str()\n",
        "\n",
        "for num in x_train[20]:\n",
        "\n",
        "  # print(num, invert_word_index[num])\n",
        "  decode_str = decode_str + invert_word_index[num]+' '\n",
        "\n",
        "decode_str"
      ],
      "execution_count": 14,
      "outputs": [
        {
          "output_type": "execute_result",
          "data": {
            "application/vnd.google.colaboratory.intrinsic+json": {
              "type": "string"
            },
            "text/plain": [
              "\"the running this lily movie and as monster do on it her do for have lost and to one in character that in of here out in can what that after also think entire to that end of using it her straight that horror keep who is during doing and silly of oscar he surprisingly not and still been of and to of love it mouth i i of and and horror in one will forth or of remarkably and br and and more nothing himself in at is four i've less this of script on i i was although as on in at her do for was mediocre its br of too i'm i i albums zany real thirty be yes this dramatic all city street of sense \""
            ]
          },
          "metadata": {
            "tags": []
          },
          "execution_count": 14
        }
      ]
    },
    {
      "cell_type": "code",
      "metadata": {
        "id": "AmKyz0_NBG2C"
      },
      "source": [
        "def f_decode_str(x_data):\n",
        "\n",
        "  decode_str = str()\n",
        "\n",
        "  for num in x_data:\n",
        "    # print(num, invert_word_index[num])\n",
        "    decode_str = decode_str + invert_word_index[num]+' '\n",
        "\n",
        "  return decode_str"
      ],
      "execution_count": 15,
      "outputs": []
    },
    {
      "cell_type": "code",
      "metadata": {
        "colab": {
          "base_uri": "https://localhost:8080/",
          "height": 106
        },
        "id": "4MwMEMOlCc2R",
        "outputId": "a792727b-3005-4837-e4cd-89b8d0bd7c84"
      },
      "source": [
        "f_decode_str(x_train[20])"
      ],
      "execution_count": 16,
      "outputs": [
        {
          "output_type": "execute_result",
          "data": {
            "application/vnd.google.colaboratory.intrinsic+json": {
              "type": "string"
            },
            "text/plain": [
              "\"the running this lily movie and as monster do on it her do for have lost and to one in character that in of here out in can what that after also think entire to that end of using it her straight that horror keep who is during doing and silly of oscar he surprisingly not and still been of and to of love it mouth i i of and and horror in one will forth or of remarkably and br and and more nothing himself in at is four i've less this of script on i i was although as on in at her do for was mediocre its br of too i'm i i albums zany real thirty be yes this dramatic all city street of sense \""
            ]
          },
          "metadata": {
            "tags": []
          },
          "execution_count": 16
        }
      ]
    },
    {
      "cell_type": "code",
      "metadata": {
        "colab": {
          "base_uri": "https://localhost:8080/",
          "height": 88
        },
        "id": "3HGOCXWqCmz8",
        "outputId": "0fb73072-6021-4faf-cd72-afbb6ec65489"
      },
      "source": [
        "f_decode_str(x_train_100[20])"
      ],
      "execution_count": 17,
      "outputs": [
        {
          "output_type": "execute_result",
          "data": {
            "application/vnd.google.colaboratory.intrinsic+json": {
              "type": "string"
            },
            "text/plain": [
              "'the and this and movie and as and do on it her do for have and and to one in and that in of and out in can what that and also and and to that and of and it her and that and and who is and and and and of and he and not and and been of and to of and it and i i of and and and in one will and or of and and br and and more and and in at is and and and this of and on i i was and as on in at her do for was and its br of too and i i and and and and be and this and all and and of and '"
            ]
          },
          "metadata": {
            "tags": []
          },
          "execution_count": 17
        }
      ]
    },
    {
      "cell_type": "markdown",
      "metadata": {
        "id": "d8D1QK42DXcH"
      },
      "source": [
        "## 데이터 전처리 작업"
      ]
    },
    {
      "cell_type": "code",
      "metadata": {
        "colab": {
          "base_uri": "https://localhost:8080/"
        },
        "id": "t7xeH4OzDW3P",
        "outputId": "dcee1434-ba28-4104-cc9b-071aa57a026f"
      },
      "source": [
        "len(x_train[0]), len(x_train[50]) , len(x_train[500]), len(x_train[1000])"
      ],
      "execution_count": 18,
      "outputs": [
        {
          "output_type": "execute_result",
          "data": {
            "text/plain": [
              "(218, 113, 60, 298)"
            ]
          },
          "metadata": {
            "tags": []
          },
          "execution_count": 18
        }
      ]
    },
    {
      "cell_type": "code",
      "metadata": {
        "colab": {
          "base_uri": "https://localhost:8080/"
        },
        "id": "np73jbffEswO",
        "outputId": "19c57ad9-122e-4b4f-8b2c-74b57f84855b"
      },
      "source": [
        "pad_x_train = tf.keras.preprocessing.sequence.pad_sequences(x_train, maxlen=500)\n",
        "len(pad_x_train[500]), pad_x_train[500]"
      ],
      "execution_count": 19,
      "outputs": [
        {
          "output_type": "execute_result",
          "data": {
            "text/plain": [
              "(500, array([   0,    0,    0,    0,    0,    0,    0,    0,    0,    0,    0,\n",
              "           0,    0,    0,    0,    0,    0,    0,    0,    0,    0,    0,\n",
              "           0,    0,    0,    0,    0,    0,    0,    0,    0,    0,    0,\n",
              "           0,    0,    0,    0,    0,    0,    0,    0,    0,    0,    0,\n",
              "           0,    0,    0,    0,    0,    0,    0,    0,    0,    0,    0,\n",
              "           0,    0,    0,    0,    0,    0,    0,    0,    0,    0,    0,\n",
              "           0,    0,    0,    0,    0,    0,    0,    0,    0,    0,    0,\n",
              "           0,    0,    0,    0,    0,    0,    0,    0,    0,    0,    0,\n",
              "           0,    0,    0,    0,    0,    0,    0,    0,    0,    0,    0,\n",
              "           0,    0,    0,    0,    0,    0,    0,    0,    0,    0,    0,\n",
              "           0,    0,    0,    0,    0,    0,    0,    0,    0,    0,    0,\n",
              "           0,    0,    0,    0,    0,    0,    0,    0,    0,    0,    0,\n",
              "           0,    0,    0,    0,    0,    0,    0,    0,    0,    0,    0,\n",
              "           0,    0,    0,    0,    0,    0,    0,    0,    0,    0,    0,\n",
              "           0,    0,    0,    0,    0,    0,    0,    0,    0,    0,    0,\n",
              "           0,    0,    0,    0,    0,    0,    0,    0,    0,    0,    0,\n",
              "           0,    0,    0,    0,    0,    0,    0,    0,    0,    0,    0,\n",
              "           0,    0,    0,    0,    0,    0,    0,    0,    0,    0,    0,\n",
              "           0,    0,    0,    0,    0,    0,    0,    0,    0,    0,    0,\n",
              "           0,    0,    0,    0,    0,    0,    0,    0,    0,    0,    0,\n",
              "           0,    0,    0,    0,    0,    0,    0,    0,    0,    0,    0,\n",
              "           0,    0,    0,    0,    0,    0,    0,    0,    0,    0,    0,\n",
              "           0,    0,    0,    0,    0,    0,    0,    0,    0,    0,    0,\n",
              "           0,    0,    0,    0,    0,    0,    0,    0,    0,    0,    0,\n",
              "           0,    0,    0,    0,    0,    0,    0,    0,    0,    0,    0,\n",
              "           0,    0,    0,    0,    0,    0,    0,    0,    0,    0,    0,\n",
              "           0,    0,    0,    0,    0,    0,    0,    0,    0,    0,    0,\n",
              "           0,    0,    0,    0,    0,    0,    0,    0,    0,    0,    0,\n",
              "           0,    0,    0,    0,    0,    0,    0,    0,    0,    0,    0,\n",
              "           0,    0,    0,    0,    0,    0,    0,    0,    0,    0,    0,\n",
              "           0,    0,    0,    0,    0,    0,    0,    0,    0,    0,    0,\n",
              "           0,    0,    0,    0,    0,    0,    0,    0,    0,    0,    0,\n",
              "           0,    0,    0,    0,    0,    0,    0,    0,    0,    0,    0,\n",
              "           0,    0,    0,    0,    0,    0,    0,    0,    0,    0,    0,\n",
              "           0,    0,    0,    0,    0,    0,    0,    0,    0,    0,    0,\n",
              "           0,    0,    0,    0,    0,    0,    0,    0,    0,    0,    0,\n",
              "           0,    0,    0,    0,    0,    0,    0,    0,    0,    0,    0,\n",
              "           0,    0,    0,    0,    0,    0,    0,    0,    0,    0,    0,\n",
              "           0,    0,    0,    0,    0,    0,    0,    0,    0,    0,    0,\n",
              "           0,    0,    0,    0,    0,    0,    0,    0,    0,    0,    0,\n",
              "           1,    5,  198,  138,  254,    8,  967,   10,   10,   39,    4,\n",
              "        1158,  213,    7,  650, 7660, 1475,  213,    7,  650,   13,  215,\n",
              "         135,   13, 1583,  754, 2359,  133,  252,   50,    9,   49, 1104,\n",
              "         136,   32,    4, 1109,  304,  133, 1812,   21,   15,  191,  607,\n",
              "           4,  910,  552,    7,  229,    5,  226,   20,  198,  138,   10,\n",
              "          10,  241,   46,    7,  158], dtype=int32))"
            ]
          },
          "metadata": {
            "tags": []
          },
          "execution_count": 19
        }
      ]
    },
    {
      "cell_type": "code",
      "metadata": {
        "colab": {
          "base_uri": "https://localhost:8080/"
        },
        "id": "MjcUTeX2OyWQ",
        "outputId": "d62f9ed1-c5d8-4954-c7f7-2f572b7cbf27"
      },
      "source": [
        "np.unique(y_train) #Dense :1, activation:sigmoid, loss : binary_crossentropy\n"
      ],
      "execution_count": 20,
      "outputs": [
        {
          "output_type": "execute_result",
          "data": {
            "text/plain": [
              "array([0, 1])"
            ]
          },
          "metadata": {
            "tags": []
          },
          "execution_count": 20
        }
      ]
    },
    {
      "cell_type": "markdown",
      "metadata": {
        "id": "KTUwevzgJYAR"
      },
      "source": [
        "## make model"
      ]
    },
    {
      "cell_type": "code",
      "metadata": {
        "id": "3aHybpGbIuZw"
      },
      "source": [
        "model = tf.keras.Sequential()"
      ],
      "execution_count": 21,
      "outputs": []
    },
    {
      "cell_type": "code",
      "metadata": {
        "id": "mgFRv5N0LRFF"
      },
      "source": [
        "model.add(tf.keras.layers.Embedding(input_dim = 10000 , output_dim = 24, input_length=500))"
      ],
      "execution_count": 22,
      "outputs": []
    },
    {
      "cell_type": "code",
      "metadata": {
        "id": "84t27hIILQ5J"
      },
      "source": [
        "model.add(tf.keras.layers.LSTM(24, return_sequences=True, activation='tanh'))\n",
        "model.add(tf.keras.layers.LSTM(12, activation='tanh'))"
      ],
      "execution_count": 23,
      "outputs": []
    },
    {
      "cell_type": "code",
      "metadata": {
        "id": "ae2eO11HLQuk"
      },
      "source": [
        "model.add(tf.keras.layers.Dense(1, activation= 'sigmoid'))"
      ],
      "execution_count": 24,
      "outputs": []
    },
    {
      "cell_type": "code",
      "metadata": {
        "id": "7tUXViq8LQe4"
      },
      "source": [
        "model.compile(optimizer = 'adam',loss = 'binary_crossentropy' , metrics=['acc'])"
      ],
      "execution_count": 25,
      "outputs": []
    },
    {
      "cell_type": "code",
      "metadata": {
        "colab": {
          "base_uri": "https://localhost:8080/"
        },
        "id": "-wePCTJnRUCA",
        "outputId": "7fe5632a-bbc3-467e-bd11-c57b81b2d701"
      },
      "source": [
        "model.summary()"
      ],
      "execution_count": 26,
      "outputs": [
        {
          "output_type": "stream",
          "text": [
            "Model: \"sequential\"\n",
            "_________________________________________________________________\n",
            "Layer (type)                 Output Shape              Param #   \n",
            "=================================================================\n",
            "embedding (Embedding)        (None, 500, 24)           240000    \n",
            "_________________________________________________________________\n",
            "lstm (LSTM)                  (None, 500, 24)           4704      \n",
            "_________________________________________________________________\n",
            "lstm_1 (LSTM)                (None, 12)                1776      \n",
            "_________________________________________________________________\n",
            "dense (Dense)                (None, 1)                 13        \n",
            "=================================================================\n",
            "Total params: 246,493\n",
            "Trainable params: 246,493\n",
            "Non-trainable params: 0\n",
            "_________________________________________________________________\n"
          ],
          "name": "stdout"
        }
      ]
    },
    {
      "cell_type": "markdown",
      "metadata": {
        "id": "fXyrv_-RRl9m"
      },
      "source": [
        "## training"
      ]
    },
    {
      "cell_type": "code",
      "metadata": {
        "colab": {
          "base_uri": "https://localhost:8080/"
        },
        "id": "C4TwUx6rRjB2",
        "outputId": "086010be-f8d2-46c3-f500-7be5d2cbec8a"
      },
      "source": [
        "his = model.fit(pad_x_train, y_train , epochs=100, validation_split=0.3, batch_size=256)"
      ],
      "execution_count": 27,
      "outputs": [
        {
          "output_type": "stream",
          "text": [
            "Epoch 1/100\n",
            "69/69 [==============================] - 50s 666ms/step - loss: 0.6312 - acc: 0.6408 - val_loss: 0.4999 - val_acc: 0.7845\n",
            "Epoch 2/100\n",
            "69/69 [==============================] - 45s 653ms/step - loss: 0.3880 - acc: 0.8441 - val_loss: 0.3817 - val_acc: 0.8372\n",
            "Epoch 3/100\n",
            "69/69 [==============================] - 45s 649ms/step - loss: 0.2714 - acc: 0.9018 - val_loss: 0.3525 - val_acc: 0.8508\n",
            "Epoch 4/100\n",
            "69/69 [==============================] - 45s 651ms/step - loss: 0.2068 - acc: 0.9331 - val_loss: 0.3565 - val_acc: 0.8640\n",
            "Epoch 5/100\n",
            "69/69 [==============================] - 45s 652ms/step - loss: 0.1582 - acc: 0.9522 - val_loss: 0.3447 - val_acc: 0.8664\n",
            "Epoch 6/100\n",
            "69/69 [==============================] - 45s 651ms/step - loss: 0.1244 - acc: 0.9651 - val_loss: 0.3792 - val_acc: 0.8635\n",
            "Epoch 7/100\n",
            "69/69 [==============================] - 45s 649ms/step - loss: 0.1105 - acc: 0.9697 - val_loss: 0.4054 - val_acc: 0.8697\n",
            "Epoch 8/100\n",
            "69/69 [==============================] - 44s 645ms/step - loss: 0.0863 - acc: 0.9788 - val_loss: 0.4329 - val_acc: 0.8619\n",
            "Epoch 9/100\n",
            "69/69 [==============================] - 45s 650ms/step - loss: 0.0795 - acc: 0.9802 - val_loss: 0.4455 - val_acc: 0.8636\n",
            "Epoch 10/100\n",
            "69/69 [==============================] - 45s 649ms/step - loss: 0.0708 - acc: 0.9814 - val_loss: 0.4829 - val_acc: 0.8644\n",
            "Epoch 11/100\n",
            "69/69 [==============================] - 45s 660ms/step - loss: 0.0574 - acc: 0.9867 - val_loss: 0.5088 - val_acc: 0.8608\n",
            "Epoch 12/100\n",
            "69/69 [==============================] - 46s 663ms/step - loss: 0.0500 - acc: 0.9894 - val_loss: 0.5381 - val_acc: 0.8543\n",
            "Epoch 13/100\n",
            "69/69 [==============================] - 45s 651ms/step - loss: 0.0515 - acc: 0.9879 - val_loss: 0.5830 - val_acc: 0.8445\n",
            "Epoch 14/100\n",
            "69/69 [==============================] - 44s 643ms/step - loss: 0.0506 - acc: 0.9887 - val_loss: 0.5635 - val_acc: 0.8580\n",
            "Epoch 15/100\n",
            "69/69 [==============================] - 44s 643ms/step - loss: 0.0438 - acc: 0.9901 - val_loss: 0.5725 - val_acc: 0.8596\n",
            "Epoch 16/100\n",
            "69/69 [==============================] - 45s 648ms/step - loss: 0.0596 - acc: 0.9835 - val_loss: 0.5196 - val_acc: 0.8609\n",
            "Epoch 17/100\n",
            "69/69 [==============================] - 45s 651ms/step - loss: 0.0477 - acc: 0.9880 - val_loss: 0.5642 - val_acc: 0.8569\n",
            "Epoch 18/100\n",
            "69/69 [==============================] - 44s 645ms/step - loss: 0.0294 - acc: 0.9946 - val_loss: 0.6238 - val_acc: 0.8563\n",
            "Epoch 19/100\n",
            "69/69 [==============================] - 44s 643ms/step - loss: 0.0280 - acc: 0.9949 - val_loss: 0.6207 - val_acc: 0.8563\n",
            "Epoch 20/100\n",
            "69/69 [==============================] - 45s 650ms/step - loss: 0.0396 - acc: 0.9906 - val_loss: 0.6386 - val_acc: 0.8500\n",
            "Epoch 21/100\n",
            "69/69 [==============================] - 45s 651ms/step - loss: 0.0379 - acc: 0.9906 - val_loss: 0.6125 - val_acc: 0.8576\n",
            "Epoch 22/100\n",
            "69/69 [==============================] - 45s 650ms/step - loss: 0.0252 - acc: 0.9953 - val_loss: 0.6299 - val_acc: 0.8549\n",
            "Epoch 23/100\n",
            "69/69 [==============================] - 44s 645ms/step - loss: 0.0230 - acc: 0.9958 - val_loss: 0.6541 - val_acc: 0.8585\n",
            "Epoch 24/100\n",
            "69/69 [==============================] - 46s 664ms/step - loss: 0.0204 - acc: 0.9964 - val_loss: 0.6610 - val_acc: 0.8555\n",
            "Epoch 25/100\n",
            "69/69 [==============================] - 48s 693ms/step - loss: 0.0218 - acc: 0.9960 - val_loss: 0.6625 - val_acc: 0.8545\n",
            "Epoch 26/100\n",
            "69/69 [==============================] - 48s 694ms/step - loss: 0.0270 - acc: 0.9938 - val_loss: 0.6322 - val_acc: 0.8503\n",
            "Epoch 27/100\n",
            "69/69 [==============================] - 48s 702ms/step - loss: 0.0369 - acc: 0.9903 - val_loss: 0.6227 - val_acc: 0.8560\n",
            "Epoch 28/100\n",
            "69/69 [==============================] - 48s 700ms/step - loss: 0.0239 - acc: 0.9954 - val_loss: 0.6898 - val_acc: 0.8487\n",
            "Epoch 29/100\n",
            "69/69 [==============================] - 47s 688ms/step - loss: 0.0212 - acc: 0.9962 - val_loss: 0.6948 - val_acc: 0.8588\n",
            "Epoch 30/100\n",
            "69/69 [==============================] - 48s 694ms/step - loss: 0.0170 - acc: 0.9970 - val_loss: 0.7218 - val_acc: 0.8535\n",
            "Epoch 31/100\n",
            "69/69 [==============================] - 48s 695ms/step - loss: 0.0152 - acc: 0.9977 - val_loss: 0.6955 - val_acc: 0.8525\n",
            "Epoch 32/100\n",
            "69/69 [==============================] - 48s 699ms/step - loss: 0.0140 - acc: 0.9980 - val_loss: 0.7478 - val_acc: 0.8551\n",
            "Epoch 33/100\n",
            "69/69 [==============================] - 48s 700ms/step - loss: 0.0143 - acc: 0.9977 - val_loss: 0.7439 - val_acc: 0.8524\n",
            "Epoch 34/100\n",
            "69/69 [==============================] - 48s 693ms/step - loss: 0.0143 - acc: 0.9976 - val_loss: 0.7749 - val_acc: 0.8521\n",
            "Epoch 35/100\n",
            "69/69 [==============================] - 48s 697ms/step - loss: 0.0287 - acc: 0.9926 - val_loss: 0.7795 - val_acc: 0.8505\n",
            "Epoch 36/100\n",
            "69/69 [==============================] - 47s 686ms/step - loss: 0.0352 - acc: 0.9905 - val_loss: 0.6418 - val_acc: 0.8568\n",
            "Epoch 37/100\n",
            "69/69 [==============================] - 47s 688ms/step - loss: 0.0197 - acc: 0.9959 - val_loss: 0.6913 - val_acc: 0.8565\n",
            "Epoch 38/100\n",
            "69/69 [==============================] - 47s 688ms/step - loss: 0.0137 - acc: 0.9979 - val_loss: 0.7265 - val_acc: 0.8571\n",
            "Epoch 39/100\n",
            "69/69 [==============================] - 47s 682ms/step - loss: 0.0158 - acc: 0.9973 - val_loss: 0.7042 - val_acc: 0.8409\n",
            "Epoch 40/100\n",
            "69/69 [==============================] - 48s 699ms/step - loss: 0.0219 - acc: 0.9947 - val_loss: 0.7155 - val_acc: 0.8576\n",
            "Epoch 41/100\n",
            "69/69 [==============================] - 47s 688ms/step - loss: 0.0211 - acc: 0.9949 - val_loss: 0.6949 - val_acc: 0.8556\n",
            "Epoch 42/100\n",
            "69/69 [==============================] - 48s 692ms/step - loss: 0.0207 - acc: 0.9952 - val_loss: 0.7099 - val_acc: 0.8565\n",
            "Epoch 43/100\n",
            "69/69 [==============================] - 47s 684ms/step - loss: 0.0180 - acc: 0.9964 - val_loss: 0.7080 - val_acc: 0.8525\n",
            "Epoch 44/100\n",
            "69/69 [==============================] - 48s 698ms/step - loss: 0.0236 - acc: 0.9942 - val_loss: 0.7207 - val_acc: 0.8533\n",
            "Epoch 45/100\n",
            "69/69 [==============================] - 47s 682ms/step - loss: 0.0297 - acc: 0.9914 - val_loss: 0.6888 - val_acc: 0.8581\n",
            "Epoch 46/100\n",
            "69/69 [==============================] - 48s 690ms/step - loss: 0.0225 - acc: 0.9943 - val_loss: 0.6873 - val_acc: 0.8564\n",
            "Epoch 47/100\n",
            "69/69 [==============================] - 47s 682ms/step - loss: 0.0115 - acc: 0.9983 - val_loss: 0.7268 - val_acc: 0.8601\n",
            "Epoch 48/100\n",
            "69/69 [==============================] - 48s 692ms/step - loss: 0.0098 - acc: 0.9988 - val_loss: 0.7555 - val_acc: 0.8577\n",
            "Epoch 49/100\n",
            "69/69 [==============================] - 47s 681ms/step - loss: 0.0094 - acc: 0.9988 - val_loss: 0.7708 - val_acc: 0.8576\n",
            "Epoch 50/100\n",
            "69/69 [==============================] - 47s 687ms/step - loss: 0.0092 - acc: 0.9987 - val_loss: 0.7779 - val_acc: 0.8569\n",
            "Epoch 51/100\n",
            "69/69 [==============================] - 47s 687ms/step - loss: 0.0086 - acc: 0.9989 - val_loss: 0.7913 - val_acc: 0.8568\n",
            "Epoch 52/100\n",
            "69/69 [==============================] - 47s 682ms/step - loss: 0.0085 - acc: 0.9989 - val_loss: 0.7976 - val_acc: 0.8567\n",
            "Epoch 53/100\n",
            "69/69 [==============================] - 47s 686ms/step - loss: 0.0083 - acc: 0.9989 - val_loss: 0.7950 - val_acc: 0.8567\n",
            "Epoch 54/100\n",
            "69/69 [==============================] - 47s 678ms/step - loss: 0.0080 - acc: 0.9990 - val_loss: 0.8049 - val_acc: 0.8567\n",
            "Epoch 55/100\n",
            "69/69 [==============================] - 45s 652ms/step - loss: 0.0077 - acc: 0.9990 - val_loss: 0.8088 - val_acc: 0.8564\n",
            "Epoch 56/100\n",
            "69/69 [==============================] - 45s 651ms/step - loss: 0.0076 - acc: 0.9990 - val_loss: 0.8057 - val_acc: 0.8561\n",
            "Epoch 57/100\n",
            "69/69 [==============================] - 45s 655ms/step - loss: 0.0073 - acc: 0.9991 - val_loss: 0.8196 - val_acc: 0.8575\n",
            "Epoch 58/100\n",
            "69/69 [==============================] - 45s 653ms/step - loss: 0.0070 - acc: 0.9991 - val_loss: 0.8309 - val_acc: 0.8572\n",
            "Epoch 59/100\n",
            "69/69 [==============================] - 45s 648ms/step - loss: 0.0070 - acc: 0.9991 - val_loss: 0.8414 - val_acc: 0.8572\n",
            "Epoch 60/100\n",
            "69/69 [==============================] - 44s 641ms/step - loss: 0.0069 - acc: 0.9991 - val_loss: 0.8419 - val_acc: 0.8576\n",
            "Epoch 61/100\n",
            "69/69 [==============================] - 44s 646ms/step - loss: 0.0069 - acc: 0.9991 - val_loss: 0.8471 - val_acc: 0.8572\n",
            "Epoch 62/100\n",
            "69/69 [==============================] - 45s 652ms/step - loss: 0.0068 - acc: 0.9991 - val_loss: 0.8553 - val_acc: 0.8563\n",
            "Epoch 63/100\n",
            "69/69 [==============================] - 45s 648ms/step - loss: 0.0068 - acc: 0.9991 - val_loss: 0.8563 - val_acc: 0.8565\n",
            "Epoch 64/100\n",
            "69/69 [==============================] - 44s 645ms/step - loss: 0.0068 - acc: 0.9991 - val_loss: 0.8539 - val_acc: 0.8561\n",
            "Epoch 65/100\n",
            "69/69 [==============================] - 44s 644ms/step - loss: 0.0067 - acc: 0.9991 - val_loss: 0.8610 - val_acc: 0.8564\n",
            "Epoch 66/100\n",
            "69/69 [==============================] - 45s 653ms/step - loss: 0.0065 - acc: 0.9991 - val_loss: 0.8600 - val_acc: 0.8548\n",
            "Epoch 67/100\n",
            "69/69 [==============================] - 45s 654ms/step - loss: 0.0260 - acc: 0.9933 - val_loss: 0.6756 - val_acc: 0.8512\n",
            "Epoch 68/100\n",
            "69/69 [==============================] - 45s 659ms/step - loss: 0.0263 - acc: 0.9928 - val_loss: 0.7119 - val_acc: 0.8556\n",
            "Epoch 69/100\n",
            "69/69 [==============================] - 46s 662ms/step - loss: 0.0168 - acc: 0.9958 - val_loss: 0.7476 - val_acc: 0.8565\n",
            "Epoch 70/100\n",
            "69/69 [==============================] - 45s 657ms/step - loss: 0.0157 - acc: 0.9962 - val_loss: 0.7190 - val_acc: 0.8569\n",
            "Epoch 71/100\n",
            "69/69 [==============================] - 45s 655ms/step - loss: 0.0116 - acc: 0.9977 - val_loss: 0.7709 - val_acc: 0.8577\n",
            "Epoch 72/100\n",
            "69/69 [==============================] - 45s 657ms/step - loss: 0.0156 - acc: 0.9962 - val_loss: 0.7469 - val_acc: 0.8519\n",
            "Epoch 73/100\n",
            "69/69 [==============================] - 45s 652ms/step - loss: 0.0079 - acc: 0.9987 - val_loss: 0.7703 - val_acc: 0.8572\n",
            "Epoch 74/100\n",
            "69/69 [==============================] - 45s 660ms/step - loss: 0.0057 - acc: 0.9993 - val_loss: 0.8139 - val_acc: 0.8599\n",
            "Epoch 75/100\n",
            "69/69 [==============================] - 45s 657ms/step - loss: 0.0053 - acc: 0.9994 - val_loss: 0.8215 - val_acc: 0.8583\n",
            "Epoch 76/100\n",
            "69/69 [==============================] - 45s 656ms/step - loss: 0.0052 - acc: 0.9994 - val_loss: 0.8193 - val_acc: 0.8577\n",
            "Epoch 77/100\n",
            "69/69 [==============================] - 45s 656ms/step - loss: 0.0049 - acc: 0.9994 - val_loss: 0.8255 - val_acc: 0.8571\n",
            "Epoch 78/100\n",
            "69/69 [==============================] - 45s 656ms/step - loss: 0.0044 - acc: 0.9994 - val_loss: 0.8275 - val_acc: 0.8575\n",
            "Epoch 79/100\n",
            "69/69 [==============================] - 45s 652ms/step - loss: 0.0197 - acc: 0.9943 - val_loss: 0.6923 - val_acc: 0.8505\n",
            "Epoch 80/100\n",
            "69/69 [==============================] - 45s 652ms/step - loss: 0.0158 - acc: 0.9961 - val_loss: 0.7585 - val_acc: 0.8597\n",
            "Epoch 81/100\n",
            "69/69 [==============================] - 46s 664ms/step - loss: 0.0093 - acc: 0.9974 - val_loss: 0.7623 - val_acc: 0.8468\n",
            "Epoch 82/100\n",
            "69/69 [==============================] - 45s 651ms/step - loss: 0.0057 - acc: 0.9991 - val_loss: 0.8103 - val_acc: 0.8553\n",
            "Epoch 83/100\n",
            "69/69 [==============================] - 45s 654ms/step - loss: 0.0056 - acc: 0.9991 - val_loss: 0.8303 - val_acc: 0.8589\n",
            "Epoch 84/100\n",
            "69/69 [==============================] - 45s 651ms/step - loss: 0.0036 - acc: 0.9996 - val_loss: 0.8648 - val_acc: 0.8599\n",
            "Epoch 85/100\n",
            "69/69 [==============================] - 45s 648ms/step - loss: 0.0034 - acc: 0.9996 - val_loss: 0.8819 - val_acc: 0.8592\n",
            "Epoch 86/100\n",
            "69/69 [==============================] - 45s 651ms/step - loss: 0.0034 - acc: 0.9996 - val_loss: 0.8992 - val_acc: 0.8591\n",
            "Epoch 87/100\n",
            "69/69 [==============================] - 45s 651ms/step - loss: 0.0033 - acc: 0.9996 - val_loss: 0.9084 - val_acc: 0.8589\n",
            "Epoch 88/100\n",
            "69/69 [==============================] - 45s 647ms/step - loss: 0.0033 - acc: 0.9996 - val_loss: 0.9194 - val_acc: 0.8592\n",
            "Epoch 89/100\n",
            "69/69 [==============================] - 45s 648ms/step - loss: 0.0033 - acc: 0.9996 - val_loss: 0.9325 - val_acc: 0.8587\n",
            "Epoch 90/100\n",
            "69/69 [==============================] - 45s 651ms/step - loss: 0.0032 - acc: 0.9996 - val_loss: 0.9379 - val_acc: 0.8592\n",
            "Epoch 91/100\n",
            "69/69 [==============================] - 45s 651ms/step - loss: 0.0032 - acc: 0.9996 - val_loss: 0.9469 - val_acc: 0.8587\n",
            "Epoch 92/100\n",
            "69/69 [==============================] - 45s 648ms/step - loss: 0.0031 - acc: 0.9996 - val_loss: 0.9578 - val_acc: 0.8572\n",
            "Epoch 93/100\n",
            "69/69 [==============================] - 44s 637ms/step - loss: 0.0031 - acc: 0.9996 - val_loss: 0.9636 - val_acc: 0.8572\n",
            "Epoch 94/100\n",
            "69/69 [==============================] - 44s 641ms/step - loss: 0.0030 - acc: 0.9996 - val_loss: 0.9726 - val_acc: 0.8573\n",
            "Epoch 95/100\n",
            "69/69 [==============================] - 44s 643ms/step - loss: 0.0030 - acc: 0.9996 - val_loss: 0.9800 - val_acc: 0.8567\n",
            "Epoch 96/100\n",
            "69/69 [==============================] - 44s 640ms/step - loss: 0.0029 - acc: 0.9996 - val_loss: 0.9907 - val_acc: 0.8561\n",
            "Epoch 97/100\n",
            "69/69 [==============================] - 44s 640ms/step - loss: 0.0029 - acc: 0.9996 - val_loss: 0.9987 - val_acc: 0.8561\n",
            "Epoch 98/100\n",
            "69/69 [==============================] - 44s 642ms/step - loss: 0.0028 - acc: 0.9996 - val_loss: 1.0049 - val_acc: 0.8561\n",
            "Epoch 99/100\n",
            "69/69 [==============================] - 44s 641ms/step - loss: 0.0027 - acc: 0.9996 - val_loss: 1.0190 - val_acc: 0.8547\n",
            "Epoch 100/100\n",
            "69/69 [==============================] - 44s 638ms/step - loss: 0.0026 - acc: 0.9996 - val_loss: 1.0261 - val_acc: 0.8547\n"
          ],
          "name": "stdout"
        }
      ]
    },
    {
      "cell_type": "markdown",
      "metadata": {
        "id": "WeyW8aLmVV1N"
      },
      "source": [
        "## evaluation"
      ]
    },
    {
      "cell_type": "code",
      "metadata": {
        "colab": {
          "base_uri": "https://localhost:8080/"
        },
        "id": "uxvBWHwUST8G",
        "outputId": "7b7e7ecd-55f5-428b-ec62-c36843e8d341"
      },
      "source": [
        "model.evaluate(pad_x_train, y_train)"
      ],
      "execution_count": 28,
      "outputs": [
        {
          "output_type": "stream",
          "text": [
            "782/782 [==============================] - 44s 56ms/step - loss: 0.3096 - acc: 0.9561\n"
          ],
          "name": "stdout"
        },
        {
          "output_type": "execute_result",
          "data": {
            "text/plain": [
              "[0.30956292152404785, 0.9561200141906738]"
            ]
          },
          "metadata": {
            "tags": []
          },
          "execution_count": 28
        }
      ]
    },
    {
      "cell_type": "code",
      "metadata": {
        "id": "9-TEwb0XVkxB"
      },
      "source": [
        "# len(x_test[20])"
      ],
      "execution_count": null,
      "outputs": []
    },
    {
      "cell_type": "code",
      "metadata": {
        "id": "M5xGRrXlV32l"
      },
      "source": [
        "pad_x_test = tf.keras.preprocessing.sequence.pad_sequences(x_test, maxlen=500)"
      ],
      "execution_count": 30,
      "outputs": []
    },
    {
      "cell_type": "code",
      "metadata": {
        "colab": {
          "base_uri": "https://localhost:8080/"
        },
        "id": "QPLHuz4MWa7D",
        "outputId": "499e25bc-471a-49af-d8c7-351fa3801e9c"
      },
      "source": [
        "len(pad_x_test[20])"
      ],
      "execution_count": 31,
      "outputs": [
        {
          "output_type": "execute_result",
          "data": {
            "text/plain": [
              "500"
            ]
          },
          "metadata": {
            "tags": []
          },
          "execution_count": 31
        }
      ]
    },
    {
      "cell_type": "code",
      "metadata": {
        "colab": {
          "base_uri": "https://localhost:8080/"
        },
        "id": "BNbYuoMHWeU_",
        "outputId": "6108db55-3355-4107-ea8b-f5682224b5fc"
      },
      "source": [
        "model.evaluate(pad_x_test)"
      ],
      "execution_count": 32,
      "outputs": [
        {
          "output_type": "stream",
          "text": [
            "782/782 [==============================] - 2s 2ms/step - loss: 0.0000e+00 - acc: 0.0000e+00\n"
          ],
          "name": "stdout"
        },
        {
          "output_type": "execute_result",
          "data": {
            "text/plain": [
              "[0.0, 0.0]"
            ]
          },
          "metadata": {
            "tags": []
          },
          "execution_count": 0
        }
      ]
    },
    {
      "cell_type": "code",
      "metadata": {
        "colab": {
          "base_uri": "https://localhost:8080/",
          "height": 265
        },
        "id": "cTo1Otf6Cz79",
        "outputId": "1c46d2b7-de9d-482c-ea4e-613d86446adb"
      },
      "source": [
        "import matplotlib.pyplot as plt\n",
        "\n",
        "plt.plot(his.history['loss'])\n",
        "plt.plot(his.history['val_loss'])\n",
        "plt.show()"
      ],
      "execution_count": 34,
      "outputs": [
        {
          "output_type": "display_data",
          "data": {
            "image/png": "[encoded data removed]",
            "text/plain": [
              "<Figure size 432x288 with 1 Axes>"
            ]
          },
          "metadata": {
            "tags": [],
            "needs_background": "light"
          }
        }
      ]
    },
    {
      "cell_type": "code",
      "metadata": {
        "id": "MGVpQTTEDs9R"
      },
      "source": [
        ""
      ],
      "execution_count": null,
      "outputs": []
    }
  ]
}