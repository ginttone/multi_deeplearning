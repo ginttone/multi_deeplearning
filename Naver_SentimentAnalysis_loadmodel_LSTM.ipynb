{
  "nbformat": 4,
  "nbformat_minor": 0,
  "metadata": {
    "colab": {
      "name": "Naver_SentimentAnalysis_loadmodel_LSTM.ipynb",
      "provenance": [],
      "collapsed_sections": [],
      "authorship_tag": "ABX9TyM1wYamLjVvh/NjOqzstcDh",
      "include_colab_link": true
    },
    "kernelspec": {
      "name": "python3",
      "display_name": "Python 3"
    },
    "language_info": {
      "name": "python"
    }
  },
  "cells": [
    {
      "cell_type": "markdown",
      "metadata": {
        "id": "view-in-github",
        "colab_type": "text"
      },
      "source": [
        "<a href=\"https://colab.research.google.com/github/ginttone/multi_deeplearning/blob/master/Naver_SentimentAnalysis_loadmodel_LSTM.ipynb\" target=\"_parent\"><img src=\"https://colab.research.google.com/assets/colab-badge.svg\" alt=\"Open In Colab\"/></a>"
      ]
    },
    {
      "cell_type": "markdown",
      "metadata": {
        "id": "oGs3wQBidx-h"
      },
      "source": [
        "업무분장시 딥러닝에서 저장한 .h5 파일을 웹서버가 받아서 사용 "
      ]
    },
    {
      "cell_type": "code",
      "metadata": {
        "id": "vqQNYyP8dLXv"
      },
      "source": [
        "import tensorflow as tf"
      ],
      "execution_count": 1,
      "outputs": []
    },
    {
      "cell_type": "code",
      "metadata": {
        "colab": {
          "base_uri": "https://localhost:8080/"
        },
        "id": "OEtm3Ka7d86Z",
        "outputId": "8229e334-eb64-4bc8-f1fc-5c1d1ef81a23"
      },
      "source": [
        "loaded_model = tf.keras.models.load_model('./NaverSentimentAnalysis_LSTM.h5')\n",
        "loaded_model"
      ],
      "execution_count": 2,
      "outputs": [
        {
          "output_type": "execute_result",
          "data": {
            "text/plain": [
              "<tensorflow.python.keras.engine.sequential.Sequential at 0x7fa77cc6efd0>"
            ]
          },
          "metadata": {
            "tags": []
          },
          "execution_count": 2
        }
      ]
    },
    {
      "cell_type": "code",
      "metadata": {
        "id": "Z37N4TnEgLYo"
      },
      "source": [
        "# !python -m pip install konlpy"
      ],
      "execution_count": 7,
      "outputs": []
    },
    {
      "cell_type": "markdown",
      "metadata": {
        "id": "DBxAR7p2h1lQ"
      },
      "source": [
        "`>>>`불용어 리스트를 픽클로 저장해서 가져옴"
      ]
    },
    {
      "cell_type": "code",
      "metadata": {
        "id": "RPIpZaugnoh9"
      },
      "source": [
        "import pickle\n",
        "\n",
        "stopwords = pickle.load(open('./stopwords.pkl','rb'))"
      ],
      "execution_count": 9,
      "outputs": []
    },
    {
      "cell_type": "code",
      "metadata": {
        "id": "eHZBvA0OgkF_"
      },
      "source": [
        "import konlpy"
      ],
      "execution_count": 4,
      "outputs": []
    },
    {
      "cell_type": "markdown",
      "metadata": {
        "id": "KNY7a06fg_QH"
      },
      "source": [
        "감독이 예술이네 : 측정하고싶은 것 (웹사용자 입력)\n",
        "\n"
      ]
    },
    {
      "cell_type": "code",
      "metadata": {
        "id": "M3DGaJJdg3XK"
      },
      "source": [
        "okt=konlpy.tag.Okt()"
      ],
      "execution_count": 5,
      "outputs": []
    },
    {
      "cell_type": "code",
      "metadata": {
        "id": "R-bcY1BwhayB"
      },
      "source": [
        "new_sentence = okt.morphs('감독이 예술이네', stem=True)"
      ],
      "execution_count": 6,
      "outputs": []
    },
    {
      "cell_type": "markdown",
      "metadata": {
        "id": "UPkpWzlmmAX1"
      },
      "source": [
        "기존 불용어 처리\n",
        "```\n",
        "  words = list()\n",
        "  for tok in temp_x:\n",
        "    if tok not in stopwords:\n",
        "      words.append(tok)\n",
        "```\n",
        "\n",
        "많이 쓰이는 불용어 처리(한 줄로 표현)\n",
        "\n",
        "```\n",
        "words의 성격이 리스트 이기때문에\n",
        "[문장으로 넣음]\n",
        "\n",
        "words.append(tok) for tok in temp_x if tok not in stopwords\n",
        "```"
      ]
    },
    {
      "cell_type": "code",
      "metadata": {
        "id": "wDyLkF6lmVqr"
      },
      "source": [
        "new_sentence = [tok for tok in new_sentence if tok not in stopwords]"
      ],
      "execution_count": 10,
      "outputs": []
    },
    {
      "cell_type": "code",
      "metadata": {
        "colab": {
          "base_uri": "https://localhost:8080/"
        },
        "id": "ALpmyomymM3k",
        "outputId": "6bff1131-93a9-479b-cbbe-5294435a3940"
      },
      "source": [
        "new_sentence"
      ],
      "execution_count": 11,
      "outputs": [
        {
          "output_type": "execute_result",
          "data": {
            "text/plain": [
              "['감독', '예술', '이네']"
            ]
          },
          "metadata": {
            "tags": []
          },
          "execution_count": 11
        }
      ]
    },
    {
      "cell_type": "markdown",
      "metadata": {
        "id": "km2sbMvQoNHP"
      },
      "source": [
        "`>>>` tokenizer 가져오기"
      ]
    },
    {
      "cell_type": "code",
      "metadata": {
        "colab": {
          "base_uri": "https://localhost:8080/"
        },
        "id": "eAM3t4EIlxG-",
        "outputId": "b6dad96d-e0fb-4544-f85e-408974a3e0c4"
      },
      "source": [
        "tokenizer = pickle.load(open('./tokenizer.pkl','rb'))\n",
        "tokenizer"
      ],
      "execution_count": 14,
      "outputs": [
        {
          "output_type": "execute_result",
          "data": {
            "text/plain": [
              "<keras_preprocessing.text.Tokenizer at 0x7fa74778cb10>"
            ]
          },
          "metadata": {
            "tags": []
          },
          "execution_count": 14
        }
      ]
    },
    {
      "cell_type": "code",
      "metadata": {
        "colab": {
          "base_uri": "https://localhost:8080/"
        },
        "id": "OqsANPfYpcJh",
        "outputId": "096e61d0-4018-43c4-cb6e-de1363f316fb"
      },
      "source": [
        "# tokenizer.word_counts\n",
        "# tokenizer.word_index\n",
        "vocb_size = len(tokenizer.word_index)\n",
        "vocb_size"
      ],
      "execution_count": 19,
      "outputs": [
        {
          "output_type": "execute_result",
          "data": {
            "text/plain": [
              "1572"
            ]
          },
          "metadata": {
            "tags": []
          },
          "execution_count": 19
        }
      ]
    },
    {
      "cell_type": "markdown",
      "metadata": {
        "id": "1xA8V6ASqEre"
      },
      "source": [
        "## padding\n",
        "\n",
        "자연어를 정재한 것만 뺀 것 가지고 숫자화 시키기"
      ]
    },
    {
      "cell_type": "code",
      "metadata": {
        "colab": {
          "base_uri": "https://localhost:8080/"
        },
        "id": "NflD-LE8p0n2",
        "outputId": "238f90ba-221a-40ff-f2f6-83cc87cce535"
      },
      "source": [
        "encoded = tokenizer.texts_to_sequences([new_sentence])\n",
        "# encoded\n",
        "\n",
        "pad_new = tf.keras.preprocessing.sequence.pad_sequences(encoded, maxlen=50)\n",
        "pad_new"
      ],
      "execution_count": 22,
      "outputs": [
        {
          "output_type": "execute_result",
          "data": {
            "text/plain": [
              "array([[  0,   0,   0,   0,   0,   0,   0,   0,   0,   0,   0,   0,   0,\n",
              "          0,   0,   0,   0,   0,   0,   0,   0,   0,   0,   0,   0,   0,\n",
              "          0,   0,   0,   0,   0,   0,   0,   0,   0,   0,   0,   0,   0,\n",
              "          0,   0,   0,   0,   0,   0,   0,   0,   0,  92, 128]],\n",
              "      dtype=int32)"
            ]
          },
          "metadata": {
            "tags": []
          },
          "execution_count": 22
        }
      ]
    },
    {
      "cell_type": "markdown",
      "metadata": {
        "id": "noPh5VoBrQJX"
      },
      "source": [
        "## predict"
      ]
    },
    {
      "cell_type": "code",
      "metadata": {
        "colab": {
          "base_uri": "https://localhost:8080/"
        },
        "id": "dDsElGETeUit",
        "outputId": "75cc77e6-af95-48d4-c063-1f36b87d1f4d"
      },
      "source": [
        "score = loaded_model.predict(pad_new)\n",
        "score"
      ],
      "execution_count": 25,
      "outputs": [
        {
          "output_type": "execute_result",
          "data": {
            "text/plain": [
              "array([[0.49929982]], dtype=float32)"
            ]
          },
          "metadata": {
            "tags": []
          },
          "execution_count": 25
        }
      ]
    },
    {
      "cell_type": "markdown",
      "metadata": {
        "id": "VW1ic6EUrcJi"
      },
      "source": [
        "##Service\n",
        "\n",
        "결과 보고 긍정 , 부정 판별해서 서비스해주기"
      ]
    },
    {
      "cell_type": "code",
      "metadata": {
        "colab": {
          "base_uri": "https://localhost:8080/"
        },
        "id": "hkslmZf9rYsz",
        "outputId": "60d8a939-1b38-434e-802c-bcf0cb85259c"
      },
      "source": [
        "if(score>0.5):\n",
        "  print('긍정', score)\n",
        "else:\n",
        "  print('부정', score)"
      ],
      "execution_count": 26,
      "outputs": [
        {
          "output_type": "stream",
          "text": [
            "부정 [[0.49929982]]\n"
          ],
          "name": "stdout"
        }
      ]
    },
    {
      "cell_type": "markdown",
      "metadata": {
        "id": "ebSGiBmus9M-"
      },
      "source": [
        "`+++`펑션만들기\n",
        "\n",
        "```\n",
        "okt=konlpy.tag.Okt()\n",
        "new_sentence = okt.morphs('감독이 예술이네', stem=True)\n",
        "new_sentence = [tok for tok in new_sentence if tok not in stopwords]\n",
        "\n",
        "encoded = tokenizer.texts_to_sequences([new_sentence])\n",
        "\n",
        "pad_new = tf.keras.preprocessing.sequence.pad_sequences(encoded, maxlen=50)\n",
        "\n",
        "score = loaded_model.predict(pad_new)\n",
        "```\n",
        "\n",
        "```\n",
        "def fname():\n",
        "  return\n",
        "```"
      ]
    },
    {
      "cell_type": "code",
      "metadata": {
        "id": "6YHeAXsntlo_"
      },
      "source": [
        "def sentiment_predict(sentence):\n",
        "  okt=konlpy.tag.Okt()\n",
        "  new_sentence = okt.morphs(sentence, stem=True)\n",
        "  new_sentence = [tok for tok in new_sentence if tok not in stopwords]\n",
        "  encoded = tokenizer.texts_to_sequences([new_sentence])\n",
        "  pad_new = tf.keras.preprocessing.sequence.pad_sequences(encoded, maxlen=50)\n",
        "  score = loaded_model.predict(pad_new)\n",
        "  return score"
      ],
      "execution_count": 27,
      "outputs": []
    },
    {
      "cell_type": "code",
      "metadata": {
        "colab": {
          "base_uri": "https://localhost:8080/"
        },
        "id": "kxSBhRX3vLVl",
        "outputId": "e6ff56e8-c19c-4050-fe99-00fed08eb05f"
      },
      "source": [
        "words = '이 영화 꽝이네..'\n",
        "\n",
        "sentiment_predict(words)"
      ],
      "execution_count": 30,
      "outputs": [
        {
          "output_type": "execute_result",
          "data": {
            "text/plain": [
              "array([[0.50130105]], dtype=float32)"
            ]
          },
          "metadata": {
            "tags": []
          },
          "execution_count": 30
        }
      ]
    },
    {
      "cell_type": "code",
      "metadata": {
        "colab": {
          "base_uri": "https://localhost:8080/"
        },
        "id": "Frj4uYtEvTyC",
        "outputId": "e1711861-4489-4f79-9c5f-a531f09a40da"
      },
      "source": [
        "words = '영화가 좋으니 마음도 좋네요'\n",
        "\n",
        "sentiment_predict(words)"
      ],
      "execution_count": 31,
      "outputs": [
        {
          "output_type": "execute_result",
          "data": {
            "text/plain": [
              "array([[0.5108125]], dtype=float32)"
            ]
          },
          "metadata": {
            "tags": []
          },
          "execution_count": 31
        }
      ]
    },
    {
      "cell_type": "code",
      "metadata": {
        "id": "sp6Nhs11vkQ7"
      },
      "source": [
        ""
      ],
      "execution_count": null,
      "outputs": []
    }
  ]
}