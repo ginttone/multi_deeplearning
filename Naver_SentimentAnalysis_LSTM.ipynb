{
  "nbformat": 4,
  "nbformat_minor": 0,
  "metadata": {
    "colab": {
      "name": "Naver_SentimentAnalysis_LSTM.ipynb",
      "provenance": [],
      "collapsed_sections": [],
      "mount_file_id": "1flEKfdzgmkedvYg64MLgqS50s8rl9euo",
      "authorship_tag": "ABX9TyPKBZHJjQPSRklMfxkE2Fr5",
      "include_colab_link": true
    },
    "kernelspec": {
      "name": "python3",
      "display_name": "Python 3"
    },
    "language_info": {
      "name": "python"
    }
  },
  "cells": [
    {
      "cell_type": "markdown",
      "metadata": {
        "id": "view-in-github",
        "colab_type": "text"
      },
      "source": [
        "<a href=\"https://colab.research.google.com/github/ginttone/multi_deeplearning/blob/master/Naver_SentimentAnalysis_LSTM.ipynb\" target=\"_parent\"><img src=\"https://colab.research.google.com/assets/colab-badge.svg\" alt=\"Open In Colab\"/></a>"
      ]
    },
    {
      "cell_type": "markdown",
      "metadata": {
        "id": "JUs0h1W_j-Zq"
      },
      "source": [
        "## 데이터 다운로드(네이버 영화리뷰 데이터)"
      ]
    },
    {
      "cell_type": "code",
      "metadata": {
        "colab": {
          "base_uri": "https://localhost:8080/"
        },
        "id": "Fm6HxXnQjMhq",
        "outputId": "cbd5b11e-8a3e-4d34-cdc1-b72494185ce2"
      },
      "source": [
        " !curl -O https://raw.githubusercontent.com/e9t/nsmc/master/ratings_train.txt"
      ],
      "execution_count": 1,
      "outputs": [
        {
          "output_type": "stream",
          "text": [
            "  % Total    % Received % Xferd  Average Speed   Time    Time     Time  Current\n",
            "                                 Dload  Upload   Total   Spent    Left  Speed\n",
            "100 13.9M  100 13.9M    0     0  9198k      0  0:00:01  0:00:01 --:--:-- 9193k\n"
          ],
          "name": "stdout"
        }
      ]
    },
    {
      "cell_type": "code",
      "metadata": {
        "colab": {
          "base_uri": "https://localhost:8080/"
        },
        "id": "VtXmdp6YjztC",
        "outputId": "77f90e61-13f9-440a-c4e6-00849e45fc0d"
      },
      "source": [
        " !curl -O https://raw.githubusercontent.com/e9t/nsmc/master/ratings_test.txt"
      ],
      "execution_count": 2,
      "outputs": [
        {
          "output_type": "stream",
          "text": [
            "  % Total    % Received % Xferd  Average Speed   Time    Time     Time  Current\n",
            "                                 Dload  Upload   Total   Spent    Left  Speed\n",
            "100 4778k  100 4778k    0     0  5827k      0 --:--:-- --:--:-- --:--:-- 5820k\n"
          ],
          "name": "stdout"
        }
      ]
    },
    {
      "cell_type": "markdown",
      "metadata": {
        "id": "mVpKU6zakEeS"
      },
      "source": [
        "## 데이터 전처리"
      ]
    },
    {
      "cell_type": "code",
      "metadata": {
        "id": "Zmb6bkrdj85Z"
      },
      "source": [
        "import pandas as pd"
      ],
      "execution_count": 3,
      "outputs": []
    },
    {
      "cell_type": "code",
      "metadata": {
        "colab": {
          "base_uri": "https://localhost:8080/"
        },
        "id": "37r34LiNk66c",
        "outputId": "bef34513-0da6-4688-83b6-1554077d5b62"
      },
      "source": [
        "train_data = pd.read_table('./ratings_train.txt')\n",
        "train_data.info()"
      ],
      "execution_count": 4,
      "outputs": [
        {
          "output_type": "stream",
          "text": [
            "<class 'pandas.core.frame.DataFrame'>\n",
            "RangeIndex: 150000 entries, 0 to 149999\n",
            "Data columns (total 3 columns):\n",
            " #   Column    Non-Null Count   Dtype \n",
            "---  ------    --------------   ----- \n",
            " 0   id        150000 non-null  int64 \n",
            " 1   document  149995 non-null  object\n",
            " 2   label     150000 non-null  int64 \n",
            "dtypes: int64(2), object(1)\n",
            "memory usage: 3.4+ MB\n"
          ],
          "name": "stdout"
        }
      ]
    },
    {
      "cell_type": "code",
      "metadata": {
        "colab": {
          "base_uri": "https://localhost:8080/",
          "height": 142
        },
        "id": "R_o9-9mklKGK",
        "outputId": "1a768a06-17b8-46aa-e2cf-337c03e2eb46"
      },
      "source": [
        "train_data.head(3)\n",
        "#id 유니크값 | document  | label y값"
      ],
      "execution_count": 5,
      "outputs": [
        {
          "output_type": "execute_result",
          "data": {
            "text/html": [
              "<div>\n",
              "<style scoped>\n",
              "    .dataframe tbody tr th:only-of-type {\n",
              "        vertical-align: middle;\n",
              "    }\n",
              "\n",
              "    .dataframe tbody tr th {\n",
              "        vertical-align: top;\n",
              "    }\n",
              "\n",
              "    .dataframe thead th {\n",
              "        text-align: right;\n",
              "    }\n",
              "</style>\n",
              "<table border=\"1\" class=\"dataframe\">\n",
              "  <thead>\n",
              "    <tr style=\"text-align: right;\">\n",
              "      <th></th>\n",
              "      <th>id</th>\n",
              "      <th>document</th>\n",
              "      <th>label</th>\n",
              "    </tr>\n",
              "  </thead>\n",
              "  <tbody>\n",
              "    <tr>\n",
              "      <th>0</th>\n",
              "      <td>9976970</td>\n",
              "      <td>아 더빙.. 진짜 짜증나네요 목소리</td>\n",
              "      <td>0</td>\n",
              "    </tr>\n",
              "    <tr>\n",
              "      <th>1</th>\n",
              "      <td>3819312</td>\n",
              "      <td>흠...포스터보고 초딩영화줄....오버연기조차 가볍지 않구나</td>\n",
              "      <td>1</td>\n",
              "    </tr>\n",
              "    <tr>\n",
              "      <th>2</th>\n",
              "      <td>10265843</td>\n",
              "      <td>너무재밓었다그래서보는것을추천한다</td>\n",
              "      <td>0</td>\n",
              "    </tr>\n",
              "  </tbody>\n",
              "</table>\n",
              "</div>"
            ],
            "text/plain": [
              "         id                           document  label\n",
              "0   9976970                아 더빙.. 진짜 짜증나네요 목소리      0\n",
              "1   3819312  흠...포스터보고 초딩영화줄....오버연기조차 가볍지 않구나      1\n",
              "2  10265843                  너무재밓었다그래서보는것을추천한다      0"
            ]
          },
          "metadata": {
            "tags": []
          },
          "execution_count": 5
        }
      ]
    },
    {
      "cell_type": "markdown",
      "metadata": {
        "id": "O-PlBzmalxgu"
      },
      "source": [
        " document  149995 non-null  object\n",
        "\n",
        " id와 label에 null 값이  있어서 drop시킨다\n",
        "\n",
        " train_data 에 그대로 저장 inplace=True "
      ]
    },
    {
      "cell_type": "code",
      "metadata": {
        "id": "eNFTjbrelWNo"
      },
      "source": [
        "train_data.dropna(inplace=True)"
      ],
      "execution_count": 6,
      "outputs": []
    },
    {
      "cell_type": "code",
      "metadata": {
        "colab": {
          "base_uri": "https://localhost:8080/"
        },
        "id": "rPGFj3xSmHgI",
        "outputId": "ce4449cb-7ac8-4c15-b4e3-e4661032a68b"
      },
      "source": [
        "train_data.info()"
      ],
      "execution_count": 7,
      "outputs": [
        {
          "output_type": "stream",
          "text": [
            "<class 'pandas.core.frame.DataFrame'>\n",
            "Int64Index: 149995 entries, 0 to 149999\n",
            "Data columns (total 3 columns):\n",
            " #   Column    Non-Null Count   Dtype \n",
            "---  ------    --------------   ----- \n",
            " 0   id        149995 non-null  int64 \n",
            " 1   document  149995 non-null  object\n",
            " 2   label     149995 non-null  int64 \n",
            "dtypes: int64(2), object(1)\n",
            "memory usage: 4.6+ MB\n"
          ],
          "name": "stdout"
        }
      ]
    },
    {
      "cell_type": "markdown",
      "metadata": {
        "id": "5TwV-rTumeGw"
      },
      "source": [
        "만약에 데이터가 한쪽으로 쏠려있으면 언더(과소표집)나 오버핏팅(과대표집) 해서 데이터를 맞춰준다 .\n",
        "\n",
        "지금 데이터는 별 차이 없음으로 그냥 진행"
      ]
    },
    {
      "cell_type": "code",
      "metadata": {
        "colab": {
          "base_uri": "https://localhost:8080/"
        },
        "id": "n836qCI5mJv1",
        "outputId": "316e8ff8-f568-46f8-f925-e4eeb0b709f8"
      },
      "source": [
        "train_data['label'].value_counts()"
      ],
      "execution_count": 8,
      "outputs": [
        {
          "output_type": "execute_result",
          "data": {
            "text/plain": [
              "0    75170\n",
              "1    74825\n",
              "Name: label, dtype: int64"
            ]
          },
          "metadata": {
            "tags": []
          },
          "execution_count": 8
        }
      ]
    },
    {
      "cell_type": "markdown",
      "metadata": {
        "id": "1gNPihCMnQFH"
      },
      "source": [
        "각문장을 토큰화 시키기"
      ]
    },
    {
      "cell_type": "code",
      "metadata": {
        "colab": {
          "base_uri": "https://localhost:8080/"
        },
        "id": "ZA64KDmfngQo",
        "outputId": "7d43e525-0d8b-470e-e86c-5a82de37919e"
      },
      "source": [
        " !python -m pip install konlpy"
      ],
      "execution_count": 9,
      "outputs": [
        {
          "output_type": "stream",
          "text": [
            "Collecting konlpy\n",
            "  Downloading konlpy-0.5.2-py2.py3-none-any.whl (19.4 MB)\n",
            "\u001b[K     |████████████████████████████████| 19.4 MB 1.4 MB/s \n",
            "\u001b[?25hRequirement already satisfied: lxml>=4.1.0 in /usr/local/lib/python3.7/dist-packages (from konlpy) (4.2.6)\n",
            "Collecting beautifulsoup4==4.6.0\n",
            "  Downloading beautifulsoup4-4.6.0-py3-none-any.whl (86 kB)\n",
            "\u001b[K     |████████████████████████████████| 86 kB 4.8 MB/s \n",
            "\u001b[?25hCollecting JPype1>=0.7.0\n",
            "  Downloading JPype1-1.3.0-cp37-cp37m-manylinux_2_5_x86_64.manylinux1_x86_64.whl (448 kB)\n",
            "\u001b[K     |████████████████████████████████| 448 kB 40.4 MB/s \n",
            "\u001b[?25hRequirement already satisfied: tweepy>=3.7.0 in /usr/local/lib/python3.7/dist-packages (from konlpy) (3.10.0)\n",
            "Collecting colorama\n",
            "  Downloading colorama-0.4.4-py2.py3-none-any.whl (16 kB)\n",
            "Requirement already satisfied: numpy>=1.6 in /usr/local/lib/python3.7/dist-packages (from konlpy) (1.19.5)\n",
            "Requirement already satisfied: typing-extensions in /usr/local/lib/python3.7/dist-packages (from JPype1>=0.7.0->konlpy) (3.7.4.3)\n",
            "Requirement already satisfied: six>=1.10.0 in /usr/local/lib/python3.7/dist-packages (from tweepy>=3.7.0->konlpy) (1.15.0)\n",
            "Requirement already satisfied: requests-oauthlib>=0.7.0 in /usr/local/lib/python3.7/dist-packages (from tweepy>=3.7.0->konlpy) (1.3.0)\n",
            "Requirement already satisfied: requests[socks]>=2.11.1 in /usr/local/lib/python3.7/dist-packages (from tweepy>=3.7.0->konlpy) (2.23.0)\n",
            "Requirement already satisfied: oauthlib>=3.0.0 in /usr/local/lib/python3.7/dist-packages (from requests-oauthlib>=0.7.0->tweepy>=3.7.0->konlpy) (3.1.1)\n",
            "Requirement already satisfied: certifi>=2017.4.17 in /usr/local/lib/python3.7/dist-packages (from requests[socks]>=2.11.1->tweepy>=3.7.0->konlpy) (2021.5.30)\n",
            "Requirement already satisfied: urllib3!=1.25.0,!=1.25.1,<1.26,>=1.21.1 in /usr/local/lib/python3.7/dist-packages (from requests[socks]>=2.11.1->tweepy>=3.7.0->konlpy) (1.24.3)\n",
            "Requirement already satisfied: chardet<4,>=3.0.2 in /usr/local/lib/python3.7/dist-packages (from requests[socks]>=2.11.1->tweepy>=3.7.0->konlpy) (3.0.4)\n",
            "Requirement already satisfied: idna<3,>=2.5 in /usr/local/lib/python3.7/dist-packages (from requests[socks]>=2.11.1->tweepy>=3.7.0->konlpy) (2.10)\n",
            "Requirement already satisfied: PySocks!=1.5.7,>=1.5.6 in /usr/local/lib/python3.7/dist-packages (from requests[socks]>=2.11.1->tweepy>=3.7.0->konlpy) (1.7.1)\n",
            "Installing collected packages: JPype1, colorama, beautifulsoup4, konlpy\n",
            "  Attempting uninstall: beautifulsoup4\n",
            "    Found existing installation: beautifulsoup4 4.6.3\n",
            "    Uninstalling beautifulsoup4-4.6.3:\n",
            "      Successfully uninstalled beautifulsoup4-4.6.3\n",
            "Successfully installed JPype1-1.3.0 beautifulsoup4-4.6.0 colorama-0.4.4 konlpy-0.5.2\n"
          ],
          "name": "stdout"
        }
      ]
    },
    {
      "cell_type": "code",
      "metadata": {
        "id": "Do3niudNmakb"
      },
      "source": [
        "import konlpy"
      ],
      "execution_count": 10,
      "outputs": []
    },
    {
      "cell_type": "markdown",
      "metadata": {
        "id": "d4LWdJ_qpKUp"
      },
      "source": [
        "임의 불용어 단어사전"
      ]
    },
    {
      "cell_type": "code",
      "metadata": {
        "id": "-Ad9Uo3TpDGm"
      },
      "source": [
        "stopwords = ['의','가','이','은','들','는','좀','잘','걍','과','도','를','으로','자','에','와','한','하다']"
      ],
      "execution_count": 11,
      "outputs": []
    },
    {
      "cell_type": "markdown",
      "metadata": {
        "id": "YvzKA1jk8p9B"
      },
      "source": [
        "원형으로 변환(분류기 사용)\n",
        " ```\n",
        " 와 = 오다\n",
        " 만드는 = 만들다 \n",
        " 나을 = 나다 \n",
        " ```"
      ]
    },
    {
      "cell_type": "code",
      "metadata": {
        "colab": {
          "base_uri": "https://localhost:8080/"
        },
        "id": "WRGUURpJ7or7",
        "outputId": "6d02ac28-a781-40f6-82b9-2ca214eef25b"
      },
      "source": [
        "okt = konlpy.tag.Okt()\n",
        "okt.morphs('와 이런것도 영화라고 차라리 뮤직비디오를 만드는 게 나을 뻔',stem=True )"
      ],
      "execution_count": 12,
      "outputs": [
        {
          "output_type": "execute_result",
          "data": {
            "text/plain": [
              "['오다', '이런', '것', '도', '영화', '라고', '차라리', '뮤직비디오', '를', '만들다', '게', '나다', '뻔']"
            ]
          },
          "metadata": {
            "tags": []
          },
          "execution_count": 12
        }
      ]
    },
    {
      "cell_type": "markdown",
      "metadata": {
        "id": "oT2VXGnKohG5"
      },
      "source": [
        "불용어로 걸러내기\n",
        "\n",
        " Okt = melcap 쪼개는 기능\n",
        "\n",
        " stem 어간추출"
      ]
    },
    {
      "cell_type": "code",
      "metadata": {
        "id": "2L5BiIDL8IwN"
      },
      "source": [
        "# train_data_small = train_data 인데 지금은 너무많으니까 제한둠\n",
        "train_data_small = train_data[0:300]"
      ],
      "execution_count": 13,
      "outputs": []
    },
    {
      "cell_type": "code",
      "metadata": {
        "colab": {
          "base_uri": "https://localhost:8080/"
        },
        "id": "BuztJWvgEZOC",
        "outputId": "97f48a54-defc-4f6f-a2a5-2ca2515ff762"
      },
      "source": [
        "Y_train = train_data['label'][0:300]\n",
        "print(Y_train)"
      ],
      "execution_count": 35,
      "outputs": [
        {
          "output_type": "stream",
          "text": [
            "0      0\n",
            "1      1\n",
            "2      0\n",
            "3      0\n",
            "4      1\n",
            "      ..\n",
            "295    1\n",
            "296    0\n",
            "297    0\n",
            "298    0\n",
            "299    1\n",
            "Name: label, Length: 300, dtype: int64\n"
          ],
          "name": "stdout"
        }
      ]
    },
    {
      "cell_type": "markdown",
      "metadata": {
        "id": "AHBb75Ki_auS"
      },
      "source": [
        "  words = list() # for문 내에서 담을 변수\n",
        "\n",
        "  for tok in temp_x: #과대표집 , 불용어 추출\n",
        "\n",
        "  if tok not in stopwords: #불용어가 아니면 저장\n"
      ]
    },
    {
      "cell_type": "code",
      "metadata": {
        "colab": {
          "base_uri": "https://localhost:8080/"
        },
        "id": "6IJnHxsNndyf",
        "outputId": "67eb6cc7-780d-419c-bb21-c5c803e44d7b"
      },
      "source": [
        "x_train = list()\n",
        "okt = konlpy.tag.Okt()\n",
        "for sentence in train_data_small['document']:\n",
        "  temp_x = okt.morphs(sentence, stem=True)\n",
        "  words = list()\n",
        "  for tok in temp_x:\n",
        "    if tok not in stopwords:\n",
        "      words.append(tok)\n",
        "  x_train.append(words)\n",
        "\n",
        "x_train[3:5]"
      ],
      "execution_count": 15,
      "outputs": [
        {
          "output_type": "execute_result",
          "data": {
            "text/plain": [
              "[['교도소', '이야기', '구먼', '..', '솔직하다', '재미', '없다', '..', '평점', '조정'],\n",
              " ['사이',\n",
              "  '몬페',\n",
              "  '그',\n",
              "  '익살스럽다',\n",
              "  '연기',\n",
              "  '돋보이다',\n",
              "  '영화',\n",
              "  '!',\n",
              "  '스파이더맨',\n",
              "  '에서',\n",
              "  '늙다',\n",
              "  '보이다',\n",
              "  '커스틴',\n",
              "  '던스트',\n",
              "  '너무나도',\n",
              "  '이쁘다',\n",
              "  '보이다']]"
            ]
          },
          "metadata": {
            "tags": []
          },
          "execution_count": 15
        }
      ]
    },
    {
      "cell_type": "markdown",
      "metadata": {
        "id": "yiqwljtL_YMT"
      },
      "source": [
        "사전만들기 \n"
      ]
    },
    {
      "cell_type": "code",
      "metadata": {
        "id": "tTo0WnAh-Kr1"
      },
      "source": [
        "import tensorflow as tf"
      ],
      "execution_count": 16,
      "outputs": []
    },
    {
      "cell_type": "code",
      "metadata": {
        "id": "KHpn3oqgAi1E"
      },
      "source": [
        "tokenizer = tf.keras.preprocessing.text.Tokenizer()"
      ],
      "execution_count": 17,
      "outputs": []
    },
    {
      "cell_type": "code",
      "metadata": {
        "id": "7-tzll8_Axbi"
      },
      "source": [
        "tokenizer.fit_on_texts(x_train)"
      ],
      "execution_count": 18,
      "outputs": []
    },
    {
      "cell_type": "code",
      "metadata": {
        "id": "lZz_kvdaBBfi"
      },
      "source": [
        "print(tokenizer.word_index)"
      ],
      "execution_count": 21,
      "outputs": []
    },
    {
      "cell_type": "markdown",
      "metadata": {
        "id": "xaAx9kKwBqJ8"
      },
      "source": [
        "> word_index한번더 정재 해야하는 데 내일 이어서 공부할 예정"
      ]
    },
    {
      "cell_type": "code",
      "metadata": {
        "colab": {
          "base_uri": "https://localhost:8080/"
        },
        "id": "pOJOl3EyBO4r",
        "outputId": "44d8eb4e-789b-4efb-a776-d854cf28099e"
      },
      "source": [
        "len(tokenizer.word_index)"
      ],
      "execution_count": 20,
      "outputs": [
        {
          "output_type": "execute_result",
          "data": {
            "text/plain": [
              "1572"
            ]
          },
          "metadata": {
            "tags": []
          },
          "execution_count": 20
        }
      ]
    },
    {
      "cell_type": "markdown",
      "metadata": {
        "id": "6XEKyRJ3Bo1K"
      },
      "source": [
        "사전이용해 숫자로 바꾼다(인코딩)"
      ]
    },
    {
      "cell_type": "code",
      "metadata": {
        "id": "ljZCY_WfBhoi"
      },
      "source": [
        "X_train= tokenizer.texts_to_sequences(x_train)"
      ],
      "execution_count": 22,
      "outputs": []
    },
    {
      "cell_type": "code",
      "metadata": {
        "id": "KECCohHqCHNV"
      },
      "source": [
        "## print(X_train[3:5])  #숫자화 됬는지 확인"
      ],
      "execution_count": 30,
      "outputs": []
    },
    {
      "cell_type": "markdown",
      "metadata": {
        "id": "WT8wO-XxCfXD"
      },
      "source": [
        "x_train의 실제 전체 사이즈 중에 max와 min이 얼마인지 알아야 padding을 알 수 있다\n",
        "\n",
        "전체를 히스토그램으로 그림을 그려 이정도 되겠네 알아내기\n",
        "\n",
        "각 행의 len잡아보기"
      ]
    },
    {
      "cell_type": "code",
      "metadata": {
        "colab": {
          "base_uri": "https://localhost:8080/"
        },
        "id": "UNcMBUS0DBPm",
        "outputId": "113ea396-0633-48a0-e3e1-836036434cfa"
      },
      "source": [
        "len(X_train[0]), len(X_train[2]), len(X_train[3]) # ..."
      ],
      "execution_count": 26,
      "outputs": [
        {
          "output_type": "execute_result",
          "data": {
            "text/plain": [
              "(6, 8, 10)"
            ]
          },
          "metadata": {
            "tags": []
          },
          "execution_count": 26
        }
      ]
    },
    {
      "cell_type": "code",
      "metadata": {
        "id": "og2BJOJbCOkD"
      },
      "source": [
        "hist = list()\n",
        "\n",
        "for sent in X_train:\n",
        "  hist.append(len(sent))\n",
        "\n",
        "## print(hist) #각각의 길이 볼 수 있음"
      ],
      "execution_count": 29,
      "outputs": []
    },
    {
      "cell_type": "code",
      "metadata": {
        "id": "wB5XSgcxC8FS"
      },
      "source": [
        "import matplotlib.pyplot as plt\n"
      ],
      "execution_count": 31,
      "outputs": []
    },
    {
      "cell_type": "code",
      "metadata": {
        "colab": {
          "base_uri": "https://localhost:8080/",
          "height": 321
        },
        "id": "Ka2d_hZADk3E",
        "outputId": "b720e672-6d42-4cbc-c813-bd3fb15f740c"
      },
      "source": [
        "plt.hist(hist)"
      ],
      "execution_count": 32,
      "outputs": [
        {
          "output_type": "execute_result",
          "data": {
            "text/plain": [
              "(array([95., 96., 50., 20., 10.,  9.,  7.,  6.,  4.,  3.]),\n",
              " array([ 1. ,  6.6, 12.2, 17.8, 23.4, 29. , 34.6, 40.2, 45.8, 51.4, 57. ]),\n",
              " <a list of 10 Patch objects>)"
            ]
          },
          "metadata": {
            "tags": []
          },
          "execution_count": 32
        },
        {
          "output_type": "display_data",
          "data": {
            "image/png": "[encoded data removed]",
            "text/plain": [
              "<Figure size 432x288 with 1 Axes>"
            ]
          },
          "metadata": {
            "tags": [],
            "needs_background": "light"
          }
        }
      ]
    },
    {
      "cell_type": "markdown",
      "metadata": {
        "id": "BRlAq56OD6Pr"
      },
      "source": [
        "페딩 시퀀스(0으로 채워 줌)\n",
        "\n"
      ]
    },
    {
      "cell_type": "code",
      "metadata": {
        "id": "IKDruvqaDmRs"
      },
      "source": [
        " X_train = tf.keras.preprocessing.sequence.pad_sequences (X_train,maxlen=50)"
      ],
      "execution_count": 33,
      "outputs": []
    },
    {
      "cell_type": "code",
      "metadata": {
        "colab": {
          "base_uri": "https://localhost:8080/"
        },
        "id": "jB8BrNWMEO3T",
        "outputId": "04558ff3-ac30-4fa0-d0b2-502a7529fb63"
      },
      "source": [
        "X_train[3:5]"
      ],
      "execution_count": 34,
      "outputs": [
        {
          "output_type": "execute_result",
          "data": {
            "text/plain": [
              "array([[  0,   0,   0,   0,   0,   0,   0,   0,   0,   0,   0,   0,   0,\n",
              "          0,   0,   0,   0,   0,   0,   0,   0,   0,   0,   0,   0,   0,\n",
              "          0,   0,   0,   0,   0,   0,   0,   0,   0,   0,   0,   0,   0,\n",
              "          0, 523, 146, 524,   4, 188,  80,   6,   4,  44, 525],\n",
              "       [  0,   0,   0,   0,   0,   0,   0,   0,   0,   0,   0,   0,   0,\n",
              "          0,   0,   0,   0,   0,   0,   0,   0,   0,   0,   0,   0,   0,\n",
              "          0,   0,   0,   0,   0,   0,   0, 526, 527,  38, 528,  15, 292,\n",
              "          2,  16, 529,  28, 530, 118, 531, 532, 293, 189, 118]],\n",
              "      dtype=int32)"
            ]
          },
          "metadata": {
            "tags": []
          },
          "execution_count": 34
        }
      ]
    },
    {
      "cell_type": "code",
      "metadata": {
        "colab": {
          "base_uri": "https://localhost:8080/"
        },
        "id": "3zvyWviZExCR",
        "outputId": "8af70aae-5e5d-47c3-cbc0-3d8623c3137e"
      },
      "source": [
        "X_train.shape, Y_train.shape"
      ],
      "execution_count": 36,
      "outputs": [
        {
          "output_type": "execute_result",
          "data": {
            "text/plain": [
              "((300, 50), (300,))"
            ]
          },
          "metadata": {
            "tags": []
          },
          "execution_count": 36
        }
      ]
    },
    {
      "cell_type": "code",
      "metadata": {
        "colab": {
          "base_uri": "https://localhost:8080/"
        },
        "id": "8B4ARB_XGIAn",
        "outputId": "2cc95d08-0e65-45cb-f895-23d644fa63bd"
      },
      "source": [
        "import numpy as np\n",
        "np.unique(Y_train)"
      ],
      "execution_count": 39,
      "outputs": [
        {
          "output_type": "execute_result",
          "data": {
            "text/plain": [
              "array([0, 1])"
            ]
          },
          "metadata": {
            "tags": []
          },
          "execution_count": 39
        }
      ]
    },
    {
      "cell_type": "markdown",
      "metadata": {
        "id": "rjN2VcL6FE1i"
      },
      "source": [
        "## 모델"
      ]
    },
    {
      "cell_type": "code",
      "metadata": {
        "id": "dBCpVHMlFDEN"
      },
      "source": [
        "model = tf.keras.models.Sequential()"
      ],
      "execution_count": 37,
      "outputs": []
    },
    {
      "cell_type": "markdown",
      "metadata": {
        "id": "_80bQLmGGpXl"
      },
      "source": [
        "Embedding(1572, 50)\n",
        "\n",
        "LSTM(64,activation='tanh')\n",
        "\n",
        "Dense(1, activation='sigmoid'))"
      ]
    },
    {
      "cell_type": "code",
      "metadata": {
        "id": "wlBept8JFNdB"
      },
      "source": [
        "model.add(tf.keras.layers.Embedding(1572, 50))\n",
        "model.add(tf.keras.layers.LSTM(64,activation='tanh'))\n",
        "model.add(tf.keras.layers.Dense(1, activation='sigmoid'))\n",
        "\n",
        "model.compile(optimizer='adam', loss='binary_crossentropy')"
      ],
      "execution_count": 40,
      "outputs": []
    },
    {
      "cell_type": "code",
      "metadata": {
        "id": "fR8OiShVHBra"
      },
      "source": [
        "## model.fit(X_train, Y_train)"
      ],
      "execution_count": 42,
      "outputs": []
    },
    {
      "cell_type": "code",
      "metadata": {
        "id": "K4dvoPcAHG6w"
      },
      "source": [
        ""
      ],
      "execution_count": null,
      "outputs": []
    }
  ]
}