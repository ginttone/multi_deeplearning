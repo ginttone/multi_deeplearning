{
  "nbformat": 4,
  "nbformat_minor": 0,
  "metadata": {
    "colab": {
      "name": "NLTK.ipynb",
      "provenance": [],
      "collapsed_sections": [],
      "authorship_tag": "ABX9TyMhElS2P84ovzkHpdyuQtpm",
      "include_colab_link": true
    },
    "kernelspec": {
      "name": "python3",
      "display_name": "Python 3"
    },
    "language_info": {
      "name": "python"
    }
  },
  "cells": [
    {
      "cell_type": "markdown",
      "metadata": {
        "id": "view-in-github",
        "colab_type": "text"
      },
      "source": [
        "<a href=\"https://colab.research.google.com/github/ginttone/multi_deeplearning/blob/master/NLTK.ipynb\" target=\"_parent\"><img src=\"https://colab.research.google.com/assets/colab-badge.svg\" alt=\"Open In Colab\"/></a>"
      ]
    },
    {
      "cell_type": "markdown",
      "metadata": {
        "id": "vzF7u9rLJJLl"
      },
      "source": [
        "# 데이터 전처리 = 토큰화 \n",
        "\n",
        "문장을 단위로 쪼개서 사용한다(확률사용하려고)\n",
        "\n",
        "문장 단위로 쪼개기 `->` 필요없는 자료 삭제 `->` 사전 `->` 사전기반 숫자화"
      ]
    },
    {
      "cell_type": "code",
      "metadata": {
        "id": "Sqpn46DHIyXR"
      },
      "source": [
        "example = \"Family is not an important thing. It's everything. He has large house \""
      ],
      "execution_count": 1,
      "outputs": []
    },
    {
      "cell_type": "code",
      "metadata": {
        "colab": {
          "base_uri": "https://localhost:8080/"
        },
        "id": "hadNcfbgSzeM",
        "outputId": "73e26d12-45b4-4b6a-b4a1-b4d19b611eb3"
      },
      "source": [
        "import nltk \n",
        "# nltk.download('punkt')"
      ],
      "execution_count": 2,
      "outputs": [
        {
          "output_type": "stream",
          "text": [
            "[nltk_data] Downloading package punkt to /root/nltk_data...\n",
            "[nltk_data]   Package punkt is already up-to-date!\n"
          ],
          "name": "stdout"
        },
        {
          "output_type": "execute_result",
          "data": {
            "text/plain": [
              "True"
            ]
          },
          "metadata": {
            "tags": []
          },
          "execution_count": 2
        }
      ]
    },
    {
      "cell_type": "code",
      "metadata": {
        "colab": {
          "base_uri": "https://localhost:8080/"
        },
        "id": "yTMOBMACTGgp",
        "outputId": "0d926c37-5cd7-4583-8b6f-31017dabf02a"
      },
      "source": [
        "tok_words = nltk.tokenize.word_tokenize(example)\n",
        "print(tok_words)"
      ],
      "execution_count": 3,
      "outputs": [
        {
          "output_type": "stream",
          "text": [
            "['Family', 'is', 'not', 'an', 'important', 'thing', '.', 'It', \"'s\", 'everything', '.', 'He', 'has', 'large', 'house']\n"
          ],
          "name": "stdout"
        }
      ]
    },
    {
      "cell_type": "markdown",
      "metadata": {
        "id": "A3E3oRkHWRgP"
      },
      "source": [
        "## 불용어 처리 stopwords"
      ]
    },
    {
      "cell_type": "code",
      "metadata": {
        "colab": {
          "base_uri": "https://localhost:8080/"
        },
        "id": "Jktwvw6sVycd",
        "outputId": "9ae2f2a7-ff5d-476b-fa54-0197b79a8771"
      },
      "source": [
        "# nltk.download('stopwords')"
      ],
      "execution_count": 4,
      "outputs": [
        {
          "output_type": "stream",
          "text": [
            "[nltk_data] Downloading package stopwords to /root/nltk_data...\n",
            "[nltk_data]   Package stopwords is already up-to-date!\n"
          ],
          "name": "stdout"
        },
        {
          "output_type": "execute_result",
          "data": {
            "text/plain": [
              "True"
            ]
          },
          "metadata": {
            "tags": []
          },
          "execution_count": 4
        }
      ]
    },
    {
      "cell_type": "code",
      "metadata": {
        "colab": {
          "base_uri": "https://localhost:8080/"
        },
        "id": "oLaaEIvnTTep",
        "outputId": "a28562e8-2d7c-452a-b2e8-21f4f652de35"
      },
      "source": [
        "stop_words = nltk.corpus.stopwords.words('english')\n",
        "len(stop_words)"
      ],
      "execution_count": 5,
      "outputs": [
        {
          "output_type": "execute_result",
          "data": {
            "text/plain": [
              "179"
            ]
          },
          "metadata": {
            "tags": []
          },
          "execution_count": 5
        }
      ]
    },
    {
      "cell_type": "markdown",
      "metadata": {
        "id": "xzwnKfwWYIJr"
      },
      "source": [
        "불용어에 내가 빼고 싶어하는 원하는 것 넣기 "
      ]
    },
    {
      "cell_type": "code",
      "metadata": {
        "colab": {
          "base_uri": "https://localhost:8080/"
        },
        "id": "CiYegI4jYH1j",
        "outputId": "6be3b8bd-9b19-4cd7-f5b9-207138cff648"
      },
      "source": [
        "stop_words.extend(['.'])\n",
        "len(stop_words)"
      ],
      "execution_count": 6,
      "outputs": [
        {
          "output_type": "execute_result",
          "data": {
            "text/plain": [
              "180"
            ]
          },
          "metadata": {
            "tags": []
          },
          "execution_count": 6
        }
      ]
    },
    {
      "cell_type": "markdown",
      "metadata": {
        "id": "7Tv-M3x6Y4Nz"
      },
      "source": [
        "불용어 중복으로 들어갓을 때 해결"
      ]
    },
    {
      "cell_type": "code",
      "metadata": {
        "colab": {
          "base_uri": "https://localhost:8080/"
        },
        "id": "ReIdwglYY23r",
        "outputId": "d7fd3dc3-be40-47bf-e014-8ea0e7a1ad6e"
      },
      "source": [
        "stop_words = set(stop_words)\n",
        "len(stop_words)"
      ],
      "execution_count": 7,
      "outputs": [
        {
          "output_type": "execute_result",
          "data": {
            "text/plain": [
              "180"
            ]
          },
          "metadata": {
            "tags": []
          },
          "execution_count": 7
        }
      ]
    },
    {
      "cell_type": "markdown",
      "metadata": {
        "id": "2CWV3NplX89y"
      },
      "source": [
        "for문 돌려서 stop_words안에 is, not, an, has (불용어) 있어서 삭제해 표준화 시킨다."
      ]
    },
    {
      "cell_type": "code",
      "metadata": {
        "colab": {
          "base_uri": "https://localhost:8080/"
        },
        "id": "zENqWWxgUYkM",
        "outputId": "8bb361b5-31c6-4129-e97a-fb8b8a2e8fa1"
      },
      "source": [
        "for tok in tok_words:\n",
        "  # print(tok)\n",
        "  if tok not in stop_words:\n",
        "    print(tok)"
      ],
      "execution_count": 8,
      "outputs": [
        {
          "output_type": "stream",
          "text": [
            "Family\n",
            "important\n",
            "thing\n",
            "It\n",
            "'s\n",
            "everything\n",
            "He\n",
            "large\n",
            "house\n"
          ],
          "name": "stdout"
        }
      ]
    },
    {
      "cell_type": "markdown",
      "metadata": {
        "id": "9Q_7uiISaHfa"
      },
      "source": [
        "## Lemmatize\n",
        "\n",
        "tok 값의 원형 찾기"
      ]
    },
    {
      "cell_type": "code",
      "metadata": {
        "colab": {
          "base_uri": "https://localhost:8080/"
        },
        "id": "63Rofhnda1gE",
        "outputId": "3b15fcd3-c823-4b22-b529-13fc73a5cac1"
      },
      "source": [
        "#  nltk.download('wordnet')"
      ],
      "execution_count": 11,
      "outputs": [
        {
          "output_type": "stream",
          "text": [
            "[nltk_data] Downloading package wordnet to /root/nltk_data...\n",
            "[nltk_data]   Unzipping corpora/wordnet.zip.\n"
          ],
          "name": "stdout"
        },
        {
          "output_type": "execute_result",
          "data": {
            "text/plain": [
              "True"
            ]
          },
          "metadata": {
            "tags": []
          },
          "execution_count": 11
        }
      ]
    },
    {
      "cell_type": "code",
      "metadata": {
        "id": "3hFL1wfpXQHL"
      },
      "source": [
        "lemm = nltk.stem.WordNetLemmatizer()"
      ],
      "execution_count": 12,
      "outputs": []
    },
    {
      "cell_type": "code",
      "metadata": {
        "colab": {
          "base_uri": "https://localhost:8080/"
        },
        "id": "ruk5FRhmaKJH",
        "outputId": "5bbf5501-c517-4e2c-b409-7d3ce99106d9"
      },
      "source": [
        "for tok in tok_words:\n",
        "  print(tok,',', lemm.lemmatize(tok))"
      ],
      "execution_count": 13,
      "outputs": [
        {
          "output_type": "stream",
          "text": [
            "Family , Family\n",
            "is , is\n",
            "not , not\n",
            "an , an\n",
            "important , important\n",
            "thing , thing\n",
            ". , .\n",
            "It , It\n",
            "'s , 's\n",
            "everything , everything\n",
            ". , .\n",
            "He , He\n",
            "has , ha\n",
            "large , large\n",
            "house , house\n"
          ],
          "name": "stdout"
        }
      ]
    },
    {
      "cell_type": "markdown",
      "metadata": {
        "id": "RlI5U_ZobTDd"
      },
      "source": [
        "likes 의 원형 like 를 찾아주었다."
      ]
    },
    {
      "cell_type": "code",
      "metadata": {
        "colab": {
          "base_uri": "https://localhost:8080/",
          "height": 35
        },
        "id": "bFdjU3nlaxWs",
        "outputId": "8894bbf0-ad17-4959-90f6-b3e9aa3955ee"
      },
      "source": [
        "lemm.lemmatize('likes')"
      ],
      "execution_count": 15,
      "outputs": [
        {
          "output_type": "execute_result",
          "data": {
            "application/vnd.google.colaboratory.intrinsic+json": {
              "type": "string"
            },
            "text/plain": [
              "'like'"
            ]
          },
          "metadata": {
            "tags": []
          },
          "execution_count": 15
        }
      ]
    },
    {
      "cell_type": "markdown",
      "metadata": {
        "id": "O_fW-JXHbedQ"
      },
      "source": [
        "# Dictionary 만들기\n",
        "\n",
        "중복된 것이 없는 완성 된 사전 만들기\n"
      ]
    },
    {
      "cell_type": "code",
      "metadata": {
        "id": "lC-5iJ19bNMJ"
      },
      "source": [
        "example2 = \"A barber is a person. a barber is good person. a barber is huge person. he Knew A Secret! The Secret He Kept is huge secret. Huge secret. His barber kept his word. a barber kept his word. His barber kept his secret. But keeping and keeping such a huge secret to himself was driving the barber crazy. the barber went up a huge mountain.\""
      ],
      "execution_count": 16,
      "outputs": []
    },
    {
      "cell_type": "code",
      "metadata": {
        "colab": {
          "base_uri": "https://localhost:8080/"
        },
        "id": "yrRg-uqrb3yk",
        "outputId": "885b7e9e-1494-4ec5-fd3c-94b88fada2e3"
      },
      "source": [
        "tok_words = nltk.tokenize.word_tokenize(example2)\n",
        "print(tok_words)"
      ],
      "execution_count": 17,
      "outputs": [
        {
          "output_type": "stream",
          "text": [
            "['A', 'barber', 'is', 'a', 'person', '.', 'a', 'barber', 'is', 'good', 'person', '.', 'a', 'barber', 'is', 'huge', 'person', '.', 'he', 'Knew', 'A', 'Secret', '!', 'The', 'Secret', 'He', 'Kept', 'is', 'huge', 'secret', '.', 'Huge', 'secret', '.', 'His', 'barber', 'kept', 'his', 'word', '.', 'a', 'barber', 'kept', 'his', 'word', '.', 'His', 'barber', 'kept', 'his', 'secret', '.', 'But', 'keeping', 'and', 'keeping', 'such', 'a', 'huge', 'secret', 'to', 'himself', 'was', 'driving', 'the', 'barber', 'crazy', '.', 'the', 'barber', 'went', 'up', 'a', 'huge', 'mountain', '.']\n"
          ],
          "name": "stdout"
        }
      ]
    },
    {
      "cell_type": "code",
      "metadata": {
        "colab": {
          "base_uri": "https://localhost:8080/"
        },
        "id": "pfDTBTYYb9LK",
        "outputId": "643e6db0-c0ef-49c2-e3be-cb626a8d5ae8"
      },
      "source": [
        "stop_words = nltk.corpus.stopwords.words('english')\n",
        "len(stop_words)"
      ],
      "execution_count": 18,
      "outputs": [
        {
          "output_type": "execute_result",
          "data": {
            "text/plain": [
              "179"
            ]
          },
          "metadata": {
            "tags": []
          },
          "execution_count": 18
        }
      ]
    },
    {
      "cell_type": "code",
      "metadata": {
        "colab": {
          "base_uri": "https://localhost:8080/"
        },
        "id": "Qy7dA4uOcAmD",
        "outputId": "ac188f23-fa5e-4848-fea3-a0878fd6f818"
      },
      "source": [
        "stop_words.extend(['.'])\n",
        "len(stop_words)"
      ],
      "execution_count": 19,
      "outputs": [
        {
          "output_type": "execute_result",
          "data": {
            "text/plain": [
              "180"
            ]
          },
          "metadata": {
            "tags": []
          },
          "execution_count": 19
        }
      ]
    },
    {
      "cell_type": "code",
      "metadata": {
        "colab": {
          "base_uri": "https://localhost:8080/"
        },
        "id": "SFUaFABjcFuh",
        "outputId": "ba7be82b-8947-4f46-e4fe-1b9577aa70e0"
      },
      "source": [
        "for tok in tok_words:\n",
        "  # print(tok)\n",
        "  if tok not in stop_words:\n",
        "     print(tok)"
      ],
      "execution_count": 24,
      "outputs": [
        {
          "output_type": "stream",
          "text": [
            "A\n",
            "barber\n",
            "person\n",
            "barber\n",
            "good\n",
            "person\n",
            "barber\n",
            "huge\n",
            "person\n",
            "Knew\n",
            "A\n",
            "Secret\n",
            "!\n",
            "The\n",
            "Secret\n",
            "He\n",
            "Kept\n",
            "huge\n",
            "secret\n",
            "Huge\n",
            "secret\n",
            "His\n",
            "barber\n",
            "kept\n",
            "word\n",
            "barber\n",
            "kept\n",
            "word\n",
            "His\n",
            "barber\n",
            "kept\n",
            "secret\n",
            "But\n",
            "keeping\n",
            "keeping\n",
            "huge\n",
            "secret\n",
            "driving\n",
            "barber\n",
            "crazy\n",
            "barber\n",
            "went\n",
            "huge\n",
            "mountain\n"
          ],
          "name": "stdout"
        }
      ]
    },
    {
      "cell_type": "code",
      "metadata": {
        "id": "H8oXktIjcIFT"
      },
      "source": [
        "lemm = nltk.stem.WordNetLemmatizer()"
      ],
      "execution_count": 21,
      "outputs": []
    },
    {
      "cell_type": "markdown",
      "metadata": {
        "id": "sbFHDZoNfVs5"
      },
      "source": [
        "센텐스(변수) 담기"
      ]
    },
    {
      "cell_type": "code",
      "metadata": {
        "colab": {
          "base_uri": "https://localhost:8080/"
        },
        "id": "U0a0ELhfcLJq",
        "outputId": "5f5273a3-cd5a-426a-aff9-1647722d7ca2"
      },
      "source": [
        "sentence = list()\n",
        "\n",
        "for tok in tok_words:\n",
        "  # print(tok,',', lemm.lemmatize(tok))\n",
        "  sentence.append(lemm. lemmatize(tok))\n",
        "\n",
        "print(sentence)"
      ],
      "execution_count": 26,
      "outputs": [
        {
          "output_type": "stream",
          "text": [
            "['A', 'barber', 'is', 'a', 'person', '.', 'a', 'barber', 'is', 'good', 'person', '.', 'a', 'barber', 'is', 'huge', 'person', '.', 'he', 'Knew', 'A', 'Secret', '!', 'The', 'Secret', 'He', 'Kept', 'is', 'huge', 'secret', '.', 'Huge', 'secret', '.', 'His', 'barber', 'kept', 'his', 'word', '.', 'a', 'barber', 'kept', 'his', 'word', '.', 'His', 'barber', 'kept', 'his', 'secret', '.', 'But', 'keeping', 'and', 'keeping', 'such', 'a', 'huge', 'secret', 'to', 'himself', 'wa', 'driving', 'the', 'barber', 'crazy', '.', 'the', 'barber', 'went', 'up', 'a', 'huge', 'mountain', '.']\n"
          ],
          "name": "stdout"
        }
      ]
    },
    {
      "cell_type": "markdown",
      "metadata": {
        "id": "Jo8Ktw19gdDo"
      },
      "source": [
        "### 사전만들기 작업 "
      ]
    },
    {
      "cell_type": "code",
      "metadata": {
        "id": "GpcUcp1RcQSH"
      },
      "source": [
        "import tensorflow as tf"
      ],
      "execution_count": 27,
      "outputs": []
    },
    {
      "cell_type": "code",
      "metadata": {
        "colab": {
          "base_uri": "https://localhost:8080/"
        },
        "id": "m0M11EzZgsL6",
        "outputId": "9521c4cb-ff77-4b76-a3da-cb332b99613a"
      },
      "source": [
        "tokenizer = tf.keras.preprocessing.text.Tokenizer()\n",
        "tokenizer"
      ],
      "execution_count": 28,
      "outputs": [
        {
          "output_type": "execute_result",
          "data": {
            "text/plain": [
              "<keras_preprocessing.text.Tokenizer at 0x7fd087e71990>"
            ]
          },
          "metadata": {
            "tags": []
          },
          "execution_count": 28
        }
      ]
    },
    {
      "cell_type": "code",
      "metadata": {
        "id": "7_JlF0WPhBMn"
      },
      "source": [
        "tokenizer.fit_on_texts(sentence)"
      ],
      "execution_count": 29,
      "outputs": []
    },
    {
      "cell_type": "code",
      "metadata": {
        "colab": {
          "base_uri": "https://localhost:8080/"
        },
        "id": "C9IQlhFKhjz9",
        "outputId": "0a464d74-068a-448d-8de1-9fcaa605b4e8"
      },
      "source": [
        "print(tokenizer.word_index)"
      ],
      "execution_count": 31,
      "outputs": [
        {
          "output_type": "stream",
          "text": [
            "{'a': 1, 'barber': 2, 'secret': 3, 'huge': 4, 'his': 5, 'is': 6, 'kept': 7, 'person': 8, 'the': 9, 'he': 10, 'word': 11, 'keeping': 12, 'good': 13, 'knew': 14, 'but': 15, 'and': 16, 'such': 17, 'to': 18, 'himself': 19, 'wa': 20, 'driving': 21, 'crazy': 22, 'went': 23, 'up': 24, 'mountain': 25}\n"
          ],
          "name": "stdout"
        }
      ]
    },
    {
      "cell_type": "code",
      "metadata": {
        "colab": {
          "base_uri": "https://localhost:8080/"
        },
        "id": "wLXKr3u1hnQH",
        "outputId": "a57f9d91-f673-43cd-d4ce-2573bc395d41"
      },
      "source": [
        "print(tokenizer.word_counts)"
      ],
      "execution_count": 32,
      "outputs": [
        {
          "output_type": "stream",
          "text": [
            "OrderedDict([('a', 8), ('barber', 8), ('is', 4), ('person', 3), ('good', 1), ('huge', 5), ('he', 2), ('knew', 1), ('secret', 6), ('the', 3), ('kept', 4), ('his', 5), ('word', 2), ('but', 1), ('keeping', 2), ('and', 1), ('such', 1), ('to', 1), ('himself', 1), ('wa', 1), ('driving', 1), ('crazy', 1), ('went', 1), ('up', 1), ('mountain', 1)])\n"
          ],
          "name": "stdout"
        }
      ]
    },
    {
      "cell_type": "markdown",
      "metadata": {
        "id": "IDD47omNiLJm"
      },
      "source": [
        "### 사전기반 사용"
      ]
    },
    {
      "cell_type": "code",
      "metadata": {
        "colab": {
          "base_uri": "https://localhost:8080/"
        },
        "id": "sCTrSnl-iEUx",
        "outputId": "36d98eb6-9c7e-4c45-f1e8-977f81cabc0a"
      },
      "source": [
        "seq = tokenizer.texts_to_sequences(sentence)\n",
        "print(seq)"
      ],
      "execution_count": 37,
      "outputs": [
        {
          "output_type": "stream",
          "text": [
            "[[1], [2], [6], [1], [8], [], [1], [2], [6], [13], [8], [], [1], [2], [6], [4], [8], [], [10], [14], [1], [3], [], [9], [3], [10], [7], [6], [4], [3], [], [4], [3], [], [5], [2], [7], [5], [11], [], [1], [2], [7], [5], [11], [], [5], [2], [7], [5], [3], [], [15], [12], [16], [12], [17], [1], [4], [3], [18], [19], [20], [21], [9], [2], [22], [], [9], [2], [23], [24], [1], [4], [25], []]\n"
          ],
          "name": "stdout"
        }
      ]
    },
    {
      "cell_type": "code",
      "metadata": {
        "id": "WrGnR8qRicJE"
      },
      "source": [
        ""
      ],
      "execution_count": null,
      "outputs": []
    }
  ]
}