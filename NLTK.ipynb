{
  "nbformat": 4,
  "nbformat_minor": 0,
  "metadata": {
    "colab": {
      "name": "NLTK.ipynb",
      "provenance": [],
      "collapsed_sections": [],
      "authorship_tag": "ABX9TyOCfkm5zcyGkV6Nd5Wn+Bcq",
      "include_colab_link": true
    },
    "kernelspec": {
      "name": "python3",
      "display_name": "Python 3"
    },
    "language_info": {
      "name": "python"
    }
  },
  "cells": [
    {
      "cell_type": "markdown",
      "metadata": {
        "id": "view-in-github",
        "colab_type": "text"
      },
      "source": [
        "<a href=\"https://colab.research.google.com/github/ginttone/multi_deeplearning/blob/master/NLTK.ipynb\" target=\"_parent\"><img src=\"https://colab.research.google.com/assets/colab-badge.svg\" alt=\"Open In Colab\"/></a>"
      ]
    },
    {
      "cell_type": "markdown",
      "metadata": {
        "id": "vzF7u9rLJJLl"
      },
      "source": [
        "# 데이터 전처리 = 토큰화 \n",
        "\n",
        "문장을 단위로 쪼개서 사용한다(확률사용하려고)\n",
        "\n",
        "문장 단위로 쪼개기 `->` 필요없는 자료 삭제 `->` 사전 `->` 사전기반 숫자화"
      ]
    },
    {
      "cell_type": "code",
      "metadata": {
        "id": "Sqpn46DHIyXR"
      },
      "source": [
        "example = \"Family is not an important thing. It's everything. He has large house \""
      ],
      "execution_count": 1,
      "outputs": []
    },
    {
      "cell_type": "code",
      "metadata": {
        "colab": {
          "base_uri": "https://localhost:8080/"
        },
        "id": "hadNcfbgSzeM",
        "outputId": "73e26d12-45b4-4b6a-b4a1-b4d19b611eb3"
      },
      "source": [
        "import nltk \n",
        "# nltk.download('punkt')"
      ],
      "execution_count": 2,
      "outputs": [
        {
          "output_type": "stream",
          "text": [
            "[nltk_data] Downloading package punkt to /root/nltk_data...\n",
            "[nltk_data]   Package punkt is already up-to-date!\n"
          ],
          "name": "stdout"
        },
        {
          "output_type": "execute_result",
          "data": {
            "text/plain": [
              "True"
            ]
          },
          "metadata": {
            "tags": []
          },
          "execution_count": 2
        }
      ]
    },
    {
      "cell_type": "code",
      "metadata": {
        "colab": {
          "base_uri": "https://localhost:8080/"
        },
        "id": "yTMOBMACTGgp",
        "outputId": "0d926c37-5cd7-4583-8b6f-31017dabf02a"
      },
      "source": [
        "tok_words = nltk.tokenize.word_tokenize(example)\n",
        "print(tok_words)"
      ],
      "execution_count": 3,
      "outputs": [
        {
          "output_type": "stream",
          "text": [
            "['Family', 'is', 'not', 'an', 'important', 'thing', '.', 'It', \"'s\", 'everything', '.', 'He', 'has', 'large', 'house']\n"
          ],
          "name": "stdout"
        }
      ]
    },
    {
      "cell_type": "markdown",
      "metadata": {
        "id": "A3E3oRkHWRgP"
      },
      "source": [
        "## 불용어 처리 stopwords"
      ]
    },
    {
      "cell_type": "code",
      "metadata": {
        "colab": {
          "base_uri": "https://localhost:8080/"
        },
        "id": "Jktwvw6sVycd",
        "outputId": "9ae2f2a7-ff5d-476b-fa54-0197b79a8771"
      },
      "source": [
        "# nltk.download('stopwords')"
      ],
      "execution_count": 4,
      "outputs": [
        {
          "output_type": "stream",
          "text": [
            "[nltk_data] Downloading package stopwords to /root/nltk_data...\n",
            "[nltk_data]   Package stopwords is already up-to-date!\n"
          ],
          "name": "stdout"
        },
        {
          "output_type": "execute_result",
          "data": {
            "text/plain": [
              "True"
            ]
          },
          "metadata": {
            "tags": []
          },
          "execution_count": 4
        }
      ]
    },
    {
      "cell_type": "code",
      "metadata": {
        "colab": {
          "base_uri": "https://localhost:8080/"
        },
        "id": "oLaaEIvnTTep",
        "outputId": "a28562e8-2d7c-452a-b2e8-21f4f652de35"
      },
      "source": [
        "stop_words = nltk.corpus.stopwords.words('english')\n",
        "len(stop_words)"
      ],
      "execution_count": 5,
      "outputs": [
        {
          "output_type": "execute_result",
          "data": {
            "text/plain": [
              "179"
            ]
          },
          "metadata": {
            "tags": []
          },
          "execution_count": 5
        }
      ]
    },
    {
      "cell_type": "markdown",
      "metadata": {
        "id": "xzwnKfwWYIJr"
      },
      "source": [
        "불용어에 내가 빼고 싶어하는 원하는 것 넣기 "
      ]
    },
    {
      "cell_type": "code",
      "metadata": {
        "colab": {
          "base_uri": "https://localhost:8080/"
        },
        "id": "CiYegI4jYH1j",
        "outputId": "6be3b8bd-9b19-4cd7-f5b9-207138cff648"
      },
      "source": [
        "stop_words.extend(['.'])\n",
        "len(stop_words)"
      ],
      "execution_count": 6,
      "outputs": [
        {
          "output_type": "execute_result",
          "data": {
            "text/plain": [
              "180"
            ]
          },
          "metadata": {
            "tags": []
          },
          "execution_count": 6
        }
      ]
    },
    {
      "cell_type": "markdown",
      "metadata": {
        "id": "7Tv-M3x6Y4Nz"
      },
      "source": [
        "불용어 중복으로 들어갓을 때 해결"
      ]
    },
    {
      "cell_type": "code",
      "metadata": {
        "colab": {
          "base_uri": "https://localhost:8080/"
        },
        "id": "ReIdwglYY23r",
        "outputId": "d7fd3dc3-be40-47bf-e014-8ea0e7a1ad6e"
      },
      "source": [
        "stop_words = set(stop_words)\n",
        "len(stop_words)"
      ],
      "execution_count": 7,
      "outputs": [
        {
          "output_type": "execute_result",
          "data": {
            "text/plain": [
              "180"
            ]
          },
          "metadata": {
            "tags": []
          },
          "execution_count": 7
        }
      ]
    },
    {
      "cell_type": "markdown",
      "metadata": {
        "id": "2CWV3NplX89y"
      },
      "source": [
        "for문 돌려서 stop_words안에 is, not, an, has (불용어) 있어서 삭제해 표준화 시킨다."
      ]
    },
    {
      "cell_type": "code",
      "metadata": {
        "colab": {
          "base_uri": "https://localhost:8080/"
        },
        "id": "zENqWWxgUYkM",
        "outputId": "8bb361b5-31c6-4129-e97a-fb8b8a2e8fa1"
      },
      "source": [
        "for tok in tok_words:\n",
        "  # print(tok)\n",
        "  if tok not in stop_words:\n",
        "    print(tok)"
      ],
      "execution_count": 8,
      "outputs": [
        {
          "output_type": "stream",
          "text": [
            "Family\n",
            "important\n",
            "thing\n",
            "It\n",
            "'s\n",
            "everything\n",
            "He\n",
            "large\n",
            "house\n"
          ],
          "name": "stdout"
        }
      ]
    },
    {
      "cell_type": "markdown",
      "metadata": {
        "id": "9Q_7uiISaHfa"
      },
      "source": [
        "## Lemmatize\n",
        "\n",
        "tok 값의 원형 찾기"
      ]
    },
    {
      "cell_type": "code",
      "metadata": {
        "colab": {
          "base_uri": "https://localhost:8080/"
        },
        "id": "63Rofhnda1gE",
        "outputId": "3b15fcd3-c823-4b22-b529-13fc73a5cac1"
      },
      "source": [
        "#  nltk.download('wordnet')"
      ],
      "execution_count": 11,
      "outputs": [
        {
          "output_type": "stream",
          "text": [
            "[nltk_data] Downloading package wordnet to /root/nltk_data...\n",
            "[nltk_data]   Unzipping corpora/wordnet.zip.\n"
          ],
          "name": "stdout"
        },
        {
          "output_type": "execute_result",
          "data": {
            "text/plain": [
              "True"
            ]
          },
          "metadata": {
            "tags": []
          },
          "execution_count": 11
        }
      ]
    },
    {
      "cell_type": "code",
      "metadata": {
        "id": "3hFL1wfpXQHL"
      },
      "source": [
        "lemm = nltk.stem.WordNetLemmatizer()"
      ],
      "execution_count": 12,
      "outputs": []
    },
    {
      "cell_type": "code",
      "metadata": {
        "colab": {
          "base_uri": "https://localhost:8080/"
        },
        "id": "ruk5FRhmaKJH",
        "outputId": "5bbf5501-c517-4e2c-b409-7d3ce99106d9"
      },
      "source": [
        "for tok in tok_words:\n",
        "  print(tok,',', lemm.lemmatize(tok))"
      ],
      "execution_count": 13,
      "outputs": [
        {
          "output_type": "stream",
          "text": [
            "Family , Family\n",
            "is , is\n",
            "not , not\n",
            "an , an\n",
            "important , important\n",
            "thing , thing\n",
            ". , .\n",
            "It , It\n",
            "'s , 's\n",
            "everything , everything\n",
            ". , .\n",
            "He , He\n",
            "has , ha\n",
            "large , large\n",
            "house , house\n"
          ],
          "name": "stdout"
        }
      ]
    },
    {
      "cell_type": "markdown",
      "metadata": {
        "id": "RlI5U_ZobTDd"
      },
      "source": [
        "likes 의 원형 like 를 찾아주었다."
      ]
    },
    {
      "cell_type": "code",
      "metadata": {
        "colab": {
          "base_uri": "https://localhost:8080/",
          "height": 35
        },
        "id": "bFdjU3nlaxWs",
        "outputId": "8894bbf0-ad17-4959-90f6-b3e9aa3955ee"
      },
      "source": [
        "lemm.lemmatize('likes')"
      ],
      "execution_count": 15,
      "outputs": [
        {
          "output_type": "execute_result",
          "data": {
            "application/vnd.google.colaboratory.intrinsic+json": {
              "type": "string"
            },
            "text/plain": [
              "'like'"
            ]
          },
          "metadata": {
            "tags": []
          },
          "execution_count": 15
        }
      ]
    },
    {
      "cell_type": "markdown",
      "metadata": {
        "id": "O_fW-JXHbedQ"
      },
      "source": [
        "# Dictionary 찾기\n"
      ]
    },
    {
      "cell_type": "code",
      "metadata": {
        "id": "lC-5iJ19bNMJ"
      },
      "source": [
        "example2 = \"A barber is a person. a barber is good person. a barber is huge person. he Knew A Secret! The Secret He Kept is huge secret. Huge secret. His barber kept his word. a barber kept his word. His barber kept his secret. But keeping and keeping such a huge secret to himself was driving the barber crazy. the barber went up a huge mountain.\""
      ],
      "execution_count": 16,
      "outputs": []
    },
    {
      "cell_type": "code",
      "metadata": {
        "colab": {
          "base_uri": "https://localhost:8080/"
        },
        "id": "yrRg-uqrb3yk",
        "outputId": "885b7e9e-1494-4ec5-fd3c-94b88fada2e3"
      },
      "source": [
        "tok_words = nltk.tokenize.word_tokenize(example2)\n",
        "print(tok_words)"
      ],
      "execution_count": 17,
      "outputs": [
        {
          "output_type": "stream",
          "text": [
            "['A', 'barber', 'is', 'a', 'person', '.', 'a', 'barber', 'is', 'good', 'person', '.', 'a', 'barber', 'is', 'huge', 'person', '.', 'he', 'Knew', 'A', 'Secret', '!', 'The', 'Secret', 'He', 'Kept', 'is', 'huge', 'secret', '.', 'Huge', 'secret', '.', 'His', 'barber', 'kept', 'his', 'word', '.', 'a', 'barber', 'kept', 'his', 'word', '.', 'His', 'barber', 'kept', 'his', 'secret', '.', 'But', 'keeping', 'and', 'keeping', 'such', 'a', 'huge', 'secret', 'to', 'himself', 'was', 'driving', 'the', 'barber', 'crazy', '.', 'the', 'barber', 'went', 'up', 'a', 'huge', 'mountain', '.']\n"
          ],
          "name": "stdout"
        }
      ]
    },
    {
      "cell_type": "code",
      "metadata": {
        "colab": {
          "base_uri": "https://localhost:8080/"
        },
        "id": "pfDTBTYYb9LK",
        "outputId": "643e6db0-c0ef-49c2-e3be-cb626a8d5ae8"
      },
      "source": [
        "stop_words = nltk.corpus.stopwords.words('english')\n",
        "len(stop_words)"
      ],
      "execution_count": 18,
      "outputs": [
        {
          "output_type": "execute_result",
          "data": {
            "text/plain": [
              "179"
            ]
          },
          "metadata": {
            "tags": []
          },
          "execution_count": 18
        }
      ]
    },
    {
      "cell_type": "code",
      "metadata": {
        "colab": {
          "base_uri": "https://localhost:8080/"
        },
        "id": "Qy7dA4uOcAmD",
        "outputId": "ac188f23-fa5e-4848-fea3-a0878fd6f818"
      },
      "source": [
        "stop_words.extend(['.'])\n",
        "len(stop_words)"
      ],
      "execution_count": 19,
      "outputs": [
        {
          "output_type": "execute_result",
          "data": {
            "text/plain": [
              "180"
            ]
          },
          "metadata": {
            "tags": []
          },
          "execution_count": 19
        }
      ]
    },
    {
      "cell_type": "code",
      "metadata": {
        "colab": {
          "base_uri": "https://localhost:8080/"
        },
        "id": "SFUaFABjcFuh",
        "outputId": "ae35ca4c-e274-495d-9eff-eeb5a3ef797e"
      },
      "source": [
        "for tok in tok_words:\n",
        "  # print(tok)\n",
        "  if tok not in stop_words:\n",
        "    print(tok)"
      ],
      "execution_count": 20,
      "outputs": [
        {
          "output_type": "stream",
          "text": [
            "A\n",
            "barber\n",
            "person\n",
            "barber\n",
            "good\n",
            "person\n",
            "barber\n",
            "huge\n",
            "person\n",
            "Knew\n",
            "A\n",
            "Secret\n",
            "!\n",
            "The\n",
            "Secret\n",
            "He\n",
            "Kept\n",
            "huge\n",
            "secret\n",
            "Huge\n",
            "secret\n",
            "His\n",
            "barber\n",
            "kept\n",
            "word\n",
            "barber\n",
            "kept\n",
            "word\n",
            "His\n",
            "barber\n",
            "kept\n",
            "secret\n",
            "But\n",
            "keeping\n",
            "keeping\n",
            "huge\n",
            "secret\n",
            "driving\n",
            "barber\n",
            "crazy\n",
            "barber\n",
            "went\n",
            "huge\n",
            "mountain\n"
          ],
          "name": "stdout"
        }
      ]
    },
    {
      "cell_type": "code",
      "metadata": {
        "id": "H8oXktIjcIFT"
      },
      "source": [
        "lemm = nltk.stem.WordNetLemmatizer()"
      ],
      "execution_count": 21,
      "outputs": []
    },
    {
      "cell_type": "code",
      "metadata": {
        "colab": {
          "base_uri": "https://localhost:8080/"
        },
        "id": "U0a0ELhfcLJq",
        "outputId": "40d901ca-7168-4009-c6cc-4b2a3edc8099"
      },
      "source": [
        "for tok in tok_words:\n",
        "  print(tok,',', lemm.lemmatize(tok))"
      ],
      "execution_count": 22,
      "outputs": [
        {
          "output_type": "stream",
          "text": [
            "A , A\n",
            "barber , barber\n",
            "is , is\n",
            "a , a\n",
            "person , person\n",
            ". , .\n",
            "a , a\n",
            "barber , barber\n",
            "is , is\n",
            "good , good\n",
            "person , person\n",
            ". , .\n",
            "a , a\n",
            "barber , barber\n",
            "is , is\n",
            "huge , huge\n",
            "person , person\n",
            ". , .\n",
            "he , he\n",
            "Knew , Knew\n",
            "A , A\n",
            "Secret , Secret\n",
            "! , !\n",
            "The , The\n",
            "Secret , Secret\n",
            "He , He\n",
            "Kept , Kept\n",
            "is , is\n",
            "huge , huge\n",
            "secret , secret\n",
            ". , .\n",
            "Huge , Huge\n",
            "secret , secret\n",
            ". , .\n",
            "His , His\n",
            "barber , barber\n",
            "kept , kept\n",
            "his , his\n",
            "word , word\n",
            ". , .\n",
            "a , a\n",
            "barber , barber\n",
            "kept , kept\n",
            "his , his\n",
            "word , word\n",
            ". , .\n",
            "His , His\n",
            "barber , barber\n",
            "kept , kept\n",
            "his , his\n",
            "secret , secret\n",
            ". , .\n",
            "But , But\n",
            "keeping , keeping\n",
            "and , and\n",
            "keeping , keeping\n",
            "such , such\n",
            "a , a\n",
            "huge , huge\n",
            "secret , secret\n",
            "to , to\n",
            "himself , himself\n",
            "was , wa\n",
            "driving , driving\n",
            "the , the\n",
            "barber , barber\n",
            "crazy , crazy\n",
            ". , .\n",
            "the , the\n",
            "barber , barber\n",
            "went , went\n",
            "up , up\n",
            "a , a\n",
            "huge , huge\n",
            "mountain , mountain\n",
            ". , .\n"
          ],
          "name": "stdout"
        }
      ]
    },
    {
      "cell_type": "code",
      "metadata": {
        "id": "GpcUcp1RcQSH"
      },
      "source": [
        ""
      ],
      "execution_count": null,
      "outputs": []
    }
  ]
}