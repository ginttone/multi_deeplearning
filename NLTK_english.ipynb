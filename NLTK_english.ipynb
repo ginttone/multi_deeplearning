{
  "nbformat": 4,
  "nbformat_minor": 0,
  "metadata": {
    "colab": {
      "name": "NLTK_english.ipynb",
      "provenance": [],
      "mount_file_id": "1foCLJDVDZvZ2joDqeqUgN48UBzNYrSFt",
      "authorship_tag": "ABX9TyML1j6ZktB7ZI/AU7+aiRKV",
      "include_colab_link": true
    },
    "kernelspec": {
      "name": "python3",
      "display_name": "Python 3"
    },
    "language_info": {
      "name": "python"
    }
  },
  "cells": [
    {
      "cell_type": "markdown",
      "metadata": {
        "id": "view-in-github",
        "colab_type": "text"
      },
      "source": [
        "<a href=\"https://colab.research.google.com/github/ginttone/multi_deeplearning/blob/master/NLTK_english.ipynb\" target=\"_parent\"><img src=\"https://colab.research.google.com/assets/colab-badge.svg\" alt=\"Open In Colab\"/></a>"
      ]
    },
    {
      "cell_type": "markdown",
      "metadata": {
        "id": "vFVeE7pq4g-d"
      },
      "source": [
        "# 구글 드라이버에 저장한 파일을 코렙에 불러오기"
      ]
    },
    {
      "cell_type": "code",
      "metadata": {
        "id": "yueXivxA2Qlg"
      },
      "source": [
        "import pandas as pd"
      ],
      "execution_count": 8,
      "outputs": []
    },
    {
      "cell_type": "code",
      "metadata": {
        "colab": {
          "base_uri": "https://localhost:8080/"
        },
        "id": "agvtRLb25vXI",
        "outputId": "8f78cbe1-5f9c-4149-fb3b-7afffb49d340"
      },
      "source": [
        "! ls ./drive/MyDrive/Multi_test_deeplearning/CEO3.csv"
      ],
      "execution_count": 9,
      "outputs": [
        {
          "output_type": "stream",
          "text": [
            "./drive/MyDrive/Multi_test_deeplearning/CEO3.csv\n"
          ],
          "name": "stdout"
        }
      ]
    },
    {
      "cell_type": "code",
      "metadata": {
        "id": "asCUKT5e3jzH"
      },
      "source": [
        "df = pd.read_csv('./drive/MyDrive/Multi_test_deeplearning/CEO3.csv', encoding='latin')"
      ],
      "execution_count": 10,
      "outputs": []
    },
    {
      "cell_type": "code",
      "metadata": {
        "colab": {
          "base_uri": "https://localhost:8080/",
          "height": 538
        },
        "id": "MAhtkedKEU9_",
        "outputId": "3971c65c-a50d-442a-f349-0c91b02cee38"
      },
      "source": [
        "df.head(5)"
      ],
      "execution_count": 17,
      "outputs": [
        {
          "output_type": "execute_result",
          "data": {
            "text/html": [
              "<div>\n",
              "<style scoped>\n",
              "    .dataframe tbody tr th:only-of-type {\n",
              "        vertical-align: middle;\n",
              "    }\n",
              "\n",
              "    .dataframe tbody tr th {\n",
              "        vertical-align: top;\n",
              "    }\n",
              "\n",
              "    .dataframe thead th {\n",
              "        text-align: right;\n",
              "    }\n",
              "</style>\n",
              "<table border=\"1\" class=\"dataframe\">\n",
              "  <thead>\n",
              "    <tr style=\"text-align: right;\">\n",
              "      <th></th>\n",
              "      <th>number</th>\n",
              "      <th>firm</th>\n",
              "      <th>publishing</th>\n",
              "      <th>country</th>\n",
              "      <th>text</th>\n",
              "      <th>Unnamed: 5</th>\n",
              "      <th>Unnamed: 6</th>\n",
              "      <th>Unnamed: 7</th>\n",
              "      <th>Unnamed: 8</th>\n",
              "      <th>Unnamed: 9</th>\n",
              "      <th>Unnamed: 10</th>\n",
              "      <th>Unnamed: 11</th>\n",
              "      <th>Unnamed: 12</th>\n",
              "      <th>Unnamed: 13</th>\n",
              "      <th>Unnamed: 14</th>\n",
              "      <th>Unnamed: 15</th>\n",
              "      <th>Unnamed: 16</th>\n",
              "      <th>Unnamed: 17</th>\n",
              "      <th>Unnamed: 18</th>\n",
              "      <th>Unnamed: 19</th>\n",
              "      <th>Unnamed: 20</th>\n",
              "      <th>Unnamed: 21</th>\n",
              "      <th>Unnamed: 22</th>\n",
              "      <th>Unnamed: 23</th>\n",
              "      <th>Unnamed: 24</th>\n",
              "      <th>Unnamed: 25</th>\n",
              "      <th>Unnamed: 26</th>\n",
              "      <th>Unnamed: 27</th>\n",
              "      <th>Unnamed: 28</th>\n",
              "      <th>Unnamed: 29</th>\n",
              "      <th>Unnamed: 30</th>\n",
              "      <th>Unnamed: 31</th>\n",
              "      <th>Unnamed: 32</th>\n",
              "      <th>Unnamed: 33</th>\n",
              "      <th>Unnamed: 34</th>\n",
              "      <th>Unnamed: 35</th>\n",
              "      <th>Unnamed: 36</th>\n",
              "      <th>Unnamed: 37</th>\n",
              "      <th>Unnamed: 38</th>\n",
              "      <th>Unnamed: 39</th>\n",
              "      <th>...</th>\n",
              "      <th>Unnamed: 420</th>\n",
              "      <th>Unnamed: 421</th>\n",
              "      <th>Unnamed: 422</th>\n",
              "      <th>Unnamed: 423</th>\n",
              "      <th>Unnamed: 424</th>\n",
              "      <th>Unnamed: 425</th>\n",
              "      <th>Unnamed: 426</th>\n",
              "      <th>Unnamed: 427</th>\n",
              "      <th>Unnamed: 428</th>\n",
              "      <th>Unnamed: 429</th>\n",
              "      <th>Unnamed: 430</th>\n",
              "      <th>Unnamed: 431</th>\n",
              "      <th>Unnamed: 432</th>\n",
              "      <th>Unnamed: 433</th>\n",
              "      <th>Unnamed: 434</th>\n",
              "      <th>Unnamed: 435</th>\n",
              "      <th>Unnamed: 436</th>\n",
              "      <th>Unnamed: 437</th>\n",
              "      <th>Unnamed: 438</th>\n",
              "      <th>Unnamed: 439</th>\n",
              "      <th>Unnamed: 440</th>\n",
              "      <th>Unnamed: 441</th>\n",
              "      <th>Unnamed: 442</th>\n",
              "      <th>Unnamed: 443</th>\n",
              "      <th>Unnamed: 444</th>\n",
              "      <th>Unnamed: 445</th>\n",
              "      <th>Unnamed: 446</th>\n",
              "      <th>Unnamed: 447</th>\n",
              "      <th>Unnamed: 448</th>\n",
              "      <th>Unnamed: 449</th>\n",
              "      <th>Unnamed: 450</th>\n",
              "      <th>Unnamed: 451</th>\n",
              "      <th>Unnamed: 452</th>\n",
              "      <th>Unnamed: 453</th>\n",
              "      <th>Unnamed: 454</th>\n",
              "      <th>Unnamed: 455</th>\n",
              "      <th>Unnamed: 456</th>\n",
              "      <th>Unnamed: 457</th>\n",
              "      <th>Unnamed: 458</th>\n",
              "      <th>Unnamed: 459</th>\n",
              "    </tr>\n",
              "  </thead>\n",
              "  <tbody>\n",
              "    <tr>\n",
              "      <th>0</th>\n",
              "      <td>2</td>\n",
              "      <td>Amorepacific</td>\n",
              "      <td>1</td>\n",
              "      <td>Korea</td>\n",
              "      <td>We will use beauty to change the world and bec...</td>\n",
              "      <td>NaN</td>\n",
              "      <td>NaN</td>\n",
              "      <td>NaN</td>\n",
              "      <td>NaN</td>\n",
              "      <td>NaN</td>\n",
              "      <td>NaN</td>\n",
              "      <td>NaN</td>\n",
              "      <td>NaN</td>\n",
              "      <td>NaN</td>\n",
              "      <td>NaN</td>\n",
              "      <td>NaN</td>\n",
              "      <td>NaN</td>\n",
              "      <td>NaN</td>\n",
              "      <td>NaN</td>\n",
              "      <td>NaN</td>\n",
              "      <td>NaN</td>\n",
              "      <td>NaN</td>\n",
              "      <td>NaN</td>\n",
              "      <td>NaN</td>\n",
              "      <td>NaN</td>\n",
              "      <td>NaN</td>\n",
              "      <td>NaN</td>\n",
              "      <td>NaN</td>\n",
              "      <td>NaN</td>\n",
              "      <td>NaN</td>\n",
              "      <td>NaN</td>\n",
              "      <td>NaN</td>\n",
              "      <td>NaN</td>\n",
              "      <td>NaN</td>\n",
              "      <td>NaN</td>\n",
              "      <td>NaN</td>\n",
              "      <td>NaN</td>\n",
              "      <td>NaN</td>\n",
              "      <td>NaN</td>\n",
              "      <td>NaN</td>\n",
              "      <td>...</td>\n",
              "      <td>NaN</td>\n",
              "      <td>NaN</td>\n",
              "      <td>NaN</td>\n",
              "      <td>NaN</td>\n",
              "      <td>NaN</td>\n",
              "      <td>NaN</td>\n",
              "      <td>NaN</td>\n",
              "      <td>NaN</td>\n",
              "      <td>NaN</td>\n",
              "      <td>NaN</td>\n",
              "      <td>NaN</td>\n",
              "      <td>NaN</td>\n",
              "      <td>NaN</td>\n",
              "      <td>NaN</td>\n",
              "      <td>NaN</td>\n",
              "      <td>NaN</td>\n",
              "      <td>NaN</td>\n",
              "      <td>NaN</td>\n",
              "      <td>NaN</td>\n",
              "      <td>NaN</td>\n",
              "      <td>NaN</td>\n",
              "      <td>NaN</td>\n",
              "      <td>NaN</td>\n",
              "      <td>NaN</td>\n",
              "      <td>NaN</td>\n",
              "      <td>NaN</td>\n",
              "      <td>NaN</td>\n",
              "      <td>NaN</td>\n",
              "      <td>NaN</td>\n",
              "      <td>NaN</td>\n",
              "      <td>NaN</td>\n",
              "      <td>NaN</td>\n",
              "      <td>NaN</td>\n",
              "      <td>NaN</td>\n",
              "      <td>NaN</td>\n",
              "      <td>NaN</td>\n",
              "      <td>NaN</td>\n",
              "      <td>NaN</td>\n",
              "      <td>NaN</td>\n",
              "      <td>NaN</td>\n",
              "    </tr>\n",
              "    <tr>\n",
              "      <th>1</th>\n",
              "      <td>4</td>\n",
              "      <td>Amorepacific</td>\n",
              "      <td>3</td>\n",
              "      <td>Korea</td>\n",
              "      <td>AMOREPACIFC Group will endeavor to become a gr...</td>\n",
              "      <td>NaN</td>\n",
              "      <td>NaN</td>\n",
              "      <td>NaN</td>\n",
              "      <td>NaN</td>\n",
              "      <td>NaN</td>\n",
              "      <td>NaN</td>\n",
              "      <td>NaN</td>\n",
              "      <td>NaN</td>\n",
              "      <td>NaN</td>\n",
              "      <td>NaN</td>\n",
              "      <td>NaN</td>\n",
              "      <td>NaN</td>\n",
              "      <td>NaN</td>\n",
              "      <td>NaN</td>\n",
              "      <td>NaN</td>\n",
              "      <td>NaN</td>\n",
              "      <td>NaN</td>\n",
              "      <td>NaN</td>\n",
              "      <td>NaN</td>\n",
              "      <td>NaN</td>\n",
              "      <td>NaN</td>\n",
              "      <td>NaN</td>\n",
              "      <td>NaN</td>\n",
              "      <td>NaN</td>\n",
              "      <td>NaN</td>\n",
              "      <td>NaN</td>\n",
              "      <td>NaN</td>\n",
              "      <td>NaN</td>\n",
              "      <td>NaN</td>\n",
              "      <td>NaN</td>\n",
              "      <td>NaN</td>\n",
              "      <td>NaN</td>\n",
              "      <td>NaN</td>\n",
              "      <td>NaN</td>\n",
              "      <td>NaN</td>\n",
              "      <td>...</td>\n",
              "      <td>NaN</td>\n",
              "      <td>NaN</td>\n",
              "      <td>NaN</td>\n",
              "      <td>NaN</td>\n",
              "      <td>NaN</td>\n",
              "      <td>NaN</td>\n",
              "      <td>NaN</td>\n",
              "      <td>NaN</td>\n",
              "      <td>NaN</td>\n",
              "      <td>NaN</td>\n",
              "      <td>NaN</td>\n",
              "      <td>NaN</td>\n",
              "      <td>NaN</td>\n",
              "      <td>NaN</td>\n",
              "      <td>NaN</td>\n",
              "      <td>NaN</td>\n",
              "      <td>NaN</td>\n",
              "      <td>NaN</td>\n",
              "      <td>NaN</td>\n",
              "      <td>NaN</td>\n",
              "      <td>NaN</td>\n",
              "      <td>NaN</td>\n",
              "      <td>NaN</td>\n",
              "      <td>NaN</td>\n",
              "      <td>NaN</td>\n",
              "      <td>NaN</td>\n",
              "      <td>NaN</td>\n",
              "      <td>NaN</td>\n",
              "      <td>NaN</td>\n",
              "      <td>NaN</td>\n",
              "      <td>NaN</td>\n",
              "      <td>NaN</td>\n",
              "      <td>NaN</td>\n",
              "      <td>NaN</td>\n",
              "      <td>NaN</td>\n",
              "      <td>NaN</td>\n",
              "      <td>NaN</td>\n",
              "      <td>NaN</td>\n",
              "      <td>NaN</td>\n",
              "      <td>NaN</td>\n",
              "    </tr>\n",
              "    <tr>\n",
              "      <th>2</th>\n",
              "      <td>502</td>\n",
              "      <td>Amorepacific</td>\n",
              "      <td>4</td>\n",
              "      <td>Korea</td>\n",
              "      <td>AMOREPACIFIC Group has been pursuing the path ...</td>\n",
              "      <td>NaN</td>\n",
              "      <td>NaN</td>\n",
              "      <td>NaN</td>\n",
              "      <td>NaN</td>\n",
              "      <td>NaN</td>\n",
              "      <td>NaN</td>\n",
              "      <td>NaN</td>\n",
              "      <td>NaN</td>\n",
              "      <td>NaN</td>\n",
              "      <td>NaN</td>\n",
              "      <td>NaN</td>\n",
              "      <td>NaN</td>\n",
              "      <td>NaN</td>\n",
              "      <td>NaN</td>\n",
              "      <td>NaN</td>\n",
              "      <td>NaN</td>\n",
              "      <td>NaN</td>\n",
              "      <td>NaN</td>\n",
              "      <td>NaN</td>\n",
              "      <td>NaN</td>\n",
              "      <td>NaN</td>\n",
              "      <td>NaN</td>\n",
              "      <td>NaN</td>\n",
              "      <td>NaN</td>\n",
              "      <td>NaN</td>\n",
              "      <td>NaN</td>\n",
              "      <td>NaN</td>\n",
              "      <td>NaN</td>\n",
              "      <td>NaN</td>\n",
              "      <td>NaN</td>\n",
              "      <td>NaN</td>\n",
              "      <td>NaN</td>\n",
              "      <td>NaN</td>\n",
              "      <td>NaN</td>\n",
              "      <td>NaN</td>\n",
              "      <td>...</td>\n",
              "      <td>NaN</td>\n",
              "      <td>NaN</td>\n",
              "      <td>NaN</td>\n",
              "      <td>NaN</td>\n",
              "      <td>NaN</td>\n",
              "      <td>NaN</td>\n",
              "      <td>NaN</td>\n",
              "      <td>NaN</td>\n",
              "      <td>NaN</td>\n",
              "      <td>NaN</td>\n",
              "      <td>NaN</td>\n",
              "      <td>NaN</td>\n",
              "      <td>NaN</td>\n",
              "      <td>NaN</td>\n",
              "      <td>NaN</td>\n",
              "      <td>NaN</td>\n",
              "      <td>NaN</td>\n",
              "      <td>NaN</td>\n",
              "      <td>NaN</td>\n",
              "      <td>NaN</td>\n",
              "      <td>NaN</td>\n",
              "      <td>NaN</td>\n",
              "      <td>NaN</td>\n",
              "      <td>NaN</td>\n",
              "      <td>NaN</td>\n",
              "      <td>NaN</td>\n",
              "      <td>NaN</td>\n",
              "      <td>NaN</td>\n",
              "      <td>NaN</td>\n",
              "      <td>NaN</td>\n",
              "      <td>NaN</td>\n",
              "      <td>NaN</td>\n",
              "      <td>NaN</td>\n",
              "      <td>NaN</td>\n",
              "      <td>NaN</td>\n",
              "      <td>NaN</td>\n",
              "      <td>NaN</td>\n",
              "      <td>NaN</td>\n",
              "      <td>NaN</td>\n",
              "      <td>NaN</td>\n",
              "    </tr>\n",
              "    <tr>\n",
              "      <th>3</th>\n",
              "      <td>5</td>\n",
              "      <td>Asiana Airlines</td>\n",
              "      <td>1</td>\n",
              "      <td>Korea</td>\n",
              "      <td>This year marks the 25th anniversary of the es...</td>\n",
              "      <td>NaN</td>\n",
              "      <td>NaN</td>\n",
              "      <td>NaN</td>\n",
              "      <td>NaN</td>\n",
              "      <td>NaN</td>\n",
              "      <td>NaN</td>\n",
              "      <td>NaN</td>\n",
              "      <td>NaN</td>\n",
              "      <td>NaN</td>\n",
              "      <td>NaN</td>\n",
              "      <td>NaN</td>\n",
              "      <td>NaN</td>\n",
              "      <td>NaN</td>\n",
              "      <td>NaN</td>\n",
              "      <td>NaN</td>\n",
              "      <td>NaN</td>\n",
              "      <td>NaN</td>\n",
              "      <td>NaN</td>\n",
              "      <td>NaN</td>\n",
              "      <td>NaN</td>\n",
              "      <td>NaN</td>\n",
              "      <td>NaN</td>\n",
              "      <td>NaN</td>\n",
              "      <td>NaN</td>\n",
              "      <td>NaN</td>\n",
              "      <td>NaN</td>\n",
              "      <td>NaN</td>\n",
              "      <td>NaN</td>\n",
              "      <td>NaN</td>\n",
              "      <td>NaN</td>\n",
              "      <td>NaN</td>\n",
              "      <td>NaN</td>\n",
              "      <td>NaN</td>\n",
              "      <td>NaN</td>\n",
              "      <td>NaN</td>\n",
              "      <td>...</td>\n",
              "      <td>NaN</td>\n",
              "      <td>NaN</td>\n",
              "      <td>NaN</td>\n",
              "      <td>NaN</td>\n",
              "      <td>NaN</td>\n",
              "      <td>NaN</td>\n",
              "      <td>NaN</td>\n",
              "      <td>NaN</td>\n",
              "      <td>NaN</td>\n",
              "      <td>NaN</td>\n",
              "      <td>NaN</td>\n",
              "      <td>NaN</td>\n",
              "      <td>NaN</td>\n",
              "      <td>NaN</td>\n",
              "      <td>NaN</td>\n",
              "      <td>NaN</td>\n",
              "      <td>NaN</td>\n",
              "      <td>NaN</td>\n",
              "      <td>NaN</td>\n",
              "      <td>NaN</td>\n",
              "      <td>NaN</td>\n",
              "      <td>NaN</td>\n",
              "      <td>NaN</td>\n",
              "      <td>NaN</td>\n",
              "      <td>NaN</td>\n",
              "      <td>NaN</td>\n",
              "      <td>NaN</td>\n",
              "      <td>NaN</td>\n",
              "      <td>NaN</td>\n",
              "      <td>NaN</td>\n",
              "      <td>NaN</td>\n",
              "      <td>NaN</td>\n",
              "      <td>NaN</td>\n",
              "      <td>NaN</td>\n",
              "      <td>NaN</td>\n",
              "      <td>NaN</td>\n",
              "      <td>NaN</td>\n",
              "      <td>NaN</td>\n",
              "      <td>NaN</td>\n",
              "      <td>NaN</td>\n",
              "    </tr>\n",
              "    <tr>\n",
              "      <th>4</th>\n",
              "      <td>6</td>\n",
              "      <td>Asiana Airlines</td>\n",
              "      <td>2</td>\n",
              "      <td>Korea</td>\n",
              "      <td>Since the inception, Asiana Airlines has pledg...</td>\n",
              "      <td>NaN</td>\n",
              "      <td>NaN</td>\n",
              "      <td>NaN</td>\n",
              "      <td>NaN</td>\n",
              "      <td>NaN</td>\n",
              "      <td>NaN</td>\n",
              "      <td>NaN</td>\n",
              "      <td>NaN</td>\n",
              "      <td>NaN</td>\n",
              "      <td>NaN</td>\n",
              "      <td>NaN</td>\n",
              "      <td>NaN</td>\n",
              "      <td>NaN</td>\n",
              "      <td>NaN</td>\n",
              "      <td>NaN</td>\n",
              "      <td>NaN</td>\n",
              "      <td>NaN</td>\n",
              "      <td>NaN</td>\n",
              "      <td>NaN</td>\n",
              "      <td>NaN</td>\n",
              "      <td>NaN</td>\n",
              "      <td>NaN</td>\n",
              "      <td>NaN</td>\n",
              "      <td>NaN</td>\n",
              "      <td>NaN</td>\n",
              "      <td>NaN</td>\n",
              "      <td>NaN</td>\n",
              "      <td>NaN</td>\n",
              "      <td>NaN</td>\n",
              "      <td>NaN</td>\n",
              "      <td>NaN</td>\n",
              "      <td>NaN</td>\n",
              "      <td>NaN</td>\n",
              "      <td>NaN</td>\n",
              "      <td>NaN</td>\n",
              "      <td>...</td>\n",
              "      <td>NaN</td>\n",
              "      <td>NaN</td>\n",
              "      <td>NaN</td>\n",
              "      <td>NaN</td>\n",
              "      <td>NaN</td>\n",
              "      <td>NaN</td>\n",
              "      <td>NaN</td>\n",
              "      <td>NaN</td>\n",
              "      <td>NaN</td>\n",
              "      <td>NaN</td>\n",
              "      <td>NaN</td>\n",
              "      <td>NaN</td>\n",
              "      <td>NaN</td>\n",
              "      <td>NaN</td>\n",
              "      <td>NaN</td>\n",
              "      <td>NaN</td>\n",
              "      <td>NaN</td>\n",
              "      <td>NaN</td>\n",
              "      <td>NaN</td>\n",
              "      <td>NaN</td>\n",
              "      <td>NaN</td>\n",
              "      <td>NaN</td>\n",
              "      <td>NaN</td>\n",
              "      <td>NaN</td>\n",
              "      <td>NaN</td>\n",
              "      <td>NaN</td>\n",
              "      <td>NaN</td>\n",
              "      <td>NaN</td>\n",
              "      <td>NaN</td>\n",
              "      <td>NaN</td>\n",
              "      <td>NaN</td>\n",
              "      <td>NaN</td>\n",
              "      <td>NaN</td>\n",
              "      <td>NaN</td>\n",
              "      <td>NaN</td>\n",
              "      <td>NaN</td>\n",
              "      <td>NaN</td>\n",
              "      <td>NaN</td>\n",
              "      <td>NaN</td>\n",
              "      <td>NaN</td>\n",
              "    </tr>\n",
              "  </tbody>\n",
              "</table>\n",
              "<p>5 rows × 460 columns</p>\n",
              "</div>"
            ],
            "text/plain": [
              "   number             firm  ...  Unnamed: 458 Unnamed: 459\n",
              "0       2     Amorepacific  ...           NaN          NaN\n",
              "1       4     Amorepacific  ...           NaN          NaN\n",
              "2     502     Amorepacific  ...           NaN          NaN\n",
              "3       5  Asiana Airlines  ...           NaN          NaN\n",
              "4       6  Asiana Airlines  ...           NaN          NaN\n",
              "\n",
              "[5 rows x 460 columns]"
            ]
          },
          "metadata": {
            "tags": []
          },
          "execution_count": 17
        }
      ]
    },
    {
      "cell_type": "code",
      "metadata": {
        "colab": {
          "base_uri": "https://localhost:8080/"
        },
        "id": "gxBIqWUxS612",
        "outputId": "763ffa73-4c3d-4094-c5e9-becadfb92e34"
      },
      "source": [
        "texts = df['text']\n",
        "texts[0:5]"
      ],
      "execution_count": 18,
      "outputs": [
        {
          "output_type": "execute_result",
          "data": {
            "text/plain": [
              "0    We will use beauty to change the world and bec...\n",
              "1    AMOREPACIFC Group will endeavor to become a gr...\n",
              "2    AMOREPACIFIC Group has been pursuing the path ...\n",
              "3    This year marks the 25th anniversary of the es...\n",
              "4    Since the inception, Asiana Airlines has pledg...\n",
              "Name: text, dtype: object"
            ]
          },
          "metadata": {
            "tags": []
          },
          "execution_count": 18
        }
      ]
    },
    {
      "cell_type": "code",
      "metadata": {
        "colab": {
          "base_uri": "https://localhost:8080/"
        },
        "id": "vxOsYFU3EcB5",
        "outputId": "eecd45ab-dd16-43f9-ad29-43b06a2741ca"
      },
      "source": [
        "len(texts[5]), texts[5]"
      ],
      "execution_count": 19,
      "outputs": [
        {
          "output_type": "execute_result",
          "data": {
            "text/plain": [
              "(3903,\n",
              " 'All of us will do our best without stopping for sustainable growth and development. First of all, I would like to convey my sincere appreciation to our stakeholders for continued affection and trust. In the last year, we were able to reinforce our core competency and competitiveness under  he motto of ¡®new Kumho Asiana¡¯. These achievements were made possible because of the assionnd unwavering focus which we learned in our early years. We chose ¡®Flawless Operational Safety¡¯ and ¡®Regaining Customer Trust¡¯ as our top priorities because safety and service are Asiana Airlines¡¯ highest goals. We¡¯ve made improvements in flight training system and maintenance quality system to reinforce our general safety systems. Aisana Airlines has introduced A380, the next generation cutting-edge aircraft, to provide convenience for customers and put them into lA flights. In order to reinforce the competitiveness of long-haul flights, we  expanded Paris and Istanbul flights. Furthermore, we added more flights to Guangzhou, yanji and Shenzhen to take the dominance as a leading carrier in the Chinese market. Asiana Airlines has laid the groundwork for sustainability with the revitalization of organizational culture. ¡®Smile brings blessings¡¯ campaign, the meeting between executives and staffers which leads to frank exchanges of opinions, has given us the sense of belonging and strong bond by tearing down the walls between positions. Asiana Airlines is going to fulfill the management policy of the last year, new Kumho Asiana, in 2015 and will try its best to be a reliable and beautiful company under the new motto ¡°Strengthen Self without Stopping¡±. That means we are ready to stand as one and work tirelessly for the steady development and growth of the company. In addition to the safety and service items we have already promoted, an integrated safety information system will be built and bold investment for hi-tech operation equipment will be made to continuously strengthen the infrastructure for safety. This will also enhance the foundation for bringing about the awareness of safety issues. In order to reinforce our competitiveness through the latest aircraft, we confirmed the plan to introduce A350XWb and A321 nEO. We hope this will help build up the foundation for future growth. This year, we will put additional A380s into new york flights and will start a new flight to Rome to reinforce our competitiveness in long-haul flight. Also, we will speed up the plan to add our strategic air routes in China and other Asian countries. Asiana Airlines hopes to become a company that contributes to the nation and society by social and environmental activities. We are going to take responsibility for social and environmental issues with persistence and sincerity. One of such efforts is the ¡®unICEF Spare Coin Collection¡¯ which we has been working with the Korean Committee for unICEF (united nations Children¡¯s Fund). In the last year, the accumulated amount of money has exceeded 10 billion won. This fundraising campaign will be continued for the benefit of underprivileged children. There are also other activities and campaigns to promote corporate responsibility such as ¡®Social Work Volunteering In Relay¡¯, ¡®beautiful Classroom¡¯ in China, tree planting events on the reclaimed lands near metropolitan areas and various environmental activities to reduce greenhouse gases. In retrospect, Asiana Airlines has grown and evolved thanks to our stakeholders¡¯ continuous affection and support. We will make utmost efforts to raise the corporate value to the best in the business and to be a ¡®beautiful Company¡¯who is willing to take the social responsibilities by raising awareness of safety issues and differentiating the services with distinct ideas. We hope all our stakeholders will favor us with supports and expectations. Thank you.\\nSoo Cheon, Kim\\nPresident & CEO')"
            ]
          },
          "metadata": {
            "tags": []
          },
          "execution_count": 19
        }
      ]
    },
    {
      "cell_type": "code",
      "metadata": {
        "colab": {
          "base_uri": "https://localhost:8080/"
        },
        "id": "Jw_67POgSZjn",
        "outputId": "f9d9feb9-6f9a-4f5a-9691-41a2bed71578"
      },
      "source": [
        "texts = pd.Series(texts[0:4])\n",
        "texts"
      ],
      "execution_count": 20,
      "outputs": [
        {
          "output_type": "execute_result",
          "data": {
            "text/plain": [
              "0    We will use beauty to change the world and bec...\n",
              "1    AMOREPACIFC Group will endeavor to become a gr...\n",
              "2    AMOREPACIFIC Group has been pursuing the path ...\n",
              "3    This year marks the 25th anniversary of the es...\n",
              "Name: text, dtype: object"
            ]
          },
          "metadata": {
            "tags": []
          },
          "execution_count": 20
        }
      ]
    },
    {
      "cell_type": "markdown",
      "metadata": {
        "id": "NlqNGvWU7Fm4"
      },
      "source": [
        "# 자연어 처리\n",
        "\n",
        " RegexpTokenizer\n",
        "\n"
      ]
    },
    {
      "cell_type": "markdown",
      "metadata": {
        "id": "f4VWE4VCJYoy"
      },
      "source": [
        "단어 토큰화 (word Tokenization): 단어 기준 처리"
      ]
    },
    {
      "cell_type": "code",
      "metadata": {
        "id": "I-7AVAYx7Liy"
      },
      "source": [
        "from nltk.tokenize import RegexpTokenizer"
      ],
      "execution_count": 21,
      "outputs": []
    },
    {
      "cell_type": "code",
      "metadata": {
        "colab": {
          "base_uri": "https://localhost:8080/"
        },
        "id": "wvNivhRZGK98",
        "outputId": "7c06f140-159c-409e-bcd3-70d027038f9b"
      },
      "source": [
        "tokenizer = RegexpTokenizer(r'\\w+')\n",
        "tokenizer"
      ],
      "execution_count": 22,
      "outputs": [
        {
          "output_type": "execute_result",
          "data": {
            "text/plain": [
              "RegexpTokenizer(pattern='\\\\w+', gaps=False, discard_empty=True, flags=<RegexFlag.UNICODE|DOTALL|MULTILINE: 56>)"
            ]
          },
          "metadata": {
            "tags": []
          },
          "execution_count": 22
        }
      ]
    },
    {
      "cell_type": "code",
      "metadata": {
        "colab": {
          "base_uri": "https://localhost:8080/"
        },
        "id": "yznALQBAHZL7",
        "outputId": "2d2c5189-77cd-446e-edbe-a2b01d9ad79f"
      },
      "source": [
        "type(texts.values) "
      ],
      "execution_count": 23,
      "outputs": [
        {
          "output_type": "execute_result",
          "data": {
            "text/plain": [
              "numpy.ndarray"
            ]
          },
          "metadata": {
            "tags": []
          },
          "execution_count": 23
        }
      ]
    },
    {
      "cell_type": "markdown",
      "metadata": {
        "id": "8dFoDAanKRpl"
      },
      "source": [
        "```\n",
        "from nltk.tokenize import RegexpTokenizer\n",
        "\n",
        "for text in texts.values:\n",
        "  tokenized_text= tokenizer.tokenize(text)\n",
        "   print(type(tokenized_text), len(tokenized_text), tokenized_text)\n",
        "  ```"
      ]
    },
    {
      "cell_type": "code",
      "metadata": {
        "id": "JlRl7QskJTmi"
      },
      "source": [
        "# tokenized_text[0]"
      ],
      "execution_count": 28,
      "outputs": []
    },
    {
      "cell_type": "code",
      "metadata": {
        "id": "FlBZSqtuJ_U-"
      },
      "source": [
        "from nltk.stem import WordNetLemmatizer\n",
        "lemmatizer = WordNetLemmatizer()"
      ],
      "execution_count": 26,
      "outputs": []
    },
    {
      "cell_type": "code",
      "metadata": {
        "id": "Swdz8oixLoDk"
      },
      "source": [
        "import nltk\n",
        "from nltk import wordnet"
      ],
      "execution_count": 27,
      "outputs": []
    },
    {
      "cell_type": "code",
      "metadata": {
        "colab": {
          "base_uri": "https://localhost:8080/"
        },
        "id": "WilXXsFJLzWe",
        "outputId": "51d3959b-75a5-4db5-a034-e4f26a4e9816"
      },
      "source": [
        "nltk.download('wordnet')"
      ],
      "execution_count": 29,
      "outputs": [
        {
          "output_type": "stream",
          "text": [
            "[nltk_data] Downloading package wordnet to /root/nltk_data...\n",
            "[nltk_data]   Package wordnet is already up-to-date!\n"
          ],
          "name": "stdout"
        },
        {
          "output_type": "execute_result",
          "data": {
            "text/plain": [
              "True"
            ]
          },
          "metadata": {
            "tags": []
          },
          "execution_count": 29
        }
      ]
    },
    {
      "cell_type": "markdown",
      "metadata": {
        "id": "lxhyXZWPTel-"
      },
      "source": [
        "```\n",
        "for text in texts.values:\n",
        "  tokenized_text = tokenizer.tokenize(text.lower())\n",
        "  for token in tokenized_text:\n",
        "    lemmatized_text = lemmatizer.lemmatize(token)\n",
        "    print(type(lemmatized_text),lemmatized_text)\n",
        "```\n",
        "\n",
        "불용어 제거"
      ]
    },
    {
      "cell_type": "code",
      "metadata": {
        "colab": {
          "base_uri": "https://localhost:8080/"
        },
        "id": "3IElEgs0UHnO",
        "outputId": "bc8ea70e-eb3f-407b-ff6d-0d096df39a8d"
      },
      "source": [
        "nltk.download('stopwords')"
      ],
      "execution_count": 30,
      "outputs": [
        {
          "output_type": "stream",
          "text": [
            "[nltk_data] Downloading package stopwords to /root/nltk_data...\n",
            "[nltk_data]   Unzipping corpora/stopwords.zip.\n"
          ],
          "name": "stdout"
        },
        {
          "output_type": "execute_result",
          "data": {
            "text/plain": [
              "True"
            ]
          },
          "metadata": {
            "tags": []
          },
          "execution_count": 30
        }
      ]
    },
    {
      "cell_type": "code",
      "metadata": {
        "id": "04PCSdLnUaCA"
      },
      "source": [
        "from nltk.corpus import stopwords"
      ],
      "execution_count": 31,
      "outputs": []
    },
    {
      "cell_type": "markdown",
      "metadata": {
        "id": "ynpw1LJrUwx-"
      },
      "source": [
        " stopwords.words('english')\n",
        " \n",
        " 어느나라  언어로 불용어 삭제 할 건지 정해주는 것 "
      ]
    },
    {
      "cell_type": "code",
      "metadata": {
        "id": "tHnlQtRLUnJ1"
      },
      "source": [
        "stop_words = stopwords.words('english')"
      ],
      "execution_count": 32,
      "outputs": []
    },
    {
      "cell_type": "markdown",
      "metadata": {
        "id": "VLkdL-ziVCJ7"
      },
      "source": [
        "불용어 확인"
      ]
    },
    {
      "cell_type": "code",
      "metadata": {
        "colab": {
          "base_uri": "https://localhost:8080/"
        },
        "id": "N4L5vKdLU9e3",
        "outputId": "e2a8b900-a278-45d5-854b-d34f5146f7d5"
      },
      "source": [
        "stop_words[0:5]"
      ],
      "execution_count": 33,
      "outputs": [
        {
          "output_type": "execute_result",
          "data": {
            "text/plain": [
              "['i', 'me', 'my', 'myself', 'we']"
            ]
          },
          "metadata": {
            "tags": []
          },
          "execution_count": 33
        }
      ]
    },
    {
      "cell_type": "markdown",
      "metadata": {
        "id": "nxJMbdDaVcbW"
      },
      "source": [
        "exployer 도 불용어로 지정해서 빼기"
      ]
    },
    {
      "cell_type": "code",
      "metadata": {
        "colab": {
          "base_uri": "https://localhost:8080/"
        },
        "id": "3fsilJnQVTc9",
        "outputId": "1ae7fafa-35b1-47be-de78-f2f84ce07b8f"
      },
      "source": [
        "stop_words.extend(['employer'])\n",
        "len(stop_words)"
      ],
      "execution_count": 34,
      "outputs": [
        {
          "output_type": "execute_result",
          "data": {
            "text/plain": [
              "180"
            ]
          },
          "metadata": {
            "tags": []
          },
          "execution_count": 34
        }
      ]
    },
    {
      "cell_type": "code",
      "metadata": {
        "colab": {
          "base_uri": "https://localhost:8080/"
        },
        "id": "iAF0QegdHzEZ",
        "outputId": "4e7cc576-8e65-45cc-df30-5334d8301452"
      },
      "source": [
        "preprocessed_texts= list()\n",
        "\n",
        "for text in texts.values:\n",
        "  tokenized_text = tokenizer.tokenize(text.lower())\n",
        "  lemmatized_list = list()\n",
        "  for token in tokenized_text:\n",
        "    lemmatized_text = lemmatizer.lemmatize(token)\n",
        "    lemmatized_list.append(lemmatized_text)\n",
        "  # print(len(lemmatized_text),lemmatized_text)\n",
        "  for tok in lemmatized_list:\n",
        "   if tok not in stop_words: # tok에 들어오는게 불용어가 아니면 저장한다\n",
        "    preprocessed_texts.append(tok)\n",
        "    \n",
        "print(len(preprocessed_texts), preprocessed_texts)"
      ],
      "execution_count": 41,
      "outputs": [
        {
          "output_type": "stream",
          "text": [
            "1377 ['use', 'beauty', 'change', 'world', 'become', 'company', 'customer', 'love', 'stakeholder', 'past', '67', 'year', 'amorepacific', 'ha', 'embarked', 'long', 'journey', 'beauty', 'provide', 'happiness', 'pleasure', 'people', 'around', 'world', 'amorepacific', 'creation', 'beauty', 'product', 'stood', 'test', 'numerous', 'crisis', 'resulting', 'uncertain', 'management', 'condition', 'achieve', 'continuous', 'growth', 'caring', 'customer', 'taking', 'quick', 'action', 'seek', 'new', 'opportunity', 'even', 'moment', 'amorepacific', 'striving', 'satisfy', 'global', 'customer', 'discovering', 'value', 'sustainable', 'beauty', 'found', 'asia', 'profound', 'wisdom', 'also', 'making', 'concerted', 'effort', 'create', 'sustainable', 'company', 'amorepacific', 'ha', 'minimized', 'negative', 'impact', 'environment', 'strengthened', 'development', 'sustainable', 'product', 'packaging', 'material', 'deliver', 'value', 'environment', 'friendly', 'consumption', 'customer', 'continually', 'expanded', 'beautiful', 'fair', 'trade', 'acquire', 'outstanding', 'local', 'raw', 'material', 'support', 'local', 'community', 'concentrated', 'corporate', 'competency', 'developing', 'eco', 'friendly', 'package', 'used', 'botanical', 'raw', 'material', 'recycled', 'material', 'also', 'amorepacific', 'beauty', 'production', 'site', 'equipped', 'production', 'logistics', 'system', 'global', 'standard', 'acquired', 'certification', 'eco', 'friendly', 'building', 'cgmp', 'cosmetic', 'good', 'manufacturing', 'practice', 'constructed', 'botanical', 'garden', 'raw', 'material', 'environment', 'friendly', 'natural', 'park', 'based', 'effort', 'become', 'beauty', 'creator', 'world', 'providing', 'high', 'quality', 'product', 'best', 'raw', 'material', 'customer', 'contributing', 'environment', 'local', 'community', 'global', 'brand', 'company', 'amorepacific', 'seeking', 'achieve', 'realized', 'talented', 'people', 'ready', 'challenge', 'world', 'stage', 'therefore', 'amorepacific', 'ha', 'worked', 'towards', 'developing', 'global', 'competency', 'employee', 'based', 'management', 'philosophy', 'valuing', 'people', 'everything', 'else', 'creating', 'workplace', 'employee', 'grow', 'individual', 'smart', 'work', 'happy', 'plus', 'campaign', 'increased', 'employee', 'engagement', 'devoted', 'customer', 'helped', 'find', 'balance', 'work', 'personal', 'life', 'also', 'consolidate', 'dream', 'vocation', 'variety', 'talented', 'employee', 'one', 'implementing', 'corporate', 'culture', 'activity', 'one', 'amorepacific', 'global', 'perspective', 'amorepacific', 'ha', 'continually', 'strengthened', 'win', 'win', 'relationship', 'business', 'partner', 'create', 'healthy', 'business', 'ecosystem', 'strengthen', 'competitiveness', 'business', 'partner', 'expanded', 'supplier', 'support', 'fund', 'supplier', 'opened', 'win', 'win', 'portal', 'site', 'supplier', 'effectively', 'resolve', 'complaint', 'business', 'partner', 'result', 'amorepacific', 'business', 'partner', 'maintain', 'beautiful', 'relationship', 'help', 'achieve', 'growth', 'furthermore', 'order', 'fulfill', 'responsibility', 'global', 'citizen', 'support', 'ten', 'principle', 'un', 'global', 'compact', 'ungc', 'including', 'human', 'right', 'labor', 'environment', 'anticorruption', 'continually', 'work', 'towards', 'reflecting', 'principle', 'amorepacific', 'management', 'activity', 'stakeholder', 'management', 'policy', 'amorepacific', '2013', 'team', 'together', 'show', 'amorepacific', 'commitment', 'look', 'apex', 'two', 'point', 'meet', 'together', 'instead', 'dividing', 'world', 'mine', 'others', 'thereby', 'walking', 'side', 'side', 'partner', 'business', 'ecosystem', 'including', 'supplier', 'furthermore', 'walk', 'together', 'world', 'society', 'grow', 'much', 'faster', 'healthier', 'amorepacific', 'ha', 'dream', 'changing', 'world', 'beauty', 'product', 'employee', 'amorepacific', 'make', 'concerted', 'effort', 'achieve', 'dream', 'become', 'company', 'customer', 'love', 'asia', 'thank', 'chairman', 'ceo', 'amorepacific', 'corporation', 'kyung', 'bae', 'suh', 'amorepacifc', 'group', 'endeavor', 'become', 'great', 'global', 'company', 'brings', 'brighter', 'future', 'next', 'generation', 'changing', 'world', 'beautiful', 'healthier', 'place', 'honoring', 'founder', 'philosophy', 'contributing', 'mankind', 'creating', 'beauty', 'health', 'technology', 'heartfelt', 'sincerity', 'amorepacific', 'group', 'ha', 'continued', 'journey', 'beauty', 'past', '70', 'year', 'change', 'world', 'unique', 'asian', 'beauty', 'mission', 'spread', 'essence', 'asian', 'beauty', 'around', 'world', 'asian', 'beauty', 'creator', 'fully', 'devoted', 'discover', 'value', 'harmony', 'beauty', 'based', 'asian', 'wisdom', 'deliver', 'customer', 'world', 'despite', 'fast', 'changing', 'global', 'business', 'environment', 'economic', 'uncertainty', 'recent', 'year', 'never', 'ceased', 'grow', 'constantly', 'innovating', 'provide', 'better', 'product', 'service', 'based', 'voice', 'customer', 'always', 'reminding', 'stay', 'humble', 'learn', 'customer', 'today', 'success', 'could', 'possible', 'without', 'great', 'support', 'customer', 'well', 'society', 'working', 'together', 'nature', 'owe', 'next', 'generation', 'reason', 'engaged', 'various', 'sustainable', 'activity', 'order', 'promote', 'harmonious', 'co', 'existence', 'co', 'prosperity', 'customer', 'society', 'natural', 'environment', 'first', 'part', 'effort', 'established', 'implemented', 'strategy', 'minimize', 'social', 'environmental', 'impact', 'entire', 'life', 'cycle', 'product', 'technological', 'development', 'disposal', 'addition', 'maximize', 'customer', 'value', 'continuing', 'launch', 'innovative', 'product', 'consider', 'diverse', 'preference', 'shown', 'customer', 'around', 'world', 'offering', 'differentiated', 'shopping', 'experience', 'digital', 'innovation', 'second', 'engaging', 'various', 'green', 'activity', 'reduce', 'environmental', 'impact', 'corporate', 'activity', 'protect', 'planet', 'response', 'global', 'issue', 'climate', 'change', 'water', 'scarcity', 'trying', 'reduce', 'carbon', 'emission', 'water', 'consumption', 'also', 'strengthened', 'safety', 'environmental', 'management', 'system', 'also', 'made', 'effort', 'preserve', 'biodiversity', 'conducting', 'research', 'recovery', 'efficacy', 'rare', 'indigenous', 'plant', 'specie', 'third', 'reinforcing', 'win', 'win', 'relationship', 'executive', 'employee', 'partner', 'heightened', 'education', 'training', 'standard', 'foster', 'global', 'talent', 'enhance', 'competency', 'executive', 'employee', 'also', 'committed', 'creating', 'pleasant', 'working', 'environment', 'help', 'employee', 'maintain', 'good', 'balance', 'work', 'personal', 'life', 'meanwhile', 'ensure', 'harmonious', 'mutual', 'growth', 'business', 'partner', 'client', 'beauty', 'partner', 'strengthened', 'financial', 'educational', 'support', 'prepared', 'foundation', 'promote', 'open', 'communication', 'active', 'participation', 'fourth', 'responsible', 'corporate', 'citizen', 'dedicated', 'fulfilling', 'corporate', 'social', 'responsibility', 'helping', 'woman', 'member', 'local', 'community', 'realize', 'beautiful', 'healthy', 'life', 'thereby', 'creating', 'prosperous', 'society', 'spreading', 'value', 'beauty', 'three', 'area', 'woman', 'natural', 'ecosystem', 'culture', 'discover', 'create', 'new', 'value', 'shared', 'society', 'spread', 'value', 'beyond', 'national', 'border', 'across', 'whole', 'world', 'lastly', 'global', 'citizen', 'support', 'adhere', '10', 'principle', 'un', 'global', 'compact', 'ungc', 'regarding', 'human', 'right', 'labor', 'environment', 'anti', 'corruption', 'continue', 'advance', 'respect', 'principle', 'management', 'practice', 'honorable', 'stakeholder', '2015', 'meaningful', 'year', 'mark', '70th', 'anniversary', 'amorepacific', 'group', 'foundation', 'also', 'time', 'transition', '70', 'year', 'journey', 'ha', 'travelled', 'pond', 'stream', 'river', 'ha', 'finally', 'set', 'sail', 'greater', 'ocean', 'amorepacific', 'group', 'never', 'cease', 'effort', 'make', 'positive', 'impact', 'people', 'life', 'beauty', 'health', 'engage', 'sustainable', 'management', 'become', 'great', 'global', 'company', 'trusted', 'supported', 'customer', 'throughout', 'world', 'thank', 'amorepacific', 'group', 'ha', 'pursuing', 'path', 'beauty', 'last', '70', 'year', 'respond', 'customer', 'high', 'expectation', 'product', 'service', 'answering', 'vocation', 'asian', 'beauty', 'creator', 'made', 'every', 'effort', 'transform', 'world', 'beauty', 'sharing', 'customer', 'stakeholder', 'unique', 'beauty', 'product', 'company', 'best', 'creating', '2015', 'despite', 'global', 'economic', 'slowdown', 'outbreak', 'middle', 'east', 'respiratory', 'syndrome', 'mers', 'affected', 'social', 'corporate', 'activity', 'korea', 'continued', 'emphasize', 'innovation', 'retail', 'sale', 'global', 'expansion', 'result', 'able', 'celebrate', '70th', 'anniversary', 'closer', 'ever', 'reaching', 'dream', 'becoming', 'great', 'global', 'brand', 'company', 'amorepacific', 'group', 'ha', 'journeyed', 'pond', 'stream', 'river', 'confluence', 'set', 'sail', 'upon', 'great', 'ocean', 'great', 'journey', 'across', 'ocean', 'cannot', 'made', 'alone', 'done', 'hastily', 'rather', 'shall', 'travel', 'hand', 'hand', 'others', 'endure', 'complete', 'far', 'reaching', 'journey', 'committed', 'fulfilling', 'responsibility', 'ethical', 'corporate', 'citizen', 'throughout', 'year', 'amorepacific', 'group', 'ha', 'undertaken', 'following', 'activity', 'employee', 'customer', 'stakeholder', 'environment', 'society', 'first', 'implementing', 'rigorous', 'strategy', 'designed', 'reduce', 'social', 'environmental', 'footprint', 'throughout', 'entire', 'lifecycle', 'product', 'research', 'development', 'end', 'user', 'stage', 'beauty', 'maestro', 'continue', 'maximize', 'customer', 'value', 'experience', 'continuing', 'launch', 'highly', 'competitive', 'innovative', 'product', 'reflecting', 'diverse', 'preference', 'customer', 'around', 'world', 'offer', 'differentiated', 'shopping', 'experience', 'digital', 'innovation', 'mobile', 'application', 'second', 'line', 'commitment', 'protecting', 'planet', 'undertaking', 'range', 'activity', 'preserve', 'nature', 'reduce', 'environmental', 'effect', 'corporate', 'activity', 'specifically', 'response', 'global', 'environmental', 'priority', 'climate', 'change', 'water', 'scarcity', 'emphasize', 'reducing', 'greenhouse', 'gas', 'emission', 'optimizing', 'water', 'use', 'systematically', 'improving', 'environmental', 'safety', 'measure', 'contribute', 'biodiversity', 'engage', 'activity', 'restore', 'rare', 'indigenous', 'plant', 'specie', 'third', 'strengthening', 'win', 'win', 'partnership', 'employee', 'business', 'partner', 'start', 'end', 'supply', 'chain', 'heightened', 'education', 'training', 'standard', 'foster', 'global', 'talent', 'enhance', 'global', 'professional', 'competency', 'employee', 'management', 'rolled', 'program', 'help', 'create', 'great', 'global', 'company', 'respect', 'work', 'life', 'balance', 'addition', 'ensure', 'win', 'win', 'growth', 'business', 'partner', 'expanded', 'financial', 'educational', 'support', 'prepared', 'foundation', 'upon', 'promote', 'open', 'communication', 'active', 'participation', 'fourth', 'responsible', 'corporate', 'citizen', 'supporting', 'various', 'program', 'enrich', 'life', 'woman', 'community', 'group', 'particular', 'corporate', 'social', 'responsibility', 'activity', 'focused', 'woman', 'natural', 'ecosystem', 'culture', 'aim', 'integrate', 'emphasis', 'healthy', 'beauty', 'creating', 'shared', 'value', 'business', 'society', 'worldwide', 'finally', 'global', 'citizen', 'support', '10', 'principle', 'united', 'nation', 'global', 'compact', 'regarding', 'human', 'right', 'labor', 'environment', 'anti', 'corruption', 'putting', 'every', 'effort', 'fully', 'integrating', 'principle', 'corporate', 'strategy', 'operation', 'sustainable', 'business', 'practice', 'reflect', 'commitment', 'grand', 'vision', 'bring', 'happier', 'today', 'beautiful', 'tomorrow', 'customer', 'stakeholder', 'begun', '70th', 'year', 'journey', 'transform', 'world', 'beauty', 'thank', 'showing', 'support', 'journey', 'count', 'continued', 'interest', 'engagement', 'year', 'mark', '25th', 'anniversary', 'establishment', 'asiana', 'airline', 'since', 'embarked', 'journey', 'brighter', 'future', 'truly', 'grateful', 'stakeholder', 'loved', 'rooted', 'u', 'past', '25', 'year', 'thanks', 'support', 'asiana', 'airline', 'wa', 'able', 'become', '1st', 'airline', 'named', 'airline', 'year', 'five', 'consecutive', 'time', 'asiana', 'airline', 'ha', 'unwavering', 'commitment', 'responsibility', 'beautiful', 'company', 'creates', 'best', 'corporate', 'value', 'industry', 'achieving', 'customer', 'satisfaction', 'safest', 'superior', 'service', 'despite', 'adverse', 'external', 'condition', 'including', 'economic', 'recession', 'triggered', 'developed', 'country', 'spread', 'korea', 'asiana', 'airline', 'achieved', 'positive', 'performance', 'carrying', '11million', 'passenger', 'year', 'generating', 'krw', '5', 'trillion', '638', '1', 'billion', 'revenue', 'krw', '132', '5', 'billion', 'ebit', 'driven', 'part', 'growth', 'chinese', 'market', 'increasing', 'demand', 'leisure', 'activity', '2012', 'addition', 'asiana', 'ha', 'continued', 'introducing', 'latest', 'equipment', 'facility', 'including', 'nine', 'passenger', 'jet', 'two', 'cargo', 'jet', 'operate', 'total', '80', 'airplane', 'upgrading', 'plane', 'seat', 'facility', 'two', 'boeing', '777', 'airplane', 'asiana', 'also', 'launched', 'flight', 'vladivostok', 'completing', 'triangle', 'route', 'far', 'east', 'connecting', 'flight', 'khabarovsk', 'sakhalin', 'increased', 'flight', 'haneda', 'hong', 'kong', 'honolulu', 'paris', 'increase', 'customer', 'convenience', 'parallel', 'asiana', 'airline', 'ha', 'introduced', 'wide', 'array', 'initiative', 'beautiful', 'world', 'create', 'prosperity', 'everyone', 'company', 'faithfully', 'complying', '10', 'principle', 'un', 'global', 'compact', 'various', 'issue', 'human', 'right', 'labor', 'environment', 'anti', 'corruption', 'expanding', 'scope', 'eco', 'flight', 'distinct', 'green', 'operation', 'program', 'company', 'promoting', 'family', 'friendly', 'work', 'environment', 'inclusive', 'growth', 'also', 'making', 'remarkable', 'stride', 'social', 'contribution', 'initiative', 'go', 'beyond', 'national', 'boundary', 'donating', 'book', 'multi', 'cultural', 'family', 'korea', 'opening', 'beautiful', 'class', 'sister', 'school', 'china', 'launching', 'love', 'house', 'initiative', 'vietnam', 'strenuous', 'endeavor', 'ha', 'earned', 'asiana', 'recognition', '1', 'airline', 'dow', 'jones', 'sustainability', 'index', 'four', 'consecutive', 'year', 'grand', 'prize', '1st', 'family', 'friendly', 'award', '1', 'airline', 'korean', 'sustainability', 'index', 'going', 'forward', 'asiana', 'people', 'exert', 'best', 'endeavor', 'building', 'achievement', 'past', '25', 'year', 'fly', 'beyond', 'competition', 'hope', 'stakeholder', 'continue', 'give', 'support', 'journey', 'towards', 'beautiful', 'future', 'thank']\n"
          ],
          "name": "stdout"
        }
      ]
    },
    {
      "cell_type": "markdown",
      "metadata": {
        "id": "ouKAPq1jXvUR"
      },
      "source": [
        "연설에서 가장 많이 사용한 단어는 무엇인가 ?"
      ]
    },
    {
      "cell_type": "code",
      "metadata": {
        "id": "eHL-IM5BK6pO"
      },
      "source": [
        " from wordcloud import WordCloud"
      ],
      "execution_count": 42,
      "outputs": []
    },
    {
      "cell_type": "code",
      "metadata": {
        "id": "_VBuodXnYImC"
      },
      "source": [
        ""
      ],
      "execution_count": null,
      "outputs": []
    }
  ]
}