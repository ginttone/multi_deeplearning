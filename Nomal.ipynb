{
  "nbformat": 4,
  "nbformat_minor": 0,
  "metadata": {
    "colab": {
      "name": "Nomal_upgrade.ipynb",
      "provenance": [],
      "authorship_tag": "ABX9TyMplWNYxeQQqaoArsyTRbx2",
      "include_colab_link": true
    },
    "kernelspec": {
      "name": "python3",
      "display_name": "Python 3"
    },
    "language_info": {
      "name": "python"
    }
  },
  "cells": [
    {
      "cell_type": "markdown",
      "metadata": {
        "id": "view-in-github",
        "colab_type": "text"
      },
      "source": [
        "<a href=\"https://colab.research.google.com/github/ginttone/multi_deeplearning/blob/master/Nomal.ipynb\" target=\"_parent\"><img src=\"https://colab.research.google.com/assets/colab-badge.svg\" alt=\"Open In Colab\"/></a>"
      ]
    },
    {
      "cell_type": "markdown",
      "metadata": {
        "id": "ZG3Xcl78epub"
      },
      "source": [
        "## DATASET"
      ]
    },
    {
      "cell_type": "markdown",
      "metadata": {
        "id": "1VjSEW9IY7TE"
      },
      "source": [
        "[Dataset-boston house](https://datasetsearch.research.google.com/)\n",
        "\n",
        "[Tensorflow Dataset](https://www.tensorflow.org/datasets/catalog/overview#all_datasets)\n",
        "\n",
        "\n",
        "seed 는 딥러닝이나 sklearn으로 머신 돌릴 때 \n",
        "\n",
        "결과 값이나 loss값의 수치를 똑같이 나오게 하기위해 멈춰둔다(말뚝역할) \n",
        "\n",
        "```\n",
        "tf..keras.datasets.boston_housing.load_data(\n",
        "  path='boston_housing.npz', test_split=0.2 ,seed=113\n",
        ")\n",
        "```\n",
        "\n",
        "어떤 모델이나 데이터 수정해서 변경된 결과값을 보기 때문에 이전 layer와 값을 비교할때 쓰려고 seed쓴다\n"
      ]
    },
    {
      "cell_type": "code",
      "metadata": {
        "id": "cu87eJoIYdsD"
      },
      "source": [
        "import tensorflow as tf\n",
        "from tensorflow.keras.datasets.boston_housing import load_data"
      ],
      "execution_count": 1,
      "outputs": []
    },
    {
      "cell_type": "code",
      "metadata": {
        "colab": {
          "base_uri": "https://localhost:8080/"
        },
        "id": "C3VyA5yZbN9y",
        "outputId": "5cd1ef1a-cbf9-4c3c-d312-77d0ea7c2946"
      },
      "source": [
        "(x_train, y_train), (x_test,y_test)=load_data(path='boston_housing.npz', test_split=0.2 ,seed=113)\n",
        "\n",
        "x_train.shape, y_train.shape, x_test.shape,y_test.shape"
      ],
      "execution_count": 2,
      "outputs": [
        {
          "output_type": "execute_result",
          "data": {
            "text/plain": [
              "((404, 13), (404,), (102, 13), (102,))"
            ]
          },
          "metadata": {
            "tags": []
          },
          "execution_count": 2
        }
      ]
    },
    {
      "cell_type": "code",
      "metadata": {
        "colab": {
          "base_uri": "https://localhost:8080/"
        },
        "id": "LH6E003_d6T_",
        "outputId": "808c2dd1-51ae-4f64-862d-0a6d6d87b462"
      },
      "source": [
        "type(x_train), type(y_train)"
      ],
      "execution_count": 3,
      "outputs": [
        {
          "output_type": "execute_result",
          "data": {
            "text/plain": [
              "(numpy.ndarray, numpy.ndarray)"
            ]
          },
          "metadata": {
            "tags": []
          },
          "execution_count": 3
        }
      ]
    },
    {
      "cell_type": "markdown",
      "metadata": {
        "id": "yB0GKeChewQK"
      },
      "source": [
        "## MODEL"
      ]
    },
    {
      "cell_type": "code",
      "metadata": {
        "id": "Yn7TcLa2eSfO"
      },
      "source": [
        "model = tf.keras.models.Sequential()"
      ],
      "execution_count": 4,
      "outputs": []
    },
    {
      "cell_type": "markdown",
      "metadata": {
        "id": "iZVS01pSgUrP"
      },
      "source": [
        "행의 갯수는 계속해서 변화하기 때문에 빼는 것\n",
        "\n",
        "컬럼은 불변이니까 쓰는 것\n",
        "\n",
        "y_train 이  연속형 / regression 그래서 아웃풋 dense가 1개 "
      ]
    },
    {
      "cell_type": "markdown",
      "metadata": {
        "id": "z33OWWgztLCT"
      },
      "source": [
        ""
      ]
    },
    {
      "cell_type": "code",
      "metadata": {
        "colab": {
          "base_uri": "https://localhost:8080/"
        },
        "id": "_2Ka_EiCfN1e",
        "outputId": "1630f402-54c9-419e-fbfa-316f0d14a95b"
      },
      "source": [
        "model.add(tf.keras.Input(shape=(13))) \n",
        "model.add(tf.keras.layers.Dense(64, activation='sigmoid')) \n",
        "model.add(tf.keras.layers.Dense(1,)) \n",
        "\n",
        "model.compile(optimizer='sgd', loss='mse')"
      ],
      "execution_count": 5,
      "outputs": [
        {
          "output_type": "stream",
          "text": [
            "WARNING:tensorflow:Please add `keras.layers.InputLayer` instead of `keras.Input` to Sequential model. `keras.Input` is intended to be used by Functional model.\n"
          ],
          "name": "stdout"
        }
      ]
    },
    {
      "cell_type": "code",
      "metadata": {
        "colab": {
          "base_uri": "https://localhost:8080/",
          "height": 312
        },
        "id": "kHPkmUr3qUX9",
        "outputId": "9f9f6eba-8c84-40a1-d467-2d8e8b870317"
      },
      "source": [
        "tf.keras.utils.plot_model(model, show_shapes=True)"
      ],
      "execution_count": 6,
      "outputs": [
        {
          "output_type": "execute_result",
          "data": {
            "image/png": "[encoded data removed]",
            "text/plain": [
              "<IPython.core.display.Image object>"
            ]
          },
          "metadata": {
            "tags": []
          },
          "execution_count": 6
        }
      ]
    },
    {
      "cell_type": "code",
      "metadata": {
        "colab": {
          "base_uri": "https://localhost:8080/"
        },
        "id": "PS7EzhDXrSxg",
        "outputId": "be625b1a-0c8b-43eb-daae-564848893862"
      },
      "source": [
        "model.summary()"
      ],
      "execution_count": 7,
      "outputs": [
        {
          "output_type": "stream",
          "text": [
            "Model: \"sequential\"\n",
            "_________________________________________________________________\n",
            "Layer (type)                 Output Shape              Param #   \n",
            "=================================================================\n",
            "dense (Dense)                (None, 64)                896       \n",
            "_________________________________________________________________\n",
            "dense_1 (Dense)              (None, 1)                 65        \n",
            "=================================================================\n",
            "Total params: 961\n",
            "Trainable params: 961\n",
            "Non-trainable params: 0\n",
            "_________________________________________________________________\n"
          ],
          "name": "stdout"
        }
      ]
    },
    {
      "cell_type": "code",
      "metadata": {
        "colab": {
          "base_uri": "https://localhost:8080/"
        },
        "id": "4SOm43F4teoW",
        "outputId": "e9556f2a-d834-4744-c4be-4db1a41491b7"
      },
      "source": [
        "model.fit(x_train, y_train)"
      ],
      "execution_count": 8,
      "outputs": [
        {
          "output_type": "stream",
          "text": [
            "13/13 [==============================] - 0s 2ms/step - loss: 127.6434\n"
          ],
          "name": "stdout"
        },
        {
          "output_type": "execute_result",
          "data": {
            "text/plain": [
              "<tensorflow.python.keras.callbacks.History at 0x7fc759ffb890>"
            ]
          },
          "metadata": {
            "tags": []
          },
          "execution_count": 8
        }
      ]
    },
    {
      "cell_type": "markdown",
      "metadata": {
        "id": "sG4P1bmnwj1N"
      },
      "source": [
        "## Evaluation\n"
      ]
    },
    {
      "cell_type": "code",
      "metadata": {
        "colab": {
          "base_uri": "https://localhost:8080/"
        },
        "id": "7ShwzRDUvrIF",
        "outputId": "aa71cf9e-242a-40a6-d448-f049756d7409"
      },
      "source": [
        "model.evaluate(x_train, y_train)"
      ],
      "execution_count": 9,
      "outputs": [
        {
          "output_type": "stream",
          "text": [
            "13/13 [==============================] - 0s 1ms/step - loss: 80.4230\n"
          ],
          "name": "stdout"
        },
        {
          "output_type": "execute_result",
          "data": {
            "text/plain": [
              "80.42301177978516"
            ]
          },
          "metadata": {
            "tags": []
          },
          "execution_count": 9
        }
      ]
    },
    {
      "cell_type": "markdown",
      "metadata": {
        "id": "WFjr1jr1w-Zs"
      },
      "source": [
        "## Service"
      ]
    },
    {
      "cell_type": "code",
      "metadata": {
        "colab": {
          "base_uri": "https://localhost:8080/"
        },
        "id": "tlJs3f0HwqIM",
        "outputId": "ab99cd24-bab0-4b94-8599-23f5ff56dd09"
      },
      "source": [
        "x_test[10]"
      ],
      "execution_count": 10,
      "outputs": [
        {
          "output_type": "execute_result",
          "data": {
            "text/plain": [
              "array([2.2876e-01, 0.0000e+00, 8.5600e+00, 0.0000e+00, 5.2000e-01,\n",
              "       6.4050e+00, 8.5400e+01, 2.7147e+00, 5.0000e+00, 3.8400e+02,\n",
              "       2.0900e+01, 7.0800e+01, 1.0630e+01])"
            ]
          },
          "metadata": {
            "tags": []
          },
          "execution_count": 10
        }
      ]
    },
    {
      "cell_type": "code",
      "metadata": {
        "colab": {
          "base_uri": "https://localhost:8080/"
        },
        "id": "-wsPIdx_xFk1",
        "outputId": "dbb29f71-1e2c-4219-f55e-b4fa1ed9a3ad"
      },
      "source": [
        "model.predict([[2.2876e-01, 0.0000e+00, 8.5600e+00, 0.0000e+00, 5.2000e-01,\n",
        "       6.4050e+00, 8.5400e+01, 2.7147e+00, 5.0000e+00, 3.8400e+02,\n",
        "       2.0900e+01, 7.0800e+01, 1.0630e+01]])"
      ],
      "execution_count": 11,
      "outputs": [
        {
          "output_type": "execute_result",
          "data": {
            "text/plain": [
              "array([[20.752325]], dtype=float32)"
            ]
          },
          "metadata": {
            "tags": []
          },
          "execution_count": 11
        }
      ]
    },
    {
      "cell_type": "code",
      "metadata": {
        "id": "lEqyiB5Mxk8m"
      },
      "source": [
        ""
      ],
      "execution_count": 11,
      "outputs": []
    }
  ]
}